{
 "cells": [
  {
   "cell_type": "code",
   "execution_count": 25,
   "metadata": {},
   "outputs": [],
   "source": [
    "import matplotlib.pyplot as plt\n",
    "import os\n",
    "import cv2\n",
    "import numpy as np\n",
    "import pandas as pd\n",
    "\n",
    "# We import the data set from tensorflow and build the model there\n",
    "import tensorflow as tf\n",
    "from tensorflow.keras import layers, models\n",
    "from keras.utils import np_utils"
   ]
  },
  {
   "cell_type": "code",
   "execution_count": 2,
   "metadata": {},
   "outputs": [
    {
     "name": "stdout",
     "output_type": "stream",
     "text": [
      "c:\\Users\\wamik\\Documents\\Notes Y4S2\\CS3244\\Projects\\Project 2\\CS3244-Group-8-Project-2\\Distracted Driver Dataset\\Combined\\test\\c0\n",
      "346\n",
      "c:\\Users\\wamik\\Documents\\Notes Y4S2\\CS3244\\Projects\\Project 2\\CS3244-Group-8-Project-2\\Distracted Driver Dataset\\Combined\\test\\c1\n",
      "393\n",
      "c:\\Users\\wamik\\Documents\\Notes Y4S2\\CS3244\\Projects\\Project 2\\CS3244-Group-8-Project-2\\Distracted Driver Dataset\\Combined\\test\\c2\n",
      "364\n",
      "c:\\Users\\wamik\\Documents\\Notes Y4S2\\CS3244\\Projects\\Project 2\\CS3244-Group-8-Project-2\\Distracted Driver Dataset\\Combined\\test\\c3\n",
      "170\n",
      "c:\\Users\\wamik\\Documents\\Notes Y4S2\\CS3244\\Projects\\Project 2\\CS3244-Group-8-Project-2\\Distracted Driver Dataset\\Combined\\test\\c4\n",
      "143\n",
      "c:\\Users\\wamik\\Documents\\Notes Y4S2\\CS3244\\Projects\\Project 2\\CS3244-Group-8-Project-2\\Distracted Driver Dataset\\Combined\\test\\c5\n",
      "143\n",
      "c:\\Users\\wamik\\Documents\\Notes Y4S2\\CS3244\\Projects\\Project 2\\CS3244-Group-8-Project-2\\Distracted Driver Dataset\\Combined\\test\\c6\n",
      "146\n",
      "c:\\Users\\wamik\\Documents\\Notes Y4S2\\CS3244\\Projects\\Project 2\\CS3244-Group-8-Project-2\\Distracted Driver Dataset\\Combined\\test\\c7\n",
      "218\n",
      "c:\\Users\\wamik\\Documents\\Notes Y4S2\\CS3244\\Projects\\Project 2\\CS3244-Group-8-Project-2\\Distracted Driver Dataset\\Combined\\train\\c0\n",
      "2640\n",
      "c:\\Users\\wamik\\Documents\\Notes Y4S2\\CS3244\\Projects\\Project 2\\CS3244-Group-8-Project-2\\Distracted Driver Dataset\\Combined\\train\\c1\n",
      "2449\n",
      "c:\\Users\\wamik\\Documents\\Notes Y4S2\\CS3244\\Projects\\Project 2\\CS3244-Group-8-Project-2\\Distracted Driver Dataset\\Combined\\train\\c2\n",
      "2212\n",
      "c:\\Users\\wamik\\Documents\\Notes Y4S2\\CS3244\\Projects\\Project 2\\CS3244-Group-8-Project-2\\Distracted Driver Dataset\\Combined\\train\\c3\n",
      "953\n",
      "c:\\Users\\wamik\\Documents\\Notes Y4S2\\CS3244\\Projects\\Project 2\\CS3244-Group-8-Project-2\\Distracted Driver Dataset\\Combined\\train\\c4\n",
      "933\n",
      "c:\\Users\\wamik\\Documents\\Notes Y4S2\\CS3244\\Projects\\Project 2\\CS3244-Group-8-Project-2\\Distracted Driver Dataset\\Combined\\train\\c5\n",
      "891\n",
      "c:\\Users\\wamik\\Documents\\Notes Y4S2\\CS3244\\Projects\\Project 2\\CS3244-Group-8-Project-2\\Distracted Driver Dataset\\Combined\\train\\c6\n",
      "898\n",
      "c:\\Users\\wamik\\Documents\\Notes Y4S2\\CS3244\\Projects\\Project 2\\CS3244-Group-8-Project-2\\Distracted Driver Dataset\\Combined\\train\\c7\n",
      "1579\n"
     ]
    }
   ],
   "source": [
    "CLASS = [[\"c0\", \"Safe Driving\"], [\"c1\", \"Text\"], [\"c2\", \"Phone\"], \n",
    "         [\"c3\", \"Adjusting Radio\"], [\"c4\", \"Drinking\"], \n",
    "         [\"c5\", \"Reaching Behind\"], [\"c6\", \"Hair or Makeup\"], \n",
    "         [\"c7\", \"Talking to Passenger\"]]\n",
    "TEST_CLS = [os.path.join(os.getcwd(), \"Distracted Driver Dataset\", \"Combined\", \"test\", cls[0]) for cls in CLASS]\n",
    "TRAIN_CLS = [os.path.join(os.getcwd(), \"Distracted Driver Dataset\", \"Combined\", \"train\", cls[0]) for cls in CLASS]\n",
    "for cls_path in TEST_CLS:\n",
    "  print(cls_path)\n",
    "  print(len(os.listdir(cls_path)))\n",
    "for cls_path in TRAIN_CLS:\n",
    "  print(cls_path)\n",
    "  print(len(os.listdir(cls_path)))\n",
    "\n",
    "train_paths = []\n",
    "test_paths = []\n",
    "for cls in range(8):\n",
    "  for train_instance in os.listdir(TRAIN_CLS[cls]):\n",
    "    train_paths.append(os.path.join(TRAIN_CLS[cls], train_instance))\n",
    "  for test_instance in os.listdir(TEST_CLS[cls]):\n",
    "    test_paths.append(os.path.join(TEST_CLS[cls], test_instance))\n",
    "classes = []\n",
    "test_classes = []\n",
    "for cls in range(8):\n",
    "  for train_instance in os.listdir(TRAIN_CLS[cls]):\n",
    "    classes.append(cls)\n",
    "  for test_instance in os.listdir(TEST_CLS[cls]):\n",
    "    test_classes.append(cls)\n",
    "df = pd.DataFrame({\n",
    "  'filename': train_paths,\n",
    "  'class': classes\n",
    "})\n",
    "df_test = pd.DataFrame({\n",
    "  'filename': test_paths,\n",
    "  'class': test_classes\n",
    "})"
   ]
  },
  {
   "cell_type": "code",
   "execution_count": 12,
   "metadata": {},
   "outputs": [
    {
     "name": "stdout",
     "output_type": "stream",
     "text": [
      "Processed  135 images. Continuing...\n",
      "Processed  270 images. Continuing...\n",
      "Processed  405 images. Continuing...\n",
      "Processed  540 images. Continuing...\n",
      "Processed  675 images. Continuing...\n",
      "Processed  810 images. Continuing...\n",
      "Processed  945 images. Continuing...\n",
      "Processed  1080 images. Continuing...\n",
      "Processed  1215 images. Continuing...\n",
      "Processed  1350 images. Continuing...\n",
      "Processed  1485 images. Continuing...\n",
      "Processed  1620 images. Continuing...\n",
      "Processed  1755 images. Continuing...\n",
      "Processed  1890 images. Continuing...\n",
      "Processed  2025 images. Continuing...\n",
      "Processed  2160 images. Continuing...\n",
      "Processed  2295 images. Continuing...\n",
      "Processed  2430 images. Continuing...\n",
      "Processed  2565 images. Continuing...\n",
      "Processed  2700 images. Continuing...\n",
      "Processed  2835 images. Continuing...\n",
      "Processed  2970 images. Continuing...\n",
      "Processed  3105 images. Continuing...\n",
      "Processed  3240 images. Continuing...\n",
      "Processed  3375 images. Continuing...\n",
      "Processed  3510 images. Continuing...\n",
      "Processed  3645 images. Continuing...\n",
      "Processed  3780 images. Continuing...\n",
      "Processed  3915 images. Continuing...\n",
      "Processed  4050 images. Continuing...\n",
      "Processed  4185 images. Continuing...\n",
      "Processed  4320 images. Continuing...\n",
      "Processed  4455 images. Continuing...\n",
      "Processed  4590 images. Continuing...\n",
      "Processed  4725 images. Continuing...\n",
      "Processed  4860 images. Continuing...\n",
      "Processed  4995 images. Continuing...\n",
      "Processed  5130 images. Continuing...\n",
      "Processed  5265 images. Continuing...\n",
      "Processed  5400 images. Continuing...\n",
      "Processed  5535 images. Continuing...\n",
      "Processed  5670 images. Continuing...\n",
      "Processed  5805 images. Continuing...\n",
      "Processed  5940 images. Continuing...\n",
      "Processed  6075 images. Continuing...\n",
      "Processed  6210 images. Continuing...\n",
      "Processed  6345 images. Continuing...\n",
      "Processed  6480 images. Continuing...\n",
      "Processed  6615 images. Continuing...\n",
      "Processed  6750 images. Continuing...\n",
      "Processed  6885 images. Continuing...\n",
      "Processed  7020 images. Continuing...\n",
      "Processed  7155 images. Continuing...\n",
      "Processed  7290 images. Continuing...\n",
      "Processed  7425 images. Continuing...\n",
      "Processed  7560 images. Continuing...\n",
      "Processed  7695 images. Continuing...\n",
      "Processed  7830 images. Continuing...\n",
      "Processed  7965 images. Continuing...\n",
      "Processed  8100 images. Continuing...\n",
      "Processed  8235 images. Continuing...\n",
      "Processed  8370 images. Continuing...\n",
      "Processed  8505 images. Continuing...\n",
      "Processed  8640 images. Continuing...\n",
      "Processed  8775 images. Continuing...\n",
      "Processed  8910 images. Continuing...\n",
      "Processed  9045 images. Continuing...\n",
      "Processed  9180 images. Continuing...\n",
      "Processed  9315 images. Continuing...\n",
      "Processed  9450 images. Continuing...\n",
      "Processed  9585 images. Continuing...\n",
      "Processed  9720 images. Continuing...\n",
      "Processed  9855 images. Continuing...\n",
      "Processed  9990 images. Continuing...\n",
      "Processed  10125 images. Continuing...\n",
      "Processed  10260 images. Continuing...\n",
      "Processed  10395 images. Continuing...\n",
      "Processed  10530 images. Continuing...\n",
      "Processed  10665 images. Continuing...\n",
      "Processed  10800 images. Continuing...\n",
      "Processed  10935 images. Continuing...\n",
      "Processed  11070 images. Continuing...\n",
      "Processed  11205 images. Continuing...\n",
      "Processed  11340 images. Continuing...\n",
      "Processed  11475 images. Continuing...\n",
      "Processed  11610 images. Continuing...\n",
      "Processed  11745 images. Continuing...\n",
      "Processed  11880 images. Continuing...\n",
      "Processed  12015 images. Continuing...\n",
      "Processed  12150 images. Continuing...\n",
      "Processed  12285 images. Continuing...\n",
      "Processed  12420 images. Continuing...\n",
      "Processed  12555 images. Continuing...\n",
      "Done!\n"
     ]
    }
   ],
   "source": [
    "X_train_final = []\n",
    "Y_train = []\n",
    "for index, path in df.iterrows():\n",
    "    img_orig = cv2.imread(path[0], cv2.IMREAD_GRAYSCALE)\n",
    "    k = min(1.0, 1024/max(img_orig.shape[0], img_orig.shape[1]))\n",
    "    img = cv2.resize(img_orig, (64, 48), fx=k, fy=k, interpolation=cv2.INTER_LANCZOS4)\n",
    "    img = np.expand_dims(img, axis=2)\n",
    "    X_train_final.append(np.asarray(img/255))\n",
    "    Y_train.append(path[1])\n",
    "    if (index+1) % 135 == 0:\n",
    "        print(\"Processed \", index + 1, \"images. Continuing...\")\n",
    "\n",
    "print(\"Done!\")"
   ]
  },
  {
   "cell_type": "code",
   "execution_count": 13,
   "metadata": {},
   "outputs": [
    {
     "data": {
      "text/plain": [
       "(12555, 48, 64, 1)"
      ]
     },
     "execution_count": 13,
     "metadata": {},
     "output_type": "execute_result"
    }
   ],
   "source": [
    "X_train_final = np.asarray(X_train_final)\n",
    "X_train_final.shape"
   ]
  },
  {
   "cell_type": "code",
   "execution_count": 27,
   "metadata": {},
   "outputs": [
    {
     "name": "stdout",
     "output_type": "stream",
     "text": [
      "New y_train shape:  (12555, 8)\n"
     ]
    },
    {
     "data": {
      "text/plain": [
       "(12555, 8)"
      ]
     },
     "execution_count": 27,
     "metadata": {},
     "output_type": "execute_result"
    }
   ],
   "source": [
    "Y_train = np.asarray(Y_train)\n",
    "Y_train = np_utils.to_categorical(Y_train, 8)\n",
    "print('New y_train shape: ', Y_train.shape)\n",
    "Y_train.shape"
   ]
  },
  {
   "cell_type": "code",
   "execution_count": 15,
   "metadata": {},
   "outputs": [
    {
     "name": "stdout",
     "output_type": "stream",
     "text": [
      "Processed  135 images. Continuing...\n",
      "Processed  270 images. Continuing...\n",
      "Processed  405 images. Continuing...\n",
      "Processed  540 images. Continuing...\n",
      "Processed  675 images. Continuing...\n",
      "Processed  810 images. Continuing...\n",
      "Processed  945 images. Continuing...\n",
      "Processed  1080 images. Continuing...\n",
      "Processed  1215 images. Continuing...\n",
      "Processed  1350 images. Continuing...\n",
      "Processed  1485 images. Continuing...\n",
      "Processed  1620 images. Continuing...\n",
      "Processed  1755 images. Continuing...\n",
      "Processed  1890 images. Continuing...\n",
      "Done!\n"
     ]
    }
   ],
   "source": [
    "X_test_processed = []\n",
    "Y_test = []\n",
    "for index, path in df_test.iterrows():\n",
    "    img_orig = cv2.imread(path[0], cv2.IMREAD_GRAYSCALE)\n",
    "    k = min(1.0, 1024/max(img_orig.shape[0], img_orig.shape[1]))\n",
    "    img = cv2.resize(img_orig, (64, 48), fx=k, fy=k, interpolation=cv2.INTER_LANCZOS4)\n",
    "    img = np.expand_dims(img, axis=2)\n",
    "    X_test_processed.append(np.asarray(img/255))\n",
    "    Y_test.append(path[1])\n",
    "    if (index+1) % 135 == 0:\n",
    "        print(\"Processed \", index + 1, \"images. Continuing...\")\n",
    "\n",
    "print(\"Done!\")"
   ]
  },
  {
   "cell_type": "code",
   "execution_count": 26,
   "metadata": {},
   "outputs": [
    {
     "name": "stdout",
     "output_type": "stream",
     "text": [
      "New y_train shape:  (1923, 8)\n"
     ]
    },
    {
     "data": {
      "text/plain": [
       "(1923, 8)"
      ]
     },
     "execution_count": 26,
     "metadata": {},
     "output_type": "execute_result"
    }
   ],
   "source": [
    "X_test_processed = np.asarray(X_test_processed)\n",
    "Y_test = np.asarray(Y_test)\n",
    "Y_test = np_utils.to_categorical(Y_test, 8)\n",
    "print('New y_train shape: ', Y_test.shape)\n",
    "Y_test.shape"
   ]
  },
  {
   "cell_type": "code",
   "execution_count": 33,
   "metadata": {},
   "outputs": [
    {
     "name": "stdout",
     "output_type": "stream",
     "text": [
      "Model: \"sequential_5\"\n",
      "_________________________________________________________________\n",
      " Layer (type)                Output Shape              Param #   \n",
      "=================================================================\n",
      " conv2d_15 (Conv2D)          (None, 46, 62, 32)        320       \n",
      "                                                                 \n",
      " max_pooling2d_10 (MaxPoolin  (None, 23, 31, 32)       0         \n",
      " g2D)                                                            \n",
      "                                                                 \n",
      " conv2d_16 (Conv2D)          (None, 21, 29, 64)        18496     \n",
      "                                                                 \n",
      " max_pooling2d_11 (MaxPoolin  (None, 10, 14, 64)       0         \n",
      " g2D)                                                            \n",
      "                                                                 \n",
      " conv2d_17 (Conv2D)          (None, 8, 12, 64)         36928     \n",
      "                                                                 \n",
      " global_average_pooling2d (G  (None, 64)               0         \n",
      " lobalAveragePooling2D)                                          \n",
      "                                                                 \n",
      " flatten_5 (Flatten)         (None, 64)                0         \n",
      "                                                                 \n",
      " dropout (Dropout)           (None, 64)                0         \n",
      "                                                                 \n",
      " dense_10 (Dense)            (None, 64)                4160      \n",
      "                                                                 \n",
      " dense_11 (Dense)            (None, 8)                 520       \n",
      "                                                                 \n",
      "=================================================================\n",
      "Total params: 60,424\n",
      "Trainable params: 60,424\n",
      "Non-trainable params: 0\n",
      "_________________________________________________________________\n"
     ]
    }
   ],
   "source": [
    "model = models.Sequential()\n",
    "model.add(layers.Conv2D(32, (3, 3), activation='relu', input_shape=(48, 64, 1)))\n",
    "model.add(layers.MaxPooling2D((2, 2)))\n",
    "model.add(layers.Conv2D(64, (3, 3), activation='relu'))\n",
    "model.add(layers.MaxPooling2D((2, 2)))\n",
    "model.add(layers.Conv2D(64, (3, 3), activation='relu'))\n",
    "model.add(layers.GlobalAveragePooling2D())\n",
    "model.add(layers.Flatten())\n",
    "model.add(layers.Dropout(0.3))\n",
    "model.add(layers.Dense(64, activation='relu'))\n",
    "model.add(layers.Dense(8, activation='softmax'))\n",
    "\n",
    "model.summary()"
   ]
  },
  {
   "cell_type": "code",
   "execution_count": 34,
   "metadata": {},
   "outputs": [
    {
     "name": "stdout",
     "output_type": "stream",
     "text": [
      "Epoch 1/30\n",
      "63/63 [==============================] - 6s 87ms/step - loss: 1.9928 - accuracy: 0.2008 - val_loss: 1.9899 - val_accuracy: 0.1799\n",
      "Epoch 2/30\n",
      "63/63 [==============================] - 5s 75ms/step - loss: 1.9713 - accuracy: 0.2074 - val_loss: 1.9942 - val_accuracy: 0.1799\n",
      "Epoch 3/30\n",
      "63/63 [==============================] - 5s 75ms/step - loss: 1.9556 - accuracy: 0.2117 - val_loss: 1.9837 - val_accuracy: 0.1716\n",
      "Epoch 4/30\n",
      "63/63 [==============================] - 5s 74ms/step - loss: 1.9295 - accuracy: 0.2330 - val_loss: 1.9683 - val_accuracy: 0.2122\n",
      "Epoch 5/30\n",
      "63/63 [==============================] - 5s 74ms/step - loss: 1.8907 - accuracy: 0.2577 - val_loss: 1.9831 - val_accuracy: 0.2179\n",
      "Epoch 6/30\n",
      "63/63 [==============================] - 5s 74ms/step - loss: 1.8488 - accuracy: 0.2744 - val_loss: 1.9991 - val_accuracy: 0.1841\n",
      "Epoch 7/30\n",
      "63/63 [==============================] - 5s 74ms/step - loss: 1.8021 - accuracy: 0.2957 - val_loss: 1.9812 - val_accuracy: 0.2179\n",
      "Epoch 8/30\n",
      "63/63 [==============================] - 5s 75ms/step - loss: 1.7474 - accuracy: 0.3137 - val_loss: 1.9685 - val_accuracy: 0.2741\n",
      "Epoch 9/30\n",
      "63/63 [==============================] - 5s 74ms/step - loss: 1.7127 - accuracy: 0.3329 - val_loss: 1.9250 - val_accuracy: 0.2241\n",
      "Epoch 10/30\n",
      "63/63 [==============================] - 5s 74ms/step - loss: 1.6522 - accuracy: 0.3662 - val_loss: 1.9218 - val_accuracy: 0.2637\n",
      "Epoch 11/30\n",
      "63/63 [==============================] - 5s 74ms/step - loss: 1.6130 - accuracy: 0.3699 - val_loss: 1.8628 - val_accuracy: 0.2689\n",
      "Epoch 12/30\n",
      "63/63 [==============================] - 5s 75ms/step - loss: 1.5524 - accuracy: 0.4014 - val_loss: 1.8613 - val_accuracy: 0.2813\n",
      "Epoch 13/30\n",
      "63/63 [==============================] - 5s 74ms/step - loss: 1.5097 - accuracy: 0.4206 - val_loss: 1.8572 - val_accuracy: 0.3276\n",
      "Epoch 14/30\n",
      "63/63 [==============================] - 5s 74ms/step - loss: 1.4545 - accuracy: 0.4435 - val_loss: 1.8567 - val_accuracy: 0.3084\n",
      "Epoch 15/30\n",
      "63/63 [==============================] - 5s 74ms/step - loss: 1.4325 - accuracy: 0.4534 - val_loss: 1.8160 - val_accuracy: 0.2923\n",
      "Epoch 16/30\n",
      "63/63 [==============================] - 5s 75ms/step - loss: 1.3964 - accuracy: 0.4726 - val_loss: 1.8453 - val_accuracy: 0.2876\n",
      "Epoch 17/30\n",
      "63/63 [==============================] - 5s 75ms/step - loss: 1.3456 - accuracy: 0.4912 - val_loss: 1.8209 - val_accuracy: 0.3203\n",
      "Epoch 18/30\n",
      "63/63 [==============================] - 5s 74ms/step - loss: 1.3191 - accuracy: 0.5040 - val_loss: 1.8909 - val_accuracy: 0.2938\n",
      "Epoch 19/30\n",
      "63/63 [==============================] - 5s 74ms/step - loss: 1.2816 - accuracy: 0.5221 - val_loss: 1.7982 - val_accuracy: 0.3339\n",
      "Epoch 20/30\n",
      "63/63 [==============================] - 5s 74ms/step - loss: 1.2476 - accuracy: 0.5335 - val_loss: 1.8112 - val_accuracy: 0.3287\n",
      "Epoch 21/30\n",
      "63/63 [==============================] - 5s 74ms/step - loss: 1.2065 - accuracy: 0.5550 - val_loss: 1.7762 - val_accuracy: 0.3151\n",
      "Epoch 22/30\n",
      "63/63 [==============================] - 5s 75ms/step - loss: 1.2073 - accuracy: 0.5549 - val_loss: 1.8433 - val_accuracy: 0.2720\n",
      "Epoch 23/30\n",
      "63/63 [==============================] - 5s 74ms/step - loss: 1.1546 - accuracy: 0.5764 - val_loss: 1.8198 - val_accuracy: 0.3307\n",
      "Epoch 24/30\n",
      "63/63 [==============================] - 5s 75ms/step - loss: 1.1212 - accuracy: 0.5922 - val_loss: 1.8357 - val_accuracy: 0.3370\n",
      "Epoch 25/30\n",
      "63/63 [==============================] - 5s 75ms/step - loss: 1.0812 - accuracy: 0.6106 - val_loss: 1.8122 - val_accuracy: 0.2907\n",
      "Epoch 26/30\n",
      "63/63 [==============================] - 5s 75ms/step - loss: 1.0557 - accuracy: 0.6132 - val_loss: 1.9260 - val_accuracy: 0.2819\n",
      "Epoch 27/30\n",
      "63/63 [==============================] - 5s 75ms/step - loss: 1.0258 - accuracy: 0.6263 - val_loss: 1.7704 - val_accuracy: 0.3313\n",
      "Epoch 28/30\n",
      "63/63 [==============================] - 5s 75ms/step - loss: 1.0047 - accuracy: 0.6349 - val_loss: 1.7847 - val_accuracy: 0.3692\n",
      "Epoch 29/30\n",
      "63/63 [==============================] - 5s 75ms/step - loss: 0.9872 - accuracy: 0.6515 - val_loss: 1.8724 - val_accuracy: 0.2928\n",
      "Epoch 30/30\n",
      "63/63 [==============================] - 5s 75ms/step - loss: 0.9586 - accuracy: 0.6530 - val_loss: 1.8999 - val_accuracy: 0.2949\n"
     ]
    }
   ],
   "source": [
    "import keras\n",
    "\n",
    "callbacks_list = [\n",
    "    keras.callbacks.EarlyStopping(monitor='accuracy', patience=2)\n",
    "]\n",
    "\n",
    "model.compile(loss='categorical_crossentropy',\n",
    "                optimizer='adam', metrics=['accuracy'])\n",
    "\n",
    "BATCH_SIZE = 200\n",
    "EPOCHS = 30\n",
    "\n",
    "history = model.fit(X_train_final, Y_train, epochs=EPOCHS, batch_size=BATCH_SIZE,callbacks=callbacks_list,\n",
    "                    validation_data=(X_test_processed, Y_test))"
   ]
  },
  {
   "cell_type": "code",
   "execution_count": 35,
   "metadata": {},
   "outputs": [
    {
     "data": {
      "image/png": "[encoded data removed]",
      "text/plain": [
       "<Figure size 432x288 with 1 Axes>"
      ]
     },
     "metadata": {
      "needs_background": "light"
     },
     "output_type": "display_data"
    }
   ],
   "source": [
    "# summarize history for accuracy and loss\n",
    "plt.figure(figsize=(6, 4))\n",
    "plt.plot(history.history['accuracy'], \"g--\", label=\"Accuracy of training data\")\n",
    "plt.plot(history.history['val_accuracy'], \"g\", label=\"Accuracy of validation data\")\n",
    "plt.plot(history.history['loss'], \"r--\", label=\"Loss of training data\")\n",
    "plt.plot(history.history['val_loss'], \"r\", label=\"Loss of validation data\")\n",
    "plt.title('Model Accuracy and Loss')\n",
    "plt.ylabel('Accuracy and Loss')\n",
    "plt.xlabel('Training Epoch')\n",
    "plt.ylim(0)\n",
    "plt.legend()\n",
    "plt.show()"
   ]
  }
 ],
 "metadata": {
  "kernelspec": {
   "display_name": "base",
   "language": "python",
   "name": "python3"
  },
  "language_info": {
   "codemirror_mode": {
    "name": "ipython",
    "version": 3
   },
   "file_extension": ".py",
   "mimetype": "text/x-python",
   "name": "python",
   "nbconvert_exporter": "python",
   "pygments_lexer": "ipython3",
   "version": "3.9.12"
  },
  "orig_nbformat": 4
 },
 "nbformat": 4,
 "nbformat_minor": 2
}
