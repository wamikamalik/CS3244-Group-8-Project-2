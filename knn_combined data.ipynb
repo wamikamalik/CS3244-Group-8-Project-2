{
 "cells": [
  {
   "attachments": {},
   "cell_type": "markdown",
   "metadata": {},
   "source": [
    "# Evidence of Reasonable Models - kNN\n",
    "\n",
    "We perform a set of experiments to see if the data is classifiable and can be differentiated in the catgories mentioned. In this file, we use the kNN classifier to study the data.\n",
    "\n",
    "The following sections present our process of extracting the combined dataset (combination of data done in data_preprocessing.ipynb) from the relvant train and test files. The train and test split has been pre-done by the providers of the dataset by manually filtering out data from certain drivers (not seen in the train set) as the test set. We sample out 1255 images from the train test consisting of 12555 images and use this randomly generated, label stratified sample for our experiments. The images are preporcessed to extract the figure of the driver and set all the surroundings to black. This preprocessed data is then fed into the model, hyperparameters are tuned and the final best model is tested against the test data. The results are presented as a classification report and a confusion matrix. "
   ]
  },
  {
   "cell_type": "code",
   "execution_count": 2,
   "metadata": {},
   "outputs": [
    {
     "name": "stderr",
     "output_type": "stream",
     "text": [
      "c:\\Users\\wamik\\miniconda3\\lib\\site-packages\\numpy\\_distributor_init.py:30: UserWarning: loaded more than 1 DLL from .libs:\n",
      "c:\\Users\\wamik\\miniconda3\\lib\\site-packages\\numpy\\.libs\\libopenblas.EL2C6PLE4ZYW3ECEVIV3OXXGRN2NRFM2.gfortran-win_amd64.dll\n",
      "c:\\Users\\wamik\\miniconda3\\lib\\site-packages\\numpy\\.libs\\libopenblas.FB5AE2TYXYH2IJRDKGDGQ3XBKLKTF43H.gfortran-win_amd64.dll\n",
      "  warnings.warn(\"loaded more than 1 DLL from .libs:\"\n"
     ]
    },
    {
     "data": {
      "text/plain": [
       "True"
      ]
     },
     "execution_count": 2,
     "metadata": {},
     "output_type": "execute_result"
    }
   ],
   "source": [
    "import os\n",
    "import cv2\n",
    "import numpy as np\n",
    "import pandas as pd\n",
    "import matplotlib.pyplot as plt\n",
    "from matplotlib import image\n",
    "from sklearn.neighbors import KNeighborsClassifier\n",
    "from sklearn.metrics import classification_report, get_scorer_names\n",
    "from sklearn.model_selection import train_test_split\n",
    "from sklearn.model_selection import GridSearchCV\n",
    "import torch\n",
    "from torchvision.models.segmentation import deeplabv3_resnet101, DeepLabV3_ResNet101_Weights\n",
    "from torchvision import transforms\n",
    "from sklearn.decomposition import PCA\n",
    "\n",
    "# If you do not have a GPU or do not want to run this code on your GPU, comment out the following lines\n",
    "torch.cuda.empty_cache()\n",
    "torch.cuda.is_available()"
   ]
  },
  {
   "attachments": {},
   "cell_type": "markdown",
   "metadata": {},
   "source": [
    "## Extracting the Data\n",
    "\n",
    "The images stored in the CombinedNew zip file are extracted into separate train and test set paths.\n",
    "\n",
    "Note: Please have the 'CombinedNew.zip' file in the same folder as this notebook."
   ]
  },
  {
   "attachments": {},
   "cell_type": "markdown",
   "metadata": {},
   "source": [
    "**Run the below cell only once**\n",
    "\n",
    "If you have the Combined New folder already extracted skip to the next cell."
   ]
  },
  {
   "cell_type": "code",
   "execution_count": 4,
   "metadata": {},
   "outputs": [],
   "source": [
    "from zipfile import ZipFile\n",
    "password = \"57Rk!F8yUz38\"\n",
    "with ZipFile('CombinedNew.zip') as zipObj:\n",
    "  zipObj.extractall(pwd=bytes(password, 'utf-8'))"
   ]
  },
  {
   "cell_type": "code",
   "execution_count": 5,
   "metadata": {},
   "outputs": [
    {
     "data": {
      "text/plain": [
       "'c:\\\\Users\\\\wamik\\\\Documents\\\\Notes Y4S2\\\\CS3244\\\\Projects\\\\Project 2\\\\CS3244-Group-8-Project-2\\\\Combined New\\\\train'"
      ]
     },
     "execution_count": 5,
     "metadata": {},
     "output_type": "execute_result"
    }
   ],
   "source": [
    "PARENT_PATH = os.getcwd()\n",
    "DATA_PATH = os.path.join(os.getcwd(), \"Combined New\")\n",
    "TEST_PATH = os.path.join(DATA_PATH, \"test\")\n",
    "TRAIN_PATH = os.path.join(DATA_PATH, \"train\")\n",
    "UNSEEN_PATH = os.path.join(DATA_PATH, \"unseen\")\n",
    "NUM_CLASSES = 8\n",
    "TRAIN_PATH"
   ]
  },
  {
   "cell_type": "code",
   "execution_count": 6,
   "metadata": {},
   "outputs": [
    {
     "name": "stdout",
     "output_type": "stream",
     "text": [
      "c:\\Users\\wamik\\Documents\\Notes Y4S2\\CS3244\\Projects\\Project 2\\CS3244-Group-8-Project-2\\Combined New\\test\\c0\n",
      "711\n",
      "c:\\Users\\wamik\\Documents\\Notes Y4S2\\CS3244\\Projects\\Project 2\\CS3244-Group-8-Project-2\\Combined New\\test\\c1\n",
      "667\n",
      "c:\\Users\\wamik\\Documents\\Notes Y4S2\\CS3244\\Projects\\Project 2\\CS3244-Group-8-Project-2\\Combined New\\test\\c2\n",
      "602\n",
      "c:\\Users\\wamik\\Documents\\Notes Y4S2\\CS3244\\Projects\\Project 2\\CS3244-Group-8-Project-2\\Combined New\\test\\c3\n",
      "264\n",
      "c:\\Users\\wamik\\Documents\\Notes Y4S2\\CS3244\\Projects\\Project 2\\CS3244-Group-8-Project-2\\Combined New\\test\\c4\n",
      "255\n",
      "c:\\Users\\wamik\\Documents\\Notes Y4S2\\CS3244\\Projects\\Project 2\\CS3244-Group-8-Project-2\\Combined New\\test\\c5\n",
      "243\n",
      "c:\\Users\\wamik\\Documents\\Notes Y4S2\\CS3244\\Projects\\Project 2\\CS3244-Group-8-Project-2\\Combined New\\test\\c6\n",
      "242\n",
      "c:\\Users\\wamik\\Documents\\Notes Y4S2\\CS3244\\Projects\\Project 2\\CS3244-Group-8-Project-2\\Combined New\\test\\c7\n",
      "430\n",
      "c:\\Users\\wamik\\Documents\\Notes Y4S2\\CS3244\\Projects\\Project 2\\CS3244-Group-8-Project-2\\Combined New\\train\\c0\n",
      "2131\n",
      "c:\\Users\\wamik\\Documents\\Notes Y4S2\\CS3244\\Projects\\Project 2\\CS3244-Group-8-Project-2\\Combined New\\train\\c1\n",
      "2000\n",
      "c:\\Users\\wamik\\Documents\\Notes Y4S2\\CS3244\\Projects\\Project 2\\CS3244-Group-8-Project-2\\Combined New\\train\\c2\n",
      "1805\n",
      "c:\\Users\\wamik\\Documents\\Notes Y4S2\\CS3244\\Projects\\Project 2\\CS3244-Group-8-Project-2\\Combined New\\train\\c3\n",
      "791\n",
      "c:\\Users\\wamik\\Documents\\Notes Y4S2\\CS3244\\Projects\\Project 2\\CS3244-Group-8-Project-2\\Combined New\\train\\c4\n",
      "762\n",
      "c:\\Users\\wamik\\Documents\\Notes Y4S2\\CS3244\\Projects\\Project 2\\CS3244-Group-8-Project-2\\Combined New\\train\\c5\n",
      "726\n",
      "c:\\Users\\wamik\\Documents\\Notes Y4S2\\CS3244\\Projects\\Project 2\\CS3244-Group-8-Project-2\\Combined New\\train\\c6\n",
      "723\n",
      "c:\\Users\\wamik\\Documents\\Notes Y4S2\\CS3244\\Projects\\Project 2\\CS3244-Group-8-Project-2\\Combined New\\train\\c7\n",
      "1287\n"
     ]
    }
   ],
   "source": [
    "CLASS = [[\"c0\", \"Safe Driving\"], [\"c1\", \"Text\"], [\"c2\", \"Phone\"], \n",
    "         [\"c3\", \"Adjusting Radio\"], [\"c4\", \"Drinking\"], \n",
    "         [\"c5\", \"Reaching Behind\"], [\"c6\", \"Hair or Makeup\"], \n",
    "         [\"c7\", \"Talking to Passenger\"]]\n",
    "TEST_CLS = [os.path.join(os.getcwd(), TEST_PATH, cls[0]) for cls in CLASS]\n",
    "TRAIN_CLS = [os.path.join(os.getcwd(), TRAIN_PATH, cls[0]) for cls in CLASS]\n",
    "for cls_path in TEST_CLS:\n",
    "  print(cls_path)\n",
    "  print(len(os.listdir(cls_path)))\n",
    "for cls_path in TRAIN_CLS:\n",
    "  print(cls_path)\n",
    "  print(len(os.listdir(cls_path)))"
   ]
  },
  {
   "attachments": {},
   "cell_type": "markdown",
   "metadata": {},
   "source": [
    "For each class, the path of the training and test data is stored in separate lists. The corresponding labels are also stored in a different list"
   ]
  },
  {
   "cell_type": "code",
   "execution_count": 7,
   "metadata": {},
   "outputs": [],
   "source": [
    "train_paths = []\n",
    "test_paths = []\n",
    "for cls in range(NUM_CLASSES):\n",
    "  for train_instance in os.listdir(TRAIN_CLS[cls]):\n",
    "    train_paths.append(os.path.join(TRAIN_CLS[cls], train_instance))\n",
    "  for test_instance in os.listdir(TEST_CLS[cls]):\n",
    "    test_paths.append(os.path.join(TEST_CLS[cls], test_instance))"
   ]
  },
  {
   "cell_type": "code",
   "execution_count": 8,
   "metadata": {},
   "outputs": [],
   "source": [
    "classes = []\n",
    "test_classes = []\n",
    "for cls in range(NUM_CLASSES):\n",
    "  for train_instance in os.listdir(TRAIN_CLS[cls]):\n",
    "    classes.append(cls)\n",
    "  for test_instance in os.listdir(TEST_CLS[cls]):\n",
    "    test_classes.append(cls)"
   ]
  },
  {
   "attachments": {},
   "cell_type": "markdown",
   "metadata": {},
   "source": [
    "Then separate dataframes storing the train and test paths with their corresponding labels are created."
   ]
  },
  {
   "cell_type": "code",
   "execution_count": 9,
   "metadata": {},
   "outputs": [
    {
     "data": {
      "text/html": [
       "<div>\n",
       "<style scoped>\n",
       "    .dataframe tbody tr th:only-of-type {\n",
       "        vertical-align: middle;\n",
       "    }\n",
       "\n",
       "    .dataframe tbody tr th {\n",
       "        vertical-align: top;\n",
       "    }\n",
       "\n",
       "    .dataframe thead th {\n",
       "        text-align: right;\n",
       "    }\n",
       "</style>\n",
       "<table border=\"1\" class=\"dataframe\">\n",
       "  <thead>\n",
       "    <tr style=\"text-align: right;\">\n",
       "      <th></th>\n",
       "      <th>filename</th>\n",
       "      <th>class</th>\n",
       "    </tr>\n",
       "  </thead>\n",
       "  <tbody>\n",
       "    <tr>\n",
       "      <th>0</th>\n",
       "      <td>c:\\Users\\wamik\\Documents\\Notes Y4S2\\CS3244\\Pro...</td>\n",
       "      <td>0</td>\n",
       "    </tr>\n",
       "    <tr>\n",
       "      <th>1</th>\n",
       "      <td>c:\\Users\\wamik\\Documents\\Notes Y4S2\\CS3244\\Pro...</td>\n",
       "      <td>0</td>\n",
       "    </tr>\n",
       "    <tr>\n",
       "      <th>2</th>\n",
       "      <td>c:\\Users\\wamik\\Documents\\Notes Y4S2\\CS3244\\Pro...</td>\n",
       "      <td>0</td>\n",
       "    </tr>\n",
       "    <tr>\n",
       "      <th>3</th>\n",
       "      <td>c:\\Users\\wamik\\Documents\\Notes Y4S2\\CS3244\\Pro...</td>\n",
       "      <td>0</td>\n",
       "    </tr>\n",
       "    <tr>\n",
       "      <th>4</th>\n",
       "      <td>c:\\Users\\wamik\\Documents\\Notes Y4S2\\CS3244\\Pro...</td>\n",
       "      <td>0</td>\n",
       "    </tr>\n",
       "    <tr>\n",
       "      <th>...</th>\n",
       "      <td>...</td>\n",
       "      <td>...</td>\n",
       "    </tr>\n",
       "    <tr>\n",
       "      <th>10220</th>\n",
       "      <td>c:\\Users\\wamik\\Documents\\Notes Y4S2\\CS3244\\Pro...</td>\n",
       "      <td>7</td>\n",
       "    </tr>\n",
       "    <tr>\n",
       "      <th>10221</th>\n",
       "      <td>c:\\Users\\wamik\\Documents\\Notes Y4S2\\CS3244\\Pro...</td>\n",
       "      <td>7</td>\n",
       "    </tr>\n",
       "    <tr>\n",
       "      <th>10222</th>\n",
       "      <td>c:\\Users\\wamik\\Documents\\Notes Y4S2\\CS3244\\Pro...</td>\n",
       "      <td>7</td>\n",
       "    </tr>\n",
       "    <tr>\n",
       "      <th>10223</th>\n",
       "      <td>c:\\Users\\wamik\\Documents\\Notes Y4S2\\CS3244\\Pro...</td>\n",
       "      <td>7</td>\n",
       "    </tr>\n",
       "    <tr>\n",
       "      <th>10224</th>\n",
       "      <td>c:\\Users\\wamik\\Documents\\Notes Y4S2\\CS3244\\Pro...</td>\n",
       "      <td>7</td>\n",
       "    </tr>\n",
       "  </tbody>\n",
       "</table>\n",
       "<p>10225 rows × 2 columns</p>\n",
       "</div>"
      ],
      "text/plain": [
       "                                                filename  class\n",
       "0      c:\\Users\\wamik\\Documents\\Notes Y4S2\\CS3244\\Pro...      0\n",
       "1      c:\\Users\\wamik\\Documents\\Notes Y4S2\\CS3244\\Pro...      0\n",
       "2      c:\\Users\\wamik\\Documents\\Notes Y4S2\\CS3244\\Pro...      0\n",
       "3      c:\\Users\\wamik\\Documents\\Notes Y4S2\\CS3244\\Pro...      0\n",
       "4      c:\\Users\\wamik\\Documents\\Notes Y4S2\\CS3244\\Pro...      0\n",
       "...                                                  ...    ...\n",
       "10220  c:\\Users\\wamik\\Documents\\Notes Y4S2\\CS3244\\Pro...      7\n",
       "10221  c:\\Users\\wamik\\Documents\\Notes Y4S2\\CS3244\\Pro...      7\n",
       "10222  c:\\Users\\wamik\\Documents\\Notes Y4S2\\CS3244\\Pro...      7\n",
       "10223  c:\\Users\\wamik\\Documents\\Notes Y4S2\\CS3244\\Pro...      7\n",
       "10224  c:\\Users\\wamik\\Documents\\Notes Y4S2\\CS3244\\Pro...      7\n",
       "\n",
       "[10225 rows x 2 columns]"
      ]
     },
     "execution_count": 9,
     "metadata": {},
     "output_type": "execute_result"
    }
   ],
   "source": [
    "df = pd.DataFrame({\n",
    "  'filename': train_paths,\n",
    "  'class': classes\n",
    "})\n",
    "df"
   ]
  },
  {
   "cell_type": "code",
   "execution_count": 10,
   "metadata": {},
   "outputs": [
    {
     "data": {
      "text/html": [
       "<div>\n",
       "<style scoped>\n",
       "    .dataframe tbody tr th:only-of-type {\n",
       "        vertical-align: middle;\n",
       "    }\n",
       "\n",
       "    .dataframe tbody tr th {\n",
       "        vertical-align: top;\n",
       "    }\n",
       "\n",
       "    .dataframe thead th {\n",
       "        text-align: right;\n",
       "    }\n",
       "</style>\n",
       "<table border=\"1\" class=\"dataframe\">\n",
       "  <thead>\n",
       "    <tr style=\"text-align: right;\">\n",
       "      <th></th>\n",
       "      <th>filename</th>\n",
       "      <th>class</th>\n",
       "    </tr>\n",
       "  </thead>\n",
       "  <tbody>\n",
       "    <tr>\n",
       "      <th>0</th>\n",
       "      <td>c:\\Users\\wamik\\Documents\\Notes Y4S2\\CS3244\\Pro...</td>\n",
       "      <td>0</td>\n",
       "    </tr>\n",
       "    <tr>\n",
       "      <th>1</th>\n",
       "      <td>c:\\Users\\wamik\\Documents\\Notes Y4S2\\CS3244\\Pro...</td>\n",
       "      <td>0</td>\n",
       "    </tr>\n",
       "    <tr>\n",
       "      <th>2</th>\n",
       "      <td>c:\\Users\\wamik\\Documents\\Notes Y4S2\\CS3244\\Pro...</td>\n",
       "      <td>0</td>\n",
       "    </tr>\n",
       "    <tr>\n",
       "      <th>3</th>\n",
       "      <td>c:\\Users\\wamik\\Documents\\Notes Y4S2\\CS3244\\Pro...</td>\n",
       "      <td>0</td>\n",
       "    </tr>\n",
       "    <tr>\n",
       "      <th>4</th>\n",
       "      <td>c:\\Users\\wamik\\Documents\\Notes Y4S2\\CS3244\\Pro...</td>\n",
       "      <td>0</td>\n",
       "    </tr>\n",
       "    <tr>\n",
       "      <th>...</th>\n",
       "      <td>...</td>\n",
       "      <td>...</td>\n",
       "    </tr>\n",
       "    <tr>\n",
       "      <th>3409</th>\n",
       "      <td>c:\\Users\\wamik\\Documents\\Notes Y4S2\\CS3244\\Pro...</td>\n",
       "      <td>7</td>\n",
       "    </tr>\n",
       "    <tr>\n",
       "      <th>3410</th>\n",
       "      <td>c:\\Users\\wamik\\Documents\\Notes Y4S2\\CS3244\\Pro...</td>\n",
       "      <td>7</td>\n",
       "    </tr>\n",
       "    <tr>\n",
       "      <th>3411</th>\n",
       "      <td>c:\\Users\\wamik\\Documents\\Notes Y4S2\\CS3244\\Pro...</td>\n",
       "      <td>7</td>\n",
       "    </tr>\n",
       "    <tr>\n",
       "      <th>3412</th>\n",
       "      <td>c:\\Users\\wamik\\Documents\\Notes Y4S2\\CS3244\\Pro...</td>\n",
       "      <td>7</td>\n",
       "    </tr>\n",
       "    <tr>\n",
       "      <th>3413</th>\n",
       "      <td>c:\\Users\\wamik\\Documents\\Notes Y4S2\\CS3244\\Pro...</td>\n",
       "      <td>7</td>\n",
       "    </tr>\n",
       "  </tbody>\n",
       "</table>\n",
       "<p>3414 rows × 2 columns</p>\n",
       "</div>"
      ],
      "text/plain": [
       "                                               filename  class\n",
       "0     c:\\Users\\wamik\\Documents\\Notes Y4S2\\CS3244\\Pro...      0\n",
       "1     c:\\Users\\wamik\\Documents\\Notes Y4S2\\CS3244\\Pro...      0\n",
       "2     c:\\Users\\wamik\\Documents\\Notes Y4S2\\CS3244\\Pro...      0\n",
       "3     c:\\Users\\wamik\\Documents\\Notes Y4S2\\CS3244\\Pro...      0\n",
       "4     c:\\Users\\wamik\\Documents\\Notes Y4S2\\CS3244\\Pro...      0\n",
       "...                                                 ...    ...\n",
       "3409  c:\\Users\\wamik\\Documents\\Notes Y4S2\\CS3244\\Pro...      7\n",
       "3410  c:\\Users\\wamik\\Documents\\Notes Y4S2\\CS3244\\Pro...      7\n",
       "3411  c:\\Users\\wamik\\Documents\\Notes Y4S2\\CS3244\\Pro...      7\n",
       "3412  c:\\Users\\wamik\\Documents\\Notes Y4S2\\CS3244\\Pro...      7\n",
       "3413  c:\\Users\\wamik\\Documents\\Notes Y4S2\\CS3244\\Pro...      7\n",
       "\n",
       "[3414 rows x 2 columns]"
      ]
     },
     "execution_count": 10,
     "metadata": {},
     "output_type": "execute_result"
    }
   ],
   "source": [
    "df_test = pd.DataFrame({\n",
    "  'filename': test_paths,\n",
    "  'class': test_classes\n",
    "})\n",
    "df_test"
   ]
  },
  {
   "attachments": {},
   "cell_type": "markdown",
   "metadata": {},
   "source": [
    "The below plots show us the frequency of each class in the dataset. As can be seen from the plots, the dataset is not balanced. Keeping this in mind, we use evaluation metrics like recall and precision along with accuracy to get better insights on performance."
   ]
  },
  {
   "cell_type": "code",
   "execution_count": 11,
   "metadata": {},
   "outputs": [
    {
     "data": {
      "text/plain": [
       "<AxesSubplot:>"
      ]
     },
     "execution_count": 11,
     "metadata": {},
     "output_type": "execute_result"
    },
    {
     "data": {
      "image/png": "[encoded data removed]",
      "text/plain": [
       "<Figure size 432x288 with 1 Axes>"
      ]
     },
     "metadata": {
      "needs_background": "light"
     },
     "output_type": "display_data"
    }
   ],
   "source": [
    "df['class'].value_counts().plot.bar()"
   ]
  },
  {
   "cell_type": "code",
   "execution_count": 12,
   "metadata": {},
   "outputs": [
    {
     "data": {
      "text/plain": [
       "<AxesSubplot:>"
      ]
     },
     "execution_count": 12,
     "metadata": {},
     "output_type": "execute_result"
    },
    {
     "data": {
      "image/png": "[encoded data removed]",
      "text/plain": [
       "<Figure size 432x288 with 1 Axes>"
      ]
     },
     "metadata": {
      "needs_background": "light"
     },
     "output_type": "display_data"
    }
   ],
   "source": [
    "df_test['class'].value_counts().plot.bar()"
   ]
  },
  {
   "cell_type": "code",
   "execution_count": 13,
   "metadata": {},
   "outputs": [
    {
     "data": {
      "text/html": [
       "<div>\n",
       "<style scoped>\n",
       "    .dataframe tbody tr th:only-of-type {\n",
       "        vertical-align: middle;\n",
       "    }\n",
       "\n",
       "    .dataframe tbody tr th {\n",
       "        vertical-align: top;\n",
       "    }\n",
       "\n",
       "    .dataframe thead th {\n",
       "        text-align: right;\n",
       "    }\n",
       "</style>\n",
       "<table border=\"1\" class=\"dataframe\">\n",
       "  <thead>\n",
       "    <tr style=\"text-align: right;\">\n",
       "      <th></th>\n",
       "      <th>filename</th>\n",
       "      <th>class</th>\n",
       "    </tr>\n",
       "  </thead>\n",
       "  <tbody>\n",
       "    <tr>\n",
       "      <th>0</th>\n",
       "      <td>c:\\Users\\wamik\\Documents\\Notes Y4S2\\CS3244\\Pro...</td>\n",
       "      <td>0</td>\n",
       "    </tr>\n",
       "    <tr>\n",
       "      <th>1</th>\n",
       "      <td>c:\\Users\\wamik\\Documents\\Notes Y4S2\\CS3244\\Pro...</td>\n",
       "      <td>0</td>\n",
       "    </tr>\n",
       "    <tr>\n",
       "      <th>2</th>\n",
       "      <td>c:\\Users\\wamik\\Documents\\Notes Y4S2\\CS3244\\Pro...</td>\n",
       "      <td>0</td>\n",
       "    </tr>\n",
       "    <tr>\n",
       "      <th>3</th>\n",
       "      <td>c:\\Users\\wamik\\Documents\\Notes Y4S2\\CS3244\\Pro...</td>\n",
       "      <td>0</td>\n",
       "    </tr>\n",
       "    <tr>\n",
       "      <th>4</th>\n",
       "      <td>c:\\Users\\wamik\\Documents\\Notes Y4S2\\CS3244\\Pro...</td>\n",
       "      <td>0</td>\n",
       "    </tr>\n",
       "    <tr>\n",
       "      <th>...</th>\n",
       "      <td>...</td>\n",
       "      <td>...</td>\n",
       "    </tr>\n",
       "    <tr>\n",
       "      <th>13634</th>\n",
       "      <td>c:\\Users\\wamik\\Documents\\Notes Y4S2\\CS3244\\Pro...</td>\n",
       "      <td>7</td>\n",
       "    </tr>\n",
       "    <tr>\n",
       "      <th>13635</th>\n",
       "      <td>c:\\Users\\wamik\\Documents\\Notes Y4S2\\CS3244\\Pro...</td>\n",
       "      <td>7</td>\n",
       "    </tr>\n",
       "    <tr>\n",
       "      <th>13636</th>\n",
       "      <td>c:\\Users\\wamik\\Documents\\Notes Y4S2\\CS3244\\Pro...</td>\n",
       "      <td>7</td>\n",
       "    </tr>\n",
       "    <tr>\n",
       "      <th>13637</th>\n",
       "      <td>c:\\Users\\wamik\\Documents\\Notes Y4S2\\CS3244\\Pro...</td>\n",
       "      <td>7</td>\n",
       "    </tr>\n",
       "    <tr>\n",
       "      <th>13638</th>\n",
       "      <td>c:\\Users\\wamik\\Documents\\Notes Y4S2\\CS3244\\Pro...</td>\n",
       "      <td>7</td>\n",
       "    </tr>\n",
       "  </tbody>\n",
       "</table>\n",
       "<p>13639 rows × 2 columns</p>\n",
       "</div>"
      ],
      "text/plain": [
       "                                                filename  class\n",
       "0      c:\\Users\\wamik\\Documents\\Notes Y4S2\\CS3244\\Pro...      0\n",
       "1      c:\\Users\\wamik\\Documents\\Notes Y4S2\\CS3244\\Pro...      0\n",
       "2      c:\\Users\\wamik\\Documents\\Notes Y4S2\\CS3244\\Pro...      0\n",
       "3      c:\\Users\\wamik\\Documents\\Notes Y4S2\\CS3244\\Pro...      0\n",
       "4      c:\\Users\\wamik\\Documents\\Notes Y4S2\\CS3244\\Pro...      0\n",
       "...                                                  ...    ...\n",
       "13634  c:\\Users\\wamik\\Documents\\Notes Y4S2\\CS3244\\Pro...      7\n",
       "13635  c:\\Users\\wamik\\Documents\\Notes Y4S2\\CS3244\\Pro...      7\n",
       "13636  c:\\Users\\wamik\\Documents\\Notes Y4S2\\CS3244\\Pro...      7\n",
       "13637  c:\\Users\\wamik\\Documents\\Notes Y4S2\\CS3244\\Pro...      7\n",
       "13638  c:\\Users\\wamik\\Documents\\Notes Y4S2\\CS3244\\Pro...      7\n",
       "\n",
       "[13639 rows x 2 columns]"
      ]
     },
     "execution_count": 13,
     "metadata": {},
     "output_type": "execute_result"
    }
   ],
   "source": [
    "df_all_data = pd.concat([df, df_test], ignore_index=True)\n",
    "df_all_data"
   ]
  },
  {
   "attachments": {},
   "cell_type": "markdown",
   "metadata": {},
   "source": [
    "## Data Preprocessing\n",
    "\n",
    "First, we convert the images from RGB to Gray and then perform appropriate resizing based on a calculated scale. \n",
    "\n",
    "**Note: The code in this section  needs to be run only once. If you already have \"processed_imgs.npy\", and \"labels.npy\", DO NOT run this section. Skip to [Loading Final Data](#loading-final-data)**"
   ]
  },
  {
   "attachments": {},
   "cell_type": "markdown",
   "metadata": {},
   "source": [
    "We now perform a similar process on all sets of the training data. Before doing so, we first convert the images into 2D pixels with the appropriate color to gray transformation and resizing. This is done so that the 1255 samples can be randomly selected using _train_test_split()_."
   ]
  },
  {
   "cell_type": "code",
   "execution_count": 14,
   "metadata": {},
   "outputs": [
    {
     "name": "stdout",
     "output_type": "stream",
     "text": [
      "Processed  135 images. Continuing...\n",
      "Processed  270 images. Continuing...\n",
      "Processed  405 images. Continuing...\n",
      "Processed  540 images. Continuing...\n",
      "Processed  675 images. Continuing...\n",
      "Processed  810 images. Continuing...\n",
      "Processed  945 images. Continuing...\n",
      "Processed  1080 images. Continuing...\n",
      "Processed  1215 images. Continuing...\n",
      "Processed  1350 images. Continuing...\n",
      "Processed  1485 images. Continuing...\n",
      "Processed  1620 images. Continuing...\n",
      "Processed  1755 images. Continuing...\n",
      "Processed  1890 images. Continuing...\n",
      "Processed  2025 images. Continuing...\n",
      "Processed  2160 images. Continuing...\n",
      "Processed  2295 images. Continuing...\n",
      "Processed  2430 images. Continuing...\n",
      "Processed  2565 images. Continuing...\n",
      "Processed  2700 images. Continuing...\n",
      "Processed  2835 images. Continuing...\n",
      "Processed  2970 images. Continuing...\n",
      "Processed  3105 images. Continuing...\n",
      "Processed  3240 images. Continuing...\n",
      "Processed  3375 images. Continuing...\n",
      "Processed  3510 images. Continuing...\n",
      "Processed  3645 images. Continuing...\n",
      "Processed  3780 images. Continuing...\n",
      "Processed  3915 images. Continuing...\n",
      "Processed  4050 images. Continuing...\n",
      "Processed  4185 images. Continuing...\n",
      "Processed  4320 images. Continuing...\n",
      "Processed  4455 images. Continuing...\n",
      "Processed  4590 images. Continuing...\n",
      "Processed  4725 images. Continuing...\n",
      "Processed  4860 images. Continuing...\n",
      "Processed  4995 images. Continuing...\n",
      "Processed  5130 images. Continuing...\n",
      "Processed  5265 images. Continuing...\n",
      "Processed  5400 images. Continuing...\n",
      "Processed  5535 images. Continuing...\n",
      "Processed  5670 images. Continuing...\n",
      "Processed  5805 images. Continuing...\n",
      "Processed  5940 images. Continuing...\n",
      "Processed  6075 images. Continuing...\n",
      "Processed  6210 images. Continuing...\n",
      "Processed  6345 images. Continuing...\n",
      "Processed  6480 images. Continuing...\n",
      "Processed  6615 images. Continuing...\n",
      "Processed  6750 images. Continuing...\n",
      "Processed  6885 images. Continuing...\n",
      "Processed  7020 images. Continuing...\n",
      "Processed  7155 images. Continuing...\n",
      "Processed  7290 images. Continuing...\n",
      "Processed  7425 images. Continuing...\n",
      "Processed  7560 images. Continuing...\n",
      "Processed  7695 images. Continuing...\n",
      "Processed  7830 images. Continuing...\n",
      "Processed  7965 images. Continuing...\n",
      "Processed  8100 images. Continuing...\n",
      "Processed  8235 images. Continuing...\n",
      "Processed  8370 images. Continuing...\n",
      "Processed  8505 images. Continuing...\n",
      "Processed  8640 images. Continuing...\n",
      "Processed  8775 images. Continuing...\n",
      "Processed  8910 images. Continuing...\n",
      "Processed  9045 images. Continuing...\n",
      "Processed  9180 images. Continuing...\n",
      "Processed  9315 images. Continuing...\n",
      "Processed  9450 images. Continuing...\n",
      "Processed  9585 images. Continuing...\n",
      "Processed  9720 images. Continuing...\n",
      "Processed  9855 images. Continuing...\n",
      "Processed  9990 images. Continuing...\n",
      "Processed  10125 images. Continuing...\n",
      "Done!\n"
     ]
    }
   ],
   "source": [
    "X_train_final = []\n",
    "Y_train = []\n",
    "for index, path in df.iterrows():\n",
    "    img_orig = cv2.imread(path[0], cv2.COLOR_RGB2GRAY)\n",
    "    k = min(1.0, 1024/max(img_orig.shape[0], img_orig.shape[1]))\n",
    "    img = cv2.resize(img_orig, (340, 210), fx=k, fy=k, interpolation=cv2.INTER_LANCZOS4)\n",
    "    if (index+1) % 135 == 0:\n",
    "        print(\"Processed \", index + 1, \"images. Continuing...\")\n",
    "    X_train_final.append(np.asarray(img))\n",
    "    Y_train.append(path[1])\n",
    "\n",
    "print(\"Done!\")"
   ]
  },
  {
   "cell_type": "code",
   "execution_count": 15,
   "metadata": {},
   "outputs": [
    {
     "name": "stdout",
     "output_type": "stream",
     "text": [
      "10225\n"
     ]
    }
   ],
   "source": [
    "print(len(Y_train))"
   ]
  },
  {
   "cell_type": "code",
   "execution_count": 16,
   "metadata": {},
   "outputs": [
    {
     "name": "stdout",
     "output_type": "stream",
     "text": [
      "(10225, 210, 340, 3)\n"
     ]
    }
   ],
   "source": [
    "data_arr = np.asarray(X_train_final)\n",
    "print(data_arr.shape)\n",
    "data_arr = data_arr.reshape(data_arr.shape[0], -1)\n",
    "labels_arr = np.asarray(Y_train)"
   ]
  },
  {
   "cell_type": "code",
   "execution_count": 18,
   "metadata": {},
   "outputs": [
    {
     "name": "stdout",
     "output_type": "stream",
     "text": [
      "(1022, 214200)\n",
      "(1022,)\n"
     ]
    }
   ],
   "source": [
    "(X_train, X_test, Y_train, Y_test) = train_test_split(data_arr, labels_arr, test_size=0.9, stratify=labels_arr, random_state=42)\n",
    "X_train = np.asarray(X_train)\n",
    "Y_train = np.asarray(Y_train)\n",
    "X_test = np.asarray(X_test)\n",
    "Y_test = np.asarray(Y_test)\n",
    "print(X_train.shape)\n",
    "print(Y_train.shape)"
   ]
  },
  {
   "attachments": {},
   "cell_type": "markdown",
   "metadata": {},
   "source": [
    "We reduce the dimensions of the data using Principal Component Analysis (PCA)."
   ]
  },
  {
   "cell_type": "code",
   "execution_count": 19,
   "metadata": {},
   "outputs": [],
   "source": [
    "pca_dims = PCA()\n",
    "pca_dims.fit(X_train)\n",
    "cumsum = np.cumsum(pca_dims.explained_variance_ratio_)\n",
    "d = np.argmax(cumsum >= 0.95) + 1"
   ]
  },
  {
   "cell_type": "code",
   "execution_count": 20,
   "metadata": {},
   "outputs": [
    {
     "data": {
      "text/plain": [
       "267"
      ]
     },
     "execution_count": 20,
     "metadata": {},
     "output_type": "execute_result"
    }
   ],
   "source": [
    "d"
   ]
  },
  {
   "cell_type": "code",
   "execution_count": 21,
   "metadata": {},
   "outputs": [],
   "source": [
    "pca = PCA(n_components=d)\n",
    "X_train_reduced = pca.fit_transform(X_train)"
   ]
  },
  {
   "cell_type": "code",
   "execution_count": 22,
   "metadata": {},
   "outputs": [],
   "source": [
    "np.save(\"Data/knn/processed_imgs.npy\", X_train_reduced)\n",
    "np.save(\"Data/knn/labels.npy\", Y_train)"
   ]
  },
  {
   "attachments": {},
   "cell_type": "markdown",
   "metadata": {},
   "source": [
    "## Loading Final Data\n",
    "\n",
    "Note: Ensure that the below files being loaded are in the same location as this notebook."
   ]
  },
  {
   "cell_type": "code",
   "execution_count": 23,
   "metadata": {},
   "outputs": [
    {
     "data": {
      "text/plain": [
       "(1022, 267)"
      ]
     },
     "execution_count": 23,
     "metadata": {},
     "output_type": "execute_result"
    }
   ],
   "source": [
    "Y_train = np.load(\"Data/knn/labels.npy\")\n",
    "X_train_final = np.load(\"Data/knn/processed_imgs.npy\")\n",
    "X_train_final.shape"
   ]
  },
  {
   "attachments": {},
   "cell_type": "markdown",
   "metadata": {},
   "source": [
    "## kNN Model\n",
    "\n",
    "We choose to do trial and error for choosing the best hyperparameters due to the nature of the data. The training set has drivers that the model has already seen, hence doing a validation split on the training set may result in overfitting to drivers' facial features."
   ]
  },
  {
   "cell_type": "code",
   "execution_count": 120,
   "metadata": {},
   "outputs": [],
   "source": [
    "# print(get_scorer_names())\n",
    "# parameters_knn = {'n_neighbors': range(5, 25), 'weights': ['uniform', 'distance'], 'metric': ['euclidean', 'chebyshev', 'manhattan']}\n",
    "\n",
    "# clf_knn = GridSearchCV(KNeighborsClassifier(), param_grid=parameters_knn, cv=5, n_jobs=-1, scoring=\"v_measure_score\", verbose=10)\n",
    "\n",
    "# clf_knn.fit(X=X_train_final, y=Y_train)\n",
    "\n",
    "# print (\"The best acc for KNN:\", clf_knn.best_score_ * 100, \"%, with\", clf_knn.best_params_) "
   ]
  },
  {
   "cell_type": "code",
   "execution_count": 24,
   "metadata": {},
   "outputs": [
    {
     "name": "stdout",
     "output_type": "stream",
     "text": [
      "[0 1 2 3 4 5 6 7]\n"
     ]
    }
   ],
   "source": [
    "clf_knn = KNeighborsClassifier(n_neighbors = 10, weights = 'distance')\n",
    "clf_knn.fit(X_train_final, Y_train)\n",
    "print(clf_knn.classes_)"
   ]
  },
  {
   "attachments": {},
   "cell_type": "markdown",
   "metadata": {},
   "source": [
    "## Performance Evaluation\n",
    "\n",
    "### Preparing Test Data\n",
    "\n",
    "Test data is prepared in the same manner as the training data. Run this section ONLY ONCE to generate the .npy files.\n",
    "\n",
    "**Note: if you have the \"test_data.npy\" and \"test_labels.npy\" files, DO NOT run this section, skip to [Evaluating Performance](#evaluating-performance) section.**"
   ]
  },
  {
   "cell_type": "code",
   "execution_count": 30,
   "metadata": {},
   "outputs": [
    {
     "name": "stdout",
     "output_type": "stream",
     "text": [
      "Processed  135 images. Continuing...\n",
      "Processed  270 images. Continuing...\n",
      "Processed  405 images. Continuing...\n",
      "Processed  540 images. Continuing...\n",
      "Processed  675 images. Continuing...\n",
      "Processed  810 images. Continuing...\n",
      "Processed  945 images. Continuing...\n",
      "Processed  1080 images. Continuing...\n",
      "Processed  1215 images. Continuing...\n",
      "Processed  1350 images. Continuing...\n",
      "Processed  1485 images. Continuing...\n",
      "Processed  1620 images. Continuing...\n",
      "Processed  1755 images. Continuing...\n",
      "Processed  1890 images. Continuing...\n",
      "Processed  2025 images. Continuing...\n",
      "Processed  2160 images. Continuing...\n",
      "Processed  2295 images. Continuing...\n",
      "Processed  2430 images. Continuing...\n",
      "Processed  2565 images. Continuing...\n",
      "Processed  2700 images. Continuing...\n",
      "Processed  2835 images. Continuing...\n",
      "Processed  2970 images. Continuing...\n",
      "Processed  3105 images. Continuing...\n",
      "Processed  3240 images. Continuing...\n",
      "Processed  3375 images. Continuing...\n",
      "Done!\n"
     ]
    }
   ],
   "source": [
    "X_test_processed = []\n",
    "Y_test = []\n",
    "for index, path in df_test.iterrows():\n",
    "    img_orig = cv2.imread(path[0], cv2.COLOR_RGB2GRAY)\n",
    "    if img_orig is not None:\n",
    "        k = min(1.0, 1024/max(img_orig.shape[0], img_orig.shape[1]))\n",
    "        img = cv2.resize(img_orig, (340, 210), fx=k, fy=k, interpolation=cv2.INTER_LANCZOS4)\n",
    "        if (index+1) % 135 == 0:\n",
    "            print(\"Processed \", index + 1, \"images. Continuing...\")\n",
    "        X_test_processed.append(np.asarray(img))\n",
    "        Y_test.append(path[1])\n",
    "\n",
    "print(\"Done!\")"
   ]
  },
  {
   "cell_type": "code",
   "execution_count": 32,
   "metadata": {},
   "outputs": [
    {
     "name": "stdout",
     "output_type": "stream",
     "text": [
      "(3413, 210, 340, 3)\n"
     ]
    }
   ],
   "source": [
    "tdata_arr = np.asarray(X_test_processed)\n",
    "print(tdata_arr.shape)\n",
    "tdata_arr = tdata_arr.reshape(tdata_arr.shape[0], -1)\n",
    "tlabels_arr = np.asarray(Y_test)"
   ]
  },
  {
   "cell_type": "code",
   "execution_count": 33,
   "metadata": {},
   "outputs": [
    {
     "name": "stdout",
     "output_type": "stream",
     "text": [
      "(342, 214200)\n",
      "(342,)\n"
     ]
    }
   ],
   "source": [
    "(X_train, X_test, Y_train, Y_test) = train_test_split(tdata_arr, tlabels_arr, test_size=0.1, stratify=tlabels_arr, random_state=42)\n",
    "X_test = np.asarray(X_test)\n",
    "Y_test = np.asarray(Y_test)\n",
    "print(X_test.shape)\n",
    "print(Y_test.shape)"
   ]
  },
  {
   "cell_type": "code",
   "execution_count": 34,
   "metadata": {},
   "outputs": [],
   "source": [
    "X_test_final = pca.transform(X_test)\n",
    "np.save(\"Data/knn/test_data.npy\", X_test_final)\n",
    "np.save(\"Data/knn/test_labels.npy\", Y_test)"
   ]
  },
  {
   "attachments": {},
   "cell_type": "markdown",
   "metadata": {},
   "source": [
    "### Evaluating Performance\n",
    "\n",
    "Since accuracy may not be the best indicator of model performance due to the imbalance in the dataset, we also use confusion matrix and classification report to further support our analysis.\n",
    "\n",
    "Note: Ensure that the below files being loaded are in the same location as this notebook."
   ]
  },
  {
   "cell_type": "code",
   "execution_count": 35,
   "metadata": {},
   "outputs": [
    {
     "data": {
      "text/plain": [
       "(342, 267)"
      ]
     },
     "execution_count": 35,
     "metadata": {},
     "output_type": "execute_result"
    }
   ],
   "source": [
    "X_test_processed = np.load(\"Data/knn/test_data.npy\")\n",
    "Y_test = np.load(\"Data/knn/test_labels.npy\")\n",
    "X_test_processed.shape"
   ]
  },
  {
   "cell_type": "code",
   "execution_count": 36,
   "metadata": {},
   "outputs": [
    {
     "name": "stdout",
     "output_type": "stream",
     "text": [
      "0.6345029239766082\n"
     ]
    }
   ],
   "source": [
    "print(clf_knn.score(X_test_processed, Y_test))\n",
    "predictions = clf_knn.predict(X_test_processed)"
   ]
  },
  {
   "cell_type": "code",
   "execution_count": 37,
   "metadata": {},
   "outputs": [],
   "source": [
    "Y_test_new = []\n",
    "for l in Y_test:\n",
    "    if l!=0:\n",
    "        Y_test_new.append(1)\n",
    "    else:\n",
    "        Y_test_new.append(0)\n",
    "predictions_new = []\n",
    "for pred in predictions:\n",
    "    if pred!=0:\n",
    "        predictions_new.append(1)\n",
    "    else:\n",
    "        predictions_new.append(0)"
   ]
  },
  {
   "cell_type": "code",
   "execution_count": 38,
   "metadata": {},
   "outputs": [
    {
     "name": "stdout",
     "output_type": "stream",
     "text": [
      "              precision    recall  f1-score   support\n",
      "\n",
      "           0       0.64      0.70      0.67        71\n",
      "           1       0.92      0.90      0.91       271\n",
      "\n",
      "    accuracy                           0.86       342\n",
      "   macro avg       0.78      0.80      0.79       342\n",
      "weighted avg       0.86      0.86      0.86       342\n",
      "\n"
     ]
    }
   ],
   "source": [
    "print(classification_report(Y_test_new, predictions_new))"
   ]
  },
  {
   "cell_type": "code",
   "execution_count": 39,
   "metadata": {},
   "outputs": [
    {
     "data": {
      "text/plain": [
       "<sklearn.metrics._plot.confusion_matrix.ConfusionMatrixDisplay at 0x2e913a211f0>"
      ]
     },
     "execution_count": 39,
     "metadata": {},
     "output_type": "execute_result"
    },
    {
     "data": {
      "image/png": "[encoded data removed]",
      "text/plain": [
       "<Figure size 432x288 with 2 Axes>"
      ]
     },
     "metadata": {
      "needs_background": "light"
     },
     "output_type": "display_data"
    }
   ],
   "source": [
    "from sklearn.metrics import ConfusionMatrixDisplay, confusion_matrix\n",
    "\n",
    "\n",
    "cm_knn = confusion_matrix(Y_test_new, predictions_new, labels=[0, 1])\n",
    "disp = ConfusionMatrixDisplay(confusion_matrix=cm_knn,\n",
    "                               display_labels=[0, 1])  \n",
    "disp.plot()"
   ]
  },
  {
   "cell_type": "code",
   "execution_count": 40,
   "metadata": {},
   "outputs": [
    {
     "name": "stdout",
     "output_type": "stream",
     "text": [
      "              precision    recall  f1-score   support\n",
      "\n",
      "           0       0.64      0.70      0.67        71\n",
      "           1       0.58      0.69      0.63        67\n",
      "           2       0.60      0.77      0.67        60\n",
      "           3       1.00      0.67      0.80        27\n",
      "           4       0.69      0.42      0.52        26\n",
      "           5       0.86      0.50      0.63        24\n",
      "           6       0.43      0.25      0.32        24\n",
      "           7       0.61      0.65      0.63        43\n",
      "\n",
      "    accuracy                           0.63       342\n",
      "   macro avg       0.68      0.58      0.61       342\n",
      "weighted avg       0.65      0.63      0.63       342\n",
      "\n"
     ]
    },
    {
     "data": {
      "text/plain": [
       "<sklearn.metrics._plot.confusion_matrix.ConfusionMatrixDisplay at 0x2e9118a39a0>"
      ]
     },
     "execution_count": 40,
     "metadata": {},
     "output_type": "execute_result"
    },
    {
     "data": {
      "image/png": "[encoded data removed]",
      "text/plain": [
       "<Figure size 432x288 with 2 Axes>"
      ]
     },
     "metadata": {
      "needs_background": "light"
     },
     "output_type": "display_data"
    }
   ],
   "source": [
    "print(classification_report(Y_test, predictions))\n",
    "cm_knn = confusion_matrix(Y_test, predictions, labels=clf_knn.classes_)\n",
    "disp = ConfusionMatrixDisplay(confusion_matrix=cm_knn,\n",
    "                               display_labels=clf_knn.classes_)  \n",
    "disp.plot()"
   ]
  }
 ],
 "metadata": {
  "kernelspec": {
   "display_name": "ml",
   "language": "python",
   "name": "python3"
  },
  "language_info": {
   "codemirror_mode": {
    "name": "ipython",
    "version": 3
   },
   "file_extension": ".py",
   "mimetype": "text/x-python",
   "name": "python",
   "nbconvert_exporter": "python",
   "pygments_lexer": "ipython3",
   "version": "3.9.12"
  },
  "orig_nbformat": 4
 },
 "nbformat": 4,
 "nbformat_minor": 2
}
