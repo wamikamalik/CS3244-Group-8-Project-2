{
 "cells": [
  {
   "cell_type": "code",
   "execution_count": 23,
   "id": "33992301",
   "metadata": {},
   "outputs": [
    {
     "data": {
      "text/plain": [
       "True"
      ]
     },
     "execution_count": 23,
     "metadata": {},
     "output_type": "execute_result"
    }
   ],
   "source": [
    "import argparse\n",
    "import json\n",
    "import os\n",
    "import cv2\n",
    "import numpy as np\n",
    "import matplotlib.pyplot as plt\n",
    "import scipy.io\n",
    "import pandas as pd\n",
    "import seaborn as sns\n",
    "import torch\n",
    "import torch.nn as nn\n",
    "import torch.nn.functional as F\n",
    "import torchvision\n",
    "import pytorch_lightning as pl\n",
    "from torchvision import transforms\n",
    "from torch.utils.data import Dataset, DataLoader, ConcatDataset\n",
    "from torchvision.utils import make_grid\n",
    "import keras\n",
    "from keras import datasets, layers, models\n",
    "from keras.utils import np_utils\n",
    "from sklearn.model_selection import train_test_split\n",
    "from sklearn.metrics import classification_report, get_scorer_names, precision_score, recall_score, f1_score\n",
    "from sklearn import metrics\n",
    "from PIL import Image, ImageDraw\n",
    "from tqdm import tqdm\n",
    "# We import the data set from tensorflow and build the model there\n",
    "import tensorflow as tf\n",
    "from tensorflow.keras import layers, models\n",
    "from tensorflow.keras.preprocessing.image import ImageDataGenerator\n",
    "\n",
    "# Import the inception model  \n",
    "from tensorflow.keras.applications.inception_v3 import InceptionV3\n",
    "\n",
    "import torch\n",
    "# If you do not have a GPU or do not want to run this code on your GPU, comment out the following lines\n",
    "torch.cuda.empty_cache()\n",
    "torch.cuda.is_available()"
   ]
  },
  {
   "attachments": {},
   "cell_type": "markdown",
   "id": "e00c7140",
   "metadata": {},
   "source": [
    "## Performing Hand Segmentation with a Pre-Trained Pytorch Model\n",
    "\n",
    "The below code is taken from: https://github.com/guglielmocamporese/hands-segmentation-pytorch"
   ]
  },
  {
   "cell_type": "code",
   "execution_count": 2,
   "id": "365fc3f4",
   "metadata": {},
   "outputs": [],
   "source": [
    "def meanIoU(logits, labels):\n",
    "    \"\"\"\n",
    "    Computes the mean intersection over union (mIoU).\n",
    "    \n",
    "    Args:\n",
    "        logits: tensor of shape [bs, c, h, w].\n",
    "        labels: tensor of shape [bs, h, w].\n",
    "    \n",
    "    Output:\n",
    "        miou: scalar.\n",
    "    \"\"\"\n",
    "    num_classes = logits.shape[1]\n",
    "    preds = F.softmax(logits, 1)\n",
    "    preds_oh = F.one_hot(preds.argmax(1), num_classes).permute(0, 3, 1, 2).to(torch.float32) # [bs, c, h, w] \n",
    "    labels_oh = F.one_hot(labels, num_classes).permute(0, 3, 1, 2).to(torch.float32) # [bs, c, h, w]\n",
    "    tps = (preds_oh * labels_oh).sum(-1).sum(-1) # true positives [bs, c]\n",
    "    fps = (preds_oh * (1 - labels_oh)).sum(-1).sum(-1) # false positives [bs, c]\n",
    "    fns = ((1 - preds_oh) * labels_oh).sum(-1).sum(-1) # false negatives [bs, c]\n",
    "    iou = tps / (tps + fps + fns + 1e-8) # [bs, c]\n",
    "    return iou.mean(-1).mean(0)"
   ]
  },
  {
   "cell_type": "code",
   "execution_count": 3,
   "id": "f51557b5",
   "metadata": {},
   "outputs": [],
   "source": [
    "def show_sample(image, mask=None, alpha=0.7):\n",
    "    print('Image shape:', image.shape)\n",
    "    plt.imshow(image.permute(1, 2, 0))\n",
    "    if mask is not None:\n",
    "        print('Mask shape:', mask.shape)\n",
    "\n",
    "        plt.imshow(mask[0], alpha=alpha)\n",
    "    plt.show()\n",
    "\n",
    "\n",
    "def show_samples(images, masks=None, alpha=0.7, nrow=4):\n",
    "    print('Images shape:', images.shape)\n",
    "    if masks is not None:\n",
    "        print('Masks shape:', masks.shape)\n",
    "        B, C, H, W = images.shape\n",
    "        col = [0.2, 0.3, 0.8]\n",
    "        col = torch.tensor(col).unsqueeze(0).unsqueeze(-1).unsqueeze(-1).repeat(B, 1, H, W)\n",
    "        images = torch.where(masks.repeat(1, 3, 1, 1) > 0,\n",
    "                             alpha * col + (1 - alpha) * images, images)\n",
    "    image_grid = make_grid(images, nrow=nrow, padding=0)\n",
    "    plt.figure(figsize=(15, 15))\n",
    "    plt.imshow(image_grid.permute(1, 2, 0), aspect='auto')\n",
    "    plt.axis(False)\n",
    "    plt.show()"
   ]
  },
  {
   "cell_type": "code",
   "execution_count": 4,
   "id": "b69e7efa",
   "metadata": {},
   "outputs": [],
   "source": [
    "class Denorm(object):\n",
    "    def __init__(self, mean=None, std=None):\n",
    "        self.mean = np.array([0.0, 0.0, 0.0]) if mean is None else mean\n",
    "        self.std = np.array([1.0, 1.0, 1.0]) if std is None else std\n",
    "\n",
    "    def __call__(self, x):\n",
    "        \"\"\"\n",
    "        Denormalize the image.\n",
    "\n",
    "        Args:\n",
    "            x: tensor of shape [bs, c, h, w].\n",
    "\n",
    "        Output:\n",
    "            x_denorm: tensor of shape [bs, c, h, w].\n",
    "        \"\"\"\n",
    "        denorm_fn = transforms.Normalize(mean=- self.mean / (self.std + 1e-8), std=1.0 / (self.std + 1e-8))\n",
    "        x_denorm = []\n",
    "        for x_i in x:\n",
    "            x_denorm += [denorm_fn(x_i)]\n",
    "        x_denorm = torch.stack(x_denorm, 0)\n",
    "        return x_denorm"
   ]
  },
  {
   "cell_type": "code",
   "execution_count": 5,
   "id": "e812218f",
   "metadata": {},
   "outputs": [],
   "source": [
    "def get_dataloader(data_base_path, partition, datasets, image_transform=None,\n",
    "                   mask_transform=None, batch_size=32, num_workers=0, pin_memory=True, shuffle=False):\n",
    "    \"\"\"\n",
    "    Get the dataloader.\n",
    "\n",
    "    Args:\n",
    "        data_base_path: string where the data are stored.\n",
    "        partition: string in ['train', 'validation', 'test'].\n",
    "        datasets: list of strings for selecting the sounrce of the data.\n",
    "        image_transforms: transform applied to the image.\n",
    "        mask_transform: transform applied to the mask.\n",
    "        batch_size: integer that specifies the batch size.\n",
    "        num_workers: the number of workers.\n",
    "        pin_memory: boolean.\n",
    "\n",
    "    Output:\n",
    "        dl: the dataloader (PyTorch DataLoader).\n",
    "    \"\"\"\n",
    "    ds_list = []\n",
    "\n",
    "    if 'eyth' in datasets:\n",
    "        tranform = transforms.ToTensor()\n",
    "        ds_eyth = EYTHDataset(\n",
    "            data_base_path=os.path.join(data_base_path, 'eyth_dataset'),\n",
    "            partition=partition,\n",
    "            image_transform=tranform if image_transform is None else image_transform,\n",
    "            mask_transform=tranform if mask_transform is None else mask_transform,\n",
    "        )\n",
    "        ds_list += [ds_eyth]\n",
    "\n",
    "    if 'eh' in datasets:\n",
    "        tranform = transforms.ToTensor()\n",
    "        ds_eh = EgoHandsDataset(\n",
    "            data_base_path=os.path.join(data_base_path, 'egohands_data'),\n",
    "            partition=partition,\n",
    "            image_transform=tranform if image_transform is None else image_transform,\n",
    "            mask_transform=tranform if mask_transform is None else mask_transform,\n",
    "        )\n",
    "        ds_list += [ds_eh]\n",
    "\n",
    "    if 'hof' in datasets:\n",
    "        tranform = transforms.ToTensor()\n",
    "        ds_hof = HOFDataset(\n",
    "            data_base_path=os.path.join(data_base_path, 'hand_over_face'),\n",
    "            partition=partition,\n",
    "            image_transform=tranform if image_transform is None else image_transform,\n",
    "            mask_transform=tranform if mask_transform is None else mask_transform,\n",
    "        )\n",
    "        ds_list += [ds_hof]\n",
    "\n",
    "    if 'gtea' in datasets:\n",
    "        tranform = transforms.Compose([\n",
    "            transforms.Resize((405, 720)),\n",
    "            transforms.ToTensor(),\n",
    "        ])\n",
    "        ds_gtea = GTEADataset(\n",
    "            data_base_path=os.path.join(data_base_path, 'hand2K_dataset'),\n",
    "            partition=partition,\n",
    "            image_transform=tranform if image_transform is None else image_transform,\n",
    "            mask_transform=tranform if mask_transform is None else mask_transform,\n",
    "        )\n",
    "        ds_list += [ds_gtea]\n",
    "\n",
    "    # Concatenate datasets\n",
    "    ds_cat = ConcatDataset(ds_list)\n",
    "    dl = DataLoader(ds_cat, batch_size=batch_size, pin_memory=pin_memory, num_workers=num_workers, shuffle=shuffle)\n",
    "    return dl"
   ]
  },
  {
   "cell_type": "code",
   "execution_count": 6,
   "id": "97bf0798",
   "metadata": {},
   "outputs": [],
   "source": [
    "def hand_segmentor(pretrained=True, *args, **kwargs):\n",
    "    \"\"\"\n",
    "    Hand segmentor based on a DeepLabV3 model with a ResNet50 encoder.\n",
    "    DeeplabV3: https://arxiv.org/abs/1706.05587\n",
    "    ResNet50: https://arxiv.org/abs/1512.03385\n",
    "    \"\"\"\n",
    "    model = HandSegModel(*args, **kwargs)\n",
    "    if pretrained:\n",
    "        #os.system('chmod +x ./scripts/download_model_checkpoint.sh')\n",
    "        #os.system('./scripts/download_model_checkpoint.sh')\n",
    "        _download_file_from_google_drive('1w7dztGAsPHD_fl_Kv_a8qHL4eW92rlQg', './checkpoint/checkpoint.ckpt')\n",
    "        model = model.load_from_checkpoint('./checkpoint/checkpoint.ckpt', *args, **kwargs)\n",
    "    return model\n",
    "\n",
    "\n",
    "def _download_file_from_google_drive(id, destination):\n",
    "\n",
    "    url = f'https://drive.google.com/uc?id={id}'\n",
    "    path = os.path.dirname(destination)\n",
    "    if not os.path.exists(path):\n",
    "        os.makedirs(path)\n",
    "    gdown.download(url, destination, quiet=False)\n",
    "\n",
    "dependencies = ['torch', 'pytorch_lightning']"
   ]
  },
  {
   "cell_type": "code",
   "execution_count": 7,
   "id": "6db7904e",
   "metadata": {},
   "outputs": [],
   "source": [
    "class HandSegModel(pl.LightningModule):\n",
    "    \"\"\"\n",
    "    This model is based on the PyTorch DeepLab model for semantic segmentation.\n",
    "    \"\"\"\n",
    "    def __init__(self, pretrained=False, lr=1e-4, in_channels=3):\n",
    "        super().__init__()\n",
    "        assert in_channels in [1, 3, 4]\n",
    "        self.deeplab = self._get_deeplab(pretrained=pretrained, num_classes=2, in_channels=in_channels)\n",
    "        self.denorm_image_for_tb_log = None # For tensorboard logging\n",
    "        self.lr = lr\n",
    "        if pretrained:\n",
    "            if in_channels == 1:\n",
    "                mean, std = np.array([0.5]), np.array([0.5]) \n",
    "            elif in_channels == 3:\n",
    "                mean, std = np.array([0.485, 0.456, 0.406]), np.array([0.229, 0.224, 0.225]) \n",
    "            elif in_channels == 4:\n",
    "                mean, std = np.array([0.485, 0.456, 0.406, 0.5]), np.array([0.229, 0.224, 0.225, 0.5]) \n",
    "            self.denorm_image_for_tb_log = Denorm(mean, std)\n",
    "\n",
    "    def _get_deeplab(self, pretrained=False, num_classes=2, in_channels=3):\n",
    "        \"\"\"\n",
    "        Get the PyTorch DeepLab model architecture.\n",
    "        \"\"\"\n",
    "        deeplab = torchvision.models.segmentation.deeplabv3_resnet50(\n",
    "            pretrained=False,\n",
    "            num_classes=num_classes\n",
    "        )\n",
    "        if pretrained:\n",
    "            deeplab_21 = torchvision.models.segmentation.deeplabv3_resnet50(\n",
    "                pretrained=True,\n",
    "                progress=True,\n",
    "                num_classes=21\n",
    "            )\n",
    "            for c1, c2 in zip(deeplab.children(), deeplab_21.children()):\n",
    "                for p1, p2 in zip(c1.parameters(), c2.parameters()):\n",
    "                    if p1.shape == p2.shape:\n",
    "                        p1.data = p2.data\n",
    "        if in_channels == 1:\n",
    "            weight = deeplab.backbone.conv1.weight\n",
    "            deeplab.backbone.conv1.weight = nn.Parameter(weight.data[:, 0:1])\n",
    "        elif in_channels == 4:\n",
    "            weight = deeplab.backbone.conv1.weight\n",
    "            C, _, H, W = weight.shape\n",
    "            deeplab.backbone.conv1.weight = nn.Parameter(torch.cat([\n",
    "                weight.data,\n",
    "                torch.randn(C, 1, H, W, device=weight.device) * 0.1,\n",
    "            ], 1))\n",
    "        return deeplab\n",
    "\n",
    "    def forward(self, x):\n",
    "        return self.deeplab(x)['out']\n",
    "\n",
    "    def training_step(self, batch, idx_batch):\n",
    "        x, y = batch\n",
    "        logits = self(x)\n",
    "        loss = F.binary_cross_entropy_with_logits(logits, y)\n",
    "        y_hat = F.softmax(logits, 1).detach()\n",
    "        miou = meanIoU(y_hat, y.argmax(1))\n",
    "\n",
    "        # Cache\n",
    "        self.log('train_bce', loss, prog_bar=True)\n",
    "        self.log('train_mIoU', miou, prog_bar=True)\n",
    "        return loss\n",
    "\n",
    "    def validation_step(self, batch, idx_batch):\n",
    "        x, y = batch\n",
    "        logits = self(x)\n",
    "        loss = F.binary_cross_entropy_with_logits(logits, y)\n",
    "        y_hat = F.softmax(logits, 1).detach()\n",
    "        miou = meanIoU(y_hat, y.argmax(1))\n",
    "\n",
    "        # Cache\n",
    "        self.log('validation_bce', loss, prog_bar=True)\n",
    "        self.log('validation_mIoU', miou, prog_bar=True)\n",
    "        if idx_batch == 0:\n",
    "            tb_log = self.trainer.logger.experiment\n",
    "            if self.denorm_image_for_tb_log:\n",
    "                x = self.denorm_image_for_tb_log(x)\n",
    "            x_grid = make_grid(x[:16], nrow=4)\n",
    "            y_hat_grid = make_grid(y_hat[:16].argmax(1).unsqueeze(1), nrow=4)[0:1]\n",
    "            tb_log.add_image('validation_images', x_grid.cpu().numpy())\n",
    "            tb_log.add_image('validation_preds', y_hat_grid.cpu().numpy())\n",
    "        return loss\n",
    "\n",
    "    def test_step(self, batch, idx_batch):\n",
    "        x, y = batch\n",
    "        logits = self(x)\n",
    "        loss = F.binary_cross_entropy_with_logits(logits, y)\n",
    "        y_hat = F.softmax(logits, 1).detach()\n",
    "        miou = meanIoU(y_hat, y.argmax(1))\n",
    "\n",
    "        # Cache\n",
    "        self.log('test_bce', loss, prog_bar=True)\n",
    "        self.log('test_mIoU', miou, prog_bar=True)\n",
    "        if idx_batch == 0:\n",
    "            tb_log = self.trainer.logger.experiment\n",
    "            if self.denorm_image_for_tb_log:\n",
    "                x = self.denorm_image_for_tb_log(x)\n",
    "            x_grid = make_grid(x[:16], nrow=4)\n",
    "            y_hat_grid = make_grid(y_hat[:16].argmax(1).unsqueeze(1), nrow=4)[0:1]\n",
    "            tb_log.add_image('test_images', x_grid.cpu().numpy())\n",
    "            tb_log.add_image('test_preds', y_hat_grid.cpu().numpy())\n",
    "        return loss\n",
    "\n",
    "    def configure_optimizers(self):\n",
    "        return Adam(self.parameters(), lr=self.lr)\n",
    "\n",
    "    def set_denorm_fn(self, denorm_fn):\n",
    "        self.denorm_image_for_tb_log = denorm_fn"
   ]
  },
  {
   "cell_type": "code",
   "execution_count": 8,
   "id": "d5dc0189",
   "metadata": {},
   "outputs": [],
   "source": [
    "def get_args(folder):\n",
    "    \"\"\"\n",
    "    read the input arguments.\n",
    "    \"\"\"\n",
    "    parser = argparse.ArgumentParser()\n",
    "    parser.add_argument('--mode',  type=str, default='predict',\n",
    "                        help='Mode of the program. Can be \"train\", \"test\" or \"predict\".')\n",
    "    parser.add_argument('--epochs', type=int, default=50, help='The number of epochs used for the training.')\n",
    "    parser.add_argument('--batch_size', type=int, default=16, help='The batch size.')\n",
    "    parser.add_argument('--gpus', type=int, default=1, help='The number of gpus used.')\n",
    "    parser.add_argument('--datasets', type=str, default='eyth eh hof gtea', help='List of datasets to use.')\n",
    "    parser.add_argument('--height', type=int, default=256, help='The height of the input image.')\n",
    "    parser.add_argument('--width', type=int, default=256, help='THe width of the input image.')\n",
    "    parser.add_argument('--data_base_path', type=str, default=folder, help='The path of the input dataset.')\n",
    "    parser.add_argument('--model_pretrained', default=True, action='store_true',\n",
    "                        help='Load the PyTorch pretrained model.')\n",
    "    parser.add_argument('--model_checkpoint', type=str, default=\"Distracted Driver Dataset\\checkpoint\\checkpoint.ckpt\", help='The model checkpoint to load.')\n",
    "    parser.add_argument('--lr', type=float, default=3e-4, help='The learning rate.')\n",
    "    parser.add_argument('--in_channels', type=int, default=3, choices=[1, 3, 4],\n",
    "                        help='The number of input channels (3 for RGB, 1 for Grayscale, 4 for RGBD).')\n",
    "    args, unknown = parser.parse_known_args()\n",
    "    print(json.dumps(vars(args), indent=4))\n",
    "    return args\n",
    "\n",
    "\n",
    "def get_model(args):\n",
    "    \"\"\"\n",
    "    build the model.\n",
    "    \"\"\"\n",
    "    model_args = {\n",
    "        'pretrained': args.model_pretrained,\n",
    "        'lr': args.lr,\n",
    "        'in_channels': args.in_channels,\n",
    "    }\n",
    "    model = HandSegModel(**model_args)\n",
    "    if len(args.model_checkpoint) > 0:\n",
    "        model = model.load_from_checkpoint(args.model_checkpoint, **model_args)\n",
    "        print(f'Loaded checkpoint from {args.model_checkpoint}.')\n",
    "    return model\n",
    "\n",
    "\n",
    "def get_image_transform(args):\n",
    "    \"\"\"\n",
    "    build the image transforms.\n",
    "    \"\"\"\n",
    "    image_transform = None\n",
    "    pad_rgb2rgbd = lambda x: torch.cat([x, torch.zeros(3, x.shape[1], x.shape[2])], 0)\n",
    "    pad_gray2rgbd = lambda x: torch.cat([x.repeat(3, 1, 1), torch.zeros(3, x.shape[1], x.shape[2])], 0)\n",
    "    def to_rgbd(x):\n",
    "        C = x.shape[0]\n",
    "        if C == 4: return x\n",
    "        elif C == 3: return pad_rgb2rgbd(x)\n",
    "        elif C == 1: return pad_gray2rgbd(x)\n",
    "    if args.in_channels == 1:\n",
    "        image_transform = transforms.Compose([\n",
    "            transforms.Resize((args.height, args.width)),\n",
    "            transforms.ToTensor(),\n",
    "            lambda x: x if x.shape[0] == 3 else x.repeat(3, 1, 1),\n",
    "            lambda x: x.mean(0, keepdims=True), # convert RGB into grayscale\n",
    "            transforms.Normalize(mean=[0.5], std=[0.5]),\n",
    "        ])\n",
    "    elif args.in_channels == 3:\n",
    "        image_transform = transforms.Compose([\n",
    "            transforms.Resize((args.height, args.width)),\n",
    "            transforms.ToTensor(),\n",
    "            lambda x: x if x.shape[0] == 3 else x.repeat(3, 1, 1),\n",
    "            transforms.Normalize(mean=[0.485, 0.456, 0.406], std=[0.229, 0.224, 0.225]),\n",
    "        ])\n",
    "    elif args.in_channels == 4:\n",
    "        image_transform = transforms.Compose([\n",
    "            transforms.Resize((args.height, args.width)),\n",
    "            transforms.ToTensor(),\n",
    "            lambda x: x if x.shape[0] == 4 else to_rgbd(x),\n",
    "            transforms.Normalize(mean=[0.485, 0.456, 0.406, 0.5], std=[0.229, 0.224, 0.225, 0.5]),\n",
    "        ])\n",
    "    return image_transform\n",
    "\n",
    "\n",
    "def get_dataloaders(args):\n",
    "    \"\"\"\n",
    "    build the dataloaders.\n",
    "    \"\"\"\n",
    "    image_transform = get_image_transform(args)\n",
    "    mask_transform = transforms.Compose([\n",
    "        transforms.Resize((args.height, args.width)),\n",
    "        transforms.ToTensor(),\n",
    "        lambda m: torch.where(m > 0, torch.ones_like(m), torch.zeros_like(m)),\n",
    "        lambda m: F.one_hot(m[0].to(torch.int64), 2).permute(2, 0, 1).to(torch.float32),\n",
    "    ])\n",
    "    dl_args = {\n",
    "        'data_base_path': args.data_base_path,\n",
    "        'datasets': args.datasets.split(' '),\n",
    "        'image_transform': image_transform,\n",
    "        'mask_transform': mask_transform,\n",
    "        'batch_size': args.batch_size,\n",
    "    }\n",
    "    dl_train = get_dataloader(**dl_args, partition='train', shuffle=True)\n",
    "    dl_validation = get_dataloader(**dl_args, partition='validation', shuffle=False)\n",
    "    dl_test = get_dataloader(**dl_args, partition='test', shuffle=False)\n",
    "    dls = {\n",
    "        'train': dl_train,\n",
    "        'validation': dl_validation,\n",
    "        'test': dl_test,\n",
    "    }\n",
    "    return dls\n",
    "\n",
    "\n",
    "def get_predict_dataset(args):\n",
    "    \"\"\"\n",
    "    \"\"\"\n",
    "    image_paths = sorted(os.listdir(args.data_base_path))\n",
    "    image_paths = [os.path.join(args.data_base_path, f) for f in image_paths]\n",
    "    print(f'Found {len(image_paths)} in {args.data_base_path}.')\n",
    "    transform = get_image_transform(args)\n",
    "\n",
    "    class ImageDataset(Dataset):\n",
    "        def __init__(self, image_paths, transform=None):\n",
    "            super(ImageDataset, self).__init__()\n",
    "            self.image_paths = image_paths\n",
    "            self.transform = transform\n",
    "\n",
    "        def __len__(self):\n",
    "            return len(self.image_paths)\n",
    "\n",
    "        def __getitem__(self, idx):\n",
    "            image_path = self.image_paths[idx]\n",
    "            image = Image.open(image_path)\n",
    "            if self.transform is not None:\n",
    "                image = self.transform(image)\n",
    "            return image, image_path\n",
    "    return ImageDataset(image_paths, transform=transform)\n",
    "\n",
    "def main(args):\n",
    "    \"\"\"\n",
    "    main function.\n",
    "    \"\"\"\n",
    "\n",
    "    # Model\n",
    "    model = get_model(args)\n",
    "    print(\"model built\")\n",
    "\n",
    "    # Mode\n",
    "    if args.mode == 'train':\n",
    "        dls = get_dataloaders(args) # Dataloader\n",
    "        trainer = pl.Trainer(max_epochs=args.epochs, gpus=args.gpus)\n",
    "        trainer.fit(model, dls['train'], dls['validation'])\n",
    "    elif args.mode == 'validation':\n",
    "        dls = get_dataloaders(args) # Dataloader\n",
    "        trainer = pl.Trainer(gpus=args.gpus)\n",
    "        trainer.test(model, dls['validation'])\n",
    "    elif args.mode == 'test':\n",
    "        dls = get_dataloaders(args) # Dataloader\n",
    "        trainer = pl.Trainer(gpus=args.gpus)\n",
    "        trainer.test(model, dls['test'])\n",
    "    elif args.mode == 'predict':\n",
    "        ds = get_predict_dataset(args) # Dataset\n",
    "\n",
    "        # Save prediction\n",
    "        _ = model.eval()\n",
    "        device = next(model.parameters()).device\n",
    "        for x, x_path in tqdm(ds, desc='Save predictions'):\n",
    "            H, W = x.shape[-2:]\n",
    "            x = transforms.Resize((256, 256))(x)\n",
    "            x = x.unsqueeze(0).to(device)\n",
    "            logits = model(x).detach().cpu()\n",
    "            preds = F.softmax(logits, 1).argmax(1)[0] * 255 # [h, w]\n",
    "            preds = Image.fromarray(preds.numpy().astype(np.uint8), 'L')\n",
    "            preds = preds.resize((W, H))\n",
    "            preds.save(os.path.join(os.getcwd(), destinationfolder_path, trainortest(x_path), findclass(x_path),naming(x_path)+\".png\"))\n",
    "    else:\n",
    "        raise Exception(f'Error. Mode \"{args.mode}\" is not supported.')"
   ]
  },
  {
   "attachments": {},
   "cell_type": "markdown",
   "id": "32afda27",
   "metadata": {},
   "source": [
    "We use the above code taken from: https://github.com/guglielmocamporese/hands-segmentation-pytorch and run the model on our images to extract out the hands."
   ]
  },
  {
   "cell_type": "code",
   "execution_count": 9,
   "id": "df70ee41",
   "metadata": {},
   "outputs": [],
   "source": [
    "def trainortest(filepath):\n",
    "    return filepath.split(\"\\\\\")[-3]\n",
    "\n",
    "\n",
    "def findclass(filepath):\n",
    "    return filepath.split(\"\\\\\")[-2]\n",
    "\n",
    "\n",
    "def naming(filepath):\n",
    "    return filepath.split(\"\\\\\")[-1]"
   ]
  },
  {
   "cell_type": "code",
   "execution_count": 4,
   "id": "ebd0ad1c",
   "metadata": {},
   "outputs": [],
   "source": [
    "CLASS = [[\"c0\", \"Safe Driving\"], [\"c1\", \"Text\"], [\"c2\", \"Phone\"],\n",
    "           [\"c3\", \"Adjusting Radio\"], [\"c4\", \"Drinking\"],\n",
    "           [\"c5\", \"Reaching Behind\"], [\"c6\", \"Hair or Makeup\"],\n",
    "           [\"c7\", \"Talking to Passenger\"]]\n",
    "\n",
    "datafolder = \"Combined New\"  # Initial dataset folder\n",
    "datafolder_path = os.path.join(os.getcwd(), datafolder)\n",
    "destinationfolder = \"Prediction New\"  # Prediction of hand segmentation\n",
    "destinationfolder_path = os.path.join(os.getcwd(), \"Data\", destinationfolder)\n",
    "finalfolder = \"Extracted New\"\n",
    "finalfolder_path = os.path.join(os.getcwd(), \"Data\", finalfolder)\n",
    "\n",
    "if not os.path.exists(destinationfolder_path):\n",
    "    os.mkdir(destinationfolder_path)\n",
    "if not os.path.exists(os.path.join(os.getcwd(), destinationfolder_path, \"test\")):\n",
    "    os.mkdir(os.path.join(os.getcwd(), destinationfolder_path, \"test\"))\n",
    "for cls in CLASS:\n",
    "    if not os.path.exists(os.path.join(os.getcwd(), destinationfolder_path, \"test\", cls[0])):\n",
    "        os.mkdir(os.path.join(os.getcwd(), destinationfolder_path, \"test\", cls[0]))\n",
    "if not os.path.exists(os.path.join(os.getcwd(), destinationfolder_path, \"train\")):\n",
    "    os.mkdir(os.path.join(os.getcwd(), destinationfolder_path, \"train\"))\n",
    "for cls in CLASS:\n",
    "    if not os.path.exists(os.path.join(os.getcwd(), destinationfolder_path, \"train\", cls[0])):\n",
    "        os.mkdir(os.path.join(os.getcwd(), destinationfolder_path, \"train\", cls[0]))\n",
    "\n",
    "TEST_CLS = [os.path.join(os.getcwd(), datafolder_path, \"test\", cls[0]) for cls in CLASS]\n",
    "TRAIN_CLS = [os.path.join(os.getcwd(), datafolder_path, \"train\", cls[0]) for cls in CLASS]\n"
   ]
  },
  {
   "cell_type": "code",
   "execution_count": 11,
   "id": "46bcfda0",
   "metadata": {},
   "outputs": [
    {
     "name": "stdout",
     "output_type": "stream",
     "text": [
      "C:\\Users\\ASUS\\Desktop\\Distracted Driver Dataset\\Combined New\\test\\c0\n",
      "711\n",
      "{\n",
      "    \"mode\": \"predict\",\n",
      "    \"epochs\": 50,\n",
      "    \"batch_size\": 16,\n",
      "    \"gpus\": 1,\n",
      "    \"datasets\": \"eyth eh hof gtea\",\n",
      "    \"height\": 256,\n",
      "    \"width\": 256,\n",
      "    \"data_base_path\": \"C:\\\\Users\\\\ASUS\\\\Desktop\\\\Distracted Driver Dataset\\\\Combined New\\\\test\\\\c0\",\n",
      "    \"model_pretrained\": true,\n",
      "    \"model_checkpoint\": \"Distracted Driver Dataset\\\\checkpoint\\\\checkpoint.ckpt\",\n",
      "    \"lr\": 0.0003,\n",
      "    \"in_channels\": 3\n",
      "}\n"
     ]
    },
    {
     "name": "stderr",
     "output_type": "stream",
     "text": [
      "C:\\Users\\ASUS\\anaconda3\\lib\\site-packages\\torchvision\\models\\_utils.py:208: UserWarning: The parameter 'pretrained' is deprecated since 0.13 and may be removed in the future, please use 'weights' instead.\n",
      "  warnings.warn(\n",
      "C:\\Users\\ASUS\\anaconda3\\lib\\site-packages\\torchvision\\models\\_utils.py:223: UserWarning: Arguments other than a weight enum or `None` for 'weights' are deprecated since 0.13 and may be removed in the future. The current behavior is equivalent to passing `weights=None`.\n",
      "  warnings.warn(msg)\n",
      "C:\\Users\\ASUS\\anaconda3\\lib\\site-packages\\torchvision\\models\\_utils.py:223: UserWarning: Arguments other than a weight enum or `None` for 'weights' are deprecated since 0.13 and may be removed in the future. The current behavior is equivalent to passing `weights=DeepLabV3_ResNet50_Weights.COCO_WITH_VOC_LABELS_V1`. You can also use `weights=DeepLabV3_ResNet50_Weights.DEFAULT` to get the most up-to-date weights.\n",
      "  warnings.warn(msg)\n",
      "C:\\Users\\ASUS\\anaconda3\\lib\\site-packages\\pytorch_lightning\\utilities\\migration\\migration.py:200: PossibleUserWarning: You have multiple `ModelCheckpoint` callback states in this checkpoint, but we found state keys that would end up colliding with each other after an upgrade, which means we can't differentiate which of your checkpoint callbacks needs which states. At least one of your `ModelCheckpoint` callbacks will not be able to reload the state.\n",
      "  rank_zero_warn(\n",
      "Lightning automatically upgraded your loaded checkpoint from v1.2.2 to v2.0.0. To apply the upgrade to your files permanently, run `python -m pytorch_lightning.utilities.upgrade_checkpoint --file C:\\Users\\ASUS\\Desktop\\Distracted Driver Dataset\\checkpoint\\checkpoint.ckpt`\n"
     ]
    },
    {
     "name": "stdout",
     "output_type": "stream",
     "text": [
      "Loaded checkpoint from Distracted Driver Dataset\\checkpoint\\checkpoint.ckpt.\n",
      "model built\n",
      "Found 711 in C:\\Users\\ASUS\\Desktop\\Distracted Driver Dataset\\Combined New\\test\\c0.\n"
     ]
    },
    {
     "name": "stderr",
     "output_type": "stream",
     "text": [
      "Save predictions:   0%|                                                                        | 0/711 [00:00<?, ?it/s]C:\\Users\\ASUS\\anaconda3\\lib\\site-packages\\torchvision\\transforms\\functional.py:1603: UserWarning: The default value of the antialias parameter of all the resizing transforms (Resize(), RandomResizedCrop(), etc.) will change from None to True in v0.17, in order to be consistent across the PIL and Tensor backends. To suppress this warning, directly pass antialias=True (recommended, future default), antialias=None (current default, which means False for Tensors and True for PIL), or antialias=False (only works on Tensors - PIL will still use antialiasing). This also applies if you are using the inference transforms from the models weights: update the call to weights.transforms(antialias=True).\n",
      "  warnings.warn(\n",
      "Save predictions: 100%|██████████████████████████████████████████████████████████████| 711/711 [04:56<00:00,  2.40it/s]\n"
     ]
    },
    {
     "name": "stdout",
     "output_type": "stream",
     "text": [
      "C:\\Users\\ASUS\\Desktop\\Distracted Driver Dataset\\Combined New\\test\\c1\n",
      "667\n",
      "{\n",
      "    \"mode\": \"predict\",\n",
      "    \"epochs\": 50,\n",
      "    \"batch_size\": 16,\n",
      "    \"gpus\": 1,\n",
      "    \"datasets\": \"eyth eh hof gtea\",\n",
      "    \"height\": 256,\n",
      "    \"width\": 256,\n",
      "    \"data_base_path\": \"C:\\\\Users\\\\ASUS\\\\Desktop\\\\Distracted Driver Dataset\\\\Combined New\\\\test\\\\c1\",\n",
      "    \"model_pretrained\": true,\n",
      "    \"model_checkpoint\": \"Distracted Driver Dataset\\\\checkpoint\\\\checkpoint.ckpt\",\n",
      "    \"lr\": 0.0003,\n",
      "    \"in_channels\": 3\n",
      "}\n"
     ]
    },
    {
     "name": "stderr",
     "output_type": "stream",
     "text": [
      "Lightning automatically upgraded your loaded checkpoint from v1.2.2 to v2.0.0. To apply the upgrade to your files permanently, run `python -m pytorch_lightning.utilities.upgrade_checkpoint --file C:\\Users\\ASUS\\Desktop\\Distracted Driver Dataset\\checkpoint\\checkpoint.ckpt`\n"
     ]
    },
    {
     "name": "stdout",
     "output_type": "stream",
     "text": [
      "Loaded checkpoint from Distracted Driver Dataset\\checkpoint\\checkpoint.ckpt.\n",
      "model built\n",
      "Found 667 in C:\\Users\\ASUS\\Desktop\\Distracted Driver Dataset\\Combined New\\test\\c1.\n"
     ]
    },
    {
     "name": "stderr",
     "output_type": "stream",
     "text": [
      "Save predictions: 100%|██████████████████████████████████████████████████████████████| 667/667 [04:31<00:00,  2.46it/s]\n"
     ]
    },
    {
     "name": "stdout",
     "output_type": "stream",
     "text": [
      "C:\\Users\\ASUS\\Desktop\\Distracted Driver Dataset\\Combined New\\test\\c2\n",
      "602\n",
      "{\n",
      "    \"mode\": \"predict\",\n",
      "    \"epochs\": 50,\n",
      "    \"batch_size\": 16,\n",
      "    \"gpus\": 1,\n",
      "    \"datasets\": \"eyth eh hof gtea\",\n",
      "    \"height\": 256,\n",
      "    \"width\": 256,\n",
      "    \"data_base_path\": \"C:\\\\Users\\\\ASUS\\\\Desktop\\\\Distracted Driver Dataset\\\\Combined New\\\\test\\\\c2\",\n",
      "    \"model_pretrained\": true,\n",
      "    \"model_checkpoint\": \"Distracted Driver Dataset\\\\checkpoint\\\\checkpoint.ckpt\",\n",
      "    \"lr\": 0.0003,\n",
      "    \"in_channels\": 3\n",
      "}\n"
     ]
    },
    {
     "name": "stderr",
     "output_type": "stream",
     "text": [
      "Lightning automatically upgraded your loaded checkpoint from v1.2.2 to v2.0.0. To apply the upgrade to your files permanently, run `python -m pytorch_lightning.utilities.upgrade_checkpoint --file C:\\Users\\ASUS\\Desktop\\Distracted Driver Dataset\\checkpoint\\checkpoint.ckpt`\n"
     ]
    },
    {
     "name": "stdout",
     "output_type": "stream",
     "text": [
      "Loaded checkpoint from Distracted Driver Dataset\\checkpoint\\checkpoint.ckpt.\n",
      "model built\n",
      "Found 602 in C:\\Users\\ASUS\\Desktop\\Distracted Driver Dataset\\Combined New\\test\\c2.\n"
     ]
    },
    {
     "name": "stderr",
     "output_type": "stream",
     "text": [
      "Save predictions: 100%|██████████████████████████████████████████████████████████████| 602/602 [04:00<00:00,  2.51it/s]\n"
     ]
    },
    {
     "name": "stdout",
     "output_type": "stream",
     "text": [
      "C:\\Users\\ASUS\\Desktop\\Distracted Driver Dataset\\Combined New\\test\\c3\n",
      "264\n",
      "{\n",
      "    \"mode\": \"predict\",\n",
      "    \"epochs\": 50,\n",
      "    \"batch_size\": 16,\n",
      "    \"gpus\": 1,\n",
      "    \"datasets\": \"eyth eh hof gtea\",\n",
      "    \"height\": 256,\n",
      "    \"width\": 256,\n",
      "    \"data_base_path\": \"C:\\\\Users\\\\ASUS\\\\Desktop\\\\Distracted Driver Dataset\\\\Combined New\\\\test\\\\c3\",\n",
      "    \"model_pretrained\": true,\n",
      "    \"model_checkpoint\": \"Distracted Driver Dataset\\\\checkpoint\\\\checkpoint.ckpt\",\n",
      "    \"lr\": 0.0003,\n",
      "    \"in_channels\": 3\n",
      "}\n"
     ]
    },
    {
     "name": "stderr",
     "output_type": "stream",
     "text": [
      "Lightning automatically upgraded your loaded checkpoint from v1.2.2 to v2.0.0. To apply the upgrade to your files permanently, run `python -m pytorch_lightning.utilities.upgrade_checkpoint --file C:\\Users\\ASUS\\Desktop\\Distracted Driver Dataset\\checkpoint\\checkpoint.ckpt`\n"
     ]
    },
    {
     "name": "stdout",
     "output_type": "stream",
     "text": [
      "Loaded checkpoint from Distracted Driver Dataset\\checkpoint\\checkpoint.ckpt.\n",
      "model built\n",
      "Found 264 in C:\\Users\\ASUS\\Desktop\\Distracted Driver Dataset\\Combined New\\test\\c3.\n"
     ]
    },
    {
     "name": "stderr",
     "output_type": "stream",
     "text": [
      "Save predictions: 100%|██████████████████████████████████████████████████████████████| 264/264 [01:45<00:00,  2.51it/s]\n"
     ]
    },
    {
     "name": "stdout",
     "output_type": "stream",
     "text": [
      "C:\\Users\\ASUS\\Desktop\\Distracted Driver Dataset\\Combined New\\test\\c4\n",
      "255\n",
      "{\n",
      "    \"mode\": \"predict\",\n",
      "    \"epochs\": 50,\n",
      "    \"batch_size\": 16,\n",
      "    \"gpus\": 1,\n",
      "    \"datasets\": \"eyth eh hof gtea\",\n",
      "    \"height\": 256,\n",
      "    \"width\": 256,\n",
      "    \"data_base_path\": \"C:\\\\Users\\\\ASUS\\\\Desktop\\\\Distracted Driver Dataset\\\\Combined New\\\\test\\\\c4\",\n",
      "    \"model_pretrained\": true,\n",
      "    \"model_checkpoint\": \"Distracted Driver Dataset\\\\checkpoint\\\\checkpoint.ckpt\",\n",
      "    \"lr\": 0.0003,\n",
      "    \"in_channels\": 3\n",
      "}\n"
     ]
    },
    {
     "name": "stderr",
     "output_type": "stream",
     "text": [
      "Lightning automatically upgraded your loaded checkpoint from v1.2.2 to v2.0.0. To apply the upgrade to your files permanently, run `python -m pytorch_lightning.utilities.upgrade_checkpoint --file C:\\Users\\ASUS\\Desktop\\Distracted Driver Dataset\\checkpoint\\checkpoint.ckpt`\n"
     ]
    },
    {
     "name": "stdout",
     "output_type": "stream",
     "text": [
      "Loaded checkpoint from Distracted Driver Dataset\\checkpoint\\checkpoint.ckpt.\n",
      "model built\n",
      "Found 255 in C:\\Users\\ASUS\\Desktop\\Distracted Driver Dataset\\Combined New\\test\\c4.\n"
     ]
    },
    {
     "name": "stderr",
     "output_type": "stream",
     "text": [
      "Save predictions: 100%|██████████████████████████████████████████████████████████████| 255/255 [01:40<00:00,  2.53it/s]\n"
     ]
    },
    {
     "name": "stdout",
     "output_type": "stream",
     "text": [
      "C:\\Users\\ASUS\\Desktop\\Distracted Driver Dataset\\Combined New\\test\\c5\n",
      "243\n",
      "{\n",
      "    \"mode\": \"predict\",\n",
      "    \"epochs\": 50,\n",
      "    \"batch_size\": 16,\n",
      "    \"gpus\": 1,\n",
      "    \"datasets\": \"eyth eh hof gtea\",\n",
      "    \"height\": 256,\n",
      "    \"width\": 256,\n",
      "    \"data_base_path\": \"C:\\\\Users\\\\ASUS\\\\Desktop\\\\Distracted Driver Dataset\\\\Combined New\\\\test\\\\c5\",\n",
      "    \"model_pretrained\": true,\n",
      "    \"model_checkpoint\": \"Distracted Driver Dataset\\\\checkpoint\\\\checkpoint.ckpt\",\n",
      "    \"lr\": 0.0003,\n",
      "    \"in_channels\": 3\n",
      "}\n"
     ]
    },
    {
     "name": "stderr",
     "output_type": "stream",
     "text": [
      "Lightning automatically upgraded your loaded checkpoint from v1.2.2 to v2.0.0. To apply the upgrade to your files permanently, run `python -m pytorch_lightning.utilities.upgrade_checkpoint --file C:\\Users\\ASUS\\Desktop\\Distracted Driver Dataset\\checkpoint\\checkpoint.ckpt`\n"
     ]
    },
    {
     "name": "stdout",
     "output_type": "stream",
     "text": [
      "Loaded checkpoint from Distracted Driver Dataset\\checkpoint\\checkpoint.ckpt.\n",
      "model built\n",
      "Found 243 in C:\\Users\\ASUS\\Desktop\\Distracted Driver Dataset\\Combined New\\test\\c5.\n"
     ]
    },
    {
     "name": "stderr",
     "output_type": "stream",
     "text": [
      "Save predictions: 100%|██████████████████████████████████████████████████████████████| 243/243 [01:36<00:00,  2.51it/s]\n"
     ]
    },
    {
     "name": "stdout",
     "output_type": "stream",
     "text": [
      "C:\\Users\\ASUS\\Desktop\\Distracted Driver Dataset\\Combined New\\test\\c6\n",
      "242\n",
      "{\n",
      "    \"mode\": \"predict\",\n",
      "    \"epochs\": 50,\n",
      "    \"batch_size\": 16,\n",
      "    \"gpus\": 1,\n",
      "    \"datasets\": \"eyth eh hof gtea\",\n",
      "    \"height\": 256,\n",
      "    \"width\": 256,\n",
      "    \"data_base_path\": \"C:\\\\Users\\\\ASUS\\\\Desktop\\\\Distracted Driver Dataset\\\\Combined New\\\\test\\\\c6\",\n",
      "    \"model_pretrained\": true,\n",
      "    \"model_checkpoint\": \"Distracted Driver Dataset\\\\checkpoint\\\\checkpoint.ckpt\",\n",
      "    \"lr\": 0.0003,\n",
      "    \"in_channels\": 3\n",
      "}\n"
     ]
    },
    {
     "name": "stderr",
     "output_type": "stream",
     "text": [
      "Lightning automatically upgraded your loaded checkpoint from v1.2.2 to v2.0.0. To apply the upgrade to your files permanently, run `python -m pytorch_lightning.utilities.upgrade_checkpoint --file C:\\Users\\ASUS\\Desktop\\Distracted Driver Dataset\\checkpoint\\checkpoint.ckpt`\n"
     ]
    },
    {
     "name": "stdout",
     "output_type": "stream",
     "text": [
      "Loaded checkpoint from Distracted Driver Dataset\\checkpoint\\checkpoint.ckpt.\n",
      "model built\n",
      "Found 242 in C:\\Users\\ASUS\\Desktop\\Distracted Driver Dataset\\Combined New\\test\\c6.\n"
     ]
    },
    {
     "name": "stderr",
     "output_type": "stream",
     "text": [
      "Save predictions: 100%|██████████████████████████████████████████████████████████████| 242/242 [01:36<00:00,  2.52it/s]\n"
     ]
    },
    {
     "name": "stdout",
     "output_type": "stream",
     "text": [
      "C:\\Users\\ASUS\\Desktop\\Distracted Driver Dataset\\Combined New\\test\\c7\n",
      "430\n",
      "{\n",
      "    \"mode\": \"predict\",\n",
      "    \"epochs\": 50,\n",
      "    \"batch_size\": 16,\n",
      "    \"gpus\": 1,\n",
      "    \"datasets\": \"eyth eh hof gtea\",\n",
      "    \"height\": 256,\n",
      "    \"width\": 256,\n",
      "    \"data_base_path\": \"C:\\\\Users\\\\ASUS\\\\Desktop\\\\Distracted Driver Dataset\\\\Combined New\\\\test\\\\c7\",\n",
      "    \"model_pretrained\": true,\n",
      "    \"model_checkpoint\": \"Distracted Driver Dataset\\\\checkpoint\\\\checkpoint.ckpt\",\n",
      "    \"lr\": 0.0003,\n",
      "    \"in_channels\": 3\n",
      "}\n"
     ]
    },
    {
     "name": "stderr",
     "output_type": "stream",
     "text": [
      "Lightning automatically upgraded your loaded checkpoint from v1.2.2 to v2.0.0. To apply the upgrade to your files permanently, run `python -m pytorch_lightning.utilities.upgrade_checkpoint --file C:\\Users\\ASUS\\Desktop\\Distracted Driver Dataset\\checkpoint\\checkpoint.ckpt`\n"
     ]
    },
    {
     "name": "stdout",
     "output_type": "stream",
     "text": [
      "Loaded checkpoint from Distracted Driver Dataset\\checkpoint\\checkpoint.ckpt.\n",
      "model built\n",
      "Found 430 in C:\\Users\\ASUS\\Desktop\\Distracted Driver Dataset\\Combined New\\test\\c7.\n"
     ]
    },
    {
     "name": "stderr",
     "output_type": "stream",
     "text": [
      "Save predictions: 100%|██████████████████████████████████████████████████████████████| 430/430 [02:51<00:00,  2.51it/s]\n"
     ]
    },
    {
     "name": "stdout",
     "output_type": "stream",
     "text": [
      "C:\\Users\\ASUS\\Desktop\\Distracted Driver Dataset\\Combined New\\train\\c0\n",
      "2131\n",
      "{\n",
      "    \"mode\": \"predict\",\n",
      "    \"epochs\": 50,\n",
      "    \"batch_size\": 16,\n",
      "    \"gpus\": 1,\n",
      "    \"datasets\": \"eyth eh hof gtea\",\n",
      "    \"height\": 256,\n",
      "    \"width\": 256,\n",
      "    \"data_base_path\": \"C:\\\\Users\\\\ASUS\\\\Desktop\\\\Distracted Driver Dataset\\\\Combined New\\\\train\\\\c0\",\n",
      "    \"model_pretrained\": true,\n",
      "    \"model_checkpoint\": \"Distracted Driver Dataset\\\\checkpoint\\\\checkpoint.ckpt\",\n",
      "    \"lr\": 0.0003,\n",
      "    \"in_channels\": 3\n",
      "}\n"
     ]
    },
    {
     "name": "stderr",
     "output_type": "stream",
     "text": [
      "Lightning automatically upgraded your loaded checkpoint from v1.2.2 to v2.0.0. To apply the upgrade to your files permanently, run `python -m pytorch_lightning.utilities.upgrade_checkpoint --file C:\\Users\\ASUS\\Desktop\\Distracted Driver Dataset\\checkpoint\\checkpoint.ckpt`\n"
     ]
    },
    {
     "name": "stdout",
     "output_type": "stream",
     "text": [
      "Loaded checkpoint from Distracted Driver Dataset\\checkpoint\\checkpoint.ckpt.\n",
      "model built\n",
      "Found 2131 in C:\\Users\\ASUS\\Desktop\\Distracted Driver Dataset\\Combined New\\train\\c0.\n"
     ]
    },
    {
     "name": "stderr",
     "output_type": "stream",
     "text": [
      "Save predictions: 100%|████████████████████████████████████████████████████████████| 2131/2131 [14:08<00:00,  2.51it/s]\n"
     ]
    },
    {
     "name": "stdout",
     "output_type": "stream",
     "text": [
      "C:\\Users\\ASUS\\Desktop\\Distracted Driver Dataset\\Combined New\\train\\c1\n",
      "2000\n",
      "{\n",
      "    \"mode\": \"predict\",\n",
      "    \"epochs\": 50,\n",
      "    \"batch_size\": 16,\n",
      "    \"gpus\": 1,\n",
      "    \"datasets\": \"eyth eh hof gtea\",\n",
      "    \"height\": 256,\n",
      "    \"width\": 256,\n",
      "    \"data_base_path\": \"C:\\\\Users\\\\ASUS\\\\Desktop\\\\Distracted Driver Dataset\\\\Combined New\\\\train\\\\c1\",\n",
      "    \"model_pretrained\": true,\n",
      "    \"model_checkpoint\": \"Distracted Driver Dataset\\\\checkpoint\\\\checkpoint.ckpt\",\n",
      "    \"lr\": 0.0003,\n",
      "    \"in_channels\": 3\n",
      "}\n"
     ]
    },
    {
     "name": "stderr",
     "output_type": "stream",
     "text": [
      "Lightning automatically upgraded your loaded checkpoint from v1.2.2 to v2.0.0. To apply the upgrade to your files permanently, run `python -m pytorch_lightning.utilities.upgrade_checkpoint --file C:\\Users\\ASUS\\Desktop\\Distracted Driver Dataset\\checkpoint\\checkpoint.ckpt`\n"
     ]
    },
    {
     "name": "stdout",
     "output_type": "stream",
     "text": [
      "Loaded checkpoint from Distracted Driver Dataset\\checkpoint\\checkpoint.ckpt.\n",
      "model built\n",
      "Found 2000 in C:\\Users\\ASUS\\Desktop\\Distracted Driver Dataset\\Combined New\\train\\c1.\n"
     ]
    },
    {
     "name": "stderr",
     "output_type": "stream",
     "text": [
      "Save predictions: 100%|████████████████████████████████████████████████████████████| 2000/2000 [13:16<00:00,  2.51it/s]\n"
     ]
    },
    {
     "name": "stdout",
     "output_type": "stream",
     "text": [
      "C:\\Users\\ASUS\\Desktop\\Distracted Driver Dataset\\Combined New\\train\\c2\n",
      "1805\n",
      "{\n",
      "    \"mode\": \"predict\",\n",
      "    \"epochs\": 50,\n",
      "    \"batch_size\": 16,\n",
      "    \"gpus\": 1,\n",
      "    \"datasets\": \"eyth eh hof gtea\",\n",
      "    \"height\": 256,\n",
      "    \"width\": 256,\n",
      "    \"data_base_path\": \"C:\\\\Users\\\\ASUS\\\\Desktop\\\\Distracted Driver Dataset\\\\Combined New\\\\train\\\\c2\",\n",
      "    \"model_pretrained\": true,\n",
      "    \"model_checkpoint\": \"Distracted Driver Dataset\\\\checkpoint\\\\checkpoint.ckpt\",\n",
      "    \"lr\": 0.0003,\n",
      "    \"in_channels\": 3\n",
      "}\n"
     ]
    },
    {
     "name": "stderr",
     "output_type": "stream",
     "text": [
      "Lightning automatically upgraded your loaded checkpoint from v1.2.2 to v2.0.0. To apply the upgrade to your files permanently, run `python -m pytorch_lightning.utilities.upgrade_checkpoint --file C:\\Users\\ASUS\\Desktop\\Distracted Driver Dataset\\checkpoint\\checkpoint.ckpt`\n"
     ]
    },
    {
     "name": "stdout",
     "output_type": "stream",
     "text": [
      "Loaded checkpoint from Distracted Driver Dataset\\checkpoint\\checkpoint.ckpt.\n",
      "model built\n",
      "Found 1805 in C:\\Users\\ASUS\\Desktop\\Distracted Driver Dataset\\Combined New\\train\\c2.\n"
     ]
    },
    {
     "name": "stderr",
     "output_type": "stream",
     "text": [
      "Save predictions: 100%|████████████████████████████████████████████████████████████| 1805/1805 [11:53<00:00,  2.53it/s]\n"
     ]
    },
    {
     "name": "stdout",
     "output_type": "stream",
     "text": [
      "C:\\Users\\ASUS\\Desktop\\Distracted Driver Dataset\\Combined New\\train\\c3\n",
      "791\n",
      "{\n",
      "    \"mode\": \"predict\",\n",
      "    \"epochs\": 50,\n",
      "    \"batch_size\": 16,\n",
      "    \"gpus\": 1,\n",
      "    \"datasets\": \"eyth eh hof gtea\",\n",
      "    \"height\": 256,\n",
      "    \"width\": 256,\n",
      "    \"data_base_path\": \"C:\\\\Users\\\\ASUS\\\\Desktop\\\\Distracted Driver Dataset\\\\Combined New\\\\train\\\\c3\",\n",
      "    \"model_pretrained\": true,\n",
      "    \"model_checkpoint\": \"Distracted Driver Dataset\\\\checkpoint\\\\checkpoint.ckpt\",\n",
      "    \"lr\": 0.0003,\n",
      "    \"in_channels\": 3\n",
      "}\n"
     ]
    },
    {
     "name": "stderr",
     "output_type": "stream",
     "text": [
      "Lightning automatically upgraded your loaded checkpoint from v1.2.2 to v2.0.0. To apply the upgrade to your files permanently, run `python -m pytorch_lightning.utilities.upgrade_checkpoint --file C:\\Users\\ASUS\\Desktop\\Distracted Driver Dataset\\checkpoint\\checkpoint.ckpt`\n"
     ]
    },
    {
     "name": "stdout",
     "output_type": "stream",
     "text": [
      "Loaded checkpoint from Distracted Driver Dataset\\checkpoint\\checkpoint.ckpt.\n",
      "model built\n",
      "Found 791 in C:\\Users\\ASUS\\Desktop\\Distracted Driver Dataset\\Combined New\\train\\c3.\n"
     ]
    },
    {
     "name": "stderr",
     "output_type": "stream",
     "text": [
      "Save predictions: 100%|██████████████████████████████████████████████████████████████| 791/791 [05:12<00:00,  2.53it/s]\n"
     ]
    },
    {
     "name": "stdout",
     "output_type": "stream",
     "text": [
      "C:\\Users\\ASUS\\Desktop\\Distracted Driver Dataset\\Combined New\\train\\c4\n",
      "762\n",
      "{\n",
      "    \"mode\": \"predict\",\n",
      "    \"epochs\": 50,\n",
      "    \"batch_size\": 16,\n",
      "    \"gpus\": 1,\n",
      "    \"datasets\": \"eyth eh hof gtea\",\n",
      "    \"height\": 256,\n",
      "    \"width\": 256,\n",
      "    \"data_base_path\": \"C:\\\\Users\\\\ASUS\\\\Desktop\\\\Distracted Driver Dataset\\\\Combined New\\\\train\\\\c4\",\n",
      "    \"model_pretrained\": true,\n",
      "    \"model_checkpoint\": \"Distracted Driver Dataset\\\\checkpoint\\\\checkpoint.ckpt\",\n",
      "    \"lr\": 0.0003,\n",
      "    \"in_channels\": 3\n",
      "}\n"
     ]
    },
    {
     "name": "stderr",
     "output_type": "stream",
     "text": [
      "Lightning automatically upgraded your loaded checkpoint from v1.2.2 to v2.0.0. To apply the upgrade to your files permanently, run `python -m pytorch_lightning.utilities.upgrade_checkpoint --file C:\\Users\\ASUS\\Desktop\\Distracted Driver Dataset\\checkpoint\\checkpoint.ckpt`\n"
     ]
    },
    {
     "name": "stdout",
     "output_type": "stream",
     "text": [
      "Loaded checkpoint from Distracted Driver Dataset\\checkpoint\\checkpoint.ckpt.\n",
      "model built\n",
      "Found 762 in C:\\Users\\ASUS\\Desktop\\Distracted Driver Dataset\\Combined New\\train\\c4.\n"
     ]
    },
    {
     "name": "stderr",
     "output_type": "stream",
     "text": [
      "Save predictions: 100%|██████████████████████████████████████████████████████████████| 762/762 [05:03<00:00,  2.51it/s]\n"
     ]
    },
    {
     "name": "stdout",
     "output_type": "stream",
     "text": [
      "C:\\Users\\ASUS\\Desktop\\Distracted Driver Dataset\\Combined New\\train\\c5\n",
      "726\n",
      "{\n",
      "    \"mode\": \"predict\",\n",
      "    \"epochs\": 50,\n",
      "    \"batch_size\": 16,\n",
      "    \"gpus\": 1,\n",
      "    \"datasets\": \"eyth eh hof gtea\",\n",
      "    \"height\": 256,\n",
      "    \"width\": 256,\n",
      "    \"data_base_path\": \"C:\\\\Users\\\\ASUS\\\\Desktop\\\\Distracted Driver Dataset\\\\Combined New\\\\train\\\\c5\",\n",
      "    \"model_pretrained\": true,\n",
      "    \"model_checkpoint\": \"Distracted Driver Dataset\\\\checkpoint\\\\checkpoint.ckpt\",\n",
      "    \"lr\": 0.0003,\n",
      "    \"in_channels\": 3\n",
      "}\n"
     ]
    },
    {
     "name": "stderr",
     "output_type": "stream",
     "text": [
      "Lightning automatically upgraded your loaded checkpoint from v1.2.2 to v2.0.0. To apply the upgrade to your files permanently, run `python -m pytorch_lightning.utilities.upgrade_checkpoint --file C:\\Users\\ASUS\\Desktop\\Distracted Driver Dataset\\checkpoint\\checkpoint.ckpt`\n"
     ]
    },
    {
     "name": "stdout",
     "output_type": "stream",
     "text": [
      "Loaded checkpoint from Distracted Driver Dataset\\checkpoint\\checkpoint.ckpt.\n",
      "model built\n",
      "Found 726 in C:\\Users\\ASUS\\Desktop\\Distracted Driver Dataset\\Combined New\\train\\c5.\n"
     ]
    },
    {
     "name": "stderr",
     "output_type": "stream",
     "text": [
      "Save predictions: 100%|██████████████████████████████████████████████████████████████| 726/726 [04:49<00:00,  2.51it/s]\n"
     ]
    },
    {
     "name": "stdout",
     "output_type": "stream",
     "text": [
      "C:\\Users\\ASUS\\Desktop\\Distracted Driver Dataset\\Combined New\\train\\c6\n",
      "723\n",
      "{\n",
      "    \"mode\": \"predict\",\n",
      "    \"epochs\": 50,\n",
      "    \"batch_size\": 16,\n",
      "    \"gpus\": 1,\n",
      "    \"datasets\": \"eyth eh hof gtea\",\n",
      "    \"height\": 256,\n",
      "    \"width\": 256,\n",
      "    \"data_base_path\": \"C:\\\\Users\\\\ASUS\\\\Desktop\\\\Distracted Driver Dataset\\\\Combined New\\\\train\\\\c6\",\n",
      "    \"model_pretrained\": true,\n",
      "    \"model_checkpoint\": \"Distracted Driver Dataset\\\\checkpoint\\\\checkpoint.ckpt\",\n",
      "    \"lr\": 0.0003,\n",
      "    \"in_channels\": 3\n",
      "}\n"
     ]
    },
    {
     "name": "stderr",
     "output_type": "stream",
     "text": [
      "Lightning automatically upgraded your loaded checkpoint from v1.2.2 to v2.0.0. To apply the upgrade to your files permanently, run `python -m pytorch_lightning.utilities.upgrade_checkpoint --file C:\\Users\\ASUS\\Desktop\\Distracted Driver Dataset\\checkpoint\\checkpoint.ckpt`\n"
     ]
    },
    {
     "name": "stdout",
     "output_type": "stream",
     "text": [
      "Loaded checkpoint from Distracted Driver Dataset\\checkpoint\\checkpoint.ckpt.\n",
      "model built\n",
      "Found 723 in C:\\Users\\ASUS\\Desktop\\Distracted Driver Dataset\\Combined New\\train\\c6.\n"
     ]
    },
    {
     "name": "stderr",
     "output_type": "stream",
     "text": [
      "Save predictions: 100%|██████████████████████████████████████████████████████████████| 723/723 [04:47<00:00,  2.52it/s]\n"
     ]
    },
    {
     "name": "stdout",
     "output_type": "stream",
     "text": [
      "C:\\Users\\ASUS\\Desktop\\Distracted Driver Dataset\\Combined New\\train\\c7\n",
      "1287\n",
      "{\n",
      "    \"mode\": \"predict\",\n",
      "    \"epochs\": 50,\n",
      "    \"batch_size\": 16,\n",
      "    \"gpus\": 1,\n",
      "    \"datasets\": \"eyth eh hof gtea\",\n",
      "    \"height\": 256,\n",
      "    \"width\": 256,\n",
      "    \"data_base_path\": \"C:\\\\Users\\\\ASUS\\\\Desktop\\\\Distracted Driver Dataset\\\\Combined New\\\\train\\\\c7\",\n",
      "    \"model_pretrained\": true,\n",
      "    \"model_checkpoint\": \"Distracted Driver Dataset\\\\checkpoint\\\\checkpoint.ckpt\",\n",
      "    \"lr\": 0.0003,\n",
      "    \"in_channels\": 3\n",
      "}\n"
     ]
    },
    {
     "name": "stderr",
     "output_type": "stream",
     "text": [
      "Lightning automatically upgraded your loaded checkpoint from v1.2.2 to v2.0.0. To apply the upgrade to your files permanently, run `python -m pytorch_lightning.utilities.upgrade_checkpoint --file C:\\Users\\ASUS\\Desktop\\Distracted Driver Dataset\\checkpoint\\checkpoint.ckpt`\n"
     ]
    },
    {
     "name": "stdout",
     "output_type": "stream",
     "text": [
      "Loaded checkpoint from Distracted Driver Dataset\\checkpoint\\checkpoint.ckpt.\n",
      "model built\n",
      "Found 1287 in C:\\Users\\ASUS\\Desktop\\Distracted Driver Dataset\\Combined New\\train\\c7.\n"
     ]
    },
    {
     "name": "stderr",
     "output_type": "stream",
     "text": [
      "Save predictions: 100%|████████████████████████████████████████████████████████████| 1287/1287 [08:36<00:00,  2.49it/s]\n"
     ]
    }
   ],
   "source": [
    "if __name__ == '__main__':\n",
    "    for path in TEST_CLS:\n",
    "        print(path)\n",
    "        print(len(os.listdir(path)))\n",
    "        args = get_args(path)\n",
    "        main(args)\n",
    "    for path in TRAIN_CLS:\n",
    "        print(path)\n",
    "        print(len(os.listdir(path)))\n",
    "        args = get_args(path)\n",
    "        main(args)"
   ]
  },
  {
   "cell_type": "code",
   "execution_count": 12,
   "id": "d8ee2131",
   "metadata": {},
   "outputs": [],
   "source": [
    "t = [\"test\", \"train\"]\n",
    "if not os.path.exists(finalfolder_path):\n",
    "    os.mkdir(finalfolder_path)\n",
    "for x in t:\n",
    "    if not os.path.exists(os.path.join(os.getcwd(), finalfolder_path, x)):\n",
    "        os.mkdir(os.path.join(os.getcwd(), finalfolder_path, x))\n",
    "    for cls in CLASS:\n",
    "        if not os.path.exists(os.path.join(os.getcwd(), finalfolder_path, x, cls[0])):\n",
    "            os.mkdir(os.path.join(os.getcwd(), finalfolder_path, x, cls[0]))"
   ]
  },
  {
   "attachments": {},
   "cell_type": "markdown",
   "id": "53978bbc",
   "metadata": {},
   "source": [
    "We use the hand masks as predicted by the model and extract out the relevant pixels from the original image to get our final hands dataset."
   ]
  },
  {
   "cell_type": "code",
   "execution_count": 13,
   "id": "ddeed479",
   "metadata": {},
   "outputs": [],
   "source": [
    "for cls in TEST_CLS:\n",
    "    for ori_name in os.listdir(cls):  # Put on the hand segmented image as a mask on the original test image\n",
    "        ori_img = cv2.imread(os.path.join(os.getcwd(), cls, ori_name))\n",
    "        mask = cv2.imread(os.path.join(os.getcwd(), destinationfolder_path, \"test\", naming(cls), ori_name + \".png\"))\n",
    "        W, H, C = ori_img.shape\n",
    "        mask = cv2.resize(mask, (H, W))\n",
    "        mask[mask < 128] = 1\n",
    "        mask[mask > 128] = 0\n",
    "        ori_img = ori_img * (mask == 0)\n",
    "        ori_img[mask == 1] = 255\n",
    "        cv2.imwrite(os.path.join(os.getcwd(), finalfolder_path, \"test\", naming(cls), ori_name + \".png\"), ori_img)\n",
    "\n",
    "for cls in TRAIN_CLS:\n",
    "    for ori_name in os.listdir(cls):  # Put on the hand segmented image as a mask on the original train image\n",
    "        ori_img = cv2.imread(os.path.join(os.getcwd(), cls, ori_name))\n",
    "        mask = cv2.imread(os.path.join(os.getcwd(), destinationfolder_path, \"train\", naming(cls), ori_name + \".png\"))\n",
    "        W, H, C = ori_img.shape\n",
    "        mask = cv2.resize(mask, (H, W))\n",
    "        mask[mask < 128] = 1\n",
    "        mask[mask > 128] = 0\n",
    "        ori_img = ori_img * (mask == 0)\n",
    "        ori_img[mask == 1] = 255\n",
    "        cv2.imwrite(os.path.join(os.getcwd(), finalfolder_path, \"train\", naming(cls), ori_name + \".png\"),\n",
    "                    ori_img)"
   ]
  },
  {
   "cell_type": "code",
   "execution_count": 8,
   "id": "131905be",
   "metadata": {},
   "outputs": [
    {
     "name": "stdout",
     "output_type": "stream",
     "text": [
      "(10225,) (3414,) (10225,) (3414,)\n"
     ]
    }
   ],
   "source": [
    "X_train = []\n",
    "X_test = []\n",
    "Y_train = []\n",
    "Y_test = []\n",
    "t = [\"test\", \"train\"]\n",
    "X = [X_test, X_train]\n",
    "Y = [Y_test, Y_train]\n",
    "\n",
    "for i in range(2):\n",
    "    for cls in os.listdir(os.path.join(os.getcwd(), finalfolder_path, t[i])):\n",
    "        for ori_name in os.listdir(os.path.join(os.getcwd(), finalfolder_path, t[i], cls)):\n",
    "            X[i].append(os.path.join(os.getcwd(), finalfolder_path, t[i], cls, ori_name))\n",
    "            Y[i].append(int(cls[1]))\n",
    "\n",
    "X_train = np.array(X_train)\n",
    "X_test = np.array(X_test)\n",
    "Y_train = np.array(Y_train)\n",
    "Y_test = np.array(Y_test)\n",
    "print(X_train.shape, X_test.shape,Y_train.shape, Y_test.shape)"
   ]
  },
  {
   "cell_type": "code",
   "execution_count": 10,
   "id": "c64b0801",
   "metadata": {},
   "outputs": [
    {
     "name": "stdout",
     "output_type": "stream",
     "text": [
      "(2045,)\n",
      "(2045,)\n"
     ]
    }
   ],
   "source": [
    "(X_train_final, X_val, Y_train_final, Y_val) = train_test_split(X_train, Y_train, test_size=0.2, stratify=Y_train, random_state=42)\n",
    "X_val = np.asarray(X_val)\n",
    "Y_val = np.asarray(Y_val)\n",
    "X_train_final = np.asarray(X_train_final)\n",
    "Y_traim_final = np.asarray(Y_train_final)\n",
    "print(X_val.shape)\n",
    "print(Y_val.shape)"
   ]
  },
  {
   "cell_type": "code",
   "execution_count": 11,
   "id": "ede404e5",
   "metadata": {},
   "outputs": [
    {
     "name": "stdout",
     "output_type": "stream",
     "text": [
      "X_train_resized shape:  (8180, 100, 75, 1)\n"
     ]
    }
   ],
   "source": [
    "X_train_resized = []\n",
    "Y_train_resized = []\n",
    "i = 0\n",
    "for x in X_train_final:\n",
    "    if len(x)!=0 and len(x[0])!=0:\n",
    "        img = cv2.imread(x)\n",
    "        img = cv2.resize(img, (75, 100))\n",
    "        img = cv2.cvtColor(img, cv2.COLOR_RGB2GRAY)\n",
    "        # img_blur = cv2.GaussianBlur(img, (3,3), 0)\n",
    "        # edges = cv2.Canny(image=img_blur, threshold1=100, threshold2=200)\n",
    "        # edges = np.asarray(edges)\n",
    "        # edges = edges.reshape(120, 80, 1)\n",
    "        X_train_resized.append(img/255.0)\n",
    "        Y_train_resized.append(Y_train_final[i])\n",
    "    i+=1\n",
    "X_train_resized = np.asarray(X_train_resized)\n",
    "X_train_resized = X_train_resized.reshape(-1, 100, 75, 1)\n",
    "print(\"X_train_resized shape: \", X_train_resized.shape)"
   ]
  },
  {
   "cell_type": "code",
   "execution_count": 12,
   "id": "f06fbe7a",
   "metadata": {},
   "outputs": [
    {
     "data": {
      "text/plain": [
       "Text(0, 0.5, 'Frequency')"
      ]
     },
     "execution_count": 12,
     "metadata": {},
     "output_type": "execute_result"
    },
    {
     "data": {
      "image/png": "[encoded data removed]",
      "text/plain": [
       "<Figure size 432x288 with 1 Axes>"
      ]
     },
     "metadata": {
      "needs_background": "light"
     },
     "output_type": "display_data"
    }
   ],
   "source": [
    "n, bins, patches = plt.hist(x=Y_train_resized, bins='auto', color='#0504aa')\n",
    "plt.grid(axis='y', alpha=0.75)\n",
    "plt.xlabel('Labels')\n",
    "plt.ylabel('Frequency')"
   ]
  },
  {
   "cell_type": "code",
   "execution_count": 13,
   "id": "867ae002",
   "metadata": {},
   "outputs": [
    {
     "name": "stdout",
     "output_type": "stream",
     "text": [
      "New y_train shape:  (8180, 8)\n"
     ]
    }
   ],
   "source": [
    "Y_train_resized = np_utils.to_categorical(Y_train_resized, 8)\n",
    "print('New y_train shape: ', Y_train_resized.shape)"
   ]
  },
  {
   "cell_type": "code",
   "execution_count": 14,
   "id": "c570e65a",
   "metadata": {},
   "outputs": [
    {
     "name": "stdout",
     "output_type": "stream",
     "text": [
      "(2045, 100, 75, 1)\n"
     ]
    }
   ],
   "source": [
    "X_val_resized = []\n",
    "Y_val_resized = []\n",
    "i = 0\n",
    "for x in X_val:\n",
    "    if len(x)!=0 and len(x[0])!=0:\n",
    "        img = cv2.imread(x)\n",
    "        img = cv2.resize(img, (75, 100))\n",
    "        img = cv2.cvtColor(img, cv2.COLOR_RGB2GRAY)\n",
    "        # img_blur = cv2.GaussianBlur(img, (3,3), 0)\n",
    "        # edges = cv2.Canny(image=img_blur, threshold1=100, threshold2=200)\n",
    "        # edges = np.asarray(edges)\n",
    "        # edges = edges.reshape(120, 80, 1)\n",
    "        X_val_resized.append(img/255)\n",
    "        Y_val_resized.append(Y_val[i])\n",
    "    i+=1\n",
    "X_val_resized = np.asarray(X_val_resized)\n",
    "X_val_resized = X_val_resized.reshape(-1, 100, 75, 1)\n",
    "print(X_val_resized.shape)"
   ]
  },
  {
   "cell_type": "code",
   "execution_count": 15,
   "id": "db1775b0",
   "metadata": {},
   "outputs": [
    {
     "name": "stdout",
     "output_type": "stream",
     "text": [
      "New y_train shape:  (2045, 8)\n"
     ]
    }
   ],
   "source": [
    "Y_val_resized = np_utils.to_categorical(Y_val_resized, 8)\n",
    "print('New y_train shape: ', Y_val_resized.shape)"
   ]
  },
  {
   "cell_type": "code",
   "execution_count": 16,
   "id": "62f16a54",
   "metadata": {},
   "outputs": [
    {
     "name": "stdout",
     "output_type": "stream",
     "text": [
      "Model: \"sequential\"\n",
      "_________________________________________________________________\n",
      " Layer (type)                Output Shape              Param #   \n",
      "=================================================================\n",
      " conv2d (Conv2D)             (None, 99, 74, 16)        80        \n",
      "                                                                 \n",
      " batch_normalization (BatchN  (None, 99, 74, 16)       64        \n",
      " ormalization)                                                   \n",
      "                                                                 \n",
      " max_pooling2d (MaxPooling2D  (None, 33, 24, 16)       0         \n",
      " )                                                               \n",
      "                                                                 \n",
      " conv2d_1 (Conv2D)           (None, 32, 23, 32)        2080      \n",
      "                                                                 \n",
      " batch_normalization_1 (Batc  (None, 32, 23, 32)       128       \n",
      " hNormalization)                                                 \n",
      "                                                                 \n",
      " max_pooling2d_1 (MaxPooling  (None, 8, 5, 32)         0         \n",
      " 2D)                                                             \n",
      "                                                                 \n",
      " flatten (Flatten)           (None, 1280)              0         \n",
      "                                                                 \n",
      " dropout (Dropout)           (None, 1280)              0         \n",
      "                                                                 \n",
      " dense (Dense)               (None, 8)                 10248     \n",
      "                                                                 \n",
      "=================================================================\n",
      "Total params: 12,600\n",
      "Trainable params: 12,504\n",
      "Non-trainable params: 96\n",
      "_________________________________________________________________\n"
     ]
    }
   ],
   "source": [
    "model = models.Sequential()\n",
    "model.add(layers.Conv2D(16, (2, 2), activation='relu', input_shape=(100, 75, 1)))\n",
    "model.add(layers.BatchNormalization())\n",
    "model.add(layers.MaxPooling2D((3, 3)))\n",
    "model.add(layers.Conv2D(32, (2, 2), activation='relu'))\n",
    "model.add(layers.BatchNormalization())\n",
    "model.add(layers.MaxPooling2D((4, 4)))\n",
    "model.add(layers.Flatten())\n",
    "model.add(layers.Dropout(0.5))\n",
    "# model.add(layers.Dense(64, activation='relu'))\n",
    "model.add(layers.Dense(8, activation='softmax'))\n",
    "\n",
    "model.summary()"
   ]
  },
  {
   "cell_type": "code",
   "execution_count": 17,
   "id": "d73b768d",
   "metadata": {},
   "outputs": [
    {
     "name": "stdout",
     "output_type": "stream",
     "text": [
      "Epoch 1/30\n",
      "164/164 [==============================] - 10s 31ms/step - loss: 3.8391 - accuracy: 0.3028 - val_loss: 1.9385 - val_accuracy: 0.2303\n",
      "Epoch 2/30\n",
      "164/164 [==============================] - 4s 27ms/step - loss: 2.3351 - accuracy: 0.3829 - val_loss: 1.7108 - val_accuracy: 0.4200\n",
      "Epoch 3/30\n",
      "164/164 [==============================] - 5s 28ms/step - loss: 1.9140 - accuracy: 0.4237 - val_loss: 1.5467 - val_accuracy: 0.4284\n",
      "Epoch 4/30\n",
      "164/164 [==============================] - 5s 29ms/step - loss: 1.7034 - accuracy: 0.4493 - val_loss: 1.5091 - val_accuracy: 0.4323\n",
      "Epoch 5/30\n",
      "164/164 [==============================] - 4s 27ms/step - loss: 1.5521 - accuracy: 0.4704 - val_loss: 1.9563 - val_accuracy: 0.3584\n",
      "Epoch 6/30\n",
      "164/164 [==============================] - 4s 27ms/step - loss: 1.4578 - accuracy: 0.4936 - val_loss: 1.5874 - val_accuracy: 0.4240\n",
      "Epoch 7/30\n",
      "164/164 [==============================] - 4s 27ms/step - loss: 1.3838 - accuracy: 0.5149 - val_loss: 1.4760 - val_accuracy: 0.4557\n",
      "Epoch 8/30\n",
      "164/164 [==============================] - 4s 27ms/step - loss: 1.3489 - accuracy: 0.5244 - val_loss: 1.2768 - val_accuracy: 0.5413\n",
      "Epoch 9/30\n",
      "164/164 [==============================] - 4s 27ms/step - loss: 1.2937 - accuracy: 0.5331 - val_loss: 2.1119 - val_accuracy: 0.3438\n",
      "Epoch 10/30\n",
      "164/164 [==============================] - 4s 27ms/step - loss: 1.2699 - accuracy: 0.5413 - val_loss: 1.2684 - val_accuracy: 0.5394\n",
      "Epoch 11/30\n",
      "164/164 [==============================] - 4s 27ms/step - loss: 1.2261 - accuracy: 0.5581 - val_loss: 3.4439 - val_accuracy: 0.2284\n",
      "Epoch 12/30\n",
      "164/164 [==============================] - 5s 27ms/step - loss: 1.2006 - accuracy: 0.5669 - val_loss: 2.0618 - val_accuracy: 0.3663\n",
      "Epoch 13/30\n",
      "164/164 [==============================] - 4s 27ms/step - loss: 1.1691 - accuracy: 0.5771 - val_loss: 2.3027 - val_accuracy: 0.3506\n",
      "Epoch 14/30\n",
      "164/164 [==============================] - 4s 27ms/step - loss: 1.1531 - accuracy: 0.5841 - val_loss: 1.3748 - val_accuracy: 0.5609\n",
      "Epoch 15/30\n",
      "164/164 [==============================] - 5s 28ms/step - loss: 1.1303 - accuracy: 0.5899 - val_loss: 1.9358 - val_accuracy: 0.3746\n",
      "Epoch 16/30\n",
      "164/164 [==============================] - 4s 27ms/step - loss: 1.1113 - accuracy: 0.5978 - val_loss: 1.3472 - val_accuracy: 0.5555\n",
      "Epoch 17/30\n",
      "164/164 [==============================] - 5s 28ms/step - loss: 1.0980 - accuracy: 0.5985 - val_loss: 1.3137 - val_accuracy: 0.5320\n",
      "Epoch 18/30\n",
      "164/164 [==============================] - 4s 27ms/step - loss: 1.0864 - accuracy: 0.6115 - val_loss: 1.2353 - val_accuracy: 0.5428\n",
      "Epoch 19/30\n",
      "164/164 [==============================] - 5s 28ms/step - loss: 1.0590 - accuracy: 0.6244 - val_loss: 1.9133 - val_accuracy: 0.4230\n",
      "Epoch 20/30\n",
      "164/164 [==============================] - 5s 28ms/step - loss: 1.0504 - accuracy: 0.6242 - val_loss: 1.9197 - val_accuracy: 0.4450\n",
      "Epoch 21/30\n",
      "164/164 [==============================] - 5s 28ms/step - loss: 1.0386 - accuracy: 0.6241 - val_loss: 1.3811 - val_accuracy: 0.5306\n"
     ]
    }
   ],
   "source": [
    "callbacks_list = [\n",
    "    keras.callbacks.EarlyStopping(monitor='accuracy', patience=2)\n",
    "]\n",
    "\n",
    "opt = keras.optimizers.SGD(learning_rate=0.01)\n",
    "\n",
    "model.compile(loss='categorical_crossentropy',\n",
    "                optimizer='adam', metrics=['accuracy'])\n",
    "\n",
    "BATCH_SIZE = 50\n",
    "EPOCHS = 30\n",
    "\n",
    "history = model.fit(X_train_resized, Y_train_resized, epochs=EPOCHS, batch_size=BATCH_SIZE,callbacks=callbacks_list,\n",
    "                    validation_data=(X_val_resized, Y_val_resized), shuffle = True)"
   ]
  },
  {
   "cell_type": "code",
   "execution_count": 18,
   "id": "5b97aa7c",
   "metadata": {},
   "outputs": [
    {
     "data": {
      "image/png": "[encoded data removed]",
      "text/plain": [
       "<Figure size 432x288 with 1 Axes>"
      ]
     },
     "metadata": {
      "needs_background": "light"
     },
     "output_type": "display_data"
    }
   ],
   "source": [
    "plt.figure(figsize=(6, 4))\n",
    "plt.plot(history.history['accuracy'], \"g--\", label=\"Accuracy of training data\")\n",
    "plt.plot(history.history['val_accuracy'], \"g\", label=\"Accuracy of validation data\")\n",
    "plt.plot(history.history['loss'], \"r--\", label=\"Loss of training data\")\n",
    "plt.plot(history.history['val_loss'], \"r\", label=\"Loss of validation data\")\n",
    "plt.title('Model Accuracy and Loss')\n",
    "plt.ylabel('Accuracy and Loss')\n",
    "plt.xlabel('Training Epoch')\n",
    "plt.ylim(0)\n",
    "plt.legend()\n",
    "plt.show()"
   ]
  },
  {
   "cell_type": "code",
   "execution_count": 19,
   "id": "a46d9384",
   "metadata": {},
   "outputs": [
    {
     "name": "stdout",
     "output_type": "stream",
     "text": [
      "(3414, 100, 75, 1)\n"
     ]
    }
   ],
   "source": [
    "X_test_resized = []\n",
    "Y_test_resized = []\n",
    "i = 0\n",
    "for x in X_test:\n",
    "    if len(x)!=0 and len(x[0])!=0:\n",
    "        img = cv2.imread(x)\n",
    "        img = cv2.resize(img, (75, 100))\n",
    "        img = cv2.cvtColor(img, cv2.COLOR_RGB2GRAY)\n",
    "        X_test_resized.append(img/255)\n",
    "        Y_test_resized.append(Y_test[i])\n",
    "    i+=1\n",
    "X_test_resized = np.asarray(X_test_resized)\n",
    "X_test_resized = X_test_resized.reshape(-1, 100, 75, 1)\n",
    "print(X_test_resized.shape)"
   ]
  },
  {
   "cell_type": "code",
   "execution_count": 20,
   "id": "a78d086e",
   "metadata": {},
   "outputs": [
    {
     "name": "stdout",
     "output_type": "stream",
     "text": [
      "New y_train shape:  (3414, 8)\n"
     ]
    }
   ],
   "source": [
    "Y_test_resized = np_utils.to_categorical(Y_test_resized, 8)\n",
    "print('New y_train shape: ', Y_test_resized.shape)"
   ]
  },
  {
   "cell_type": "code",
   "execution_count": 21,
   "id": "562ec6c3",
   "metadata": {},
   "outputs": [
    {
     "name": "stdout",
     "output_type": "stream",
     "text": [
      "107/107 [==============================] - 1s 9ms/step - loss: 1.3669 - accuracy: 0.5363\n",
      "\n",
      "Accuracy on test data: 0.54\n",
      "\n",
      "Loss on test data: 1.37\n"
     ]
    }
   ],
   "source": [
    "score = model.evaluate(X_test_resized, Y_test_resized, verbose=1)\n",
    "\n",
    "print(\"\\nAccuracy on test data: %0.2f\" % score[1])\n",
    "print(\"\\nLoss on test data: %0.2f\" % score[0])"
   ]
  },
  {
   "cell_type": "code",
   "execution_count": 22,
   "id": "802cfe14",
   "metadata": {},
   "outputs": [
    {
     "name": "stdout",
     "output_type": "stream",
     "text": [
      "107/107 [==============================] - 1s 6ms/step\n"
     ]
    },
    {
     "data": {
      "image/png": "[encoded data removed]",
      "text/plain": [
       "<Figure size 432x288 with 2 Axes>"
      ]
     },
     "metadata": {
      "needs_background": "light"
     },
     "output_type": "display_data"
    },
    {
     "name": "stdout",
     "output_type": "stream",
     "text": [
      "\n",
      "--- Classification report for test data ---\n",
      "\n",
      "              precision    recall  f1-score   support\n",
      "\n",
      "           0       0.85      0.41      0.55       711\n",
      "           1       0.91      0.30      0.46       667\n",
      "           2       0.51      0.78      0.62       602\n",
      "           3       0.76      0.88      0.82       264\n",
      "           4       0.85      0.14      0.24       255\n",
      "           5       0.52      0.50      0.51       243\n",
      "           6       0.25      0.76      0.37       242\n",
      "           7       0.49      0.69      0.57       430\n",
      "\n",
      "    accuracy                           0.54      3414\n",
      "   macro avg       0.64      0.56      0.52      3414\n",
      "weighted avg       0.68      0.54      0.53      3414\n",
      "\n"
     ]
    }
   ],
   "source": [
    "LABELS = [0, 1, 2, 3, 4, 5, 6, 7]\n",
    "def show_confusion_matrix(validations, predictions):\n",
    "\n",
    "    matrix = metrics.confusion_matrix(validations, predictions)\n",
    "    plt.figure(figsize=(6, 4))\n",
    "    sns.heatmap(matrix,\n",
    "                cmap=\"coolwarm\",\n",
    "                linecolor='white',\n",
    "                linewidths=1,\n",
    "                xticklabels=LABELS,\n",
    "                yticklabels=LABELS,\n",
    "                annot=True,\n",
    "                fmt=\"d\")\n",
    "    plt.title(\"Confusion Matrix\")\n",
    "    plt.ylabel(\"True Label\")\n",
    "    plt.xlabel(\"Predicted Label\")\n",
    "    plt.show()\n",
    "\n",
    "y_pred_test = model.predict(X_test_resized)\n",
    "# Take the class with the highest probability from the test predictions\n",
    "max_y_pred_test = np.argmax(y_pred_test, axis=1)\n",
    "max_y_test = np.argmax(Y_test_resized, axis=1)\n",
    "\n",
    "show_confusion_matrix(max_y_test, max_y_pred_test)\n",
    "\n",
    "print(\"\\n--- Classification report for test data ---\\n\")\n",
    "\n",
    "print(classification_report(max_y_test, max_y_pred_test))"
   ]
  },
  {
   "attachments": {},
   "cell_type": "markdown",
   "id": "8b040951",
   "metadata": {},
   "source": [
    "## Preparing Data For Transfer Learning\n",
    "### Saving Data As Images\n",
    "\n",
    "For some images, the hands were not extracted out, we remove such white (empty) images from our dataset before performing transfer learning."
   ]
  },
  {
   "cell_type": "code",
   "execution_count": 29,
   "id": "bf10db27",
   "metadata": {},
   "outputs": [],
   "source": [
    "for i in range(X_train_final.shape[0]):\n",
    "    x = cv2.imread(X_train_final[i])\n",
    "    if not np.all(x == 255):\n",
    "        cv2.imwrite(\"Data/combined new hands/train/\"+ str(Y_train_final[i]) + \"/\" + str(i) + \".jpg\", x)"
   ]
  },
  {
   "cell_type": "code",
   "execution_count": 30,
   "id": "50a6c244",
   "metadata": {},
   "outputs": [],
   "source": [
    "for i in range(X_val.shape[0]):\n",
    "    x_val = cv2.imread(X_val[i])\n",
    "    if not np.all(x_val == 255):  \n",
    "        cv2.imwrite(\"Data/combined new hands/val/\" + str(Y_val[i]) + \"/\" + str(i) + \".jpg\", x_val)"
   ]
  },
  {
   "cell_type": "code",
   "execution_count": 31,
   "id": "abaeb983",
   "metadata": {},
   "outputs": [],
   "source": [
    "for i in range(X_test.shape[0]):\n",
    "    x_test = cv2.imread(X_test[i])\n",
    "    if not np.all(x_test == 255): \n",
    "        cv2.imwrite(\"Data/combined new hands/test/\" + str(Y_test[i]) + \"/\" + str(i) + \".jpg\", x_test)"
   ]
  },
  {
   "cell_type": "markdown",
   "id": "38008493",
   "metadata": {},
   "source": [
    "## Transfer Learning with TensorFlow Keras\n",
    "\n",
    "https://github.com/tejanirla/image_classification/blob/master/transfer_learning.ipynb"
   ]
  },
  {
   "cell_type": "code",
   "execution_count": 32,
   "id": "d9a4208c",
   "metadata": {},
   "outputs": [
    {
     "name": "stdout",
     "output_type": "stream",
     "text": [
      "Found 7862 images belonging to 8 classes.\n",
      "Found 1976 images belonging to 8 classes.\n",
      "Found 3291 images belonging to 8 classes.\n"
     ]
    }
   ],
   "source": [
    "train_dir = \"Data/combined new hands/train\"\n",
    "val_dir = \"Data/combined new hands/val\"\n",
    "test_dir = \"Data/combined new hands/test\"\n",
    "# Add our data-augmentation parameters to ImageDataGenerator\n",
    "train_datagen = ImageDataGenerator(rescale = 1./255.,\n",
    "                                   width_shift_range = 0.02,\n",
    "                                   height_shift_range = 0.02,\n",
    "                                   horizontal_flip = False)\n",
    "\n",
    "# Note that the validation data should not be augmented!\n",
    "val_datagen = ImageDataGenerator( rescale = 1.0/255. )\n",
    "\n",
    "# Note that the test data should not be augmented!\n",
    "test_datagen = ImageDataGenerator( rescale = 1.0/255. )\n",
    "\n",
    "# Flow training images in batches of 40 using train_datagen generator\n",
    "train_generator = train_datagen.flow_from_directory(train_dir,\n",
    "                                                    batch_size = 40,\n",
    "                                                    class_mode = 'categorical', \n",
    "                                                    target_size = (100, 75), shuffle = True)   \n",
    "# Flow validation images in batches of 40 using val_datagen generator\n",
    "val_generator =  val_datagen.flow_from_directory( val_dir,\n",
    "                                                          batch_size  = 40,\n",
    "                                                          class_mode  = 'categorical', \n",
    "                                                          target_size = (100, 75), shuffle = True)  \n",
    "\n",
    "# Flow validation images in batches of 40 using test_datagen generator\n",
    "test_generator =  test_datagen.flow_from_directory( test_dir,\n",
    "                                                          batch_size  = 40,\n",
    "                                                          class_mode  = 'categorical', \n",
    "                                                          target_size = (100, 75), shuffle = False)"
   ]
  },
  {
   "cell_type": "code",
   "execution_count": 33,
   "id": "0b6a1a6a",
   "metadata": {},
   "outputs": [],
   "source": [
    "pre_trained_model = InceptionV3(input_shape = (100, 75, 3), # Shape of our images\n",
    "                                include_top = False, # Leave out the last fully connected layer\n",
    "                                weights = 'imagenet')\n",
    "for layer in pre_trained_model.layers:\n",
    "    layer.trainable = True"
   ]
  },
  {
   "cell_type": "code",
   "execution_count": 34,
   "id": "c95703f2",
   "metadata": {},
   "outputs": [],
   "source": [
    "last_layer = pre_trained_model.get_layer('mixed4') #Only use layers including and above 'mixed4'\n",
    "last_op = last_layer.output\n",
    "# Flatten the output layer to 1 dimension\n",
    "x = layers.GlobalAveragePooling2D()(last_op)\n",
    "# # Add a fully connected layer with 512 hidden units and ReLU activation\n",
    "x = layers.Dense(512, activation='relu')(x)\n",
    "# Add a dropout rate of 0.5\n",
    "x = layers.Dropout(0.5)(x)                  \n",
    "# Add a final sigmoid layer for classification\n",
    "x = layers.Dense  (8, activation='softmax')(x)           \n",
    "\n",
    "model = keras.Model(pre_trained_model.input, x) \n",
    "\n",
    "model.compile(optimizer = keras.optimizers.SGD(learning_rate=0.01), \n",
    "              loss = 'categorical_crossentropy', \n",
    "              metrics = ['acc'])"
   ]
  },
  {
   "cell_type": "code",
   "execution_count": 35,
   "id": "85805e2f",
   "metadata": {},
   "outputs": [],
   "source": [
    "class myCallback(tf.keras.callbacks.Callback):\n",
    "  def on_epoch_end(self, epoch, logs={}):\n",
    "    if(logs.get('acc')>0.95):\n",
    "      print(\"\\nReached 95% accuracy so cancelling training!\")\n",
    "      self.model.stop_training = True"
   ]
  },
  {
   "cell_type": "code",
   "execution_count": 36,
   "id": "46038afb",
   "metadata": {},
   "outputs": [
    {
     "name": "stdout",
     "output_type": "stream",
     "text": [
      "Epoch 1/200\n",
      "20/20 - 39s - loss: 2.0487 - acc: 0.1925 - val_loss: 2.0979 - val_acc: 0.1600 - 39s/epoch - 2s/step\n",
      "Epoch 2/200\n",
      "20/20 - 31s - loss: 2.0101 - acc: 0.2037 - val_loss: 2.0138 - val_acc: 0.2150 - 31s/epoch - 2s/step\n",
      "Epoch 3/200\n",
      "20/20 - 30s - loss: 1.9242 - acc: 0.2450 - val_loss: 1.9679 - val_acc: 0.2525 - 30s/epoch - 1s/step\n",
      "Epoch 4/200\n",
      "20/20 - 29s - loss: 1.8896 - acc: 0.2900 - val_loss: 1.9344 - val_acc: 0.2837 - 29s/epoch - 1s/step\n",
      "Epoch 5/200\n",
      "20/20 - 28s - loss: 1.8334 - acc: 0.2900 - val_loss: 1.9095 - val_acc: 0.3325 - 28s/epoch - 1s/step\n",
      "Epoch 6/200\n",
      "20/20 - 28s - loss: 1.8454 - acc: 0.3069 - val_loss: 1.8894 - val_acc: 0.2912 - 28s/epoch - 1s/step\n",
      "Epoch 7/200\n",
      "20/20 - 27s - loss: 1.7813 - acc: 0.3388 - val_loss: 1.8497 - val_acc: 0.2975 - 27s/epoch - 1s/step\n",
      "Epoch 8/200\n",
      "20/20 - 28s - loss: 1.7462 - acc: 0.3450 - val_loss: 1.8374 - val_acc: 0.3462 - 28s/epoch - 1s/step\n",
      "Epoch 9/200\n",
      "20/20 - 26s - loss: 1.7246 - acc: 0.3600 - val_loss: 1.7787 - val_acc: 0.3512 - 26s/epoch - 1s/step\n",
      "Epoch 10/200\n",
      "20/20 - 29s - loss: 1.6740 - acc: 0.3850 - val_loss: 1.8016 - val_acc: 0.3113 - 29s/epoch - 1s/step\n",
      "Epoch 11/200\n",
      "20/20 - 26s - loss: 1.6776 - acc: 0.3800 - val_loss: 1.7735 - val_acc: 0.3262 - 26s/epoch - 1s/step\n",
      "Epoch 12/200\n",
      "20/20 - 25s - loss: 1.6030 - acc: 0.4150 - val_loss: 1.7662 - val_acc: 0.3313 - 25s/epoch - 1s/step\n",
      "Epoch 13/200\n",
      "20/20 - 25s - loss: 1.6389 - acc: 0.3837 - val_loss: 1.7203 - val_acc: 0.3487 - 25s/epoch - 1s/step\n",
      "Epoch 14/200\n",
      "20/20 - 25s - loss: 1.6092 - acc: 0.4125 - val_loss: 1.6568 - val_acc: 0.4250 - 25s/epoch - 1s/step\n",
      "Epoch 15/200\n",
      "20/20 - 25s - loss: 1.5721 - acc: 0.4275 - val_loss: 1.6025 - val_acc: 0.4475 - 25s/epoch - 1s/step\n",
      "Epoch 16/200\n",
      "20/20 - 25s - loss: 1.5772 - acc: 0.4350 - val_loss: 1.6195 - val_acc: 0.4538 - 25s/epoch - 1s/step\n",
      "Epoch 17/200\n",
      "20/20 - 24s - loss: 1.4336 - acc: 0.5138 - val_loss: 1.5575 - val_acc: 0.4613 - 24s/epoch - 1s/step\n",
      "Epoch 18/200\n",
      "20/20 - 24s - loss: 1.5297 - acc: 0.4412 - val_loss: 1.5403 - val_acc: 0.4775 - 24s/epoch - 1s/step\n",
      "Epoch 19/200\n",
      "20/20 - 24s - loss: 1.4282 - acc: 0.5000 - val_loss: 1.5119 - val_acc: 0.4650 - 24s/epoch - 1s/step\n",
      "Epoch 20/200\n",
      "20/20 - 23s - loss: 1.4000 - acc: 0.5013 - val_loss: 1.4782 - val_acc: 0.5013 - 23s/epoch - 1s/step\n",
      "Epoch 21/200\n",
      "20/20 - 24s - loss: 1.4138 - acc: 0.5075 - val_loss: 1.4521 - val_acc: 0.4950 - 24s/epoch - 1s/step\n",
      "Epoch 22/200\n",
      "20/20 - 24s - loss: 1.3511 - acc: 0.5200 - val_loss: 1.4422 - val_acc: 0.4963 - 24s/epoch - 1s/step\n",
      "Epoch 23/200\n",
      "20/20 - 25s - loss: 1.3765 - acc: 0.5163 - val_loss: 1.4014 - val_acc: 0.5250 - 25s/epoch - 1s/step\n",
      "Epoch 24/200\n",
      "20/20 - 23s - loss: 1.3384 - acc: 0.5243 - val_loss: 1.4083 - val_acc: 0.4812 - 23s/epoch - 1s/step\n",
      "Epoch 25/200\n",
      "20/20 - 23s - loss: 1.3786 - acc: 0.5113 - val_loss: 1.3406 - val_acc: 0.5512 - 23s/epoch - 1s/step\n",
      "Epoch 26/200\n",
      "20/20 - 24s - loss: 1.3577 - acc: 0.5175 - val_loss: 1.3312 - val_acc: 0.5400 - 24s/epoch - 1s/step\n",
      "Epoch 27/200\n",
      "20/20 - 24s - loss: 1.3342 - acc: 0.5150 - val_loss: 1.2686 - val_acc: 0.5750 - 24s/epoch - 1s/step\n",
      "Epoch 28/200\n",
      "20/20 - 23s - loss: 1.3183 - acc: 0.5263 - val_loss: 1.2704 - val_acc: 0.5663 - 23s/epoch - 1s/step\n",
      "Epoch 29/200\n",
      "20/20 - 23s - loss: 1.2514 - acc: 0.5600 - val_loss: 1.2457 - val_acc: 0.5475 - 23s/epoch - 1s/step\n",
      "Epoch 30/200\n",
      "20/20 - 24s - loss: 1.2172 - acc: 0.5850 - val_loss: 1.2758 - val_acc: 0.5612 - 24s/epoch - 1s/step\n",
      "Epoch 31/200\n",
      "20/20 - 23s - loss: 1.2822 - acc: 0.5387 - val_loss: 1.2402 - val_acc: 0.5713 - 23s/epoch - 1s/step\n",
      "Epoch 32/200\n",
      "20/20 - 24s - loss: 1.2177 - acc: 0.5612 - val_loss: 1.2400 - val_acc: 0.5725 - 24s/epoch - 1s/step\n",
      "Epoch 33/200\n",
      "20/20 - 23s - loss: 1.1932 - acc: 0.5838 - val_loss: 1.2319 - val_acc: 0.5775 - 23s/epoch - 1s/step\n",
      "Epoch 34/200\n",
      "20/20 - 23s - loss: 1.1777 - acc: 0.5838 - val_loss: 1.1999 - val_acc: 0.5725 - 23s/epoch - 1s/step\n",
      "Epoch 35/200\n",
      "20/20 - 23s - loss: 1.1979 - acc: 0.5738 - val_loss: 1.1957 - val_acc: 0.5900 - 23s/epoch - 1s/step\n",
      "Epoch 36/200\n",
      "20/20 - 23s - loss: 1.1706 - acc: 0.5888 - val_loss: 1.1577 - val_acc: 0.5900 - 23s/epoch - 1s/step\n",
      "Epoch 37/200\n",
      "20/20 - 23s - loss: 1.1376 - acc: 0.6012 - val_loss: 1.1857 - val_acc: 0.5938 - 23s/epoch - 1s/step\n",
      "Epoch 38/200\n",
      "20/20 - 23s - loss: 1.1605 - acc: 0.5950 - val_loss: 1.1669 - val_acc: 0.6162 - 23s/epoch - 1s/step\n",
      "Epoch 39/200\n",
      "20/20 - 24s - loss: 1.1284 - acc: 0.5900 - val_loss: 1.1467 - val_acc: 0.6062 - 24s/epoch - 1s/step\n",
      "Epoch 40/200\n",
      "20/20 - 23s - loss: 1.0775 - acc: 0.6062 - val_loss: 1.0918 - val_acc: 0.6162 - 23s/epoch - 1s/step\n",
      "Epoch 41/200\n",
      "20/20 - 23s - loss: 1.0710 - acc: 0.6288 - val_loss: 1.1119 - val_acc: 0.6162 - 23s/epoch - 1s/step\n",
      "Epoch 42/200\n",
      "20/20 - 23s - loss: 1.0911 - acc: 0.6212 - val_loss: 1.1009 - val_acc: 0.6125 - 23s/epoch - 1s/step\n",
      "Epoch 43/200\n",
      "20/20 - 23s - loss: 1.0530 - acc: 0.6350 - val_loss: 1.0839 - val_acc: 0.6513 - 23s/epoch - 1s/step\n",
      "Epoch 44/200\n",
      "20/20 - 23s - loss: 1.0804 - acc: 0.6300 - val_loss: 1.1518 - val_acc: 0.5962 - 23s/epoch - 1s/step\n",
      "Epoch 45/200\n",
      "20/20 - 23s - loss: 1.0466 - acc: 0.6400 - val_loss: 1.2184 - val_acc: 0.5638 - 23s/epoch - 1s/step\n",
      "Epoch 46/200\n",
      "20/20 - 24s - loss: 1.0036 - acc: 0.6575 - val_loss: 1.0762 - val_acc: 0.6388 - 24s/epoch - 1s/step\n",
      "Epoch 47/200\n",
      "20/20 - 23s - loss: 0.9838 - acc: 0.6513 - val_loss: 1.0735 - val_acc: 0.6200 - 23s/epoch - 1s/step\n",
      "Epoch 48/200\n",
      "20/20 - 24s - loss: 1.0007 - acc: 0.6575 - val_loss: 1.0820 - val_acc: 0.6288 - 24s/epoch - 1s/step\n",
      "Epoch 49/200\n",
      "20/20 - 23s - loss: 0.9962 - acc: 0.6562 - val_loss: 1.0249 - val_acc: 0.6538 - 23s/epoch - 1s/step\n",
      "Epoch 50/200\n",
      "20/20 - 23s - loss: 0.9893 - acc: 0.6612 - val_loss: 1.0296 - val_acc: 0.6550 - 23s/epoch - 1s/step\n",
      "Epoch 51/200\n",
      "20/20 - 23s - loss: 0.9936 - acc: 0.6513 - val_loss: 1.0218 - val_acc: 0.6450 - 23s/epoch - 1s/step\n",
      "Epoch 52/200\n",
      "20/20 - 23s - loss: 0.9819 - acc: 0.6612 - val_loss: 1.0280 - val_acc: 0.6525 - 23s/epoch - 1s/step\n",
      "Epoch 53/200\n",
      "20/20 - 23s - loss: 0.9353 - acc: 0.6650 - val_loss: 1.0928 - val_acc: 0.6087 - 23s/epoch - 1s/step\n",
      "Epoch 54/200\n",
      "20/20 - 23s - loss: 0.9268 - acc: 0.6837 - val_loss: 0.9957 - val_acc: 0.6675 - 23s/epoch - 1s/step\n",
      "Epoch 55/200\n",
      "20/20 - 23s - loss: 0.9145 - acc: 0.6862 - val_loss: 0.9820 - val_acc: 0.6675 - 23s/epoch - 1s/step\n",
      "Epoch 56/200\n",
      "20/20 - 23s - loss: 0.9378 - acc: 0.6837 - val_loss: 1.0202 - val_acc: 0.6500 - 23s/epoch - 1s/step\n",
      "Epoch 57/200\n",
      "20/20 - 23s - loss: 0.9099 - acc: 0.6875 - val_loss: 0.9884 - val_acc: 0.6587 - 23s/epoch - 1s/step\n",
      "Epoch 58/200\n",
      "20/20 - 23s - loss: 0.8769 - acc: 0.6862 - val_loss: 0.9631 - val_acc: 0.6725 - 23s/epoch - 1s/step\n",
      "Epoch 59/200\n",
      "20/20 - 23s - loss: 0.8269 - acc: 0.7237 - val_loss: 0.9235 - val_acc: 0.6750 - 23s/epoch - 1s/step\n",
      "Epoch 60/200\n",
      "20/20 - 23s - loss: 0.8337 - acc: 0.7312 - val_loss: 1.0139 - val_acc: 0.6450 - 23s/epoch - 1s/step\n",
      "Epoch 61/200\n",
      "20/20 - 23s - loss: 0.8557 - acc: 0.6995 - val_loss: 0.9347 - val_acc: 0.6737 - 23s/epoch - 1s/step\n",
      "Epoch 62/200\n",
      "20/20 - 23s - loss: 0.8199 - acc: 0.7251 - val_loss: 0.9555 - val_acc: 0.6750 - 23s/epoch - 1s/step\n",
      "Epoch 63/200\n",
      "20/20 - 23s - loss: 0.8017 - acc: 0.7287 - val_loss: 0.9399 - val_acc: 0.6875 - 23s/epoch - 1s/step\n",
      "Epoch 64/200\n",
      "20/20 - 23s - loss: 0.8461 - acc: 0.7088 - val_loss: 0.9797 - val_acc: 0.6675 - 23s/epoch - 1s/step\n",
      "Epoch 65/200\n",
      "20/20 - 23s - loss: 0.8560 - acc: 0.7138 - val_loss: 0.8672 - val_acc: 0.7050 - 23s/epoch - 1s/step\n",
      "Epoch 66/200\n",
      "20/20 - 23s - loss: 0.8401 - acc: 0.7063 - val_loss: 0.8722 - val_acc: 0.6938 - 23s/epoch - 1s/step\n",
      "Epoch 67/200\n",
      "20/20 - 23s - loss: 0.7981 - acc: 0.7200 - val_loss: 0.9115 - val_acc: 0.6963 - 23s/epoch - 1s/step\n",
      "Epoch 68/200\n",
      "20/20 - 23s - loss: 0.8153 - acc: 0.7325 - val_loss: 0.9351 - val_acc: 0.6750 - 23s/epoch - 1s/step\n",
      "Epoch 69/200\n",
      "20/20 - 23s - loss: 0.7945 - acc: 0.7362 - val_loss: 0.9472 - val_acc: 0.6650 - 23s/epoch - 1s/step\n",
      "Epoch 70/200\n",
      "20/20 - 23s - loss: 0.7710 - acc: 0.7500 - val_loss: 0.8288 - val_acc: 0.7163 - 23s/epoch - 1s/step\n",
      "Epoch 71/200\n",
      "20/20 - 23s - loss: 0.7687 - acc: 0.7275 - val_loss: 0.8697 - val_acc: 0.7050 - 23s/epoch - 1s/step\n",
      "Epoch 72/200\n",
      "20/20 - 23s - loss: 0.7334 - acc: 0.7487 - val_loss: 0.8843 - val_acc: 0.6963 - 23s/epoch - 1s/step\n",
      "Epoch 73/200\n",
      "20/20 - 23s - loss: 0.7872 - acc: 0.7276 - val_loss: 0.8709 - val_acc: 0.7088 - 23s/epoch - 1s/step\n",
      "Epoch 74/200\n",
      "20/20 - 24s - loss: 0.7520 - acc: 0.7550 - val_loss: 0.8763 - val_acc: 0.7125 - 24s/epoch - 1s/step\n",
      "Epoch 75/200\n",
      "20/20 - 23s - loss: 0.7915 - acc: 0.7138 - val_loss: 0.7548 - val_acc: 0.7500 - 23s/epoch - 1s/step\n",
      "Epoch 76/200\n",
      "20/20 - 23s - loss: 0.7137 - acc: 0.7625 - val_loss: 0.9301 - val_acc: 0.6850 - 23s/epoch - 1s/step\n",
      "Epoch 77/200\n",
      "20/20 - 23s - loss: 0.7273 - acc: 0.7462 - val_loss: 0.8705 - val_acc: 0.6913 - 23s/epoch - 1s/step\n",
      "Epoch 78/200\n",
      "20/20 - 23s - loss: 0.7569 - acc: 0.7300 - val_loss: 0.7678 - val_acc: 0.7387 - 23s/epoch - 1s/step\n",
      "Epoch 79/200\n",
      "20/20 - 23s - loss: 0.6778 - acc: 0.7600 - val_loss: 0.7566 - val_acc: 0.7500 - 23s/epoch - 1s/step\n",
      "Epoch 80/200\n",
      "20/20 - 24s - loss: 0.7558 - acc: 0.7525 - val_loss: 0.9017 - val_acc: 0.6900 - 24s/epoch - 1s/step\n",
      "Epoch 81/200\n",
      "20/20 - 24s - loss: 0.6963 - acc: 0.7713 - val_loss: 0.8246 - val_acc: 0.7262 - 24s/epoch - 1s/step\n",
      "Epoch 82/200\n",
      "20/20 - 23s - loss: 0.7029 - acc: 0.7750 - val_loss: 0.8621 - val_acc: 0.7075 - 23s/epoch - 1s/step\n",
      "Epoch 83/200\n",
      "20/20 - 23s - loss: 0.7134 - acc: 0.7688 - val_loss: 0.9859 - val_acc: 0.6538 - 23s/epoch - 1s/step\n",
      "Epoch 84/200\n",
      "20/20 - 23s - loss: 0.6500 - acc: 0.7725 - val_loss: 0.8341 - val_acc: 0.7150 - 23s/epoch - 1s/step\n",
      "Epoch 85/200\n",
      "20/20 - 23s - loss: 0.6809 - acc: 0.7775 - val_loss: 0.8720 - val_acc: 0.7075 - 23s/epoch - 1s/step\n"
     ]
    }
   ],
   "source": [
    "callbacks_list = [\n",
    "    keras.callbacks.EarlyStopping(monitor='val_acc', patience=10)\n",
    "]\n",
    "\n",
    "history = model.fit(\n",
    "            train_generator,\n",
    "            validation_data = val_generator,\n",
    "            steps_per_epoch = 20,\n",
    "            epochs = 200,\n",
    "            validation_steps = 20,\n",
    "            verbose = 2,\n",
    "            callbacks=callbacks_list)"
   ]
  },
  {
   "cell_type": "code",
   "execution_count": 37,
   "id": "32237fcd",
   "metadata": {},
   "outputs": [
    {
     "data": {
      "image/png": "[encoded data removed]",
      "text/plain": [
       "<Figure size 432x288 with 1 Axes>"
      ]
     },
     "metadata": {
      "needs_background": "light"
     },
     "output_type": "display_data"
    }
   ],
   "source": [
    "# summarize history for accuracy and loss\n",
    "plt.figure(figsize=(6, 4))\n",
    "plt.plot(history.history['acc'], \"g--\", label=\"Accuracy of training data\")\n",
    "plt.plot(history.history['val_acc'], \"g\", label=\"Accuracy of validation data\")\n",
    "plt.plot(history.history['loss'], \"r--\", label=\"Loss of training data\")\n",
    "plt.plot(history.history['val_loss'], \"r\", label=\"Loss of validation data\")\n",
    "plt.title('Model Accuracy and Loss')\n",
    "plt.ylabel('Accuracy and Loss')\n",
    "plt.xlabel('Training Epoch')\n",
    "plt.ylim(0)\n",
    "plt.legend()\n",
    "plt.show()"
   ]
  },
  {
   "cell_type": "code",
   "execution_count": 38,
   "id": "60f50a25",
   "metadata": {},
   "outputs": [
    {
     "name": "stdout",
     "output_type": "stream",
     "text": [
      "83/83 [==============================] - 66s 798ms/step - loss: 0.8865 - acc: 0.6870\n",
      "\n",
      "Accuracy on test data: 0.69\n",
      "\n",
      "Loss on test data: 0.89\n"
     ]
    }
   ],
   "source": [
    "score = model.evaluate(test_generator, verbose=1)\n",
    "print(\"\\nAccuracy on test data: %0.2f\" % score[1])\n",
    "print(\"\\nLoss on test data: %0.2f\" % score[0])"
   ]
  },
  {
   "cell_type": "code",
   "execution_count": 39,
   "id": "81335c15",
   "metadata": {},
   "outputs": [
    {
     "name": "stdout",
     "output_type": "stream",
     "text": [
      "83/83 [==============================] - 47s 560ms/step\n",
      "Precision: 0.727478\n",
      "Recall: 0.687025\n",
      "F1 score: 0.684079\n"
     ]
    }
   ],
   "source": [
    "y_pred_test = model.predict(test_generator)\n",
    "# Take the class with the highest probability from the test predictions\n",
    "max_y_pred_test = np.argmax(y_pred_test, axis=1)\n",
    "max_y_test = test_generator.classes\n",
    "precision = precision_score(max_y_test, max_y_pred_test, average='weighted')\n",
    "print('Precision: %f' % precision)\n",
    "# recall: tp / (tp + fn)\n",
    "recall = recall_score(max_y_test, max_y_pred_test, average='weighted')\n",
    "print('Recall: %f' % recall)\n",
    "# f1: 2 tp / (2 tp + fp + fn)\n",
    "f1 = f1_score(max_y_test, max_y_pred_test, average='weighted')\n",
    "print('F1 score: %f' % f1)"
   ]
  },
  {
   "cell_type": "code",
   "execution_count": 40,
   "id": "189c26b4",
   "metadata": {},
   "outputs": [],
   "source": [
    "LABELS = [0, 1, 2, 3, 4, 5, 6, 7]\n",
    "def show_confusion_matrix(validations, predictions):\n",
    "\n",
    "    matrix = metrics.confusion_matrix(validations, predictions)\n",
    "    plt.figure(figsize=(6, 4))\n",
    "    sns.heatmap(matrix,\n",
    "                cmap=\"coolwarm\",\n",
    "                linecolor='white',\n",
    "                linewidths=1,\n",
    "                xticklabels=LABELS,\n",
    "                yticklabels=LABELS,\n",
    "                annot=True,\n",
    "                fmt=\"d\")\n",
    "    plt.title(\"Confusion Matrix\")\n",
    "    plt.ylabel(\"True Label\")\n",
    "    plt.xlabel(\"Predicted Label\")\n",
    "    plt.show()"
   ]
  },
  {
   "cell_type": "code",
   "execution_count": 41,
   "id": "768453f9",
   "metadata": {},
   "outputs": [
    {
     "data": {
      "image/png": "[encoded data removed]",
      "text/plain": [
       "<Figure size 432x288 with 2 Axes>"
      ]
     },
     "metadata": {
      "needs_background": "light"
     },
     "output_type": "display_data"
    },
    {
     "name": "stdout",
     "output_type": "stream",
     "text": [
      "\n",
      "--- Classification report for test data ---\n",
      "\n",
      "              precision    recall  f1-score   support\n",
      "\n",
      "           0       0.71      0.67      0.69       690\n",
      "           1       0.78      0.75      0.77       658\n",
      "           2       0.83      0.71      0.76       577\n",
      "           3       0.96      0.93      0.94       263\n",
      "           4       0.60      0.56      0.58       238\n",
      "           5       0.89      0.16      0.27       214\n",
      "           6       0.36      0.64      0.46       228\n",
      "           7       0.58      0.81      0.67       423\n",
      "\n",
      "    accuracy                           0.69      3291\n",
      "   macro avg       0.71      0.65      0.64      3291\n",
      "weighted avg       0.73      0.69      0.68      3291\n",
      "\n"
     ]
    }
   ],
   "source": [
    "show_confusion_matrix(max_y_test, max_y_pred_test)\n",
    "\n",
    "print(\"\\n--- Classification report for test data ---\\n\")\n",
    "\n",
    "print(classification_report(max_y_test, max_y_pred_test))"
   ]
  }
 ],
 "metadata": {
  "kernelspec": {
   "display_name": "Python 3 (ipykernel)",
   "language": "python",
   "name": "python3"
  },
  "language_info": {
   "codemirror_mode": {
    "name": "ipython",
    "version": 3
   },
   "file_extension": ".py",
   "mimetype": "text/x-python",
   "name": "python",
   "nbconvert_exporter": "python",
   "pygments_lexer": "ipython3",
   "version": "3.9.12"
  }
 },
 "nbformat": 4,
 "nbformat_minor": 5
}
