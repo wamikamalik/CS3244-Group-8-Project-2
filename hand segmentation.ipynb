{
 "cells": [
  {
   "cell_type": "code",
   "execution_count": 38,
   "id": "33992301",
   "metadata": {},
   "outputs": [],
   "source": [
    "import argparse\n",
    "import json\n",
    "import os\n",
    "import cv2\n",
    "import numpy as np\n",
    "import matplotlib.pyplot as plt\n",
    "import scipy.io\n",
    "import pandas as pd\n",
    "import seaborn as sns\n",
    "import torch\n",
    "import torch.nn as nn\n",
    "import torch.nn.functional as F\n",
    "import torchvision\n",
    "import pytorch_lightning as pl\n",
    "import torch.nn.functional as F\n",
    "from torchvision import models, transforms\n",
    "from torch.utils.data import Dataset, DataLoader, ConcatDataset\n",
    "from torchvision.utils import make_grid\n",
    "import keras\n",
    "from keras import datasets, layers, models\n",
    "from keras.utils import np_utils\n",
    "from sklearn.model_selection import train_test_split\n",
    "from sklearn.metrics import classification_report, get_scorer_names\n",
    "from sklearn import metrics\n",
    "from PIL import Image, ImageDraw\n",
    "from tqdm import tqdm"
   ]
  },
  {
   "cell_type": "code",
   "execution_count": 2,
   "id": "365fc3f4",
   "metadata": {},
   "outputs": [],
   "source": [
    "def meanIoU(logits, labels):\n",
    "    \"\"\"\n",
    "    Computes the mean intersection over union (mIoU).\n",
    "    \n",
    "    Args:\n",
    "        logits: tensor of shape [bs, c, h, w].\n",
    "        labels: tensor of shape [bs, h, w].\n",
    "    \n",
    "    Output:\n",
    "        miou: scalar.\n",
    "    \"\"\"\n",
    "    num_classes = logits.shape[1]\n",
    "    preds = F.softmax(logits, 1)\n",
    "    preds_oh = F.one_hot(preds.argmax(1), num_classes).permute(0, 3, 1, 2).to(torch.float32) # [bs, c, h, w] \n",
    "    labels_oh = F.one_hot(labels, num_classes).permute(0, 3, 1, 2).to(torch.float32) # [bs, c, h, w]\n",
    "    tps = (preds_oh * labels_oh).sum(-1).sum(-1) # true positives [bs, c]\n",
    "    fps = (preds_oh * (1 - labels_oh)).sum(-1).sum(-1) # false positives [bs, c]\n",
    "    fns = ((1 - preds_oh) * labels_oh).sum(-1).sum(-1) # false negatives [bs, c]\n",
    "    iou = tps / (tps + fps + fns + 1e-8) # [bs, c]\n",
    "    return iou.mean(-1).mean(0)"
   ]
  },
  {
   "cell_type": "code",
   "execution_count": 3,
   "id": "f51557b5",
   "metadata": {},
   "outputs": [],
   "source": [
    "def show_sample(image, mask=None, alpha=0.7):\n",
    "    print('Image shape:', image.shape)\n",
    "    plt.imshow(image.permute(1, 2, 0))\n",
    "    if mask is not None:\n",
    "        print('Mask shape:', mask.shape)\n",
    "\n",
    "        plt.imshow(mask[0], alpha=alpha)\n",
    "    plt.show()\n",
    "\n",
    "\n",
    "def show_samples(images, masks=None, alpha=0.7, nrow=4):\n",
    "    print('Images shape:', images.shape)\n",
    "    if masks is not None:\n",
    "        print('Masks shape:', masks.shape)\n",
    "        B, C, H, W = images.shape\n",
    "        col = [0.2, 0.3, 0.8]\n",
    "        col = torch.tensor(col).unsqueeze(0).unsqueeze(-1).unsqueeze(-1).repeat(B, 1, H, W)\n",
    "        images = torch.where(masks.repeat(1, 3, 1, 1) > 0,\n",
    "                             alpha * col + (1 - alpha) * images, images)\n",
    "    image_grid = make_grid(images, nrow=nrow, padding=0)\n",
    "    plt.figure(figsize=(15, 15))\n",
    "    plt.imshow(image_grid.permute(1, 2, 0), aspect='auto')\n",
    "    plt.axis(False)\n",
    "    plt.show()"
   ]
  },
  {
   "cell_type": "code",
   "execution_count": 4,
   "id": "b69e7efa",
   "metadata": {},
   "outputs": [],
   "source": [
    "class Denorm(object):\n",
    "    def __init__(self, mean=None, std=None):\n",
    "        self.mean = np.array([0.0, 0.0, 0.0]) if mean is None else mean\n",
    "        self.std = np.array([1.0, 1.0, 1.0]) if std is None else std\n",
    "\n",
    "    def __call__(self, x):\n",
    "        \"\"\"\n",
    "        Denormalize the image.\n",
    "\n",
    "        Args:\n",
    "            x: tensor of shape [bs, c, h, w].\n",
    "\n",
    "        Output:\n",
    "            x_denorm: tensor of shape [bs, c, h, w].\n",
    "        \"\"\"\n",
    "        denorm_fn = transforms.Normalize(mean=- self.mean / (self.std + 1e-8), std=1.0 / (self.std + 1e-8))\n",
    "        x_denorm = []\n",
    "        for x_i in x:\n",
    "            x_denorm += [denorm_fn(x_i)]\n",
    "        x_denorm = torch.stack(x_denorm, 0)\n",
    "        return x_denorm"
   ]
  },
  {
   "cell_type": "code",
   "execution_count": 5,
   "id": "e812218f",
   "metadata": {},
   "outputs": [],
   "source": [
    "def get_dataloader(data_base_path, partition, datasets, image_transform=None,\n",
    "                   mask_transform=None, batch_size=32, num_workers=0, pin_memory=True, shuffle=False):\n",
    "    \"\"\"\n",
    "    Get the dataloader.\n",
    "\n",
    "    Args:\n",
    "        data_base_path: string where the data are stored.\n",
    "        partition: string in ['train', 'validation', 'test'].\n",
    "        datasets: list of strings for selecting the sounrce of the data.\n",
    "        image_transforms: transform applied to the image.\n",
    "        mask_transform: transform applied to the mask.\n",
    "        batch_size: integer that specifies the batch size.\n",
    "        num_workers: the number of workers.\n",
    "        pin_memory: boolean.\n",
    "\n",
    "    Output:\n",
    "        dl: the dataloader (PyTorch DataLoader).\n",
    "    \"\"\"\n",
    "    ds_list = []\n",
    "\n",
    "    if 'eyth' in datasets:\n",
    "        tranform = transforms.ToTensor()\n",
    "        ds_eyth = EYTHDataset(\n",
    "            data_base_path=os.path.join(data_base_path, 'eyth_dataset'),\n",
    "            partition=partition,\n",
    "            image_transform=tranform if image_transform is None else image_transform,\n",
    "            mask_transform=tranform if mask_transform is None else mask_transform,\n",
    "        )\n",
    "        ds_list += [ds_eyth]\n",
    "\n",
    "    if 'eh' in datasets:\n",
    "        tranform = transforms.ToTensor()\n",
    "        ds_eh = EgoHandsDataset(\n",
    "            data_base_path=os.path.join(data_base_path, 'egohands_data'),\n",
    "            partition=partition,\n",
    "            image_transform=tranform if image_transform is None else image_transform,\n",
    "            mask_transform=tranform if mask_transform is None else mask_transform,\n",
    "        )\n",
    "        ds_list += [ds_eh]\n",
    "\n",
    "    if 'hof' in datasets:\n",
    "        tranform = transforms.ToTensor()\n",
    "        ds_hof = HOFDataset(\n",
    "            data_base_path=os.path.join(data_base_path, 'hand_over_face'),\n",
    "            partition=partition,\n",
    "            image_transform=tranform if image_transform is None else image_transform,\n",
    "            mask_transform=tranform if mask_transform is None else mask_transform,\n",
    "        )\n",
    "        ds_list += [ds_hof]\n",
    "\n",
    "    if 'gtea' in datasets:\n",
    "        tranform = transforms.Compose([\n",
    "            transforms.Resize((405, 720)),\n",
    "            transforms.ToTensor(),\n",
    "        ])\n",
    "        ds_gtea = GTEADataset(\n",
    "            data_base_path=os.path.join(data_base_path, 'hand2K_dataset'),\n",
    "            partition=partition,\n",
    "            image_transform=tranform if image_transform is None else image_transform,\n",
    "            mask_transform=tranform if mask_transform is None else mask_transform,\n",
    "        )\n",
    "        ds_list += [ds_gtea]\n",
    "\n",
    "    # Concatenate datasets\n",
    "    ds_cat = ConcatDataset(ds_list)\n",
    "    dl = DataLoader(ds_cat, batch_size=batch_size, pin_memory=pin_memory, num_workers=num_workers, shuffle=shuffle)\n",
    "    return dl"
   ]
  },
  {
   "cell_type": "code",
   "execution_count": 6,
   "id": "97bf0798",
   "metadata": {},
   "outputs": [],
   "source": [
    "def hand_segmentor(pretrained=True, *args, **kwargs):\n",
    "    \"\"\"\n",
    "    Hand segmentor based on a DeepLabV3 model with a ResNet50 encoder.\n",
    "    DeeplabV3: https://arxiv.org/abs/1706.05587\n",
    "    ResNet50: https://arxiv.org/abs/1512.03385\n",
    "    \"\"\"\n",
    "    model = HandSegModel(*args, **kwargs)\n",
    "    if pretrained:\n",
    "        #os.system('chmod +x ./scripts/download_model_checkpoint.sh')\n",
    "        #os.system('./scripts/download_model_checkpoint.sh')\n",
    "        _download_file_from_google_drive('1w7dztGAsPHD_fl_Kv_a8qHL4eW92rlQg', './checkpoint/checkpoint.ckpt')\n",
    "        model = model.load_from_checkpoint('./checkpoint/checkpoint.ckpt', *args, **kwargs)\n",
    "    return model\n",
    "\n",
    "\n",
    "def _download_file_from_google_drive(id, destination):\n",
    "\n",
    "    url = f'https://drive.google.com/uc?id={id}'\n",
    "    path = os.path.dirname(destination)\n",
    "    if not os.path.exists(path):\n",
    "        os.makedirs(path)\n",
    "    gdown.download(url, destination, quiet=False)\n",
    "\n",
    "dependencies = ['torch', 'pytorch_lightning']"
   ]
  },
  {
   "cell_type": "code",
   "execution_count": 7,
   "id": "6db7904e",
   "metadata": {},
   "outputs": [],
   "source": [
    "class HandSegModel(pl.LightningModule):\n",
    "    \"\"\"\n",
    "    This model is based on the PyTorch DeepLab model for semantic segmentation.\n",
    "    \"\"\"\n",
    "    def __init__(self, pretrained=False, lr=1e-4, in_channels=3):\n",
    "        super().__init__()\n",
    "        assert in_channels in [1, 3, 4]\n",
    "        self.deeplab = self._get_deeplab(pretrained=pretrained, num_classes=2, in_channels=in_channels)\n",
    "        self.denorm_image_for_tb_log = None # For tensorboard logging\n",
    "        self.lr = lr\n",
    "        if pretrained:\n",
    "            if in_channels == 1:\n",
    "                mean, std = np.array([0.5]), np.array([0.5]) \n",
    "            elif in_channels == 3:\n",
    "                mean, std = np.array([0.485, 0.456, 0.406]), np.array([0.229, 0.224, 0.225]) \n",
    "            elif in_channels == 4:\n",
    "                mean, std = np.array([0.485, 0.456, 0.406, 0.5]), np.array([0.229, 0.224, 0.225, 0.5]) \n",
    "            self.denorm_image_for_tb_log = Denorm(mean, std)\n",
    "\n",
    "    def _get_deeplab(self, pretrained=False, num_classes=2, in_channels=3):\n",
    "        \"\"\"\n",
    "        Get the PyTorch DeepLab model architecture.\n",
    "        \"\"\"\n",
    "        deeplab = models.segmentation.deeplabv3_resnet50(\n",
    "            pretrained=False,\n",
    "            num_classes=num_classes\n",
    "        )\n",
    "        if pretrained:\n",
    "            deeplab_21 = models.segmentation.deeplabv3_resnet50(\n",
    "                pretrained=True,\n",
    "                progress=True,\n",
    "                num_classes=21\n",
    "            )\n",
    "            for c1, c2 in zip(deeplab.children(), deeplab_21.children()):\n",
    "                for p1, p2 in zip(c1.parameters(), c2.parameters()):\n",
    "                    if p1.shape == p2.shape:\n",
    "                        p1.data = p2.data\n",
    "        if in_channels == 1:\n",
    "            weight = deeplab.backbone.conv1.weight\n",
    "            deeplab.backbone.conv1.weight = nn.Parameter(weight.data[:, 0:1])\n",
    "        elif in_channels == 4:\n",
    "            weight = deeplab.backbone.conv1.weight\n",
    "            C, _, H, W = weight.shape\n",
    "            deeplab.backbone.conv1.weight = nn.Parameter(torch.cat([\n",
    "                weight.data,\n",
    "                torch.randn(C, 1, H, W, device=weight.device) * 0.1,\n",
    "            ], 1))\n",
    "        return deeplab\n",
    "\n",
    "    def forward(self, x):\n",
    "        return self.deeplab(x)['out']\n",
    "\n",
    "    def training_step(self, batch, idx_batch):\n",
    "        x, y = batch\n",
    "        logits = self(x)\n",
    "        loss = F.binary_cross_entropy_with_logits(logits, y)\n",
    "        y_hat = F.softmax(logits, 1).detach()\n",
    "        miou = meanIoU(y_hat, y.argmax(1))\n",
    "\n",
    "        # Cache\n",
    "        self.log('train_bce', loss, prog_bar=True)\n",
    "        self.log('train_mIoU', miou, prog_bar=True)\n",
    "        return loss\n",
    "\n",
    "    def validation_step(self, batch, idx_batch):\n",
    "        x, y = batch\n",
    "        logits = self(x)\n",
    "        loss = F.binary_cross_entropy_with_logits(logits, y)\n",
    "        y_hat = F.softmax(logits, 1).detach()\n",
    "        miou = meanIoU(y_hat, y.argmax(1))\n",
    "\n",
    "        # Cache\n",
    "        self.log('validation_bce', loss, prog_bar=True)\n",
    "        self.log('validation_mIoU', miou, prog_bar=True)\n",
    "        if idx_batch == 0:\n",
    "            tb_log = self.trainer.logger.experiment\n",
    "            if self.denorm_image_for_tb_log:\n",
    "                x = self.denorm_image_for_tb_log(x)\n",
    "            x_grid = make_grid(x[:16], nrow=4)\n",
    "            y_hat_grid = make_grid(y_hat[:16].argmax(1).unsqueeze(1), nrow=4)[0:1]\n",
    "            tb_log.add_image('validation_images', x_grid.cpu().numpy())\n",
    "            tb_log.add_image('validation_preds', y_hat_grid.cpu().numpy())\n",
    "        return loss\n",
    "\n",
    "    def test_step(self, batch, idx_batch):\n",
    "        x, y = batch\n",
    "        logits = self(x)\n",
    "        loss = F.binary_cross_entropy_with_logits(logits, y)\n",
    "        y_hat = F.softmax(logits, 1).detach()\n",
    "        miou = meanIoU(y_hat, y.argmax(1))\n",
    "\n",
    "        # Cache\n",
    "        self.log('test_bce', loss, prog_bar=True)\n",
    "        self.log('test_mIoU', miou, prog_bar=True)\n",
    "        if idx_batch == 0:\n",
    "            tb_log = self.trainer.logger.experiment\n",
    "            if self.denorm_image_for_tb_log:\n",
    "                x = self.denorm_image_for_tb_log(x)\n",
    "            x_grid = make_grid(x[:16], nrow=4)\n",
    "            y_hat_grid = make_grid(y_hat[:16].argmax(1).unsqueeze(1), nrow=4)[0:1]\n",
    "            tb_log.add_image('test_images', x_grid.cpu().numpy())\n",
    "            tb_log.add_image('test_preds', y_hat_grid.cpu().numpy())\n",
    "        return loss\n",
    "\n",
    "    def configure_optimizers(self):\n",
    "        return Adam(self.parameters(), lr=self.lr)\n",
    "\n",
    "    def set_denorm_fn(self, denorm_fn):\n",
    "        self.denorm_image_for_tb_log = denorm_fn"
   ]
  },
  {
   "cell_type": "code",
   "execution_count": 8,
   "id": "d5dc0189",
   "metadata": {},
   "outputs": [],
   "source": [
    "def get_args(folder):\n",
    "    \"\"\"\n",
    "    read the input arguments.\n",
    "    \"\"\"\n",
    "    parser = argparse.ArgumentParser()\n",
    "    parser.add_argument('--mode',  type=str, default='predict',\n",
    "                        help='Mode of the program. Can be \"train\", \"test\" or \"predict\".')\n",
    "    parser.add_argument('--epochs', type=int, default=50, help='The number of epochs used for the training.')\n",
    "    parser.add_argument('--batch_size', type=int, default=16, help='The batch size.')\n",
    "    parser.add_argument('--gpus', type=int, default=1, help='The number of gpus used.')\n",
    "    parser.add_argument('--datasets', type=str, default='eyth eh hof gtea', help='List of datasets to use.')\n",
    "    parser.add_argument('--height', type=int, default=256, help='The height of the input image.')\n",
    "    parser.add_argument('--width', type=int, default=256, help='THe width of the input image.')\n",
    "    parser.add_argument('--data_base_path', type=str, default=folder, help='The path of the input dataset.')\n",
    "    parser.add_argument('--model_pretrained', default=True, action='store_true',\n",
    "                        help='Load the PyTorch pretrained model.')\n",
    "    parser.add_argument('--model_checkpoint', type=str, default=\"Distracted Driver Dataset\\checkpoint\\checkpoint.ckpt\", help='The model checkpoint to load.')\n",
    "    parser.add_argument('--lr', type=float, default=3e-4, help='The learning rate.')\n",
    "    parser.add_argument('--in_channels', type=int, default=3, choices=[1, 3, 4],\n",
    "                        help='The number of input channels (3 for RGB, 1 for Grayscale, 4 for RGBD).')\n",
    "    args, unknown = parser.parse_known_args()\n",
    "    print(json.dumps(vars(args), indent=4))\n",
    "    return args\n",
    "\n",
    "\n",
    "def get_model(args):\n",
    "    \"\"\"\n",
    "    build the model.\n",
    "    \"\"\"\n",
    "    model_args = {\n",
    "        'pretrained': args.model_pretrained,\n",
    "        'lr': args.lr,\n",
    "        'in_channels': args.in_channels,\n",
    "    }\n",
    "    model = HandSegModel(**model_args)\n",
    "    if len(args.model_checkpoint) > 0:\n",
    "        model = model.load_from_checkpoint(args.model_checkpoint, **model_args)\n",
    "        print(f'Loaded checkpoint from {args.model_checkpoint}.')\n",
    "    return model\n",
    "\n",
    "\n",
    "def get_image_transform(args):\n",
    "    \"\"\"\n",
    "    build the image transforms.\n",
    "    \"\"\"\n",
    "    image_transform = None\n",
    "    pad_rgb2rgbd = lambda x: torch.cat([x, torch.zeros(3, x.shape[1], x.shape[2])], 0)\n",
    "    pad_gray2rgbd = lambda x: torch.cat([x.repeat(3, 1, 1), torch.zeros(3, x.shape[1], x.shape[2])], 0)\n",
    "    def to_rgbd(x):\n",
    "        C = x.shape[0]\n",
    "        if C == 4: return x\n",
    "        elif C == 3: return pad_rgb2rgbd(x)\n",
    "        elif C == 1: return pad_gray2rgbd(x)\n",
    "    if args.in_channels == 1:\n",
    "        image_transform = transforms.Compose([\n",
    "            transforms.Resize((args.height, args.width)),\n",
    "            transforms.ToTensor(),\n",
    "            lambda x: x if x.shape[0] == 3 else x.repeat(3, 1, 1),\n",
    "            lambda x: x.mean(0, keepdims=True), # convert RGB into grayscale\n",
    "            transforms.Normalize(mean=[0.5], std=[0.5]),\n",
    "        ])\n",
    "    elif args.in_channels == 3:\n",
    "        image_transform = transforms.Compose([\n",
    "            transforms.Resize((args.height, args.width)),\n",
    "            transforms.ToTensor(),\n",
    "            lambda x: x if x.shape[0] == 3 else x.repeat(3, 1, 1),\n",
    "            transforms.Normalize(mean=[0.485, 0.456, 0.406], std=[0.229, 0.224, 0.225]),\n",
    "        ])\n",
    "    elif args.in_channels == 4:\n",
    "        image_transform = transforms.Compose([\n",
    "            transforms.Resize((args.height, args.width)),\n",
    "            transforms.ToTensor(),\n",
    "            lambda x: x if x.shape[0] == 4 else to_rgbd(x),\n",
    "            transforms.Normalize(mean=[0.485, 0.456, 0.406, 0.5], std=[0.229, 0.224, 0.225, 0.5]),\n",
    "        ])\n",
    "    return image_transform\n",
    "\n",
    "\n",
    "def get_dataloaders(args):\n",
    "    \"\"\"\n",
    "    build the dataloaders.\n",
    "    \"\"\"\n",
    "    image_transform = get_image_transform(args)\n",
    "    mask_transform = transforms.Compose([\n",
    "        transforms.Resize((args.height, args.width)),\n",
    "        transforms.ToTensor(),\n",
    "        lambda m: torch.where(m > 0, torch.ones_like(m), torch.zeros_like(m)),\n",
    "        lambda m: F.one_hot(m[0].to(torch.int64), 2).permute(2, 0, 1).to(torch.float32),\n",
    "    ])\n",
    "    dl_args = {\n",
    "        'data_base_path': args.data_base_path,\n",
    "        'datasets': args.datasets.split(' '),\n",
    "        'image_transform': image_transform,\n",
    "        'mask_transform': mask_transform,\n",
    "        'batch_size': args.batch_size,\n",
    "    }\n",
    "    dl_train = get_dataloader(**dl_args, partition='train', shuffle=True)\n",
    "    dl_validation = get_dataloader(**dl_args, partition='validation', shuffle=False)\n",
    "    dl_test = get_dataloader(**dl_args, partition='test', shuffle=False)\n",
    "    dls = {\n",
    "        'train': dl_train,\n",
    "        'validation': dl_validation,\n",
    "        'test': dl_test,\n",
    "    }\n",
    "    return dls\n",
    "\n",
    "\n",
    "def get_predict_dataset(args):\n",
    "    \"\"\"\n",
    "    \"\"\"\n",
    "    image_paths = sorted(os.listdir(args.data_base_path))\n",
    "    image_paths = [os.path.join(args.data_base_path, f) for f in image_paths]\n",
    "    print(f'Found {len(image_paths)} in {args.data_base_path}.')\n",
    "    transform = get_image_transform(args)\n",
    "\n",
    "    class ImageDataset(Dataset):\n",
    "        def __init__(self, image_paths, transform=None):\n",
    "            super(ImageDataset, self).__init__()\n",
    "            self.image_paths = image_paths\n",
    "            self.transform = transform\n",
    "\n",
    "        def __len__(self):\n",
    "            return len(self.image_paths)\n",
    "\n",
    "        def __getitem__(self, idx):\n",
    "            image_path = self.image_paths[idx]\n",
    "            image = Image.open(image_path)\n",
    "            if self.transform is not None:\n",
    "                image = self.transform(image)\n",
    "            return image, image_path\n",
    "    return ImageDataset(image_paths, transform=transform)\n",
    "\n",
    "def main(args):\n",
    "    \"\"\"\n",
    "    main function.\n",
    "    \"\"\"\n",
    "\n",
    "    # Model\n",
    "    model = get_model(args)\n",
    "    print(\"model built\")\n",
    "\n",
    "    # Mode\n",
    "    if args.mode == 'train':\n",
    "        dls = get_dataloaders(args) # Dataloader\n",
    "        trainer = pl.Trainer(max_epochs=args.epochs, gpus=args.gpus)\n",
    "        trainer.fit(model, dls['train'], dls['validation'])\n",
    "    elif args.mode == 'validation':\n",
    "        dls = get_dataloaders(args) # Dataloader\n",
    "        trainer = pl.Trainer(gpus=args.gpus)\n",
    "        trainer.test(model, dls['validation'])\n",
    "    elif args.mode == 'test':\n",
    "        dls = get_dataloaders(args) # Dataloader\n",
    "        trainer = pl.Trainer(gpus=args.gpus)\n",
    "        trainer.test(model, dls['test'])\n",
    "    elif args.mode == 'predict':\n",
    "        ds = get_predict_dataset(args) # Dataset\n",
    "\n",
    "        # Save prediction\n",
    "        _ = model.eval()\n",
    "        device = next(model.parameters()).device\n",
    "        for x, x_path in tqdm(ds, desc='Save predictions'):\n",
    "            H, W = x.shape[-2:]\n",
    "            x = transforms.Resize((256, 256))(x)\n",
    "            x = x.unsqueeze(0).to(device)\n",
    "            logits = model(x).detach().cpu()\n",
    "            preds = F.softmax(logits, 1).argmax(1)[0] * 255 # [h, w]\n",
    "            preds = Image.fromarray(preds.numpy().astype(np.uint8), 'L')\n",
    "            preds = preds.resize((W, H))\n",
    "            preds.save(f'C:/Users/ASUS/Desktop/Distracted Driver Dataset/{destinationfolder}/{trainortest(x_path)}/{findclass(x_path)}/{naming(x_path)}.png')\n",
    "    else:\n",
    "        raise Exception(f'Error. Mode \"{args.mode}\" is not supported.')"
   ]
  },
  {
   "cell_type": "code",
   "execution_count": 9,
   "id": "df70ee41",
   "metadata": {},
   "outputs": [],
   "source": [
    "def trainortest(filepath):\n",
    "    return filepath.split(\"\\\\\")[-3]\n",
    "\n",
    "\n",
    "def findclass(filepath):\n",
    "    return filepath.split(\"\\\\\")[-2]\n",
    "\n",
    "\n",
    "def naming(filepath):\n",
    "    return filepath.split(\"\\\\\")[-1]"
   ]
  },
  {
   "cell_type": "code",
   "execution_count": 10,
   "id": "ebd0ad1c",
   "metadata": {},
   "outputs": [],
   "source": [
    "CLASS = [[\"c0\", \"Safe Driving\"], [\"c1\", \"Text\"], [\"c2\", \"Phone\"],\n",
    "           [\"c3\", \"Adjusting Radio\"], [\"c4\", \"Drinking\"],\n",
    "           [\"c5\", \"Reaching Behind\"], [\"c6\", \"Hair or Makeup\"],\n",
    "           [\"c7\", \"Talking to Passenger\"]]\n",
    "\n",
    "datafolder = \"Combined New\"  # Initial dataset folder\n",
    "datafolder_path = os.path.join(os.getcwd(), \"Distracted Driver Dataset\", datafolder)\n",
    "destinationfolder = \"Prediction New\"  # Prediction of hand segmentation\n",
    "destinationfolder_path = os.path.join(os.getcwd(), \"Distracted Driver Dataset\", destinationfolder)\n",
    "finalfolder = \"Extracted New\"\n",
    "finalfolder_path = os.path.join(os.getcwd(), \"Distracted Driver Dataset\", finalfolder)\n",
    "\n",
    "if not os.path.exists(destinationfolder_path):\n",
    "    os.mkdir(destinationfolder_path)\n",
    "if not os.path.exists(os.path.join(os.getcwd(), destinationfolder_path, \"test\")):\n",
    "    os.mkdir(os.path.join(os.getcwd(), destinationfolder_path, \"test\"))\n",
    "for cls in CLASS:\n",
    "    if not os.path.exists(os.path.join(os.getcwd(), destinationfolder_path, \"test\", cls[0])):\n",
    "        os.mkdir(os.path.join(os.getcwd(), destinationfolder_path, \"test\", cls[0]))\n",
    "if not os.path.exists(os.path.join(os.getcwd(), destinationfolder_path, \"train\")):\n",
    "    os.mkdir(os.path.join(os.getcwd(), destinationfolder_path, \"train\"))\n",
    "for cls in CLASS:\n",
    "    if not os.path.exists(os.path.join(os.getcwd(), destinationfolder_path, \"train\", cls[0])):\n",
    "        os.mkdir(os.path.join(os.getcwd(), destinationfolder_path, \"train\", cls[0]))\n",
    "\n",
    "TEST_CLS = [os.path.join(os.getcwd(), datafolder_path, \"test\", cls[0]) for cls in CLASS]\n",
    "TRAIN_CLS = [os.path.join(os.getcwd(), datafolder_path, \"train\", cls[0]) for cls in CLASS]\n"
   ]
  },
  {
   "cell_type": "code",
   "execution_count": 11,
   "id": "46bcfda0",
   "metadata": {},
   "outputs": [
    {
     "name": "stdout",
     "output_type": "stream",
     "text": [
      "C:\\Users\\ASUS\\Desktop\\Distracted Driver Dataset\\Combined New\\test\\c0\n",
      "711\n",
      "{\n",
      "    \"mode\": \"predict\",\n",
      "    \"epochs\": 50,\n",
      "    \"batch_size\": 16,\n",
      "    \"gpus\": 1,\n",
      "    \"datasets\": \"eyth eh hof gtea\",\n",
      "    \"height\": 256,\n",
      "    \"width\": 256,\n",
      "    \"data_base_path\": \"C:\\\\Users\\\\ASUS\\\\Desktop\\\\Distracted Driver Dataset\\\\Combined New\\\\test\\\\c0\",\n",
      "    \"model_pretrained\": true,\n",
      "    \"model_checkpoint\": \"Distracted Driver Dataset\\\\checkpoint\\\\checkpoint.ckpt\",\n",
      "    \"lr\": 0.0003,\n",
      "    \"in_channels\": 3\n",
      "}\n"
     ]
    },
    {
     "name": "stderr",
     "output_type": "stream",
     "text": [
      "C:\\Users\\ASUS\\anaconda3\\lib\\site-packages\\torchvision\\models\\_utils.py:208: UserWarning: The parameter 'pretrained' is deprecated since 0.13 and may be removed in the future, please use 'weights' instead.\n",
      "  warnings.warn(\n",
      "C:\\Users\\ASUS\\anaconda3\\lib\\site-packages\\torchvision\\models\\_utils.py:223: UserWarning: Arguments other than a weight enum or `None` for 'weights' are deprecated since 0.13 and may be removed in the future. The current behavior is equivalent to passing `weights=None`.\n",
      "  warnings.warn(msg)\n",
      "C:\\Users\\ASUS\\anaconda3\\lib\\site-packages\\torchvision\\models\\_utils.py:223: UserWarning: Arguments other than a weight enum or `None` for 'weights' are deprecated since 0.13 and may be removed in the future. The current behavior is equivalent to passing `weights=DeepLabV3_ResNet50_Weights.COCO_WITH_VOC_LABELS_V1`. You can also use `weights=DeepLabV3_ResNet50_Weights.DEFAULT` to get the most up-to-date weights.\n",
      "  warnings.warn(msg)\n",
      "C:\\Users\\ASUS\\anaconda3\\lib\\site-packages\\pytorch_lightning\\utilities\\migration\\migration.py:200: PossibleUserWarning: You have multiple `ModelCheckpoint` callback states in this checkpoint, but we found state keys that would end up colliding with each other after an upgrade, which means we can't differentiate which of your checkpoint callbacks needs which states. At least one of your `ModelCheckpoint` callbacks will not be able to reload the state.\n",
      "  rank_zero_warn(\n",
      "Lightning automatically upgraded your loaded checkpoint from v1.2.2 to v2.0.0. To apply the upgrade to your files permanently, run `python -m pytorch_lightning.utilities.upgrade_checkpoint --file C:\\Users\\ASUS\\Desktop\\Distracted Driver Dataset\\checkpoint\\checkpoint.ckpt`\n"
     ]
    },
    {
     "name": "stdout",
     "output_type": "stream",
     "text": [
      "Loaded checkpoint from Distracted Driver Dataset\\checkpoint\\checkpoint.ckpt.\n",
      "model built\n",
      "Found 711 in C:\\Users\\ASUS\\Desktop\\Distracted Driver Dataset\\Combined New\\test\\c0.\n"
     ]
    },
    {
     "name": "stderr",
     "output_type": "stream",
     "text": [
      "Save predictions:   0%|                                                                        | 0/711 [00:00<?, ?it/s]C:\\Users\\ASUS\\anaconda3\\lib\\site-packages\\torchvision\\transforms\\functional.py:1603: UserWarning: The default value of the antialias parameter of all the resizing transforms (Resize(), RandomResizedCrop(), etc.) will change from None to True in v0.17, in order to be consistent across the PIL and Tensor backends. To suppress this warning, directly pass antialias=True (recommended, future default), antialias=None (current default, which means False for Tensors and True for PIL), or antialias=False (only works on Tensors - PIL will still use antialiasing). This also applies if you are using the inference transforms from the models weights: update the call to weights.transforms(antialias=True).\n",
      "  warnings.warn(\n",
      "Save predictions: 100%|██████████████████████████████████████████████████████████████| 711/711 [04:43<00:00,  2.51it/s]\n"
     ]
    },
    {
     "name": "stdout",
     "output_type": "stream",
     "text": [
      "C:\\Users\\ASUS\\Desktop\\Distracted Driver Dataset\\Combined New\\test\\c1\n",
      "667\n",
      "{\n",
      "    \"mode\": \"predict\",\n",
      "    \"epochs\": 50,\n",
      "    \"batch_size\": 16,\n",
      "    \"gpus\": 1,\n",
      "    \"datasets\": \"eyth eh hof gtea\",\n",
      "    \"height\": 256,\n",
      "    \"width\": 256,\n",
      "    \"data_base_path\": \"C:\\\\Users\\\\ASUS\\\\Desktop\\\\Distracted Driver Dataset\\\\Combined New\\\\test\\\\c1\",\n",
      "    \"model_pretrained\": true,\n",
      "    \"model_checkpoint\": \"Distracted Driver Dataset\\\\checkpoint\\\\checkpoint.ckpt\",\n",
      "    \"lr\": 0.0003,\n",
      "    \"in_channels\": 3\n",
      "}\n"
     ]
    },
    {
     "name": "stderr",
     "output_type": "stream",
     "text": [
      "Lightning automatically upgraded your loaded checkpoint from v1.2.2 to v2.0.0. To apply the upgrade to your files permanently, run `python -m pytorch_lightning.utilities.upgrade_checkpoint --file C:\\Users\\ASUS\\Desktop\\Distracted Driver Dataset\\checkpoint\\checkpoint.ckpt`\n"
     ]
    },
    {
     "name": "stdout",
     "output_type": "stream",
     "text": [
      "Loaded checkpoint from Distracted Driver Dataset\\checkpoint\\checkpoint.ckpt.\n",
      "model built\n",
      "Found 667 in C:\\Users\\ASUS\\Desktop\\Distracted Driver Dataset\\Combined New\\test\\c1.\n"
     ]
    },
    {
     "name": "stderr",
     "output_type": "stream",
     "text": [
      "Save predictions: 100%|██████████████████████████████████████████████████████████████| 667/667 [04:28<00:00,  2.49it/s]\n"
     ]
    },
    {
     "name": "stdout",
     "output_type": "stream",
     "text": [
      "C:\\Users\\ASUS\\Desktop\\Distracted Driver Dataset\\Combined New\\test\\c2\n",
      "602\n",
      "{\n",
      "    \"mode\": \"predict\",\n",
      "    \"epochs\": 50,\n",
      "    \"batch_size\": 16,\n",
      "    \"gpus\": 1,\n",
      "    \"datasets\": \"eyth eh hof gtea\",\n",
      "    \"height\": 256,\n",
      "    \"width\": 256,\n",
      "    \"data_base_path\": \"C:\\\\Users\\\\ASUS\\\\Desktop\\\\Distracted Driver Dataset\\\\Combined New\\\\test\\\\c2\",\n",
      "    \"model_pretrained\": true,\n",
      "    \"model_checkpoint\": \"Distracted Driver Dataset\\\\checkpoint\\\\checkpoint.ckpt\",\n",
      "    \"lr\": 0.0003,\n",
      "    \"in_channels\": 3\n",
      "}\n"
     ]
    },
    {
     "name": "stderr",
     "output_type": "stream",
     "text": [
      "Lightning automatically upgraded your loaded checkpoint from v1.2.2 to v2.0.0. To apply the upgrade to your files permanently, run `python -m pytorch_lightning.utilities.upgrade_checkpoint --file C:\\Users\\ASUS\\Desktop\\Distracted Driver Dataset\\checkpoint\\checkpoint.ckpt`\n"
     ]
    },
    {
     "name": "stdout",
     "output_type": "stream",
     "text": [
      "Loaded checkpoint from Distracted Driver Dataset\\checkpoint\\checkpoint.ckpt.\n",
      "model built\n",
      "Found 602 in C:\\Users\\ASUS\\Desktop\\Distracted Driver Dataset\\Combined New\\test\\c2.\n"
     ]
    },
    {
     "name": "stderr",
     "output_type": "stream",
     "text": [
      "Save predictions: 100%|██████████████████████████████████████████████████████████████| 602/602 [04:00<00:00,  2.50it/s]\n"
     ]
    },
    {
     "name": "stdout",
     "output_type": "stream",
     "text": [
      "C:\\Users\\ASUS\\Desktop\\Distracted Driver Dataset\\Combined New\\test\\c3\n",
      "264\n",
      "{\n",
      "    \"mode\": \"predict\",\n",
      "    \"epochs\": 50,\n",
      "    \"batch_size\": 16,\n",
      "    \"gpus\": 1,\n",
      "    \"datasets\": \"eyth eh hof gtea\",\n",
      "    \"height\": 256,\n",
      "    \"width\": 256,\n",
      "    \"data_base_path\": \"C:\\\\Users\\\\ASUS\\\\Desktop\\\\Distracted Driver Dataset\\\\Combined New\\\\test\\\\c3\",\n",
      "    \"model_pretrained\": true,\n",
      "    \"model_checkpoint\": \"Distracted Driver Dataset\\\\checkpoint\\\\checkpoint.ckpt\",\n",
      "    \"lr\": 0.0003,\n",
      "    \"in_channels\": 3\n",
      "}\n"
     ]
    },
    {
     "name": "stderr",
     "output_type": "stream",
     "text": [
      "Lightning automatically upgraded your loaded checkpoint from v1.2.2 to v2.0.0. To apply the upgrade to your files permanently, run `python -m pytorch_lightning.utilities.upgrade_checkpoint --file C:\\Users\\ASUS\\Desktop\\Distracted Driver Dataset\\checkpoint\\checkpoint.ckpt`\n"
     ]
    },
    {
     "name": "stdout",
     "output_type": "stream",
     "text": [
      "Loaded checkpoint from Distracted Driver Dataset\\checkpoint\\checkpoint.ckpt.\n",
      "model built\n",
      "Found 264 in C:\\Users\\ASUS\\Desktop\\Distracted Driver Dataset\\Combined New\\test\\c3.\n"
     ]
    },
    {
     "name": "stderr",
     "output_type": "stream",
     "text": [
      "Save predictions: 100%|██████████████████████████████████████████████████████████████| 264/264 [01:45<00:00,  2.50it/s]\n"
     ]
    },
    {
     "name": "stdout",
     "output_type": "stream",
     "text": [
      "C:\\Users\\ASUS\\Desktop\\Distracted Driver Dataset\\Combined New\\test\\c4\n",
      "255\n",
      "{\n",
      "    \"mode\": \"predict\",\n",
      "    \"epochs\": 50,\n",
      "    \"batch_size\": 16,\n",
      "    \"gpus\": 1,\n",
      "    \"datasets\": \"eyth eh hof gtea\",\n",
      "    \"height\": 256,\n",
      "    \"width\": 256,\n",
      "    \"data_base_path\": \"C:\\\\Users\\\\ASUS\\\\Desktop\\\\Distracted Driver Dataset\\\\Combined New\\\\test\\\\c4\",\n",
      "    \"model_pretrained\": true,\n",
      "    \"model_checkpoint\": \"Distracted Driver Dataset\\\\checkpoint\\\\checkpoint.ckpt\",\n",
      "    \"lr\": 0.0003,\n",
      "    \"in_channels\": 3\n",
      "}\n"
     ]
    },
    {
     "name": "stderr",
     "output_type": "stream",
     "text": [
      "Lightning automatically upgraded your loaded checkpoint from v1.2.2 to v2.0.0. To apply the upgrade to your files permanently, run `python -m pytorch_lightning.utilities.upgrade_checkpoint --file C:\\Users\\ASUS\\Desktop\\Distracted Driver Dataset\\checkpoint\\checkpoint.ckpt`\n"
     ]
    },
    {
     "name": "stdout",
     "output_type": "stream",
     "text": [
      "Loaded checkpoint from Distracted Driver Dataset\\checkpoint\\checkpoint.ckpt.\n",
      "model built\n",
      "Found 255 in C:\\Users\\ASUS\\Desktop\\Distracted Driver Dataset\\Combined New\\test\\c4.\n"
     ]
    },
    {
     "name": "stderr",
     "output_type": "stream",
     "text": [
      "Save predictions: 100%|██████████████████████████████████████████████████████████████| 255/255 [01:41<00:00,  2.52it/s]\n"
     ]
    },
    {
     "name": "stdout",
     "output_type": "stream",
     "text": [
      "C:\\Users\\ASUS\\Desktop\\Distracted Driver Dataset\\Combined New\\test\\c5\n",
      "243\n",
      "{\n",
      "    \"mode\": \"predict\",\n",
      "    \"epochs\": 50,\n",
      "    \"batch_size\": 16,\n",
      "    \"gpus\": 1,\n",
      "    \"datasets\": \"eyth eh hof gtea\",\n",
      "    \"height\": 256,\n",
      "    \"width\": 256,\n",
      "    \"data_base_path\": \"C:\\\\Users\\\\ASUS\\\\Desktop\\\\Distracted Driver Dataset\\\\Combined New\\\\test\\\\c5\",\n",
      "    \"model_pretrained\": true,\n",
      "    \"model_checkpoint\": \"Distracted Driver Dataset\\\\checkpoint\\\\checkpoint.ckpt\",\n",
      "    \"lr\": 0.0003,\n",
      "    \"in_channels\": 3\n",
      "}\n"
     ]
    },
    {
     "name": "stderr",
     "output_type": "stream",
     "text": [
      "Lightning automatically upgraded your loaded checkpoint from v1.2.2 to v2.0.0. To apply the upgrade to your files permanently, run `python -m pytorch_lightning.utilities.upgrade_checkpoint --file C:\\Users\\ASUS\\Desktop\\Distracted Driver Dataset\\checkpoint\\checkpoint.ckpt`\n"
     ]
    },
    {
     "name": "stdout",
     "output_type": "stream",
     "text": [
      "Loaded checkpoint from Distracted Driver Dataset\\checkpoint\\checkpoint.ckpt.\n",
      "model built\n",
      "Found 243 in C:\\Users\\ASUS\\Desktop\\Distracted Driver Dataset\\Combined New\\test\\c5.\n"
     ]
    },
    {
     "name": "stderr",
     "output_type": "stream",
     "text": [
      "Save predictions: 100%|██████████████████████████████████████████████████████████████| 243/243 [01:37<00:00,  2.50it/s]\n"
     ]
    },
    {
     "name": "stdout",
     "output_type": "stream",
     "text": [
      "C:\\Users\\ASUS\\Desktop\\Distracted Driver Dataset\\Combined New\\test\\c6\n",
      "242\n",
      "{\n",
      "    \"mode\": \"predict\",\n",
      "    \"epochs\": 50,\n",
      "    \"batch_size\": 16,\n",
      "    \"gpus\": 1,\n",
      "    \"datasets\": \"eyth eh hof gtea\",\n",
      "    \"height\": 256,\n",
      "    \"width\": 256,\n",
      "    \"data_base_path\": \"C:\\\\Users\\\\ASUS\\\\Desktop\\\\Distracted Driver Dataset\\\\Combined New\\\\test\\\\c6\",\n",
      "    \"model_pretrained\": true,\n",
      "    \"model_checkpoint\": \"Distracted Driver Dataset\\\\checkpoint\\\\checkpoint.ckpt\",\n",
      "    \"lr\": 0.0003,\n",
      "    \"in_channels\": 3\n",
      "}\n"
     ]
    },
    {
     "name": "stderr",
     "output_type": "stream",
     "text": [
      "Lightning automatically upgraded your loaded checkpoint from v1.2.2 to v2.0.0. To apply the upgrade to your files permanently, run `python -m pytorch_lightning.utilities.upgrade_checkpoint --file C:\\Users\\ASUS\\Desktop\\Distracted Driver Dataset\\checkpoint\\checkpoint.ckpt`\n"
     ]
    },
    {
     "name": "stdout",
     "output_type": "stream",
     "text": [
      "Loaded checkpoint from Distracted Driver Dataset\\checkpoint\\checkpoint.ckpt.\n",
      "model built\n",
      "Found 242 in C:\\Users\\ASUS\\Desktop\\Distracted Driver Dataset\\Combined New\\test\\c6.\n"
     ]
    },
    {
     "name": "stderr",
     "output_type": "stream",
     "text": [
      "Save predictions: 100%|██████████████████████████████████████████████████████████████| 242/242 [01:36<00:00,  2.51it/s]\n"
     ]
    },
    {
     "name": "stdout",
     "output_type": "stream",
     "text": [
      "C:\\Users\\ASUS\\Desktop\\Distracted Driver Dataset\\Combined New\\test\\c7\n",
      "430\n",
      "{\n",
      "    \"mode\": \"predict\",\n",
      "    \"epochs\": 50,\n",
      "    \"batch_size\": 16,\n",
      "    \"gpus\": 1,\n",
      "    \"datasets\": \"eyth eh hof gtea\",\n",
      "    \"height\": 256,\n",
      "    \"width\": 256,\n",
      "    \"data_base_path\": \"C:\\\\Users\\\\ASUS\\\\Desktop\\\\Distracted Driver Dataset\\\\Combined New\\\\test\\\\c7\",\n",
      "    \"model_pretrained\": true,\n",
      "    \"model_checkpoint\": \"Distracted Driver Dataset\\\\checkpoint\\\\checkpoint.ckpt\",\n",
      "    \"lr\": 0.0003,\n",
      "    \"in_channels\": 3\n",
      "}\n"
     ]
    },
    {
     "name": "stderr",
     "output_type": "stream",
     "text": [
      "Lightning automatically upgraded your loaded checkpoint from v1.2.2 to v2.0.0. To apply the upgrade to your files permanently, run `python -m pytorch_lightning.utilities.upgrade_checkpoint --file C:\\Users\\ASUS\\Desktop\\Distracted Driver Dataset\\checkpoint\\checkpoint.ckpt`\n"
     ]
    },
    {
     "name": "stdout",
     "output_type": "stream",
     "text": [
      "Loaded checkpoint from Distracted Driver Dataset\\checkpoint\\checkpoint.ckpt.\n",
      "model built\n",
      "Found 430 in C:\\Users\\ASUS\\Desktop\\Distracted Driver Dataset\\Combined New\\test\\c7.\n"
     ]
    },
    {
     "name": "stderr",
     "output_type": "stream",
     "text": [
      "Save predictions: 100%|██████████████████████████████████████████████████████████████| 430/430 [02:52<00:00,  2.50it/s]\n"
     ]
    },
    {
     "name": "stdout",
     "output_type": "stream",
     "text": [
      "C:\\Users\\ASUS\\Desktop\\Distracted Driver Dataset\\Combined New\\train\\c0\n",
      "2131\n",
      "{\n",
      "    \"mode\": \"predict\",\n",
      "    \"epochs\": 50,\n",
      "    \"batch_size\": 16,\n",
      "    \"gpus\": 1,\n",
      "    \"datasets\": \"eyth eh hof gtea\",\n",
      "    \"height\": 256,\n",
      "    \"width\": 256,\n",
      "    \"data_base_path\": \"C:\\\\Users\\\\ASUS\\\\Desktop\\\\Distracted Driver Dataset\\\\Combined New\\\\train\\\\c0\",\n",
      "    \"model_pretrained\": true,\n",
      "    \"model_checkpoint\": \"Distracted Driver Dataset\\\\checkpoint\\\\checkpoint.ckpt\",\n",
      "    \"lr\": 0.0003,\n",
      "    \"in_channels\": 3\n",
      "}\n"
     ]
    },
    {
     "name": "stderr",
     "output_type": "stream",
     "text": [
      "Lightning automatically upgraded your loaded checkpoint from v1.2.2 to v2.0.0. To apply the upgrade to your files permanently, run `python -m pytorch_lightning.utilities.upgrade_checkpoint --file C:\\Users\\ASUS\\Desktop\\Distracted Driver Dataset\\checkpoint\\checkpoint.ckpt`\n"
     ]
    },
    {
     "name": "stdout",
     "output_type": "stream",
     "text": [
      "Loaded checkpoint from Distracted Driver Dataset\\checkpoint\\checkpoint.ckpt.\n",
      "model built\n",
      "Found 2131 in C:\\Users\\ASUS\\Desktop\\Distracted Driver Dataset\\Combined New\\train\\c0.\n"
     ]
    },
    {
     "name": "stderr",
     "output_type": "stream",
     "text": [
      "Save predictions: 100%|████████████████████████████████████████████████████████████| 2131/2131 [14:32<00:00,  2.44it/s]\n"
     ]
    },
    {
     "name": "stdout",
     "output_type": "stream",
     "text": [
      "C:\\Users\\ASUS\\Desktop\\Distracted Driver Dataset\\Combined New\\train\\c1\n",
      "2000\n",
      "{\n",
      "    \"mode\": \"predict\",\n",
      "    \"epochs\": 50,\n",
      "    \"batch_size\": 16,\n",
      "    \"gpus\": 1,\n",
      "    \"datasets\": \"eyth eh hof gtea\",\n",
      "    \"height\": 256,\n",
      "    \"width\": 256,\n",
      "    \"data_base_path\": \"C:\\\\Users\\\\ASUS\\\\Desktop\\\\Distracted Driver Dataset\\\\Combined New\\\\train\\\\c1\",\n",
      "    \"model_pretrained\": true,\n",
      "    \"model_checkpoint\": \"Distracted Driver Dataset\\\\checkpoint\\\\checkpoint.ckpt\",\n",
      "    \"lr\": 0.0003,\n",
      "    \"in_channels\": 3\n",
      "}\n"
     ]
    },
    {
     "name": "stderr",
     "output_type": "stream",
     "text": [
      "Lightning automatically upgraded your loaded checkpoint from v1.2.2 to v2.0.0. To apply the upgrade to your files permanently, run `python -m pytorch_lightning.utilities.upgrade_checkpoint --file C:\\Users\\ASUS\\Desktop\\Distracted Driver Dataset\\checkpoint\\checkpoint.ckpt`\n"
     ]
    },
    {
     "name": "stdout",
     "output_type": "stream",
     "text": [
      "Loaded checkpoint from Distracted Driver Dataset\\checkpoint\\checkpoint.ckpt.\n",
      "model built\n",
      "Found 2000 in C:\\Users\\ASUS\\Desktop\\Distracted Driver Dataset\\Combined New\\train\\c1.\n"
     ]
    },
    {
     "name": "stderr",
     "output_type": "stream",
     "text": [
      "Save predictions: 100%|████████████████████████████████████████████████████████████| 2000/2000 [13:56<00:00,  2.39it/s]\n"
     ]
    },
    {
     "name": "stdout",
     "output_type": "stream",
     "text": [
      "C:\\Users\\ASUS\\Desktop\\Distracted Driver Dataset\\Combined New\\train\\c2\n",
      "1805\n",
      "{\n",
      "    \"mode\": \"predict\",\n",
      "    \"epochs\": 50,\n",
      "    \"batch_size\": 16,\n",
      "    \"gpus\": 1,\n",
      "    \"datasets\": \"eyth eh hof gtea\",\n",
      "    \"height\": 256,\n",
      "    \"width\": 256,\n",
      "    \"data_base_path\": \"C:\\\\Users\\\\ASUS\\\\Desktop\\\\Distracted Driver Dataset\\\\Combined New\\\\train\\\\c2\",\n",
      "    \"model_pretrained\": true,\n",
      "    \"model_checkpoint\": \"Distracted Driver Dataset\\\\checkpoint\\\\checkpoint.ckpt\",\n",
      "    \"lr\": 0.0003,\n",
      "    \"in_channels\": 3\n",
      "}\n"
     ]
    },
    {
     "name": "stderr",
     "output_type": "stream",
     "text": [
      "Lightning automatically upgraded your loaded checkpoint from v1.2.2 to v2.0.0. To apply the upgrade to your files permanently, run `python -m pytorch_lightning.utilities.upgrade_checkpoint --file C:\\Users\\ASUS\\Desktop\\Distracted Driver Dataset\\checkpoint\\checkpoint.ckpt`\n"
     ]
    },
    {
     "name": "stdout",
     "output_type": "stream",
     "text": [
      "Loaded checkpoint from Distracted Driver Dataset\\checkpoint\\checkpoint.ckpt.\n",
      "model built\n",
      "Found 1805 in C:\\Users\\ASUS\\Desktop\\Distracted Driver Dataset\\Combined New\\train\\c2.\n"
     ]
    },
    {
     "name": "stderr",
     "output_type": "stream",
     "text": [
      "Save predictions: 100%|████████████████████████████████████████████████████████████| 1805/1805 [12:02<00:00,  2.50it/s]\n"
     ]
    },
    {
     "name": "stdout",
     "output_type": "stream",
     "text": [
      "C:\\Users\\ASUS\\Desktop\\Distracted Driver Dataset\\Combined New\\train\\c3\n",
      "791\n",
      "{\n",
      "    \"mode\": \"predict\",\n",
      "    \"epochs\": 50,\n",
      "    \"batch_size\": 16,\n",
      "    \"gpus\": 1,\n",
      "    \"datasets\": \"eyth eh hof gtea\",\n",
      "    \"height\": 256,\n",
      "    \"width\": 256,\n",
      "    \"data_base_path\": \"C:\\\\Users\\\\ASUS\\\\Desktop\\\\Distracted Driver Dataset\\\\Combined New\\\\train\\\\c3\",\n",
      "    \"model_pretrained\": true,\n",
      "    \"model_checkpoint\": \"Distracted Driver Dataset\\\\checkpoint\\\\checkpoint.ckpt\",\n",
      "    \"lr\": 0.0003,\n",
      "    \"in_channels\": 3\n",
      "}\n"
     ]
    },
    {
     "name": "stderr",
     "output_type": "stream",
     "text": [
      "Lightning automatically upgraded your loaded checkpoint from v1.2.2 to v2.0.0. To apply the upgrade to your files permanently, run `python -m pytorch_lightning.utilities.upgrade_checkpoint --file C:\\Users\\ASUS\\Desktop\\Distracted Driver Dataset\\checkpoint\\checkpoint.ckpt`\n"
     ]
    },
    {
     "name": "stdout",
     "output_type": "stream",
     "text": [
      "Loaded checkpoint from Distracted Driver Dataset\\checkpoint\\checkpoint.ckpt.\n",
      "model built\n",
      "Found 791 in C:\\Users\\ASUS\\Desktop\\Distracted Driver Dataset\\Combined New\\train\\c3.\n"
     ]
    },
    {
     "name": "stderr",
     "output_type": "stream",
     "text": [
      "Save predictions: 100%|██████████████████████████████████████████████████████████████| 791/791 [05:16<00:00,  2.50it/s]\n"
     ]
    },
    {
     "name": "stdout",
     "output_type": "stream",
     "text": [
      "C:\\Users\\ASUS\\Desktop\\Distracted Driver Dataset\\Combined New\\train\\c4\n",
      "762\n",
      "{\n",
      "    \"mode\": \"predict\",\n",
      "    \"epochs\": 50,\n",
      "    \"batch_size\": 16,\n",
      "    \"gpus\": 1,\n",
      "    \"datasets\": \"eyth eh hof gtea\",\n",
      "    \"height\": 256,\n",
      "    \"width\": 256,\n",
      "    \"data_base_path\": \"C:\\\\Users\\\\ASUS\\\\Desktop\\\\Distracted Driver Dataset\\\\Combined New\\\\train\\\\c4\",\n",
      "    \"model_pretrained\": true,\n",
      "    \"model_checkpoint\": \"Distracted Driver Dataset\\\\checkpoint\\\\checkpoint.ckpt\",\n",
      "    \"lr\": 0.0003,\n",
      "    \"in_channels\": 3\n",
      "}\n"
     ]
    },
    {
     "name": "stderr",
     "output_type": "stream",
     "text": [
      "Lightning automatically upgraded your loaded checkpoint from v1.2.2 to v2.0.0. To apply the upgrade to your files permanently, run `python -m pytorch_lightning.utilities.upgrade_checkpoint --file C:\\Users\\ASUS\\Desktop\\Distracted Driver Dataset\\checkpoint\\checkpoint.ckpt`\n"
     ]
    },
    {
     "name": "stdout",
     "output_type": "stream",
     "text": [
      "Loaded checkpoint from Distracted Driver Dataset\\checkpoint\\checkpoint.ckpt.\n",
      "model built\n",
      "Found 762 in C:\\Users\\ASUS\\Desktop\\Distracted Driver Dataset\\Combined New\\train\\c4.\n"
     ]
    },
    {
     "name": "stderr",
     "output_type": "stream",
     "text": [
      "Save predictions: 100%|██████████████████████████████████████████████████████████████| 762/762 [05:02<00:00,  2.52it/s]\n"
     ]
    },
    {
     "name": "stdout",
     "output_type": "stream",
     "text": [
      "C:\\Users\\ASUS\\Desktop\\Distracted Driver Dataset\\Combined New\\train\\c5\n",
      "726\n",
      "{\n",
      "    \"mode\": \"predict\",\n",
      "    \"epochs\": 50,\n",
      "    \"batch_size\": 16,\n",
      "    \"gpus\": 1,\n",
      "    \"datasets\": \"eyth eh hof gtea\",\n",
      "    \"height\": 256,\n",
      "    \"width\": 256,\n",
      "    \"data_base_path\": \"C:\\\\Users\\\\ASUS\\\\Desktop\\\\Distracted Driver Dataset\\\\Combined New\\\\train\\\\c5\",\n",
      "    \"model_pretrained\": true,\n",
      "    \"model_checkpoint\": \"Distracted Driver Dataset\\\\checkpoint\\\\checkpoint.ckpt\",\n",
      "    \"lr\": 0.0003,\n",
      "    \"in_channels\": 3\n",
      "}\n"
     ]
    },
    {
     "name": "stderr",
     "output_type": "stream",
     "text": [
      "Lightning automatically upgraded your loaded checkpoint from v1.2.2 to v2.0.0. To apply the upgrade to your files permanently, run `python -m pytorch_lightning.utilities.upgrade_checkpoint --file C:\\Users\\ASUS\\Desktop\\Distracted Driver Dataset\\checkpoint\\checkpoint.ckpt`\n"
     ]
    },
    {
     "name": "stdout",
     "output_type": "stream",
     "text": [
      "Loaded checkpoint from Distracted Driver Dataset\\checkpoint\\checkpoint.ckpt.\n",
      "model built\n",
      "Found 726 in C:\\Users\\ASUS\\Desktop\\Distracted Driver Dataset\\Combined New\\train\\c5.\n"
     ]
    },
    {
     "name": "stderr",
     "output_type": "stream",
     "text": [
      "Save predictions: 100%|██████████████████████████████████████████████████████████████| 726/726 [04:47<00:00,  2.53it/s]\n"
     ]
    },
    {
     "name": "stdout",
     "output_type": "stream",
     "text": [
      "C:\\Users\\ASUS\\Desktop\\Distracted Driver Dataset\\Combined New\\train\\c6\n",
      "723\n",
      "{\n",
      "    \"mode\": \"predict\",\n",
      "    \"epochs\": 50,\n",
      "    \"batch_size\": 16,\n",
      "    \"gpus\": 1,\n",
      "    \"datasets\": \"eyth eh hof gtea\",\n",
      "    \"height\": 256,\n",
      "    \"width\": 256,\n",
      "    \"data_base_path\": \"C:\\\\Users\\\\ASUS\\\\Desktop\\\\Distracted Driver Dataset\\\\Combined New\\\\train\\\\c6\",\n",
      "    \"model_pretrained\": true,\n",
      "    \"model_checkpoint\": \"Distracted Driver Dataset\\\\checkpoint\\\\checkpoint.ckpt\",\n",
      "    \"lr\": 0.0003,\n",
      "    \"in_channels\": 3\n",
      "}\n"
     ]
    },
    {
     "name": "stderr",
     "output_type": "stream",
     "text": [
      "Lightning automatically upgraded your loaded checkpoint from v1.2.2 to v2.0.0. To apply the upgrade to your files permanently, run `python -m pytorch_lightning.utilities.upgrade_checkpoint --file C:\\Users\\ASUS\\Desktop\\Distracted Driver Dataset\\checkpoint\\checkpoint.ckpt`\n"
     ]
    },
    {
     "name": "stdout",
     "output_type": "stream",
     "text": [
      "Loaded checkpoint from Distracted Driver Dataset\\checkpoint\\checkpoint.ckpt.\n",
      "model built\n",
      "Found 723 in C:\\Users\\ASUS\\Desktop\\Distracted Driver Dataset\\Combined New\\train\\c6.\n"
     ]
    },
    {
     "name": "stderr",
     "output_type": "stream",
     "text": [
      "Save predictions: 100%|██████████████████████████████████████████████████████████████| 723/723 [04:46<00:00,  2.52it/s]\n"
     ]
    },
    {
     "name": "stdout",
     "output_type": "stream",
     "text": [
      "C:\\Users\\ASUS\\Desktop\\Distracted Driver Dataset\\Combined New\\train\\c7\n",
      "1287\n",
      "{\n",
      "    \"mode\": \"predict\",\n",
      "    \"epochs\": 50,\n",
      "    \"batch_size\": 16,\n",
      "    \"gpus\": 1,\n",
      "    \"datasets\": \"eyth eh hof gtea\",\n",
      "    \"height\": 256,\n",
      "    \"width\": 256,\n",
      "    \"data_base_path\": \"C:\\\\Users\\\\ASUS\\\\Desktop\\\\Distracted Driver Dataset\\\\Combined New\\\\train\\\\c7\",\n",
      "    \"model_pretrained\": true,\n",
      "    \"model_checkpoint\": \"Distracted Driver Dataset\\\\checkpoint\\\\checkpoint.ckpt\",\n",
      "    \"lr\": 0.0003,\n",
      "    \"in_channels\": 3\n",
      "}\n"
     ]
    },
    {
     "name": "stderr",
     "output_type": "stream",
     "text": [
      "Lightning automatically upgraded your loaded checkpoint from v1.2.2 to v2.0.0. To apply the upgrade to your files permanently, run `python -m pytorch_lightning.utilities.upgrade_checkpoint --file C:\\Users\\ASUS\\Desktop\\Distracted Driver Dataset\\checkpoint\\checkpoint.ckpt`\n"
     ]
    },
    {
     "name": "stdout",
     "output_type": "stream",
     "text": [
      "Loaded checkpoint from Distracted Driver Dataset\\checkpoint\\checkpoint.ckpt.\n",
      "model built\n",
      "Found 1287 in C:\\Users\\ASUS\\Desktop\\Distracted Driver Dataset\\Combined New\\train\\c7.\n"
     ]
    },
    {
     "name": "stderr",
     "output_type": "stream",
     "text": [
      "Save predictions: 100%|████████████████████████████████████████████████████████████| 1287/1287 [08:30<00:00,  2.52it/s]\n"
     ]
    }
   ],
   "source": [
    "if __name__ == '__main__':\n",
    "    for path in TEST_CLS:\n",
    "        print(path)\n",
    "        print(len(os.listdir(path)))\n",
    "        args = get_args(path)\n",
    "        main(args)\n",
    "    for path in TRAIN_CLS:\n",
    "        print(path)\n",
    "        print(len(os.listdir(path)))\n",
    "        args = get_args(path)\n",
    "        main(args)"
   ]
  },
  {
   "cell_type": "code",
   "execution_count": 18,
   "id": "d8ee2131",
   "metadata": {},
   "outputs": [],
   "source": [
    "t = [\"test\", \"train\"]\n",
    "if not os.path.exists(finalfolder_path):\n",
    "    os.mkdir(finalfolder_path)\n",
    "for x in t:\n",
    "    if not os.path.exists(os.path.join(os.getcwd(), finalfolder_path, x)):\n",
    "        os.mkdir(os.path.join(os.getcwd(), finalfolder_path, x))\n",
    "    for cls in CLASS:\n",
    "        if not os.path.exists(os.path.join(os.getcwd(), finalfolder_path, x, cls[0])):\n",
    "            os.mkdir(os.path.join(os.getcwd(), finalfolder_path, x, cls[0]))"
   ]
  },
  {
   "cell_type": "code",
   "execution_count": 19,
   "id": "ddeed479",
   "metadata": {},
   "outputs": [],
   "source": [
    "for cls in TEST_CLS:\n",
    "    for ori_name in os.listdir(cls):  # Put on the hand segmented image as a mask on the original test image\n",
    "        ori_img = cv2.imread(os.path.join(os.getcwd(), cls, ori_name))\n",
    "        mask = cv2.imread(os.path.join(os.getcwd(), destinationfolder_path, \"test\", naming(cls), ori_name + \".png\"))\n",
    "        W, H, C = ori_img.shape\n",
    "        mask = cv2.resize(mask, (H, W))\n",
    "        mask[mask < 128] = 1\n",
    "        mask[mask > 128] = 0\n",
    "        ori_img = ori_img * (mask == 0)\n",
    "        ori_img[mask == 1] = 255\n",
    "        cv2.imwrite(os.path.join(os.getcwd(), finalfolder_path, \"test\", naming(cls), ori_name + \".png\"), ori_img)\n",
    "\n",
    "for cls in TRAIN_CLS:\n",
    "    for ori_name in os.listdir(cls):  # Put on the hand segmented image as a mask on the original train image\n",
    "        ori_img = cv2.imread(os.path.join(os.getcwd(), cls, ori_name))\n",
    "        mask = cv2.imread(os.path.join(os.getcwd(), destinationfolder_path, \"train\", naming(cls), ori_name + \".png\"))\n",
    "        W, H, C = ori_img.shape\n",
    "        mask = cv2.resize(mask, (H, W))\n",
    "        mask[mask < 128] = 1\n",
    "        mask[mask > 128] = 0\n",
    "        ori_img = ori_img * (mask == 0)\n",
    "        ori_img[mask == 1] = 255\n",
    "        cv2.imwrite(os.path.join(os.getcwd(), finalfolder_path, \"train\", naming(cls), ori_name + \".png\"),\n",
    "                    ori_img)"
   ]
  },
  {
   "cell_type": "code",
   "execution_count": 22,
   "id": "131905be",
   "metadata": {},
   "outputs": [
    {
     "name": "stdout",
     "output_type": "stream",
     "text": [
      "(10225,) (3414,) (10225,) (3414,)\n"
     ]
    }
   ],
   "source": [
    "X_train = []\n",
    "X_test = []\n",
    "Y_train = []\n",
    "Y_test = []\n",
    "t = [\"test\", \"train\"]\n",
    "X = [X_test, X_train]\n",
    "Y = [Y_test, Y_train]\n",
    "\n",
    "for i in range(2):\n",
    "    for cls in os.listdir(os.path.join(os.getcwd(), finalfolder_path, t[i])):\n",
    "        for ori_name in os.listdir(os.path.join(os.getcwd(), finalfolder_path, t[i], cls)):\n",
    "            X[i].append(os.path.join(os.getcwd(), finalfolder_path, t[i], cls, ori_name))\n",
    "            Y[i].append(int(cls[1]))\n",
    "\n",
    "X_train = np.array(X_train)\n",
    "X_test = np.array(X_test)\n",
    "Y_train = np.array(Y_train)\n",
    "Y_test = np.array(Y_test)\n",
    "print(X_train.shape, X_test.shape,Y_train.shape, Y_test.shape)"
   ]
  },
  {
   "cell_type": "code",
   "execution_count": 23,
   "id": "c64b0801",
   "metadata": {},
   "outputs": [
    {
     "name": "stdout",
     "output_type": "stream",
     "text": [
      "(1365,)\n",
      "(1365,)\n"
     ]
    }
   ],
   "source": [
    "(X_val, X_test_final, Y_val, Y_test_final) = train_test_split(X_test, Y_test, test_size=0.6, stratify=Y_test, random_state=42)\n",
    "X_val = np.asarray(X_val)\n",
    "Y_val = np.asarray(Y_val)\n",
    "X_test_final = np.asarray(X_test_final)\n",
    "Y_test_final = np.asarray(Y_test_final)\n",
    "print(X_val.shape)\n",
    "print(Y_val.shape)"
   ]
  },
  {
   "cell_type": "code",
   "execution_count": 24,
   "id": "ede404e5",
   "metadata": {},
   "outputs": [
    {
     "name": "stdout",
     "output_type": "stream",
     "text": [
      "X_train_resized shape:  (10225, 100, 75, 1)\n"
     ]
    }
   ],
   "source": [
    "X_train_resized = []\n",
    "Y_train_resized = []\n",
    "i = 0\n",
    "for x in X_train:\n",
    "    if len(x)!=0 and len(x[0])!=0:\n",
    "        img = cv2.imread(x)\n",
    "        img = cv2.resize(img, (75, 100))\n",
    "        img = cv2.cvtColor(img, cv2.COLOR_RGB2GRAY)\n",
    "        # img_blur = cv2.GaussianBlur(img, (3,3), 0)\n",
    "        # edges = cv2.Canny(image=img_blur, threshold1=100, threshold2=200)\n",
    "        # edges = np.asarray(edges)\n",
    "        # edges = edges.reshape(120, 80, 1)\n",
    "        X_train_resized.append(img/255.0)\n",
    "        Y_train_resized.append(Y_train[i])\n",
    "    i+=1\n",
    "X_train_resized = np.asarray(X_train_resized)\n",
    "X_train_resized = X_train_resized.reshape(-1, 100, 75, 1)\n",
    "print(\"X_train_resized shape: \", X_train_resized.shape)"
   ]
  },
  {
   "cell_type": "code",
   "execution_count": 25,
   "id": "f06fbe7a",
   "metadata": {},
   "outputs": [
    {
     "data": {
      "text/plain": [
       "Text(0, 0.5, 'Frequency')"
      ]
     },
     "execution_count": 25,
     "metadata": {},
     "output_type": "execute_result"
    },
    {
     "data": {
      "image/png": "[encoded data removed]",
      "text/plain": [
       "<Figure size 640x480 with 1 Axes>"
      ]
     },
     "metadata": {},
     "output_type": "display_data"
    }
   ],
   "source": [
    "n, bins, patches = plt.hist(x=Y_train_resized, bins='auto', color='#0504aa')\n",
    "plt.grid(axis='y', alpha=0.75)\n",
    "plt.xlabel('Labels')\n",
    "plt.ylabel('Frequency')"
   ]
  },
  {
   "cell_type": "code",
   "execution_count": 26,
   "id": "a12ad7ac",
   "metadata": {},
   "outputs": [
    {
     "data": {
      "text/plain": [
       "6"
      ]
     },
     "execution_count": 26,
     "metadata": {},
     "output_type": "execute_result"
    }
   ],
   "source": [
    "counts = []\n",
    "for i in range(0, 8):\n",
    "    counts.append(Y_train_resized.count(i))\n",
    "np.argmin(counts)"
   ]
  },
  {
   "cell_type": "code",
   "execution_count": 29,
   "id": "73de33c3",
   "metadata": {},
   "outputs": [
    {
     "name": "stdout",
     "output_type": "stream",
     "text": [
      "         img  class\n",
      "0          0      0\n",
      "1          1      0\n",
      "2          2      0\n",
      "3          3      0\n",
      "4          4      0\n",
      "...      ...    ...\n",
      "10220  10220      7\n",
      "10221  10221      7\n",
      "10222  10222      7\n",
      "10223  10223      7\n",
      "10224  10224      7\n",
      "\n",
      "[10225 rows x 2 columns]\n"
     ]
    }
   ],
   "source": [
    "df_resized_train = pd.DataFrame({\"img\": range(10225), \"class\": Y_train_resized})\n",
    "print(df_resized_train)"
   ]
  },
  {
   "cell_type": "code",
   "execution_count": 30,
   "id": "ccf3d1a2",
   "metadata": {},
   "outputs": [
    {
     "name": "stdout",
     "output_type": "stream",
     "text": [
      "(5808, 100, 75, 1)\n"
     ]
    }
   ],
   "source": [
    "from sklearn.utils import resample\n",
    "X_train_sampled = []\n",
    "Y_train_sampled = []\n",
    "for c in range(0, 8):\n",
    "    to_sample = df_resized_train[df_resized_train['class'] == c]\n",
    "    downsample = resample(to_sample,\n",
    "             replace=True,\n",
    "             n_samples=counts[5],\n",
    "             random_state=42)\n",
    "    for index, val in downsample['img'].items():\n",
    "        X_train_sampled.append(X_train_resized[val])\n",
    "        Y_train_sampled.append(c)\n",
    "X_train_sampled = np.asarray(X_train_sampled)\n",
    "print(X_train_sampled.shape)"
   ]
  },
  {
   "cell_type": "code",
   "execution_count": 31,
   "id": "867ae002",
   "metadata": {},
   "outputs": [
    {
     "name": "stdout",
     "output_type": "stream",
     "text": [
      "New y_train shape:  (5808, 8)\n"
     ]
    }
   ],
   "source": [
    "Y_train_sampled = np_utils.to_categorical(Y_train_sampled, 8)\n",
    "print('New y_train shape: ', Y_train_sampled.shape)"
   ]
  },
  {
   "cell_type": "code",
   "execution_count": 32,
   "id": "c570e65a",
   "metadata": {},
   "outputs": [
    {
     "name": "stdout",
     "output_type": "stream",
     "text": [
      "(1365, 100, 75, 1)\n"
     ]
    }
   ],
   "source": [
    "X_val_resized = []\n",
    "Y_val_resized = []\n",
    "i = 0\n",
    "for x in X_val:\n",
    "    if len(x)!=0 and len(x[0])!=0:\n",
    "        img = cv2.imread(x)\n",
    "        img = cv2.resize(img, (75, 100))\n",
    "        img = cv2.cvtColor(img, cv2.COLOR_RGB2GRAY)\n",
    "        # img_blur = cv2.GaussianBlur(img, (3,3), 0)\n",
    "        # edges = cv2.Canny(image=img_blur, threshold1=100, threshold2=200)\n",
    "        # edges = np.asarray(edges)\n",
    "        # edges = edges.reshape(120, 80, 1)\n",
    "        X_val_resized.append(img/255)\n",
    "        Y_val_resized.append(Y_train[i])\n",
    "    i+=1\n",
    "X_val_resized = np.asarray(X_val_resized)\n",
    "X_val_resized = X_val_resized.reshape(-1, 100, 75, 1)\n",
    "print(X_val_resized.shape)"
   ]
  },
  {
   "cell_type": "code",
   "execution_count": 33,
   "id": "db1775b0",
   "metadata": {},
   "outputs": [
    {
     "name": "stdout",
     "output_type": "stream",
     "text": [
      "New y_train shape:  (1365, 8)\n"
     ]
    }
   ],
   "source": [
    "Y_val_resized = np_utils.to_categorical(Y_val_resized, 8)\n",
    "print('New y_train shape: ', Y_val_resized.shape)"
   ]
  },
  {
   "cell_type": "code",
   "execution_count": 34,
   "id": "62f16a54",
   "metadata": {},
   "outputs": [
    {
     "name": "stdout",
     "output_type": "stream",
     "text": [
      "Model: \"sequential\"\n",
      "_________________________________________________________________\n",
      " Layer (type)                Output Shape              Param #   \n",
      "=================================================================\n",
      " conv2d (Conv2D)             (None, 99, 74, 16)        80        \n",
      "                                                                 \n",
      " batch_normalization (BatchN  (None, 99, 74, 16)       64        \n",
      " ormalization)                                                   \n",
      "                                                                 \n",
      " max_pooling2d (MaxPooling2D  (None, 33, 24, 16)       0         \n",
      " )                                                               \n",
      "                                                                 \n",
      " conv2d_1 (Conv2D)           (None, 32, 23, 32)        2080      \n",
      "                                                                 \n",
      " batch_normalization_1 (Batc  (None, 32, 23, 32)       128       \n",
      " hNormalization)                                                 \n",
      "                                                                 \n",
      " max_pooling2d_1 (MaxPooling  (None, 8, 5, 32)         0         \n",
      " 2D)                                                             \n",
      "                                                                 \n",
      " flatten (Flatten)           (None, 1280)              0         \n",
      "                                                                 \n",
      " dropout (Dropout)           (None, 1280)              0         \n",
      "                                                                 \n",
      " dense (Dense)               (None, 8)                 10248     \n",
      "                                                                 \n",
      "=================================================================\n",
      "Total params: 12,600\n",
      "Trainable params: 12,504\n",
      "Non-trainable params: 96\n",
      "_________________________________________________________________\n"
     ]
    }
   ],
   "source": [
    "model = models.Sequential()\n",
    "model.add(layers.Conv2D(16, (2, 2), activation='relu', input_shape=(100, 75, 1)))\n",
    "model.add(layers.BatchNormalization())\n",
    "model.add(layers.MaxPooling2D((3, 3)))\n",
    "model.add(layers.Conv2D(32, (2, 2), activation='relu'))\n",
    "model.add(layers.BatchNormalization())\n",
    "model.add(layers.MaxPooling2D((4, 4)))\n",
    "model.add(layers.Flatten())\n",
    "model.add(layers.Dropout(0.5))\n",
    "# model.add(layers.Dense(64, activation='relu'))\n",
    "model.add(layers.Dense(8, activation='softmax'))\n",
    "\n",
    "model.summary()"
   ]
  },
  {
   "cell_type": "code",
   "execution_count": 39,
   "id": "d73b768d",
   "metadata": {},
   "outputs": [
    {
     "name": "stdout",
     "output_type": "stream",
     "text": [
      "Epoch 1/30\n",
      "117/117 [==============================] - 8s 59ms/step - loss: 4.3981 - accuracy: 0.2688 - val_loss: 1.8719 - val_accuracy: 0.0608\n",
      "Epoch 2/30\n",
      "117/117 [==============================] - 7s 58ms/step - loss: 2.7510 - accuracy: 0.3469 - val_loss: 1.9644 - val_accuracy: 0.0176\n",
      "Epoch 3/30\n",
      "117/117 [==============================] - 6s 55ms/step - loss: 2.1468 - accuracy: 0.3898 - val_loss: 2.7272 - val_accuracy: 0.0000e+00\n",
      "Epoch 4/30\n",
      "117/117 [==============================] - 6s 52ms/step - loss: 1.8854 - accuracy: 0.4165 - val_loss: 2.2693 - val_accuracy: 0.1172\n",
      "Epoch 5/30\n",
      "117/117 [==============================] - 7s 56ms/step - loss: 1.6796 - accuracy: 0.4527 - val_loss: 2.9958 - val_accuracy: 0.0769\n",
      "Epoch 6/30\n",
      "117/117 [==============================] - 7s 58ms/step - loss: 1.5200 - accuracy: 0.4833 - val_loss: 3.8469 - val_accuracy: 0.0476\n",
      "Epoch 7/30\n",
      "117/117 [==============================] - 7s 58ms/step - loss: 1.4048 - accuracy: 0.5015 - val_loss: 3.7979 - val_accuracy: 0.0777\n",
      "Epoch 8/30\n",
      "117/117 [==============================] - 7s 60ms/step - loss: 1.3583 - accuracy: 0.5303 - val_loss: 3.8841 - val_accuracy: 0.0762\n",
      "Epoch 9/30\n",
      "117/117 [==============================] - 7s 61ms/step - loss: 1.2864 - accuracy: 0.5453 - val_loss: 3.3738 - val_accuracy: 0.1341\n",
      "Epoch 10/30\n",
      "117/117 [==============================] - 7s 62ms/step - loss: 1.2751 - accuracy: 0.5496 - val_loss: 2.7818 - val_accuracy: 0.2344\n",
      "Epoch 11/30\n",
      "117/117 [==============================] - 7s 60ms/step - loss: 1.2421 - accuracy: 0.5553 - val_loss: 4.1544 - val_accuracy: 0.0799\n",
      "Epoch 12/30\n",
      "117/117 [==============================] - 8s 66ms/step - loss: 1.1819 - accuracy: 0.5732 - val_loss: 3.4112 - val_accuracy: 0.0982\n",
      "Epoch 13/30\n",
      "117/117 [==============================] - 7s 63ms/step - loss: 1.1742 - accuracy: 0.5823 - val_loss: 4.2759 - val_accuracy: 0.0645\n",
      "Epoch 14/30\n",
      "117/117 [==============================] - 7s 64ms/step - loss: 1.1435 - accuracy: 0.5978 - val_loss: 3.7865 - val_accuracy: 0.0777\n",
      "Epoch 15/30\n",
      "117/117 [==============================] - 7s 64ms/step - loss: 1.1205 - accuracy: 0.6040 - val_loss: 3.8204 - val_accuracy: 0.1136\n",
      "Epoch 16/30\n",
      "117/117 [==============================] - 8s 66ms/step - loss: 1.1146 - accuracy: 0.6031 - val_loss: 4.1675 - val_accuracy: 0.0945\n",
      "Epoch 17/30\n",
      "117/117 [==============================] - 8s 64ms/step - loss: 1.0812 - accuracy: 0.6164 - val_loss: 2.6670 - val_accuracy: 0.3297\n",
      "Epoch 18/30\n",
      "117/117 [==============================] - 7s 62ms/step - loss: 1.0827 - accuracy: 0.6169 - val_loss: 2.9999 - val_accuracy: 0.2330\n",
      "Epoch 19/30\n",
      "117/117 [==============================] - 7s 62ms/step - loss: 1.0626 - accuracy: 0.6238 - val_loss: 6.3560 - val_accuracy: 0.0352\n",
      "Epoch 20/30\n",
      "117/117 [==============================] - 7s 56ms/step - loss: 1.0315 - accuracy: 0.6324 - val_loss: 6.2104 - val_accuracy: 0.0462\n",
      "Epoch 21/30\n",
      "117/117 [==============================] - 7s 58ms/step - loss: 1.0427 - accuracy: 0.6350 - val_loss: 3.5433 - val_accuracy: 0.1656\n",
      "Epoch 22/30\n",
      "117/117 [==============================] - 7s 60ms/step - loss: 1.0193 - accuracy: 0.6420 - val_loss: 5.3338 - val_accuracy: 0.0601\n",
      "Epoch 23/30\n",
      "117/117 [==============================] - 7s 61ms/step - loss: 1.0091 - accuracy: 0.6451 - val_loss: 3.6118 - val_accuracy: 0.0952\n",
      "Epoch 24/30\n",
      "117/117 [==============================] - 7s 60ms/step - loss: 1.0035 - accuracy: 0.6419 - val_loss: 5.2559 - val_accuracy: 0.0608\n",
      "Epoch 25/30\n",
      "117/117 [==============================] - 7s 62ms/step - loss: 0.9901 - accuracy: 0.6550 - val_loss: 3.3663 - val_accuracy: 0.2410\n",
      "Epoch 26/30\n",
      "117/117 [==============================] - 7s 60ms/step - loss: 0.9849 - accuracy: 0.6458 - val_loss: 3.6959 - val_accuracy: 0.2015\n",
      "Epoch 27/30\n",
      "117/117 [==============================] - 7s 61ms/step - loss: 0.9654 - accuracy: 0.6620 - val_loss: 4.0739 - val_accuracy: 0.1480\n",
      "Epoch 28/30\n",
      "117/117 [==============================] - 7s 63ms/step - loss: 0.9608 - accuracy: 0.6555 - val_loss: 4.7010 - val_accuracy: 0.0901\n",
      "Epoch 29/30\n",
      "117/117 [==============================] - 7s 63ms/step - loss: 0.9411 - accuracy: 0.6713 - val_loss: 4.4078 - val_accuracy: 0.1341\n",
      "Epoch 30/30\n",
      "117/117 [==============================] - 7s 63ms/step - loss: 0.9413 - accuracy: 0.6711 - val_loss: 4.1886 - val_accuracy: 0.0996\n"
     ]
    }
   ],
   "source": [
    "callbacks_list = [\n",
    "    keras.callbacks.EarlyStopping(monitor='accuracy', patience=2)\n",
    "]\n",
    "\n",
    "opt = keras.optimizers.SGD(learning_rate=0.01)\n",
    "\n",
    "model.compile(loss='categorical_crossentropy',\n",
    "                optimizer='adam', metrics=['accuracy'])\n",
    "\n",
    "BATCH_SIZE = 50\n",
    "EPOCHS = 30\n",
    "\n",
    "history = model.fit(X_train_sampled, Y_train_sampled, epochs=EPOCHS, batch_size=BATCH_SIZE,callbacks=callbacks_list,\n",
    "                    validation_data=(X_val_resized, Y_val_resized), shuffle = True)"
   ]
  },
  {
   "cell_type": "code",
   "execution_count": 40,
   "id": "5b97aa7c",
   "metadata": {},
   "outputs": [
    {
     "data": {
      "image/png": "[encoded data removed]",
      "text/plain": [
       "<Figure size 600x400 with 1 Axes>"
      ]
     },
     "metadata": {},
     "output_type": "display_data"
    }
   ],
   "source": [
    "plt.figure(figsize=(6, 4))\n",
    "plt.plot(history.history['accuracy'], \"g--\", label=\"Accuracy of training data\")\n",
    "plt.plot(history.history['val_accuracy'], \"g\", label=\"Accuracy of validation data\")\n",
    "plt.plot(history.history['loss'], \"r--\", label=\"Loss of training data\")\n",
    "plt.plot(history.history['val_loss'], \"r\", label=\"Loss of validation data\")\n",
    "plt.title('Model Accuracy and Loss')\n",
    "plt.ylabel('Accuracy and Loss')\n",
    "plt.xlabel('Training Epoch')\n",
    "plt.ylim(0)\n",
    "plt.legend()\n",
    "plt.show()"
   ]
  },
  {
   "cell_type": "code",
   "execution_count": 41,
   "id": "a46d9384",
   "metadata": {},
   "outputs": [
    {
     "name": "stdout",
     "output_type": "stream",
     "text": [
      "(2049, 100, 75, 1)\n"
     ]
    }
   ],
   "source": [
    "X_test_resized = []\n",
    "Y_test_resized = []\n",
    "i = 0\n",
    "for x in X_test_final:\n",
    "    if len(x)!=0 and len(x[0])!=0:\n",
    "        img = cv2.imread(x)\n",
    "        img = cv2.resize(img, (75, 100))\n",
    "        img = cv2.cvtColor(img, cv2.COLOR_RGB2GRAY)\n",
    "        X_test_resized.append(img/255)\n",
    "        Y_test_resized.append(Y_test_final[i])\n",
    "    i+=1\n",
    "X_test_resized = np.asarray(X_test_resized)\n",
    "X_test_resized = X_test_resized.reshape(-1, 100, 75, 1)\n",
    "print(X_test_resized.shape)"
   ]
  },
  {
   "cell_type": "code",
   "execution_count": 42,
   "id": "a78d086e",
   "metadata": {},
   "outputs": [
    {
     "name": "stdout",
     "output_type": "stream",
     "text": [
      "New y_train shape:  (2049, 8)\n"
     ]
    }
   ],
   "source": [
    "Y_test_resized = np_utils.to_categorical(Y_test_resized, 8)\n",
    "print('New y_train shape: ', Y_test_resized.shape)"
   ]
  },
  {
   "cell_type": "code",
   "execution_count": 43,
   "id": "562ec6c3",
   "metadata": {},
   "outputs": [
    {
     "name": "stdout",
     "output_type": "stream",
     "text": [
      "65/65 [==============================] - 1s 13ms/step - loss: 1.7097 - accuracy: 0.4871\n",
      "\n",
      "Accuracy on test data: 0.49\n",
      "\n",
      "Loss on test data: 1.71\n"
     ]
    }
   ],
   "source": [
    "score = model.evaluate(X_test_resized, Y_test_resized, verbose=1)\n",
    "\n",
    "print(\"\\nAccuracy on test data: %0.2f\" % score[1])\n",
    "print(\"\\nLoss on test data: %0.2f\" % score[0])"
   ]
  },
  {
   "cell_type": "code",
   "execution_count": 45,
   "id": "802cfe14",
   "metadata": {},
   "outputs": [
    {
     "name": "stdout",
     "output_type": "stream",
     "text": [
      "65/65 [==============================] - 1s 14ms/step\n"
     ]
    },
    {
     "data": {
      "image/png": "[encoded data removed]",
      "text/plain": [
       "<Figure size 600x400 with 2 Axes>"
      ]
     },
     "metadata": {},
     "output_type": "display_data"
    },
    {
     "name": "stdout",
     "output_type": "stream",
     "text": [
      "\n",
      "--- Classification report for test data ---\n",
      "\n",
      "              precision    recall  f1-score   support\n",
      "\n",
      "           0       0.72      0.32      0.45       427\n",
      "           1       0.40      0.78      0.53       400\n",
      "           2       0.39      0.84      0.54       361\n",
      "           3       0.81      0.84      0.82       159\n",
      "           4       0.88      0.09      0.17       153\n",
      "           5       0.73      0.13      0.22       146\n",
      "           6       0.77      0.23      0.35       145\n",
      "           7       0.93      0.16      0.28       258\n",
      "\n",
      "    accuracy                           0.49      2049\n",
      "   macro avg       0.70      0.43      0.42      2049\n",
      "weighted avg       0.65      0.49      0.44      2049\n",
      "\n"
     ]
    }
   ],
   "source": [
    "LABELS = [0, 1, 2, 3, 4, 5, 6, 7]\n",
    "def show_confusion_matrix(validations, predictions):\n",
    "\n",
    "    matrix = metrics.confusion_matrix(validations, predictions)\n",
    "    plt.figure(figsize=(6, 4))\n",
    "    sns.heatmap(matrix,\n",
    "                cmap=\"coolwarm\",\n",
    "                linecolor='white',\n",
    "                linewidths=1,\n",
    "                xticklabels=LABELS,\n",
    "                yticklabels=LABELS,\n",
    "                annot=True,\n",
    "                fmt=\"d\")\n",
    "    plt.title(\"Confusion Matrix\")\n",
    "    plt.ylabel(\"True Label\")\n",
    "    plt.xlabel(\"Predicted Label\")\n",
    "    plt.show()\n",
    "\n",
    "y_pred_test = model.predict(X_test_resized)\n",
    "# Take the class with the highest probability from the test predictions\n",
    "max_y_pred_test = np.argmax(y_pred_test, axis=1)\n",
    "max_y_test = np.argmax(Y_test_resized, axis=1)\n",
    "\n",
    "show_confusion_matrix(max_y_test, max_y_pred_test)\n",
    "\n",
    "print(\"\\n--- Classification report for test data ---\\n\")\n",
    "\n",
    "print(classification_report(max_y_test, max_y_pred_test))"
   ]
  },
  {
   "cell_type": "code",
   "execution_count": null,
   "id": "9166d19a",
   "metadata": {},
   "outputs": [],
   "source": []
  }
 ],
 "metadata": {
  "kernelspec": {
   "display_name": "Python 3 (ipykernel)",
   "language": "python",
   "name": "python3"
  },
  "language_info": {
   "codemirror_mode": {
    "name": "ipython",
    "version": 3
   },
   "file_extension": ".py",
   "mimetype": "text/x-python",
   "name": "python",
   "nbconvert_exporter": "python",
   "pygments_lexer": "ipython3",
   "version": "3.10.9"
  }
 },
 "nbformat": 4,
 "nbformat_minor": 5
}
