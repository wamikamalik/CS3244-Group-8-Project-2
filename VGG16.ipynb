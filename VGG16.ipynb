{
  "cells": [
    {
      "cell_type": "code",
      "execution_count": 63,
      "metadata": {
        "id": "DMNxwXT6PxDd"
      },
      "outputs": [],
      "source": [
        "#!gdown 1-71hYGVEWoJH3JTtH9CAsSQ6PotpiZBW"
      ]
    },
    {
      "cell_type": "code",
      "execution_count": 64,
      "metadata": {
        "id": "tvJf9AAMQ915"
      },
      "outputs": [],
      "source": [
        "from zipfile import ZipFile\n",
        "with ZipFile('drive/MyDrive/CombinedNew.zip') as zipObj:\n",
        "  zipObj.extractall()"
      ]
    },
    {
      "cell_type": "code",
      "execution_count": 65,
      "metadata": {
        "id": "xspn6xRxjm1l"
      },
      "outputs": [],
      "source": [
        "import os\n",
        "import cv2\n",
        "import shutil\n",
        "import secrets\n",
        "import tensorflow as tf\n",
        "from tensorflow.keras.preprocessing.image import ImageDataGenerator\n",
        "from matplotlib import pyplot as plt\n",
        "from keras.layers import Conv2D, MaxPooling2D, GlobalAveragePooling2D\n",
        "from keras.layers import Dropout, Flatten, Dense\n",
        "from keras.models import Sequential\n",
        "from keras.models import Sequential, Model\n",
        "from keras import optimizers\n",
        "import numpy as np\n",
        "import pandas as pd\n",
        "from sklearn.metrics import confusion_matrix\n",
        "from sklearn.utils.class_weight import compute_class_weight\n",
        "from PIL import Image\n",
        "from PIL import ImageFile\n",
        "import seaborn as sns\n",
        "from keras.utils.vis_utils import plot_model\n",
        "from keras.callbacks import ModelCheckpoint\n",
        "from sklearn.metrics import accuracy_score,precision_score,recall_score,f1_score\n",
        "from tensorflow.keras.applications.vgg16 import VGG16, preprocess_input\n",
        "# from tensorflow.keras.applications.inception_v3 import InceptionV3, preprocess_input as pre_in2\n",
        "# from tensorflow.keras.applications.alexnet import AlexNet, preprocess_input"
      ]
    },
    {
      "cell_type": "code",
      "execution_count": 66,
      "metadata": {
        "id": "aqu4huPSGQTO"
      },
      "outputs": [],
      "source": [
        "PARENT_PATH = os.getcwd()\n",
        "DATA_PATH = os.path.join(os.getcwd(),\"CombinedNew\", \"Combined New\")\n",
        "TEST_PATH = os.path.join(DATA_PATH, \"test\")\n",
        "TRAIN_PATH = os.path.join(DATA_PATH, \"train\")\n",
        "UNSEEN_PATH = os.path.join(DATA_PATH, \"unseen\")\n",
        "MODEL_PATH = os.path.join(PARENT_PATH, \"models\")\n",
        "NUM_CLASSES = 8"
      ]
    },
    {
      "cell_type": "code",
      "execution_count": 67,
      "metadata": {
        "id": "rU9rXSZ6GSg6"
      },
      "outputs": [],
      "source": [
        "BATCH_SIZE = 64\n",
        "IMAGE_SIZE = 224\n",
        "NUM_EPOCH = 40"
      ]
    },
    {
      "cell_type": "code",
      "execution_count": 68,
      "metadata": {
        "id": "RkADIYpgGUEr"
      },
      "outputs": [],
      "source": [
        "# PREP_DATA_PATH = os.path.join(os.getcwd(),\"Distracted Driver Dataset\",\"Camera 1 - Prep\")\n",
        "# if os.path.exists(PREP_DATA_PATH):\n",
        "#   shutil.rmtree(PREP_DATA_PATH)\n",
        "# shutil.copytree(DATA_PATH, PREP_DATA_PATH)"
      ]
    },
    {
      "cell_type": "code",
      "execution_count": 69,
      "metadata": {
        "colab": {
          "base_uri": "https://localhost:8080/"
        },
        "id": "zLgf0gF_GWDi",
        "outputId": "8239dedf-6378-46dd-d873-6c060b92ac82"
      },
      "outputs": [
        {
          "output_type": "stream",
          "name": "stdout",
          "text": [
            "/content/CombinedNew/Combined New/train/c5\n",
            "/content/CombinedNew/Combined New/train/c1\n",
            "/content/CombinedNew/Combined New/train/c7\n",
            "/content/CombinedNew/Combined New/train/c4\n",
            "/content/CombinedNew/Combined New/train/c0\n",
            "/content/CombinedNew/Combined New/train/c3\n",
            "/content/CombinedNew/Combined New/train/c6\n",
            "/content/CombinedNew/Combined New/train/c2\n",
            "/content/CombinedNew/Combined New/test/c5\n",
            "/content/CombinedNew/Combined New/test/c1\n",
            "/content/CombinedNew/Combined New/test/c7\n",
            "/content/CombinedNew/Combined New/test/c4\n",
            "/content/CombinedNew/Combined New/test/c0\n",
            "/content/CombinedNew/Combined New/test/c3\n",
            "/content/CombinedNew/Combined New/test/c6\n",
            "/content/CombinedNew/Combined New/test/c2\n"
          ]
        }
      ],
      "source": [
        "def create_df(DATA_PATH):\n",
        "  cls_names = os.listdir(DATA_PATH)\n",
        "  data = []\n",
        "  for cls in cls_names: \n",
        "    if cls == \".DS_Store\":\n",
        "      continue\n",
        "    cls_path = os.path.join(DATA_PATH, cls)\n",
        "    print(cls_path)\n",
        "    for file in os.listdir(cls_path):\n",
        "      data.append({\"Filename\": os.path.join(cls, file), \"Class\": cls})\n",
        "  df = pd.DataFrame(data)\n",
        "  return df\n",
        "  \n",
        "train_df = create_df(TRAIN_PATH)\n",
        "test_df = create_df(TEST_PATH)"
      ]
    },
    {
      "cell_type": "code",
      "execution_count": 70,
      "metadata": {
        "colab": {
          "base_uri": "https://localhost:8080/",
          "height": 284
        },
        "id": "R0Uyr8SiGYiM",
        "outputId": "01a37d79-d0bd-45fd-fb0e-3c0b42792aec"
      },
      "outputs": [
        {
          "output_type": "execute_result",
          "data": {
            "text/plain": [
              "<Axes: >"
            ]
          },
          "metadata": {},
          "execution_count": 70
        },
        {
          "output_type": "display_data",
          "data": {
            "text/plain": [
              "<Figure size 432x288 with 1 Axes>"
            ],
            "image/png": "[encoded data removed]"
          },
          "metadata": {
            "needs_background": "light"
          }
        }
      ],
      "source": [
        "train_df['Class'].value_counts().plot.bar()"
      ]
    },
    {
      "cell_type": "code",
      "execution_count": 71,
      "metadata": {
        "colab": {
          "base_uri": "https://localhost:8080/",
          "height": 284
        },
        "id": "qRssuOWMGb0b",
        "outputId": "410a7bca-1e40-4255-f62a-7174d4fd437d"
      },
      "outputs": [
        {
          "output_type": "execute_result",
          "data": {
            "text/plain": [
              "<Axes: >"
            ]
          },
          "metadata": {},
          "execution_count": 71
        },
        {
          "output_type": "display_data",
          "data": {
            "text/plain": [
              "<Figure size 432x288 with 1 Axes>"
            ],
            "image/png": "[encoded data removed]"
          },
          "metadata": {
            "needs_background": "light"
          }
        }
      ],
      "source": [
        "test_df['Class'].value_counts().plot.bar()"
      ]
    },
    {
      "cell_type": "code",
      "execution_count": 72,
      "metadata": {
        "id": "gFWFPezKGcn7"
      },
      "outputs": [],
      "source": [
        "# def duplicateImg(file):\n",
        "#   filepath = os.path.join(cls_path, file)\n",
        "#   new_filepath = os.path.join(cls_path, \"new\" + file)\n",
        "#   shutil.copy(filepath, new_filepath)\n",
        "  \n",
        "# PREP_TRAIN_PATH = os.path.join(PREP_DATA_PATH, \"train\")\n",
        "# PREP_TEST_PATH = os.path.join(PREP_DATA_PATH, \"test\")\n",
        "# modify_cls = [ \"c2\", \"c3\", \"c4\", \"c5\", \"c6\" , \"c7\", \"c8\"]\n",
        "# for cls in modify_cls:\n",
        "#   cls_path = os.path.join(PREP_TRAIN_PATH, cls)\n",
        "#   for file in os.listdir(cls_path): \n",
        "#     if (cls != \"c2\" or cls != \"c4\"):\n",
        "#       duplicate = secrets.randbelow(10)\n",
        "#       if duplicate < 8:\n",
        "#         duplicateImg(file)\n",
        "#     else:\n",
        "#       duplicate = secrets.randbelow(4)\n",
        "#       if duplicate < 2:\n",
        "#         duplicateImg(file)"
      ]
    },
    {
      "cell_type": "code",
      "execution_count": 73,
      "metadata": {
        "id": "sxyICkeKGgjP"
      },
      "outputs": [],
      "source": [
        "# PREP_TRAIN_PATH = os.path.join(PREP_DATA_PATH, \"train\")\n",
        "# PREP_TEST_PATH = os.path.join(PREP_DATA_PATH, \"test\")\n",
        "# def dropImg(file):\n",
        "#   filepath = os.path.join(cls0_path, file)\n",
        "#   os.remove(filepath)\n",
        "# cls0_path = os.path.join(PREP_TRAIN_PATH, 'c0')\n",
        "# for file in os.listdir(cls0_path): \n",
        "#   duplicate = secrets.randbelow(2)\n",
        "#   if duplicate < 1:\n",
        "#     dropImg(file)"
      ]
    },
    {
      "cell_type": "code",
      "execution_count": 74,
      "metadata": {
        "id": "1sIbD8KSGhr5"
      },
      "outputs": [],
      "source": [
        "# prep_train_df = create_df(PREP_TRAIN_PATH)\n",
        "# prep_test_df = create_df(PREP_TEST_PATH)"
      ]
    },
    {
      "cell_type": "code",
      "execution_count": 75,
      "metadata": {
        "id": "6hjbHmcRGi-R"
      },
      "outputs": [],
      "source": [
        "# prep_train_df['Class'].value_counts().plot.bar()"
      ]
    },
    {
      "cell_type": "code",
      "execution_count": 76,
      "metadata": {
        "id": "oaxaT4QWGkf0"
      },
      "outputs": [],
      "source": [
        "# prep_test_df['Class'].value_counts().plot.bar()"
      ]
    },
    {
      "cell_type": "code",
      "execution_count": 77,
      "metadata": {
        "id": "5MXI42XJGnB3"
      },
      "outputs": [],
      "source": [
        "gen_per_image = 1\n",
        "gen_per_class = 200\n",
        "rotation_range = 5\n",
        "width_shift_range = 0.02\n",
        "height_shift_range = 0.02\n",
        "shear_range = 0.01\n",
        "zoom_range = 0.05\n",
        "horizontal_flip = False\n",
        "fill_mode = \"nearest\""
      ]
    },
    {
      "cell_type": "code",
      "execution_count": 78,
      "metadata": {
        "colab": {
          "base_uri": "https://localhost:8080/"
        },
        "id": "ppngvL7HGtFe",
        "outputId": "dd7a54fa-fafc-478b-8da4-efb3411e7237"
      },
      "outputs": [
        {
          "output_type": "stream",
          "name": "stdout",
          "text": [
            "Found 10225 images belonging to 8 classes.\n",
            "Found 3414 images belonging to 8 classes.\n",
            "Found 839 images belonging to 8 classes.\n"
          ]
        }
      ],
      "source": [
        "# for inc\n",
        "datagen = ImageDataGenerator(\n",
        "        rescale = 1./255,\n",
        "        rotation_range = rotation_range,\n",
        "        width_shift_range = width_shift_range,\n",
        "        height_shift_range = height_shift_range,\n",
        "        shear_range = shear_range,\n",
        "        zoom_range = zoom_range,\n",
        "        horizontal_flip = horizontal_flip,\n",
        "        fill_mode = fill_mode,\n",
        "        validation_split = 0.2,\n",
        "        preprocessing_function = preprocess_input)\n",
        "\n",
        "unseen_datagen = ImageDataGenerator(\n",
        "        rescale = 1./255,\n",
        ")\n",
        "\n",
        "train_data = datagen.flow_from_directory(TRAIN_PATH,\n",
        "                                        target_size=(IMAGE_SIZE,IMAGE_SIZE),\n",
        "                                        batch_size=BATCH_SIZE,\n",
        "                                        shuffle=True,\n",
        "                                        class_mode='categorical')\n",
        "\n",
        "valid_data = datagen.flow_from_directory(TEST_PATH,\n",
        "                                        target_size=(IMAGE_SIZE,IMAGE_SIZE),\n",
        "                                        batch_size=BATCH_SIZE,\n",
        "                                        shuffle=True)\n",
        "unseen_data = unseen_datagen.flow_from_directory(UNSEEN_PATH,\n",
        "                                        target_size=(IMAGE_SIZE,IMAGE_SIZE),\n",
        "                                        batch_size=BATCH_SIZE,\n",
        "                                        shuffle=False)"
      ]
    },
    {
      "cell_type": "code",
      "execution_count": 79,
      "metadata": {
        "colab": {
          "base_uri": "https://localhost:8080/"
        },
        "id": "eXwLo6w4bl1g",
        "outputId": "2fa90252-49ff-4505-b97b-728f078ea865"
      },
      "outputs": [
        {
          "output_type": "stream",
          "name": "stdout",
          "text": [
            "[0, 1, 2, 3, 4, 5, 6, 7]\n"
          ]
        }
      ],
      "source": [
        "classes = [i for i in range(8)]\n",
        "print(classes)"
      ]
    },
    {
      "cell_type": "code",
      "execution_count": 80,
      "metadata": {
        "colab": {
          "base_uri": "https://localhost:8080/"
        },
        "id": "7WR1HhPLbmNn",
        "outputId": "fd3344d0-a7b5-459f-8327-ebdcd5662d4e"
      },
      "outputs": [
        {
          "output_type": "stream",
          "name": "stdout",
          "text": [
            "{0: 0.5997770999530737, 1: 0.6390625, 2: 0.7081024930747922, 3: 1.615834386852086, 4: 1.6773293963254594, 5: 1.7605027548209367, 6: 1.7678077455048409, 7: 0.9931041181041181}\n"
          ]
        }
      ],
      "source": [
        "class_weights = compute_class_weight(class_weight='balanced', classes=classes, y=train_data.classes)\n",
        "class_weights = dict(enumerate(class_weights.flatten(), 0))\n",
        "print(class_weights)"
      ]
    },
    {
      "cell_type": "code",
      "execution_count": 81,
      "metadata": {
        "id": "S1yDU4GwGvNW"
      },
      "outputs": [],
      "source": [
        "base_model = VGG16(weights='imagenet', include_top=False, input_shape=(IMAGE_SIZE, IMAGE_SIZE, 3))\n",
        "for layer in base_model.layers:\n",
        "    layer.trainable = False"
      ]
    },
    {
      "cell_type": "code",
      "execution_count": 82,
      "metadata": {
        "colab": {
          "base_uri": "https://localhost:8080/"
        },
        "id": "g6mhv0v1GxG2",
        "outputId": "f333417b-bd18-4c97-c2c2-7f2c696a981f"
      },
      "outputs": [
        {
          "output_type": "stream",
          "name": "stdout",
          "text": [
            "Model: \"model_2\"\n",
            "_________________________________________________________________\n",
            " Layer (type)                Output Shape              Param #   \n",
            "=================================================================\n",
            " input_3 (InputLayer)        [(None, 224, 224, 3)]     0         \n",
            "                                                                 \n",
            " block1_conv1 (Conv2D)       (None, 224, 224, 64)      1792      \n",
            "                                                                 \n",
            " block1_conv2 (Conv2D)       (None, 224, 224, 64)      36928     \n",
            "                                                                 \n",
            " block1_pool (MaxPooling2D)  (None, 112, 112, 64)      0         \n",
            "                                                                 \n",
            " block2_conv1 (Conv2D)       (None, 112, 112, 128)     73856     \n",
            "                                                                 \n",
            " block2_conv2 (Conv2D)       (None, 112, 112, 128)     147584    \n",
            "                                                                 \n",
            " block2_pool (MaxPooling2D)  (None, 56, 56, 128)       0         \n",
            "                                                                 \n",
            " block3_conv1 (Conv2D)       (None, 56, 56, 256)       295168    \n",
            "                                                                 \n",
            " block3_conv2 (Conv2D)       (None, 56, 56, 256)       590080    \n",
            "                                                                 \n",
            " block3_conv3 (Conv2D)       (None, 56, 56, 256)       590080    \n",
            "                                                                 \n",
            " block3_pool (MaxPooling2D)  (None, 28, 28, 256)       0         \n",
            "                                                                 \n",
            " block4_conv1 (Conv2D)       (None, 28, 28, 512)       1180160   \n",
            "                                                                 \n",
            " block4_conv2 (Conv2D)       (None, 28, 28, 512)       2359808   \n",
            "                                                                 \n",
            " block4_conv3 (Conv2D)       (None, 28, 28, 512)       2359808   \n",
            "                                                                 \n",
            " block4_pool (MaxPooling2D)  (None, 14, 14, 512)       0         \n",
            "                                                                 \n",
            " block5_conv1 (Conv2D)       (None, 14, 14, 512)       2359808   \n",
            "                                                                 \n",
            " block5_conv2 (Conv2D)       (None, 14, 14, 512)       2359808   \n",
            "                                                                 \n",
            " block5_conv3 (Conv2D)       (None, 14, 14, 512)       2359808   \n",
            "                                                                 \n",
            " block5_pool (MaxPooling2D)  (None, 7, 7, 512)         0         \n",
            "                                                                 \n",
            " sequential_2 (Sequential)   (None, 8)                 4104      \n",
            "                                                                 \n",
            "=================================================================\n",
            "Total params: 14,718,792\n",
            "Trainable params: 4,104\n",
            "Non-trainable params: 14,714,688\n",
            "_________________________________________________________________\n"
          ]
        }
      ],
      "source": [
        "vgg16_fine_tuned = Sequential()\n",
        "vgg16_fine_tuned.add(GlobalAveragePooling2D(input_shape=base_model.output_shape[1:]))\n",
        "# inceptionv3_fine_tuned.add(Dense(256, activation='relu', kernel_initializer='glorot_normal'))\n",
        "vgg16_fine_tuned.add(Dense(8, activation='softmax', kernel_initializer='glorot_normal'))\n",
        "vgg16_fine_tuned = Model(inputs = base_model.input, outputs = vgg16_fine_tuned(base_model.output))\n",
        "\n",
        "vgg16_fine_tuned.summary()"
      ]
    },
    {
      "cell_type": "code",
      "execution_count": 83,
      "metadata": {
        "id": "wueF_ov9HE45"
      },
      "outputs": [],
      "source": [
        "optimizer = tf.keras.optimizers.Adam(learning_rate=0.001)\n",
        "vgg16_fine_tuned.compile(loss='categorical_crossentropy',optimizer=optimizer,metrics=['accuracy'])"
      ]
    },
    {
      "cell_type": "markdown",
      "metadata": {
        "id": "W8AIPVToXHvV"
      },
      "source": [
        "# New Section"
      ]
    },
    {
      "cell_type": "code",
      "execution_count": 84,
      "metadata": {
        "colab": {
          "base_uri": "https://localhost:8080/"
        },
        "id": "Oq-i42LOHHYI",
        "outputId": "ccfcee1f-6f05-4b2d-975f-b6c951176899"
      },
      "outputs": [
        {
          "output_type": "stream",
          "name": "stderr",
          "text": [
            "WARNING:tensorflow:`period` argument is deprecated. Please use `save_freq` to specify the frequency in number of batches seen.\n"
          ]
        }
      ],
      "source": [
        "filepath = os.path.join(MODEL_PATH,\"distracted_vgg16_best.hdf5\")\n",
        "checkpoint = ModelCheckpoint(filepath, monitor='val_accuracy', verbose=1, save_best_only=True,mode='max',period=1)\n",
        "callbacks_list = [checkpoint]"
      ]
    },
    {
      "cell_type": "code",
      "execution_count": 85,
      "metadata": {
        "colab": {
          "base_uri": "https://localhost:8080/"
        },
        "id": "5U_F7ZcRHLDF",
        "outputId": "1f620ed4-2482-4e72-e730-ddf37aa8d3d5"
      },
      "outputs": [
        {
          "output_type": "stream",
          "name": "stdout",
          "text": [
            "Epoch 1/40\n",
            "160/160 [==============================] - ETA: 0s - loss: 2.0513 - accuracy: 0.1917\n",
            "Epoch 1: val_accuracy improved from -inf to 0.19361, saving model to /content/models/distracted_vgg16_best.hdf5\n",
            "160/160 [==============================] - 442s 3s/step - loss: 2.0513 - accuracy: 0.1917 - val_loss: 2.0276 - val_accuracy: 0.1936\n",
            "Epoch 2/40\n",
            "160/160 [==============================] - ETA: 0s - loss: 1.9374 - accuracy: 0.3228\n",
            "Epoch 2: val_accuracy improved from 0.19361 to 0.36438, saving model to /content/models/distracted_vgg16_best.hdf5\n",
            "160/160 [==============================] - 427s 3s/step - loss: 1.9374 - accuracy: 0.3228 - val_loss: 1.8757 - val_accuracy: 0.3644\n",
            "Epoch 3/40\n",
            "160/160 [==============================] - ETA: 0s - loss: 1.8480 - accuracy: 0.3927\n",
            "Epoch 3: val_accuracy improved from 0.36438 to 0.41769, saving model to /content/models/distracted_vgg16_best.hdf5\n",
            "160/160 [==============================] - 426s 3s/step - loss: 1.8480 - accuracy: 0.3927 - val_loss: 1.8131 - val_accuracy: 0.4177\n",
            "Epoch 4/40\n",
            "160/160 [==============================] - ETA: 0s - loss: 1.7764 - accuracy: 0.4235\n",
            "Epoch 4: val_accuracy improved from 0.41769 to 0.47012, saving model to /content/models/distracted_vgg16_best.hdf5\n",
            "160/160 [==============================] - 463s 3s/step - loss: 1.7764 - accuracy: 0.4235 - val_loss: 1.7422 - val_accuracy: 0.4701\n",
            "Epoch 5/40\n",
            "160/160 [==============================] - ETA: 0s - loss: 1.7132 - accuracy: 0.4502\n",
            "Epoch 5: val_accuracy improved from 0.47012 to 0.48418, saving model to /content/models/distracted_vgg16_best.hdf5\n",
            "160/160 [==============================] - 418s 3s/step - loss: 1.7132 - accuracy: 0.4502 - val_loss: 1.6577 - val_accuracy: 0.4842\n",
            "Epoch 6/40\n",
            "160/160 [==============================] - ETA: 0s - loss: 1.6566 - accuracy: 0.4802\n",
            "Epoch 6: val_accuracy improved from 0.48418 to 0.48653, saving model to /content/models/distracted_vgg16_best.hdf5\n",
            "160/160 [==============================] - 412s 3s/step - loss: 1.6566 - accuracy: 0.4802 - val_loss: 1.6806 - val_accuracy: 0.4865\n",
            "Epoch 7/40\n",
            "160/160 [==============================] - ETA: 0s - loss: 1.6066 - accuracy: 0.5011\n",
            "Epoch 7: val_accuracy improved from 0.48653 to 0.50410, saving model to /content/models/distracted_vgg16_best.hdf5\n",
            "160/160 [==============================] - 414s 3s/step - loss: 1.6066 - accuracy: 0.5011 - val_loss: 1.6045 - val_accuracy: 0.5041\n",
            "Epoch 8/40\n",
            "160/160 [==============================] - ETA: 0s - loss: 1.5609 - accuracy: 0.5103\n",
            "Epoch 8: val_accuracy improved from 0.50410 to 0.52168, saving model to /content/models/distracted_vgg16_best.hdf5\n",
            "160/160 [==============================] - 416s 3s/step - loss: 1.5609 - accuracy: 0.5103 - val_loss: 1.5769 - val_accuracy: 0.5217\n",
            "Epoch 9/40\n",
            "160/160 [==============================] - ETA: 0s - loss: 1.5187 - accuracy: 0.5359\n",
            "Epoch 9: val_accuracy did not improve from 0.52168\n",
            "160/160 [==============================] - 456s 3s/step - loss: 1.5187 - accuracy: 0.5359 - val_loss: 1.5684 - val_accuracy: 0.4956\n",
            "Epoch 10/40\n",
            "160/160 [==============================] - ETA: 0s - loss: 1.4798 - accuracy: 0.5447\n",
            "Epoch 10: val_accuracy improved from 0.52168 to 0.57557, saving model to /content/models/distracted_vgg16_best.hdf5\n",
            "160/160 [==============================] - 410s 3s/step - loss: 1.4798 - accuracy: 0.5447 - val_loss: 1.4671 - val_accuracy: 0.5756\n",
            "Epoch 11/40\n",
            "160/160 [==============================] - ETA: 0s - loss: 1.4428 - accuracy: 0.5618\n",
            "Epoch 11: val_accuracy improved from 0.57557 to 0.57616, saving model to /content/models/distracted_vgg16_best.hdf5\n",
            "160/160 [==============================] - 414s 3s/step - loss: 1.4428 - accuracy: 0.5618 - val_loss: 1.4508 - val_accuracy: 0.5762\n",
            "Epoch 12/40\n",
            "160/160 [==============================] - ETA: 0s - loss: 1.4111 - accuracy: 0.5671\n",
            "Epoch 12: val_accuracy did not improve from 0.57616\n",
            "160/160 [==============================] - 409s 3s/step - loss: 1.4111 - accuracy: 0.5671 - val_loss: 1.4687 - val_accuracy: 0.5313\n",
            "Epoch 13/40\n",
            "160/160 [==============================] - ETA: 0s - loss: 1.3797 - accuracy: 0.5819\n",
            "Epoch 13: val_accuracy did not improve from 0.57616\n",
            "160/160 [==============================] - 412s 3s/step - loss: 1.3797 - accuracy: 0.5819 - val_loss: 1.4322 - val_accuracy: 0.5621\n",
            "Epoch 14/40\n",
            "160/160 [==============================] - ETA: 0s - loss: 1.3512 - accuracy: 0.5917\n",
            "Epoch 14: val_accuracy improved from 0.57616 to 0.58202, saving model to /content/models/distracted_vgg16_best.hdf5\n",
            "160/160 [==============================] - 413s 3s/step - loss: 1.3512 - accuracy: 0.5917 - val_loss: 1.4111 - val_accuracy: 0.5820\n",
            "Epoch 15/40\n",
            "160/160 [==============================] - ETA: 0s - loss: 1.3242 - accuracy: 0.6019\n",
            "Epoch 15: val_accuracy improved from 0.58202 to 0.60369, saving model to /content/models/distracted_vgg16_best.hdf5\n",
            "160/160 [==============================] - 457s 3s/step - loss: 1.3242 - accuracy: 0.6019 - val_loss: 1.3533 - val_accuracy: 0.6037\n",
            "Epoch 16/40\n",
            "160/160 [==============================] - ETA: 0s - loss: 1.2981 - accuracy: 0.6088\n",
            "Epoch 16: val_accuracy improved from 0.60369 to 0.60750, saving model to /content/models/distracted_vgg16_best.hdf5\n",
            "160/160 [==============================] - 416s 3s/step - loss: 1.2981 - accuracy: 0.6088 - val_loss: 1.3404 - val_accuracy: 0.6075\n",
            "Epoch 17/40\n",
            "160/160 [==============================] - ETA: 0s - loss: 1.2723 - accuracy: 0.6201\n",
            "Epoch 17: val_accuracy improved from 0.60750 to 0.61922, saving model to /content/models/distracted_vgg16_best.hdf5\n",
            "160/160 [==============================] - 420s 3s/step - loss: 1.2723 - accuracy: 0.6201 - val_loss: 1.3065 - val_accuracy: 0.6192\n",
            "Epoch 18/40\n",
            "160/160 [==============================] - ETA: 0s - loss: 1.2483 - accuracy: 0.6239\n",
            "Epoch 18: val_accuracy did not improve from 0.61922\n",
            "160/160 [==============================] - 454s 3s/step - loss: 1.2483 - accuracy: 0.6239 - val_loss: 1.2826 - val_accuracy: 0.6178\n",
            "Epoch 19/40\n",
            "160/160 [==============================] - ETA: 0s - loss: 1.2271 - accuracy: 0.6361\n",
            "Epoch 19: val_accuracy improved from 0.61922 to 0.63562, saving model to /content/models/distracted_vgg16_best.hdf5\n",
            "160/160 [==============================] - 414s 3s/step - loss: 1.2271 - accuracy: 0.6361 - val_loss: 1.2624 - val_accuracy: 0.6356\n",
            "Epoch 20/40\n",
            "160/160 [==============================] - ETA: 0s - loss: 1.2075 - accuracy: 0.6400\n",
            "Epoch 20: val_accuracy did not improve from 0.63562\n",
            "160/160 [==============================] - 416s 3s/step - loss: 1.2075 - accuracy: 0.6400 - val_loss: 1.2822 - val_accuracy: 0.6189\n",
            "Epoch 21/40\n",
            "160/160 [==============================] - ETA: 0s - loss: 1.1864 - accuracy: 0.6466\n",
            "Epoch 21: val_accuracy improved from 0.63562 to 0.64675, saving model to /content/models/distracted_vgg16_best.hdf5\n",
            "160/160 [==============================] - 416s 3s/step - loss: 1.1864 - accuracy: 0.6466 - val_loss: 1.2268 - val_accuracy: 0.6467\n",
            "Epoch 22/40\n",
            "160/160 [==============================] - ETA: 0s - loss: 1.1672 - accuracy: 0.6554\n",
            "Epoch 22: val_accuracy did not improve from 0.64675\n",
            "160/160 [==============================] - 410s 3s/step - loss: 1.1672 - accuracy: 0.6554 - val_loss: 1.2265 - val_accuracy: 0.6368\n",
            "Epoch 23/40\n",
            "160/160 [==============================] - ETA: 0s - loss: 1.1493 - accuracy: 0.6489\n",
            "Epoch 23: val_accuracy improved from 0.64675 to 0.65407, saving model to /content/models/distracted_vgg16_best.hdf5\n",
            "160/160 [==============================] - 414s 3s/step - loss: 1.1493 - accuracy: 0.6489 - val_loss: 1.1968 - val_accuracy: 0.6541\n",
            "Epoch 24/40\n",
            "160/160 [==============================] - ETA: 0s - loss: 1.1380 - accuracy: 0.6632\n",
            "Epoch 24: val_accuracy did not improve from 0.65407\n",
            "160/160 [==============================] - 413s 3s/step - loss: 1.1380 - accuracy: 0.6632 - val_loss: 1.2154 - val_accuracy: 0.6485\n",
            "Epoch 25/40\n",
            "160/160 [==============================] - ETA: 0s - loss: 1.1188 - accuracy: 0.6686\n",
            "Epoch 25: val_accuracy improved from 0.65407 to 0.67252, saving model to /content/models/distracted_vgg16_best.hdf5\n",
            "160/160 [==============================] - 417s 3s/step - loss: 1.1188 - accuracy: 0.6686 - val_loss: 1.1786 - val_accuracy: 0.6725\n",
            "Epoch 26/40\n",
            "160/160 [==============================] - ETA: 0s - loss: 1.1030 - accuracy: 0.6735\n",
            "Epoch 26: val_accuracy did not improve from 0.67252\n",
            "160/160 [==============================] - 424s 3s/step - loss: 1.1030 - accuracy: 0.6735 - val_loss: 1.1672 - val_accuracy: 0.6588\n",
            "Epoch 27/40\n",
            "160/160 [==============================] - ETA: 0s - loss: 1.0913 - accuracy: 0.6749\n",
            "Epoch 27: val_accuracy improved from 0.67252 to 0.68014, saving model to /content/models/distracted_vgg16_best.hdf5\n",
            "160/160 [==============================] - 417s 3s/step - loss: 1.0913 - accuracy: 0.6749 - val_loss: 1.1429 - val_accuracy: 0.6801\n",
            "Epoch 28/40\n",
            "160/160 [==============================] - ETA: 0s - loss: 1.0707 - accuracy: 0.6842\n",
            "Epoch 28: val_accuracy did not improve from 0.68014\n",
            "160/160 [==============================] - 454s 3s/step - loss: 1.0707 - accuracy: 0.6842 - val_loss: 1.1465 - val_accuracy: 0.6675\n",
            "Epoch 29/40\n",
            "160/160 [==============================] - ETA: 0s - loss: 1.0571 - accuracy: 0.6848\n",
            "Epoch 29: val_accuracy improved from 0.68014 to 0.70123, saving model to /content/models/distracted_vgg16_best.hdf5\n",
            "160/160 [==============================] - 422s 3s/step - loss: 1.0571 - accuracy: 0.6848 - val_loss: 1.0954 - val_accuracy: 0.7012\n",
            "Epoch 30/40\n",
            "160/160 [==============================] - ETA: 0s - loss: 1.0467 - accuracy: 0.6923\n",
            "Epoch 30: val_accuracy did not improve from 0.70123\n",
            "160/160 [==============================] - 418s 3s/step - loss: 1.0467 - accuracy: 0.6923 - val_loss: 1.1183 - val_accuracy: 0.6731\n",
            "Epoch 31/40\n",
            "160/160 [==============================] - ETA: 0s - loss: 1.0345 - accuracy: 0.6955\n",
            "Epoch 31: val_accuracy did not improve from 0.70123\n",
            "160/160 [==============================] - 453s 3s/step - loss: 1.0345 - accuracy: 0.6955 - val_loss: 1.0893 - val_accuracy: 0.7009\n",
            "Epoch 32/40\n",
            "160/160 [==============================] - ETA: 0s - loss: 1.0198 - accuracy: 0.7000\n",
            "Epoch 32: val_accuracy improved from 0.70123 to 0.70328, saving model to /content/models/distracted_vgg16_best.hdf5\n",
            "160/160 [==============================] - 414s 3s/step - loss: 1.0198 - accuracy: 0.7000 - val_loss: 1.0584 - val_accuracy: 0.7033\n",
            "Epoch 33/40\n",
            "160/160 [==============================] - ETA: 0s - loss: 1.0109 - accuracy: 0.7007\n",
            "Epoch 33: val_accuracy improved from 0.70328 to 0.70504, saving model to /content/models/distracted_vgg16_best.hdf5\n",
            "160/160 [==============================] - 414s 3s/step - loss: 1.0109 - accuracy: 0.7007 - val_loss: 1.0678 - val_accuracy: 0.7050\n",
            "Epoch 34/40\n",
            "160/160 [==============================] - ETA: 0s - loss: 0.9952 - accuracy: 0.7075\n",
            "Epoch 34: val_accuracy did not improve from 0.70504\n",
            "160/160 [==============================] - 456s 3s/step - loss: 0.9952 - accuracy: 0.7075 - val_loss: 1.0969 - val_accuracy: 0.6798\n",
            "Epoch 35/40\n",
            "160/160 [==============================] - ETA: 0s - loss: 0.9862 - accuracy: 0.7155\n",
            "Epoch 35: val_accuracy did not improve from 0.70504\n",
            "160/160 [==============================] - 411s 3s/step - loss: 0.9862 - accuracy: 0.7155 - val_loss: 1.0531 - val_accuracy: 0.6998\n",
            "Epoch 36/40\n",
            "160/160 [==============================] - ETA: 0s - loss: 0.9756 - accuracy: 0.7169\n",
            "Epoch 36: val_accuracy did not improve from 0.70504\n",
            "160/160 [==============================] - 415s 3s/step - loss: 0.9756 - accuracy: 0.7169 - val_loss: 1.0494 - val_accuracy: 0.7021\n",
            "Epoch 37/40\n",
            "160/160 [==============================] - ETA: 0s - loss: 0.9582 - accuracy: 0.7252\n",
            "Epoch 37: val_accuracy improved from 0.70504 to 0.70621, saving model to /content/models/distracted_vgg16_best.hdf5\n",
            "160/160 [==============================] - 411s 3s/step - loss: 0.9582 - accuracy: 0.7252 - val_loss: 1.0340 - val_accuracy: 0.7062\n",
            "Epoch 38/40\n",
            "160/160 [==============================] - ETA: 0s - loss: 0.9548 - accuracy: 0.7159\n",
            "Epoch 38: val_accuracy improved from 0.70621 to 0.71265, saving model to /content/models/distracted_vgg16_best.hdf5\n",
            "160/160 [==============================] - 415s 3s/step - loss: 0.9548 - accuracy: 0.7159 - val_loss: 1.0052 - val_accuracy: 0.7127\n",
            "Epoch 39/40\n",
            "160/160 [==============================] - ETA: 0s - loss: 0.9429 - accuracy: 0.7232\n",
            "Epoch 39: val_accuracy did not improve from 0.71265\n",
            "160/160 [==============================] - 460s 3s/step - loss: 0.9429 - accuracy: 0.7232 - val_loss: 1.0139 - val_accuracy: 0.7056\n",
            "Epoch 40/40\n",
            "160/160 [==============================] - ETA: 0s - loss: 0.9343 - accuracy: 0.7265\n",
            "Epoch 40: val_accuracy improved from 0.71265 to 0.72378, saving model to /content/models/distracted_vgg16_best.hdf5\n",
            "160/160 [==============================] - 425s 3s/step - loss: 0.9343 - accuracy: 0.7265 - val_loss: 1.0047 - val_accuracy: 0.7238\n"
          ]
        }
      ],
      "source": [
        "model_history = vgg16_fine_tuned.fit(train_data,validation_data = valid_data,epochs=NUM_EPOCH, shuffle=True,callbacks=callbacks_list, class_weight=class_weights)"
      ]
    },
    {
      "cell_type": "code",
      "execution_count": 86,
      "metadata": {
        "id": "IwZBhvZkU5OU",
        "colab": {
          "base_uri": "https://localhost:8080/",
          "height": 873
        },
        "outputId": "fe6ff34b-bd31-43c5-f855-7a872c8600b7"
      },
      "outputs": [
        {
          "output_type": "display_data",
          "data": {
            "text/plain": [
              "<Figure size 864x864 with 2 Axes>"
            ],
            "image/png": "[encoded data removed]"
          },
          "metadata": {
            "needs_background": "light"
          }
        }
      ],
      "source": [
        "fig, (ax1, ax2) = plt.subplots(2, 1, figsize=(12, 12))\n",
        "ax1.plot(model_history.history['loss'], color='b', label=\"Training loss\")\n",
        "ax1.plot(model_history.history['val_loss'], color='r', label=\"validation loss\")\n",
        "ax1.set_xticks(np.arange(1, 25, 1))\n",
        "ax1.set_yticks(np.arange(0, 1, 0.1))\n",
        "\n",
        "ax2.plot(model_history.history['accuracy'], color='b', label=\"Training accuracy\")\n",
        "ax2.plot(model_history.history['val_accuracy'], color='r',label=\"Validation accuracy\")\n",
        "ax2.set_xticks(np.arange(1, 25, 1))\n",
        "\n",
        "legend = plt.legend(loc='best', shadow=True)\n",
        "plt.tight_layout()\n",
        "plt.show()"
      ]
    },
    {
      "cell_type": "code",
      "execution_count": 87,
      "metadata": {
        "id": "vQTRd58JgyTU"
      },
      "outputs": [],
      "source": [
        "vgg16_fine_tuned.load_weights('models/distracted_vgg16_best.hdf5')"
      ]
    },
    {
      "cell_type": "code",
      "execution_count": 88,
      "metadata": {
        "id": "vI0fIdL_u3YT"
      },
      "outputs": [],
      "source": [
        "# evaluate_data = datagen.flow_from_directory(PREP_TEST_PATH,\n",
        "#                                         target_size=(IMAGE_SIZE,IMAGE_SIZE),\n",
        "#                                         batch_size=BATCH_SIZE,shuffle=False)"
      ]
    },
    {
      "cell_type": "code",
      "execution_count": 89,
      "metadata": {
        "id": "BZ1iDbKcvh3s",
        "colab": {
          "base_uri": "https://localhost:8080/"
        },
        "outputId": "f391b9a9-4be0-4c24-d32b-c7186500c782"
      },
      "outputs": [
        {
          "output_type": "stream",
          "name": "stdout",
          "text": [
            "14/14 [==============================] - 15s 1s/step\n"
          ]
        }
      ],
      "source": [
        "ypred = vgg16_fine_tuned.predict(unseen_data)\n",
        "\n",
        "evaluate_list = unseen_data.classes.tolist()\n",
        "\n",
        "ypred_class = np.argmax(ypred,axis=1)\n",
        "ytest = evaluate_list"
      ]
    },
    {
      "cell_type": "code",
      "execution_count": 90,
      "metadata": {
        "id": "9bJEGWRPwAy2",
        "colab": {
          "base_uri": "https://localhost:8080/"
        },
        "outputId": "b2c3e154-0ff8-4e55-99c3-378815f5f75f"
      },
      "outputs": [
        {
          "output_type": "stream",
          "name": "stdout",
          "text": [
            "Accuracy: 0.249106\n",
            "Precision: 0.150176\n",
            "Recall: 0.249106\n",
            "F1 score: 0.141416\n"
          ]
        },
        {
          "output_type": "stream",
          "name": "stderr",
          "text": [
            "/usr/local/lib/python3.9/dist-packages/sklearn/metrics/_classification.py:1344: UndefinedMetricWarning: Precision is ill-defined and being set to 0.0 in labels with no predicted samples. Use `zero_division` parameter to control this behavior.\n",
            "  _warn_prf(average, modifier, msg_start, len(result))\n"
          ]
        }
      ],
      "source": [
        "accuracy = accuracy_score(ytest,ypred_class)\n",
        "print('Accuracy: %f' % accuracy)\n",
        "# precision tp / (tp + fp)\n",
        "precision = precision_score(ytest, ypred_class,average='weighted')\n",
        "print('Precision: %f' % precision)\n",
        "# recall: tp / (tp + fn)\n",
        "recall = recall_score(ytest,ypred_class,average='weighted')\n",
        "print('Recall: %f' % recall)\n",
        "# f1: 2 tp / (2 tp + fp + fn)\n",
        "f1 = f1_score(ytest,ypred_class,average='weighted')\n",
        "print('F1 score: %f' % f1)"
      ]
    },
    {
      "cell_type": "code",
      "execution_count": 91,
      "metadata": {
        "id": "kxEGV4lDwDR5",
        "colab": {
          "base_uri": "https://localhost:8080/"
        },
        "outputId": "6309bb0d-d587-463b-f6bf-4bc01099add7"
      },
      "outputs": [
        {
          "output_type": "stream",
          "name": "stdout",
          "text": [
            "14/14 [==============================] - 14s 974ms/step - loss: 2.5117 - accuracy: 0.2491\n"
          ]
        },
        {
          "output_type": "execute_result",
          "data": {
            "text/plain": [
              "[2.5116868019104004, 0.24910607933998108]"
            ]
          },
          "metadata": {},
          "execution_count": 91
        }
      ],
      "source": [
        "vgg16_fine_tuned.evaluate(unseen_data)"
      ]
    },
    {
      "cell_type": "code",
      "execution_count": 92,
      "metadata": {
        "id": "bQQ0_IIHwHHD"
      },
      "outputs": [],
      "source": [
        "def print_confusion_matrix(confusion_matrix, class_names, figsize = (10,7), fontsize=14):\n",
        "    df_cm = pd.DataFrame(\n",
        "        confusion_matrix, index=class_names, columns=class_names, \n",
        "    )\n",
        "    fig = plt.figure(figsize=figsize)\n",
        "    try:\n",
        "        heatmap = sns.heatmap(df_cm, annot=True, fmt=\"d\")\n",
        "    except ValueError:\n",
        "        raise ValueError(\"Confusion matrix values must be integers.\")\n",
        "    heatmap.yaxis.set_ticklabels(heatmap.yaxis.get_ticklabels(), rotation=0, ha='right', fontsize=fontsize)\n",
        "    heatmap.xaxis.set_ticklabels(heatmap.xaxis.get_ticklabels(), rotation=45, ha='right', fontsize=fontsize)\n",
        "    plt.ylabel('True label')\n",
        "    plt.xlabel('Predicted label')\n",
        "    fig.savefig(os.path.join(MODEL_PATH,\"confusion_matrix.png\"))\n",
        "    return fig\n",
        "def print_heatmap(n_labels, n_predictions, class_names):\n",
        "    labels = n_labels #sess.run(tf.argmax(n_labels, 1))\n",
        "    predictions = n_predictions #sess.run(tf.argmax(n_predictions, 1))\n",
        "\n",
        "#     confusion_matrix = sess.run(tf.contrib.metrics.confusion_matrix(labels, predictions))\n",
        "    matrix = confusion_matrix(labels,predictions.argmax(axis=1))\n",
        "    row_sum = np.sum(matrix, axis = 1)\n",
        "    w, h = matrix.shape\n",
        "\n",
        "    c_m = np.zeros((w, h))\n",
        "\n",
        "    for i in range(h):\n",
        "        c_m[i] = matrix[i] * 100 / row_sum[i]\n",
        "\n",
        "    c = c_m.astype(dtype = np.uint8)\n",
        "\n",
        "    \n",
        "    heatmap = print_confusion_matrix(c, class_names, figsize=(18,10), fontsize=20)"
      ]
    },
    {
      "cell_type": "code",
      "execution_count": 93,
      "metadata": {
        "id": "AaYfLP2YwIy3",
        "colab": {
          "base_uri": "https://localhost:8080/"
        },
        "outputId": "6fda9ac2-1640-4eef-c357-8b039d6fed8f"
      },
      "outputs": [
        {
          "output_type": "stream",
          "name": "stdout",
          "text": [
            "['c0', 'c1', 'c2', 'c3', 'c4', 'c5', 'c6', 'c7']\n"
          ]
        }
      ],
      "source": [
        "class_names = list()\n",
        "for name,idx in valid_data.class_indices.items():\n",
        "    class_names.append(name)\n",
        "print(class_names)"
      ]
    },
    {
      "cell_type": "code",
      "execution_count": 94,
      "metadata": {
        "id": "KFmb1WkZwJyI",
        "colab": {
          "base_uri": "https://localhost:8080/",
          "height": 626
        },
        "outputId": "f9d864c3-56df-422b-df28-8e14151141a3"
      },
      "outputs": [
        {
          "output_type": "display_data",
          "data": {
            "text/plain": [
              "<Figure size 1296x720 with 2 Axes>"
            ],
            "image/png": "[encoded data removed]"
          },
          "metadata": {
            "needs_background": "light"
          }
        }
      ],
      "source": [
        "print_heatmap(ytest,ypred,class_names)"
      ]
    },
    {
      "cell_type": "code",
      "execution_count": 94,
      "metadata": {
        "id": "EOeInIrCxGE4"
      },
      "outputs": [],
      "source": []
    }
  ],
  "metadata": {
    "accelerator": "GPU",
    "colab": {
      "provenance": []
    },
    "gpuClass": "standard",
    "kernelspec": {
      "display_name": "Python 3",
      "name": "python3"
    },
    "language_info": {
      "name": "python"
    }
  },
  "nbformat": 4,
  "nbformat_minor": 0
}