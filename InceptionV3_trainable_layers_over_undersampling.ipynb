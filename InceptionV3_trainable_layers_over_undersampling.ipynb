{
  "nbformat": 4,
  "nbformat_minor": 0,
  "metadata": {
    "colab": {
      "provenance": []
    },
    "kernelspec": {
      "name": "python3",
      "display_name": "Python 3"
    },
    "language_info": {
      "name": "python"
    },
    "accelerator": "GPU",
    "gpuClass": "standard"
  },
  "cells": [
    {
      "cell_type": "code",
      "source": [
        "# !gdown 1-71hYGVEWoJH3JTtH9CAsSQ6PotpiZBW"
      ],
      "metadata": {
        "id": "DMNxwXT6PxDd"
      },
      "execution_count": 67,
      "outputs": []
    },
    {
      "cell_type": "code",
      "source": [
        "from zipfile import ZipFile\n",
        "password = \"57Rk!F8yUz38\"\n",
        "with ZipFile('drive/MyDrive/CombinedNew.zip') as zipObj:\n",
        "  zipObj.extractall()"
      ],
      "metadata": {
        "id": "tvJf9AAMQ915"
      },
      "execution_count": 68,
      "outputs": []
    },
    {
      "cell_type": "code",
      "execution_count": 84,
      "metadata": {
        "id": "xspn6xRxjm1l"
      },
      "outputs": [],
      "source": [
        "import os\n",
        "import cv2\n",
        "import shutil\n",
        "import secrets\n",
        "import tensorflow as tf\n",
        "from tensorflow.keras.preprocessing.image import ImageDataGenerator\n",
        "from matplotlib import pyplot as plt\n",
        "from keras.layers import Conv2D, MaxPooling2D, GlobalAveragePooling2D\n",
        "from keras.layers import Dropout, Flatten, Dense\n",
        "from keras.models import Sequential\n",
        "from keras.models import Sequential, Model\n",
        "from keras import optimizers\n",
        "import numpy as np\n",
        "import pandas as pd\n",
        "from sklearn.metrics import confusion_matrix\n",
        "from sklearn.utils.class_weight import compute_class_weight\n",
        "from PIL import Image\n",
        "from PIL import ImageFile\n",
        "import seaborn as sns\n",
        "from keras.utils.vis_utils import plot_model\n",
        "from keras.callbacks import ModelCheckpoint\n",
        "from sklearn.metrics import accuracy_score,precision_score,recall_score,f1_score\n",
        "# from tensorflow.keras.applications.vgg16 import VGG16, preprocess_input as pre_in1\n",
        "from tensorflow.keras.applications.inception_v3 import InceptionV3, preprocess_input \n",
        "# from tensorflow.keras.applications.alexnet import AlexNet, preprocess_input"
      ]
    },
    {
      "cell_type": "code",
      "source": [
        "PARENT_PATH = os.getcwd()\n",
        "DATA_PATH = os.path.join(os.getcwd(),\"CombinedNew\", \"Combined New\")\n",
        "TEST_PATH = os.path.join(DATA_PATH, \"test\")\n",
        "TRAIN_PATH = os.path.join(DATA_PATH, \"train\")\n",
        "UNSEEN_PATH = os.path.join(DATA_PATH, \"unseen\")\n",
        "MODEL_PATH = os.path.join(PARENT_PATH, \"models\")\n",
        "NUM_CLASSES = 8"
      ],
      "metadata": {
        "id": "aqu4huPSGQTO"
      },
      "execution_count": 70,
      "outputs": []
    },
    {
      "cell_type": "code",
      "source": [
        "BATCH_SIZE = 64\n",
        "IMAGE_SIZE = 299\n",
        "NUM_EPOCH = 25"
      ],
      "metadata": {
        "id": "rU9rXSZ6GSg6"
      },
      "execution_count": 71,
      "outputs": []
    },
    {
      "cell_type": "code",
      "source": [
        "def create_df(DATA_PATH):\n",
        "  cls_names = os.listdir(DATA_PATH)\n",
        "  data = []\n",
        "  for cls in cls_names: \n",
        "    if cls == \".DS_Store\":\n",
        "      continue\n",
        "    cls_path = os.path.join(DATA_PATH, cls)\n",
        "    print(cls_path)\n",
        "    for file in os.listdir(cls_path):\n",
        "      data.append({\"Filename\": os.path.join(cls, file), \"Class\": cls})\n",
        "  df = pd.DataFrame(data)\n",
        "  return df\n",
        "  \n",
        "train_df = create_df(TRAIN_PATH)\n",
        "test_df = create_df(TEST_PATH)"
      ],
      "metadata": {
        "id": "zLgf0gF_GWDi",
        "colab": {
          "base_uri": "https://localhost:8080/"
        },
        "outputId": "9f655f9f-399b-4fa4-b2aa-ce2b8c178705"
      },
      "execution_count": 72,
      "outputs": [
        {
          "output_type": "stream",
          "name": "stdout",
          "text": [
            "/content/CombinedNew/Combined New/train/c5\n",
            "/content/CombinedNew/Combined New/train/c1\n",
            "/content/CombinedNew/Combined New/train/c7\n",
            "/content/CombinedNew/Combined New/train/c4\n",
            "/content/CombinedNew/Combined New/train/c0\n",
            "/content/CombinedNew/Combined New/train/c3\n",
            "/content/CombinedNew/Combined New/train/c6\n",
            "/content/CombinedNew/Combined New/train/c2\n",
            "/content/CombinedNew/Combined New/test/c5\n",
            "/content/CombinedNew/Combined New/test/c1\n",
            "/content/CombinedNew/Combined New/test/c7\n",
            "/content/CombinedNew/Combined New/test/c4\n",
            "/content/CombinedNew/Combined New/test/c0\n",
            "/content/CombinedNew/Combined New/test/c3\n",
            "/content/CombinedNew/Combined New/test/c6\n",
            "/content/CombinedNew/Combined New/test/c2\n"
          ]
        }
      ]
    },
    {
      "cell_type": "code",
      "source": [
        "train_df['Class'].value_counts().plot.bar()"
      ],
      "metadata": {
        "colab": {
          "base_uri": "https://localhost:8080/",
          "height": 284
        },
        "id": "R0Uyr8SiGYiM",
        "outputId": "88e1eab8-65bf-409e-88d0-743d1a0617a0"
      },
      "execution_count": 73,
      "outputs": [
        {
          "output_type": "execute_result",
          "data": {
            "text/plain": [
              "<Axes: >"
            ]
          },
          "metadata": {},
          "execution_count": 73
        },
        {
          "output_type": "display_data",
          "data": {
            "text/plain": [
              "<Figure size 432x288 with 1 Axes>"
            ],
            "image/png": "[encoded data removed]"
          },
          "metadata": {
            "needs_background": "light"
          }
        }
      ]
    },
    {
      "cell_type": "code",
      "source": [
        "test_df['Class'].value_counts().plot.bar()"
      ],
      "metadata": {
        "colab": {
          "base_uri": "https://localhost:8080/",
          "height": 284
        },
        "id": "qRssuOWMGb0b",
        "outputId": "8cdfd62d-f6f5-4039-a560-43ce2633cec6"
      },
      "execution_count": 74,
      "outputs": [
        {
          "output_type": "execute_result",
          "data": {
            "text/plain": [
              "<Axes: >"
            ]
          },
          "metadata": {},
          "execution_count": 74
        },
        {
          "output_type": "display_data",
          "data": {
            "text/plain": [
              "<Figure size 432x288 with 1 Axes>"
            ],
            "image/png": "[encoded data removed]"
          },
          "metadata": {
            "needs_background": "light"
          }
        }
      ]
    },
    {
      "cell_type": "code",
      "source": [
        "# PREP_DATA_PATH = os.path.join(os.getcwd(), \"Distracted Driver Dataset\",\"Camera 1 - Prep\")\n",
        "# if os.path.exists(PREP_DATA_PATH):\n",
        "#   shutil.rmtree(PREP_DATA_PATH)\n",
        "# shutil.copytree(DATA_PATH, PREP_DATA_PATH)"
      ],
      "metadata": {
        "id": "RkADIYpgGUEr"
      },
      "execution_count": 75,
      "outputs": []
    },
    {
      "cell_type": "code",
      "source": [
        "# def duplicateImg(file):\n",
        "#   filepath = os.path.join(cls_path, file)\n",
        "#   new_filepath = os.path.join(cls_path, \"new\" + file)\n",
        "#   shutil.copy(filepath, new_filepath)\n",
        "  \n",
        "# PREP_TRAIN_PATH = os.path.join(PREP_DATA_PATH, \"train\")\n",
        "# PREP_TEST_PATH = os.path.join(PREP_DATA_PATH, \"test\")\n",
        "# modify_cls = [ \"c2\", \"c3\", \"c4\", \"c5\", \"c6\" , \"c7\", \"c8\"]\n",
        "# for cls in modify_cls:\n",
        "#   cls_path = os.path.join(PREP_TRAIN_PATH, cls)\n",
        "#   for file in os.listdir(cls_path): \n",
        "#     if (cls != \"c2\" or cls != \"c4\"):\n",
        "#       duplicate = secrets.randbelow(10)\n",
        "#       if duplicate < 8:\n",
        "#         duplicateImg(file)\n",
        "#     else:\n",
        "#       duplicate = secrets.randbelow(4)\n",
        "#       if duplicate < 2:\n",
        "#         duplicateImg(file)"
      ],
      "metadata": {
        "id": "gFWFPezKGcn7"
      },
      "execution_count": 76,
      "outputs": []
    },
    {
      "cell_type": "code",
      "source": [
        "# PREP_TRAIN_PATH = os.path.join(PREP_DATA_PATH, \"train\")\n",
        "# PREP_TEST_PATH = os.path.join(PREP_DATA_PATH, \"test\")\n",
        "# def dropImg(file):\n",
        "#   filepath = os.path.join(cls0_path, file)\n",
        "#   os.remove(filepath)\n",
        "# cls0_path = os.path.join(PREP_TRAIN_PATH, 'c0')\n",
        "# for file in os.listdir(cls0_path): \n",
        "#   duplicate = secrets.randbelow(2)\n",
        "#   if duplicate < 1:\n",
        "#     dropImg(file)"
      ],
      "metadata": {
        "id": "sxyICkeKGgjP"
      },
      "execution_count": 77,
      "outputs": []
    },
    {
      "cell_type": "code",
      "source": [
        "# prep_train_df = create_df(PREP_TRAIN_PATH)\n",
        "# prep_test_df = create_df(PREP_TEST_PATH)"
      ],
      "metadata": {
        "id": "1sIbD8KSGhr5"
      },
      "execution_count": 78,
      "outputs": []
    },
    {
      "cell_type": "code",
      "source": [
        "# prep_train_df['Class'].value_counts().plot.bar()"
      ],
      "metadata": {
        "id": "6hjbHmcRGi-R"
      },
      "execution_count": 79,
      "outputs": []
    },
    {
      "cell_type": "code",
      "source": [
        "# prep_test_df['Class'].value_counts().plot.bar()"
      ],
      "metadata": {
        "id": "oaxaT4QWGkf0"
      },
      "execution_count": 80,
      "outputs": []
    },
    {
      "cell_type": "code",
      "source": [
        "gen_per_image = 1\n",
        "gen_per_class = 200\n",
        "rotation_range = 5\n",
        "width_shift_range = 0.02\n",
        "height_shift_range = 0.02\n",
        "shear_range = 0.01\n",
        "zoom_range = 0.05\n",
        "horizontal_flip = False\n",
        "fill_mode = \"nearest\""
      ],
      "metadata": {
        "id": "5MXI42XJGnB3"
      },
      "execution_count": 81,
      "outputs": []
    },
    {
      "cell_type": "markdown",
      "source": [
        "The preprocess_input function resize the image to 299x299 pixels, which was chosen base on the architecture of the InceptionV3 models, so we do not need to resize it anymore"
      ],
      "metadata": {
        "id": "akM9E5EdJEVv"
      }
    },
    {
      "cell_type": "code",
      "source": [
        "# for inc\n",
        "datagen = ImageDataGenerator(\n",
        "        rescale = 1./255,\n",
        "        rotation_range = rotation_range,\n",
        "        width_shift_range = width_shift_range,\n",
        "        height_shift_range = height_shift_range,\n",
        "        shear_range = shear_range,\n",
        "        zoom_range = zoom_range,\n",
        "        horizontal_flip = horizontal_flip,\n",
        "        fill_mode = fill_mode,\n",
        "        validation_split = 0.2,\n",
        "        preprocessing_function = preprocess_input)\n",
        "\n",
        "unseen_datagen = ImageDataGenerator(\n",
        "        rescale = 1./255,\n",
        ")\n",
        "\n",
        "train_data = datagen.flow_from_directory(TRAIN_PATH,\n",
        "                                        target_size=(IMAGE_SIZE,IMAGE_SIZE),\n",
        "                                        batch_size=BATCH_SIZE,\n",
        "                                        shuffle=True,\n",
        "                                        class_mode='categorical')\n",
        "\n",
        "valid_data = datagen.flow_from_directory(TEST_PATH,\n",
        "                                        target_size=(IMAGE_SIZE,IMAGE_SIZE),\n",
        "                                        batch_size=BATCH_SIZE,\n",
        "                                        shuffle=True)\n",
        "unseen_data = unseen_datagen.flow_from_directory(UNSEEN_PATH,\n",
        "                                        target_size=(IMAGE_SIZE,IMAGE_SIZE),\n",
        "                                        batch_size=BATCH_SIZE,\n",
        "                                        shuffle=False)"
      ],
      "metadata": {
        "colab": {
          "base_uri": "https://localhost:8080/"
        },
        "id": "ppngvL7HGtFe",
        "outputId": "1c7e4a20-b4c2-46ee-df89-9c6c1656ad14"
      },
      "execution_count": 85,
      "outputs": [
        {
          "output_type": "stream",
          "name": "stdout",
          "text": [
            "Found 10225 images belonging to 8 classes.\n",
            "Found 3414 images belonging to 8 classes.\n",
            "Found 839 images belonging to 8 classes.\n"
          ]
        }
      ]
    },
    {
      "cell_type": "code",
      "source": [
        "classes = [i for i in range(8)]\n",
        "print(classes)\n",
        "class_weights = compute_class_weight(class_weight='balanced', classes=classes, y=train_data.classes)\n",
        "class_weights = dict(enumerate(class_weights.flatten(), 0))\n",
        "print(class_weights)"
      ],
      "metadata": {
        "colab": {
          "base_uri": "https://localhost:8080/"
        },
        "id": "d1in_X_gLb4R",
        "outputId": "7f1aa1a6-7159-48aa-e879-096b62e2ad2d"
      },
      "execution_count": 86,
      "outputs": [
        {
          "output_type": "stream",
          "name": "stdout",
          "text": [
            "[0, 1, 2, 3, 4, 5, 6, 7]\n",
            "{0: 0.5997770999530737, 1: 0.6390625, 2: 0.7081024930747922, 3: 1.615834386852086, 4: 1.6773293963254594, 5: 1.7605027548209367, 6: 1.7678077455048409, 7: 0.9931041181041181}\n"
          ]
        }
      ]
    },
    {
      "cell_type": "code",
      "source": [
        "base_model_inc = InceptionV3(weights='imagenet', include_top=False, input_shape=(IMAGE_SIZE, IMAGE_SIZE, 3))\n",
        "\n",
        "for layer in base_model_inc.layers:\n",
        "    layer.trainable = True"
      ],
      "metadata": {
        "id": "S1yDU4GwGvNW"
      },
      "execution_count": 87,
      "outputs": []
    },
    {
      "cell_type": "code",
      "source": [
        "top_models_inc = Sequential()\n",
        "top_models_inc.add(GlobalAveragePooling2D(input_shape=base_model_inc.output_shape[1:]))\n",
        "top_models_inc.add(Dense(8, activation='softmax', kernel_initializer='glorot_normal'))\n",
        "top_models_inc = Model(inputs = base_model_inc.input, outputs = top_models_inc(base_model_inc.output))\n",
        "\n",
        "top_models_inc.summary()\n"
      ],
      "metadata": {
        "colab": {
          "base_uri": "https://localhost:8080/"
        },
        "id": "g6mhv0v1GxG2",
        "outputId": "18d4d8a9-d683-4b52-cd21-81b0b4f2063b"
      },
      "execution_count": 88,
      "outputs": [
        {
          "output_type": "stream",
          "name": "stdout",
          "text": [
            "Model: \"model_3\"\n",
            "__________________________________________________________________________________________________\n",
            " Layer (type)                   Output Shape         Param #     Connected to                     \n",
            "==================================================================================================\n",
            " input_4 (InputLayer)           [(None, 299, 299, 3  0           []                               \n",
            "                                )]                                                                \n",
            "                                                                                                  \n",
            " conv2d_282 (Conv2D)            (None, 149, 149, 32  864         ['input_4[0][0]']                \n",
            "                                )                                                                 \n",
            "                                                                                                  \n",
            " batch_normalization_282 (Batch  (None, 149, 149, 32  96         ['conv2d_282[0][0]']             \n",
            " Normalization)                 )                                                                 \n",
            "                                                                                                  \n",
            " activation_282 (Activation)    (None, 149, 149, 32  0           ['batch_normalization_282[0][0]']\n",
            "                                )                                                                 \n",
            "                                                                                                  \n",
            " conv2d_283 (Conv2D)            (None, 147, 147, 32  9216        ['activation_282[0][0]']         \n",
            "                                )                                                                 \n",
            "                                                                                                  \n",
            " batch_normalization_283 (Batch  (None, 147, 147, 32  96         ['conv2d_283[0][0]']             \n",
            " Normalization)                 )                                                                 \n",
            "                                                                                                  \n",
            " activation_283 (Activation)    (None, 147, 147, 32  0           ['batch_normalization_283[0][0]']\n",
            "                                )                                                                 \n",
            "                                                                                                  \n",
            " conv2d_284 (Conv2D)            (None, 147, 147, 64  18432       ['activation_283[0][0]']         \n",
            "                                )                                                                 \n",
            "                                                                                                  \n",
            " batch_normalization_284 (Batch  (None, 147, 147, 64  192        ['conv2d_284[0][0]']             \n",
            " Normalization)                 )                                                                 \n",
            "                                                                                                  \n",
            " activation_284 (Activation)    (None, 147, 147, 64  0           ['batch_normalization_284[0][0]']\n",
            "                                )                                                                 \n",
            "                                                                                                  \n",
            " max_pooling2d_12 (MaxPooling2D  (None, 73, 73, 64)  0           ['activation_284[0][0]']         \n",
            " )                                                                                                \n",
            "                                                                                                  \n",
            " conv2d_285 (Conv2D)            (None, 73, 73, 80)   5120        ['max_pooling2d_12[0][0]']       \n",
            "                                                                                                  \n",
            " batch_normalization_285 (Batch  (None, 73, 73, 80)  240         ['conv2d_285[0][0]']             \n",
            " Normalization)                                                                                   \n",
            "                                                                                                  \n",
            " activation_285 (Activation)    (None, 73, 73, 80)   0           ['batch_normalization_285[0][0]']\n",
            "                                                                                                  \n",
            " conv2d_286 (Conv2D)            (None, 71, 71, 192)  138240      ['activation_285[0][0]']         \n",
            "                                                                                                  \n",
            " batch_normalization_286 (Batch  (None, 71, 71, 192)  576        ['conv2d_286[0][0]']             \n",
            " Normalization)                                                                                   \n",
            "                                                                                                  \n",
            " activation_286 (Activation)    (None, 71, 71, 192)  0           ['batch_normalization_286[0][0]']\n",
            "                                                                                                  \n",
            " max_pooling2d_13 (MaxPooling2D  (None, 35, 35, 192)  0          ['activation_286[0][0]']         \n",
            " )                                                                                                \n",
            "                                                                                                  \n",
            " conv2d_290 (Conv2D)            (None, 35, 35, 64)   12288       ['max_pooling2d_13[0][0]']       \n",
            "                                                                                                  \n",
            " batch_normalization_290 (Batch  (None, 35, 35, 64)  192         ['conv2d_290[0][0]']             \n",
            " Normalization)                                                                                   \n",
            "                                                                                                  \n",
            " activation_290 (Activation)    (None, 35, 35, 64)   0           ['batch_normalization_290[0][0]']\n",
            "                                                                                                  \n",
            " conv2d_288 (Conv2D)            (None, 35, 35, 48)   9216        ['max_pooling2d_13[0][0]']       \n",
            "                                                                                                  \n",
            " conv2d_291 (Conv2D)            (None, 35, 35, 96)   55296       ['activation_290[0][0]']         \n",
            "                                                                                                  \n",
            " batch_normalization_288 (Batch  (None, 35, 35, 48)  144         ['conv2d_288[0][0]']             \n",
            " Normalization)                                                                                   \n",
            "                                                                                                  \n",
            " batch_normalization_291 (Batch  (None, 35, 35, 96)  288         ['conv2d_291[0][0]']             \n",
            " Normalization)                                                                                   \n",
            "                                                                                                  \n",
            " activation_288 (Activation)    (None, 35, 35, 48)   0           ['batch_normalization_288[0][0]']\n",
            "                                                                                                  \n",
            " activation_291 (Activation)    (None, 35, 35, 96)   0           ['batch_normalization_291[0][0]']\n",
            "                                                                                                  \n",
            " average_pooling2d_27 (AverageP  (None, 35, 35, 192)  0          ['max_pooling2d_13[0][0]']       \n",
            " ooling2D)                                                                                        \n",
            "                                                                                                  \n",
            " conv2d_287 (Conv2D)            (None, 35, 35, 64)   12288       ['max_pooling2d_13[0][0]']       \n",
            "                                                                                                  \n",
            " conv2d_289 (Conv2D)            (None, 35, 35, 64)   76800       ['activation_288[0][0]']         \n",
            "                                                                                                  \n",
            " conv2d_292 (Conv2D)            (None, 35, 35, 96)   82944       ['activation_291[0][0]']         \n",
            "                                                                                                  \n",
            " conv2d_293 (Conv2D)            (None, 35, 35, 32)   6144        ['average_pooling2d_27[0][0]']   \n",
            "                                                                                                  \n",
            " batch_normalization_287 (Batch  (None, 35, 35, 64)  192         ['conv2d_287[0][0]']             \n",
            " Normalization)                                                                                   \n",
            "                                                                                                  \n",
            " batch_normalization_289 (Batch  (None, 35, 35, 64)  192         ['conv2d_289[0][0]']             \n",
            " Normalization)                                                                                   \n",
            "                                                                                                  \n",
            " batch_normalization_292 (Batch  (None, 35, 35, 96)  288         ['conv2d_292[0][0]']             \n",
            " Normalization)                                                                                   \n",
            "                                                                                                  \n",
            " batch_normalization_293 (Batch  (None, 35, 35, 32)  96          ['conv2d_293[0][0]']             \n",
            " Normalization)                                                                                   \n",
            "                                                                                                  \n",
            " activation_287 (Activation)    (None, 35, 35, 64)   0           ['batch_normalization_287[0][0]']\n",
            "                                                                                                  \n",
            " activation_289 (Activation)    (None, 35, 35, 64)   0           ['batch_normalization_289[0][0]']\n",
            "                                                                                                  \n",
            " activation_292 (Activation)    (None, 35, 35, 96)   0           ['batch_normalization_292[0][0]']\n",
            "                                                                                                  \n",
            " activation_293 (Activation)    (None, 35, 35, 32)   0           ['batch_normalization_293[0][0]']\n",
            "                                                                                                  \n",
            " mixed0 (Concatenate)           (None, 35, 35, 256)  0           ['activation_287[0][0]',         \n",
            "                                                                  'activation_289[0][0]',         \n",
            "                                                                  'activation_292[0][0]',         \n",
            "                                                                  'activation_293[0][0]']         \n",
            "                                                                                                  \n",
            " conv2d_297 (Conv2D)            (None, 35, 35, 64)   16384       ['mixed0[0][0]']                 \n",
            "                                                                                                  \n",
            " batch_normalization_297 (Batch  (None, 35, 35, 64)  192         ['conv2d_297[0][0]']             \n",
            " Normalization)                                                                                   \n",
            "                                                                                                  \n",
            " activation_297 (Activation)    (None, 35, 35, 64)   0           ['batch_normalization_297[0][0]']\n",
            "                                                                                                  \n",
            " conv2d_295 (Conv2D)            (None, 35, 35, 48)   12288       ['mixed0[0][0]']                 \n",
            "                                                                                                  \n",
            " conv2d_298 (Conv2D)            (None, 35, 35, 96)   55296       ['activation_297[0][0]']         \n",
            "                                                                                                  \n",
            " batch_normalization_295 (Batch  (None, 35, 35, 48)  144         ['conv2d_295[0][0]']             \n",
            " Normalization)                                                                                   \n",
            "                                                                                                  \n",
            " batch_normalization_298 (Batch  (None, 35, 35, 96)  288         ['conv2d_298[0][0]']             \n",
            " Normalization)                                                                                   \n",
            "                                                                                                  \n",
            " activation_295 (Activation)    (None, 35, 35, 48)   0           ['batch_normalization_295[0][0]']\n",
            "                                                                                                  \n",
            " activation_298 (Activation)    (None, 35, 35, 96)   0           ['batch_normalization_298[0][0]']\n",
            "                                                                                                  \n",
            " average_pooling2d_28 (AverageP  (None, 35, 35, 256)  0          ['mixed0[0][0]']                 \n",
            " ooling2D)                                                                                        \n",
            "                                                                                                  \n",
            " conv2d_294 (Conv2D)            (None, 35, 35, 64)   16384       ['mixed0[0][0]']                 \n",
            "                                                                                                  \n",
            " conv2d_296 (Conv2D)            (None, 35, 35, 64)   76800       ['activation_295[0][0]']         \n",
            "                                                                                                  \n",
            " conv2d_299 (Conv2D)            (None, 35, 35, 96)   82944       ['activation_298[0][0]']         \n",
            "                                                                                                  \n",
            " conv2d_300 (Conv2D)            (None, 35, 35, 64)   16384       ['average_pooling2d_28[0][0]']   \n",
            "                                                                                                  \n",
            " batch_normalization_294 (Batch  (None, 35, 35, 64)  192         ['conv2d_294[0][0]']             \n",
            " Normalization)                                                                                   \n",
            "                                                                                                  \n",
            " batch_normalization_296 (Batch  (None, 35, 35, 64)  192         ['conv2d_296[0][0]']             \n",
            " Normalization)                                                                                   \n",
            "                                                                                                  \n",
            " batch_normalization_299 (Batch  (None, 35, 35, 96)  288         ['conv2d_299[0][0]']             \n",
            " Normalization)                                                                                   \n",
            "                                                                                                  \n",
            " batch_normalization_300 (Batch  (None, 35, 35, 64)  192         ['conv2d_300[0][0]']             \n",
            " Normalization)                                                                                   \n",
            "                                                                                                  \n",
            " activation_294 (Activation)    (None, 35, 35, 64)   0           ['batch_normalization_294[0][0]']\n",
            "                                                                                                  \n",
            " activation_296 (Activation)    (None, 35, 35, 64)   0           ['batch_normalization_296[0][0]']\n",
            "                                                                                                  \n",
            " activation_299 (Activation)    (None, 35, 35, 96)   0           ['batch_normalization_299[0][0]']\n",
            "                                                                                                  \n",
            " activation_300 (Activation)    (None, 35, 35, 64)   0           ['batch_normalization_300[0][0]']\n",
            "                                                                                                  \n",
            " mixed1 (Concatenate)           (None, 35, 35, 288)  0           ['activation_294[0][0]',         \n",
            "                                                                  'activation_296[0][0]',         \n",
            "                                                                  'activation_299[0][0]',         \n",
            "                                                                  'activation_300[0][0]']         \n",
            "                                                                                                  \n",
            " conv2d_304 (Conv2D)            (None, 35, 35, 64)   18432       ['mixed1[0][0]']                 \n",
            "                                                                                                  \n",
            " batch_normalization_304 (Batch  (None, 35, 35, 64)  192         ['conv2d_304[0][0]']             \n",
            " Normalization)                                                                                   \n",
            "                                                                                                  \n",
            " activation_304 (Activation)    (None, 35, 35, 64)   0           ['batch_normalization_304[0][0]']\n",
            "                                                                                                  \n",
            " conv2d_302 (Conv2D)            (None, 35, 35, 48)   13824       ['mixed1[0][0]']                 \n",
            "                                                                                                  \n",
            " conv2d_305 (Conv2D)            (None, 35, 35, 96)   55296       ['activation_304[0][0]']         \n",
            "                                                                                                  \n",
            " batch_normalization_302 (Batch  (None, 35, 35, 48)  144         ['conv2d_302[0][0]']             \n",
            " Normalization)                                                                                   \n",
            "                                                                                                  \n",
            " batch_normalization_305 (Batch  (None, 35, 35, 96)  288         ['conv2d_305[0][0]']             \n",
            " Normalization)                                                                                   \n",
            "                                                                                                  \n",
            " activation_302 (Activation)    (None, 35, 35, 48)   0           ['batch_normalization_302[0][0]']\n",
            "                                                                                                  \n",
            " activation_305 (Activation)    (None, 35, 35, 96)   0           ['batch_normalization_305[0][0]']\n",
            "                                                                                                  \n",
            " average_pooling2d_29 (AverageP  (None, 35, 35, 288)  0          ['mixed1[0][0]']                 \n",
            " ooling2D)                                                                                        \n",
            "                                                                                                  \n",
            " conv2d_301 (Conv2D)            (None, 35, 35, 64)   18432       ['mixed1[0][0]']                 \n",
            "                                                                                                  \n",
            " conv2d_303 (Conv2D)            (None, 35, 35, 64)   76800       ['activation_302[0][0]']         \n",
            "                                                                                                  \n",
            " conv2d_306 (Conv2D)            (None, 35, 35, 96)   82944       ['activation_305[0][0]']         \n",
            "                                                                                                  \n",
            " conv2d_307 (Conv2D)            (None, 35, 35, 64)   18432       ['average_pooling2d_29[0][0]']   \n",
            "                                                                                                  \n",
            " batch_normalization_301 (Batch  (None, 35, 35, 64)  192         ['conv2d_301[0][0]']             \n",
            " Normalization)                                                                                   \n",
            "                                                                                                  \n",
            " batch_normalization_303 (Batch  (None, 35, 35, 64)  192         ['conv2d_303[0][0]']             \n",
            " Normalization)                                                                                   \n",
            "                                                                                                  \n",
            " batch_normalization_306 (Batch  (None, 35, 35, 96)  288         ['conv2d_306[0][0]']             \n",
            " Normalization)                                                                                   \n",
            "                                                                                                  \n",
            " batch_normalization_307 (Batch  (None, 35, 35, 64)  192         ['conv2d_307[0][0]']             \n",
            " Normalization)                                                                                   \n",
            "                                                                                                  \n",
            " activation_301 (Activation)    (None, 35, 35, 64)   0           ['batch_normalization_301[0][0]']\n",
            "                                                                                                  \n",
            " activation_303 (Activation)    (None, 35, 35, 64)   0           ['batch_normalization_303[0][0]']\n",
            "                                                                                                  \n",
            " activation_306 (Activation)    (None, 35, 35, 96)   0           ['batch_normalization_306[0][0]']\n",
            "                                                                                                  \n",
            " activation_307 (Activation)    (None, 35, 35, 64)   0           ['batch_normalization_307[0][0]']\n",
            "                                                                                                  \n",
            " mixed2 (Concatenate)           (None, 35, 35, 288)  0           ['activation_301[0][0]',         \n",
            "                                                                  'activation_303[0][0]',         \n",
            "                                                                  'activation_306[0][0]',         \n",
            "                                                                  'activation_307[0][0]']         \n",
            "                                                                                                  \n",
            " conv2d_309 (Conv2D)            (None, 35, 35, 64)   18432       ['mixed2[0][0]']                 \n",
            "                                                                                                  \n",
            " batch_normalization_309 (Batch  (None, 35, 35, 64)  192         ['conv2d_309[0][0]']             \n",
            " Normalization)                                                                                   \n",
            "                                                                                                  \n",
            " activation_309 (Activation)    (None, 35, 35, 64)   0           ['batch_normalization_309[0][0]']\n",
            "                                                                                                  \n",
            " conv2d_310 (Conv2D)            (None, 35, 35, 96)   55296       ['activation_309[0][0]']         \n",
            "                                                                                                  \n",
            " batch_normalization_310 (Batch  (None, 35, 35, 96)  288         ['conv2d_310[0][0]']             \n",
            " Normalization)                                                                                   \n",
            "                                                                                                  \n",
            " activation_310 (Activation)    (None, 35, 35, 96)   0           ['batch_normalization_310[0][0]']\n",
            "                                                                                                  \n",
            " conv2d_308 (Conv2D)            (None, 17, 17, 384)  995328      ['mixed2[0][0]']                 \n",
            "                                                                                                  \n",
            " conv2d_311 (Conv2D)            (None, 17, 17, 96)   82944       ['activation_310[0][0]']         \n",
            "                                                                                                  \n",
            " batch_normalization_308 (Batch  (None, 17, 17, 384)  1152       ['conv2d_308[0][0]']             \n",
            " Normalization)                                                                                   \n",
            "                                                                                                  \n",
            " batch_normalization_311 (Batch  (None, 17, 17, 96)  288         ['conv2d_311[0][0]']             \n",
            " Normalization)                                                                                   \n",
            "                                                                                                  \n",
            " activation_308 (Activation)    (None, 17, 17, 384)  0           ['batch_normalization_308[0][0]']\n",
            "                                                                                                  \n",
            " activation_311 (Activation)    (None, 17, 17, 96)   0           ['batch_normalization_311[0][0]']\n",
            "                                                                                                  \n",
            " max_pooling2d_14 (MaxPooling2D  (None, 17, 17, 288)  0          ['mixed2[0][0]']                 \n",
            " )                                                                                                \n",
            "                                                                                                  \n",
            " mixed3 (Concatenate)           (None, 17, 17, 768)  0           ['activation_308[0][0]',         \n",
            "                                                                  'activation_311[0][0]',         \n",
            "                                                                  'max_pooling2d_14[0][0]']       \n",
            "                                                                                                  \n",
            " conv2d_316 (Conv2D)            (None, 17, 17, 128)  98304       ['mixed3[0][0]']                 \n",
            "                                                                                                  \n",
            " batch_normalization_316 (Batch  (None, 17, 17, 128)  384        ['conv2d_316[0][0]']             \n",
            " Normalization)                                                                                   \n",
            "                                                                                                  \n",
            " activation_316 (Activation)    (None, 17, 17, 128)  0           ['batch_normalization_316[0][0]']\n",
            "                                                                                                  \n",
            " conv2d_317 (Conv2D)            (None, 17, 17, 128)  114688      ['activation_316[0][0]']         \n",
            "                                                                                                  \n",
            " batch_normalization_317 (Batch  (None, 17, 17, 128)  384        ['conv2d_317[0][0]']             \n",
            " Normalization)                                                                                   \n",
            "                                                                                                  \n",
            " activation_317 (Activation)    (None, 17, 17, 128)  0           ['batch_normalization_317[0][0]']\n",
            "                                                                                                  \n",
            " conv2d_313 (Conv2D)            (None, 17, 17, 128)  98304       ['mixed3[0][0]']                 \n",
            "                                                                                                  \n",
            " conv2d_318 (Conv2D)            (None, 17, 17, 128)  114688      ['activation_317[0][0]']         \n",
            "                                                                                                  \n",
            " batch_normalization_313 (Batch  (None, 17, 17, 128)  384        ['conv2d_313[0][0]']             \n",
            " Normalization)                                                                                   \n",
            "                                                                                                  \n",
            " batch_normalization_318 (Batch  (None, 17, 17, 128)  384        ['conv2d_318[0][0]']             \n",
            " Normalization)                                                                                   \n",
            "                                                                                                  \n",
            " activation_313 (Activation)    (None, 17, 17, 128)  0           ['batch_normalization_313[0][0]']\n",
            "                                                                                                  \n",
            " activation_318 (Activation)    (None, 17, 17, 128)  0           ['batch_normalization_318[0][0]']\n",
            "                                                                                                  \n",
            " conv2d_314 (Conv2D)            (None, 17, 17, 128)  114688      ['activation_313[0][0]']         \n",
            "                                                                                                  \n",
            " conv2d_319 (Conv2D)            (None, 17, 17, 128)  114688      ['activation_318[0][0]']         \n",
            "                                                                                                  \n",
            " batch_normalization_314 (Batch  (None, 17, 17, 128)  384        ['conv2d_314[0][0]']             \n",
            " Normalization)                                                                                   \n",
            "                                                                                                  \n",
            " batch_normalization_319 (Batch  (None, 17, 17, 128)  384        ['conv2d_319[0][0]']             \n",
            " Normalization)                                                                                   \n",
            "                                                                                                  \n",
            " activation_314 (Activation)    (None, 17, 17, 128)  0           ['batch_normalization_314[0][0]']\n",
            "                                                                                                  \n",
            " activation_319 (Activation)    (None, 17, 17, 128)  0           ['batch_normalization_319[0][0]']\n",
            "                                                                                                  \n",
            " average_pooling2d_30 (AverageP  (None, 17, 17, 768)  0          ['mixed3[0][0]']                 \n",
            " ooling2D)                                                                                        \n",
            "                                                                                                  \n",
            " conv2d_312 (Conv2D)            (None, 17, 17, 192)  147456      ['mixed3[0][0]']                 \n",
            "                                                                                                  \n",
            " conv2d_315 (Conv2D)            (None, 17, 17, 192)  172032      ['activation_314[0][0]']         \n",
            "                                                                                                  \n",
            " conv2d_320 (Conv2D)            (None, 17, 17, 192)  172032      ['activation_319[0][0]']         \n",
            "                                                                                                  \n",
            " conv2d_321 (Conv2D)            (None, 17, 17, 192)  147456      ['average_pooling2d_30[0][0]']   \n",
            "                                                                                                  \n",
            " batch_normalization_312 (Batch  (None, 17, 17, 192)  576        ['conv2d_312[0][0]']             \n",
            " Normalization)                                                                                   \n",
            "                                                                                                  \n",
            " batch_normalization_315 (Batch  (None, 17, 17, 192)  576        ['conv2d_315[0][0]']             \n",
            " Normalization)                                                                                   \n",
            "                                                                                                  \n",
            " batch_normalization_320 (Batch  (None, 17, 17, 192)  576        ['conv2d_320[0][0]']             \n",
            " Normalization)                                                                                   \n",
            "                                                                                                  \n",
            " batch_normalization_321 (Batch  (None, 17, 17, 192)  576        ['conv2d_321[0][0]']             \n",
            " Normalization)                                                                                   \n",
            "                                                                                                  \n",
            " activation_312 (Activation)    (None, 17, 17, 192)  0           ['batch_normalization_312[0][0]']\n",
            "                                                                                                  \n",
            " activation_315 (Activation)    (None, 17, 17, 192)  0           ['batch_normalization_315[0][0]']\n",
            "                                                                                                  \n",
            " activation_320 (Activation)    (None, 17, 17, 192)  0           ['batch_normalization_320[0][0]']\n",
            "                                                                                                  \n",
            " activation_321 (Activation)    (None, 17, 17, 192)  0           ['batch_normalization_321[0][0]']\n",
            "                                                                                                  \n",
            " mixed4 (Concatenate)           (None, 17, 17, 768)  0           ['activation_312[0][0]',         \n",
            "                                                                  'activation_315[0][0]',         \n",
            "                                                                  'activation_320[0][0]',         \n",
            "                                                                  'activation_321[0][0]']         \n",
            "                                                                                                  \n",
            " conv2d_326 (Conv2D)            (None, 17, 17, 160)  122880      ['mixed4[0][0]']                 \n",
            "                                                                                                  \n",
            " batch_normalization_326 (Batch  (None, 17, 17, 160)  480        ['conv2d_326[0][0]']             \n",
            " Normalization)                                                                                   \n",
            "                                                                                                  \n",
            " activation_326 (Activation)    (None, 17, 17, 160)  0           ['batch_normalization_326[0][0]']\n",
            "                                                                                                  \n",
            " conv2d_327 (Conv2D)            (None, 17, 17, 160)  179200      ['activation_326[0][0]']         \n",
            "                                                                                                  \n",
            " batch_normalization_327 (Batch  (None, 17, 17, 160)  480        ['conv2d_327[0][0]']             \n",
            " Normalization)                                                                                   \n",
            "                                                                                                  \n",
            " activation_327 (Activation)    (None, 17, 17, 160)  0           ['batch_normalization_327[0][0]']\n",
            "                                                                                                  \n",
            " conv2d_323 (Conv2D)            (None, 17, 17, 160)  122880      ['mixed4[0][0]']                 \n",
            "                                                                                                  \n",
            " conv2d_328 (Conv2D)            (None, 17, 17, 160)  179200      ['activation_327[0][0]']         \n",
            "                                                                                                  \n",
            " batch_normalization_323 (Batch  (None, 17, 17, 160)  480        ['conv2d_323[0][0]']             \n",
            " Normalization)                                                                                   \n",
            "                                                                                                  \n",
            " batch_normalization_328 (Batch  (None, 17, 17, 160)  480        ['conv2d_328[0][0]']             \n",
            " Normalization)                                                                                   \n",
            "                                                                                                  \n",
            " activation_323 (Activation)    (None, 17, 17, 160)  0           ['batch_normalization_323[0][0]']\n",
            "                                                                                                  \n",
            " activation_328 (Activation)    (None, 17, 17, 160)  0           ['batch_normalization_328[0][0]']\n",
            "                                                                                                  \n",
            " conv2d_324 (Conv2D)            (None, 17, 17, 160)  179200      ['activation_323[0][0]']         \n",
            "                                                                                                  \n",
            " conv2d_329 (Conv2D)            (None, 17, 17, 160)  179200      ['activation_328[0][0]']         \n",
            "                                                                                                  \n",
            " batch_normalization_324 (Batch  (None, 17, 17, 160)  480        ['conv2d_324[0][0]']             \n",
            " Normalization)                                                                                   \n",
            "                                                                                                  \n",
            " batch_normalization_329 (Batch  (None, 17, 17, 160)  480        ['conv2d_329[0][0]']             \n",
            " Normalization)                                                                                   \n",
            "                                                                                                  \n",
            " activation_324 (Activation)    (None, 17, 17, 160)  0           ['batch_normalization_324[0][0]']\n",
            "                                                                                                  \n",
            " activation_329 (Activation)    (None, 17, 17, 160)  0           ['batch_normalization_329[0][0]']\n",
            "                                                                                                  \n",
            " average_pooling2d_31 (AverageP  (None, 17, 17, 768)  0          ['mixed4[0][0]']                 \n",
            " ooling2D)                                                                                        \n",
            "                                                                                                  \n",
            " conv2d_322 (Conv2D)            (None, 17, 17, 192)  147456      ['mixed4[0][0]']                 \n",
            "                                                                                                  \n",
            " conv2d_325 (Conv2D)            (None, 17, 17, 192)  215040      ['activation_324[0][0]']         \n",
            "                                                                                                  \n",
            " conv2d_330 (Conv2D)            (None, 17, 17, 192)  215040      ['activation_329[0][0]']         \n",
            "                                                                                                  \n",
            " conv2d_331 (Conv2D)            (None, 17, 17, 192)  147456      ['average_pooling2d_31[0][0]']   \n",
            "                                                                                                  \n",
            " batch_normalization_322 (Batch  (None, 17, 17, 192)  576        ['conv2d_322[0][0]']             \n",
            " Normalization)                                                                                   \n",
            "                                                                                                  \n",
            " batch_normalization_325 (Batch  (None, 17, 17, 192)  576        ['conv2d_325[0][0]']             \n",
            " Normalization)                                                                                   \n",
            "                                                                                                  \n",
            " batch_normalization_330 (Batch  (None, 17, 17, 192)  576        ['conv2d_330[0][0]']             \n",
            " Normalization)                                                                                   \n",
            "                                                                                                  \n",
            " batch_normalization_331 (Batch  (None, 17, 17, 192)  576        ['conv2d_331[0][0]']             \n",
            " Normalization)                                                                                   \n",
            "                                                                                                  \n",
            " activation_322 (Activation)    (None, 17, 17, 192)  0           ['batch_normalization_322[0][0]']\n",
            "                                                                                                  \n",
            " activation_325 (Activation)    (None, 17, 17, 192)  0           ['batch_normalization_325[0][0]']\n",
            "                                                                                                  \n",
            " activation_330 (Activation)    (None, 17, 17, 192)  0           ['batch_normalization_330[0][0]']\n",
            "                                                                                                  \n",
            " activation_331 (Activation)    (None, 17, 17, 192)  0           ['batch_normalization_331[0][0]']\n",
            "                                                                                                  \n",
            " mixed5 (Concatenate)           (None, 17, 17, 768)  0           ['activation_322[0][0]',         \n",
            "                                                                  'activation_325[0][0]',         \n",
            "                                                                  'activation_330[0][0]',         \n",
            "                                                                  'activation_331[0][0]']         \n",
            "                                                                                                  \n",
            " conv2d_336 (Conv2D)            (None, 17, 17, 160)  122880      ['mixed5[0][0]']                 \n",
            "                                                                                                  \n",
            " batch_normalization_336 (Batch  (None, 17, 17, 160)  480        ['conv2d_336[0][0]']             \n",
            " Normalization)                                                                                   \n",
            "                                                                                                  \n",
            " activation_336 (Activation)    (None, 17, 17, 160)  0           ['batch_normalization_336[0][0]']\n",
            "                                                                                                  \n",
            " conv2d_337 (Conv2D)            (None, 17, 17, 160)  179200      ['activation_336[0][0]']         \n",
            "                                                                                                  \n",
            " batch_normalization_337 (Batch  (None, 17, 17, 160)  480        ['conv2d_337[0][0]']             \n",
            " Normalization)                                                                                   \n",
            "                                                                                                  \n",
            " activation_337 (Activation)    (None, 17, 17, 160)  0           ['batch_normalization_337[0][0]']\n",
            "                                                                                                  \n",
            " conv2d_333 (Conv2D)            (None, 17, 17, 160)  122880      ['mixed5[0][0]']                 \n",
            "                                                                                                  \n",
            " conv2d_338 (Conv2D)            (None, 17, 17, 160)  179200      ['activation_337[0][0]']         \n",
            "                                                                                                  \n",
            " batch_normalization_333 (Batch  (None, 17, 17, 160)  480        ['conv2d_333[0][0]']             \n",
            " Normalization)                                                                                   \n",
            "                                                                                                  \n",
            " batch_normalization_338 (Batch  (None, 17, 17, 160)  480        ['conv2d_338[0][0]']             \n",
            " Normalization)                                                                                   \n",
            "                                                                                                  \n",
            " activation_333 (Activation)    (None, 17, 17, 160)  0           ['batch_normalization_333[0][0]']\n",
            "                                                                                                  \n",
            " activation_338 (Activation)    (None, 17, 17, 160)  0           ['batch_normalization_338[0][0]']\n",
            "                                                                                                  \n",
            " conv2d_334 (Conv2D)            (None, 17, 17, 160)  179200      ['activation_333[0][0]']         \n",
            "                                                                                                  \n",
            " conv2d_339 (Conv2D)            (None, 17, 17, 160)  179200      ['activation_338[0][0]']         \n",
            "                                                                                                  \n",
            " batch_normalization_334 (Batch  (None, 17, 17, 160)  480        ['conv2d_334[0][0]']             \n",
            " Normalization)                                                                                   \n",
            "                                                                                                  \n",
            " batch_normalization_339 (Batch  (None, 17, 17, 160)  480        ['conv2d_339[0][0]']             \n",
            " Normalization)                                                                                   \n",
            "                                                                                                  \n",
            " activation_334 (Activation)    (None, 17, 17, 160)  0           ['batch_normalization_334[0][0]']\n",
            "                                                                                                  \n",
            " activation_339 (Activation)    (None, 17, 17, 160)  0           ['batch_normalization_339[0][0]']\n",
            "                                                                                                  \n",
            " average_pooling2d_32 (AverageP  (None, 17, 17, 768)  0          ['mixed5[0][0]']                 \n",
            " ooling2D)                                                                                        \n",
            "                                                                                                  \n",
            " conv2d_332 (Conv2D)            (None, 17, 17, 192)  147456      ['mixed5[0][0]']                 \n",
            "                                                                                                  \n",
            " conv2d_335 (Conv2D)            (None, 17, 17, 192)  215040      ['activation_334[0][0]']         \n",
            "                                                                                                  \n",
            " conv2d_340 (Conv2D)            (None, 17, 17, 192)  215040      ['activation_339[0][0]']         \n",
            "                                                                                                  \n",
            " conv2d_341 (Conv2D)            (None, 17, 17, 192)  147456      ['average_pooling2d_32[0][0]']   \n",
            "                                                                                                  \n",
            " batch_normalization_332 (Batch  (None, 17, 17, 192)  576        ['conv2d_332[0][0]']             \n",
            " Normalization)                                                                                   \n",
            "                                                                                                  \n",
            " batch_normalization_335 (Batch  (None, 17, 17, 192)  576        ['conv2d_335[0][0]']             \n",
            " Normalization)                                                                                   \n",
            "                                                                                                  \n",
            " batch_normalization_340 (Batch  (None, 17, 17, 192)  576        ['conv2d_340[0][0]']             \n",
            " Normalization)                                                                                   \n",
            "                                                                                                  \n",
            " batch_normalization_341 (Batch  (None, 17, 17, 192)  576        ['conv2d_341[0][0]']             \n",
            " Normalization)                                                                                   \n",
            "                                                                                                  \n",
            " activation_332 (Activation)    (None, 17, 17, 192)  0           ['batch_normalization_332[0][0]']\n",
            "                                                                                                  \n",
            " activation_335 (Activation)    (None, 17, 17, 192)  0           ['batch_normalization_335[0][0]']\n",
            "                                                                                                  \n",
            " activation_340 (Activation)    (None, 17, 17, 192)  0           ['batch_normalization_340[0][0]']\n",
            "                                                                                                  \n",
            " activation_341 (Activation)    (None, 17, 17, 192)  0           ['batch_normalization_341[0][0]']\n",
            "                                                                                                  \n",
            " mixed6 (Concatenate)           (None, 17, 17, 768)  0           ['activation_332[0][0]',         \n",
            "                                                                  'activation_335[0][0]',         \n",
            "                                                                  'activation_340[0][0]',         \n",
            "                                                                  'activation_341[0][0]']         \n",
            "                                                                                                  \n",
            " conv2d_346 (Conv2D)            (None, 17, 17, 192)  147456      ['mixed6[0][0]']                 \n",
            "                                                                                                  \n",
            " batch_normalization_346 (Batch  (None, 17, 17, 192)  576        ['conv2d_346[0][0]']             \n",
            " Normalization)                                                                                   \n",
            "                                                                                                  \n",
            " activation_346 (Activation)    (None, 17, 17, 192)  0           ['batch_normalization_346[0][0]']\n",
            "                                                                                                  \n",
            " conv2d_347 (Conv2D)            (None, 17, 17, 192)  258048      ['activation_346[0][0]']         \n",
            "                                                                                                  \n",
            " batch_normalization_347 (Batch  (None, 17, 17, 192)  576        ['conv2d_347[0][0]']             \n",
            " Normalization)                                                                                   \n",
            "                                                                                                  \n",
            " activation_347 (Activation)    (None, 17, 17, 192)  0           ['batch_normalization_347[0][0]']\n",
            "                                                                                                  \n",
            " conv2d_343 (Conv2D)            (None, 17, 17, 192)  147456      ['mixed6[0][0]']                 \n",
            "                                                                                                  \n",
            " conv2d_348 (Conv2D)            (None, 17, 17, 192)  258048      ['activation_347[0][0]']         \n",
            "                                                                                                  \n",
            " batch_normalization_343 (Batch  (None, 17, 17, 192)  576        ['conv2d_343[0][0]']             \n",
            " Normalization)                                                                                   \n",
            "                                                                                                  \n",
            " batch_normalization_348 (Batch  (None, 17, 17, 192)  576        ['conv2d_348[0][0]']             \n",
            " Normalization)                                                                                   \n",
            "                                                                                                  \n",
            " activation_343 (Activation)    (None, 17, 17, 192)  0           ['batch_normalization_343[0][0]']\n",
            "                                                                                                  \n",
            " activation_348 (Activation)    (None, 17, 17, 192)  0           ['batch_normalization_348[0][0]']\n",
            "                                                                                                  \n",
            " conv2d_344 (Conv2D)            (None, 17, 17, 192)  258048      ['activation_343[0][0]']         \n",
            "                                                                                                  \n",
            " conv2d_349 (Conv2D)            (None, 17, 17, 192)  258048      ['activation_348[0][0]']         \n",
            "                                                                                                  \n",
            " batch_normalization_344 (Batch  (None, 17, 17, 192)  576        ['conv2d_344[0][0]']             \n",
            " Normalization)                                                                                   \n",
            "                                                                                                  \n",
            " batch_normalization_349 (Batch  (None, 17, 17, 192)  576        ['conv2d_349[0][0]']             \n",
            " Normalization)                                                                                   \n",
            "                                                                                                  \n",
            " activation_344 (Activation)    (None, 17, 17, 192)  0           ['batch_normalization_344[0][0]']\n",
            "                                                                                                  \n",
            " activation_349 (Activation)    (None, 17, 17, 192)  0           ['batch_normalization_349[0][0]']\n",
            "                                                                                                  \n",
            " average_pooling2d_33 (AverageP  (None, 17, 17, 768)  0          ['mixed6[0][0]']                 \n",
            " ooling2D)                                                                                        \n",
            "                                                                                                  \n",
            " conv2d_342 (Conv2D)            (None, 17, 17, 192)  147456      ['mixed6[0][0]']                 \n",
            "                                                                                                  \n",
            " conv2d_345 (Conv2D)            (None, 17, 17, 192)  258048      ['activation_344[0][0]']         \n",
            "                                                                                                  \n",
            " conv2d_350 (Conv2D)            (None, 17, 17, 192)  258048      ['activation_349[0][0]']         \n",
            "                                                                                                  \n",
            " conv2d_351 (Conv2D)            (None, 17, 17, 192)  147456      ['average_pooling2d_33[0][0]']   \n",
            "                                                                                                  \n",
            " batch_normalization_342 (Batch  (None, 17, 17, 192)  576        ['conv2d_342[0][0]']             \n",
            " Normalization)                                                                                   \n",
            "                                                                                                  \n",
            " batch_normalization_345 (Batch  (None, 17, 17, 192)  576        ['conv2d_345[0][0]']             \n",
            " Normalization)                                                                                   \n",
            "                                                                                                  \n",
            " batch_normalization_350 (Batch  (None, 17, 17, 192)  576        ['conv2d_350[0][0]']             \n",
            " Normalization)                                                                                   \n",
            "                                                                                                  \n",
            " batch_normalization_351 (Batch  (None, 17, 17, 192)  576        ['conv2d_351[0][0]']             \n",
            " Normalization)                                                                                   \n",
            "                                                                                                  \n",
            " activation_342 (Activation)    (None, 17, 17, 192)  0           ['batch_normalization_342[0][0]']\n",
            "                                                                                                  \n",
            " activation_345 (Activation)    (None, 17, 17, 192)  0           ['batch_normalization_345[0][0]']\n",
            "                                                                                                  \n",
            " activation_350 (Activation)    (None, 17, 17, 192)  0           ['batch_normalization_350[0][0]']\n",
            "                                                                                                  \n",
            " activation_351 (Activation)    (None, 17, 17, 192)  0           ['batch_normalization_351[0][0]']\n",
            "                                                                                                  \n",
            " mixed7 (Concatenate)           (None, 17, 17, 768)  0           ['activation_342[0][0]',         \n",
            "                                                                  'activation_345[0][0]',         \n",
            "                                                                  'activation_350[0][0]',         \n",
            "                                                                  'activation_351[0][0]']         \n",
            "                                                                                                  \n",
            " conv2d_354 (Conv2D)            (None, 17, 17, 192)  147456      ['mixed7[0][0]']                 \n",
            "                                                                                                  \n",
            " batch_normalization_354 (Batch  (None, 17, 17, 192)  576        ['conv2d_354[0][0]']             \n",
            " Normalization)                                                                                   \n",
            "                                                                                                  \n",
            " activation_354 (Activation)    (None, 17, 17, 192)  0           ['batch_normalization_354[0][0]']\n",
            "                                                                                                  \n",
            " conv2d_355 (Conv2D)            (None, 17, 17, 192)  258048      ['activation_354[0][0]']         \n",
            "                                                                                                  \n",
            " batch_normalization_355 (Batch  (None, 17, 17, 192)  576        ['conv2d_355[0][0]']             \n",
            " Normalization)                                                                                   \n",
            "                                                                                                  \n",
            " activation_355 (Activation)    (None, 17, 17, 192)  0           ['batch_normalization_355[0][0]']\n",
            "                                                                                                  \n",
            " conv2d_352 (Conv2D)            (None, 17, 17, 192)  147456      ['mixed7[0][0]']                 \n",
            "                                                                                                  \n",
            " conv2d_356 (Conv2D)            (None, 17, 17, 192)  258048      ['activation_355[0][0]']         \n",
            "                                                                                                  \n",
            " batch_normalization_352 (Batch  (None, 17, 17, 192)  576        ['conv2d_352[0][0]']             \n",
            " Normalization)                                                                                   \n",
            "                                                                                                  \n",
            " batch_normalization_356 (Batch  (None, 17, 17, 192)  576        ['conv2d_356[0][0]']             \n",
            " Normalization)                                                                                   \n",
            "                                                                                                  \n",
            " activation_352 (Activation)    (None, 17, 17, 192)  0           ['batch_normalization_352[0][0]']\n",
            "                                                                                                  \n",
            " activation_356 (Activation)    (None, 17, 17, 192)  0           ['batch_normalization_356[0][0]']\n",
            "                                                                                                  \n",
            " conv2d_353 (Conv2D)            (None, 8, 8, 320)    552960      ['activation_352[0][0]']         \n",
            "                                                                                                  \n",
            " conv2d_357 (Conv2D)            (None, 8, 8, 192)    331776      ['activation_356[0][0]']         \n",
            "                                                                                                  \n",
            " batch_normalization_353 (Batch  (None, 8, 8, 320)   960         ['conv2d_353[0][0]']             \n",
            " Normalization)                                                                                   \n",
            "                                                                                                  \n",
            " batch_normalization_357 (Batch  (None, 8, 8, 192)   576         ['conv2d_357[0][0]']             \n",
            " Normalization)                                                                                   \n",
            "                                                                                                  \n",
            " activation_353 (Activation)    (None, 8, 8, 320)    0           ['batch_normalization_353[0][0]']\n",
            "                                                                                                  \n",
            " activation_357 (Activation)    (None, 8, 8, 192)    0           ['batch_normalization_357[0][0]']\n",
            "                                                                                                  \n",
            " max_pooling2d_15 (MaxPooling2D  (None, 8, 8, 768)   0           ['mixed7[0][0]']                 \n",
            " )                                                                                                \n",
            "                                                                                                  \n",
            " mixed8 (Concatenate)           (None, 8, 8, 1280)   0           ['activation_353[0][0]',         \n",
            "                                                                  'activation_357[0][0]',         \n",
            "                                                                  'max_pooling2d_15[0][0]']       \n",
            "                                                                                                  \n",
            " conv2d_362 (Conv2D)            (None, 8, 8, 448)    573440      ['mixed8[0][0]']                 \n",
            "                                                                                                  \n",
            " batch_normalization_362 (Batch  (None, 8, 8, 448)   1344        ['conv2d_362[0][0]']             \n",
            " Normalization)                                                                                   \n",
            "                                                                                                  \n",
            " activation_362 (Activation)    (None, 8, 8, 448)    0           ['batch_normalization_362[0][0]']\n",
            "                                                                                                  \n",
            " conv2d_359 (Conv2D)            (None, 8, 8, 384)    491520      ['mixed8[0][0]']                 \n",
            "                                                                                                  \n",
            " conv2d_363 (Conv2D)            (None, 8, 8, 384)    1548288     ['activation_362[0][0]']         \n",
            "                                                                                                  \n",
            " batch_normalization_359 (Batch  (None, 8, 8, 384)   1152        ['conv2d_359[0][0]']             \n",
            " Normalization)                                                                                   \n",
            "                                                                                                  \n",
            " batch_normalization_363 (Batch  (None, 8, 8, 384)   1152        ['conv2d_363[0][0]']             \n",
            " Normalization)                                                                                   \n",
            "                                                                                                  \n",
            " activation_359 (Activation)    (None, 8, 8, 384)    0           ['batch_normalization_359[0][0]']\n",
            "                                                                                                  \n",
            " activation_363 (Activation)    (None, 8, 8, 384)    0           ['batch_normalization_363[0][0]']\n",
            "                                                                                                  \n",
            " conv2d_360 (Conv2D)            (None, 8, 8, 384)    442368      ['activation_359[0][0]']         \n",
            "                                                                                                  \n",
            " conv2d_361 (Conv2D)            (None, 8, 8, 384)    442368      ['activation_359[0][0]']         \n",
            "                                                                                                  \n",
            " conv2d_364 (Conv2D)            (None, 8, 8, 384)    442368      ['activation_363[0][0]']         \n",
            "                                                                                                  \n",
            " conv2d_365 (Conv2D)            (None, 8, 8, 384)    442368      ['activation_363[0][0]']         \n",
            "                                                                                                  \n",
            " average_pooling2d_34 (AverageP  (None, 8, 8, 1280)  0           ['mixed8[0][0]']                 \n",
            " ooling2D)                                                                                        \n",
            "                                                                                                  \n",
            " conv2d_358 (Conv2D)            (None, 8, 8, 320)    409600      ['mixed8[0][0]']                 \n",
            "                                                                                                  \n",
            " batch_normalization_360 (Batch  (None, 8, 8, 384)   1152        ['conv2d_360[0][0]']             \n",
            " Normalization)                                                                                   \n",
            "                                                                                                  \n",
            " batch_normalization_361 (Batch  (None, 8, 8, 384)   1152        ['conv2d_361[0][0]']             \n",
            " Normalization)                                                                                   \n",
            "                                                                                                  \n",
            " batch_normalization_364 (Batch  (None, 8, 8, 384)   1152        ['conv2d_364[0][0]']             \n",
            " Normalization)                                                                                   \n",
            "                                                                                                  \n",
            " batch_normalization_365 (Batch  (None, 8, 8, 384)   1152        ['conv2d_365[0][0]']             \n",
            " Normalization)                                                                                   \n",
            "                                                                                                  \n",
            " conv2d_366 (Conv2D)            (None, 8, 8, 192)    245760      ['average_pooling2d_34[0][0]']   \n",
            "                                                                                                  \n",
            " batch_normalization_358 (Batch  (None, 8, 8, 320)   960         ['conv2d_358[0][0]']             \n",
            " Normalization)                                                                                   \n",
            "                                                                                                  \n",
            " activation_360 (Activation)    (None, 8, 8, 384)    0           ['batch_normalization_360[0][0]']\n",
            "                                                                                                  \n",
            " activation_361 (Activation)    (None, 8, 8, 384)    0           ['batch_normalization_361[0][0]']\n",
            "                                                                                                  \n",
            " activation_364 (Activation)    (None, 8, 8, 384)    0           ['batch_normalization_364[0][0]']\n",
            "                                                                                                  \n",
            " activation_365 (Activation)    (None, 8, 8, 384)    0           ['batch_normalization_365[0][0]']\n",
            "                                                                                                  \n",
            " batch_normalization_366 (Batch  (None, 8, 8, 192)   576         ['conv2d_366[0][0]']             \n",
            " Normalization)                                                                                   \n",
            "                                                                                                  \n",
            " activation_358 (Activation)    (None, 8, 8, 320)    0           ['batch_normalization_358[0][0]']\n",
            "                                                                                                  \n",
            " mixed9_0 (Concatenate)         (None, 8, 8, 768)    0           ['activation_360[0][0]',         \n",
            "                                                                  'activation_361[0][0]']         \n",
            "                                                                                                  \n",
            " concatenate_6 (Concatenate)    (None, 8, 8, 768)    0           ['activation_364[0][0]',         \n",
            "                                                                  'activation_365[0][0]']         \n",
            "                                                                                                  \n",
            " activation_366 (Activation)    (None, 8, 8, 192)    0           ['batch_normalization_366[0][0]']\n",
            "                                                                                                  \n",
            " mixed9 (Concatenate)           (None, 8, 8, 2048)   0           ['activation_358[0][0]',         \n",
            "                                                                  'mixed9_0[0][0]',               \n",
            "                                                                  'concatenate_6[0][0]',          \n",
            "                                                                  'activation_366[0][0]']         \n",
            "                                                                                                  \n",
            " conv2d_371 (Conv2D)            (None, 8, 8, 448)    917504      ['mixed9[0][0]']                 \n",
            "                                                                                                  \n",
            " batch_normalization_371 (Batch  (None, 8, 8, 448)   1344        ['conv2d_371[0][0]']             \n",
            " Normalization)                                                                                   \n",
            "                                                                                                  \n",
            " activation_371 (Activation)    (None, 8, 8, 448)    0           ['batch_normalization_371[0][0]']\n",
            "                                                                                                  \n",
            " conv2d_368 (Conv2D)            (None, 8, 8, 384)    786432      ['mixed9[0][0]']                 \n",
            "                                                                                                  \n",
            " conv2d_372 (Conv2D)            (None, 8, 8, 384)    1548288     ['activation_371[0][0]']         \n",
            "                                                                                                  \n",
            " batch_normalization_368 (Batch  (None, 8, 8, 384)   1152        ['conv2d_368[0][0]']             \n",
            " Normalization)                                                                                   \n",
            "                                                                                                  \n",
            " batch_normalization_372 (Batch  (None, 8, 8, 384)   1152        ['conv2d_372[0][0]']             \n",
            " Normalization)                                                                                   \n",
            "                                                                                                  \n",
            " activation_368 (Activation)    (None, 8, 8, 384)    0           ['batch_normalization_368[0][0]']\n",
            "                                                                                                  \n",
            " activation_372 (Activation)    (None, 8, 8, 384)    0           ['batch_normalization_372[0][0]']\n",
            "                                                                                                  \n",
            " conv2d_369 (Conv2D)            (None, 8, 8, 384)    442368      ['activation_368[0][0]']         \n",
            "                                                                                                  \n",
            " conv2d_370 (Conv2D)            (None, 8, 8, 384)    442368      ['activation_368[0][0]']         \n",
            "                                                                                                  \n",
            " conv2d_373 (Conv2D)            (None, 8, 8, 384)    442368      ['activation_372[0][0]']         \n",
            "                                                                                                  \n",
            " conv2d_374 (Conv2D)            (None, 8, 8, 384)    442368      ['activation_372[0][0]']         \n",
            "                                                                                                  \n",
            " average_pooling2d_35 (AverageP  (None, 8, 8, 2048)  0           ['mixed9[0][0]']                 \n",
            " ooling2D)                                                                                        \n",
            "                                                                                                  \n",
            " conv2d_367 (Conv2D)            (None, 8, 8, 320)    655360      ['mixed9[0][0]']                 \n",
            "                                                                                                  \n",
            " batch_normalization_369 (Batch  (None, 8, 8, 384)   1152        ['conv2d_369[0][0]']             \n",
            " Normalization)                                                                                   \n",
            "                                                                                                  \n",
            " batch_normalization_370 (Batch  (None, 8, 8, 384)   1152        ['conv2d_370[0][0]']             \n",
            " Normalization)                                                                                   \n",
            "                                                                                                  \n",
            " batch_normalization_373 (Batch  (None, 8, 8, 384)   1152        ['conv2d_373[0][0]']             \n",
            " Normalization)                                                                                   \n",
            "                                                                                                  \n",
            " batch_normalization_374 (Batch  (None, 8, 8, 384)   1152        ['conv2d_374[0][0]']             \n",
            " Normalization)                                                                                   \n",
            "                                                                                                  \n",
            " conv2d_375 (Conv2D)            (None, 8, 8, 192)    393216      ['average_pooling2d_35[0][0]']   \n",
            "                                                                                                  \n",
            " batch_normalization_367 (Batch  (None, 8, 8, 320)   960         ['conv2d_367[0][0]']             \n",
            " Normalization)                                                                                   \n",
            "                                                                                                  \n",
            " activation_369 (Activation)    (None, 8, 8, 384)    0           ['batch_normalization_369[0][0]']\n",
            "                                                                                                  \n",
            " activation_370 (Activation)    (None, 8, 8, 384)    0           ['batch_normalization_370[0][0]']\n",
            "                                                                                                  \n",
            " activation_373 (Activation)    (None, 8, 8, 384)    0           ['batch_normalization_373[0][0]']\n",
            "                                                                                                  \n",
            " activation_374 (Activation)    (None, 8, 8, 384)    0           ['batch_normalization_374[0][0]']\n",
            "                                                                                                  \n",
            " batch_normalization_375 (Batch  (None, 8, 8, 192)   576         ['conv2d_375[0][0]']             \n",
            " Normalization)                                                                                   \n",
            "                                                                                                  \n",
            " activation_367 (Activation)    (None, 8, 8, 320)    0           ['batch_normalization_367[0][0]']\n",
            "                                                                                                  \n",
            " mixed9_1 (Concatenate)         (None, 8, 8, 768)    0           ['activation_369[0][0]',         \n",
            "                                                                  'activation_370[0][0]']         \n",
            "                                                                                                  \n",
            " concatenate_7 (Concatenate)    (None, 8, 8, 768)    0           ['activation_373[0][0]',         \n",
            "                                                                  'activation_374[0][0]']         \n",
            "                                                                                                  \n",
            " activation_375 (Activation)    (None, 8, 8, 192)    0           ['batch_normalization_375[0][0]']\n",
            "                                                                                                  \n",
            " mixed10 (Concatenate)          (None, 8, 8, 2048)   0           ['activation_367[0][0]',         \n",
            "                                                                  'mixed9_1[0][0]',               \n",
            "                                                                  'concatenate_7[0][0]',          \n",
            "                                                                  'activation_375[0][0]']         \n",
            "                                                                                                  \n",
            " sequential_3 (Sequential)      (None, 8)            16392       ['mixed10[0][0]']                \n",
            "                                                                                                  \n",
            "==================================================================================================\n",
            "Total params: 21,819,176\n",
            "Trainable params: 21,784,744\n",
            "Non-trainable params: 34,432\n",
            "__________________________________________________________________________________________________\n"
          ]
        }
      ]
    },
    {
      "cell_type": "code",
      "source": [
        "optimizer = tf.keras.optimizers.Adam(learning_rate=0.00006)\n",
        "top_models_inc.compile(loss='categorical_crossentropy',optimizer=optimizer,metrics=['accuracy'])"
      ],
      "metadata": {
        "id": "wueF_ov9HE45"
      },
      "execution_count": 89,
      "outputs": []
    },
    {
      "cell_type": "code",
      "source": [
        "filepath = os.path.join(MODEL_PATH, \"distracted-inception_trainable_best.hdf5\")\n",
        "checkpoint = ModelCheckpoint(filepath, monitor='val_accuracy', verbose=1, save_best_only=True,mode='max',period=1)\n",
        "callbacks_list = [checkpoint]"
      ],
      "metadata": {
        "colab": {
          "base_uri": "https://localhost:8080/"
        },
        "id": "Oq-i42LOHHYI",
        "outputId": "5ce3dab7-3c87-47d4-a49b-66bf6c226cb3"
      },
      "execution_count": 90,
      "outputs": [
        {
          "output_type": "stream",
          "name": "stderr",
          "text": [
            "WARNING:tensorflow:`period` argument is deprecated. Please use `save_freq` to specify the frequency in number of batches seen.\n"
          ]
        }
      ]
    },
    {
      "cell_type": "code",
      "source": [
        "model_history_inc = top_models_inc.fit_generator(train_data,validation_data = valid_data,epochs=NUM_EPOCH, shuffle=True,callbacks=callbacks_list, class_weight=class_weights)\n"
      ],
      "metadata": {
        "colab": {
          "base_uri": "https://localhost:8080/"
        },
        "id": "5U_F7ZcRHLDF",
        "outputId": "10e67612-5702-43cd-d985-9a4217fbaf77"
      },
      "execution_count": 91,
      "outputs": [
        {
          "output_type": "stream",
          "name": "stderr",
          "text": [
            "<ipython-input-91-7d869e2dc45f>:1: UserWarning: `Model.fit_generator` is deprecated and will be removed in a future version. Please use `Model.fit`, which supports generators.\n",
            "  model_history_inc = top_models_inc.fit_generator(train_data,validation_data = valid_data,epochs=NUM_EPOCH, shuffle=True,callbacks=callbacks_list, class_weight=class_weights)\n"
          ]
        },
        {
          "output_type": "stream",
          "name": "stdout",
          "text": [
            "Epoch 1/25\n",
            "160/160 [==============================] - ETA: 0s - loss: 0.6307 - accuracy: 0.7882\n",
            "Epoch 1: val_accuracy improved from -inf to 0.13445, saving model to /content/models/distracted-inception_trainable_best.hdf5\n",
            "160/160 [==============================] - 620s 4s/step - loss: 0.6307 - accuracy: 0.7882 - val_loss: 2.3328 - val_accuracy: 0.1344\n",
            "Epoch 2/25\n",
            "160/160 [==============================] - ETA: 0s - loss: 0.0555 - accuracy: 0.9837\n",
            "Epoch 2: val_accuracy improved from 0.13445 to 0.22906, saving model to /content/models/distracted-inception_trainable_best.hdf5\n",
            "160/160 [==============================] - 578s 4s/step - loss: 0.0555 - accuracy: 0.9837 - val_loss: 2.4194 - val_accuracy: 0.2291\n",
            "Epoch 3/25\n",
            "160/160 [==============================] - ETA: 0s - loss: 0.0212 - accuracy: 0.9936\n",
            "Epoch 3: val_accuracy improved from 0.22906 to 0.92736, saving model to /content/models/distracted-inception_trainable_best.hdf5\n",
            "160/160 [==============================] - 567s 4s/step - loss: 0.0212 - accuracy: 0.9936 - val_loss: 0.2174 - val_accuracy: 0.9274\n",
            "Epoch 4/25\n",
            "160/160 [==============================] - ETA: 0s - loss: 0.0163 - accuracy: 0.9945\n",
            "Epoch 4: val_accuracy improved from 0.92736 to 0.98740, saving model to /content/models/distracted-inception_trainable_best.hdf5\n",
            "160/160 [==============================] - 567s 4s/step - loss: 0.0163 - accuracy: 0.9945 - val_loss: 0.0467 - val_accuracy: 0.9874\n",
            "Epoch 5/25\n",
            "160/160 [==============================] - ETA: 0s - loss: 0.0117 - accuracy: 0.9960\n",
            "Epoch 5: val_accuracy improved from 0.98740 to 0.98770, saving model to /content/models/distracted-inception_trainable_best.hdf5\n",
            "160/160 [==============================] - 560s 4s/step - loss: 0.0117 - accuracy: 0.9960 - val_loss: 0.0374 - val_accuracy: 0.9877\n",
            "Epoch 6/25\n",
            "160/160 [==============================] - ETA: 0s - loss: 0.0071 - accuracy: 0.9980\n",
            "Epoch 6: val_accuracy improved from 0.98770 to 0.99121, saving model to /content/models/distracted-inception_trainable_best.hdf5\n",
            "160/160 [==============================] - 571s 4s/step - loss: 0.0071 - accuracy: 0.9980 - val_loss: 0.0380 - val_accuracy: 0.9912\n",
            "Epoch 7/25\n",
            "160/160 [==============================] - ETA: 0s - loss: 0.0036 - accuracy: 0.9991\n",
            "Epoch 7: val_accuracy improved from 0.99121 to 0.99238, saving model to /content/models/distracted-inception_trainable_best.hdf5\n",
            "160/160 [==============================] - 555s 3s/step - loss: 0.0036 - accuracy: 0.9991 - val_loss: 0.0339 - val_accuracy: 0.9924\n",
            "Epoch 8/25\n",
            "160/160 [==============================] - ETA: 0s - loss: 0.0092 - accuracy: 0.9973\n",
            "Epoch 8: val_accuracy did not improve from 0.99238\n",
            "160/160 [==============================] - 554s 3s/step - loss: 0.0092 - accuracy: 0.9973 - val_loss: 0.0512 - val_accuracy: 0.9877\n",
            "Epoch 9/25\n",
            "160/160 [==============================] - ETA: 0s - loss: 0.0158 - accuracy: 0.9960\n",
            "Epoch 9: val_accuracy did not improve from 0.99238\n",
            "160/160 [==============================] - 564s 4s/step - loss: 0.0158 - accuracy: 0.9960 - val_loss: 0.0728 - val_accuracy: 0.9813\n",
            "Epoch 10/25\n",
            "160/160 [==============================] - ETA: 0s - loss: 0.0107 - accuracy: 0.9964\n",
            "Epoch 10: val_accuracy did not improve from 0.99238\n",
            "160/160 [==============================] - 569s 4s/step - loss: 0.0107 - accuracy: 0.9964 - val_loss: 0.0761 - val_accuracy: 0.9807\n",
            "Epoch 11/25\n",
            "160/160 [==============================] - ETA: 0s - loss: 0.0197 - accuracy: 0.9936\n",
            "Epoch 11: val_accuracy did not improve from 0.99238\n",
            "160/160 [==============================] - 558s 3s/step - loss: 0.0197 - accuracy: 0.9936 - val_loss: 0.0699 - val_accuracy: 0.9813\n",
            "Epoch 12/25\n",
            "160/160 [==============================] - ETA: 0s - loss: 0.0167 - accuracy: 0.9951\n",
            "Epoch 12: val_accuracy did not improve from 0.99238\n",
            "160/160 [==============================] - 553s 3s/step - loss: 0.0167 - accuracy: 0.9951 - val_loss: 0.0429 - val_accuracy: 0.9921\n",
            "Epoch 13/25\n",
            "160/160 [==============================] - ETA: 0s - loss: 0.0076 - accuracy: 0.9972\n",
            "Epoch 13: val_accuracy did not improve from 0.99238\n",
            "160/160 [==============================] - 563s 4s/step - loss: 0.0076 - accuracy: 0.9972 - val_loss: 0.0505 - val_accuracy: 0.9868\n",
            "Epoch 14/25\n",
            "160/160 [==============================] - ETA: 0s - loss: 0.0070 - accuracy: 0.9977\n",
            "Epoch 14: val_accuracy did not improve from 0.99238\n",
            "160/160 [==============================] - 560s 4s/step - loss: 0.0070 - accuracy: 0.9977 - val_loss: 0.0368 - val_accuracy: 0.9915\n",
            "Epoch 15/25\n",
            "160/160 [==============================] - ETA: 0s - loss: 0.0147 - accuracy: 0.9952\n",
            "Epoch 15: val_accuracy did not improve from 0.99238\n",
            "160/160 [==============================] - 563s 4s/step - loss: 0.0147 - accuracy: 0.9952 - val_loss: 0.0341 - val_accuracy: 0.9924\n",
            "Epoch 16/25\n",
            "160/160 [==============================] - ETA: 0s - loss: 0.0070 - accuracy: 0.9978\n",
            "Epoch 16: val_accuracy did not improve from 0.99238\n",
            "160/160 [==============================] - 558s 3s/step - loss: 0.0070 - accuracy: 0.9978 - val_loss: 0.0397 - val_accuracy: 0.9897\n",
            "Epoch 17/25\n",
            "160/160 [==============================] - ETA: 0s - loss: 0.0079 - accuracy: 0.9983\n",
            "Epoch 17: val_accuracy did not improve from 0.99238\n",
            "160/160 [==============================] - 556s 3s/step - loss: 0.0079 - accuracy: 0.9983 - val_loss: 0.0412 - val_accuracy: 0.9889\n",
            "Epoch 18/25\n",
            "160/160 [==============================] - ETA: 0s - loss: 0.0035 - accuracy: 0.9984\n",
            "Epoch 18: val_accuracy did not improve from 0.99238\n",
            "160/160 [==============================] - 566s 4s/step - loss: 0.0035 - accuracy: 0.9984 - val_loss: 0.0433 - val_accuracy: 0.9906\n",
            "Epoch 19/25\n",
            "160/160 [==============================] - ETA: 0s - loss: 0.0073 - accuracy: 0.9978\n",
            "Epoch 19: val_accuracy improved from 0.99238 to 0.99297, saving model to /content/models/distracted-inception_trainable_best.hdf5\n",
            "160/160 [==============================] - 566s 4s/step - loss: 0.0073 - accuracy: 0.9978 - val_loss: 0.0389 - val_accuracy: 0.9930\n",
            "Epoch 20/25\n",
            "160/160 [==============================] - ETA: 0s - loss: 0.0149 - accuracy: 0.9974\n",
            "Epoch 20: val_accuracy did not improve from 0.99297\n",
            "160/160 [==============================] - 563s 4s/step - loss: 0.0149 - accuracy: 0.9974 - val_loss: 0.0447 - val_accuracy: 0.9897\n",
            "Epoch 21/25\n",
            "160/160 [==============================] - ETA: 0s - loss: 0.0079 - accuracy: 0.9982\n",
            "Epoch 21: val_accuracy did not improve from 0.99297\n",
            "160/160 [==============================] - 560s 4s/step - loss: 0.0079 - accuracy: 0.9982 - val_loss: 0.0393 - val_accuracy: 0.9883\n",
            "Epoch 22/25\n",
            "160/160 [==============================] - ETA: 0s - loss: 0.0028 - accuracy: 0.9994\n",
            "Epoch 22: val_accuracy did not improve from 0.99297\n",
            "160/160 [==============================] - 559s 3s/step - loss: 0.0028 - accuracy: 0.9994 - val_loss: 0.0360 - val_accuracy: 0.9927\n",
            "Epoch 23/25\n",
            "160/160 [==============================] - ETA: 0s - loss: 0.0013 - accuracy: 0.9997\n",
            "Epoch 23: val_accuracy improved from 0.99297 to 0.99326, saving model to /content/models/distracted-inception_trainable_best.hdf5\n",
            "160/160 [==============================] - 565s 4s/step - loss: 0.0013 - accuracy: 0.9997 - val_loss: 0.0357 - val_accuracy: 0.9933\n",
            "Epoch 24/25\n",
            "160/160 [==============================] - ETA: 0s - loss: 8.9880e-04 - accuracy: 0.9997\n",
            "Epoch 24: val_accuracy improved from 0.99326 to 0.99443, saving model to /content/models/distracted-inception_trainable_best.hdf5\n",
            "160/160 [==============================] - 573s 4s/step - loss: 8.9880e-04 - accuracy: 0.9997 - val_loss: 0.0309 - val_accuracy: 0.9944\n",
            "Epoch 25/25\n",
            "160/160 [==============================] - ETA: 0s - loss: 0.0015 - accuracy: 0.9995\n",
            "Epoch 25: val_accuracy did not improve from 0.99443\n",
            "160/160 [==============================] - 565s 4s/step - loss: 0.0015 - accuracy: 0.9995 - val_loss: 0.0339 - val_accuracy: 0.9927\n"
          ]
        }
      ]
    },
    {
      "cell_type": "code",
      "source": [
        "fig, (ax1, ax2) = plt.subplots(2, 1, figsize=(12, 12))\n",
        "ax1.plot(model_history_inc.history['loss'], color='b', label=\"Training loss\")\n",
        "ax1.plot(model_history_inc.history['val_loss'], color='r', label=\"validation loss\")\n",
        "ax1.set_xticks(np.arange(1, 25, 1))\n",
        "ax1.set_yticks(np.arange(0, 1, 0.1))\n",
        "\n",
        "ax2.plot(model_history_inc.history['accuracy'], color='b', label=\"Training accuracy\")\n",
        "ax2.plot(model_history_inc.history['val_accuracy'], color='r',label=\"Validation accuracy\")\n",
        "ax2.set_xticks(np.arange(1, 25, 1))\n",
        "\n",
        "legend = plt.legend(loc='best', shadow=True)\n",
        "plt.tight_layout()\n",
        "plt.show()"
      ],
      "metadata": {
        "colab": {
          "base_uri": "https://localhost:8080/",
          "height": 873
        },
        "id": "IwZBhvZkU5OU",
        "outputId": "aa4a5c13-b9c2-406b-cfe0-e8589d8bd304"
      },
      "execution_count": 92,
      "outputs": [
        {
          "output_type": "display_data",
          "data": {
            "text/plain": [
              "<Figure size 864x864 with 2 Axes>"
            ],
            "image/png": "[encoded data removed]"
          },
          "metadata": {
            "needs_background": "light"
          }
        }
      ]
    },
    {
      "cell_type": "code",
      "source": [
        "top_models_inc.load_weights('models/distracted-inception_trainable_best.hdf5')"
      ],
      "metadata": {
        "id": "fxUFQ_ZS5t8L"
      },
      "execution_count": 93,
      "outputs": []
    },
    {
      "cell_type": "code",
      "source": [
        "print(top_models_inc)"
      ],
      "metadata": {
        "colab": {
          "base_uri": "https://localhost:8080/"
        },
        "id": "ewP8ONpLxg_l",
        "outputId": "e0bafd64-a62c-453e-a409-16f122ff3974"
      },
      "execution_count": 94,
      "outputs": [
        {
          "output_type": "stream",
          "name": "stdout",
          "text": [
            "<keras.engine.functional.Functional object at 0x7efbbb449e20>\n"
          ]
        }
      ]
    },
    {
      "cell_type": "code",
      "source": [
        "# evaluate_data = datagen.flow_from_directory(UNSEEN_DATA,\n",
        "#                                         target_size=(IMAGE_SIZE,IMAGE_SIZE),\n",
        "#                                         batch_size=BATCH_SIZE,shuffle=False)"
      ],
      "metadata": {
        "id": "deyC7z9Kxw2j"
      },
      "execution_count": 95,
      "outputs": []
    },
    {
      "cell_type": "code",
      "source": [
        "ypred = top_models_inc.predict(unseen_data)\n",
        "print(ypred)\n",
        "evaluate_list = unseen_data.classes.tolist()\n",
        "ypred_class = np.argmax(ypred,axis=1)\n",
        "print(ypred_class)\n",
        "ytest = evaluate_list"
      ],
      "metadata": {
        "colab": {
          "base_uri": "https://localhost:8080/"
        },
        "id": "p9c458CCxuLW",
        "outputId": "2b371208-6f4c-42b4-c8bb-ac1f7a6e2e78"
      },
      "execution_count": 96,
      "outputs": [
        {
          "output_type": "stream",
          "name": "stdout",
          "text": [
            "14/14 [==============================] - 18s 1s/step\n",
            "[[3.63799436e-19 7.03438275e-07 9.68597247e-04 ... 4.15826317e-23\n",
            "  0.00000000e+00 2.76646024e-04]\n",
            " [6.60925995e-19 1.37986831e-06 4.06768231e-04 ... 4.92187459e-22\n",
            "  0.00000000e+00 1.92336307e-03]\n",
            " [2.24712609e-18 1.12350999e-05 2.02909615e-02 ... 1.51187237e-22\n",
            "  0.00000000e+00 1.08230021e-02]\n",
            " ...\n",
            " [4.35446059e-13 9.99932051e-01 7.17888952e-07 ... 1.29366802e-22\n",
            "  0.00000000e+00 6.69679373e-12]\n",
            " [3.26296980e-14 9.99987602e-01 4.20154265e-07 ... 5.72670515e-20\n",
            "  0.00000000e+00 1.70828618e-12]\n",
            " [1.06756096e-13 9.99995470e-01 4.58284006e-08 ... 1.95981059e-21\n",
            "  0.00000000e+00 1.87213569e-12]]\n",
            "[3 3 3 3 3 3 3 3 3 3 3 3 3 3 3 3 3 3 3 3 3 3 3 3 3 3 3 3 3 3 3 3 3 3 3 3 3\n",
            " 3 3 3 3 3 3 3 3 3 3 3 3 3 3 1 1 1 3 3 3 3 3 3 3 3 3 3 3 3 3 3 3 3 3 3 3 3\n",
            " 3 3 3 3 3 2 2 3 3 7 3 3 2 3 3 3 3 3 3 3 3 3 3 3 3 3 3 3 3 3 1 1 1 1 1 1 1\n",
            " 1 1 1 1 1 1 1 1 1 1 1 1 1 1 1 1 1 1 1 1 1 1 1 1 1 1 1 1 1 1 1 1 1 3 3 3 3\n",
            " 3 3 3 3 3 3 3 3 3 3 3 3 3 3 3 3 3 3 3 3 3 3 3 3 3 3 3 3 3 3 3 3 3 3 3 3 3\n",
            " 3 3 3 3 3 3 3 3 3 3 3 3 3 3 3 3 3 3 3 3 3 3 3 3 3 3 3 3 3 3 3 3 3 3 3 3 3\n",
            " 3 3 3 3 3 3 3 3 3 3 3 3 3 3 3 3 3 1 1 1 1 1 1 1 1 1 1 1 1 1 1 1 1 1 1 1 1\n",
            " 1 1 1 1 1 1 1 1 1 1 1 1 1 1 1 1 1 1 1 1 1 1 1 1 1 1 1 1 1 1 1 1 1 1 1 1 1\n",
            " 1 1 1 1 1 1 1 1 1 1 1 1 1 1 1 1 1 1 1 1 1 1 1 3 3 3 3 3 3 3 3 3 3 3 3 3 3\n",
            " 3 3 3 3 3 3 3 3 3 3 3 3 3 3 3 3 3 3 3 3 3 3 3 3 3 3 3 3 3 3 3 3 3 3 3 3 3\n",
            " 3 3 3 3 3 3 3 3 3 3 3 3 3 3 3 3 3 3 3 3 3 3 3 3 3 3 3 3 3 3 3 3 3 3 3 3 3\n",
            " 3 1 1 1 1 1 1 1 1 1 1 1 1 1 1 1 1 1 1 1 1 1 1 1 1 1 1 1 1 1 1 1 1 1 1 1 1\n",
            " 1 1 1 1 1 1 1 1 1 1 1 1 1 1 1 1 1 1 1 1 1 1 1 1 1 1 1 1 1 1 1 1 1 1 1 1 1\n",
            " 1 1 1 1 1 1 1 3 3 3 3 3 3 3 3 3 3 3 3 3 3 3 3 3 3 3 3 3 1 3 3 3 3 3 3 1 1\n",
            " 1 1 1 1 1 1 1 1 1 1 1 1 1 1 1 1 1 1 1 1 1 1 1 1 1 1 1 1 1 1 1 1 1 1 1 1 1\n",
            " 1 3 3 3 3 3 3 3 3 3 3 3 2 1 3 3 3 3 3 3 1 1 1 1 1 1 1 1 1 1 1 1 1 1 1 1 1\n",
            " 1 1 1 1 1 1 1 1 1 1 1 1 1 1 1 1 1 1 1 1 1 1 1 3 3 3 3 3 3 3 3 3 3 3 3 3 3\n",
            " 3 3 3 3 3 3 3 3 3 3 3 1 1 1 1 1 1 1 1 1 1 1 1 1 1 1 1 1 1 1 1 1 1 1 1 1 1\n",
            " 1 1 1 1 1 1 1 1 1 1 1 1 1 1 3 3 3 3 3 3 3 3 3 3 3 3 3 3 3 3 3 3 3 3 3 3 3\n",
            " 3 3 3 3 3 3 3 3 3 3 3 3 3 3 3 3 1 1 1 1 1 1 1 1 1 1 1 1 1 1 1 1 1 1 1 1 1\n",
            " 1 1 1 1 1 1 1 1 1 1 1 1 1 1 1 1 1 1 1 3 3 3 3 3 3 3 3 3 3 3 3 3 3 3 3 3 3\n",
            " 3 3 3 3 3 3 3 3 3 3 3 3 3 3 3 3 3 3 3 3 3 3 1 1 1 1 1 1 1 1 1 1 1 1 1 1 1\n",
            " 1 1 1 1 1 1 1 1 1 1 1 1 1 1 1 1 1 1 1 1 1 1 1 1 1]\n"
          ]
        }
      ]
    },
    {
      "cell_type": "code",
      "source": [
        "accuracy = accuracy_score(ytest,ypred_class)\n",
        "print('Accuracy: %f' % accuracy)\n",
        "# precision tp / (tp + fp)\n",
        "precision = precision_score(ytest, ypred_class,average='weighted')\n",
        "print('Precision: %f' % precision)\n",
        "# recall: tp / (tp + fn)\n",
        "recall = recall_score(ytest,ypred_class,average='weighted')\n",
        "print('Recall: %f' % recall)\n",
        "# f1: 2 tp / (2 tp + fp + fn)\n",
        "f1 = f1_score(ytest,ypred_class,average='weighted')\n",
        "print('F1 score: %f' % f1)"
      ],
      "metadata": {
        "colab": {
          "base_uri": "https://localhost:8080/"
        },
        "id": "hbL6rOc7yci2",
        "outputId": "533690f9-fbed-4024-e0e0-fadab455d296"
      },
      "execution_count": 97,
      "outputs": [
        {
          "output_type": "stream",
          "name": "stdout",
          "text": [
            "Accuracy: 0.127533\n",
            "Precision: 0.046302\n",
            "Recall: 0.127533\n",
            "F1 score: 0.066346\n"
          ]
        },
        {
          "output_type": "stream",
          "name": "stderr",
          "text": [
            "/usr/local/lib/python3.9/dist-packages/sklearn/metrics/_classification.py:1344: UndefinedMetricWarning: Precision is ill-defined and being set to 0.0 in labels with no predicted samples. Use `zero_division` parameter to control this behavior.\n",
            "  _warn_prf(average, modifier, msg_start, len(result))\n"
          ]
        }
      ]
    },
    {
      "cell_type": "code",
      "source": [
        "top_models_inc.evaluate(unseen_data)"
      ],
      "metadata": {
        "colab": {
          "base_uri": "https://localhost:8080/"
        },
        "id": "GWXzTMBiypI1",
        "outputId": "d096d1da-8f57-4d35-cecc-5e0703b2067f"
      },
      "execution_count": 98,
      "outputs": [
        {
          "output_type": "stream",
          "name": "stdout",
          "text": [
            "14/14 [==============================] - 15s 1s/step - loss: 28.9199 - accuracy: 0.1275\n"
          ]
        },
        {
          "output_type": "execute_result",
          "data": {
            "text/plain": [
              "[28.91988182067871, 0.12753278017044067]"
            ]
          },
          "metadata": {},
          "execution_count": 98
        }
      ]
    },
    {
      "cell_type": "code",
      "source": [
        "def print_confusion_matrix(confusion_matrix, class_names, figsize = (10,7), fontsize=14):\n",
        "    df_cm = pd.DataFrame(\n",
        "        confusion_matrix, index=class_names, columns=class_names, \n",
        "    )\n",
        "    fig = plt.figure(figsize=figsize)\n",
        "    try:\n",
        "        heatmap = sns.heatmap(df_cm, annot=True, fmt=\"d\")\n",
        "    except ValueError:\n",
        "        raise ValueError(\"Confusion matrix values must be integers.\")\n",
        "    heatmap.yaxis.set_ticklabels(heatmap.yaxis.get_ticklabels(), rotation=0, ha='right', fontsize=fontsize)\n",
        "    heatmap.xaxis.set_ticklabels(heatmap.xaxis.get_ticklabels(), rotation=45, ha='right', fontsize=fontsize)\n",
        "    plt.ylabel('True label')\n",
        "    plt.xlabel('Predicted label')\n",
        "    fig.savefig(os.path.join(MODEL_PATH,\"confusion_matrix.png\"))\n",
        "    return fig\n",
        "def print_heatmap(n_labels, n_predictions, class_names):\n",
        "    labels = n_labels #sess.run(tf.argmax(n_labels, 1))\n",
        "    predictions = n_predictions #sess.run(tf.argmax(n_predictions, 1))\n",
        "\n",
        "#     confusion_matrix = sess.run(tf.contrib.metrics.confusion_matrix(labels, predictions))\n",
        "    matrix = confusion_matrix(labels,predictions.argmax(axis=1))\n",
        "    row_sum = np.sum(matrix, axis = 1)\n",
        "    w, h = matrix.shape\n",
        "\n",
        "    c_m = np.zeros((w, h))\n",
        "\n",
        "    for i in range(h):\n",
        "        c_m[i] = matrix[i] * 100 / row_sum[i]\n",
        "\n",
        "    c = c_m.astype(dtype = np.uint8)\n",
        "\n",
        "    \n",
        "    heatmap = print_confusion_matrix(c, class_names, figsize=(18,10), fontsize=20)"
      ],
      "metadata": {
        "id": "RC1H24sF2kbP"
      },
      "execution_count": 99,
      "outputs": []
    },
    {
      "cell_type": "code",
      "source": [
        "class_names = list()\n",
        "for name,idx in valid_data.class_indices.items():\n",
        "    class_names.append(name)\n",
        "print(class_names)"
      ],
      "metadata": {
        "colab": {
          "base_uri": "https://localhost:8080/"
        },
        "id": "-ygCKpAq2mpo",
        "outputId": "6fa048c2-feb1-46e8-d690-5afcb6b037f6"
      },
      "execution_count": 100,
      "outputs": [
        {
          "output_type": "stream",
          "name": "stdout",
          "text": [
            "['c0', 'c1', 'c2', 'c3', 'c4', 'c5', 'c6', 'c7']\n"
          ]
        }
      ]
    },
    {
      "cell_type": "code",
      "source": [
        "print_heatmap(ytest,ypred,class_names)"
      ],
      "metadata": {
        "colab": {
          "base_uri": "https://localhost:8080/",
          "height": 626
        },
        "id": "5Asz8vMm2te2",
        "outputId": "b0af7914-bb07-4f78-9b95-b7c09b6f1fb9"
      },
      "execution_count": 101,
      "outputs": [
        {
          "output_type": "display_data",
          "data": {
            "text/plain": [
              "<Figure size 1296x720 with 2 Axes>"
            ],
            "image/png": "[encoded data removed]"
          },
          "metadata": {
            "needs_background": "light"
          }
        }
      ]
    }
  ]
}