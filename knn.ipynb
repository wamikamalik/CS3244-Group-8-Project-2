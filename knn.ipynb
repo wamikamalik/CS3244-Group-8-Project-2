{
 "cells": [
  {
   "cell_type": "code",
   "execution_count": 287,
   "metadata": {},
   "outputs": [],
   "source": [
    "import os\n",
    "import cv2\n",
    "import numpy as np\n",
    "import pandas as pd\n",
    "import matplotlib.pyplot as plt\n",
    "from matplotlib import image\n",
    "from sklearn.neighbors import KNeighborsClassifier\n",
    "from sklearn.metrics import classification_report\n",
    "from sklearn.model_selection import train_test_split\n",
    "from sklearn.model_selection import GridSearchCV\n",
    "import imutils\n",
    "import argparse"
   ]
  },
  {
   "cell_type": "code",
   "execution_count": 288,
   "metadata": {},
   "outputs": [
    {
     "name": "stdout",
     "output_type": "stream",
     "text": [
      "c:\\Users\\wamik\\Documents\\Notes Y4S2\\CS3244\\Projects\\Project 2\\CS3244-Group-8-Project-2\\Distracted Driver Dataset\\Combined\\test\\c0\n",
      "346\n",
      "c:\\Users\\wamik\\Documents\\Notes Y4S2\\CS3244\\Projects\\Project 2\\CS3244-Group-8-Project-2\\Distracted Driver Dataset\\Combined\\test\\c1\n",
      "393\n",
      "c:\\Users\\wamik\\Documents\\Notes Y4S2\\CS3244\\Projects\\Project 2\\CS3244-Group-8-Project-2\\Distracted Driver Dataset\\Combined\\test\\c2\n",
      "364\n",
      "c:\\Users\\wamik\\Documents\\Notes Y4S2\\CS3244\\Projects\\Project 2\\CS3244-Group-8-Project-2\\Distracted Driver Dataset\\Combined\\test\\c3\n",
      "170\n",
      "c:\\Users\\wamik\\Documents\\Notes Y4S2\\CS3244\\Projects\\Project 2\\CS3244-Group-8-Project-2\\Distracted Driver Dataset\\Combined\\test\\c4\n",
      "143\n",
      "c:\\Users\\wamik\\Documents\\Notes Y4S2\\CS3244\\Projects\\Project 2\\CS3244-Group-8-Project-2\\Distracted Driver Dataset\\Combined\\test\\c5\n",
      "143\n",
      "c:\\Users\\wamik\\Documents\\Notes Y4S2\\CS3244\\Projects\\Project 2\\CS3244-Group-8-Project-2\\Distracted Driver Dataset\\Combined\\test\\c6\n",
      "146\n",
      "c:\\Users\\wamik\\Documents\\Notes Y4S2\\CS3244\\Projects\\Project 2\\CS3244-Group-8-Project-2\\Distracted Driver Dataset\\Combined\\test\\c7\n",
      "218\n",
      "c:\\Users\\wamik\\Documents\\Notes Y4S2\\CS3244\\Projects\\Project 2\\CS3244-Group-8-Project-2\\Distracted Driver Dataset\\Combined\\train\\c0\n",
      "2640\n",
      "c:\\Users\\wamik\\Documents\\Notes Y4S2\\CS3244\\Projects\\Project 2\\CS3244-Group-8-Project-2\\Distracted Driver Dataset\\Combined\\train\\c1\n",
      "2449\n",
      "c:\\Users\\wamik\\Documents\\Notes Y4S2\\CS3244\\Projects\\Project 2\\CS3244-Group-8-Project-2\\Distracted Driver Dataset\\Combined\\train\\c2\n",
      "2212\n",
      "c:\\Users\\wamik\\Documents\\Notes Y4S2\\CS3244\\Projects\\Project 2\\CS3244-Group-8-Project-2\\Distracted Driver Dataset\\Combined\\train\\c3\n",
      "953\n",
      "c:\\Users\\wamik\\Documents\\Notes Y4S2\\CS3244\\Projects\\Project 2\\CS3244-Group-8-Project-2\\Distracted Driver Dataset\\Combined\\train\\c4\n",
      "933\n",
      "c:\\Users\\wamik\\Documents\\Notes Y4S2\\CS3244\\Projects\\Project 2\\CS3244-Group-8-Project-2\\Distracted Driver Dataset\\Combined\\train\\c5\n",
      "891\n",
      "c:\\Users\\wamik\\Documents\\Notes Y4S2\\CS3244\\Projects\\Project 2\\CS3244-Group-8-Project-2\\Distracted Driver Dataset\\Combined\\train\\c6\n",
      "898\n",
      "c:\\Users\\wamik\\Documents\\Notes Y4S2\\CS3244\\Projects\\Project 2\\CS3244-Group-8-Project-2\\Distracted Driver Dataset\\Combined\\train\\c7\n",
      "1579\n"
     ]
    }
   ],
   "source": [
    "CLASS = [[\"c0\", \"Safe Driving\"], [\"c1\", \"Text\"], [\"c2\", \"Phone\"], \n",
    "         [\"c3\", \"Adjusting Radio\"], [\"c4\", \"Drinking\"], \n",
    "         [\"c5\", \"Reaching Behind\"], [\"c6\", \"Hair or Makeup\"], \n",
    "         [\"c7\", \"Talking to Passenger\"]]\n",
    "TEST_CLS = [os.path.join(os.getcwd(), \"Distracted Driver Dataset\", \"Combined\", \"test\", cls[0]) for cls in CLASS]\n",
    "TRAIN_CLS = [os.path.join(os.getcwd(), \"Distracted Driver Dataset\", \"Combined\", \"train\", cls[0]) for cls in CLASS]\n",
    "for cls_path in TEST_CLS:\n",
    "  print(cls_path)\n",
    "  print(len(os.listdir(cls_path)))\n",
    "for cls_path in TRAIN_CLS:\n",
    "  print(cls_path)\n",
    "  print(len(os.listdir(cls_path)))"
   ]
  },
  {
   "cell_type": "code",
   "execution_count": 289,
   "metadata": {},
   "outputs": [
    {
     "name": "stdout",
     "output_type": "stream",
     "text": [
      "(48, 64)\n",
      "[[0.         0.         0.         ... 0.32156863 0.99607843 0.99607843]\n",
      " [0.         0.         0.         ... 0.86666667 1.         1.        ]\n",
      " [0.         0.         0.         ... 1.         1.         1.        ]\n",
      " ...\n",
      " [0.         0.         0.         ... 0.09803922 0.60784314 0.38431373]\n",
      " [0.         0.         0.         ... 0.41568627 0.27843137 0.11372549]\n",
      " [0.         0.         0.         ... 0.21176471 0.03921569 0.05882353]]\n"
     ]
    },
    {
     "data": {
      "image/png": "[encoded data removed]",
      "text/plain": [
       "<Figure size 432x288 with 1 Axes>"
      ]
     },
     "metadata": {
      "needs_background": "light"
     },
     "output_type": "display_data"
    }
   ],
   "source": [
    "image = cv2.imread(os.path.join(TRAIN_CLS[4], os.listdir(TRAIN_CLS[4])[0]))\n",
    "image = cv2.cvtColor(image, cv2.COLOR_RGBA2GRAY)\n",
    "image = cv2.resize(image, (64, 48), interpolation=cv2.INTER_AREA)\n",
    "print(image.shape)\n",
    "plt.imshow(image)\n",
    "image = image/255\n",
    "print(image)"
   ]
  },
  {
   "cell_type": "code",
   "execution_count": 290,
   "metadata": {},
   "outputs": [],
   "source": [
    "train_paths = []\n",
    "test_paths = []\n",
    "for cls in range(8):\n",
    "  for train_instance in os.listdir(TRAIN_CLS[cls]):\n",
    "    train_paths.append(os.path.join(TRAIN_CLS[cls], train_instance))\n",
    "  for test_instance in os.listdir(TEST_CLS[cls]):\n",
    "    test_paths.append(os.path.join(TEST_CLS[cls], test_instance))"
   ]
  },
  {
   "cell_type": "code",
   "execution_count": 291,
   "metadata": {},
   "outputs": [],
   "source": [
    "classes = []\n",
    "test_classes = []\n",
    "for cls in range(8):\n",
    "  for train_instance in os.listdir(TRAIN_CLS[cls]):\n",
    "    classes.append(cls)\n",
    "  for test_instance in os.listdir(TEST_CLS[cls]):\n",
    "    test_classes.append(cls)"
   ]
  },
  {
   "cell_type": "code",
   "execution_count": 292,
   "metadata": {},
   "outputs": [
    {
     "data": {
      "text/html": [
       "<div>\n",
       "<style scoped>\n",
       "    .dataframe tbody tr th:only-of-type {\n",
       "        vertical-align: middle;\n",
       "    }\n",
       "\n",
       "    .dataframe tbody tr th {\n",
       "        vertical-align: top;\n",
       "    }\n",
       "\n",
       "    .dataframe thead th {\n",
       "        text-align: right;\n",
       "    }\n",
       "</style>\n",
       "<table border=\"1\" class=\"dataframe\">\n",
       "  <thead>\n",
       "    <tr style=\"text-align: right;\">\n",
       "      <th></th>\n",
       "      <th>filename</th>\n",
       "      <th>class</th>\n",
       "    </tr>\n",
       "  </thead>\n",
       "  <tbody>\n",
       "    <tr>\n",
       "      <th>0</th>\n",
       "      <td>c:\\Users\\wamik\\Documents\\Notes Y4S2\\CS3244\\Pro...</td>\n",
       "      <td>0</td>\n",
       "    </tr>\n",
       "    <tr>\n",
       "      <th>1</th>\n",
       "      <td>c:\\Users\\wamik\\Documents\\Notes Y4S2\\CS3244\\Pro...</td>\n",
       "      <td>0</td>\n",
       "    </tr>\n",
       "    <tr>\n",
       "      <th>2</th>\n",
       "      <td>c:\\Users\\wamik\\Documents\\Notes Y4S2\\CS3244\\Pro...</td>\n",
       "      <td>0</td>\n",
       "    </tr>\n",
       "    <tr>\n",
       "      <th>3</th>\n",
       "      <td>c:\\Users\\wamik\\Documents\\Notes Y4S2\\CS3244\\Pro...</td>\n",
       "      <td>0</td>\n",
       "    </tr>\n",
       "    <tr>\n",
       "      <th>4</th>\n",
       "      <td>c:\\Users\\wamik\\Documents\\Notes Y4S2\\CS3244\\Pro...</td>\n",
       "      <td>0</td>\n",
       "    </tr>\n",
       "    <tr>\n",
       "      <th>...</th>\n",
       "      <td>...</td>\n",
       "      <td>...</td>\n",
       "    </tr>\n",
       "    <tr>\n",
       "      <th>12550</th>\n",
       "      <td>c:\\Users\\wamik\\Documents\\Notes Y4S2\\CS3244\\Pro...</td>\n",
       "      <td>7</td>\n",
       "    </tr>\n",
       "    <tr>\n",
       "      <th>12551</th>\n",
       "      <td>c:\\Users\\wamik\\Documents\\Notes Y4S2\\CS3244\\Pro...</td>\n",
       "      <td>7</td>\n",
       "    </tr>\n",
       "    <tr>\n",
       "      <th>12552</th>\n",
       "      <td>c:\\Users\\wamik\\Documents\\Notes Y4S2\\CS3244\\Pro...</td>\n",
       "      <td>7</td>\n",
       "    </tr>\n",
       "    <tr>\n",
       "      <th>12553</th>\n",
       "      <td>c:\\Users\\wamik\\Documents\\Notes Y4S2\\CS3244\\Pro...</td>\n",
       "      <td>7</td>\n",
       "    </tr>\n",
       "    <tr>\n",
       "      <th>12554</th>\n",
       "      <td>c:\\Users\\wamik\\Documents\\Notes Y4S2\\CS3244\\Pro...</td>\n",
       "      <td>7</td>\n",
       "    </tr>\n",
       "  </tbody>\n",
       "</table>\n",
       "<p>12555 rows × 2 columns</p>\n",
       "</div>"
      ],
      "text/plain": [
       "                                                filename  class\n",
       "0      c:\\Users\\wamik\\Documents\\Notes Y4S2\\CS3244\\Pro...      0\n",
       "1      c:\\Users\\wamik\\Documents\\Notes Y4S2\\CS3244\\Pro...      0\n",
       "2      c:\\Users\\wamik\\Documents\\Notes Y4S2\\CS3244\\Pro...      0\n",
       "3      c:\\Users\\wamik\\Documents\\Notes Y4S2\\CS3244\\Pro...      0\n",
       "4      c:\\Users\\wamik\\Documents\\Notes Y4S2\\CS3244\\Pro...      0\n",
       "...                                                  ...    ...\n",
       "12550  c:\\Users\\wamik\\Documents\\Notes Y4S2\\CS3244\\Pro...      7\n",
       "12551  c:\\Users\\wamik\\Documents\\Notes Y4S2\\CS3244\\Pro...      7\n",
       "12552  c:\\Users\\wamik\\Documents\\Notes Y4S2\\CS3244\\Pro...      7\n",
       "12553  c:\\Users\\wamik\\Documents\\Notes Y4S2\\CS3244\\Pro...      7\n",
       "12554  c:\\Users\\wamik\\Documents\\Notes Y4S2\\CS3244\\Pro...      7\n",
       "\n",
       "[12555 rows x 2 columns]"
      ]
     },
     "execution_count": 292,
     "metadata": {},
     "output_type": "execute_result"
    }
   ],
   "source": [
    "df = pd.DataFrame({\n",
    "  'filename': train_paths,\n",
    "  'class': classes\n",
    "})\n",
    "df"
   ]
  },
  {
   "cell_type": "code",
   "execution_count": 293,
   "metadata": {},
   "outputs": [
    {
     "data": {
      "text/html": [
       "<div>\n",
       "<style scoped>\n",
       "    .dataframe tbody tr th:only-of-type {\n",
       "        vertical-align: middle;\n",
       "    }\n",
       "\n",
       "    .dataframe tbody tr th {\n",
       "        vertical-align: top;\n",
       "    }\n",
       "\n",
       "    .dataframe thead th {\n",
       "        text-align: right;\n",
       "    }\n",
       "</style>\n",
       "<table border=\"1\" class=\"dataframe\">\n",
       "  <thead>\n",
       "    <tr style=\"text-align: right;\">\n",
       "      <th></th>\n",
       "      <th>filename</th>\n",
       "      <th>class</th>\n",
       "    </tr>\n",
       "  </thead>\n",
       "  <tbody>\n",
       "    <tr>\n",
       "      <th>0</th>\n",
       "      <td>c:\\Users\\wamik\\Documents\\Notes Y4S2\\CS3244\\Pro...</td>\n",
       "      <td>0</td>\n",
       "    </tr>\n",
       "    <tr>\n",
       "      <th>1</th>\n",
       "      <td>c:\\Users\\wamik\\Documents\\Notes Y4S2\\CS3244\\Pro...</td>\n",
       "      <td>0</td>\n",
       "    </tr>\n",
       "    <tr>\n",
       "      <th>2</th>\n",
       "      <td>c:\\Users\\wamik\\Documents\\Notes Y4S2\\CS3244\\Pro...</td>\n",
       "      <td>0</td>\n",
       "    </tr>\n",
       "    <tr>\n",
       "      <th>3</th>\n",
       "      <td>c:\\Users\\wamik\\Documents\\Notes Y4S2\\CS3244\\Pro...</td>\n",
       "      <td>0</td>\n",
       "    </tr>\n",
       "    <tr>\n",
       "      <th>4</th>\n",
       "      <td>c:\\Users\\wamik\\Documents\\Notes Y4S2\\CS3244\\Pro...</td>\n",
       "      <td>0</td>\n",
       "    </tr>\n",
       "    <tr>\n",
       "      <th>...</th>\n",
       "      <td>...</td>\n",
       "      <td>...</td>\n",
       "    </tr>\n",
       "    <tr>\n",
       "      <th>1918</th>\n",
       "      <td>c:\\Users\\wamik\\Documents\\Notes Y4S2\\CS3244\\Pro...</td>\n",
       "      <td>7</td>\n",
       "    </tr>\n",
       "    <tr>\n",
       "      <th>1919</th>\n",
       "      <td>c:\\Users\\wamik\\Documents\\Notes Y4S2\\CS3244\\Pro...</td>\n",
       "      <td>7</td>\n",
       "    </tr>\n",
       "    <tr>\n",
       "      <th>1920</th>\n",
       "      <td>c:\\Users\\wamik\\Documents\\Notes Y4S2\\CS3244\\Pro...</td>\n",
       "      <td>7</td>\n",
       "    </tr>\n",
       "    <tr>\n",
       "      <th>1921</th>\n",
       "      <td>c:\\Users\\wamik\\Documents\\Notes Y4S2\\CS3244\\Pro...</td>\n",
       "      <td>7</td>\n",
       "    </tr>\n",
       "    <tr>\n",
       "      <th>1922</th>\n",
       "      <td>c:\\Users\\wamik\\Documents\\Notes Y4S2\\CS3244\\Pro...</td>\n",
       "      <td>7</td>\n",
       "    </tr>\n",
       "  </tbody>\n",
       "</table>\n",
       "<p>1923 rows × 2 columns</p>\n",
       "</div>"
      ],
      "text/plain": [
       "                                               filename  class\n",
       "0     c:\\Users\\wamik\\Documents\\Notes Y4S2\\CS3244\\Pro...      0\n",
       "1     c:\\Users\\wamik\\Documents\\Notes Y4S2\\CS3244\\Pro...      0\n",
       "2     c:\\Users\\wamik\\Documents\\Notes Y4S2\\CS3244\\Pro...      0\n",
       "3     c:\\Users\\wamik\\Documents\\Notes Y4S2\\CS3244\\Pro...      0\n",
       "4     c:\\Users\\wamik\\Documents\\Notes Y4S2\\CS3244\\Pro...      0\n",
       "...                                                 ...    ...\n",
       "1918  c:\\Users\\wamik\\Documents\\Notes Y4S2\\CS3244\\Pro...      7\n",
       "1919  c:\\Users\\wamik\\Documents\\Notes Y4S2\\CS3244\\Pro...      7\n",
       "1920  c:\\Users\\wamik\\Documents\\Notes Y4S2\\CS3244\\Pro...      7\n",
       "1921  c:\\Users\\wamik\\Documents\\Notes Y4S2\\CS3244\\Pro...      7\n",
       "1922  c:\\Users\\wamik\\Documents\\Notes Y4S2\\CS3244\\Pro...      7\n",
       "\n",
       "[1923 rows x 2 columns]"
      ]
     },
     "execution_count": 293,
     "metadata": {},
     "output_type": "execute_result"
    }
   ],
   "source": [
    "df_test = pd.DataFrame({\n",
    "  'filename': test_paths,\n",
    "  'class': test_classes\n",
    "})\n",
    "df_test"
   ]
  },
  {
   "cell_type": "code",
   "execution_count": 294,
   "metadata": {},
   "outputs": [
    {
     "data": {
      "text/plain": [
       "<AxesSubplot:>"
      ]
     },
     "execution_count": 294,
     "metadata": {},
     "output_type": "execute_result"
    },
    {
     "data": {
      "image/png": "[encoded data removed]",
      "text/plain": [
       "<Figure size 432x288 with 1 Axes>"
      ]
     },
     "metadata": {
      "needs_background": "light"
     },
     "output_type": "display_data"
    }
   ],
   "source": [
    "df['class'].value_counts().plot.bar()"
   ]
  },
  {
   "cell_type": "code",
   "execution_count": 295,
   "metadata": {},
   "outputs": [
    {
     "data": {
      "text/plain": [
       "<AxesSubplot:>"
      ]
     },
     "execution_count": 295,
     "metadata": {},
     "output_type": "execute_result"
    },
    {
     "data": {
      "image/png": "[encoded data removed]",
      "text/plain": [
       "<Figure size 432x288 with 1 Axes>"
      ]
     },
     "metadata": {
      "needs_background": "light"
     },
     "output_type": "display_data"
    }
   ],
   "source": [
    "df_test['class'].value_counts().plot.bar()"
   ]
  },
  {
   "cell_type": "code",
   "execution_count": 296,
   "metadata": {},
   "outputs": [
    {
     "data": {
      "text/html": [
       "<div>\n",
       "<style scoped>\n",
       "    .dataframe tbody tr th:only-of-type {\n",
       "        vertical-align: middle;\n",
       "    }\n",
       "\n",
       "    .dataframe tbody tr th {\n",
       "        vertical-align: top;\n",
       "    }\n",
       "\n",
       "    .dataframe thead th {\n",
       "        text-align: right;\n",
       "    }\n",
       "</style>\n",
       "<table border=\"1\" class=\"dataframe\">\n",
       "  <thead>\n",
       "    <tr style=\"text-align: right;\">\n",
       "      <th></th>\n",
       "      <th>filename</th>\n",
       "      <th>class</th>\n",
       "    </tr>\n",
       "  </thead>\n",
       "  <tbody>\n",
       "    <tr>\n",
       "      <th>0</th>\n",
       "      <td>c:\\Users\\wamik\\Documents\\Notes Y4S2\\CS3244\\Pro...</td>\n",
       "      <td>0</td>\n",
       "    </tr>\n",
       "    <tr>\n",
       "      <th>1</th>\n",
       "      <td>c:\\Users\\wamik\\Documents\\Notes Y4S2\\CS3244\\Pro...</td>\n",
       "      <td>0</td>\n",
       "    </tr>\n",
       "    <tr>\n",
       "      <th>2</th>\n",
       "      <td>c:\\Users\\wamik\\Documents\\Notes Y4S2\\CS3244\\Pro...</td>\n",
       "      <td>0</td>\n",
       "    </tr>\n",
       "    <tr>\n",
       "      <th>3</th>\n",
       "      <td>c:\\Users\\wamik\\Documents\\Notes Y4S2\\CS3244\\Pro...</td>\n",
       "      <td>0</td>\n",
       "    </tr>\n",
       "    <tr>\n",
       "      <th>4</th>\n",
       "      <td>c:\\Users\\wamik\\Documents\\Notes Y4S2\\CS3244\\Pro...</td>\n",
       "      <td>0</td>\n",
       "    </tr>\n",
       "    <tr>\n",
       "      <th>...</th>\n",
       "      <td>...</td>\n",
       "      <td>...</td>\n",
       "    </tr>\n",
       "    <tr>\n",
       "      <th>14473</th>\n",
       "      <td>c:\\Users\\wamik\\Documents\\Notes Y4S2\\CS3244\\Pro...</td>\n",
       "      <td>7</td>\n",
       "    </tr>\n",
       "    <tr>\n",
       "      <th>14474</th>\n",
       "      <td>c:\\Users\\wamik\\Documents\\Notes Y4S2\\CS3244\\Pro...</td>\n",
       "      <td>7</td>\n",
       "    </tr>\n",
       "    <tr>\n",
       "      <th>14475</th>\n",
       "      <td>c:\\Users\\wamik\\Documents\\Notes Y4S2\\CS3244\\Pro...</td>\n",
       "      <td>7</td>\n",
       "    </tr>\n",
       "    <tr>\n",
       "      <th>14476</th>\n",
       "      <td>c:\\Users\\wamik\\Documents\\Notes Y4S2\\CS3244\\Pro...</td>\n",
       "      <td>7</td>\n",
       "    </tr>\n",
       "    <tr>\n",
       "      <th>14477</th>\n",
       "      <td>c:\\Users\\wamik\\Documents\\Notes Y4S2\\CS3244\\Pro...</td>\n",
       "      <td>7</td>\n",
       "    </tr>\n",
       "  </tbody>\n",
       "</table>\n",
       "<p>14478 rows × 2 columns</p>\n",
       "</div>"
      ],
      "text/plain": [
       "                                                filename  class\n",
       "0      c:\\Users\\wamik\\Documents\\Notes Y4S2\\CS3244\\Pro...      0\n",
       "1      c:\\Users\\wamik\\Documents\\Notes Y4S2\\CS3244\\Pro...      0\n",
       "2      c:\\Users\\wamik\\Documents\\Notes Y4S2\\CS3244\\Pro...      0\n",
       "3      c:\\Users\\wamik\\Documents\\Notes Y4S2\\CS3244\\Pro...      0\n",
       "4      c:\\Users\\wamik\\Documents\\Notes Y4S2\\CS3244\\Pro...      0\n",
       "...                                                  ...    ...\n",
       "14473  c:\\Users\\wamik\\Documents\\Notes Y4S2\\CS3244\\Pro...      7\n",
       "14474  c:\\Users\\wamik\\Documents\\Notes Y4S2\\CS3244\\Pro...      7\n",
       "14475  c:\\Users\\wamik\\Documents\\Notes Y4S2\\CS3244\\Pro...      7\n",
       "14476  c:\\Users\\wamik\\Documents\\Notes Y4S2\\CS3244\\Pro...      7\n",
       "14477  c:\\Users\\wamik\\Documents\\Notes Y4S2\\CS3244\\Pro...      7\n",
       "\n",
       "[14478 rows x 2 columns]"
      ]
     },
     "execution_count": 296,
     "metadata": {},
     "output_type": "execute_result"
    }
   ],
   "source": [
    "df_all_data = pd.concat([df, df_test], ignore_index=True)\n",
    "df_all_data"
   ]
  },
  {
   "cell_type": "code",
   "execution_count": 297,
   "metadata": {},
   "outputs": [],
   "source": [
    "data = []\n",
    "labels = []\n",
    "for index, path in df.iterrows():\n",
    "    image = cv2.imread(path[0])\n",
    "    image = cv2.cvtColor(image, cv2.COLOR_RGBA2GRAY)\n",
    "    image = cv2.resize(image, (64, 48), interpolation=cv2.INTER_AREA)\n",
    "    image = image/255\n",
    "    data.append(image)\n",
    "    labels.append(path[1])"
   ]
  },
  {
   "cell_type": "code",
   "execution_count": 298,
   "metadata": {},
   "outputs": [
    {
     "name": "stdout",
     "output_type": "stream",
     "text": [
      "12555\n"
     ]
    }
   ],
   "source": [
    "print(len(labels))"
   ]
  },
  {
   "cell_type": "code",
   "execution_count": 299,
   "metadata": {},
   "outputs": [],
   "source": [
    "data = np.asarray(data)\n",
    "data = data.reshape(data.shape[0], -1)\n",
    "labels = np.asarray(labels)"
   ]
  },
  {
   "cell_type": "code",
   "execution_count": 300,
   "metadata": {},
   "outputs": [],
   "source": [
    "# (X_train, X_test, Y_train, Y_test) = train_test_split(data, labels, test_size=0.5, stratify=labels, random_state=42)\n",
    "# X_train = np.asarray(X_train)\n",
    "# Y_train = np.asarray(Y_train)\n",
    "# X_test = np.asarray(X_test)\n",
    "# Y_test = np.asarray(Y_test)\n",
    "# X_train = X_train.reshape(X_train.shape[0],-1)\n",
    "# X_test = X_test.reshape(X_test.shape[0],-1)"
   ]
  },
  {
   "cell_type": "code",
   "execution_count": 301,
   "metadata": {},
   "outputs": [],
   "source": [
    "# print(X_train.shape)\n",
    "# print(Y_train.shape)"
   ]
  },
  {
   "cell_type": "code",
   "execution_count": 302,
   "metadata": {},
   "outputs": [],
   "source": [
    "# parameters_knn = {'n_neighbors':[5, 7, 10, 15], 'weights': ['uniform', 'distance'], 'p': range(1,4), 'metric': ['euclidean', 'manhattan', 'chebyshev', 'minkowski']}\n",
    "\n",
    "# scoring_metrics = [\"accuracy\", \"precision_weighted\", \"recall_weighted\", \"roc_auc_ovr_weighted\", \"f1_weighted\"]\n",
    "# clf_knn = GridSearchCV(KNeighborsClassifier(), param_grid=parameters_knn, cv=5, n_jobs=-1, scoring=scoring_metrics, refit=\"roc_auc_ovr_weighted\")\n",
    "\n",
    "# clf_knn.fit(X=data, y=labels)\n",
    "\n",
    "# print (\"The best ROC AUC for KNN:\", clf_knn.best_score_ * 100, \"%, with\", clf_knn.best_params_) "
   ]
  },
  {
   "cell_type": "code",
   "execution_count": 303,
   "metadata": {},
   "outputs": [
    {
     "name": "stdout",
     "output_type": "stream",
     "text": [
      "[0 1 2 3 4 5 6 7]\n"
     ]
    }
   ],
   "source": [
    "clf_knn = KNeighborsClassifier(n_neighbors=82, weights='distance')\n",
    "clf_knn.fit(data, labels)\n",
    "print(clf_knn.classes_)"
   ]
  },
  {
   "cell_type": "code",
   "execution_count": 304,
   "metadata": {},
   "outputs": [],
   "source": [
    "tdata = []\n",
    "tlabels = []\n",
    "for index, path in df_test.iterrows():\n",
    "    image = cv2.imread(path[0])\n",
    "    image = cv2.cvtColor(image, cv2.COLOR_RGBA2GRAY)\n",
    "    image = cv2.resize(image, (64, 48), interpolation=cv2.INTER_AREA)\n",
    "    image = image/255\n",
    "    tdata.append(image)\n",
    "    tlabels.append(path[1])"
   ]
  },
  {
   "cell_type": "code",
   "execution_count": 305,
   "metadata": {},
   "outputs": [],
   "source": [
    "tdata = np.asarray(tdata)\n",
    "tdata = tdata.reshape(tdata.shape[0], -1)\n",
    "tlabels = np.asarray(tlabels)"
   ]
  },
  {
   "cell_type": "code",
   "execution_count": 306,
   "metadata": {},
   "outputs": [
    {
     "name": "stdout",
     "output_type": "stream",
     "text": [
      "0.29901196047841916\n"
     ]
    }
   ],
   "source": [
    "# print(clf_knn.score(X_test, Y_test))\n",
    "print(clf_knn.score(tdata, tlabels))\n",
    "predictions = clf_knn.predict(tdata)"
   ]
  },
  {
   "cell_type": "code",
   "execution_count": 307,
   "metadata": {},
   "outputs": [],
   "source": [
    "tlabels_new = []\n",
    "for l in tlabels:\n",
    "    if l!=0:\n",
    "        tlabels_new.append(1)\n",
    "    else:\n",
    "        tlabels_new.append(0)\n",
    "predictions_new = []\n",
    "for pred in predictions:\n",
    "    if pred!=0:\n",
    "        predictions_new.append(1)\n",
    "    else:\n",
    "        predictions_new.append(0)"
   ]
  },
  {
   "cell_type": "code",
   "execution_count": 308,
   "metadata": {},
   "outputs": [
    {
     "name": "stdout",
     "output_type": "stream",
     "text": [
      "              precision    recall  f1-score   support\n",
      "\n",
      "           0       0.33      0.34      0.34       346\n",
      "           1       0.85      0.85      0.85      1577\n",
      "\n",
      "    accuracy                           0.76      1923\n",
      "   macro avg       0.59      0.59      0.59      1923\n",
      "weighted avg       0.76      0.76      0.76      1923\n",
      "\n"
     ]
    }
   ],
   "source": [
    "print(classification_report(tlabels_new, predictions_new))"
   ]
  },
  {
   "cell_type": "code",
   "execution_count": 309,
   "metadata": {},
   "outputs": [
    {
     "data": {
      "text/plain": [
       "<sklearn.metrics._plot.confusion_matrix.ConfusionMatrixDisplay at 0x22d600e4490>"
      ]
     },
     "execution_count": 309,
     "metadata": {},
     "output_type": "execute_result"
    },
    {
     "data": {
      "image/png": "[encoded data removed]",
      "text/plain": [
       "<Figure size 432x288 with 2 Axes>"
      ]
     },
     "metadata": {
      "needs_background": "light"
     },
     "output_type": "display_data"
    }
   ],
   "source": [
    "from sklearn.metrics import ConfusionMatrixDisplay, confusion_matrix\n",
    "\n",
    "\n",
    "cm_knn = confusion_matrix(tlabels_new, predictions_new, labels=[0, 1])\n",
    "disp = ConfusionMatrixDisplay(confusion_matrix=cm_knn,\n",
    "                               display_labels=[0, 1])  \n",
    "disp.plot()"
   ]
  },
  {
   "cell_type": "code",
   "execution_count": 310,
   "metadata": {},
   "outputs": [
    {
     "name": "stdout",
     "output_type": "stream",
     "text": [
      "              precision    recall  f1-score   support\n",
      "\n",
      "           0       0.33      0.34      0.34       346\n",
      "           1       0.35      0.39      0.37       393\n",
      "           2       0.22      0.30      0.25       364\n",
      "           3       0.43      0.35      0.38       170\n",
      "           4       0.11      0.18      0.14       143\n",
      "           5       0.68      0.69      0.68       143\n",
      "           6       0.00      0.00      0.00       146\n",
      "           7       0.10      0.05      0.06       218\n",
      "\n",
      "    accuracy                           0.30      1923\n",
      "   macro avg       0.28      0.29      0.28      1923\n",
      "weighted avg       0.28      0.30      0.29      1923\n",
      "\n"
     ]
    },
    {
     "data": {
      "text/plain": [
       "<sklearn.metrics._plot.confusion_matrix.ConfusionMatrixDisplay at 0x22d60143a00>"
      ]
     },
     "execution_count": 310,
     "metadata": {},
     "output_type": "execute_result"
    },
    {
     "data": {
      "image/png": "[encoded data removed]",
      "text/plain": [
       "<Figure size 432x288 with 2 Axes>"
      ]
     },
     "metadata": {
      "needs_background": "light"
     },
     "output_type": "display_data"
    }
   ],
   "source": [
    "print(classification_report(tlabels, predictions))\n",
    "cm_knn = confusion_matrix(tlabels, predictions, labels=clf_knn.classes_)\n",
    "disp = ConfusionMatrixDisplay(confusion_matrix=cm_knn,\n",
    "                               display_labels=clf_knn.classes_)  \n",
    "disp.plot()"
   ]
  },
  {
   "cell_type": "code",
   "execution_count": 311,
   "metadata": {},
   "outputs": [],
   "source": [
    "data_some = []\n",
    "labels_some = []\n",
    "for i in range(len(labels)):\n",
    "    if labels[i] in [0, 1, 3, 5]:\n",
    "        data_some.append(data[i])\n",
    "        labels_some.append(labels[i])\n",
    "data_some = np.asarray(data_some)\n",
    "labels_some = np.asarray(labels_some)"
   ]
  },
  {
   "cell_type": "code",
   "execution_count": 312,
   "metadata": {},
   "outputs": [
    {
     "name": "stdout",
     "output_type": "stream",
     "text": [
      "[0 1 3 5]\n"
     ]
    }
   ],
   "source": [
    "clf_knn_some = KNeighborsClassifier(n_neighbors=48, weights='distance')\n",
    "clf_knn_some.fit(data_some, labels_some)\n",
    "print(clf_knn_some.classes_)"
   ]
  },
  {
   "cell_type": "code",
   "execution_count": 313,
   "metadata": {},
   "outputs": [],
   "source": [
    "tdata_some = []\n",
    "tlabels_some = []\n",
    "for i in range(len(tlabels)):\n",
    "    if tlabels[i] in [0, 1, 3, 5]:\n",
    "        tdata_some.append(tdata[i])\n",
    "        tlabels_some.append(tlabels[i])\n",
    "tdata_some = np.asarray(tdata_some)\n",
    "tlabels_some = np.asarray(tlabels_some)"
   ]
  },
  {
   "cell_type": "code",
   "execution_count": 314,
   "metadata": {},
   "outputs": [
    {
     "name": "stdout",
     "output_type": "stream",
     "text": [
      "0.6178707224334601\n"
     ]
    }
   ],
   "source": [
    "print(clf_knn_some.score(tdata_some, tlabels_some))\n",
    "predictions_some = clf_knn_some.predict(tdata_some)"
   ]
  },
  {
   "cell_type": "code",
   "execution_count": 315,
   "metadata": {},
   "outputs": [
    {
     "name": "stdout",
     "output_type": "stream",
     "text": [
      "              precision    recall  f1-score   support\n",
      "\n",
      "           0       0.57      0.68      0.62       346\n",
      "           1       0.56      0.59      0.57       393\n",
      "           3       0.70      0.49      0.58       170\n",
      "           5       0.94      0.71      0.80       143\n",
      "\n",
      "    accuracy                           0.62      1052\n",
      "   macro avg       0.69      0.62      0.64      1052\n",
      "weighted avg       0.64      0.62      0.62      1052\n",
      "\n"
     ]
    },
    {
     "data": {
      "text/plain": [
       "<sklearn.metrics._plot.confusion_matrix.ConfusionMatrixDisplay at 0x22d5d83e520>"
      ]
     },
     "execution_count": 315,
     "metadata": {},
     "output_type": "execute_result"
    },
    {
     "data": {
      "image/png": "[encoded data removed]",
      "text/plain": [
       "<Figure size 432x288 with 2 Axes>"
      ]
     },
     "metadata": {
      "needs_background": "light"
     },
     "output_type": "display_data"
    }
   ],
   "source": [
    "print(classification_report(tlabels_some, predictions_some))\n",
    "cm_knn = confusion_matrix(tlabels_some, predictions_some, labels=clf_knn_some.classes_)\n",
    "disp = ConfusionMatrixDisplay(confusion_matrix=cm_knn,\n",
    "                               display_labels=clf_knn_some.classes_)  \n",
    "disp.plot()"
   ]
  },
  {
   "cell_type": "code",
   "execution_count": 347,
   "metadata": {},
   "outputs": [],
   "source": [
    "data_rest = []\n",
    "labels_rest = []\n",
    "for i in range(len(labels)):\n",
    "    if labels[i] in [6, 7]:\n",
    "        data_rest.append(data[i])\n",
    "        labels_rest.append(labels[i])\n",
    "data_rest = np.asarray(data_rest)\n",
    "labels_rest = np.asarray(labels_rest)\n",
    "\n",
    "data_last = []\n",
    "labels_last = []\n",
    "for i in range(len(labels)):\n",
    "    if labels[i] in [0, 4]:\n",
    "        data_last.append(data[i])\n",
    "        labels_last.append(labels[i])\n",
    "data_last = np.asarray(data_last)\n",
    "labels_last = np.asarray(labels_last)\n",
    "\n",
    "data_2 = []\n",
    "labels_2 = []\n",
    "for i in range(len(labels)):\n",
    "    if labels[i] in [0, 2]:\n",
    "        data_2.append(data[i])\n",
    "        labels_2.append(labels[i])\n",
    "data_2 = np.asarray(data_2)\n",
    "labels_2 = np.asarray(labels_2)"
   ]
  },
  {
   "cell_type": "code",
   "execution_count": 417,
   "metadata": {},
   "outputs": [
    {
     "name": "stdout",
     "output_type": "stream",
     "text": [
      "[6 7]\n",
      "[0 4]\n",
      "[0 2]\n"
     ]
    }
   ],
   "source": [
    "clf_knn_rest = KNeighborsClassifier(n_neighbors=8)\n",
    "clf_knn_rest.fit(data_rest, labels_rest)\n",
    "print(clf_knn_rest.classes_)\n",
    "clf_knn_last = KNeighborsClassifier(n_neighbors=61, weights='distance')\n",
    "clf_knn_last.fit(data_last, labels_last)\n",
    "print(clf_knn_last.classes_)\n",
    "clf_knn_2 = KNeighborsClassifier(n_neighbors=30, weights='distance')\n",
    "clf_knn_2.fit(data_2, labels_2)\n",
    "print(clf_knn_2.classes_)"
   ]
  },
  {
   "cell_type": "code",
   "execution_count": 418,
   "metadata": {},
   "outputs": [],
   "source": [
    "tdata_rest = []\n",
    "tlabels_rest = []\n",
    "for i in range(len(tlabels)):\n",
    "    if tlabels[i] in [6, 7]:\n",
    "        tdata_rest.append(tdata[i])\n",
    "        tlabels_rest.append(tlabels[i])\n",
    "tdata_rest = np.asarray(tdata_rest)\n",
    "tlabels_rest = np.asarray(tlabels_rest)\n",
    "\n",
    "tdata_last = []\n",
    "tlabels_last = []\n",
    "for i in range(len(tlabels)):\n",
    "    if tlabels[i] in [0, 4]:\n",
    "        tdata_last.append(tdata[i])\n",
    "        tlabels_last.append(tlabels[i])\n",
    "tdata_last = np.asarray(tdata_last)\n",
    "tlabels_last = np.asarray(tlabels_last)\n",
    "\n",
    "tdata_2 = []\n",
    "tlabels_2 = []\n",
    "for i in range(len(tlabels)):\n",
    "    if tlabels[i] in [0, 2]:\n",
    "        tdata_2.append(tdata[i])\n",
    "        tlabels_2.append(tlabels[i])\n",
    "tdata_2 = np.asarray(tdata_2)\n",
    "tlabels_2 = np.asarray(tlabels_2)"
   ]
  },
  {
   "cell_type": "code",
   "execution_count": 419,
   "metadata": {},
   "outputs": [
    {
     "name": "stdout",
     "output_type": "stream",
     "text": [
      "0.5521978021978022\n",
      "0.5685071574642127\n",
      "0.5084507042253521\n"
     ]
    }
   ],
   "source": [
    "print(clf_knn_rest.score(tdata_rest, tlabels_rest))\n",
    "predictions_rest = clf_knn_rest.predict(tdata_rest)\n",
    "\n",
    "print(clf_knn_last.score(tdata_last, tlabels_last))\n",
    "predictions_last = clf_knn_last.predict(tdata_last)\n",
    "\n",
    "print(clf_knn_2.score(tdata_2, tlabels_2))\n",
    "predictions_2 = clf_knn_2.predict(tdata_2)"
   ]
  },
  {
   "cell_type": "code",
   "execution_count": 420,
   "metadata": {},
   "outputs": [
    {
     "name": "stdout",
     "output_type": "stream",
     "text": [
      "              precision    recall  f1-score   support\n",
      "\n",
      "           6       0.46      0.62      0.52       146\n",
      "           7       0.66      0.51      0.58       218\n",
      "\n",
      "    accuracy                           0.55       364\n",
      "   macro avg       0.56      0.56      0.55       364\n",
      "weighted avg       0.58      0.55      0.56       364\n",
      "\n",
      "              precision    recall  f1-score   support\n",
      "\n",
      "           0       0.76      0.58      0.65       346\n",
      "           4       0.35      0.55      0.43       143\n",
      "\n",
      "    accuracy                           0.57       489\n",
      "   macro avg       0.55      0.56      0.54       489\n",
      "weighted avg       0.64      0.57      0.59       489\n",
      "\n",
      "              precision    recall  f1-score   support\n",
      "\n",
      "           0       0.50      0.50      0.50       346\n",
      "           2       0.52      0.51      0.52       364\n",
      "\n",
      "    accuracy                           0.51       710\n",
      "   macro avg       0.51      0.51      0.51       710\n",
      "weighted avg       0.51      0.51      0.51       710\n",
      "\n"
     ]
    },
    {
     "data": {
      "text/plain": [
       "<sklearn.metrics._plot.confusion_matrix.ConfusionMatrixDisplay at 0x22d45ac7790>"
      ]
     },
     "execution_count": 420,
     "metadata": {},
     "output_type": "execute_result"
    },
    {
     "data": {
      "image/png": "[encoded data removed]",
      "text/plain": [
       "<Figure size 432x288 with 2 Axes>"
      ]
     },
     "metadata": {
      "needs_background": "light"
     },
     "output_type": "display_data"
    },
    {
     "data": {
      "image/png": "[encoded data removed]",
      "text/plain": [
       "<Figure size 432x288 with 2 Axes>"
      ]
     },
     "metadata": {
      "needs_background": "light"
     },
     "output_type": "display_data"
    },
    {
     "data": {
      "image/png": "[encoded data removed]",
      "text/plain": [
       "<Figure size 432x288 with 2 Axes>"
      ]
     },
     "metadata": {
      "needs_background": "light"
     },
     "output_type": "display_data"
    }
   ],
   "source": [
    "print(classification_report(tlabels_rest, predictions_rest))\n",
    "cm_knn = confusion_matrix(tlabels_rest, predictions_rest, labels=clf_knn_rest.classes_)\n",
    "disp = ConfusionMatrixDisplay(confusion_matrix=cm_knn,\n",
    "                               display_labels=clf_knn_rest.classes_)  \n",
    "disp.plot()\n",
    "\n",
    "print(classification_report(tlabels_last, predictions_last))\n",
    "cm_knn = confusion_matrix(tlabels_last, predictions_last, labels=clf_knn_last.classes_)\n",
    "disp = ConfusionMatrixDisplay(confusion_matrix=cm_knn,\n",
    "                               display_labels=clf_knn_last.classes_)  \n",
    "disp.plot()\n",
    "\n",
    "print(classification_report(tlabels_2, predictions_2))\n",
    "cm_knn = confusion_matrix(tlabels_2, predictions_2, labels=clf_knn_2.classes_)\n",
    "disp = ConfusionMatrixDisplay(confusion_matrix=cm_knn,\n",
    "                               display_labels=clf_knn_2.classes_)  \n",
    "disp.plot()"
   ]
  }
 ],
 "metadata": {
  "kernelspec": {
   "display_name": "ml",
   "language": "python",
   "name": "python3"
  },
  "language_info": {
   "codemirror_mode": {
    "name": "ipython",
    "version": 3
   },
   "file_extension": ".py",
   "mimetype": "text/x-python",
   "name": "python",
   "nbconvert_exporter": "python",
   "pygments_lexer": "ipython3",
   "version": "3.9.12"
  },
  "orig_nbformat": 4
 },
 "nbformat": 4,
 "nbformat_minor": 2
}
