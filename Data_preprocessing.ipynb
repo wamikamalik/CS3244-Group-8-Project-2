{
 "cells": [
  {
   "attachments": {},
   "cell_type": "markdown",
   "metadata": {},
   "source": [
    "This file should be run only once, which is used to create a combined dataset for the models. If you run 2 times or above, the number of images in the final dataset will be different from the original and there will be some noisy datas. Steps before running this file:\n",
    "- STEP 1: Download the original dataset and only pick 3 folders in v2_cam1_cam2_split_by_driver folder, which is the version 2 of the dataset. Copy that 3 folders (Camera1, Camera 2, skin_nonskin_pixels).\n",
    "- STEP 2: Create a folder named \"Distracted Driver Dataset\" (Case-sensitive and spaces in between) and paste the 3 folders above into Distracted Driver Dataset folder.\n",
    "- STEP 3: Open this file and run it once. DO NOT RUN IT AGAIN.\n",
    "\n",
    "NOTE: \n",
    "- If your accidentally run twice or messed up the combined dataset, please delete the Combined folder and rerun this file.\n",
    "- DO NOT EDIT ANY FOLDER/FILE in the original dataset\n",
    "- This process cannot be done manually by copy files and paste in the new folders since there are some duplicates of images' name which leads to missing some images during the process. "
   ]
  },
  {
   "cell_type": "code",
   "execution_count": 24,
   "metadata": {},
   "outputs": [],
   "source": [
    "import os\n",
    "import shutil"
   ]
  },
  {
   "cell_type": "code",
   "execution_count": 25,
   "metadata": {},
   "outputs": [],
   "source": [
    "CAM1 = os.path.join(os.getcwd(),\"Distracted Driver Dataset\",\"Camera 1\")\n",
    "CAM2 = os.path.join(os.getcwd(),\"Distracted Driver Dataset\",\"Camera 2\")\n",
    "CAM1_TEST = os.path.join(CAM1, \"test\")\n",
    "CAM2_TEST = os.path.join(CAM2, \"test\")\n",
    "CAM1_TRAIN = os.path.join(CAM1, \"train\")\n",
    "CAM2_TRAIN = os.path.join(CAM2, \"train\")\n",
    "COMBINED_DIR = os.path.join(os.getcwd(),\"Distracted Driver Dataset\",\"Combined\")\n",
    "COMBINED_TEST = os.path.join(COMBINED_DIR, \"test\")\n",
    "COMBINED_TRAIN = os.path.join(COMBINED_DIR, \"train\")"
   ]
  },
  {
   "cell_type": "code",
   "execution_count": 26,
   "metadata": {},
   "outputs": [],
   "source": [
    "CLASS = [\"c0\",\"c1\",\"c2\",\"c3\",\"c4\",\"c5\",\"c6\",\"c7\",\"c8\",\"c9\"]\n",
    "CAM1_TEST_CLS = [os.path.join(CAM1_TEST, cls) for cls in CLASS]\n",
    "CAM2_TEST_CLS = [os.path.join(CAM2_TEST, cls) for cls in CLASS]\n",
    "CAM1_TRAIN_CLS = [os.path.join(CAM1_TRAIN, cls) for cls in CLASS]\n",
    "CAM2_TRAIN_CLS = [os.path.join(CAM2_TRAIN, cls) for cls in CLASS]\n",
    "COMBINED_TEST_CLS = [os.path.join(COMBINED_TEST, cls) for cls in CLASS]\n",
    "COMBINED_TRAIN_CLS = [os.path.join(COMBINED_TRAIN, cls) for cls in CLASS]\n"
   ]
  },
  {
   "attachments": {},
   "cell_type": "markdown",
   "metadata": {},
   "source": [
    "#### Check if datasets exist"
   ]
  },
  {
   "cell_type": "code",
   "execution_count": 27,
   "metadata": {},
   "outputs": [],
   "source": [
    "if not os.path.exists(CAM1_TEST):\n",
    "  print(\"Test folder for Camera 1 does not exist\")\n",
    "if not os.path.exists(CAM2_TEST):\n",
    "  print(\"Test folder for Camera 2 does not exist\")\n",
    "if not os.path.exists(CAM1_TRAIN):\n",
    "  print(\"Train folder for Camera 1 does not exist\")\n",
    "if not os.path.exists(CAM2_TRAIN):\n",
    "  print(\"Train folder for Camera 2 does not exist\")\n",
    "for cls in range(10):\n",
    "  if not os.path.exists(CAM1_TEST_CLS[cls]):\n",
    "    print(\"Test folder for Camera 1 class {} does not exist\".format(cls))\n",
    "  if not os.path.exists(CAM2_TEST_CLS[cls]):\n",
    "    print(\"Test folder for Camera 2 class {} does not exist\".format(cls))\n",
    "  if not os.path.exists(CAM1_TRAIN_CLS[cls]):\n",
    "    print(\"Train folder for Camera 1 class {} does not exist\".format(cls))\n",
    "  if not os.path.exists(CAM2_TRAIN_CLS[cls]):\n",
    "    print(\"Train folder for Camera 2 class {} does not exist\".format(cls))"
   ]
  },
  {
   "attachments": {},
   "cell_type": "markdown",
   "metadata": {},
   "source": [
    "#### Combine dataset\n",
    "\n",
    "The original dataset is divided into 2 folders for camera 1 and 2, in the following code, we would combine the test and train folders of camera 1 and camera 2 into one folder COMBINED dataset. Moreover, we also combine class c1 (Text Right) with c3 (Text Left) and c2 (Phone Right) with c4 (Phone Left).\n"
   ]
  },
  {
   "attachments": {},
   "cell_type": "markdown",
   "metadata": {},
   "source": [
    "The new order of dataset is:\n",
    "- c0: Safe driving\n",
    "- c1: Text\n",
    "- c2: Phone\n",
    "- c3: Adjusting Radio\n",
    "- c4: Drinking\n",
    "- c5: Reaching Behind\n",
    "- c6: Hair or Makeup\n",
    "- c7: Talking to Passenger"
   ]
  },
  {
   "cell_type": "code",
   "execution_count": 28,
   "metadata": {},
   "outputs": [
    {
     "name": "stdout",
     "output_type": "stream",
     "text": [
      "Creating Combined dataset folder\n",
      "Creating Combined test folder\n",
      "Creating Combined test folder\n"
     ]
    }
   ],
   "source": [
    "if not os.path.exists(COMBINED_DIR):\n",
    "  os.mkdir(COMBINED_DIR)\n",
    "  print(\"Creating Combined dataset folder\")\n",
    "if not os.path.exists(COMBINED_TEST):\n",
    "  os.mkdir(COMBINED_TEST)\n",
    "  print(\"Creating Combined test folder\")\n",
    "if not os.path.exists(COMBINED_TRAIN):\n",
    "  os.mkdir(COMBINED_TRAIN)\n",
    "  print(\"Creating Combined test folder\")"
   ]
  },
  {
   "attachments": {},
   "cell_type": "markdown",
   "metadata": {},
   "source": [
    "#### Combine camera 1 and 2 test/train sets"
   ]
  },
  {
   "attachments": {},
   "cell_type": "markdown",
   "metadata": {},
   "source": [
    "Since in the dataset of cam 1 and 2, there are some files that have the same name, resulting in loosing quite a lot of images (~2000). Therefore, during this process, we also need to rename the images before putting it in to the combined folders."
   ]
  },
  {
   "cell_type": "code",
   "execution_count": 29,
   "metadata": {},
   "outputs": [
    {
     "name": "stdout",
     "output_type": "stream",
     "text": [
      "Creating Combined test folder for class 0\n",
      "Creating Combined train folder for class 0\n",
      "Creating Combined test folder for class 1\n",
      "Creating Combined train folder for class 1\n",
      "Creating Combined test folder for class 2\n",
      "Creating Combined train folder for class 2\n",
      "Creating Combined test folder for class 3\n",
      "Creating Combined train folder for class 3\n",
      "Creating Combined test folder for class 4\n",
      "Creating Combined train folder for class 4\n",
      "Creating Combined test folder for class 5\n",
      "Creating Combined train folder for class 5\n",
      "Creating Combined test folder for class 6\n",
      "Creating Combined train folder for class 6\n",
      "Creating Combined test folder for class 7\n",
      "Creating Combined train folder for class 7\n",
      "Creating Combined test folder for class 8\n",
      "Creating Combined train folder for class 8\n",
      "Creating Combined test folder for class 9\n",
      "Creating Combined train folder for class 9\n"
     ]
    }
   ],
   "source": [
    "test_dirs  = [CAM1_TEST_CLS, CAM2_TEST_CLS]\n",
    "train_dirs = [CAM1_TRAIN_CLS, CAM2_TRAIN_CLS]\n",
    "\n",
    "for i in range(2):\n",
    "  for cls in range(10):\n",
    "    if not os.path.exists(COMBINED_TEST_CLS[cls]):\n",
    "      os.mkdir(COMBINED_TEST_CLS[cls])\n",
    "      print(\"Creating Combined test folder for class {}\".format(cls))\n",
    "    for test_image in os.listdir(test_dirs[i][cls]):\n",
    "      new_name = str(i) + str(cls) + test_image\n",
    "      old_test_image_path = os.path.join(test_dirs[i][cls], test_image)\n",
    "      new_test_image_path = os.path.join(test_dirs[i][cls], new_name)\n",
    "      destination_path = os.path.join(COMBINED_TEST_CLS[cls], new_name)\n",
    "      shutil.copy(old_test_image_path, destination_path)\n",
    "\n",
    "    if not os.path.exists(COMBINED_TRAIN_CLS[cls]):\n",
    "      os.mkdir(COMBINED_TRAIN_CLS[cls])\n",
    "      print(\"Creating Combined train folder for class {}\".format(cls))\n",
    "    for train_image in os.listdir(train_dirs[i][cls]):\n",
    "      new_name = str(i) + str(cls) + train_image\n",
    "      old_train_image_path = os.path.join(train_dirs[i][cls], train_image)\n",
    "      new_train_image_path = os.path.join(train_dirs[i][cls], new_name)\n",
    "      destination_path = os.path.join(COMBINED_TRAIN_CLS[cls], new_name)\n",
    "      shutil.copy(old_train_image_path, destination_path)"
   ]
  },
  {
   "attachments": {},
   "cell_type": "markdown",
   "metadata": {},
   "source": [
    "#### Combine class c1 (Text Right) with c3 (Text Left) and c2 (Phone Right) with c4 (Phone Left) on Combined dataset"
   ]
  },
  {
   "cell_type": "code",
   "execution_count": 30,
   "metadata": {},
   "outputs": [],
   "source": [
    "combined_dirs = [COMBINED_TEST_CLS, COMBINED_TRAIN_CLS] \n",
    "for combined_dir in combined_dirs: \n",
    "  for image in os.listdir(combined_dir[3]):\n",
    "    image_path = os.path.join(combined_dir[3], image)\n",
    "    destination_path = os.path.join(combined_dir[1], image)\n",
    "    shutil.copy(image_path, destination_path)\n",
    "  shutil.rmtree(combined_dir[3])\n",
    "  \n",
    "  for image in os.listdir(combined_dir[4]):\n",
    "    image_path = os.path.join(combined_dir[4], image)\n",
    "    destination_path = os.path.join(combined_dir[2], image)\n",
    "    shutil.copy(image_path, destination_path)\n",
    "  shutil.rmtree(combined_dir[4])"
   ]
  },
  {
   "attachments": {},
   "cell_type": "markdown",
   "metadata": {},
   "source": [
    "#### Relabeling the class from c5 to c9 "
   ]
  },
  {
   "cell_type": "code",
   "execution_count": 31,
   "metadata": {},
   "outputs": [],
   "source": [
    "if len(COMBINED_TEST_CLS) == 10 and len(COMBINED_TRAIN_CLS) == 10:\n",
    "  for cls in range(5,10):\n",
    "    NEW_COMBINED_TEST_CLS = os.path.join(COMBINED_TEST, \"c{}\".format(cls-2))\n",
    "    NEW_COMBINED_TRAIN_CLS = os.path.join(COMBINED_TRAIN, \"c{}\".format(cls-2))\n",
    "    if os.path.exists(COMBINED_TEST_CLS[cls]):\n",
    "      os.rename(COMBINED_TEST_CLS[cls], NEW_COMBINED_TEST_CLS)\n",
    "    if os.path.exists(COMBINED_TRAIN_CLS[cls]):\n",
    "      os.rename(COMBINED_TRAIN_CLS[cls], NEW_COMBINED_TRAIN_CLS)\n",
    "  COMBINED_TEST_CLS.remove(os.path.join(COMBINED_TEST, \"c8\"))\n",
    "  COMBINED_TEST_CLS.remove(os.path.join(COMBINED_TEST, \"c9\"))\n",
    "  COMBINED_TRAIN_CLS.remove(os.path.join(COMBINED_TRAIN, \"c8\"))\n",
    "  COMBINED_TRAIN_CLS.remove(os.path.join(COMBINED_TRAIN, \"c9\"))"
   ]
  },
  {
   "attachments": {},
   "cell_type": "markdown",
   "metadata": {},
   "source": [
    "#### Count the number of images in each class in train set "
   ]
  },
  {
   "cell_type": "code",
   "execution_count": 32,
   "metadata": {},
   "outputs": [],
   "source": [
    "NEW_CLASS = [[\"c0\", \"Safe Driving\"], [\"c1\", \"Text\"], [\"c2\", \"Phone\"], \n",
    "         [\"c3\", \"Adjusting Radio\"], [\"c4\", \"Drinking\"], \n",
    "         [\"c5\", \"Reaching Behind\"], [\"c6\", \"Hair or Makeup\"], \n",
    "         [\"c7\", \"Talking to Passenger\"]]"
   ]
  },
  {
   "cell_type": "code",
   "execution_count": 33,
   "metadata": {},
   "outputs": [
    {
     "name": "stdout",
     "output_type": "stream",
     "text": [
      "Total number of images in the original dataset: 14478\n",
      "Total number of images in the new dataset: 14478\n",
      "--> The number of two datasets are equal\n"
     ]
    }
   ],
   "source": [
    "total_images_ori = 0\n",
    "for cls in range(10):\n",
    "  total_images_ori += len(os.listdir(CAM1_TEST_CLS[cls]))\n",
    "  total_images_ori += len(os.listdir(CAM2_TEST_CLS[cls]))\n",
    "  total_images_ori += len(os.listdir(CAM1_TRAIN_CLS[cls]))\n",
    "  total_images_ori += len(os.listdir(CAM2_TRAIN_CLS[cls]))\n",
    "print(\"Total number of images in the original dataset: {}\".format(total_images_ori))\n",
    "\n",
    "total_images_new = 0\n",
    "for cls in range(8):\n",
    "  total_images_new += len(os.listdir(COMBINED_TEST_CLS[cls]))\n",
    "  total_images_new += len(os.listdir(COMBINED_TRAIN_CLS[cls]))\n",
    "print(\"Total number of images in the new dataset: {}\".format(total_images_new))\n",
    "if (total_images_ori == total_images_new):\n",
    "  print(\"--> The number of two datasets are equal\")\n",
    "else:\n",
    "  print(\"--> The number of two datasets are not equal\")"
   ]
  },
  {
   "cell_type": "code",
   "execution_count": 35,
   "metadata": {},
   "outputs": [
    {
     "name": "stdout",
     "output_type": "stream",
     "text": [
      "Number of test images in class c0(Safe Driving) is 346\n",
      "Number of test images in class c1(Text) is 393\n",
      "Number of test images in class c2(Phone) is 364\n",
      "Number of test images in class c3(Adjusting Radio) is 170\n",
      "Number of test images in class c4(Drinking) is 143\n",
      "Number of test images in class c5(Reaching Behind) is 143\n",
      "Number of test images in class c6(Hair or Makeup) is 146\n",
      "Number of test images in class c7(Talking to Passenger) is 218\n",
      "The total number of test images is 1923\n",
      "================================================================\n",
      "Number of train images in class c0(Safe Driving) is 2640\n",
      "Number of train images in class c1(Text) is 2449\n",
      "Number of train images in class c2(Phone) is 2212\n",
      "Number of train images in class c3(Adjusting Radio) is 953\n",
      "Number of train images in class c4(Drinking) is 933\n",
      "Number of train images in class c5(Reaching Behind) is 891\n",
      "Number of train images in class c6(Hair or Makeup) is 898\n",
      "Number of train images in class c7(Talking to Passenger) is 1579\n",
      "The total number of train images is 12555\n",
      "================================================================\n"
     ]
    }
   ],
   "source": [
    "total_test = 0\n",
    "for cls in range(8):\n",
    "  num_images = len(os.listdir(COMBINED_TEST_CLS[cls]))\n",
    "  total_test += num_images\n",
    "  print(\"Number of test images in class {}({}) is {}\".format(NEW_CLASS[cls][0], NEW_CLASS[cls][1], num_images))\n",
    "print(\"The total number of test images is {}\".format(total_test))\n",
    "print(\"================================================================\")\n",
    "\n",
    "total_train = 0\n",
    "for cls in range(8):\n",
    "  num_images = len(os.listdir(COMBINED_TRAIN_CLS[cls]))\n",
    "  total_train += num_images\n",
    "  print(\"Number of train images in class {}({}) is {}\".format(NEW_CLASS[cls][0], NEW_CLASS[cls][1], num_images))\n",
    "print(\"The total number of train images is {}\".format(total_train))\n",
    "print(\"================================================================\")"
   ]
  },
  {
   "attachments": {},
   "cell_type": "markdown",
   "metadata": {},
   "source": [
    "As we can see, this dataset is not balance."
   ]
  }
 ],
 "metadata": {
  "kernelspec": {
   "display_name": "homl3",
   "language": "python",
   "name": "python3"
  },
  "language_info": {
   "codemirror_mode": {
    "name": "ipython",
    "version": 3
   },
   "file_extension": ".py",
   "mimetype": "text/x-python",
   "name": "python",
   "nbconvert_exporter": "python",
   "pygments_lexer": "ipython3",
   "version": "3.9.15"
  },
  "orig_nbformat": 4
 },
 "nbformat": 4,
 "nbformat_minor": 2
}
