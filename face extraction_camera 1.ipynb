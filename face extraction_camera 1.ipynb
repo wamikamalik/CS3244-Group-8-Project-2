{
 "cells": [
  {
   "attachments": {},
   "cell_type": "markdown",
   "metadata": {},
   "source": [
    "# Extracting and Classifying Face Images\n",
    "\n",
    "https://dev.to/azure/opencv-detect-and-blur-faces-using-dnn-40ab\n",
    "\n",
    "https://towardsdatascience.com/face-detection-models-which-to-use-and-why-d263e82c302c\n"
   ]
  },
  {
   "cell_type": "code",
   "execution_count": 1,
   "metadata": {},
   "outputs": [
    {
     "name": "stderr",
     "output_type": "stream",
     "text": [
      "c:\\Users\\wamik\\miniconda3\\lib\\site-packages\\numpy\\_distributor_init.py:30: UserWarning: loaded more than 1 DLL from .libs:\n",
      "c:\\Users\\wamik\\miniconda3\\lib\\site-packages\\numpy\\.libs\\libopenblas.EL2C6PLE4ZYW3ECEVIV3OXXGRN2NRFM2.gfortran-win_amd64.dll\n",
      "c:\\Users\\wamik\\miniconda3\\lib\\site-packages\\numpy\\.libs\\libopenblas.FB5AE2TYXYH2IJRDKGDGQ3XBKLKTF43H.gfortran-win_amd64.dll\n",
      "  warnings.warn(\"loaded more than 1 DLL from .libs:\"\n"
     ]
    },
    {
     "data": {
      "text/plain": [
       "True"
      ]
     },
     "execution_count": 1,
     "metadata": {},
     "output_type": "execute_result"
    }
   ],
   "source": [
    "import os\n",
    "import cv2\n",
    "import numpy as np\n",
    "import pandas as pd\n",
    "import matplotlib.pyplot as plt\n",
    "from matplotlib import image\n",
    "from sklearn.metrics import classification_report, get_scorer_names\n",
    "from sklearn.model_selection import train_test_split\n",
    "from sklearn.model_selection import GridSearchCV\n",
    "from mtcnn.mtcnn import MTCNN\n",
    "from PIL import Image\n",
    "from sklearn import metrics\n",
    "import seaborn as sns\n",
    "\n",
    "# We import the data set from tensorflow and build the model there\n",
    "import tensorflow as tf\n",
    "from tensorflow.keras import layers, models\n",
    "from keras.utils import np_utils\n",
    "import keras\n",
    "from tensorflow.keras.preprocessing.image import ImageDataGenerator\n",
    "\n",
    "# Import the inception model  \n",
    "from tensorflow.keras.applications.inception_v3 import InceptionV3\n",
    "\n",
    "import torch\n",
    "# If you do not have a GPU or do not want to run this code on your GPU, comment out the following lines\n",
    "torch.cuda.empty_cache()\n",
    "torch.cuda.is_available()"
   ]
  },
  {
   "cell_type": "markdown",
   "metadata": {},
   "source": [
    "## Extracting the Data\n",
    "\n",
    "The images stored in the combined dataset are extracted into separate train and test set paths.\n",
    "\n",
    "NOTE: Before running this file, please unzip the Distacted Driver Dataset that contains the combined dataset."
   ]
  },
  {
   "cell_type": "code",
   "execution_count": 2,
   "metadata": {},
   "outputs": [
    {
     "name": "stdout",
     "output_type": "stream",
     "text": [
      "c:\\Users\\wamik\\Documents\\Notes Y4S2\\CS3244\\Projects\\Project 2\\CS3244-Group-8-Project-2\\Distracted Driver Dataset\\Camera 1\\test\\c0\n",
      "266\n",
      "c:\\Users\\wamik\\Documents\\Notes Y4S2\\CS3244\\Projects\\Project 2\\CS3244-Group-8-Project-2\\Distracted Driver Dataset\\Camera 1\\test\\c1\n",
      "133\n",
      "c:\\Users\\wamik\\Documents\\Notes Y4S2\\CS3244\\Projects\\Project 2\\CS3244-Group-8-Project-2\\Distracted Driver Dataset\\Camera 1\\test\\c2\n",
      "114\n",
      "c:\\Users\\wamik\\Documents\\Notes Y4S2\\CS3244\\Projects\\Project 2\\CS3244-Group-8-Project-2\\Distracted Driver Dataset\\Camera 1\\test\\c3\n",
      "100\n",
      "c:\\Users\\wamik\\Documents\\Notes Y4S2\\CS3244\\Projects\\Project 2\\CS3244-Group-8-Project-2\\Distracted Driver Dataset\\Camera 1\\test\\c4\n",
      "90\n",
      "c:\\Users\\wamik\\Documents\\Notes Y4S2\\CS3244\\Projects\\Project 2\\CS3244-Group-8-Project-2\\Distracted Driver Dataset\\Camera 1\\test\\c5\n",
      "90\n",
      "c:\\Users\\wamik\\Documents\\Notes Y4S2\\CS3244\\Projects\\Project 2\\CS3244-Group-8-Project-2\\Distracted Driver Dataset\\Camera 1\\test\\c6\n",
      "63\n",
      "c:\\Users\\wamik\\Documents\\Notes Y4S2\\CS3244\\Projects\\Project 2\\CS3244-Group-8-Project-2\\Distracted Driver Dataset\\Camera 1\\test\\c7\n",
      "63\n",
      "c:\\Users\\wamik\\Documents\\Notes Y4S2\\CS3244\\Projects\\Project 2\\CS3244-Group-8-Project-2\\Distracted Driver Dataset\\Camera 1\\test\\c8\n",
      "66\n",
      "c:\\Users\\wamik\\Documents\\Notes Y4S2\\CS3244\\Projects\\Project 2\\CS3244-Group-8-Project-2\\Distracted Driver Dataset\\Camera 1\\test\\c9\n",
      "138\n",
      "c:\\Users\\wamik\\Documents\\Notes Y4S2\\CS3244\\Projects\\Project 2\\CS3244-Group-8-Project-2\\Distracted Driver Dataset\\Camera 1\\train\\c0\n",
      "2440\n",
      "c:\\Users\\wamik\\Documents\\Notes Y4S2\\CS3244\\Projects\\Project 2\\CS3244-Group-8-Project-2\\Distracted Driver Dataset\\Camera 1\\train\\c1\n",
      "1305\n",
      "c:\\Users\\wamik\\Documents\\Notes Y4S2\\CS3244\\Projects\\Project 2\\CS3244-Group-8-Project-2\\Distracted Driver Dataset\\Camera 1\\train\\c2\n",
      "862\n",
      "c:\\Users\\wamik\\Documents\\Notes Y4S2\\CS3244\\Projects\\Project 2\\CS3244-Group-8-Project-2\\Distracted Driver Dataset\\Camera 1\\train\\c3\n",
      "744\n",
      "c:\\Users\\wamik\\Documents\\Notes Y4S2\\CS3244\\Projects\\Project 2\\CS3244-Group-8-Project-2\\Distracted Driver Dataset\\Camera 1\\train\\c4\n",
      "950\n",
      "c:\\Users\\wamik\\Documents\\Notes Y4S2\\CS3244\\Projects\\Project 2\\CS3244-Group-8-Project-2\\Distracted Driver Dataset\\Camera 1\\train\\c5\n",
      "753\n",
      "c:\\Users\\wamik\\Documents\\Notes Y4S2\\CS3244\\Projects\\Project 2\\CS3244-Group-8-Project-2\\Distracted Driver Dataset\\Camera 1\\train\\c6\n",
      "733\n",
      "c:\\Users\\wamik\\Documents\\Notes Y4S2\\CS3244\\Projects\\Project 2\\CS3244-Group-8-Project-2\\Distracted Driver Dataset\\Camera 1\\train\\c7\n",
      "691\n",
      "c:\\Users\\wamik\\Documents\\Notes Y4S2\\CS3244\\Projects\\Project 2\\CS3244-Group-8-Project-2\\Distracted Driver Dataset\\Camera 1\\train\\c8\n",
      "698\n",
      "c:\\Users\\wamik\\Documents\\Notes Y4S2\\CS3244\\Projects\\Project 2\\CS3244-Group-8-Project-2\\Distracted Driver Dataset\\Camera 1\\train\\c9\n",
      "1379\n"
     ]
    }
   ],
   "source": [
    "CLASS = [[\"c0\", \"Safe Driving\"], [\"c1\", \"Text Right\"], [\"c2\", \"Phone Right\"], [\"c3\", \"Text Left\"], [\"c4\", \"Phone Left\"], \n",
    "         [\"c5\", \"Adjusting Radio\"], [\"c6\", \"Drinking\"], \n",
    "         [\"c7\", \"Reaching Behind\"], [\"c8\", \"Hair or Makeup\"], \n",
    "         [\"c9\", \"Talking to Passenger\"]]\n",
    "TEST_CLS = [os.path.join(os.getcwd(), \"Distracted Driver Dataset\", \"Camera 1\", \"test\", cls[0]) for cls in CLASS]\n",
    "TRAIN_CLS = [os.path.join(os.getcwd(), \"Distracted Driver Dataset\", \"Camera 1\", \"train\", cls[0]) for cls in CLASS]\n",
    "for cls_path in TEST_CLS:\n",
    "  print(cls_path)\n",
    "  print(len(os.listdir(cls_path)))\n",
    "for cls_path in TRAIN_CLS:\n",
    "  print(cls_path)\n",
    "  print(len(os.listdir(cls_path)))"
   ]
  },
  {
   "cell_type": "markdown",
   "metadata": {},
   "source": [
    "For each class, the path of the training and test data is stored in separate lists. The corresponding labels are also stored in a different list"
   ]
  },
  {
   "cell_type": "code",
   "execution_count": 3,
   "metadata": {},
   "outputs": [],
   "source": [
    "train_paths = []\n",
    "test_paths = []\n",
    "for cls in range(10):\n",
    "  for train_instance in os.listdir(TRAIN_CLS[cls]):\n",
    "    train_paths.append(os.path.join(TRAIN_CLS[cls], train_instance))\n",
    "  for test_instance in os.listdir(TEST_CLS[cls]):\n",
    "    test_paths.append(os.path.join(TEST_CLS[cls], test_instance))"
   ]
  },
  {
   "cell_type": "code",
   "execution_count": 4,
   "metadata": {},
   "outputs": [],
   "source": [
    "classes = []\n",
    "test_classes = []\n",
    "for cls in range(10):\n",
    "  for train_instance in os.listdir(TRAIN_CLS[cls]):\n",
    "    classes.append(cls)\n",
    "  for test_instance in os.listdir(TEST_CLS[cls]):\n",
    "    test_classes.append(cls)"
   ]
  },
  {
   "cell_type": "markdown",
   "metadata": {},
   "source": [
    "Then separate dataframes storing the train and test paths with their corresponding labels are created."
   ]
  },
  {
   "cell_type": "code",
   "execution_count": 5,
   "metadata": {},
   "outputs": [
    {
     "data": {
      "text/html": [
       "<div>\n",
       "<style scoped>\n",
       "    .dataframe tbody tr th:only-of-type {\n",
       "        vertical-align: middle;\n",
       "    }\n",
       "\n",
       "    .dataframe tbody tr th {\n",
       "        vertical-align: top;\n",
       "    }\n",
       "\n",
       "    .dataframe thead th {\n",
       "        text-align: right;\n",
       "    }\n",
       "</style>\n",
       "<table border=\"1\" class=\"dataframe\">\n",
       "  <thead>\n",
       "    <tr style=\"text-align: right;\">\n",
       "      <th></th>\n",
       "      <th>filename</th>\n",
       "      <th>class</th>\n",
       "    </tr>\n",
       "  </thead>\n",
       "  <tbody>\n",
       "    <tr>\n",
       "      <th>0</th>\n",
       "      <td>c:\\Users\\wamik\\Documents\\Notes Y4S2\\CS3244\\Pro...</td>\n",
       "      <td>0</td>\n",
       "    </tr>\n",
       "    <tr>\n",
       "      <th>1</th>\n",
       "      <td>c:\\Users\\wamik\\Documents\\Notes Y4S2\\CS3244\\Pro...</td>\n",
       "      <td>0</td>\n",
       "    </tr>\n",
       "    <tr>\n",
       "      <th>2</th>\n",
       "      <td>c:\\Users\\wamik\\Documents\\Notes Y4S2\\CS3244\\Pro...</td>\n",
       "      <td>0</td>\n",
       "    </tr>\n",
       "    <tr>\n",
       "      <th>3</th>\n",
       "      <td>c:\\Users\\wamik\\Documents\\Notes Y4S2\\CS3244\\Pro...</td>\n",
       "      <td>0</td>\n",
       "    </tr>\n",
       "    <tr>\n",
       "      <th>4</th>\n",
       "      <td>c:\\Users\\wamik\\Documents\\Notes Y4S2\\CS3244\\Pro...</td>\n",
       "      <td>0</td>\n",
       "    </tr>\n",
       "    <tr>\n",
       "      <th>...</th>\n",
       "      <td>...</td>\n",
       "      <td>...</td>\n",
       "    </tr>\n",
       "    <tr>\n",
       "      <th>10550</th>\n",
       "      <td>c:\\Users\\wamik\\Documents\\Notes Y4S2\\CS3244\\Pro...</td>\n",
       "      <td>9</td>\n",
       "    </tr>\n",
       "    <tr>\n",
       "      <th>10551</th>\n",
       "      <td>c:\\Users\\wamik\\Documents\\Notes Y4S2\\CS3244\\Pro...</td>\n",
       "      <td>9</td>\n",
       "    </tr>\n",
       "    <tr>\n",
       "      <th>10552</th>\n",
       "      <td>c:\\Users\\wamik\\Documents\\Notes Y4S2\\CS3244\\Pro...</td>\n",
       "      <td>9</td>\n",
       "    </tr>\n",
       "    <tr>\n",
       "      <th>10553</th>\n",
       "      <td>c:\\Users\\wamik\\Documents\\Notes Y4S2\\CS3244\\Pro...</td>\n",
       "      <td>9</td>\n",
       "    </tr>\n",
       "    <tr>\n",
       "      <th>10554</th>\n",
       "      <td>c:\\Users\\wamik\\Documents\\Notes Y4S2\\CS3244\\Pro...</td>\n",
       "      <td>9</td>\n",
       "    </tr>\n",
       "  </tbody>\n",
       "</table>\n",
       "<p>10555 rows × 2 columns</p>\n",
       "</div>"
      ],
      "text/plain": [
       "                                                filename  class\n",
       "0      c:\\Users\\wamik\\Documents\\Notes Y4S2\\CS3244\\Pro...      0\n",
       "1      c:\\Users\\wamik\\Documents\\Notes Y4S2\\CS3244\\Pro...      0\n",
       "2      c:\\Users\\wamik\\Documents\\Notes Y4S2\\CS3244\\Pro...      0\n",
       "3      c:\\Users\\wamik\\Documents\\Notes Y4S2\\CS3244\\Pro...      0\n",
       "4      c:\\Users\\wamik\\Documents\\Notes Y4S2\\CS3244\\Pro...      0\n",
       "...                                                  ...    ...\n",
       "10550  c:\\Users\\wamik\\Documents\\Notes Y4S2\\CS3244\\Pro...      9\n",
       "10551  c:\\Users\\wamik\\Documents\\Notes Y4S2\\CS3244\\Pro...      9\n",
       "10552  c:\\Users\\wamik\\Documents\\Notes Y4S2\\CS3244\\Pro...      9\n",
       "10553  c:\\Users\\wamik\\Documents\\Notes Y4S2\\CS3244\\Pro...      9\n",
       "10554  c:\\Users\\wamik\\Documents\\Notes Y4S2\\CS3244\\Pro...      9\n",
       "\n",
       "[10555 rows x 2 columns]"
      ]
     },
     "execution_count": 5,
     "metadata": {},
     "output_type": "execute_result"
    }
   ],
   "source": [
    "df = pd.DataFrame({\n",
    "  'filename': train_paths,\n",
    "  'class': classes\n",
    "})\n",
    "df"
   ]
  },
  {
   "cell_type": "code",
   "execution_count": 6,
   "metadata": {},
   "outputs": [
    {
     "data": {
      "text/html": [
       "<div>\n",
       "<style scoped>\n",
       "    .dataframe tbody tr th:only-of-type {\n",
       "        vertical-align: middle;\n",
       "    }\n",
       "\n",
       "    .dataframe tbody tr th {\n",
       "        vertical-align: top;\n",
       "    }\n",
       "\n",
       "    .dataframe thead th {\n",
       "        text-align: right;\n",
       "    }\n",
       "</style>\n",
       "<table border=\"1\" class=\"dataframe\">\n",
       "  <thead>\n",
       "    <tr style=\"text-align: right;\">\n",
       "      <th></th>\n",
       "      <th>filename</th>\n",
       "      <th>class</th>\n",
       "    </tr>\n",
       "  </thead>\n",
       "  <tbody>\n",
       "    <tr>\n",
       "      <th>0</th>\n",
       "      <td>c:\\Users\\wamik\\Documents\\Notes Y4S2\\CS3244\\Pro...</td>\n",
       "      <td>0</td>\n",
       "    </tr>\n",
       "    <tr>\n",
       "      <th>1</th>\n",
       "      <td>c:\\Users\\wamik\\Documents\\Notes Y4S2\\CS3244\\Pro...</td>\n",
       "      <td>0</td>\n",
       "    </tr>\n",
       "    <tr>\n",
       "      <th>2</th>\n",
       "      <td>c:\\Users\\wamik\\Documents\\Notes Y4S2\\CS3244\\Pro...</td>\n",
       "      <td>0</td>\n",
       "    </tr>\n",
       "    <tr>\n",
       "      <th>3</th>\n",
       "      <td>c:\\Users\\wamik\\Documents\\Notes Y4S2\\CS3244\\Pro...</td>\n",
       "      <td>0</td>\n",
       "    </tr>\n",
       "    <tr>\n",
       "      <th>4</th>\n",
       "      <td>c:\\Users\\wamik\\Documents\\Notes Y4S2\\CS3244\\Pro...</td>\n",
       "      <td>0</td>\n",
       "    </tr>\n",
       "    <tr>\n",
       "      <th>...</th>\n",
       "      <td>...</td>\n",
       "      <td>...</td>\n",
       "    </tr>\n",
       "    <tr>\n",
       "      <th>1118</th>\n",
       "      <td>c:\\Users\\wamik\\Documents\\Notes Y4S2\\CS3244\\Pro...</td>\n",
       "      <td>9</td>\n",
       "    </tr>\n",
       "    <tr>\n",
       "      <th>1119</th>\n",
       "      <td>c:\\Users\\wamik\\Documents\\Notes Y4S2\\CS3244\\Pro...</td>\n",
       "      <td>9</td>\n",
       "    </tr>\n",
       "    <tr>\n",
       "      <th>1120</th>\n",
       "      <td>c:\\Users\\wamik\\Documents\\Notes Y4S2\\CS3244\\Pro...</td>\n",
       "      <td>9</td>\n",
       "    </tr>\n",
       "    <tr>\n",
       "      <th>1121</th>\n",
       "      <td>c:\\Users\\wamik\\Documents\\Notes Y4S2\\CS3244\\Pro...</td>\n",
       "      <td>9</td>\n",
       "    </tr>\n",
       "    <tr>\n",
       "      <th>1122</th>\n",
       "      <td>c:\\Users\\wamik\\Documents\\Notes Y4S2\\CS3244\\Pro...</td>\n",
       "      <td>9</td>\n",
       "    </tr>\n",
       "  </tbody>\n",
       "</table>\n",
       "<p>1123 rows × 2 columns</p>\n",
       "</div>"
      ],
      "text/plain": [
       "                                               filename  class\n",
       "0     c:\\Users\\wamik\\Documents\\Notes Y4S2\\CS3244\\Pro...      0\n",
       "1     c:\\Users\\wamik\\Documents\\Notes Y4S2\\CS3244\\Pro...      0\n",
       "2     c:\\Users\\wamik\\Documents\\Notes Y4S2\\CS3244\\Pro...      0\n",
       "3     c:\\Users\\wamik\\Documents\\Notes Y4S2\\CS3244\\Pro...      0\n",
       "4     c:\\Users\\wamik\\Documents\\Notes Y4S2\\CS3244\\Pro...      0\n",
       "...                                                 ...    ...\n",
       "1118  c:\\Users\\wamik\\Documents\\Notes Y4S2\\CS3244\\Pro...      9\n",
       "1119  c:\\Users\\wamik\\Documents\\Notes Y4S2\\CS3244\\Pro...      9\n",
       "1120  c:\\Users\\wamik\\Documents\\Notes Y4S2\\CS3244\\Pro...      9\n",
       "1121  c:\\Users\\wamik\\Documents\\Notes Y4S2\\CS3244\\Pro...      9\n",
       "1122  c:\\Users\\wamik\\Documents\\Notes Y4S2\\CS3244\\Pro...      9\n",
       "\n",
       "[1123 rows x 2 columns]"
      ]
     },
     "execution_count": 6,
     "metadata": {},
     "output_type": "execute_result"
    }
   ],
   "source": [
    "df_test = pd.DataFrame({\n",
    "  'filename': test_paths,\n",
    "  'class': test_classes\n",
    "})\n",
    "df_test"
   ]
  },
  {
   "cell_type": "code",
   "execution_count": 7,
   "metadata": {},
   "outputs": [],
   "source": [
    "# -----------------------------------------------\n",
    "# Face Detection using DNN Net\n",
    "# -----------------------------------------------\n",
    "# detect faces using a DNN model \n",
    "# download model and prototxt from https://github.com/spmallick/learnopencv/tree/master/FaceDetectionComparison/models\n",
    "\n",
    "def detectFaceOpenCVDnn(net, frame):\n",
    "    \n",
    "    frameHeight = frame.shape[0]\n",
    "    frameWidth = frame.shape[1]\n",
    "    blob = cv2.dnn.blobFromImage(frame, 1.0, mean = [104, 117, 123])\n",
    "\n",
    "    net.setInput(blob)\n",
    "    detections = net.forward()\n",
    "    conf_threshold = 0.1\n",
    "    box = None\n",
    "    for i in range(detections.shape[2]):\n",
    "        confidence = detections[0, 0, i, 2]\n",
    "        if confidence > conf_threshold:\n",
    "            conf_threshold = confidence\n",
    "            x1 = int(detections[0, 0, i, 3] * frameWidth)\n",
    "            y1 = int(detections[0, 0, i, 4] * frameHeight)\n",
    "            x2 = int(detections[0, 0, i, 5] * frameWidth)\n",
    "            y2 = int(detections[0, 0, i, 6] * frameHeight)\n",
    "            box = [x1, y1, x2, y2]\n",
    "\n",
    "    if box == None:\n",
    "        return []\n",
    "    # extract the face\n",
    "    face_boundary = frame[box[1]:box[3], box[0]:box[2]]\n",
    "\n",
    "    # resize pixels to the model size\n",
    "    # face_image = Image.fromarray(face_boundary)\n",
    "    # face_array = np.asarray(face_image)\n",
    "\n",
    "    return face_boundary"
   ]
  },
  {
   "cell_type": "code",
   "execution_count": 8,
   "metadata": {},
   "outputs": [
    {
     "data": {
      "image/png": "[encoded data removed]",
      "text/plain": [
       "<Figure size 432x288 with 1 Axes>"
      ]
     },
     "metadata": {
      "needs_background": "light"
     },
     "output_type": "display_data"
    },
    {
     "data": {
      "image/png": "[encoded data removed]",
      "text/plain": [
       "<Figure size 432x288 with 1 Axes>"
      ]
     },
     "metadata": {
      "needs_background": "light"
     },
     "output_type": "display_data"
    }
   ],
   "source": [
    "# load face detection model\n",
    "modelFile = \"models/res10_300x300_ssd_iter_140000_fp16.caffemodel\"\n",
    "configFile = \"models/deploy.prototxt\"\n",
    "net = cv2.dnn.readNetFromCaffe(configFile, modelFile)\n",
    "net.setPreferableBackend(cv2.dnn.DNN_BACKEND_CUDA)\n",
    "net.setPreferableTarget(cv2.dnn.DNN_TARGET_CUDA)\n",
    "\n",
    "img_orig = cv2.imread(df['filename'].iloc[1000])\n",
    "plt.imshow(img_orig)\n",
    "plt.show()\n",
    "frame = cv2.resize(img_orig, (640, 480))\n",
    "\n",
    "extracted_face = detectFaceOpenCVDnn(net, frame)\n",
    "plt.imshow(extracted_face)\n",
    "plt.show()\n",
    "\n",
    "\n"
   ]
  },
  {
   "cell_type": "code",
   "execution_count": 9,
   "metadata": {},
   "outputs": [
    {
     "name": "stdout",
     "output_type": "stream",
     "text": [
      "Processed  135 images. Continuing...\n",
      "Processed  270 images. Continuing...\n",
      "Processed  405 images. Continuing...\n",
      "Processed  540 images. Continuing...\n",
      "Processed  675 images. Continuing...\n",
      "Processed  810 images. Continuing...\n",
      "Processed  945 images. Continuing...\n",
      "Processed  1080 images. Continuing...\n",
      "Processed  1215 images. Continuing...\n",
      "Processed  1350 images. Continuing...\n",
      "Processed  1485 images. Continuing...\n",
      "Processed  1620 images. Continuing...\n",
      "Processed  1755 images. Continuing...\n",
      "Processed  1890 images. Continuing...\n",
      "Processed  2025 images. Continuing...\n",
      "Processed  2160 images. Continuing...\n",
      "Processed  2295 images. Continuing...\n",
      "Processed  2430 images. Continuing...\n",
      "Processed  2565 images. Continuing...\n",
      "Processed  2700 images. Continuing...\n",
      "Processed  2835 images. Continuing...\n",
      "Processed  2970 images. Continuing...\n",
      "Processed  3105 images. Continuing...\n",
      "Processed  3240 images. Continuing...\n",
      "Processed  3375 images. Continuing...\n",
      "Processed  3510 images. Continuing...\n",
      "Processed  3645 images. Continuing...\n",
      "Processed  3780 images. Continuing...\n",
      "Processed  3915 images. Continuing...\n",
      "Processed  4050 images. Continuing...\n",
      "Processed  4185 images. Continuing...\n",
      "Processed  4320 images. Continuing...\n",
      "Processed  4455 images. Continuing...\n",
      "Processed  4590 images. Continuing...\n",
      "Processed  4725 images. Continuing...\n",
      "Processed  4860 images. Continuing...\n",
      "Processed  4995 images. Continuing...\n",
      "Processed  5130 images. Continuing...\n",
      "Processed  5265 images. Continuing...\n",
      "Processed  5400 images. Continuing...\n",
      "Processed  5535 images. Continuing...\n",
      "Processed  5670 images. Continuing...\n",
      "Processed  5805 images. Continuing...\n",
      "Processed  5940 images. Continuing...\n",
      "Processed  6075 images. Continuing...\n",
      "Processed  6210 images. Continuing...\n",
      "Processed  6345 images. Continuing...\n",
      "Processed  6480 images. Continuing...\n",
      "Processed  6615 images. Continuing...\n",
      "Processed  6750 images. Continuing...\n",
      "Processed  6885 images. Continuing...\n",
      "Processed  7020 images. Continuing...\n",
      "Processed  7155 images. Continuing...\n",
      "Processed  7290 images. Continuing...\n",
      "Processed  7425 images. Continuing...\n",
      "Processed  7560 images. Continuing...\n",
      "Processed  7695 images. Continuing...\n",
      "Processed  7830 images. Continuing...\n",
      "Processed  7965 images. Continuing...\n",
      "Processed  8100 images. Continuing...\n",
      "Processed  8235 images. Continuing...\n",
      "Processed  8370 images. Continuing...\n",
      "Processed  8505 images. Continuing...\n",
      "Processed  8640 images. Continuing...\n",
      "Processed  8775 images. Continuing...\n",
      "Processed  8910 images. Continuing...\n",
      "Processed  9045 images. Continuing...\n",
      "Processed  9180 images. Continuing...\n",
      "Processed  9315 images. Continuing...\n",
      "Processed  9450 images. Continuing...\n",
      "Processed  9585 images. Continuing...\n",
      "Processed  9720 images. Continuing...\n",
      "Processed  9855 images. Continuing...\n",
      "Processed  9990 images. Continuing...\n",
      "Processed  10125 images. Continuing...\n",
      "Processed  10260 images. Continuing...\n",
      "Processed  10395 images. Continuing...\n",
      "Processed  10530 images. Continuing...\n",
      "Done!\n"
     ]
    }
   ],
   "source": [
    "X_train_final = []\n",
    "Y_train = []\n",
    "for index, path in df.iterrows():\n",
    "    img_orig = cv2.imread(path[0])\n",
    "    frame = cv2.resize(img_orig, (640, 480))\n",
    "    extracted_face = detectFaceOpenCVDnn(net, frame)\n",
    "    if (index+1) % 135 == 0:\n",
    "        print(\"Processed \", index + 1, \"images. Continuing...\")\n",
    "    if len(extracted_face) > 0:\n",
    "        X_train_final.append(np.asarray(extracted_face))\n",
    "        Y_train.append(path[1])\n",
    "\n",
    "print(\"Done!\")"
   ]
  },
  {
   "cell_type": "code",
   "execution_count": 10,
   "metadata": {},
   "outputs": [
    {
     "name": "stdout",
     "output_type": "stream",
     "text": [
      "9875\n"
     ]
    }
   ],
   "source": [
    "print(len(X_train_final))"
   ]
  },
  {
   "cell_type": "code",
   "execution_count": 11,
   "metadata": {},
   "outputs": [
    {
     "name": "stderr",
     "output_type": "stream",
     "text": [
      "c:\\Users\\wamik\\miniconda3\\lib\\site-packages\\numpy\\lib\\npyio.py:521: VisibleDeprecationWarning: Creating an ndarray from ragged nested sequences (which is a list-or-tuple of lists-or-tuples-or ndarrays with different lengths or shapes) is deprecated. If you meant to do this, you must specify 'dtype=object' when creating the ndarray.\n",
      "  arr = np.asanyarray(arr)\n"
     ]
    }
   ],
   "source": [
    "np.save(\"Data/extracted faces/train_data_cam1.npy\", X_train_final)\n",
    "np.save(\"Data/extracted faces/train_labels_cam1.npy\", Y_train)"
   ]
  },
  {
   "cell_type": "code",
   "execution_count": 12,
   "metadata": {},
   "outputs": [
    {
     "name": "stdout",
     "output_type": "stream",
     "text": [
      "Processed  135 images. Continuing...\n",
      "Processed  270 images. Continuing...\n",
      "Processed  405 images. Continuing...\n",
      "Processed  540 images. Continuing...\n",
      "Processed  675 images. Continuing...\n",
      "Processed  810 images. Continuing...\n",
      "Processed  945 images. Continuing...\n",
      "Processed  1080 images. Continuing...\n",
      "Done!\n"
     ]
    }
   ],
   "source": [
    "X_test_final = []\n",
    "Y_test = []\n",
    "for index, path in df_test.iterrows():\n",
    "    img_orig = cv2.imread(path[0])\n",
    "    frame = cv2.resize(img_orig, (640, 480))\n",
    "    extracted_face = detectFaceOpenCVDnn(net, frame)\n",
    "    if (index+1) % 135 == 0:\n",
    "        print(\"Processed \", index + 1, \"images. Continuing...\")\n",
    "    if len(extracted_face) > 0:\n",
    "        X_test_final.append(np.asarray(extracted_face))\n",
    "        Y_test.append(path[1])\n",
    "\n",
    "print(\"Done!\")"
   ]
  },
  {
   "cell_type": "code",
   "execution_count": 13,
   "metadata": {},
   "outputs": [
    {
     "name": "stdout",
     "output_type": "stream",
     "text": [
      "1008\n"
     ]
    }
   ],
   "source": [
    "print(len(X_test_final))"
   ]
  },
  {
   "cell_type": "code",
   "execution_count": 14,
   "metadata": {},
   "outputs": [],
   "source": [
    "np.save(\"Data/extracted faces/test_data_cam1.npy\", X_test_final)\n",
    "np.save(\"Data/extracted faces/test_labels_cam1.npy\", Y_test)"
   ]
  },
  {
   "attachments": {},
   "cell_type": "markdown",
   "metadata": {},
   "source": [
    "## Loading Faces Train data"
   ]
  },
  {
   "cell_type": "code",
   "execution_count": 15,
   "metadata": {},
   "outputs": [],
   "source": [
    "X_train = np.load(\"Data/extracted faces/train_data_cam1.npy\", allow_pickle=True)\n",
    "Y_train = np.load(\"Data/extracted faces/train_labels_cam1.npy\")"
   ]
  },
  {
   "cell_type": "code",
   "execution_count": 16,
   "metadata": {},
   "outputs": [],
   "source": [
    "X_test = np.load(\"Data/extracted faces/test_data_cam1.npy\", allow_pickle=True)\n",
    "Y_test = np.load(\"Data/extracted faces/test_labels_cam1.npy\")"
   ]
  },
  {
   "cell_type": "code",
   "execution_count": 17,
   "metadata": {},
   "outputs": [
    {
     "name": "stdout",
     "output_type": "stream",
     "text": [
      "(403,)\n",
      "(403,)\n"
     ]
    }
   ],
   "source": [
    "(X_val, X_test_final, Y_val, Y_test_final) = train_test_split(X_test, Y_test, test_size=0.6, stratify=Y_test, random_state=42)\n",
    "X_val = np.asarray(X_val)\n",
    "Y_val = np.asarray(Y_val)\n",
    "X_test_final = np.asarray(X_test_final)\n",
    "Y_test_final = np.asarray(Y_test_final)\n",
    "print(X_val.shape)\n",
    "print(Y_val.shape)"
   ]
  },
  {
   "cell_type": "code",
   "execution_count": 18,
   "metadata": {},
   "outputs": [
    {
     "data": {
      "text/plain": [
       "(9846, 100, 75, 1)"
      ]
     },
     "execution_count": 18,
     "metadata": {},
     "output_type": "execute_result"
    }
   ],
   "source": [
    "X_train_resized = []\n",
    "Y_train_resized = []\n",
    "i = 0\n",
    "for x in X_train:\n",
    "    if len(x)!=0 and len(x[0])!=0:\n",
    "        img = cv2.resize(x, (75, 100))\n",
    "        img = cv2.cvtColor(img, cv2.COLOR_RGB2GRAY)\n",
    "        # img_blur = cv2.GaussianBlur(img, (3,3), 0)\n",
    "        # edges = cv2.Canny(image=img_blur, threshold1=100, threshold2=200)\n",
    "        # edges = np.asarray(edges)\n",
    "        # edges = edges.reshape(120, 80, 1)\n",
    "        X_train_resized.append(img/255.0)\n",
    "        Y_train_resized.append(Y_train[i])\n",
    "    i+=1\n",
    "X_train_resized = np.asarray(X_train_resized)\n",
    "X_train_resized = X_train_resized.reshape(-1, 100, 75, 1)\n",
    "X_train_resized.shape"
   ]
  },
  {
   "cell_type": "code",
   "execution_count": 19,
   "metadata": {},
   "outputs": [
    {
     "data": {
      "text/plain": [
       "Text(0, 0.5, 'Frequency')"
      ]
     },
     "execution_count": 19,
     "metadata": {},
     "output_type": "execute_result"
    },
    {
     "data": {
      "image/png": "[encoded data removed]",
      "text/plain": [
       "<Figure size 432x288 with 1 Axes>"
      ]
     },
     "metadata": {
      "needs_background": "light"
     },
     "output_type": "display_data"
    }
   ],
   "source": [
    "# An \"interface\" to matplotlib.axes.Axes.hist() method\n",
    "n, bins, patches = plt.hist(x=Y_train_resized, bins='auto', color='#0504aa')\n",
    "plt.grid(axis='y', alpha=0.75)\n",
    "plt.xlabel('Labels')\n",
    "plt.ylabel('Frequency')"
   ]
  },
  {
   "cell_type": "code",
   "execution_count": 20,
   "metadata": {},
   "outputs": [
    {
     "data": {
      "text/plain": [
       "7"
      ]
     },
     "execution_count": 20,
     "metadata": {},
     "output_type": "execute_result"
    }
   ],
   "source": [
    "counts = []\n",
    "for i in range(0, 10):\n",
    "    counts.append(Y_train_resized.count(i))\n",
    "np.argmin(counts)"
   ]
  },
  {
   "cell_type": "code",
   "execution_count": 23,
   "metadata": {},
   "outputs": [
    {
     "data": {
      "text/html": [
       "<div>\n",
       "<style scoped>\n",
       "    .dataframe tbody tr th:only-of-type {\n",
       "        vertical-align: middle;\n",
       "    }\n",
       "\n",
       "    .dataframe tbody tr th {\n",
       "        vertical-align: top;\n",
       "    }\n",
       "\n",
       "    .dataframe thead th {\n",
       "        text-align: right;\n",
       "    }\n",
       "</style>\n",
       "<table border=\"1\" class=\"dataframe\">\n",
       "  <thead>\n",
       "    <tr style=\"text-align: right;\">\n",
       "      <th></th>\n",
       "      <th>img</th>\n",
       "      <th>class</th>\n",
       "    </tr>\n",
       "  </thead>\n",
       "  <tbody>\n",
       "    <tr>\n",
       "      <th>0</th>\n",
       "      <td>0</td>\n",
       "      <td>0</td>\n",
       "    </tr>\n",
       "    <tr>\n",
       "      <th>1</th>\n",
       "      <td>1</td>\n",
       "      <td>0</td>\n",
       "    </tr>\n",
       "    <tr>\n",
       "      <th>2</th>\n",
       "      <td>2</td>\n",
       "      <td>0</td>\n",
       "    </tr>\n",
       "    <tr>\n",
       "      <th>3</th>\n",
       "      <td>3</td>\n",
       "      <td>0</td>\n",
       "    </tr>\n",
       "    <tr>\n",
       "      <th>4</th>\n",
       "      <td>4</td>\n",
       "      <td>0</td>\n",
       "    </tr>\n",
       "    <tr>\n",
       "      <th>...</th>\n",
       "      <td>...</td>\n",
       "      <td>...</td>\n",
       "    </tr>\n",
       "    <tr>\n",
       "      <th>9841</th>\n",
       "      <td>9841</td>\n",
       "      <td>9</td>\n",
       "    </tr>\n",
       "    <tr>\n",
       "      <th>9842</th>\n",
       "      <td>9842</td>\n",
       "      <td>9</td>\n",
       "    </tr>\n",
       "    <tr>\n",
       "      <th>9843</th>\n",
       "      <td>9843</td>\n",
       "      <td>9</td>\n",
       "    </tr>\n",
       "    <tr>\n",
       "      <th>9844</th>\n",
       "      <td>9844</td>\n",
       "      <td>9</td>\n",
       "    </tr>\n",
       "    <tr>\n",
       "      <th>9845</th>\n",
       "      <td>9845</td>\n",
       "      <td>9</td>\n",
       "    </tr>\n",
       "  </tbody>\n",
       "</table>\n",
       "<p>9846 rows × 2 columns</p>\n",
       "</div>"
      ],
      "text/plain": [
       "       img  class\n",
       "0        0      0\n",
       "1        1      0\n",
       "2        2      0\n",
       "3        3      0\n",
       "4        4      0\n",
       "...    ...    ...\n",
       "9841  9841      9\n",
       "9842  9842      9\n",
       "9843  9843      9\n",
       "9844  9844      9\n",
       "9845  9845      9\n",
       "\n",
       "[9846 rows x 2 columns]"
      ]
     },
     "execution_count": 23,
     "metadata": {},
     "output_type": "execute_result"
    }
   ],
   "source": [
    "df_resized_train = pd.DataFrame({\"img\": range(9846), \"class\": Y_train_resized})\n",
    "df_resized_train"
   ]
  },
  {
   "cell_type": "code",
   "execution_count": null,
   "metadata": {},
   "outputs": [
    {
     "data": {
      "text/plain": [
       "(6392, 100, 75, 1)"
      ]
     },
     "execution_count": 9,
     "metadata": {},
     "output_type": "execute_result"
    }
   ],
   "source": [
    "from sklearn.utils import resample\n",
    "X_train_sampled = []\n",
    "Y_train_sampled = []\n",
    "for c in range(0, 8):\n",
    "    to_sample = df_resized_train[df_resized_train['class'] == c]\n",
    "    downsample = resample(to_sample,\n",
    "             replace=True,\n",
    "             n_samples=counts[5],\n",
    "             random_state=42)\n",
    "    for index, val in downsample['img'].items():\n",
    "        X_train_sampled.append(X_train_resized[val])\n",
    "        Y_train_sampled.append(c)\n",
    "X_train_sampled = np.asarray(X_train_sampled)\n",
    "X_train_sampled.shape"
   ]
  },
  {
   "cell_type": "code",
   "execution_count": 27,
   "metadata": {},
   "outputs": [
    {
     "name": "stdout",
     "output_type": "stream",
     "text": [
      "New y_train shape:  (9846, 10)\n"
     ]
    }
   ],
   "source": [
    "Y_train_sampled = np_utils.to_categorical(Y_train_resized, 10)\n",
    "print('New y_train shape: ', Y_train_sampled.shape)"
   ]
  },
  {
   "cell_type": "code",
   "execution_count": 24,
   "metadata": {},
   "outputs": [
    {
     "data": {
      "text/plain": [
       "(396, 100, 75, 1)"
      ]
     },
     "execution_count": 24,
     "metadata": {},
     "output_type": "execute_result"
    }
   ],
   "source": [
    "X_val_resized = []\n",
    "Y_val_resized = []\n",
    "i = 0\n",
    "for x in X_val:\n",
    "    if len(x)!=0 and len(x[0])!=0:\n",
    "        img = cv2.resize(x, (75, 100))\n",
    "        img = cv2.cvtColor(img, cv2.COLOR_RGB2GRAY)\n",
    "        # img_blur = cv2.GaussianBlur(img, (3,3), 0)\n",
    "        # edges = cv2.Canny(image=img_blur, threshold1=100, threshold2=200)\n",
    "        # edges = np.asarray(edges)\n",
    "        # edges = edges.reshape(120, 80, 1)\n",
    "        X_val_resized.append(img/255)\n",
    "        Y_val_resized.append(Y_train[i])\n",
    "    i+=1\n",
    "X_val_resized = np.asarray(X_val_resized)\n",
    "X_val_resized = X_val_resized.reshape(-1, 100, 75, 1)\n",
    "X_val_resized.shape"
   ]
  },
  {
   "cell_type": "code",
   "execution_count": 25,
   "metadata": {},
   "outputs": [
    {
     "name": "stdout",
     "output_type": "stream",
     "text": [
      "New y_train shape:  (396, 10)\n"
     ]
    }
   ],
   "source": [
    "Y_val_resized = np_utils.to_categorical(Y_val_resized, 10)\n",
    "print('New y_train shape: ', Y_val_resized.shape)"
   ]
  },
  {
   "cell_type": "code",
   "execution_count": 56,
   "metadata": {},
   "outputs": [
    {
     "name": "stdout",
     "output_type": "stream",
     "text": [
      "Model: \"sequential_9\"\n",
      "_________________________________________________________________\n",
      " Layer (type)                Output Shape              Param #   \n",
      "=================================================================\n",
      " conv2d_18 (Conv2D)          (None, 48, 36, 32)        832       \n",
      "                                                                 \n",
      " max_pooling2d_13 (MaxPoolin  (None, 12, 9, 32)        0         \n",
      " g2D)                                                            \n",
      "                                                                 \n",
      " conv2d_19 (Conv2D)          (None, 4, 3, 32)          25632     \n",
      "                                                                 \n",
      " global_average_pooling2d_4   (None, 32)               0         \n",
      " (GlobalAveragePooling2D)                                        \n",
      "                                                                 \n",
      " flatten_7 (Flatten)         (None, 32)                0         \n",
      "                                                                 \n",
      " dropout_7 (Dropout)         (None, 32)                0         \n",
      "                                                                 \n",
      " dense_7 (Dense)             (None, 10)                330       \n",
      "                                                                 \n",
      "=================================================================\n",
      "Total params: 26,794\n",
      "Trainable params: 26,794\n",
      "Non-trainable params: 0\n",
      "_________________________________________________________________\n"
     ]
    }
   ],
   "source": [
    "model = models.Sequential()\n",
    "model.add(layers.Conv2D(32, (5, 5), strides = (2,2), activation='relu', input_shape=(100, 75, 1)))\n",
    "# model.add(layers.BatchNormalization())\n",
    "model.add(layers.MaxPooling2D((4, 4)))\n",
    "model.add(layers.Conv2D(32, (5, 5), strides = (2,2), activation='relu'))\n",
    "# model.add(layers.BatchNormalization())\n",
    "model.add(layers.GlobalAveragePooling2D())\n",
    "model.add(layers.Flatten())\n",
    "model.add(layers.Dropout(0.5))\n",
    "# model.add(layers.Dense(64, activation='relu'))\n",
    "model.add(layers.Dense(10, activation='softmax'))\n",
    "\n",
    "model.summary()"
   ]
  },
  {
   "cell_type": "code",
   "execution_count": 57,
   "metadata": {},
   "outputs": [
    {
     "name": "stdout",
     "output_type": "stream",
     "text": [
      "Epoch 1/100\n",
      "197/197 [==============================] - 3s 12ms/step - loss: 2.2098 - accuracy: 0.2330 - val_loss: 1.7203 - val_accuracy: 0.7197\n",
      "Epoch 2/100\n",
      "197/197 [==============================] - 2s 10ms/step - loss: 2.1574 - accuracy: 0.2548 - val_loss: 1.6778 - val_accuracy: 0.7929\n",
      "Epoch 3/100\n",
      "197/197 [==============================] - 2s 10ms/step - loss: 2.1203 - accuracy: 0.2721 - val_loss: 1.5609 - val_accuracy: 0.7803\n",
      "Epoch 4/100\n",
      "197/197 [==============================] - 2s 10ms/step - loss: 2.0784 - accuracy: 0.2936 - val_loss: 1.6128 - val_accuracy: 0.6136\n",
      "Epoch 5/100\n",
      "197/197 [==============================] - 2s 10ms/step - loss: 2.0293 - accuracy: 0.3099 - val_loss: 1.8553 - val_accuracy: 0.5051\n",
      "Epoch 6/100\n",
      "197/197 [==============================] - 2s 10ms/step - loss: 1.9982 - accuracy: 0.3213 - val_loss: 1.8626 - val_accuracy: 0.5833\n",
      "Epoch 7/100\n",
      "197/197 [==============================] - 2s 10ms/step - loss: 1.9695 - accuracy: 0.3337 - val_loss: 1.6994 - val_accuracy: 0.6616\n",
      "Epoch 8/100\n",
      "197/197 [==============================] - 2s 10ms/step - loss: 1.9319 - accuracy: 0.3402 - val_loss: 1.9283 - val_accuracy: 0.5505\n",
      "Epoch 9/100\n",
      "197/197 [==============================] - 2s 10ms/step - loss: 1.9094 - accuracy: 0.3430 - val_loss: 1.8481 - val_accuracy: 0.6111\n",
      "Epoch 10/100\n",
      "197/197 [==============================] - 2s 11ms/step - loss: 1.8928 - accuracy: 0.3537 - val_loss: 2.0382 - val_accuracy: 0.4773\n",
      "Epoch 11/100\n",
      "197/197 [==============================] - 2s 11ms/step - loss: 1.8685 - accuracy: 0.3588 - val_loss: 1.9416 - val_accuracy: 0.5783\n",
      "Epoch 12/100\n",
      "197/197 [==============================] - 2s 11ms/step - loss: 1.8509 - accuracy: 0.3677 - val_loss: 1.7442 - val_accuracy: 0.6591\n",
      "Epoch 13/100\n",
      "197/197 [==============================] - 2s 11ms/step - loss: 1.8291 - accuracy: 0.3714 - val_loss: 2.1673 - val_accuracy: 0.4495\n",
      "Epoch 14/100\n",
      "197/197 [==============================] - 2s 11ms/step - loss: 1.8287 - accuracy: 0.3709 - val_loss: 2.2703 - val_accuracy: 0.4369\n",
      "Epoch 15/100\n",
      "197/197 [==============================] - 2s 11ms/step - loss: 1.8135 - accuracy: 0.3780 - val_loss: 1.8592 - val_accuracy: 0.6212\n",
      "Epoch 16/100\n",
      "197/197 [==============================] - 2s 11ms/step - loss: 1.7936 - accuracy: 0.3785 - val_loss: 2.0354 - val_accuracy: 0.5379\n",
      "Epoch 17/100\n",
      "197/197 [==============================] - 2s 11ms/step - loss: 1.7835 - accuracy: 0.3771 - val_loss: 2.1092 - val_accuracy: 0.5227\n",
      "Epoch 18/100\n",
      "197/197 [==============================] - 2s 11ms/step - loss: 1.7795 - accuracy: 0.3836 - val_loss: 1.9865 - val_accuracy: 0.5581\n",
      "Epoch 19/100\n",
      "197/197 [==============================] - 2s 11ms/step - loss: 1.7675 - accuracy: 0.3895 - val_loss: 2.0462 - val_accuracy: 0.5505\n",
      "Epoch 20/100\n",
      "197/197 [==============================] - 2s 11ms/step - loss: 1.7552 - accuracy: 0.3846 - val_loss: 2.0902 - val_accuracy: 0.5152\n",
      "Epoch 21/100\n",
      "197/197 [==============================] - 2s 11ms/step - loss: 1.7425 - accuracy: 0.3941 - val_loss: 2.3193 - val_accuracy: 0.4672\n",
      "Epoch 22/100\n",
      "197/197 [==============================] - 2s 11ms/step - loss: 1.7310 - accuracy: 0.3979 - val_loss: 2.3257 - val_accuracy: 0.4646\n",
      "Epoch 23/100\n",
      "197/197 [==============================] - 2s 11ms/step - loss: 1.7291 - accuracy: 0.4006 - val_loss: 2.0779 - val_accuracy: 0.5606\n",
      "Epoch 24/100\n",
      "197/197 [==============================] - 2s 11ms/step - loss: 1.7288 - accuracy: 0.3954 - val_loss: 2.2699 - val_accuracy: 0.4722\n",
      "Epoch 25/100\n",
      "197/197 [==============================] - 2s 11ms/step - loss: 1.7163 - accuracy: 0.4037 - val_loss: 2.3981 - val_accuracy: 0.4545\n",
      "Epoch 26/100\n",
      "197/197 [==============================] - 2s 11ms/step - loss: 1.7067 - accuracy: 0.4038 - val_loss: 2.2699 - val_accuracy: 0.4899\n",
      "Epoch 27/100\n",
      "197/197 [==============================] - 2s 11ms/step - loss: 1.6937 - accuracy: 0.4099 - val_loss: 2.1760 - val_accuracy: 0.5126\n",
      "Epoch 28/100\n",
      "197/197 [==============================] - 2s 11ms/step - loss: 1.6835 - accuracy: 0.4129 - val_loss: 2.1700 - val_accuracy: 0.5202\n",
      "Epoch 29/100\n",
      "197/197 [==============================] - 2s 11ms/step - loss: 1.6846 - accuracy: 0.4047 - val_loss: 2.3242 - val_accuracy: 0.4722\n",
      "Epoch 30/100\n",
      "197/197 [==============================] - 2s 11ms/step - loss: 1.6758 - accuracy: 0.4103 - val_loss: 2.2800 - val_accuracy: 0.5000\n",
      "Epoch 31/100\n",
      "197/197 [==============================] - 2s 11ms/step - loss: 1.6798 - accuracy: 0.4205 - val_loss: 2.4275 - val_accuracy: 0.4419\n",
      "Epoch 32/100\n",
      "197/197 [==============================] - 2s 11ms/step - loss: 1.6658 - accuracy: 0.4165 - val_loss: 2.3184 - val_accuracy: 0.4899\n",
      "Epoch 33/100\n",
      "197/197 [==============================] - 2s 11ms/step - loss: 1.6606 - accuracy: 0.4166 - val_loss: 2.4213 - val_accuracy: 0.4646\n",
      "Epoch 34/100\n",
      "197/197 [==============================] - 2s 11ms/step - loss: 1.6593 - accuracy: 0.4194 - val_loss: 2.4998 - val_accuracy: 0.4444\n",
      "Epoch 35/100\n",
      "197/197 [==============================] - 2s 11ms/step - loss: 1.6434 - accuracy: 0.4270 - val_loss: 2.2824 - val_accuracy: 0.5076\n",
      "Epoch 36/100\n",
      "197/197 [==============================] - 2s 11ms/step - loss: 1.6324 - accuracy: 0.4313 - val_loss: 2.3462 - val_accuracy: 0.5126\n",
      "Epoch 37/100\n",
      "197/197 [==============================] - 2s 12ms/step - loss: 1.6291 - accuracy: 0.4316 - val_loss: 2.2077 - val_accuracy: 0.5379\n",
      "Epoch 38/100\n",
      "197/197 [==============================] - 2s 11ms/step - loss: 1.6276 - accuracy: 0.4321 - val_loss: 2.1947 - val_accuracy: 0.5429\n",
      "Epoch 39/100\n",
      "197/197 [==============================] - 2s 11ms/step - loss: 1.6265 - accuracy: 0.4254 - val_loss: 2.2148 - val_accuracy: 0.5303\n",
      "Epoch 40/100\n",
      "197/197 [==============================] - 2s 11ms/step - loss: 1.6144 - accuracy: 0.4388 - val_loss: 2.0268 - val_accuracy: 0.5631\n",
      "Epoch 41/100\n",
      "197/197 [==============================] - 2s 11ms/step - loss: 1.6006 - accuracy: 0.4384 - val_loss: 1.9088 - val_accuracy: 0.5758\n",
      "Epoch 42/100\n",
      "197/197 [==============================] - 2s 11ms/step - loss: 1.6051 - accuracy: 0.4333 - val_loss: 2.5322 - val_accuracy: 0.4293\n",
      "Epoch 43/100\n",
      "197/197 [==============================] - 2s 11ms/step - loss: 1.6069 - accuracy: 0.4446 - val_loss: 2.3446 - val_accuracy: 0.4949\n",
      "Epoch 44/100\n",
      "197/197 [==============================] - 2s 11ms/step - loss: 1.5858 - accuracy: 0.4458 - val_loss: 2.5181 - val_accuracy: 0.4444\n",
      "Epoch 45/100\n",
      "197/197 [==============================] - 2s 11ms/step - loss: 1.5849 - accuracy: 0.4469 - val_loss: 2.2828 - val_accuracy: 0.4949\n",
      "Epoch 46/100\n",
      "197/197 [==============================] - 2s 11ms/step - loss: 1.5784 - accuracy: 0.4463 - val_loss: 2.7992 - val_accuracy: 0.3409\n",
      "Epoch 47/100\n",
      "197/197 [==============================] - 2s 11ms/step - loss: 1.5767 - accuracy: 0.4432 - val_loss: 2.2318 - val_accuracy: 0.5000\n",
      "Epoch 48/100\n",
      "197/197 [==============================] - 2s 11ms/step - loss: 1.5701 - accuracy: 0.4465 - val_loss: 2.6723 - val_accuracy: 0.4015\n",
      "Epoch 49/100\n",
      "197/197 [==============================] - 2s 11ms/step - loss: 1.5762 - accuracy: 0.4492 - val_loss: 2.5247 - val_accuracy: 0.4596\n",
      "Epoch 50/100\n",
      "197/197 [==============================] - 2s 11ms/step - loss: 1.5635 - accuracy: 0.4551 - val_loss: 2.1243 - val_accuracy: 0.5354\n",
      "Epoch 51/100\n",
      "197/197 [==============================] - 2s 11ms/step - loss: 1.5639 - accuracy: 0.4538 - val_loss: 2.3943 - val_accuracy: 0.4596\n",
      "Epoch 52/100\n",
      "197/197 [==============================] - 2s 11ms/step - loss: 1.5555 - accuracy: 0.4590 - val_loss: 2.4945 - val_accuracy: 0.4571\n",
      "Epoch 53/100\n",
      "197/197 [==============================] - 2s 11ms/step - loss: 1.5503 - accuracy: 0.4570 - val_loss: 2.2853 - val_accuracy: 0.4924\n",
      "Epoch 54/100\n",
      "197/197 [==============================] - 2s 12ms/step - loss: 1.5469 - accuracy: 0.4594 - val_loss: 2.2657 - val_accuracy: 0.4949\n",
      "Epoch 55/100\n",
      "197/197 [==============================] - 2s 11ms/step - loss: 1.5540 - accuracy: 0.4551 - val_loss: 2.0698 - val_accuracy: 0.5278\n",
      "Epoch 56/100\n",
      "197/197 [==============================] - 2s 12ms/step - loss: 1.5337 - accuracy: 0.4628 - val_loss: 2.4103 - val_accuracy: 0.4444\n",
      "Epoch 57/100\n",
      "197/197 [==============================] - 2s 12ms/step - loss: 1.5434 - accuracy: 0.4603 - val_loss: 2.3549 - val_accuracy: 0.4470\n",
      "Epoch 58/100\n",
      "197/197 [==============================] - 2s 12ms/step - loss: 1.5328 - accuracy: 0.4619 - val_loss: 2.6045 - val_accuracy: 0.3838\n",
      "Epoch 59/100\n",
      "197/197 [==============================] - 2s 12ms/step - loss: 1.5342 - accuracy: 0.4617 - val_loss: 2.4399 - val_accuracy: 0.4444\n",
      "Epoch 60/100\n",
      "197/197 [==============================] - 2s 11ms/step - loss: 1.5299 - accuracy: 0.4673 - val_loss: 2.4885 - val_accuracy: 0.4369\n",
      "Epoch 61/100\n",
      "197/197 [==============================] - 2s 11ms/step - loss: 1.5234 - accuracy: 0.4680 - val_loss: 2.5942 - val_accuracy: 0.3889\n",
      "Epoch 62/100\n",
      "197/197 [==============================] - 2s 11ms/step - loss: 1.5196 - accuracy: 0.4712 - val_loss: 2.0596 - val_accuracy: 0.5101\n",
      "Epoch 63/100\n",
      "197/197 [==============================] - 2s 11ms/step - loss: 1.5050 - accuracy: 0.4683 - val_loss: 2.4405 - val_accuracy: 0.4571\n",
      "Epoch 64/100\n",
      "197/197 [==============================] - 2s 11ms/step - loss: 1.5107 - accuracy: 0.4737 - val_loss: 2.3122 - val_accuracy: 0.4596\n",
      "Epoch 65/100\n",
      "197/197 [==============================] - 2s 11ms/step - loss: 1.5060 - accuracy: 0.4771 - val_loss: 2.4678 - val_accuracy: 0.4217\n",
      "Epoch 66/100\n",
      "197/197 [==============================] - 2s 11ms/step - loss: 1.5050 - accuracy: 0.4739 - val_loss: 2.6550 - val_accuracy: 0.3864\n",
      "Epoch 67/100\n",
      "197/197 [==============================] - 2s 11ms/step - loss: 1.4920 - accuracy: 0.4791 - val_loss: 2.3606 - val_accuracy: 0.4520\n",
      "Epoch 68/100\n",
      "197/197 [==============================] - 2s 11ms/step - loss: 1.4923 - accuracy: 0.4820 - val_loss: 2.5897 - val_accuracy: 0.3965\n",
      "Epoch 69/100\n",
      "197/197 [==============================] - 2s 11ms/step - loss: 1.4950 - accuracy: 0.4750 - val_loss: 2.4673 - val_accuracy: 0.4066\n",
      "Epoch 70/100\n",
      "197/197 [==============================] - 2s 11ms/step - loss: 1.4954 - accuracy: 0.4835 - val_loss: 2.7540 - val_accuracy: 0.3409\n",
      "Epoch 71/100\n",
      "197/197 [==============================] - 2s 11ms/step - loss: 1.4815 - accuracy: 0.4783 - val_loss: 2.6724 - val_accuracy: 0.3864\n",
      "Epoch 72/100\n",
      "197/197 [==============================] - 2s 11ms/step - loss: 1.4727 - accuracy: 0.4875 - val_loss: 2.3071 - val_accuracy: 0.4646\n",
      "Epoch 73/100\n",
      "197/197 [==============================] - 2s 12ms/step - loss: 1.4638 - accuracy: 0.4888 - val_loss: 2.8564 - val_accuracy: 0.3131\n",
      "Epoch 74/100\n",
      "197/197 [==============================] - 2s 11ms/step - loss: 1.4745 - accuracy: 0.4850 - val_loss: 2.7449 - val_accuracy: 0.3737\n",
      "Epoch 75/100\n",
      "197/197 [==============================] - 2s 12ms/step - loss: 1.4750 - accuracy: 0.4902 - val_loss: 2.8064 - val_accuracy: 0.3081\n",
      "Epoch 76/100\n",
      "197/197 [==============================] - 2s 12ms/step - loss: 1.4552 - accuracy: 0.4908 - val_loss: 2.2734 - val_accuracy: 0.4470\n",
      "Epoch 77/100\n",
      "197/197 [==============================] - 2s 12ms/step - loss: 1.4595 - accuracy: 0.4898 - val_loss: 2.9428 - val_accuracy: 0.2803\n",
      "Epoch 78/100\n",
      "197/197 [==============================] - 2s 11ms/step - loss: 1.4542 - accuracy: 0.4928 - val_loss: 2.7608 - val_accuracy: 0.3510\n",
      "Epoch 79/100\n",
      "197/197 [==============================] - 2s 11ms/step - loss: 1.4498 - accuracy: 0.4965 - val_loss: 2.5226 - val_accuracy: 0.4268\n",
      "Epoch 80/100\n",
      "197/197 [==============================] - 2s 11ms/step - loss: 1.4527 - accuracy: 0.4920 - val_loss: 2.5448 - val_accuracy: 0.3838\n",
      "Epoch 81/100\n",
      "197/197 [==============================] - 2s 11ms/step - loss: 1.4609 - accuracy: 0.4890 - val_loss: 2.8489 - val_accuracy: 0.2904\n",
      "Epoch 82/100\n",
      "197/197 [==============================] - 2s 11ms/step - loss: 1.4467 - accuracy: 0.4946 - val_loss: 2.7583 - val_accuracy: 0.3258\n",
      "Epoch 83/100\n",
      "197/197 [==============================] - 2s 11ms/step - loss: 1.4453 - accuracy: 0.4948 - val_loss: 2.4530 - val_accuracy: 0.3889\n",
      "Epoch 84/100\n",
      "197/197 [==============================] - 2s 11ms/step - loss: 1.4535 - accuracy: 0.4945 - val_loss: 2.7153 - val_accuracy: 0.3914\n"
     ]
    }
   ],
   "source": [
    "callbacks_list = [\n",
    "    keras.callbacks.EarlyStopping(monitor='accuracy', patience=5)\n",
    "]\n",
    "\n",
    "opt = keras.optimizers.SGD(learning_rate=0.01, momentum=0.9)\n",
    "\n",
    "model.compile(loss='categorical_crossentropy',\n",
    "                optimizer='adam', metrics=['accuracy'])\n",
    "\n",
    "BATCH_SIZE = 50\n",
    "EPOCHS = 100\n",
    "\n",
    "history = model.fit(X_train_resized, Y_train_sampled, epochs=EPOCHS, batch_size=BATCH_SIZE,callbacks=callbacks_list,\n",
    "                    validation_data=(X_val_resized, Y_val_resized), shuffle = True)"
   ]
  },
  {
   "cell_type": "code",
   "execution_count": 58,
   "metadata": {},
   "outputs": [
    {
     "data": {
      "image/png": "[encoded data removed]",
      "text/plain": [
       "<Figure size 432x288 with 1 Axes>"
      ]
     },
     "metadata": {
      "needs_background": "light"
     },
     "output_type": "display_data"
    }
   ],
   "source": [
    "# summarize history for accuracy and loss\n",
    "plt.figure(figsize=(6, 4))\n",
    "plt.plot(history.history['accuracy'], \"g--\", label=\"Accuracy of training data\")\n",
    "plt.plot(history.history['val_accuracy'], \"g\", label=\"Accuracy of validation data\")\n",
    "plt.plot(history.history['loss'], \"r--\", label=\"Loss of training data\")\n",
    "plt.plot(history.history['val_loss'], \"r\", label=\"Loss of validation data\")\n",
    "plt.title('Model Accuracy and Loss')\n",
    "plt.ylabel('Accuracy and Loss')\n",
    "plt.xlabel('Training Epoch')\n",
    "plt.ylim(0)\n",
    "plt.legend()\n",
    "plt.show()"
   ]
  },
  {
   "cell_type": "code",
   "execution_count": 59,
   "metadata": {},
   "outputs": [
    {
     "data": {
      "text/plain": [
       "(600, 100, 75, 1)"
      ]
     },
     "execution_count": 59,
     "metadata": {},
     "output_type": "execute_result"
    }
   ],
   "source": [
    "X_test_resized = []\n",
    "Y_test_resized = []\n",
    "i = 0\n",
    "for x in X_test_final:\n",
    "    if len(x)!=0 and len(x[0])!=0:\n",
    "        img = cv2.resize(x, (75, 100))\n",
    "        img = cv2.cvtColor(img, cv2.COLOR_RGB2GRAY)\n",
    "        X_test_resized.append(img/255)\n",
    "        Y_test_resized.append(Y_test_final[i])\n",
    "    i+=1\n",
    "X_test_resized = np.asarray(X_test_resized)\n",
    "X_test_resized = X_test_resized.reshape(-1, 100, 75, 1)\n",
    "X_test_resized.shape"
   ]
  },
  {
   "cell_type": "code",
   "execution_count": 60,
   "metadata": {},
   "outputs": [
    {
     "name": "stdout",
     "output_type": "stream",
     "text": [
      "New y_train shape:  (600, 10)\n"
     ]
    }
   ],
   "source": [
    "Y_test_resized = np_utils.to_categorical(Y_test_resized, 10)\n",
    "print('New y_train shape: ', Y_test_resized.shape)"
   ]
  },
  {
   "cell_type": "code",
   "execution_count": 61,
   "metadata": {},
   "outputs": [
    {
     "name": "stdout",
     "output_type": "stream",
     "text": [
      "19/19 [==============================] - 0s 9ms/step - loss: 1.7633 - accuracy: 0.3933\n",
      "\n",
      "Accuracy on test data: 0.39\n",
      "\n",
      "Loss on test data: 1.76\n"
     ]
    }
   ],
   "source": [
    "score = model.evaluate(X_test_resized, Y_test_resized, verbose=1)\n",
    "\n",
    "print(\"\\nAccuracy on test data: %0.2f\" % score[1])\n",
    "print(\"\\nLoss on test data: %0.2f\" % score[0])"
   ]
  },
  {
   "cell_type": "code",
   "execution_count": 62,
   "metadata": {},
   "outputs": [],
   "source": [
    "LABELS = [0, 1, 2, 3, 4, 5, 6, 7, 8, 9]\n",
    "def show_confusion_matrix(validations, predictions):\n",
    "\n",
    "    matrix = metrics.confusion_matrix(validations, predictions)\n",
    "    plt.figure(figsize=(6, 4))\n",
    "    sns.heatmap(matrix,\n",
    "                cmap=\"coolwarm\",\n",
    "                linecolor='white',\n",
    "                linewidths=1,\n",
    "                xticklabels=LABELS,\n",
    "                yticklabels=LABELS,\n",
    "                annot=True,\n",
    "                fmt=\"d\")\n",
    "    plt.title(\"Confusion Matrix\")\n",
    "    plt.ylabel(\"True Label\")\n",
    "    plt.xlabel(\"Predicted Label\")\n",
    "    plt.show()"
   ]
  },
  {
   "cell_type": "code",
   "execution_count": 63,
   "metadata": {},
   "outputs": [
    {
     "name": "stdout",
     "output_type": "stream",
     "text": [
      "19/19 [==============================] - 0s 3ms/step\n"
     ]
    },
    {
     "data": {
      "image/png": "[encoded data removed]",
      "text/plain": [
       "<Figure size 432x288 with 2 Axes>"
      ]
     },
     "metadata": {
      "needs_background": "light"
     },
     "output_type": "display_data"
    },
    {
     "name": "stdout",
     "output_type": "stream",
     "text": [
      "\n",
      "--- Classification report for test data ---\n",
      "\n",
      "              precision    recall  f1-score   support\n",
      "\n",
      "           0       0.43      0.64      0.51       154\n",
      "           1       0.26      0.19      0.22        74\n",
      "           2       0.55      0.71      0.62        62\n",
      "           3       0.00      0.00      0.00        45\n",
      "           4       0.00      0.00      0.00        33\n",
      "           5       0.13      0.06      0.08        54\n",
      "           6       0.17      0.24      0.20        34\n",
      "           7       0.00      0.00      0.00        37\n",
      "           8       0.08      0.08      0.08        36\n",
      "           9       0.76      0.92      0.83        71\n",
      "\n",
      "    accuracy                           0.39       600\n",
      "   macro avg       0.24      0.28      0.25       600\n",
      "weighted avg       0.32      0.39      0.34       600\n",
      "\n"
     ]
    }
   ],
   "source": [
    "y_pred_test = model.predict(X_test_resized)\n",
    "# Take the class with the highest probability from the test predictions\n",
    "max_y_pred_test = np.argmax(y_pred_test, axis=1)\n",
    "max_y_test = np.argmax(Y_test_resized, axis=1)\n",
    "\n",
    "show_confusion_matrix(max_y_test, max_y_pred_test)\n",
    "\n",
    "print(\"\\n--- Classification report for test data ---\\n\")\n",
    "\n",
    "print(classification_report(max_y_test, max_y_pred_test))"
   ]
  },
  {
   "attachments": {},
   "cell_type": "markdown",
   "metadata": {},
   "source": [
    "## Preparing Data For Transfer Learning\n",
    "### Saving Data As Images"
   ]
  },
  {
   "cell_type": "code",
   "execution_count": 70,
   "metadata": {},
   "outputs": [],
   "source": [
    "X_train = np.load(\"Data/extracted faces/train_data_cam1.npy\", allow_pickle=True)\n",
    "Y_train = np.load(\"Data/extracted faces/train_labels_cam1.npy\")"
   ]
  },
  {
   "cell_type": "code",
   "execution_count": 71,
   "metadata": {},
   "outputs": [],
   "source": [
    "for i in range(X_train.shape[0]):\n",
    "    x = X_train[i]\n",
    "    if len(x)!=0 and len(x[0])!=0:   \n",
    "        cv2.imwrite(\"Data/extracted faces/train_cam1/\" + str(Y_train[i]) + \"/\" + str(i) + \".jpg\", x)"
   ]
  },
  {
   "cell_type": "code",
   "execution_count": 72,
   "metadata": {},
   "outputs": [],
   "source": [
    "X_test = np.load(\"Data/extracted faces/test_data_cam1.npy\", allow_pickle=True)\n",
    "Y_test = np.load(\"Data/extracted faces/test_labels_cam1.npy\")"
   ]
  },
  {
   "cell_type": "code",
   "execution_count": 73,
   "metadata": {},
   "outputs": [],
   "source": [
    "for i in range(X_test.shape[0]):\n",
    "    x_test = X_test[i]\n",
    "    if len(x_test)!=0 and len(x_test[0])!=0:   \n",
    "        cv2.imwrite(\"Data/extracted faces/test_cam1/\" + str(Y_test[i]) + \"/\" + str(i) + \".jpg\", x_test)"
   ]
  },
  {
   "attachments": {},
   "cell_type": "markdown",
   "metadata": {},
   "source": [
    "## Transfer Learning with TensorFlow Keras\n",
    "\n",
    "https://github.com/tejanirla/image_classification/blob/master/transfer_learning.ipynb"
   ]
  },
  {
   "cell_type": "code",
   "execution_count": 74,
   "metadata": {},
   "outputs": [
    {
     "name": "stdout",
     "output_type": "stream",
     "text": [
      "Found 9846 images belonging to 10 classes.\n",
      "Found 996 images belonging to 10 classes.\n"
     ]
    }
   ],
   "source": [
    "from tensorflow.keras.preprocessing.image import ImageDataGenerator\n",
    "train_dir = \"Data/extracted faces/train_cam1\"\n",
    "validation_dir = \"Data/extracted faces/test_cam1\"\n",
    "# Add our data-augmentation parameters to ImageDataGenerator\n",
    "train_datagen = ImageDataGenerator(rescale = 1./255.,\n",
    "                                   rotation_range = 30,\n",
    "                                   width_shift_range = 0.2,\n",
    "                                   height_shift_range = 0.2,\n",
    "                                   shear_range = 0.2,\n",
    "                                   zoom_range = 0.2,\n",
    "                                   horizontal_flip = True)\n",
    "\n",
    "# Note that the validation data should not be augmented!\n",
    "test_datagen = ImageDataGenerator( rescale = 1.0/255. )\n",
    "\n",
    "# Flow training images in batches of 40 using train_datagen generator\n",
    "train_generator = train_datagen.flow_from_directory(train_dir,\n",
    "                                                    batch_size = 40,\n",
    "                                                    class_mode = 'categorical', \n",
    "                                                    target_size = (100, 75))     \n",
    "\n",
    "# Flow validation images in batches of 40 using test_datagen generator\n",
    "validation_generator =  test_datagen.flow_from_directory( validation_dir,\n",
    "                                                          batch_size  = 40,\n",
    "                                                          class_mode  = 'categorical', \n",
    "                                                          target_size = (100, 75))"
   ]
  },
  {
   "cell_type": "code",
   "execution_count": 77,
   "metadata": {},
   "outputs": [],
   "source": [
    "pre_trained_model = InceptionV3(input_shape = (100, 75, 3), # Shape of our images\n",
    "                                include_top = False, # Leave out the last fully connected layer\n",
    "                                weights = 'imagenet')\n",
    "for layer in pre_trained_model.layers:\n",
    "    layer.trainable = True"
   ]
  },
  {
   "attachments": {},
   "cell_type": "markdown",
   "metadata": {},
   "source": [
    "https://github.com/tejanirla/image_classification/blob/master/transfer_learning.ipynb"
   ]
  },
  {
   "cell_type": "code",
   "execution_count": 81,
   "metadata": {},
   "outputs": [],
   "source": [
    "last_layer = pre_trained_model.get_layer('mixed4') #Only use layers including and above 'mixed4'\n",
    "last_op = last_layer.output\n",
    "# Flatten the output layer to 1 dimension\n",
    "x = layers.Flatten()(last_op)\n",
    "# # Add a fully connected layer with 1,024 hidden units and ReLU activation\n",
    "x = layers.Dense(512, activation='relu')(x)\n",
    "# Add a dropout rate of 0.5\n",
    "x = layers.Dropout(0.5)(x)                  \n",
    "# Add a final sigmoid layer for classification\n",
    "x = layers.Dense  (10, activation='softmax')(x)           \n",
    "\n",
    "model = keras.Model(pre_trained_model.input, x) \n",
    "\n",
    "model.compile(optimizer = keras.optimizers.SGD(learning_rate=0.01), \n",
    "              loss = 'categorical_crossentropy', \n",
    "              metrics = ['acc'])"
   ]
  },
  {
   "cell_type": "code",
   "execution_count": 83,
   "metadata": {},
   "outputs": [],
   "source": [
    "class myCallback(tf.keras.callbacks.Callback):\n",
    "  def on_epoch_end(self, epoch, logs={}):\n",
    "    if(logs.get('acc')>0.95):\n",
    "      print(\"\\nReached 95% accuracy so cancelling training!\")\n",
    "      self.model.stop_training = True"
   ]
  },
  {
   "cell_type": "code",
   "execution_count": 84,
   "metadata": {},
   "outputs": [
    {
     "name": "stdout",
     "output_type": "stream",
     "text": [
      "Epoch 1/150\n",
      "50/50 - 24s - loss: 2.1632 - acc: 0.2660 - val_loss: 1.9046 - val_acc: 0.3862 - 24s/epoch - 479ms/step\n",
      "Epoch 2/150\n",
      "50/50 - 15s - loss: 1.9210 - acc: 0.3590 - val_loss: 1.8857 - val_acc: 0.3525 - 15s/epoch - 305ms/step\n",
      "Epoch 3/150\n",
      "50/50 - 15s - loss: 1.7954 - acc: 0.3835 - val_loss: 1.7985 - val_acc: 0.4100 - 15s/epoch - 295ms/step\n",
      "Epoch 4/150\n",
      "50/50 - 14s - loss: 1.7441 - acc: 0.4080 - val_loss: 1.7412 - val_acc: 0.4000 - 14s/epoch - 280ms/step\n",
      "Epoch 5/150\n",
      "50/50 - 13s - loss: 1.6729 - acc: 0.4215 - val_loss: 1.7013 - val_acc: 0.4062 - 13s/epoch - 261ms/step\n",
      "Epoch 6/150\n",
      "50/50 - 14s - loss: 1.5709 - acc: 0.4517 - val_loss: 1.7048 - val_acc: 0.3675 - 14s/epoch - 285ms/step\n",
      "Epoch 7/150\n",
      "50/50 - 11s - loss: 1.5692 - acc: 0.4550 - val_loss: 1.6955 - val_acc: 0.4087 - 11s/epoch - 220ms/step\n",
      "Epoch 8/150\n",
      "50/50 - 11s - loss: 1.5423 - acc: 0.4745 - val_loss: 1.7627 - val_acc: 0.3812 - 11s/epoch - 211ms/step\n",
      "Epoch 9/150\n",
      "50/50 - 10s - loss: 1.5127 - acc: 0.4720 - val_loss: 1.6302 - val_acc: 0.3988 - 10s/epoch - 209ms/step\n",
      "Epoch 10/150\n",
      "50/50 - 11s - loss: 1.4577 - acc: 0.5000 - val_loss: 1.6968 - val_acc: 0.3938 - 11s/epoch - 219ms/step\n",
      "Epoch 11/150\n",
      "50/50 - 12s - loss: 1.4167 - acc: 0.4975 - val_loss: 1.6118 - val_acc: 0.4288 - 12s/epoch - 230ms/step\n",
      "Epoch 12/150\n",
      "50/50 - 11s - loss: 1.4033 - acc: 0.5173 - val_loss: 1.5625 - val_acc: 0.4525 - 11s/epoch - 220ms/step\n",
      "Epoch 13/150\n",
      "50/50 - 11s - loss: 1.4165 - acc: 0.5075 - val_loss: 1.5717 - val_acc: 0.4550 - 11s/epoch - 219ms/step\n",
      "Epoch 14/150\n",
      "50/50 - 12s - loss: 1.3438 - acc: 0.5437 - val_loss: 1.5443 - val_acc: 0.4437 - 12s/epoch - 239ms/step\n",
      "Epoch 15/150\n",
      "50/50 - 14s - loss: 1.3335 - acc: 0.5505 - val_loss: 1.5518 - val_acc: 0.4625 - 14s/epoch - 272ms/step\n",
      "Epoch 16/150\n",
      "50/50 - 13s - loss: 1.2830 - acc: 0.5560 - val_loss: 1.5187 - val_acc: 0.4638 - 13s/epoch - 267ms/step\n",
      "Epoch 17/150\n",
      "50/50 - 14s - loss: 1.2677 - acc: 0.5675 - val_loss: 1.5338 - val_acc: 0.4050 - 14s/epoch - 274ms/step\n",
      "Epoch 18/150\n",
      "50/50 - 13s - loss: 1.2699 - acc: 0.5656 - val_loss: 1.5626 - val_acc: 0.4225 - 13s/epoch - 267ms/step\n",
      "Epoch 19/150\n",
      "50/50 - 14s - loss: 1.2510 - acc: 0.5702 - val_loss: 1.5564 - val_acc: 0.3787 - 14s/epoch - 272ms/step\n",
      "Epoch 20/150\n",
      "50/50 - 16s - loss: 1.2262 - acc: 0.5770 - val_loss: 1.5174 - val_acc: 0.5075 - 16s/epoch - 317ms/step\n",
      "Epoch 21/150\n",
      "50/50 - 15s - loss: 1.2105 - acc: 0.5865 - val_loss: 1.5347 - val_acc: 0.4400 - 15s/epoch - 300ms/step\n",
      "Epoch 22/150\n",
      "50/50 - 19s - loss: 1.1062 - acc: 0.6125 - val_loss: 1.5885 - val_acc: 0.4538 - 19s/epoch - 387ms/step\n",
      "Epoch 23/150\n",
      "50/50 - 19s - loss: 1.1829 - acc: 0.5990 - val_loss: 1.5093 - val_acc: 0.4688 - 19s/epoch - 379ms/step\n",
      "Epoch 24/150\n",
      "50/50 - 17s - loss: 1.1352 - acc: 0.6185 - val_loss: 1.4356 - val_acc: 0.4825 - 17s/epoch - 341ms/step\n",
      "Epoch 25/150\n",
      "50/50 - 19s - loss: 1.1388 - acc: 0.6145 - val_loss: 1.5830 - val_acc: 0.4137 - 19s/epoch - 386ms/step\n",
      "Epoch 26/150\n",
      "50/50 - 20s - loss: 1.1354 - acc: 0.6015 - val_loss: 1.5010 - val_acc: 0.4688 - 20s/epoch - 407ms/step\n",
      "Epoch 27/150\n",
      "50/50 - 19s - loss: 1.0855 - acc: 0.6310 - val_loss: 1.7043 - val_acc: 0.3862 - 19s/epoch - 378ms/step\n",
      "Epoch 28/150\n",
      "50/50 - 20s - loss: 1.0983 - acc: 0.6236 - val_loss: 1.5797 - val_acc: 0.4025 - 20s/epoch - 399ms/step\n",
      "Epoch 29/150\n",
      "50/50 - 24s - loss: 1.0648 - acc: 0.6315 - val_loss: 1.6307 - val_acc: 0.3975 - 24s/epoch - 477ms/step\n",
      "Epoch 30/150\n",
      "50/50 - 22s - loss: 1.0549 - acc: 0.6345 - val_loss: 1.6262 - val_acc: 0.3887 - 22s/epoch - 442ms/step\n",
      "Epoch 31/150\n",
      "50/50 - 21s - loss: 1.0316 - acc: 0.6511 - val_loss: 1.5242 - val_acc: 0.4412 - 21s/epoch - 422ms/step\n",
      "Epoch 32/150\n",
      "50/50 - 22s - loss: 0.9819 - acc: 0.6775 - val_loss: 1.5091 - val_acc: 0.4225 - 22s/epoch - 430ms/step\n",
      "Epoch 33/150\n",
      "50/50 - 23s - loss: 1.0125 - acc: 0.6520 - val_loss: 1.5035 - val_acc: 0.4575 - 23s/epoch - 456ms/step\n",
      "Epoch 34/150\n",
      "50/50 - 30s - loss: 0.9976 - acc: 0.6635 - val_loss: 1.4707 - val_acc: 0.4575 - 30s/epoch - 596ms/step\n",
      "Epoch 35/150\n",
      "50/50 - 22s - loss: 0.9735 - acc: 0.6610 - val_loss: 1.4462 - val_acc: 0.4550 - 22s/epoch - 432ms/step\n",
      "Epoch 36/150\n",
      "50/50 - 25s - loss: 0.9979 - acc: 0.6610 - val_loss: 1.6243 - val_acc: 0.3650 - 25s/epoch - 493ms/step\n",
      "Epoch 37/150\n",
      "50/50 - 33s - loss: 0.9499 - acc: 0.6765 - val_loss: 1.6479 - val_acc: 0.4000 - 33s/epoch - 661ms/step\n",
      "Epoch 38/150\n",
      "50/50 - 26s - loss: 0.9604 - acc: 0.6605 - val_loss: 1.4752 - val_acc: 0.4575 - 26s/epoch - 523ms/step\n",
      "Epoch 39/150\n",
      "50/50 - 26s - loss: 0.9523 - acc: 0.6750 - val_loss: 1.4577 - val_acc: 0.4825 - 26s/epoch - 529ms/step\n",
      "Epoch 40/150\n",
      "50/50 - 30s - loss: 0.9555 - acc: 0.6695 - val_loss: 1.6362 - val_acc: 0.3988 - 30s/epoch - 603ms/step\n",
      "Epoch 41/150\n",
      "50/50 - 29s - loss: 0.9404 - acc: 0.6800 - val_loss: 1.5416 - val_acc: 0.4638 - 29s/epoch - 570ms/step\n",
      "Epoch 42/150\n",
      "50/50 - 24s - loss: 0.9086 - acc: 0.6955 - val_loss: 1.6289 - val_acc: 0.4750 - 24s/epoch - 489ms/step\n",
      "Epoch 43/150\n",
      "50/50 - 24s - loss: 0.8978 - acc: 0.6995 - val_loss: 1.8258 - val_acc: 0.4038 - 24s/epoch - 476ms/step\n",
      "Epoch 44/150\n",
      "50/50 - 24s - loss: 0.8628 - acc: 0.7055 - val_loss: 1.5941 - val_acc: 0.4162 - 24s/epoch - 480ms/step\n",
      "Epoch 45/150\n",
      "50/50 - 24s - loss: 0.9121 - acc: 0.6895 - val_loss: 1.6028 - val_acc: 0.4450 - 24s/epoch - 481ms/step\n",
      "Epoch 46/150\n",
      "50/50 - 24s - loss: 0.8807 - acc: 0.7060 - val_loss: 1.8748 - val_acc: 0.3862 - 24s/epoch - 490ms/step\n",
      "Epoch 47/150\n",
      "50/50 - 24s - loss: 0.8691 - acc: 0.7065 - val_loss: 1.6784 - val_acc: 0.4212 - 24s/epoch - 475ms/step\n",
      "Epoch 48/150\n",
      "50/50 - 23s - loss: 0.8343 - acc: 0.7248 - val_loss: 1.9073 - val_acc: 0.3938 - 23s/epoch - 454ms/step\n",
      "Epoch 49/150\n",
      "50/50 - 24s - loss: 0.8310 - acc: 0.7175 - val_loss: 2.0370 - val_acc: 0.3475 - 24s/epoch - 471ms/step\n",
      "Epoch 50/150\n",
      "50/50 - 23s - loss: 0.8274 - acc: 0.7230 - val_loss: 1.8065 - val_acc: 0.4150 - 23s/epoch - 469ms/step\n",
      "Epoch 51/150\n",
      "50/50 - 24s - loss: 0.8074 - acc: 0.7325 - val_loss: 1.8112 - val_acc: 0.4425 - 24s/epoch - 482ms/step\n",
      "Epoch 52/150\n",
      "50/50 - 25s - loss: 0.8268 - acc: 0.7238 - val_loss: 1.9975 - val_acc: 0.3762 - 25s/epoch - 499ms/step\n",
      "Epoch 53/150\n",
      "50/50 - 24s - loss: 0.8306 - acc: 0.7197 - val_loss: 1.7635 - val_acc: 0.4150 - 24s/epoch - 487ms/step\n",
      "Epoch 54/150\n",
      "50/50 - 24s - loss: 0.7889 - acc: 0.7300 - val_loss: 1.6742 - val_acc: 0.4238 - 24s/epoch - 490ms/step\n",
      "Epoch 55/150\n",
      "50/50 - 25s - loss: 0.7970 - acc: 0.7230 - val_loss: 1.9909 - val_acc: 0.3638 - 25s/epoch - 506ms/step\n",
      "Epoch 56/150\n",
      "50/50 - 25s - loss: 0.8002 - acc: 0.7215 - val_loss: 1.8307 - val_acc: 0.3825 - 25s/epoch - 490ms/step\n",
      "Epoch 57/150\n",
      "50/50 - 25s - loss: 0.7672 - acc: 0.7385 - val_loss: 1.9588 - val_acc: 0.3837 - 25s/epoch - 496ms/step\n",
      "Epoch 58/150\n",
      "50/50 - 25s - loss: 0.7544 - acc: 0.7450 - val_loss: 1.7109 - val_acc: 0.3913 - 25s/epoch - 503ms/step\n",
      "Epoch 59/150\n",
      "50/50 - 25s - loss: 0.7823 - acc: 0.7505 - val_loss: 1.7813 - val_acc: 0.4087 - 25s/epoch - 494ms/step\n",
      "Epoch 60/150\n",
      "50/50 - 25s - loss: 0.7495 - acc: 0.7570 - val_loss: 1.9720 - val_acc: 0.3663 - 25s/epoch - 499ms/step\n",
      "Epoch 61/150\n",
      "50/50 - 25s - loss: 0.7317 - acc: 0.7595 - val_loss: 1.9422 - val_acc: 0.4550 - 25s/epoch - 504ms/step\n",
      "Epoch 62/150\n",
      "50/50 - 25s - loss: 0.7264 - acc: 0.7495 - val_loss: 1.6690 - val_acc: 0.4675 - 25s/epoch - 506ms/step\n",
      "Epoch 63/150\n",
      "50/50 - 26s - loss: 0.7265 - acc: 0.7495 - val_loss: 1.9050 - val_acc: 0.3600 - 26s/epoch - 511ms/step\n",
      "Epoch 64/150\n",
      "50/50 - 26s - loss: 0.7645 - acc: 0.7325 - val_loss: 2.1198 - val_acc: 0.3800 - 26s/epoch - 515ms/step\n",
      "Epoch 65/150\n",
      "50/50 - 26s - loss: 0.7408 - acc: 0.7447 - val_loss: 2.0816 - val_acc: 0.3925 - 26s/epoch - 516ms/step\n",
      "Epoch 66/150\n",
      "50/50 - 28s - loss: 0.7360 - acc: 0.7710 - val_loss: 2.1427 - val_acc: 0.3713 - 28s/epoch - 560ms/step\n",
      "Epoch 67/150\n",
      "50/50 - 27s - loss: 0.7035 - acc: 0.7610 - val_loss: 1.7481 - val_acc: 0.4187 - 27s/epoch - 550ms/step\n",
      "Epoch 68/150\n",
      "50/50 - 28s - loss: 0.7184 - acc: 0.7565 - val_loss: 1.7092 - val_acc: 0.4387 - 28s/epoch - 562ms/step\n",
      "Epoch 69/150\n",
      "50/50 - 28s - loss: 0.7594 - acc: 0.7485 - val_loss: 1.7621 - val_acc: 0.4363 - 28s/epoch - 559ms/step\n",
      "Epoch 70/150\n",
      "50/50 - 28s - loss: 0.6799 - acc: 0.7735 - val_loss: 1.8974 - val_acc: 0.4112 - 28s/epoch - 554ms/step\n",
      "Epoch 71/150\n",
      "50/50 - 28s - loss: 0.7129 - acc: 0.7550 - val_loss: 2.0097 - val_acc: 0.3663 - 28s/epoch - 555ms/step\n",
      "Epoch 72/150\n",
      "50/50 - 28s - loss: 0.6968 - acc: 0.7615 - val_loss: 1.9573 - val_acc: 0.3988 - 28s/epoch - 557ms/step\n",
      "Epoch 73/150\n",
      "50/50 - 28s - loss: 0.6612 - acc: 0.7805 - val_loss: 1.9585 - val_acc: 0.3587 - 28s/epoch - 559ms/step\n",
      "Epoch 74/150\n",
      "50/50 - 28s - loss: 0.6844 - acc: 0.7745 - val_loss: 2.1511 - val_acc: 0.3487 - 28s/epoch - 555ms/step\n",
      "Epoch 75/150\n",
      "50/50 - 28s - loss: 0.6381 - acc: 0.7745 - val_loss: 1.9916 - val_acc: 0.3700 - 28s/epoch - 557ms/step\n",
      "Epoch 76/150\n",
      "50/50 - 28s - loss: 0.6965 - acc: 0.7660 - val_loss: 2.0130 - val_acc: 0.3938 - 28s/epoch - 559ms/step\n",
      "Epoch 77/150\n",
      "50/50 - 28s - loss: 0.6767 - acc: 0.7725 - val_loss: 2.1891 - val_acc: 0.3613 - 28s/epoch - 553ms/step\n",
      "Epoch 78/150\n",
      "50/50 - 28s - loss: 0.6317 - acc: 0.7870 - val_loss: 1.9613 - val_acc: 0.4150 - 28s/epoch - 557ms/step\n",
      "Epoch 79/150\n",
      "50/50 - 27s - loss: 0.6409 - acc: 0.7737 - val_loss: 1.8467 - val_acc: 0.4313 - 27s/epoch - 549ms/step\n",
      "Epoch 80/150\n",
      "50/50 - 28s - loss: 0.6937 - acc: 0.7725 - val_loss: 2.0869 - val_acc: 0.3675 - 28s/epoch - 556ms/step\n",
      "Epoch 81/150\n",
      "50/50 - 28s - loss: 0.6386 - acc: 0.7840 - val_loss: 2.2782 - val_acc: 0.3638 - 28s/epoch - 560ms/step\n",
      "Epoch 82/150\n",
      "50/50 - 28s - loss: 0.6760 - acc: 0.7815 - val_loss: 2.0200 - val_acc: 0.4187 - 28s/epoch - 559ms/step\n",
      "Epoch 83/150\n",
      "50/50 - 36s - loss: 0.6174 - acc: 0.7895 - val_loss: 2.2246 - val_acc: 0.3913 - 36s/epoch - 730ms/step\n",
      "Epoch 84/150\n",
      "50/50 - 41s - loss: 0.6424 - acc: 0.7875 - val_loss: 1.9337 - val_acc: 0.4062 - 41s/epoch - 819ms/step\n",
      "Epoch 85/150\n",
      "50/50 - 33s - loss: 0.6315 - acc: 0.7930 - val_loss: 1.9745 - val_acc: 0.3750 - 33s/epoch - 663ms/step\n",
      "Epoch 86/150\n",
      "50/50 - 28s - loss: 0.6150 - acc: 0.7940 - val_loss: 2.1045 - val_acc: 0.3750 - 28s/epoch - 566ms/step\n",
      "Epoch 87/150\n",
      "50/50 - 28s - loss: 0.6307 - acc: 0.7945 - val_loss: 2.9034 - val_acc: 0.2825 - 28s/epoch - 565ms/step\n",
      "Epoch 88/150\n",
      "50/50 - 28s - loss: 0.6106 - acc: 0.7915 - val_loss: 2.5342 - val_acc: 0.3162 - 28s/epoch - 565ms/step\n",
      "Epoch 89/150\n",
      "50/50 - 28s - loss: 0.5806 - acc: 0.8005 - val_loss: 1.9071 - val_acc: 0.4150 - 28s/epoch - 566ms/step\n",
      "Epoch 90/150\n",
      "50/50 - 34s - loss: 0.5830 - acc: 0.8035 - val_loss: 2.0416 - val_acc: 0.4050 - 34s/epoch - 686ms/step\n",
      "Epoch 91/150\n",
      "50/50 - 40s - loss: 0.6143 - acc: 0.7991 - val_loss: 1.8747 - val_acc: 0.4238 - 40s/epoch - 797ms/step\n",
      "Epoch 92/150\n",
      "50/50 - 42s - loss: 0.5577 - acc: 0.8110 - val_loss: 1.9427 - val_acc: 0.4250 - 42s/epoch - 847ms/step\n",
      "Epoch 93/150\n",
      "50/50 - 28s - loss: 0.6085 - acc: 0.7991 - val_loss: 1.8844 - val_acc: 0.4062 - 28s/epoch - 558ms/step\n",
      "Epoch 94/150\n",
      "50/50 - 28s - loss: 0.5995 - acc: 0.7945 - val_loss: 1.9653 - val_acc: 0.4125 - 28s/epoch - 566ms/step\n",
      "Epoch 95/150\n",
      "50/50 - 28s - loss: 0.6270 - acc: 0.7815 - val_loss: 1.9282 - val_acc: 0.3925 - 28s/epoch - 565ms/step\n",
      "Epoch 96/150\n",
      "50/50 - 28s - loss: 0.5506 - acc: 0.8105 - val_loss: 2.0494 - val_acc: 0.4275 - 28s/epoch - 566ms/step\n",
      "Epoch 97/150\n",
      "50/50 - 28s - loss: 0.5818 - acc: 0.8085 - val_loss: 2.2328 - val_acc: 0.4075 - 28s/epoch - 566ms/step\n",
      "Epoch 98/150\n",
      "50/50 - 48s - loss: 0.5734 - acc: 0.8125 - val_loss: 2.0185 - val_acc: 0.4500 - 48s/epoch - 955ms/step\n",
      "Epoch 99/150\n",
      "50/50 - 50s - loss: 0.5812 - acc: 0.8065 - val_loss: 2.1272 - val_acc: 0.4100 - 50s/epoch - 990ms/step\n",
      "Epoch 100/150\n",
      "50/50 - 51s - loss: 0.5659 - acc: 0.8135 - val_loss: 2.1025 - val_acc: 0.4187 - 51s/epoch - 1s/step\n",
      "Epoch 101/150\n",
      "50/50 - 52s - loss: 0.5930 - acc: 0.7930 - val_loss: 1.8898 - val_acc: 0.4238 - 52s/epoch - 1s/step\n",
      "Epoch 102/150\n",
      "50/50 - 51s - loss: 0.5688 - acc: 0.8090 - val_loss: 2.1991 - val_acc: 0.3825 - 51s/epoch - 1s/step\n",
      "Epoch 103/150\n",
      "50/50 - 52s - loss: 0.5305 - acc: 0.8165 - val_loss: 1.9791 - val_acc: 0.4075 - 52s/epoch - 1s/step\n",
      "Epoch 104/150\n",
      "50/50 - 51s - loss: 0.5940 - acc: 0.8055 - val_loss: 2.1273 - val_acc: 0.3775 - 51s/epoch - 1s/step\n",
      "Epoch 105/150\n",
      "50/50 - 51s - loss: 0.5764 - acc: 0.7960 - val_loss: 2.0305 - val_acc: 0.4100 - 51s/epoch - 1s/step\n",
      "Epoch 106/150\n",
      "50/50 - 50s - loss: 0.5286 - acc: 0.8095 - val_loss: 2.0879 - val_acc: 0.4162 - 50s/epoch - 1s/step\n",
      "Epoch 107/150\n",
      "50/50 - 45s - loss: 0.5720 - acc: 0.8047 - val_loss: 2.0854 - val_acc: 0.4100 - 45s/epoch - 907ms/step\n",
      "Epoch 108/150\n",
      "50/50 - 38s - loss: 0.5698 - acc: 0.8070 - val_loss: 2.7280 - val_acc: 0.3250 - 38s/epoch - 757ms/step\n",
      "Epoch 109/150\n",
      "50/50 - 28s - loss: 0.5735 - acc: 0.8042 - val_loss: 2.1368 - val_acc: 0.3725 - 28s/epoch - 558ms/step\n",
      "Epoch 110/150\n",
      "50/50 - 30s - loss: 0.5502 - acc: 0.8200 - val_loss: 2.1375 - val_acc: 0.3950 - 30s/epoch - 605ms/step\n",
      "Epoch 111/150\n",
      "50/50 - 337s - loss: 0.5216 - acc: 0.8300 - val_loss: 2.2329 - val_acc: 0.3988 - 337s/epoch - 7s/step\n",
      "Epoch 112/150\n",
      "50/50 - 9s - loss: 0.5043 - acc: 0.8310 - val_loss: 2.2294 - val_acc: 0.3887 - 9s/epoch - 175ms/step\n",
      "Epoch 113/150\n",
      "50/50 - 8s - loss: 0.5162 - acc: 0.8230 - val_loss: 2.1156 - val_acc: 0.3975 - 8s/epoch - 151ms/step\n",
      "Epoch 114/150\n",
      "50/50 - 8s - loss: 0.5372 - acc: 0.8175 - val_loss: 2.4606 - val_acc: 0.3738 - 8s/epoch - 166ms/step\n",
      "Epoch 115/150\n",
      "50/50 - 9s - loss: 0.5530 - acc: 0.8125 - val_loss: 2.6139 - val_acc: 0.3187 - 9s/epoch - 177ms/step\n",
      "Epoch 116/150\n",
      "50/50 - 9s - loss: 0.5136 - acc: 0.8275 - val_loss: 2.1160 - val_acc: 0.4062 - 9s/epoch - 184ms/step\n",
      "Epoch 117/150\n",
      "50/50 - 10s - loss: 0.5300 - acc: 0.8240 - val_loss: 2.2467 - val_acc: 0.4000 - 10s/epoch - 196ms/step\n",
      "Epoch 118/150\n",
      "50/50 - 11s - loss: 0.4774 - acc: 0.8470 - val_loss: 2.4069 - val_acc: 0.3862 - 11s/epoch - 213ms/step\n",
      "Epoch 119/150\n",
      "50/50 - 12s - loss: 0.5134 - acc: 0.8380 - val_loss: 2.7433 - val_acc: 0.3575 - 12s/epoch - 240ms/step\n",
      "Epoch 120/150\n"
     ]
    },
    {
     "ename": "KeyboardInterrupt",
     "evalue": "",
     "output_type": "error",
     "traceback": [
      "\u001b[1;31m---------------------------------------------------------------------------\u001b[0m",
      "\u001b[1;31mKeyboardInterrupt\u001b[0m                         Traceback (most recent call last)",
      "\u001b[1;32mc:\\Users\\wamik\\Documents\\Notes Y4S2\\CS3244\\Projects\\Project 2\\CS3244-Group-8-Project-2\\face extraction_camera 1.ipynb Cell 50\u001b[0m in \u001b[0;36m<cell line: 6>\u001b[1;34m()\u001b[0m\n\u001b[0;32m      <a href='vscode-notebook-cell:/c%3A/Users/wamik/Documents/Notes%20Y4S2/CS3244/Projects/Project%202/CS3244-Group-8-Project-2/face%20extraction_camera%201.ipynb#Y100sZmlsZQ%3D%3D?line=0'>1</a>\u001b[0m callbacks_list \u001b[39m=\u001b[39m [\n\u001b[0;32m      <a href='vscode-notebook-cell:/c%3A/Users/wamik/Documents/Notes%20Y4S2/CS3244/Projects/Project%202/CS3244-Group-8-Project-2/face%20extraction_camera%201.ipynb#Y100sZmlsZQ%3D%3D?line=1'>2</a>\u001b[0m     keras\u001b[39m.\u001b[39mcallbacks\u001b[39m.\u001b[39mEarlyStopping(monitor\u001b[39m=\u001b[39m\u001b[39m'\u001b[39m\u001b[39macc\u001b[39m\u001b[39m'\u001b[39m, patience\u001b[39m=\u001b[39m\u001b[39m2\u001b[39m)\n\u001b[0;32m      <a href='vscode-notebook-cell:/c%3A/Users/wamik/Documents/Notes%20Y4S2/CS3244/Projects/Project%202/CS3244-Group-8-Project-2/face%20extraction_camera%201.ipynb#Y100sZmlsZQ%3D%3D?line=2'>3</a>\u001b[0m ]\n\u001b[0;32m      <a href='vscode-notebook-cell:/c%3A/Users/wamik/Documents/Notes%20Y4S2/CS3244/Projects/Project%202/CS3244-Group-8-Project-2/face%20extraction_camera%201.ipynb#Y100sZmlsZQ%3D%3D?line=4'>5</a>\u001b[0m callbacks \u001b[39m=\u001b[39m myCallback()\n\u001b[1;32m----> <a href='vscode-notebook-cell:/c%3A/Users/wamik/Documents/Notes%20Y4S2/CS3244/Projects/Project%202/CS3244-Group-8-Project-2/face%20extraction_camera%201.ipynb#Y100sZmlsZQ%3D%3D?line=5'>6</a>\u001b[0m history \u001b[39m=\u001b[39m model\u001b[39m.\u001b[39;49mfit(\n\u001b[0;32m      <a href='vscode-notebook-cell:/c%3A/Users/wamik/Documents/Notes%20Y4S2/CS3244/Projects/Project%202/CS3244-Group-8-Project-2/face%20extraction_camera%201.ipynb#Y100sZmlsZQ%3D%3D?line=6'>7</a>\u001b[0m             train_generator,\n\u001b[0;32m      <a href='vscode-notebook-cell:/c%3A/Users/wamik/Documents/Notes%20Y4S2/CS3244/Projects/Project%202/CS3244-Group-8-Project-2/face%20extraction_camera%201.ipynb#Y100sZmlsZQ%3D%3D?line=7'>8</a>\u001b[0m             validation_data \u001b[39m=\u001b[39;49m validation_generator,\n\u001b[0;32m      <a href='vscode-notebook-cell:/c%3A/Users/wamik/Documents/Notes%20Y4S2/CS3244/Projects/Project%202/CS3244-Group-8-Project-2/face%20extraction_camera%201.ipynb#Y100sZmlsZQ%3D%3D?line=8'>9</a>\u001b[0m             steps_per_epoch \u001b[39m=\u001b[39;49m \u001b[39m50\u001b[39;49m,\n\u001b[0;32m     <a href='vscode-notebook-cell:/c%3A/Users/wamik/Documents/Notes%20Y4S2/CS3244/Projects/Project%202/CS3244-Group-8-Project-2/face%20extraction_camera%201.ipynb#Y100sZmlsZQ%3D%3D?line=9'>10</a>\u001b[0m             epochs \u001b[39m=\u001b[39;49m \u001b[39m150\u001b[39;49m,\n\u001b[0;32m     <a href='vscode-notebook-cell:/c%3A/Users/wamik/Documents/Notes%20Y4S2/CS3244/Projects/Project%202/CS3244-Group-8-Project-2/face%20extraction_camera%201.ipynb#Y100sZmlsZQ%3D%3D?line=10'>11</a>\u001b[0m             validation_steps \u001b[39m=\u001b[39;49m \u001b[39m20\u001b[39;49m,\n\u001b[0;32m     <a href='vscode-notebook-cell:/c%3A/Users/wamik/Documents/Notes%20Y4S2/CS3244/Projects/Project%202/CS3244-Group-8-Project-2/face%20extraction_camera%201.ipynb#Y100sZmlsZQ%3D%3D?line=11'>12</a>\u001b[0m             verbose \u001b[39m=\u001b[39;49m \u001b[39m2\u001b[39;49m,\n\u001b[0;32m     <a href='vscode-notebook-cell:/c%3A/Users/wamik/Documents/Notes%20Y4S2/CS3244/Projects/Project%202/CS3244-Group-8-Project-2/face%20extraction_camera%201.ipynb#Y100sZmlsZQ%3D%3D?line=12'>13</a>\u001b[0m             callbacks\u001b[39m=\u001b[39;49mcallbacks)\n",
      "File \u001b[1;32mc:\\Users\\wamik\\miniconda3\\lib\\site-packages\\keras\\utils\\traceback_utils.py:64\u001b[0m, in \u001b[0;36mfilter_traceback.<locals>.error_handler\u001b[1;34m(*args, **kwargs)\u001b[0m\n\u001b[0;32m     62\u001b[0m filtered_tb \u001b[39m=\u001b[39m \u001b[39mNone\u001b[39;00m\n\u001b[0;32m     63\u001b[0m \u001b[39mtry\u001b[39;00m:\n\u001b[1;32m---> 64\u001b[0m   \u001b[39mreturn\u001b[39;00m fn(\u001b[39m*\u001b[39margs, \u001b[39m*\u001b[39m\u001b[39m*\u001b[39mkwargs)\n\u001b[0;32m     65\u001b[0m \u001b[39mexcept\u001b[39;00m \u001b[39mException\u001b[39;00m \u001b[39mas\u001b[39;00m e:  \u001b[39m# pylint: disable=broad-except\u001b[39;00m\n\u001b[0;32m     66\u001b[0m   filtered_tb \u001b[39m=\u001b[39m _process_traceback_frames(e\u001b[39m.\u001b[39m__traceback__)\n",
      "File \u001b[1;32mc:\\Users\\wamik\\miniconda3\\lib\\site-packages\\keras\\engine\\training.py:1401\u001b[0m, in \u001b[0;36mModel.fit\u001b[1;34m(self, x, y, batch_size, epochs, verbose, callbacks, validation_split, validation_data, shuffle, class_weight, sample_weight, initial_epoch, steps_per_epoch, validation_steps, validation_batch_size, validation_freq, max_queue_size, workers, use_multiprocessing)\u001b[0m\n\u001b[0;32m   1399\u001b[0m \u001b[39mwith\u001b[39;00m data_handler\u001b[39m.\u001b[39mcatch_stop_iteration():\n\u001b[0;32m   1400\u001b[0m   data_handler\u001b[39m.\u001b[39m_initial_step \u001b[39m=\u001b[39m \u001b[39mself\u001b[39m\u001b[39m.\u001b[39m_maybe_load_initial_step_from_ckpt()  \u001b[39m# pylint: disable=protected-access\u001b[39;00m\n\u001b[1;32m-> 1401\u001b[0m   \u001b[39mfor\u001b[39;00m step \u001b[39min\u001b[39;00m data_handler\u001b[39m.\u001b[39msteps():\n\u001b[0;32m   1402\u001b[0m     \u001b[39mwith\u001b[39;00m tf\u001b[39m.\u001b[39mprofiler\u001b[39m.\u001b[39mexperimental\u001b[39m.\u001b[39mTrace(\n\u001b[0;32m   1403\u001b[0m         \u001b[39m'\u001b[39m\u001b[39mtrain\u001b[39m\u001b[39m'\u001b[39m,\n\u001b[0;32m   1404\u001b[0m         epoch_num\u001b[39m=\u001b[39mepoch,\n\u001b[0;32m   1405\u001b[0m         step_num\u001b[39m=\u001b[39mstep,\n\u001b[0;32m   1406\u001b[0m         batch_size\u001b[39m=\u001b[39mbatch_size,\n\u001b[0;32m   1407\u001b[0m         _r\u001b[39m=\u001b[39m\u001b[39m1\u001b[39m):\n\u001b[0;32m   1408\u001b[0m       callbacks\u001b[39m.\u001b[39mon_train_batch_begin(step)\n",
      "File \u001b[1;32mc:\\Users\\wamik\\miniconda3\\lib\\site-packages\\keras\\engine\\data_adapter.py:1248\u001b[0m, in \u001b[0;36mDataHandler.steps\u001b[1;34m(self)\u001b[0m\n\u001b[0;32m   1246\u001b[0m \u001b[39mif\u001b[39;00m \u001b[39mself\u001b[39m\u001b[39m.\u001b[39m_insufficient_data:  \u001b[39m# Set by `catch_stop_iteration`.\u001b[39;00m\n\u001b[0;32m   1247\u001b[0m   \u001b[39mbreak\u001b[39;00m\n\u001b[1;32m-> 1248\u001b[0m original_spe \u001b[39m=\u001b[39m \u001b[39mself\u001b[39;49m\u001b[39m.\u001b[39;49m_steps_per_execution\u001b[39m.\u001b[39;49mnumpy()\u001b[39m.\u001b[39mitem()\n\u001b[0;32m   1249\u001b[0m can_run_full_execution \u001b[39m=\u001b[39m (\n\u001b[0;32m   1250\u001b[0m     original_spe \u001b[39m==\u001b[39m \u001b[39m1\u001b[39m \u001b[39mor\u001b[39;00m\n\u001b[0;32m   1251\u001b[0m     \u001b[39mself\u001b[39m\u001b[39m.\u001b[39m_inferred_steps \u001b[39mis\u001b[39;00m \u001b[39mNone\u001b[39;00m \u001b[39mor\u001b[39;00m\n\u001b[0;32m   1252\u001b[0m     \u001b[39mself\u001b[39m\u001b[39m.\u001b[39m_inferred_steps \u001b[39m-\u001b[39m \u001b[39mself\u001b[39m\u001b[39m.\u001b[39m_current_step \u001b[39m>\u001b[39m\u001b[39m=\u001b[39m\n\u001b[0;32m   1253\u001b[0m     original_spe)\n\u001b[0;32m   1255\u001b[0m \u001b[39mif\u001b[39;00m can_run_full_execution:\n",
      "File \u001b[1;32mc:\\Users\\wamik\\miniconda3\\lib\\site-packages\\tensorflow\\python\\ops\\resource_variable_ops.py:637\u001b[0m, in \u001b[0;36mBaseResourceVariable.numpy\u001b[1;34m(self)\u001b[0m\n\u001b[0;32m    635\u001b[0m \u001b[39mdef\u001b[39;00m \u001b[39mnumpy\u001b[39m(\u001b[39mself\u001b[39m):\n\u001b[0;32m    636\u001b[0m   \u001b[39mif\u001b[39;00m context\u001b[39m.\u001b[39mexecuting_eagerly():\n\u001b[1;32m--> 637\u001b[0m     \u001b[39mreturn\u001b[39;00m \u001b[39mself\u001b[39;49m\u001b[39m.\u001b[39;49mread_value()\u001b[39m.\u001b[39;49mnumpy()\n\u001b[0;32m    638\u001b[0m   \u001b[39mraise\u001b[39;00m \u001b[39mNotImplementedError\u001b[39;00m(\n\u001b[0;32m    639\u001b[0m       \u001b[39m\"\u001b[39m\u001b[39mnumpy() is only available when eager execution is enabled.\u001b[39m\u001b[39m\"\u001b[39m)\n",
      "File \u001b[1;32mc:\\Users\\wamik\\miniconda3\\lib\\site-packages\\tensorflow\\python\\framework\\ops.py:1159\u001b[0m, in \u001b[0;36m_EagerTensorBase.numpy\u001b[1;34m(self)\u001b[0m\n\u001b[0;32m   1136\u001b[0m \u001b[39m\"\"\"Copy of the contents of this Tensor into a NumPy array or scalar.\u001b[39;00m\n\u001b[0;32m   1137\u001b[0m \n\u001b[0;32m   1138\u001b[0m \u001b[39mUnlike NumPy arrays, Tensors are immutable, so this method has to copy\u001b[39;00m\n\u001b[1;32m   (...)\u001b[0m\n\u001b[0;32m   1156\u001b[0m \u001b[39m    NumPy dtype.\u001b[39;00m\n\u001b[0;32m   1157\u001b[0m \u001b[39m\"\"\"\u001b[39;00m\n\u001b[0;32m   1158\u001b[0m \u001b[39m# TODO(slebedev): Consider avoiding a copy for non-CPU or remote tensors.\u001b[39;00m\n\u001b[1;32m-> 1159\u001b[0m maybe_arr \u001b[39m=\u001b[39m \u001b[39mself\u001b[39;49m\u001b[39m.\u001b[39;49m_numpy()  \u001b[39m# pylint: disable=protected-access\u001b[39;00m\n\u001b[0;32m   1160\u001b[0m \u001b[39mreturn\u001b[39;00m maybe_arr\u001b[39m.\u001b[39mcopy() \u001b[39mif\u001b[39;00m \u001b[39misinstance\u001b[39m(maybe_arr, np\u001b[39m.\u001b[39mndarray) \u001b[39melse\u001b[39;00m maybe_arr\n",
      "File \u001b[1;32mc:\\Users\\wamik\\miniconda3\\lib\\site-packages\\tensorflow\\python\\framework\\ops.py:1125\u001b[0m, in \u001b[0;36m_EagerTensorBase._numpy\u001b[1;34m(self)\u001b[0m\n\u001b[0;32m   1123\u001b[0m \u001b[39mdef\u001b[39;00m \u001b[39m_numpy\u001b[39m(\u001b[39mself\u001b[39m):\n\u001b[0;32m   1124\u001b[0m   \u001b[39mtry\u001b[39;00m:\n\u001b[1;32m-> 1125\u001b[0m     \u001b[39mreturn\u001b[39;00m \u001b[39mself\u001b[39;49m\u001b[39m.\u001b[39;49m_numpy_internal()\n\u001b[0;32m   1126\u001b[0m   \u001b[39mexcept\u001b[39;00m core\u001b[39m.\u001b[39m_NotOkStatusException \u001b[39mas\u001b[39;00m e:  \u001b[39m# pylint: disable=protected-access\u001b[39;00m\n\u001b[0;32m   1127\u001b[0m     \u001b[39mraise\u001b[39;00m core\u001b[39m.\u001b[39m_status_to_exception(e) \u001b[39mfrom\u001b[39;00m \u001b[39mNone\u001b[39m\n",
      "\u001b[1;31mKeyboardInterrupt\u001b[0m: "
     ]
    }
   ],
   "source": [
    "callbacks_list = [\n",
    "    keras.callbacks.EarlyStopping(monitor='acc', patience=2)\n",
    "]\n",
    "\n",
    "callbacks = myCallback()\n",
    "history = model.fit(\n",
    "            train_generator,\n",
    "            validation_data = validation_generator,\n",
    "            steps_per_epoch = 50,\n",
    "            epochs = 150,\n",
    "            validation_steps = 20,\n",
    "            verbose = 2,\n",
    "            callbacks=callbacks)"
   ]
  },
  {
   "cell_type": "code",
   "execution_count": 85,
   "metadata": {},
   "outputs": [
    {
     "name": "stdout",
     "output_type": "stream",
     "text": [
      "25/25 [==============================] - 3s 106ms/step - loss: 2.0756 - acc: 0.4106\n",
      "\n",
      "Accuracy on test data: 0.41\n",
      "\n",
      "Loss on test data: 2.08\n"
     ]
    }
   ],
   "source": [
    "score = model.evaluate(validation_generator, verbose=1)\n",
    "\n",
    "print(\"\\nAccuracy on test data: %0.2f\" % score[1])\n",
    "print(\"\\nLoss on test data: %0.2f\" % score[0])"
   ]
  },
  {
   "cell_type": "code",
   "execution_count": 86,
   "metadata": {},
   "outputs": [],
   "source": [
    "LABELS = [0, 1, 2, 3, 4, 5, 6, 7]\n",
    "def show_confusion_matrix(validations, predictions):\n",
    "\n",
    "    matrix = metrics.confusion_matrix(validations, predictions)\n",
    "    plt.figure(figsize=(6, 4))\n",
    "    sns.heatmap(matrix,\n",
    "                cmap=\"coolwarm\",\n",
    "                linecolor='white',\n",
    "                linewidths=1,\n",
    "                xticklabels=LABELS,\n",
    "                yticklabels=LABELS,\n",
    "                annot=True,\n",
    "                fmt=\"d\")\n",
    "    plt.title(\"Confusion Matrix\")\n",
    "    plt.ylabel(\"True Label\")\n",
    "    plt.xlabel(\"Predicted Label\")\n",
    "    plt.show()"
   ]
  },
  {
   "cell_type": "code",
   "execution_count": 87,
   "metadata": {},
   "outputs": [
    {
     "name": "stdout",
     "output_type": "stream",
     "text": [
      "25/25 [==============================] - 2s 52ms/step\n"
     ]
    },
    {
     "data": {
      "image/png": "[encoded data removed]",
      "text/plain": [
       "<Figure size 432x288 with 2 Axes>"
      ]
     },
     "metadata": {
      "needs_background": "light"
     },
     "output_type": "display_data"
    },
    {
     "name": "stdout",
     "output_type": "stream",
     "text": [
      "\n",
      "--- Classification report for test data ---\n",
      "\n",
      "              precision    recall  f1-score   support\n",
      "\n",
      "           0       0.30      0.19      0.23       256\n",
      "           1       0.16      0.07      0.10       123\n",
      "           2       0.10      0.11      0.10       100\n",
      "           3       0.06      0.08      0.07        75\n",
      "           4       0.06      0.15      0.09        55\n",
      "           5       0.08      0.12      0.10        90\n",
      "           6       0.04      0.04      0.04        57\n",
      "           7       0.07      0.05      0.06        61\n",
      "           8       0.10      0.13      0.11        60\n",
      "           9       0.11      0.11      0.11       119\n",
      "\n",
      "    accuracy                           0.12       996\n",
      "   macro avg       0.11      0.10      0.10       996\n",
      "weighted avg       0.15      0.12      0.13       996\n",
      "\n"
     ]
    }
   ],
   "source": [
    "y_pred_test = model.predict(validation_generator)\n",
    "# Take the class with the highest probability from the test predictions\n",
    "max_y_pred_test = np.argmax(y_pred_test, axis=1)\n",
    "max_y_test = validation_generator.classes\n",
    "\n",
    "show_confusion_matrix(max_y_test, max_y_pred_test)\n",
    "\n",
    "print(\"\\n--- Classification report for test data ---\\n\")\n",
    "\n",
    "print(classification_report(max_y_test, max_y_pred_test))"
   ]
  }
 ],
 "metadata": {
  "kernelspec": {
   "display_name": "base",
   "language": "python",
   "name": "python3"
  },
  "language_info": {
   "codemirror_mode": {
    "name": "ipython",
    "version": 3
   },
   "file_extension": ".py",
   "mimetype": "text/x-python",
   "name": "python",
   "nbconvert_exporter": "python",
   "pygments_lexer": "ipython3",
   "version": "3.9.12"
  },
  "orig_nbformat": 4
 },
 "nbformat": 4,
 "nbformat_minor": 2
}
