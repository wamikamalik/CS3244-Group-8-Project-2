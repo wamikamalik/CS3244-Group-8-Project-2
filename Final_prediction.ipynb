{
  "cells": [
    {
      "cell_type": "code",
      "source": [
        "from google.colab import drive\n",
        "drive.mount('/content/drive')"
      ],
      "metadata": {
        "colab": {
          "base_uri": "https://localhost:8080/"
        },
        "id": "xMHXd36Ei4xz",
        "outputId": "ff7bbc12-b8d3-4f5e-fc82-efff63a59c42"
      },
      "execution_count": 2,
      "outputs": [
        {
          "output_type": "stream",
          "name": "stdout",
          "text": [
            "Mounted at /content/drive\n"
          ]
        }
      ]
    },
    {
      "cell_type": "code",
      "execution_count": 5,
      "metadata": {
        "id": "3qUc0DsvK3BR"
      },
      "outputs": [],
      "source": [
        "import numpy as np\n",
        "import sys\n",
        "import tensorflow as tf\n",
        "import os\n",
        "from threading import Thread\n",
        "from datetime import datetime\n",
        "import cv2\n",
        "import shutil\n",
        "from collections import defaultdict\n",
        "from sklearn.model_selection import train_test_split\n",
        "from tensorflow.keras.preprocessing.image import ImageDataGenerator\n",
        "from tensorflow.keras.applications.inception_v3 import InceptionV3, preprocess_input\n",
        "from matplotlib import pyplot as plt\n",
        "import pandas as pd\n",
        "from sklearn.metrics import confusion_matrix\n",
        "from PIL import Image\n",
        "from PIL import ImageFile\n",
        "from matplotlib import image\n",
        "import seaborn as sns"
      ]
    },
    {
      "cell_type": "code",
      "source": [
        "PARENT_PATH = os.getcwd()\n",
        "DATA_PATH = os.path.join(os.getcwd(),\"CombinedNew\", \"Combined New\")\n",
        "TEST_PATH = os.path.join(DATA_PATH, \"test\")\n",
        "TRAIN_PATH = os.path.join(DATA_PATH, \"train\")\n",
        "NEW_TRAIN_PATH = os.path.join(DATA_PATH, \"new_train\")\n",
        "VALID_PATH = os.path.join(DATA_PATH, \"valid\")\n",
        "UNSEEN_PATH = os.path.join(DATA_PATH, \"unseen\")\n",
        "MODEL_PATH = \"drive/MyDrive/models\"\n",
        "NUM_CLASSES = 8"
      ],
      "metadata": {
        "id": "8OH80N-oPh4u"
      },
      "execution_count": null,
      "outputs": []
    },
    {
      "cell_type": "code",
      "source": [
        "if os.path.exists(DATA_PATH):\n",
        "  shutil.rmtree(DATA_PATH)\n",
        "from zipfile import ZipFile\n",
        "password = \"57Rk!F8yUz38\"\n",
        "with ZipFile('drive/MyDrive/CombinedNew.zip') as zipObj:\n",
        "  zipObj.extractall()"
      ],
      "metadata": {
        "id": "3VPbWCOdPVCr"
      },
      "execution_count": null,
      "outputs": []
    },
    {
      "cell_type": "code",
      "source": [
        "for class_folder in os.listdir(TRAIN_PATH):\n",
        "  class_path = os.path.join(TRAIN_PATH, class_folder)\n",
        "  if class_folder == \".DS_Store\":\n",
        "      continue\n",
        "  train_imgs, test_imgs = train_test_split(os.listdir(class_path), test_size=0.2, random_state = 42)\n",
        "\n",
        "  for img in train_imgs: \n",
        "    src = os.path.join(class_path, img)\n",
        "    dst = os.path.join(NEW_TRAIN_PATH, class_folder, img)\n",
        "    if not os.path.exists(os.path.join(NEW_TRAIN_PATH, class_folder)):\n",
        "      os.makedirs(os.path.join(NEW_TRAIN_PATH, class_folder))\n",
        "    shutil.copy(src, dst)\n",
        "\n",
        "  for img in test_imgs: \n",
        "    src = os.path.join(class_path, img)\n",
        "    dst = os.path.join(VALID_PATH, class_folder, img)\n",
        "    if not os.path.exists(os.path.join(VALID_PATH, class_folder)):\n",
        "      os.makedirs(os.path.join(VALID_PATH, class_folder))\n",
        "    shutil.copy(src, dst)"
      ],
      "metadata": {
        "id": "yhy3KY5xPeyc"
      },
      "execution_count": null,
      "outputs": []
    },
    {
      "cell_type": "markdown",
      "metadata": {
        "id": "gXptJMi8K3BY"
      },
      "source": [
        "#### Extract hand"
      ]
    },
    {
      "cell_type": "code",
      "source": [
        "MODEL_NAME = 'drive/MyDrive/models'\n",
        "# Path to frozen detection graph. This is the actual model that is used for the object detection.\n",
        "PATH_TO_CKPT = MODEL_NAME + '/frozen_inference_graph.pb'\n",
        "# List of the strings that is used to add correct label for each box.\n",
        "PATH_TO_LABELS = os.path.join(MODEL_NAME, 'hand_label_map.pbtxt')\n",
        "\n",
        "NUM_CLASSES = 8"
      ],
      "metadata": {
        "id": "YMAGrx2BK6L6"
      },
      "execution_count": null,
      "outputs": []
    },
    {
      "cell_type": "code",
      "execution_count": null,
      "metadata": {
        "id": "1yheh-5XK3Bb"
      },
      "outputs": [],
      "source": [
        "# -----------------------------------------------\n",
        "# Hand Detection\n",
        "# -----------------------------------------------\n",
        "# download model and proto buf from hhttps://github.com/molyswu/hand_detection/tree/temp/hand_detection/protos\n",
        "\n",
        "def load_inference_graph():\n",
        "\n",
        "    # load frozen tensorflow model into memory\n",
        "    print(\"> ====== loading HAND frozen graph into memory\")\n",
        "    detection_graph = tf.Graph()\n",
        "    with detection_graph.as_default():\n",
        "        with tf.io.gfile.GFile(PATH_TO_CKPT, 'rb') as fid:\n",
        "            serialized_graph = fid.read()\n",
        "            od_graph_def = tf.compat.v1.GraphDef()\n",
        "            od_graph_def.ParseFromString(serialized_graph)\n",
        "            tf.import_graph_def(od_graph_def, name='')\n",
        "        sess = tf.compat.v1.Session(graph=detection_graph)\n",
        "    print(\"> ======= Hand Inference graph loaded.\")\n",
        "    return detection_graph, sess\n"
      ]
    },
    {
      "cell_type": "code",
      "execution_count": null,
      "metadata": {
        "id": "F0VB9rLKK3Bb"
      },
      "outputs": [],
      "source": [
        "def detect_objects(image_np, detection_graph, sess):\n",
        "    # Definite input and output Tensors for detection_graph\n",
        "    image_tensor = detection_graph.get_tensor_by_name('image_tensor:0')\n",
        "    # Each box represents a part of the image where a particular object was detected.\n",
        "    detection_boxes = detection_graph.get_tensor_by_name('detection_boxes:0')\n",
        "    # Each score represent how level of confidence for each of the objects.\n",
        "    # Score is shown on the result image, together with the class label.\n",
        "    detection_scores = detection_graph.get_tensor_by_name('detection_scores:0')\n",
        "    detection_classes = detection_graph.get_tensor_by_name('detection_classes:0')\n",
        "    num_detections = detection_graph.get_tensor_by_name('num_detections:0')\n",
        "\n",
        "    image_np_expanded = np.expand_dims(image_np, axis=0)\n",
        "\n",
        "    (boxes, scores, classes, num) = sess.run(\n",
        "        [detection_boxes, detection_scores,\n",
        "            detection_classes, num_detections],\n",
        "        feed_dict={image_tensor: image_np_expanded})\n",
        "    return np.squeeze(boxes), np.squeeze(scores)"
      ]
    },
    {
      "cell_type": "code",
      "execution_count": null,
      "metadata": {
        "colab": {
          "base_uri": "https://localhost:8080/"
        },
        "id": "BawJyVQaK3Bc",
        "outputId": "34d96636-9c75-4996-eb81-038277fd18a8"
      },
      "outputs": [
        {
          "output_type": "stream",
          "name": "stdout",
          "text": [
            "> ====== loading HAND frozen graph into memory\n",
            "> ======= Hand Inference graph loaded.\n"
          ]
        }
      ],
      "source": [
        "detection_graph, sess = load_inference_graph()"
      ]
    },
    {
      "cell_type": "code",
      "execution_count": null,
      "metadata": {
        "id": "s-9s61Q6K3Bd"
      },
      "outputs": [],
      "source": [
        "def extractHand(ori_img, img_np, width, height): \n",
        "  hasHand = False\n",
        "  boxes, scores = detect_objects(img_np, detection_graph, sess)\n",
        "  # Create a blank white image with the same dimensions as the original image\n",
        "  new_image = Image.new(\"RGB\", (width, height), (255, 255, 255))\n",
        "\n",
        "  for i, box in enumerate(boxes):\n",
        "    # Get the box coordinates\n",
        "    ymin, xmin, ymax, xmax = box\n",
        "    ymin = int(ymin * img_np.shape[0])\n",
        "    xmin = int(xmin * img_np.shape[1])\n",
        "    ymax = int(ymax * img_np.shape[0])\n",
        "    xmax = int(xmax * img_np.shape[1])\n",
        "    if scores[i] > 0.4: \n",
        "      box_pixels = ori_img.crop((xmin, ymin, xmax, ymax))\n",
        "      new_image.paste(box_pixels, (xmin, ymin))\n",
        "      hasHand = True\n",
        "  plt.imshow(new_image)\n",
        "  plt.show()\n",
        "  return new_image, hasHand\n",
        "  "
      ]
    },
    {
      "cell_type": "markdown",
      "metadata": {
        "id": "nbglw0YMK3Be"
      },
      "source": [
        "#### Extract face "
      ]
    },
    {
      "cell_type": "code",
      "execution_count": null,
      "metadata": {
        "id": "ufQWoPNYK3Bf"
      },
      "outputs": [],
      "source": [
        "modelFile = \"drive/MyDrive/models/res10_300x300_ssd_iter_140000_fp16.caffemodel\"\n",
        "configFile = \"drive/MyDrive/models/deploy.prototxt\"\n",
        "net = cv2.dnn.readNetFromCaffe(configFile, modelFile)\n",
        "net.setPreferableBackend(cv2.dnn.DNN_BACKEND_CUDA)\n",
        "net.setPreferableTarget(cv2.dnn.DNN_TARGET_CUDA)"
      ]
    },
    {
      "cell_type": "code",
      "execution_count": null,
      "metadata": {
        "id": "Y_lkOpa3K3Bg"
      },
      "outputs": [],
      "source": [
        "# -----------------------------------------------\n",
        "# Face Detection using DNN Net\n",
        "# -----------------------------------------------\n",
        "# detect faces using a DNN model \n",
        "# download model and prototxt from https://github.com/spmallick/learnopencv/tree/master/FaceDetectionComparison/models\n",
        "\n",
        "def detectFaceOpenCVDnn(net, frame):\n",
        "    \n",
        "    frameHeight = frame.shape[0]\n",
        "    frameWidth = frame.shape[1]\n",
        "    blob = cv2.dnn.blobFromImage(frame, 1.0, mean = [104, 117, 123])\n",
        "\n",
        "    net.setInput(blob)\n",
        "    detections = net.forward()\n",
        "    conf_threshold = 0.1\n",
        "    box = None\n",
        "    for i in range(detections.shape[2]):\n",
        "        confidence = detections[0, 0, i, 2]\n",
        "        if confidence > conf_threshold:\n",
        "            conf_threshold = confidence\n",
        "            x1 = int(detections[0, 0, i, 3] * frameWidth)\n",
        "            y1 = int(detections[0, 0, i, 4] * frameHeight)\n",
        "            x2 = int(detections[0, 0, i, 5] * frameWidth)\n",
        "            y2 = int(detections[0, 0, i, 6] * frameHeight)\n",
        "            box = [x1, y1, x2, y2]\n",
        "\n",
        "    if box == None:\n",
        "        return []\n",
        "    # extract the face\n",
        "    face_boundary = frame[box[1]:box[3], box[0]:box[2]]\n",
        "\n",
        "    # resize pixels to the model size\n",
        "    # face_image = Image.fromarray(face_boundary)\n",
        "    # face_array = np.asarray(face_image)\n",
        "\n",
        "    return face_boundary"
      ]
    },
    {
      "cell_type": "code",
      "execution_count": null,
      "metadata": {
        "id": "xANtDQ_lK3Bh"
      },
      "outputs": [],
      "source": [
        "def extractFace(image):\n",
        "    hasFace = False\n",
        "    frame = cv2.resize(image, (640, 480))\n",
        "\n",
        "    extracted_face = detectFaceOpenCVDnn(net, frame)\n",
        "    plt.imshow(extracted_face)\n",
        "    plt.show()\n",
        "    if (len(extracted_face) > 0):\n",
        "        hasFace = True\n",
        "    return extracted_face, hasFace"
      ]
    },
    {
      "cell_type": "markdown",
      "source": [
        "#### Predict image"
      ],
      "metadata": {
        "id": "-lWl7MolNL-2"
      }
    },
    {
      "cell_type": "code",
      "execution_count": 3,
      "metadata": {
        "id": "WXqkBDf1K3Bi"
      },
      "outputs": [],
      "source": [
        "ORI_MODEL_PATH = 'drive/MyDrive/models/distracted-inception_dropout_best.hdf5'\n",
        "HAND_MODEL_PATH = 'drive/MyDrive/models/best_model_hand_molyswu.h5'\n",
        "FACE_MODEL_PATH = 'drive/MyDrive/models/best_model_face_inception.h5'"
      ]
    },
    {
      "cell_type": "code",
      "execution_count": 8,
      "metadata": {
        "id": "zdhXwjW6K3Bi"
      },
      "outputs": [],
      "source": [
        "ori_model = tf.keras.models.load_model(ORI_MODEL_PATH)\n",
        "hand_model = tf.keras.models.load_model(HAND_MODEL_PATH)\n",
        "face_model = tf.keras.models.load_model(FACE_MODEL_PATH)"
      ]
    },
    {
      "cell_type": "code",
      "execution_count": null,
      "metadata": {
        "id": "eo0TwsN-K3Bi"
      },
      "outputs": [],
      "source": [
        "def predict(img_path):\n",
        "  # extract hand\n",
        "  img = Image.open(img_path)\n",
        "  img_np = np.array(img)\n",
        "  width, height = img.size\n",
        "  hand_img, hasHand = extractHand(img, img_np, width, height)\n",
        "  # extract face\n",
        "  img_orig = cv2.imread(img_path)\n",
        "  face_img, hasFace = extractFace(img_orig)\n",
        "  # predict\n",
        "  if (hasHand and hasFace):\n",
        "      # for ensemble\n",
        "      pass\n",
        "  else: \n",
        "      img = img.resize((224, 224))\n",
        "      img_array = np.array(img)\n",
        "      img_array = np.expand_dims(img_array, axis=0)\n",
        "      input_data = preprocess_input(img_array)\n",
        "      y_pred = ori_model.predict(input_data)\n",
        "      y_pred = np.argmax(y_pred, axis=1)\n",
        "      print(y_pred)\n",
        "  \n",
        "  "
      ]
    },
    {
      "cell_type": "markdown",
      "metadata": {
        "id": "dRHEn7UyK3Bj"
      },
      "source": [
        "#### Test"
      ]
    },
    {
      "cell_type": "code",
      "execution_count": null,
      "metadata": {
        "id": "mpbY69u5K3Bj"
      },
      "outputs": [],
      "source": [
        "img_path = os.path.join(TEST_PATH, 'c2', '1483875.jpg')"
      ]
    },
    {
      "cell_type": "code",
      "source": [
        "predict(img_path)"
      ],
      "metadata": {
        "colab": {
          "base_uri": "https://localhost:8080/",
          "height": 889
        },
        "id": "o2QYVKeSkdGU",
        "outputId": "ec1dbc20-a259-47cd-8db7-27158631392e"
      },
      "execution_count": null,
      "outputs": [
        {
          "output_type": "display_data",
          "data": {
            "text/plain": [
              "<Figure size 640x480 with 1 Axes>"
            ],
            "image/png": "[encoded data removed]"
          },
          "metadata": {}
        },
        {
          "output_type": "display_data",
          "data": {
            "text/plain": [
              "<Figure size 640x480 with 1 Axes>"
            ],
            "image/png": "[encoded data removed]"
          },
          "metadata": {}
        },
        {
          "output_type": "stream",
          "name": "stdout",
          "text": [
            "1/1 [==============================] - 2s 2s/step\n",
            "[2]\n"
          ]
        }
      ]
    }
  ],
  "metadata": {
    "language_info": {
      "name": "python"
    },
    "orig_nbformat": 4,
    "colab": {
      "provenance": []
    },
    "kernelspec": {
      "name": "python3",
      "display_name": "Python 3"
    },
    "gpuClass": "standard"
  },
  "nbformat": 4,
  "nbformat_minor": 0
}