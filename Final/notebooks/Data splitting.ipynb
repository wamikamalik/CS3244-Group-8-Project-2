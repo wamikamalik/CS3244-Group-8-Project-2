{
 "cells": [
  {
   "cell_type": "code",
   "execution_count": 12,
   "id": "87a6e5e4",
   "metadata": {},
   "outputs": [],
   "source": [
    "import glob\n",
    "import os\n",
    "import shutil\n",
    "\n",
    "import cv2\n",
    "from sklearn.model_selection import train_test_split\n",
    "\n",
    "import numpy as np\n",
    "import pandas as pd"
   ]
  },
  {
   "cell_type": "code",
   "execution_count": 39,
   "id": "fc365ef6",
   "metadata": {},
   "outputs": [
    {
     "data": {
      "text/html": [
       "<div>\n",
       "<style scoped>\n",
       "    .dataframe tbody tr th:only-of-type {\n",
       "        vertical-align: middle;\n",
       "    }\n",
       "\n",
       "    .dataframe tbody tr th {\n",
       "        vertical-align: top;\n",
       "    }\n",
       "\n",
       "    .dataframe thead th {\n",
       "        text-align: right;\n",
       "    }\n",
       "</style>\n",
       "<table border=\"1\" class=\"dataframe\">\n",
       "  <thead>\n",
       "    <tr style=\"text-align: right;\">\n",
       "      <th></th>\n",
       "      <th>Dataset</th>\n",
       "      <th>Class</th>\n",
       "      <th>Camera</th>\n",
       "      <th>Direction facing</th>\n",
       "      <th>Sex</th>\n",
       "      <th>Driver</th>\n",
       "      <th>Number of pics</th>\n",
       "      <th>Start file</th>\n",
       "      <th>End file</th>\n",
       "    </tr>\n",
       "  </thead>\n",
       "  <tbody>\n",
       "    <tr>\n",
       "      <th>0</th>\n",
       "      <td>unseen</td>\n",
       "      <td>c0</td>\n",
       "      <td>1</td>\n",
       "      <td>Right</td>\n",
       "      <td>M</td>\n",
       "      <td>1</td>\n",
       "      <td>104</td>\n",
       "      <td>000.jpg</td>\n",
       "      <td>00117.jpg</td>\n",
       "    </tr>\n",
       "    <tr>\n",
       "      <th>1</th>\n",
       "      <td>unseen</td>\n",
       "      <td>c0</td>\n",
       "      <td>2</td>\n",
       "      <td>Left</td>\n",
       "      <td>F</td>\n",
       "      <td>5</td>\n",
       "      <td>40</td>\n",
       "      <td>10794.jpg</td>\n",
       "      <td>109694.jpg</td>\n",
       "    </tr>\n",
       "    <tr>\n",
       "      <th>2</th>\n",
       "      <td>unseen</td>\n",
       "      <td>c1</td>\n",
       "      <td>1</td>\n",
       "      <td>Right</td>\n",
       "      <td>M</td>\n",
       "      <td>1</td>\n",
       "      <td>95</td>\n",
       "      <td>016.jpg</td>\n",
       "      <td>0361.jpg</td>\n",
       "    </tr>\n",
       "    <tr>\n",
       "      <th>3</th>\n",
       "      <td>unseen</td>\n",
       "      <td>c1</td>\n",
       "      <td>2</td>\n",
       "      <td>Left</td>\n",
       "      <td>F</td>\n",
       "      <td>5</td>\n",
       "      <td>80</td>\n",
       "      <td>117967.jpg</td>\n",
       "      <td>1393310.jpg</td>\n",
       "    </tr>\n",
       "    <tr>\n",
       "      <th>4</th>\n",
       "      <td>unseen</td>\n",
       "      <td>c2</td>\n",
       "      <td>1</td>\n",
       "      <td>Right</td>\n",
       "      <td>M</td>\n",
       "      <td>1</td>\n",
       "      <td>89</td>\n",
       "      <td>024.jpg</td>\n",
       "      <td>0440.jpg</td>\n",
       "    </tr>\n",
       "    <tr>\n",
       "      <th>...</th>\n",
       "      <td>...</td>\n",
       "      <td>...</td>\n",
       "      <td>...</td>\n",
       "      <td>...</td>\n",
       "      <td>...</td>\n",
       "      <td>...</td>\n",
       "      <td>...</td>\n",
       "      <td>...</td>\n",
       "      <td>...</td>\n",
       "    </tr>\n",
       "    <tr>\n",
       "      <th>447</th>\n",
       "      <td>train</td>\n",
       "      <td>c7</td>\n",
       "      <td>2</td>\n",
       "      <td>Left</td>\n",
       "      <td>M</td>\n",
       "      <td>38</td>\n",
       "      <td>20</td>\n",
       "      <td>1988061.jpg</td>\n",
       "      <td>1988613.jpg</td>\n",
       "    </tr>\n",
       "    <tr>\n",
       "      <th>448</th>\n",
       "      <td>train</td>\n",
       "      <td>c7</td>\n",
       "      <td>2</td>\n",
       "      <td>Left</td>\n",
       "      <td>F</td>\n",
       "      <td>39</td>\n",
       "      <td>20</td>\n",
       "      <td>19016032.jpg</td>\n",
       "      <td>19017339.jpg</td>\n",
       "    </tr>\n",
       "    <tr>\n",
       "      <th>449</th>\n",
       "      <td>train</td>\n",
       "      <td>c7</td>\n",
       "      <td>2</td>\n",
       "      <td>Left</td>\n",
       "      <td>M</td>\n",
       "      <td>40</td>\n",
       "      <td>20</td>\n",
       "      <td>19107934.jpg</td>\n",
       "      <td>19108682.jpg</td>\n",
       "    </tr>\n",
       "    <tr>\n",
       "      <th>450</th>\n",
       "      <td>train</td>\n",
       "      <td>c7</td>\n",
       "      <td>2</td>\n",
       "      <td>Left</td>\n",
       "      <td>F</td>\n",
       "      <td>43</td>\n",
       "      <td>20</td>\n",
       "      <td>19118071.jpg</td>\n",
       "      <td>19118933.jpg</td>\n",
       "    </tr>\n",
       "    <tr>\n",
       "      <th>451</th>\n",
       "      <td>train</td>\n",
       "      <td>c7</td>\n",
       "      <td>2</td>\n",
       "      <td>Left</td>\n",
       "      <td>F</td>\n",
       "      <td>41</td>\n",
       "      <td>20</td>\n",
       "      <td>19128106.jpg</td>\n",
       "      <td>19128933.jpg</td>\n",
       "    </tr>\n",
       "  </tbody>\n",
       "</table>\n",
       "<p>452 rows × 9 columns</p>\n",
       "</div>"
      ],
      "text/plain": [
       "    Dataset Class  Camera Direction facing Sex  Driver  Number of pics  \\\n",
       "0    unseen    c0       1            Right   M       1             104   \n",
       "1    unseen    c0       2             Left   F       5              40   \n",
       "2    unseen    c1       1            Right   M       1              95   \n",
       "3    unseen    c1       2             Left   F       5              80   \n",
       "4    unseen    c2       1            Right   M       1              89   \n",
       "..      ...   ...     ...              ...  ..     ...             ...   \n",
       "447   train    c7       2             Left   M      38              20   \n",
       "448   train    c7       2             Left   F      39              20   \n",
       "449   train    c7       2             Left   M      40              20   \n",
       "450   train    c7       2             Left   F      43              20   \n",
       "451   train    c7       2             Left   F      41              20   \n",
       "\n",
       "       Start file      End file  \n",
       "0         000.jpg     00117.jpg  \n",
       "1       10794.jpg    109694.jpg  \n",
       "2         016.jpg      0361.jpg  \n",
       "3      117967.jpg   1393310.jpg  \n",
       "4         024.jpg      0440.jpg  \n",
       "..            ...           ...  \n",
       "447   1988061.jpg   1988613.jpg  \n",
       "448  19016032.jpg  19017339.jpg  \n",
       "449  19107934.jpg  19108682.jpg  \n",
       "450  19118071.jpg  19118933.jpg  \n",
       "451  19128106.jpg  19128933.jpg  \n",
       "\n",
       "[452 rows x 9 columns]"
      ]
     },
     "execution_count": 39,
     "metadata": {},
     "output_type": "execute_result"
    }
   ],
   "source": [
    "df = pd.read_csv('3244 data new.csv')\n",
    "df"
   ]
  },
  {
   "cell_type": "code",
   "execution_count": 8,
   "id": "9b781f42",
   "metadata": {},
   "outputs": [],
   "source": [
    "classes = [f'c{i}' for i in range(8)]"
   ]
  },
  {
   "cell_type": "code",
   "execution_count": 26,
   "id": "88a71cac",
   "metadata": {},
   "outputs": [
    {
     "data": {
      "text/plain": [
       "['Distracted Driver Dataset/Combined/train/c7/09188.jpg',\n",
       " 'Distracted Driver Dataset/Combined/train/c7/09189.jpg',\n",
       " 'Distracted Driver Dataset/Combined/train/c7/09190.jpg',\n",
       " 'Distracted Driver Dataset/Combined/train/c7/09191.jpg',\n",
       " 'Distracted Driver Dataset/Combined/train/c7/09192.jpg',\n",
       " 'Distracted Driver Dataset/Combined/train/c7/09193.jpg',\n",
       " 'Distracted Driver Dataset/Combined/train/c7/09194.jpg',\n",
       " 'Distracted Driver Dataset/Combined/train/c7/09195.jpg',\n",
       " 'Distracted Driver Dataset/Combined/train/c7/09196.jpg',\n",
       " 'Distracted Driver Dataset/Combined/train/c7/09197.jpg']"
      ]
     },
     "execution_count": 26,
     "metadata": {},
     "output_type": "execute_result"
    }
   ],
   "source": [
    "# NOTE: file order in above csv might not be the same as file order returned by glob.glob.\n",
    "# Default order doesn't work because 09999.jpg and 091000.jpg might belong to the same driver, \n",
    "# but 091000.jpg will appear much earlier\n",
    "#\n",
    "# Use the function below to return it in the same order.\n",
    "# We could use this info to do very specific forms of sampling, e.g. sampling by driver.\n",
    "\n",
    "func = lambda x: f'{x.split(\"/\")[-1]:>015.15s}'\n",
    "\n",
    "# Checking that it works\n",
    "filepaths = sorted(glob.glob(os.path.join('Distracted Driver Dataset','Combined','train','c7','*')), key=func)\n",
    "filepaths[:10]"
   ]
  },
  {
   "cell_type": "markdown",
   "id": "f66d1861",
   "metadata": {},
   "source": [
    "## Creating folders"
   ]
  },
  {
   "cell_type": "code",
   "execution_count": 27,
   "id": "9e6e3677",
   "metadata": {},
   "outputs": [],
   "source": [
    "stem = os.path.join('Distracted Driver Dataset','Combined New')\n",
    "\n",
    "os.mkdir(stem)\n",
    "\n",
    "for folder in ['train','test','unseen']:\n",
    "    os.mkdir(os.path.join(stem, folder))\n",
    "    \n",
    "    for cls in classes:\n",
    "        os.mkdir(os.path.join(stem, folder, cls))"
   ]
  },
  {
   "cell_type": "markdown",
   "id": "d927e237",
   "metadata": {},
   "source": [
    "## Creating unseen dataset\n",
    "Drivers 1 and 5"
   ]
  },
  {
   "cell_type": "code",
   "execution_count": 46,
   "id": "14c30441",
   "metadata": {},
   "outputs": [],
   "source": [
    "unknown_drivers = [1,5]\n",
    "stem = os.path.join('Distracted Driver Dataset','Combined','test')\n",
    "\n",
    "for driver in unknown_drivers:\n",
    "    curr_driver = df[df['Driver'] == driver]\n",
    "    \n",
    "    for i in range(curr_driver.shape[0]):\n",
    "        row = curr_driver.iloc[i]\n",
    "        cls = row.loc['Class']\n",
    "\n",
    "        filepaths = sorted(glob.glob(os.path.join(stem, cls,'unseen','*.jpg')), key=func)\n",
    "\n",
    "        arr = []\n",
    "        is_interest = False\n",
    "\n",
    "        for filepath in filepaths:\n",
    "            file = filepath.split(\"/\")[-1]\n",
    "\n",
    "            if file == row['Start file']:\n",
    "                is_interest = True\n",
    "\n",
    "            if is_interest:\n",
    "                arr.append(filepath)\n",
    "\n",
    "            if file == row['End file']:\n",
    "                is_interest = False\n",
    "\n",
    "        for file in arr:\n",
    "            dest = os.path.join(stem, cls, 'unseen')\n",
    "            if os.path.exists(dest) == False:\n",
    "                os.mkdir(dest)\n",
    "            shutil.move(file, dest)\n",
    "            shutil.copy(file, os.path.join('Distracted Driver Dataset', 'Combined New', 'unseen', cls))"
   ]
  },
  {
   "cell_type": "code",
   "execution_count": 55,
   "id": "38057898",
   "metadata": {},
   "outputs": [
    {
     "data": {
      "text/plain": [
       "839"
      ]
     },
     "execution_count": 55,
     "metadata": {},
     "output_type": "execute_result"
    }
   ],
   "source": [
    "# Checking how many files have been copied\n",
    "files = sorted(glob.glob(os.path.join('Distracted Driver Dataset','Combined New','unseen','c*','*')), key=func)\n",
    "len(files)"
   ]
  },
  {
   "cell_type": "code",
   "execution_count": 48,
   "id": "8a4f7fc2",
   "metadata": {},
   "outputs": [],
   "source": [
    "# Flipping Camera 2 files\n",
    "\n",
    "for file in files:\n",
    "    if file.split(\"/\")[-1][0] == '1':\n",
    "        img = cv2.imread(file)\n",
    "        img = cv2.flip(img, 1)\n",
    "        cv2.imwrite(file, img)"
   ]
  },
  {
   "cell_type": "markdown",
   "id": "391fe959",
   "metadata": {},
   "source": [
    "## Splitting the rest of the data"
   ]
  },
  {
   "cell_type": "code",
   "execution_count": 548,
   "id": "ea315a5a",
   "metadata": {},
   "outputs": [],
   "source": [
    "for cls in classes:\n",
    "    files = glob.glob(os.path.join('Distracted Driver Dataset','Combined','*',cls,'*.jpg')\n",
    "    train,test = train_test_split(files, test_size = .25, random_state=3244)\n",
    "\n",
    "    for file in files:\n",
    "        if file in train:\n",
    "            shutil.copy(file, os.path.join('Distracted Driver Dataset','Combined New','train',cls))\n",
    "        else:\n",
    "            shutil.copy(file, os.path.join('Distracted Driver Dataset','Combined New','test',cls))"
   ]
  },
  {
   "cell_type": "code",
   "execution_count": 51,
   "id": "4cc974ae",
   "metadata": {},
   "outputs": [
    {
     "data": {
      "text/plain": [
       "13639"
      ]
     },
     "execution_count": 51,
     "metadata": {},
     "output_type": "execute_result"
    }
   ],
   "source": [
    "# Checking how many files have been copied\n",
    "files = glob.glob(os.path.join('Distracted Driver Dataset','Combined New','t*','*','*.jpg'))\n",
    "len(files)"
   ]
  },
  {
   "cell_type": "code",
   "execution_count": 567,
   "id": "82372ae6",
   "metadata": {},
   "outputs": [],
   "source": [
    "# Flipping Camera 2 images\n",
    "\n",
    "for file in files:\n",
    "    if file.split(\"/\")[-1][0] == '1': # Images belonging to camera 2 start with '1'\n",
    "        img = cv2.imread(file)\n",
    "        img = cv2.flip(img, 1)\n",
    "        cv2.imwrite(file, img)"
   ]
  },
  {
   "cell_type": "markdown",
   "id": "0aab1b18",
   "metadata": {},
   "source": [
    "## Checking that dataset has been correctly split"
   ]
  },
  {
   "cell_type": "code",
   "execution_count": 54,
   "id": "d5e27cda",
   "metadata": {},
   "outputs": [
    {
     "name": "stdout",
     "output_type": "stream",
     "text": [
      "Distracted Driver Dataset/Combined New2/test/c0: 711\n",
      "Distracted Driver Dataset/Combined New2/test/c1: 667\n",
      "Distracted Driver Dataset/Combined New2/test/c2: 602\n",
      "Distracted Driver Dataset/Combined New2/test/c3: 264\n",
      "Distracted Driver Dataset/Combined New2/test/c4: 255\n",
      "Distracted Driver Dataset/Combined New2/test/c5: 243\n",
      "Distracted Driver Dataset/Combined New2/test/c6: 242\n",
      "Distracted Driver Dataset/Combined New2/test/c7: 430\n",
      "Distracted Driver Dataset/Combined New2/train/c0: 2131\n",
      "Distracted Driver Dataset/Combined New2/train/c1: 2000\n",
      "Distracted Driver Dataset/Combined New2/train/c2: 1805\n",
      "Distracted Driver Dataset/Combined New2/train/c3: 791\n",
      "Distracted Driver Dataset/Combined New2/train/c4: 762\n",
      "Distracted Driver Dataset/Combined New2/train/c5: 726\n",
      "Distracted Driver Dataset/Combined New2/train/c6: 723\n",
      "Distracted Driver Dataset/Combined New2/train/c7: 1287\n",
      "13639\n"
     ]
    }
   ],
   "source": [
    "file_counts = []\n",
    "\n",
    "for folder in sorted(glob.glob(os.path.join('Distracted Driver Dataset','Combined New','t*'))):\n",
    "    for cls in classes:\n",
    "        count = len(glob.glob(os.path.join(folder, cls, '*')))\n",
    "        print(f'{folder}/{cls}: {count}')\n",
    "        \n",
    "        file_counts.append(count)\n",
    "\n",
    "print(sum(file_counts))"
   ]
  }
 ],
 "metadata": {
  "kernelspec": {
   "display_name": "Python 3 (ipykernel)",
   "language": "python",
   "name": "python3"
  },
  "language_info": {
   "codemirror_mode": {
    "name": "ipython",
    "version": 3
   },
   "file_extension": ".py",
   "mimetype": "text/x-python",
   "name": "python",
   "nbconvert_exporter": "python",
   "pygments_lexer": "ipython3",
   "version": "3.8.8"
  }
 },
 "nbformat": 4,
 "nbformat_minor": 5
}
