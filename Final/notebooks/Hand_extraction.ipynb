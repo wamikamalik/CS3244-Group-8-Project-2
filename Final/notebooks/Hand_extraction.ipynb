{
  "cells": [
    {
      "cell_type": "code",
      "execution_count": 1,
      "metadata": {
        "id": "SMFd9OyaoXBi"
      },
      "outputs": [],
      "source": [
        "import numpy as np\n",
        "import sys\n",
        "import tensorflow as tf\n",
        "import os\n",
        "from threading import Thread\n",
        "from datetime import datetime\n",
        "import cv2\n",
        "import shutil\n",
        "# from utils import label_map_util\n",
        "from collections import defaultdict\n",
        "from sklearn.model_selection import train_test_split\n",
        "from tensorflow.keras.preprocessing.image import ImageDataGenerator\n",
        "from matplotlib import pyplot as plt\n",
        "import pandas as pd\n",
        "from sklearn.metrics import confusion_matrix\n",
        "from PIL import Image\n",
        "from PIL import ImageFile"
      ]
    },
    {
      "cell_type": "code",
      "execution_count": 2,
      "metadata": {
        "id": "jZmC7KObo1Id"
      },
      "outputs": [],
      "source": [
        "detection_graph = tf.Graph()\n",
        "sys.path.append(\"..\")"
      ]
    },
    {
      "cell_type": "code",
      "execution_count": 3,
      "metadata": {
        "id": "Gk5zxy-_o1Uk"
      },
      "outputs": [],
      "source": [
        "MODEL_NAME = 'drive/MyDrive/hand_inference_graph'\n",
        "# Path to frozen detection graph. This is the actual model that is used for the object detection.\n",
        "PATH_TO_CKPT = MODEL_NAME + '/frozen_inference_graph.pb'\n",
        "# List of the strings that is used to add correct label for each box.\n",
        "PATH_TO_LABELS = os.path.join(MODEL_NAME, 'hand_label_map.pbtxt')\n",
        "\n",
        "NUM_CLASSES = 8"
      ]
    },
    {
      "cell_type": "code",
      "execution_count": 4,
      "metadata": {
        "id": "2qDDcl45dw5y"
      },
      "outputs": [],
      "source": [
        "PARENT_PATH = os.getcwd()\n",
        "DATA_PATH = os.path.join(os.getcwd(),\"CombinedNew\", \"Combined New\")\n",
        "TEST_PATH = os.path.join(DATA_PATH, \"test\")\n",
        "TRAIN_PATH = os.path.join(DATA_PATH, \"train\")\n",
        "NEW_TRAIN_PATH = os.path.join(DATA_PATH, \"new_train\")\n",
        "VALID_PATH = os.path.join(DATA_PATH, \"valid\")\n",
        "UNSEEN_PATH = os.path.join(DATA_PATH, \"unseen\")\n",
        "MODEL_PATH = \"drive/MyDrive/models\"\n",
        "NUM_CLASSES = 8\n",
        "CLS_LABELS = ['c0', 'c1', 'c2', 'c3', 'c4', 'c5', 'c6', 'c7']\n",
        "SAVE_PATH = os.path.join(os.getcwd(), 'Combined new hand')"
      ]
    },
    {
      "cell_type": "code",
      "execution_count": 5,
      "metadata": {
        "id": "ayjyI9ZjdxbI"
      },
      "outputs": [],
      "source": [
        "if os.path.exists(DATA_PATH):\n",
        "  shutil.rmtree(DATA_PATH)\n",
        "if os.path.exists(SAVE_PATH):\n",
        "  shutil.rmtree(SAVE_PATH)\n",
        "from zipfile import ZipFile\n",
        "password = \"57Rk!F8yUz38\"\n",
        "with ZipFile('drive/MyDrive/CombinedNew.zip') as zipObj:\n",
        "  zipObj.extractall()"
      ]
    },
    {
      "cell_type": "code",
      "execution_count": 6,
      "metadata": {
        "id": "teDBnJxWjMEb"
      },
      "outputs": [],
      "source": [
        "for class_folder in os.listdir(TRAIN_PATH):\n",
        "  class_path = os.path.join(TRAIN_PATH, class_folder)\n",
        "  if class_folder == \".DS_Store\":\n",
        "      continue\n",
        "  train_imgs, test_imgs = train_test_split(os.listdir(class_path), test_size=0.2, random_state = 42)\n",
        "\n",
        "  for img in train_imgs: \n",
        "    src = os.path.join(class_path, img)\n",
        "    dst = os.path.join(NEW_TRAIN_PATH, class_folder, img)\n",
        "    if not os.path.exists(os.path.join(NEW_TRAIN_PATH, class_folder)):\n",
        "      os.makedirs(os.path.join(NEW_TRAIN_PATH, class_folder))\n",
        "    shutil.copy(src, dst)\n",
        "\n",
        "  for img in test_imgs: \n",
        "    src = os.path.join(class_path, img)\n",
        "    dst = os.path.join(VALID_PATH, class_folder, img)\n",
        "    if not os.path.exists(os.path.join(VALID_PATH, class_folder)):\n",
        "      os.makedirs(os.path.join(VALID_PATH, class_folder))\n",
        "    shutil.copy(src, dst)"
      ]
    },
    {
      "cell_type": "code",
      "execution_count": 7,
      "metadata": {
        "id": "FLvfPWrQo1es"
      },
      "outputs": [],
      "source": [
        "# -----------------------------------------------\n",
        "# Hand Detection\n",
        "# -----------------------------------------------\n",
        "# download model and proto buf from hhttps://github.com/molyswu/hand_detection/tree/temp/hand_detection/protos\n",
        "\n",
        "def load_inference_graph():\n",
        "\n",
        "    # load frozen tensorflow model into memory\n",
        "    print(\"> ====== loading HAND frozen graph into memory\")\n",
        "    detection_graph = tf.Graph()\n",
        "    with detection_graph.as_default():\n",
        "        with tf.io.gfile.GFile(PATH_TO_CKPT, 'rb') as fid:\n",
        "            serialized_graph = fid.read()\n",
        "            od_graph_def = tf.compat.v1.GraphDef()\n",
        "            od_graph_def.ParseFromString(serialized_graph)\n",
        "            tf.import_graph_def(od_graph_def, name='')\n",
        "        sess = tf.compat.v1.Session(graph=detection_graph)\n",
        "    print(\"> ======= Hand Inference graph loaded.\")\n",
        "    return detection_graph, sess\n"
      ]
    },
    {
      "cell_type": "code",
      "execution_count": 8,
      "metadata": {
        "id": "x9NjEZoUCZaD"
      },
      "outputs": [],
      "source": [
        "def detect_objects(image_np, detection_graph, sess):\n",
        "    # Definite input and output Tensors for detection_graph\n",
        "    image_tensor = detection_graph.get_tensor_by_name('image_tensor:0')\n",
        "    # Each box represents a part of the image where a particular object was detected.\n",
        "    detection_boxes = detection_graph.get_tensor_by_name('detection_boxes:0')\n",
        "    # Each score represent how level of confidence for each of the objects.\n",
        "    # Score is shown on the result image, together with the class label.\n",
        "    detection_scores = detection_graph.get_tensor_by_name('detection_scores:0')\n",
        "    detection_classes = detection_graph.get_tensor_by_name('detection_classes:0')\n",
        "    num_detections = detection_graph.get_tensor_by_name('num_detections:0')\n",
        "\n",
        "    image_np_expanded = np.expand_dims(image_np, axis=0)\n",
        "\n",
        "    (boxes, scores, classes, num) = sess.run(\n",
        "        [detection_boxes, detection_scores,\n",
        "            detection_classes, num_detections],\n",
        "        feed_dict={image_tensor: image_np_expanded})\n",
        "    return np.squeeze(boxes), np.squeeze(scores)"
      ]
    },
    {
      "cell_type": "code",
      "execution_count": 9,
      "metadata": {
        "colab": {
          "base_uri": "https://localhost:8080/"
        },
        "id": "zHcbg8dk13R6",
        "outputId": "a29e6416-d56e-4fe1-af83-8f4c9848f2e2"
      },
      "outputs": [
        {
          "name": "stdout",
          "output_type": "stream",
          "text": [
            "> ====== loading HAND frozen graph into memory\n",
            "> ======= Hand Inference graph loaded.\n"
          ]
        }
      ],
      "source": [
        "detection_graph, sess = load_inference_graph()"
      ]
    },
    {
      "cell_type": "code",
      "execution_count": 9,
      "metadata": {
        "id": "19ctuDVsaUnh"
      },
      "outputs": [],
      "source": []
    },
    {
      "cell_type": "code",
      "execution_count": 10,
      "metadata": {
        "id": "SBwMLaMxKe3o"
      },
      "outputs": [],
      "source": [
        "datasets = [NEW_TRAIN_PATH, VALID_PATH, TEST_PATH, UNSEEN_PATH]\n",
        "datasets_name = ['new_train', 'valid', 'test', 'unseen']"
      ]
    },
    {
      "cell_type": "code",
      "execution_count": 11,
      "metadata": {
        "id": "6-OaNgtmcvVI"
      },
      "outputs": [],
      "source": [
        "for dataset in datasets_name:\n",
        "  for cls_label in CLS_LABELS:\n",
        "    if not os.path.exists(os.path.join(SAVE_PATH, dataset, cls_label)):\n",
        "       os.makedirs(os.path.join(SAVE_PATH, dataset, cls_label))"
      ]
    },
    {
      "cell_type": "code",
      "execution_count": 12,
      "metadata": {
        "id": "AGWI-RinLOmy"
      },
      "outputs": [],
      "source": [
        "img_paths = []\n",
        "\n",
        "for i in range(4):\n",
        "  dataset = datasets[i]\n",
        "  dataset_name = datasets_name[i]\n",
        "  for cls_label in CLS_LABELS:\n",
        "    cls_path = os.path.join(dataset, cls_label)\n",
        "    for img in os.listdir(cls_path):\n",
        "      if (img != '.DS_Store'):\n",
        "        img_path = os.path.join(cls_path, img)\n",
        "        img_np = np.array(Image.open(img_path))\n",
        "        # Run object detection\n",
        "        boxes, scores = detect_objects(img_np, detection_graph, sess)\n",
        "        ori_img = Image.open(img_path)\n",
        "        width, height = ori_img.size\n",
        "        # Create a blank white image with the same dimensions as the original image\n",
        "        new_image = Image.new(\"RGB\", (width, height), (255, 255, 255))\n",
        "\n",
        "        for i, box in enumerate(boxes):\n",
        "          # Get the box coordinates\n",
        "          ymin, xmin, ymax, xmax = box\n",
        "          ymin = int(ymin * img_np.shape[0])\n",
        "          xmin = int(xmin * img_np.shape[1])\n",
        "          ymax = int(ymax * img_np.shape[0])\n",
        "          xmax = int(xmax * img_np.shape[1])\n",
        "          if scores[i] > 0.4: \n",
        "            box_pixels = ori_img.crop((xmin, ymin, xmax, ymax))\n",
        "            new_image.paste(box_pixels, (xmin, ymin))\n",
        "        save_path = os.path.join(SAVE_PATH, dataset_name, cls_label, img)\n",
        "        if sum(score > 0.4 for score in scores) > 0:\n",
        "          save_path = os.path.join(SAVE_PATH, dataset_name, cls_label, img)\n",
        "          new_image.save(save_path)\n"
      ]
    },
    {
      "cell_type": "code",
      "execution_count": 13,
      "metadata": {
        "colab": {
          "base_uri": "https://localhost:8080/",
          "height": 17
        },
        "id": "FuOsUBkU3HDo",
        "outputId": "ac13bb0f-5ae1-4e90-d457-721c349fb761"
      },
      "outputs": [
        {
          "data": {
            "application/javascript": "\n    async function download(id, filename, size) {\n      if (!google.colab.kernel.accessAllowed) {\n        return;\n      }\n      const div = document.createElement('div');\n      const label = document.createElement('label');\n      label.textContent = `Downloading \"${filename}\": `;\n      div.appendChild(label);\n      const progress = document.createElement('progress');\n      progress.max = size;\n      div.appendChild(progress);\n      document.body.appendChild(div);\n\n      const buffers = [];\n      let downloaded = 0;\n\n      const channel = await google.colab.kernel.comms.open(id);\n      // Send a message to notify the kernel that we're ready.\n      channel.send({})\n\n      for await (const message of channel.messages) {\n        // Send a message to notify the kernel that we're ready.\n        channel.send({})\n        if (message.buffers) {\n          for (const buffer of message.buffers) {\n            buffers.push(buffer);\n            downloaded += buffer.byteLength;\n            progress.value = downloaded;\n          }\n        }\n      }\n      const blob = new Blob(buffers, {type: 'application/binary'});\n      const a = document.createElement('a');\n      a.href = window.URL.createObjectURL(blob);\n      a.download = filename;\n      div.appendChild(a);\n      a.click();\n      div.remove();\n    }\n  ",
            "text/plain": [
              "<IPython.core.display.Javascript object>"
            ]
          },
          "metadata": {},
          "output_type": "display_data"
        },
        {
          "data": {
            "application/javascript": "download(\"download_d447679f-0e1f-474f-8d2d-2809e3bb8220\", \"Combined new hand.zip\", 159929397)",
            "text/plain": [
              "<IPython.core.display.Javascript object>"
            ]
          },
          "metadata": {},
          "output_type": "display_data"
        }
      ],
      "source": [
        "# for i in range(4):\n",
        "#   dataset_name = datasets_name[i]\n",
        "#   for cls_label in CLS_LABELS:\n",
        "#     cls_path = os.path.join(SAVE_PATH, dataset_name, cls_label)\n",
        "#     if not os.path.exists(os.path.join('drive/MyDrive', \"Combined hand\", dataset, cls_label)):\n",
        "#       os.makedirs(os.path.join('drive/MyDrive', \"Combined hand\",  dataset, cls_label))\n",
        "#     for img in os.listdir(cls_path):\n",
        "#       src = os.path.join(cls_path, img)\n",
        "#       des = os.path.join('drive/MyDrive', \"Combined hand\",  dataset, cls_label, img)\n",
        "#       print(des)\n",
        "#       shutil.copy(src, dst)\n",
        "from google.colab import files\n",
        "import shutil\n",
        "\n",
        "shutil.make_archive(\"Combined new hand\", 'zip', \"Combined new hand\")\n",
        "files.download(\"Combined new hand.zip\")    "
      ]
    },
    {
      "cell_type": "code",
      "execution_count": 13,
      "metadata": {
        "id": "T1994Xaw3ZKI"
      },
      "outputs": [],
      "source": []
    }
  ],
  "metadata": {
    "colab": {
      "provenance": []
    },
    "kernelspec": {
      "display_name": "Python 3",
      "name": "python3"
    },
    "language_info": {
      "name": "python"
    }
  },
  "nbformat": 4,
  "nbformat_minor": 0
}
