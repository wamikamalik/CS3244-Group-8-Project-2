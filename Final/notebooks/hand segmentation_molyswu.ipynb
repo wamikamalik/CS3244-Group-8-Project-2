{
 "cells": [
  {
   "cell_type": "code",
   "execution_count": 2,
   "id": "33992301",
   "metadata": {},
   "outputs": [
    {
     "data": {
      "text/plain": [
       "True"
      ]
     },
     "execution_count": 2,
     "metadata": {},
     "output_type": "execute_result"
    }
   ],
   "source": [
    "import argparse\n",
    "import json\n",
    "import os\n",
    "import cv2\n",
    "import numpy as np\n",
    "import matplotlib.pyplot as plt\n",
    "import scipy.io\n",
    "import pandas as pd\n",
    "import seaborn as sns\n",
    "import torch\n",
    "import torch.nn as nn\n",
    "import torch.nn.functional as F\n",
    "import torchvision\n",
    "import pytorch_lightning as pl\n",
    "from torchvision import transforms\n",
    "from torch.utils.data import Dataset, DataLoader, ConcatDataset\n",
    "from torchvision.utils import make_grid\n",
    "import keras\n",
    "from keras import datasets, layers, models\n",
    "from keras.utils import np_utils\n",
    "from sklearn.model_selection import train_test_split\n",
    "from sklearn.metrics import classification_report, get_scorer_names, precision_score, recall_score, f1_score\n",
    "from sklearn import metrics\n",
    "from PIL import Image, ImageDraw\n",
    "from tqdm import tqdm\n",
    "# We import the data set from tensorflow and build the model there\n",
    "import tensorflow as tf\n",
    "from tensorflow.keras import layers, models\n",
    "from tensorflow.keras.preprocessing.image import ImageDataGenerator\n",
    "\n",
    "# Import the inception model  \n",
    "from tensorflow.keras.applications.inception_v3 import InceptionV3\n",
    "\n",
    "import torch\n",
    "# If you do not have a GPU or do not want to run this code on your GPU, comment out the following lines\n",
    "torch.cuda.empty_cache()\n",
    "torch.cuda.is_available()"
   ]
  },
  {
   "cell_type": "markdown",
   "id": "38008493",
   "metadata": {},
   "source": [
    "## Transfer Learning with TensorFlow Keras\n",
    "\n",
    "https://github.com/tejanirla/image_classification/blob/master/transfer_learning.ipynb"
   ]
  },
  {
   "cell_type": "code",
   "execution_count": 15,
   "id": "d9a4208c",
   "metadata": {},
   "outputs": [
    {
     "name": "stdout",
     "output_type": "stream",
     "text": [
      "Found 6799 images belonging to 8 classes.\n",
      "Found 1713 images belonging to 8 classes.\n",
      "Found 2802 images belonging to 8 classes.\n"
     ]
    }
   ],
   "source": [
    "train_dir = \"../Data/Combined new hand/new_train\"\n",
    "val_dir = \"../Data/Combined new hand/valid\"\n",
    "test_dir = \"../Data/Combined new hand/test\"\n",
    "# Add our data-augmentation parameters to ImageDataGenerator\n",
    "train_datagen = ImageDataGenerator(rescale = 1./255.,\n",
    "                                   width_shift_range = 0.02,\n",
    "                                   height_shift_range = 0.02,\n",
    "                                   horizontal_flip = False)\n",
    "\n",
    "# Note that the validation data should not be augmented!\n",
    "val_datagen = ImageDataGenerator( rescale = 1.0/255.)\n",
    "\n",
    "# Note that the test data should not be augmented!\n",
    "test_datagen = ImageDataGenerator( rescale = 1.0/255. )\n",
    "\n",
    "# Flow training images in batches of 40 using train_datagen generator\n",
    "train_generator = train_datagen.flow_from_directory(train_dir,\n",
    "                                                    batch_size = 40,\n",
    "                                                    class_mode = 'categorical', \n",
    "                                                    target_size = (100, 75), shuffle = True)   \n",
    "# Flow validation images in batches of 40 using val_datagen generator\n",
    "val_generator =  val_datagen.flow_from_directory( val_dir,\n",
    "                                                          batch_size  = 40,\n",
    "                                                          class_mode  = 'categorical', \n",
    "                                                          target_size = (100, 75), shuffle = True)  \n",
    "\n",
    "# Flow test images in batches of 40 using test_datagen generator\n",
    "test_generator =  test_datagen.flow_from_directory( test_dir,\n",
    "                                                          batch_size  = 40,\n",
    "                                                          class_mode  = 'categorical', \n",
    "                                                          target_size = (100, 75), shuffle = False)"
   ]
  },
  {
   "cell_type": "code",
   "execution_count": 16,
   "id": "0b6a1a6a",
   "metadata": {},
   "outputs": [],
   "source": [
    "pre_trained_model = InceptionV3(input_shape = (100, 75, 3), # Shape of our images\n",
    "                                include_top = False, # Leave out the last fully connected layer\n",
    "                                weights = 'imagenet')\n",
    "for layer in pre_trained_model.layers:\n",
    "    layer.trainable = True"
   ]
  },
  {
   "cell_type": "code",
   "execution_count": 17,
   "id": "c95703f2",
   "metadata": {},
   "outputs": [],
   "source": [
    "last_layer = pre_trained_model.get_layer('mixed4') #Only use layers including and above 'mixed4'\n",
    "last_op = last_layer.output\n",
    "# Flatten the output layer to 1 dimension\n",
    "x = layers.Flatten()(last_op)\n",
    "# # Add a fully connected layer with 512 hidden units and ReLU activation\n",
    "x = layers.Dense(512, activation='relu')(x)\n",
    "# Add a dropout rate of 0.5\n",
    "x = layers.Dropout(0.5)(x)                  \n",
    "# Add a final sigmoid layer for classification\n",
    "x = layers.Dense  (8, activation='softmax')(x)           \n",
    "\n",
    "model = keras.Model(pre_trained_model.input, x) \n",
    "\n",
    "model.compile(optimizer = keras.optimizers.SGD(learning_rate=0.01), \n",
    "              loss = 'categorical_crossentropy', \n",
    "              metrics = ['acc'])"
   ]
  },
  {
   "cell_type": "code",
   "execution_count": 18,
   "id": "46038afb",
   "metadata": {},
   "outputs": [
    {
     "name": "stdout",
     "output_type": "stream",
     "text": [
      "Epoch 1/200\n",
      "20/20 - 27s - loss: 1.9220 - acc: 0.3300 - val_loss: 1.8394 - val_acc: 0.3562 - 27s/epoch - 1s/step\n",
      "Epoch 2/200\n",
      "20/20 - 26s - loss: 1.6401 - acc: 0.4137 - val_loss: 1.6308 - val_acc: 0.3825 - 26s/epoch - 1s/step\n",
      "Epoch 3/200\n",
      "20/20 - 25s - loss: 1.4685 - acc: 0.4837 - val_loss: 1.4922 - val_acc: 0.4663 - 25s/epoch - 1s/step\n",
      "Epoch 4/200\n",
      "20/20 - 26s - loss: 1.4030 - acc: 0.4837 - val_loss: 1.4417 - val_acc: 0.5250 - 26s/epoch - 1s/step\n",
      "Epoch 5/200\n",
      "20/20 - 26s - loss: 1.3080 - acc: 0.5362 - val_loss: 1.3914 - val_acc: 0.4625 - 26s/epoch - 1s/step\n",
      "Epoch 6/200\n",
      "20/20 - 26s - loss: 1.2921 - acc: 0.5425 - val_loss: 1.2891 - val_acc: 0.5525 - 26s/epoch - 1s/step\n",
      "Epoch 7/200\n",
      "20/20 - 26s - loss: 1.2974 - acc: 0.5400 - val_loss: 1.3057 - val_acc: 0.5300 - 26s/epoch - 1s/step\n",
      "Epoch 8/200\n",
      "20/20 - 27s - loss: 1.2332 - acc: 0.5738 - val_loss: 1.2015 - val_acc: 0.5938 - 27s/epoch - 1s/step\n",
      "Epoch 9/200\n",
      "20/20 - 26s - loss: 1.1623 - acc: 0.5813 - val_loss: 1.1520 - val_acc: 0.5938 - 26s/epoch - 1s/step\n",
      "Epoch 10/200\n",
      "20/20 - 25s - loss: 1.1270 - acc: 0.6050 - val_loss: 1.1054 - val_acc: 0.6300 - 25s/epoch - 1s/step\n",
      "Epoch 11/200\n",
      "20/20 - 25s - loss: 1.1085 - acc: 0.6075 - val_loss: 1.0945 - val_acc: 0.6438 - 25s/epoch - 1s/step\n",
      "Epoch 12/200\n",
      "20/20 - 25s - loss: 1.0636 - acc: 0.6300 - val_loss: 1.0351 - val_acc: 0.6538 - 25s/epoch - 1s/step\n",
      "Epoch 13/200\n",
      "20/20 - 25s - loss: 1.0240 - acc: 0.6350 - val_loss: 1.0225 - val_acc: 0.6450 - 25s/epoch - 1s/step\n",
      "Epoch 14/200\n",
      "20/20 - 25s - loss: 0.9918 - acc: 0.6350 - val_loss: 1.0541 - val_acc: 0.6200 - 25s/epoch - 1s/step\n",
      "Epoch 15/200\n",
      "20/20 - 25s - loss: 0.9824 - acc: 0.6475 - val_loss: 0.9971 - val_acc: 0.6700 - 25s/epoch - 1s/step\n",
      "Epoch 16/200\n",
      "20/20 - 25s - loss: 1.0204 - acc: 0.6500 - val_loss: 1.1018 - val_acc: 0.6288 - 25s/epoch - 1s/step\n",
      "Epoch 17/200\n",
      "20/20 - 25s - loss: 0.9611 - acc: 0.6675 - val_loss: 0.9802 - val_acc: 0.6600 - 25s/epoch - 1s/step\n",
      "Epoch 18/200\n",
      "20/20 - 25s - loss: 0.9396 - acc: 0.6750 - val_loss: 0.9053 - val_acc: 0.6988 - 25s/epoch - 1s/step\n",
      "Epoch 19/200\n",
      "20/20 - 25s - loss: 0.9544 - acc: 0.6625 - val_loss: 0.9294 - val_acc: 0.6662 - 25s/epoch - 1s/step\n",
      "Epoch 20/200\n",
      "20/20 - 25s - loss: 0.8981 - acc: 0.6900 - val_loss: 0.9433 - val_acc: 0.6700 - 25s/epoch - 1s/step\n",
      "Epoch 21/200\n",
      "20/20 - 25s - loss: 0.8379 - acc: 0.7121 - val_loss: 0.9173 - val_acc: 0.6762 - 25s/epoch - 1s/step\n",
      "Epoch 22/200\n",
      "20/20 - 25s - loss: 0.8724 - acc: 0.7050 - val_loss: 0.8842 - val_acc: 0.6862 - 25s/epoch - 1s/step\n",
      "Epoch 23/200\n",
      "20/20 - 25s - loss: 0.9010 - acc: 0.6875 - val_loss: 0.9464 - val_acc: 0.6625 - 25s/epoch - 1s/step\n",
      "Epoch 24/200\n",
      "20/20 - 25s - loss: 0.8707 - acc: 0.6812 - val_loss: 0.8753 - val_acc: 0.7088 - 25s/epoch - 1s/step\n",
      "Epoch 25/200\n",
      "20/20 - 24s - loss: 0.8445 - acc: 0.6988 - val_loss: 0.8336 - val_acc: 0.6963 - 24s/epoch - 1s/step\n",
      "Epoch 26/200\n",
      "20/20 - 24s - loss: 0.8213 - acc: 0.7212 - val_loss: 0.9056 - val_acc: 0.6938 - 24s/epoch - 1s/step\n",
      "Epoch 27/200\n",
      "20/20 - 25s - loss: 0.7872 - acc: 0.7200 - val_loss: 0.8283 - val_acc: 0.7150 - 25s/epoch - 1s/step\n",
      "Epoch 28/200\n",
      "20/20 - 25s - loss: 0.8085 - acc: 0.6988 - val_loss: 0.7895 - val_acc: 0.7200 - 25s/epoch - 1s/step\n",
      "Epoch 29/200\n",
      "20/20 - 25s - loss: 0.7716 - acc: 0.7337 - val_loss: 0.7867 - val_acc: 0.7375 - 25s/epoch - 1s/step\n",
      "Epoch 30/200\n",
      "20/20 - 25s - loss: 0.7498 - acc: 0.7400 - val_loss: 0.8045 - val_acc: 0.7188 - 25s/epoch - 1s/step\n",
      "Epoch 31/200\n",
      "20/20 - 25s - loss: 0.7829 - acc: 0.7200 - val_loss: 0.7885 - val_acc: 0.7300 - 25s/epoch - 1s/step\n",
      "Epoch 32/200\n",
      "20/20 - 30s - loss: 0.6972 - acc: 0.7650 - val_loss: 0.8195 - val_acc: 0.7212 - 30s/epoch - 1s/step\n",
      "Epoch 33/200\n",
      "20/20 - 25s - loss: 0.6759 - acc: 0.7675 - val_loss: 0.7684 - val_acc: 0.7250 - 25s/epoch - 1s/step\n",
      "Epoch 34/200\n",
      "20/20 - 25s - loss: 0.6781 - acc: 0.7700 - val_loss: 0.7939 - val_acc: 0.7250 - 25s/epoch - 1s/step\n",
      "Epoch 35/200\n",
      "20/20 - 25s - loss: 0.7292 - acc: 0.7450 - val_loss: 0.7601 - val_acc: 0.7437 - 25s/epoch - 1s/step\n",
      "Epoch 36/200\n",
      "20/20 - 25s - loss: 0.7083 - acc: 0.7534 - val_loss: 0.7592 - val_acc: 0.7400 - 25s/epoch - 1s/step\n",
      "Epoch 37/200\n",
      "20/20 - 25s - loss: 0.6470 - acc: 0.7700 - val_loss: 0.7354 - val_acc: 0.7437 - 25s/epoch - 1s/step\n",
      "Epoch 38/200\n",
      "20/20 - 25s - loss: 0.6936 - acc: 0.7625 - val_loss: 0.6592 - val_acc: 0.7837 - 25s/epoch - 1s/step\n",
      "Epoch 39/200\n",
      "20/20 - 25s - loss: 0.6666 - acc: 0.7887 - val_loss: 0.8619 - val_acc: 0.6938 - 25s/epoch - 1s/step\n",
      "Epoch 40/200\n",
      "20/20 - 25s - loss: 0.6412 - acc: 0.7950 - val_loss: 0.7330 - val_acc: 0.7325 - 25s/epoch - 1s/step\n",
      "Epoch 41/200\n",
      "20/20 - 25s - loss: 0.6368 - acc: 0.7750 - val_loss: 0.7084 - val_acc: 0.7725 - 25s/epoch - 1s/step\n",
      "Epoch 42/200\n",
      "20/20 - 25s - loss: 0.6598 - acc: 0.7725 - val_loss: 0.7761 - val_acc: 0.7350 - 25s/epoch - 1s/step\n",
      "Epoch 43/200\n",
      "20/20 - 25s - loss: 0.6546 - acc: 0.7750 - val_loss: 0.6915 - val_acc: 0.7800 - 25s/epoch - 1s/step\n",
      "Epoch 44/200\n",
      "20/20 - 25s - loss: 0.6355 - acc: 0.7875 - val_loss: 0.6841 - val_acc: 0.7713 - 25s/epoch - 1s/step\n",
      "Epoch 45/200\n",
      "20/20 - 25s - loss: 0.6017 - acc: 0.7875 - val_loss: 0.6347 - val_acc: 0.7950 - 25s/epoch - 1s/step\n",
      "Epoch 46/200\n",
      "20/20 - 24s - loss: 0.6444 - acc: 0.7862 - val_loss: 0.6786 - val_acc: 0.7700 - 24s/epoch - 1s/step\n",
      "Epoch 47/200\n",
      "20/20 - 25s - loss: 0.5806 - acc: 0.8000 - val_loss: 0.6569 - val_acc: 0.7788 - 25s/epoch - 1s/step\n",
      "Epoch 48/200\n",
      "20/20 - 25s - loss: 0.6097 - acc: 0.8048 - val_loss: 0.6634 - val_acc: 0.7713 - 25s/epoch - 1s/step\n",
      "Epoch 49/200\n",
      "20/20 - 24s - loss: 0.6282 - acc: 0.7812 - val_loss: 0.6321 - val_acc: 0.7812 - 24s/epoch - 1s/step\n",
      "Epoch 50/200\n",
      "20/20 - 24s - loss: 0.6236 - acc: 0.7900 - val_loss: 0.6944 - val_acc: 0.7500 - 24s/epoch - 1s/step\n",
      "Epoch 51/200\n",
      "20/20 - 25s - loss: 0.5246 - acc: 0.8175 - val_loss: 0.6622 - val_acc: 0.7763 - 25s/epoch - 1s/step\n",
      "Epoch 52/200\n",
      "20/20 - 24s - loss: 0.5931 - acc: 0.7812 - val_loss: 0.7137 - val_acc: 0.7550 - 24s/epoch - 1s/step\n",
      "Epoch 53/200\n",
      "20/20 - 24s - loss: 0.6155 - acc: 0.7887 - val_loss: 0.6146 - val_acc: 0.7825 - 24s/epoch - 1s/step\n",
      "Epoch 54/200\n",
      "20/20 - 25s - loss: 0.5278 - acc: 0.8225 - val_loss: 0.6365 - val_acc: 0.7775 - 25s/epoch - 1s/step\n",
      "Epoch 55/200\n",
      "20/20 - 25s - loss: 0.5454 - acc: 0.8188 - val_loss: 0.5883 - val_acc: 0.8062 - 25s/epoch - 1s/step\n",
      "Epoch 56/200\n",
      "20/20 - 25s - loss: 0.5424 - acc: 0.8012 - val_loss: 0.6452 - val_acc: 0.7812 - 25s/epoch - 1s/step\n",
      "Epoch 57/200\n",
      "20/20 - 25s - loss: 0.5365 - acc: 0.8223 - val_loss: 0.6215 - val_acc: 0.7825 - 25s/epoch - 1s/step\n",
      "Epoch 58/200\n",
      "20/20 - 26s - loss: 0.4753 - acc: 0.8350 - val_loss: 0.6537 - val_acc: 0.7875 - 26s/epoch - 1s/step\n",
      "Epoch 59/200\n",
      "20/20 - 26s - loss: 0.4740 - acc: 0.8388 - val_loss: 0.5782 - val_acc: 0.8037 - 26s/epoch - 1s/step\n",
      "Epoch 60/200\n",
      "20/20 - 26s - loss: 0.5117 - acc: 0.8087 - val_loss: 0.6091 - val_acc: 0.7912 - 26s/epoch - 1s/step\n",
      "Epoch 61/200\n",
      "20/20 - 28s - loss: 0.4906 - acc: 0.8360 - val_loss: 0.6372 - val_acc: 0.8012 - 28s/epoch - 1s/step\n",
      "Epoch 62/200\n",
      "20/20 - 27s - loss: 0.4858 - acc: 0.8338 - val_loss: 0.6272 - val_acc: 0.7862 - 27s/epoch - 1s/step\n",
      "Epoch 63/200\n",
      "20/20 - 25s - loss: 0.5381 - acc: 0.8238 - val_loss: 0.6190 - val_acc: 0.7825 - 25s/epoch - 1s/step\n",
      "Epoch 64/200\n",
      "20/20 - 24s - loss: 0.5115 - acc: 0.8138 - val_loss: 0.5933 - val_acc: 0.8012 - 24s/epoch - 1s/step\n",
      "Epoch 65/200\n",
      "20/20 - 25s - loss: 0.4683 - acc: 0.8423 - val_loss: 0.6220 - val_acc: 0.7950 - 25s/epoch - 1s/step\n",
      "Epoch 66/200\n",
      "20/20 - 25s - loss: 0.4544 - acc: 0.8512 - val_loss: 0.5819 - val_acc: 0.8012 - 25s/epoch - 1s/step\n",
      "Epoch 67/200\n",
      "20/20 - 25s - loss: 0.4501 - acc: 0.8450 - val_loss: 0.6341 - val_acc: 0.7937 - 25s/epoch - 1s/step\n",
      "Epoch 68/200\n",
      "20/20 - 25s - loss: 0.4851 - acc: 0.8461 - val_loss: 0.5830 - val_acc: 0.8062 - 25s/epoch - 1s/step\n",
      "Epoch 69/200\n",
      "20/20 - 25s - loss: 0.4910 - acc: 0.8263 - val_loss: 0.5607 - val_acc: 0.8100 - 25s/epoch - 1s/step\n",
      "Epoch 70/200\n",
      "20/20 - 25s - loss: 0.4563 - acc: 0.8363 - val_loss: 0.5817 - val_acc: 0.8050 - 25s/epoch - 1s/step\n",
      "Epoch 71/200\n",
      "20/20 - 25s - loss: 0.4618 - acc: 0.8462 - val_loss: 0.5980 - val_acc: 0.7937 - 25s/epoch - 1s/step\n",
      "Epoch 72/200\n",
      "20/20 - 24s - loss: 0.4435 - acc: 0.8438 - val_loss: 0.5572 - val_acc: 0.8100 - 24s/epoch - 1s/step\n",
      "Epoch 73/200\n",
      "20/20 - 24s - loss: 0.5004 - acc: 0.8325 - val_loss: 0.5826 - val_acc: 0.8050 - 24s/epoch - 1s/step\n",
      "Epoch 74/200\n",
      "20/20 - 25s - loss: 0.4467 - acc: 0.8500 - val_loss: 0.6088 - val_acc: 0.7950 - 25s/epoch - 1s/step\n",
      "Epoch 75/200\n",
      "20/20 - 25s - loss: 0.5022 - acc: 0.8200 - val_loss: 0.5797 - val_acc: 0.8138 - 25s/epoch - 1s/step\n",
      "Epoch 76/200\n",
      "20/20 - 25s - loss: 0.4530 - acc: 0.8462 - val_loss: 0.5813 - val_acc: 0.8087 - 25s/epoch - 1s/step\n",
      "Epoch 77/200\n",
      "20/20 - 24s - loss: 0.3982 - acc: 0.8675 - val_loss: 0.5481 - val_acc: 0.8150 - 24s/epoch - 1s/step\n",
      "Epoch 78/200\n",
      "20/20 - 25s - loss: 0.4421 - acc: 0.8300 - val_loss: 0.5646 - val_acc: 0.8087 - 25s/epoch - 1s/step\n",
      "Epoch 79/200\n",
      "20/20 - 25s - loss: 0.3753 - acc: 0.8788 - val_loss: 0.5654 - val_acc: 0.8075 - 25s/epoch - 1s/step\n",
      "Epoch 80/200\n",
      "20/20 - 25s - loss: 0.4063 - acc: 0.8612 - val_loss: 0.5734 - val_acc: 0.8175 - 25s/epoch - 1s/step\n",
      "Epoch 81/200\n",
      "20/20 - 25s - loss: 0.3823 - acc: 0.8650 - val_loss: 0.5183 - val_acc: 0.8200 - 25s/epoch - 1s/step\n",
      "Epoch 82/200\n",
      "20/20 - 25s - loss: 0.3909 - acc: 0.8775 - val_loss: 0.5543 - val_acc: 0.8050 - 25s/epoch - 1s/step\n",
      "Epoch 83/200\n",
      "20/20 - 24s - loss: 0.4297 - acc: 0.8438 - val_loss: 0.5948 - val_acc: 0.7925 - 24s/epoch - 1s/step\n",
      "Epoch 84/200\n",
      "20/20 - 25s - loss: 0.4163 - acc: 0.8562 - val_loss: 0.5465 - val_acc: 0.8150 - 25s/epoch - 1s/step\n",
      "Epoch 85/200\n",
      "20/20 - 25s - loss: 0.4269 - acc: 0.8673 - val_loss: 0.5495 - val_acc: 0.8225 - 25s/epoch - 1s/step\n",
      "Epoch 86/200\n",
      "20/20 - 25s - loss: 0.3893 - acc: 0.8700 - val_loss: 0.5128 - val_acc: 0.8325 - 25s/epoch - 1s/step\n",
      "Epoch 87/200\n",
      "20/20 - 25s - loss: 0.4494 - acc: 0.8438 - val_loss: 0.5464 - val_acc: 0.8188 - 25s/epoch - 1s/step\n",
      "Epoch 88/200\n",
      "20/20 - 25s - loss: 0.3676 - acc: 0.8712 - val_loss: 0.5356 - val_acc: 0.8250 - 25s/epoch - 1s/step\n",
      "Epoch 89/200\n",
      "20/20 - 24s - loss: 0.3950 - acc: 0.8550 - val_loss: 0.4813 - val_acc: 0.8487 - 24s/epoch - 1s/step\n",
      "Epoch 90/200\n",
      "20/20 - 25s - loss: 0.3828 - acc: 0.8611 - val_loss: 0.5386 - val_acc: 0.8300 - 25s/epoch - 1s/step\n",
      "Epoch 91/200\n",
      "20/20 - 25s - loss: 0.4017 - acc: 0.8587 - val_loss: 0.5671 - val_acc: 0.8200 - 25s/epoch - 1s/step\n",
      "Epoch 92/200\n",
      "20/20 - 31s - loss: 0.4004 - acc: 0.8575 - val_loss: 0.5881 - val_acc: 0.8037 - 31s/epoch - 2s/step\n",
      "Epoch 93/200\n",
      "20/20 - 48s - loss: 0.3238 - acc: 0.8988 - val_loss: 0.5703 - val_acc: 0.8125 - 48s/epoch - 2s/step\n",
      "Epoch 94/200\n",
      "20/20 - 39s - loss: 0.4275 - acc: 0.8550 - val_loss: 0.5322 - val_acc: 0.8288 - 39s/epoch - 2s/step\n",
      "Epoch 95/200\n",
      "20/20 - 35s - loss: 0.3739 - acc: 0.8662 - val_loss: 0.5583 - val_acc: 0.8213 - 35s/epoch - 2s/step\n",
      "Epoch 96/200\n",
      "20/20 - 34s - loss: 0.3909 - acc: 0.8773 - val_loss: 0.5265 - val_acc: 0.8313 - 34s/epoch - 2s/step\n",
      "Epoch 97/200\n",
      "20/20 - 33s - loss: 0.3580 - acc: 0.8788 - val_loss: 0.5933 - val_acc: 0.8138 - 33s/epoch - 2s/step\n",
      "Epoch 98/200\n",
      "20/20 - 31s - loss: 0.3506 - acc: 0.8786 - val_loss: 0.5552 - val_acc: 0.8188 - 31s/epoch - 2s/step\n",
      "Epoch 99/200\n",
      "20/20 - 31s - loss: 0.3331 - acc: 0.8875 - val_loss: 0.5064 - val_acc: 0.8425 - 31s/epoch - 2s/step\n",
      "Epoch 100/200\n",
      "20/20 - 30s - loss: 0.3121 - acc: 0.8975 - val_loss: 0.4834 - val_acc: 0.8438 - 30s/epoch - 2s/step\n",
      "Epoch 101/200\n",
      "20/20 - 29s - loss: 0.3554 - acc: 0.8736 - val_loss: 0.5216 - val_acc: 0.8300 - 29s/epoch - 1s/step\n",
      "Epoch 102/200\n",
      "20/20 - 28s - loss: 0.3441 - acc: 0.8838 - val_loss: 0.5264 - val_acc: 0.8375 - 28s/epoch - 1s/step\n",
      "Epoch 103/200\n",
      "20/20 - 28s - loss: 0.3380 - acc: 0.8788 - val_loss: 0.4757 - val_acc: 0.8475 - 28s/epoch - 1s/step\n",
      "Epoch 104/200\n",
      "20/20 - 28s - loss: 0.3412 - acc: 0.8924 - val_loss: 0.5588 - val_acc: 0.8313 - 28s/epoch - 1s/step\n",
      "Epoch 105/200\n",
      "20/20 - 27s - loss: 0.3527 - acc: 0.8788 - val_loss: 0.5397 - val_acc: 0.8175 - 27s/epoch - 1s/step\n",
      "Epoch 106/200\n",
      "20/20 - 27s - loss: 0.2951 - acc: 0.9038 - val_loss: 0.5011 - val_acc: 0.8475 - 27s/epoch - 1s/step\n",
      "Epoch 107/200\n",
      "20/20 - 26s - loss: 0.3190 - acc: 0.8925 - val_loss: 0.5590 - val_acc: 0.8275 - 26s/epoch - 1s/step\n",
      "Epoch 108/200\n",
      "20/20 - 26s - loss: 0.3304 - acc: 0.8813 - val_loss: 0.5491 - val_acc: 0.8238 - 26s/epoch - 1s/step\n",
      "Epoch 109/200\n",
      "20/20 - 26s - loss: 0.2949 - acc: 0.8900 - val_loss: 0.5446 - val_acc: 0.8225 - 26s/epoch - 1s/step\n"
     ]
    }
   ],
   "source": [
    "callbacks_list = [\n",
    "    keras.callbacks.EarlyStopping(monitor='val_acc', patience=20)\n",
    "]\n",
    "\n",
    "history = model.fit(\n",
    "            train_generator,\n",
    "            validation_data = val_generator,\n",
    "            steps_per_epoch = 20,\n",
    "            epochs = 200,\n",
    "            validation_steps = 20,\n",
    "            verbose = 2,\n",
    "            callbacks=callbacks_list)"
   ]
  },
  {
   "cell_type": "code",
   "execution_count": 19,
   "id": "32237fcd",
   "metadata": {},
   "outputs": [
    {
     "data": {
      "image/png": "[encoded data removed]",
      "text/plain": [
       "<Figure size 432x288 with 1 Axes>"
      ]
     },
     "metadata": {
      "needs_background": "light"
     },
     "output_type": "display_data"
    }
   ],
   "source": [
    "# summarize history for accuracy and loss\n",
    "plt.figure(figsize=(6, 4))\n",
    "plt.plot(history.history['acc'], \"g--\", label=\"Accuracy of training data\")\n",
    "plt.plot(history.history['val_acc'], \"g\", label=\"Accuracy of validation data\")\n",
    "plt.plot(history.history['loss'], \"r--\", label=\"Loss of training data\")\n",
    "plt.plot(history.history['val_loss'], \"r\", label=\"Loss of validation data\")\n",
    "plt.title('Model Accuracy and Loss')\n",
    "plt.ylabel('Accuracy and Loss')\n",
    "plt.xlabel('Training Epoch')\n",
    "plt.ylim(0)\n",
    "plt.legend()\n",
    "plt.show()"
   ]
  },
  {
   "cell_type": "code",
   "execution_count": 20,
   "id": "60f50a25",
   "metadata": {},
   "outputs": [
    {
     "name": "stdout",
     "output_type": "stream",
     "text": [
      "71/71 [==============================] - 79s 1s/step - loss: 0.5776 - acc: 0.8098\n",
      "\n",
      "Accuracy on test data: 0.81\n",
      "\n",
      "Loss on test data: 0.58\n"
     ]
    }
   ],
   "source": [
    "score = model.evaluate(test_generator, verbose=1)\n",
    "print(\"\\nAccuracy on test data: %0.2f\" % score[1])\n",
    "print(\"\\nLoss on test data: %0.2f\" % score[0])"
   ]
  },
  {
   "cell_type": "code",
   "execution_count": 21,
   "id": "81335c15",
   "metadata": {},
   "outputs": [
    {
     "name": "stdout",
     "output_type": "stream",
     "text": [
      "71/71 [==============================] - 38s 526ms/step\n",
      "Precision: 0.814722\n",
      "Recall: 0.809779\n",
      "F1 score: 0.809832\n"
     ]
    }
   ],
   "source": [
    "y_pred_test = model.predict(test_generator)\n",
    "# Take the class with the highest probability from the test predictions\n",
    "max_y_pred_test = np.argmax(y_pred_test, axis=1)\n",
    "max_y_test = test_generator.classes\n",
    "precision = precision_score(max_y_test, max_y_pred_test, average='weighted')\n",
    "print('Precision: %f' % precision)\n",
    "# recall: tp / (tp + fn)\n",
    "recall = recall_score(max_y_test, max_y_pred_test, average='weighted')\n",
    "print('Recall: %f' % recall)\n",
    "# f1: 2 tp / (2 tp + fp + fn)\n",
    "f1 = f1_score(max_y_test, max_y_pred_test, average='weighted')\n",
    "print('F1 score: %f' % f1)"
   ]
  },
  {
   "cell_type": "code",
   "execution_count": 22,
   "id": "189c26b4",
   "metadata": {},
   "outputs": [],
   "source": [
    "LABELS = [0, 1, 2, 3, 4, 5, 6, 7]\n",
    "def show_confusion_matrix(validations, predictions):\n",
    "\n",
    "    matrix = metrics.confusion_matrix(validations, predictions)\n",
    "    plt.figure(figsize=(6, 4))\n",
    "    sns.heatmap(matrix,\n",
    "                cmap=\"coolwarm\",\n",
    "                linecolor='white',\n",
    "                linewidths=1,\n",
    "                xticklabels=LABELS,\n",
    "                yticklabels=LABELS,\n",
    "                annot=True,\n",
    "                fmt=\"d\")\n",
    "    plt.title(\"Confusion Matrix\")\n",
    "    plt.ylabel(\"True Label\")\n",
    "    plt.xlabel(\"Predicted Label\")\n",
    "    plt.show()"
   ]
  },
  {
   "cell_type": "code",
   "execution_count": 23,
   "id": "768453f9",
   "metadata": {},
   "outputs": [
    {
     "data": {
      "image/png": "[encoded data removed]",
      "text/plain": [
       "<Figure size 432x288 with 2 Axes>"
      ]
     },
     "metadata": {
      "needs_background": "light"
     },
     "output_type": "display_data"
    },
    {
     "name": "stdout",
     "output_type": "stream",
     "text": [
      "\n",
      "--- Classification report for test data ---\n",
      "\n",
      "              precision    recall  f1-score   support\n",
      "\n",
      "           0       0.89      0.80      0.84       624\n",
      "           1       0.77      0.86      0.81       546\n",
      "           2       0.79      0.85      0.82       476\n",
      "           3       0.92      0.92      0.92       230\n",
      "           4       0.85      0.73      0.79       204\n",
      "           5       0.80      0.62      0.70       164\n",
      "           6       0.63      0.72      0.67       191\n",
      "           7       0.81      0.81      0.81       367\n",
      "\n",
      "    accuracy                           0.81      2802\n",
      "   macro avg       0.81      0.79      0.79      2802\n",
      "weighted avg       0.81      0.81      0.81      2802\n",
      "\n"
     ]
    }
   ],
   "source": [
    "show_confusion_matrix(max_y_test, max_y_pred_test)\n",
    "\n",
    "print(\"\\n--- Classification report for test data ---\\n\")\n",
    "\n",
    "print(classification_report(max_y_test, max_y_pred_test))"
   ]
  },
  {
   "cell_type": "code",
   "execution_count": 24,
   "id": "a6592258",
   "metadata": {},
   "outputs": [],
   "source": [
    "model.save(\"../models/best_model_hand_molyswu.h5\")"
   ]
  },
  {
   "cell_type": "markdown",
   "id": "a0ddc773",
   "metadata": {},
   "source": [
    "## Testing Results on Unseen Drivers\n",
    "\n",
    "We will now evaluate model performance on a few drivers it hasn't seen before."
   ]
  },
  {
   "cell_type": "code",
   "execution_count": 18,
   "id": "e7ed8924",
   "metadata": {},
   "outputs": [
    {
     "name": "stdout",
     "output_type": "stream",
     "text": [
      "1/1 [==============================] - 1s 533ms/step\n",
      "1/1 [==============================] - 0s 50ms/step\n",
      "1/1 [==============================] - 0s 52ms/step\n",
      "1/1 [==============================] - 0s 24ms/step\n",
      "1/1 [==============================] - 0s 32ms/step\n",
      "1/1 [==============================] - 0s 32ms/step\n",
      "1/1 [==============================] - 0s 32ms/step\n",
      "1/1 [==============================] - 0s 32ms/step\n"
     ]
    },
    {
     "data": {
      "image/png": "[encoded data removed]",
      "text/plain": [
       "<Figure size 576x360 with 8 Axes>"
      ]
     },
     "metadata": {
      "needs_background": "light"
     },
     "output_type": "display_data"
    }
   ],
   "source": [
    "model = keras.models.load_model(\"../models/best_model_hand_molyswu.h5\")\n",
    "UNSEEN_PATH = \"../Data/Combined new hand/unseen\"\n",
    "imgs = []\n",
    "y_preds = []\n",
    "y_trues = []\n",
    "img_number = [18, 32, 28, 40, 21, 10, 52, 34]\n",
    "i = 0\n",
    "\n",
    "for cls in os.listdir(UNSEEN_PATH):\n",
    "    if cls != '.DS_Store':\n",
    "        cls_path = os.path.join(UNSEEN_PATH, cls)\n",
    "        img_name = os.listdir(cls_path)[img_number[i]]\n",
    "        img_path = os.path.join(cls_path, img_name)\n",
    "        img = Image.open(img_path)\n",
    "        img_resize = img.resize((1024, 1024))\n",
    "        imgs.append(img_resize)\n",
    "        img_resize = img.resize((75, 100))\n",
    "        img_array = np.asarray(img_resize)\n",
    "        img_array = np.expand_dims(img_array, axis=0)\n",
    "        input_data = img_array/255.0\n",
    "        y_pred = model.predict(input_data)\n",
    "        y_pred = np.argmax(y_pred, axis=1)\n",
    "        y_preds.append(y_pred)\n",
    "        y_trues.append(cls)\n",
    "        i += 1\n",
    "\n",
    "fig, axes = plt.subplots(nrows=2, ncols=4, figsize=(8, 5))\n",
    "for i, ax in enumerate(axes.flat):\n",
    "    # Plot the image\n",
    "    img = imgs[i]\n",
    "    ax.imshow(img)\n",
    "    ax.axis('off')\n",
    "    \n",
    "    # Get the true and predicted labels\n",
    "    true_label = y_trues[i]\n",
    "    pred_label = y_preds[i]\n",
    "    \n",
    "    # Set the title of the plot with the true and predicted labels\n",
    "    ax.set_title(f'True: {true_label}, Pred: {pred_label}')\n",
    "    \n",
    "    # Break out of the loop after 12 images have been plotted\n",
    "    if i == 7:\n",
    "        break\n",
    "\n",
    "plt.tight_layout()\n",
    "plt.show()"
   ]
  }
 ],
 "metadata": {
  "kernelspec": {
   "display_name": "Python 3 (ipykernel)",
   "language": "python",
   "name": "python3"
  },
  "language_info": {
   "codemirror_mode": {
    "name": "ipython",
    "version": 3
   },
   "file_extension": ".py",
   "mimetype": "text/x-python",
   "name": "python",
   "nbconvert_exporter": "python",
   "pygments_lexer": "ipython3",
   "version": "3.9.12"
  }
 },
 "nbformat": 4,
 "nbformat_minor": 5
}
