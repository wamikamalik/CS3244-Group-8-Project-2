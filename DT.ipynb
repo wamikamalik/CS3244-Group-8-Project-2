{
 "cells": [
  {
   "cell_type": "markdown",
   "id": "dbd11ddf",
   "metadata": {},
   "source": [
    "# Description\n",
    "\n",
    "This notebook implements a Decision Tree for classification of the Distracted Driver Dataset.\n",
    "No feature engineering has been conducted."
   ]
  },
  {
   "cell_type": "code",
   "execution_count": 55,
   "id": "37bbd3e5",
   "metadata": {},
   "outputs": [],
   "source": [
    "import glob\n",
    "import os\n",
    "\n",
    "import matplotlib.pyplot as plt\n",
    "import numpy as np\n",
    "import pandas as pd\n",
    "\n",
    "import cv2\n",
    "\n",
    "from functools import reduce\n",
    "\n",
    "from sklearn.tree import DecisionTreeClassifier\n",
    "from sklearn.model_selection import cross_val_score, GridSearchCV, StratifiedKFold\n",
    "from sklearn.metrics import accuracy_score, confusion_matrix"
   ]
  },
  {
   "cell_type": "markdown",
   "id": "e10b065d",
   "metadata": {},
   "source": [
    "## Consolidating Training Data"
   ]
  },
  {
   "cell_type": "code",
   "execution_count": 2,
   "id": "969ac5c1",
   "metadata": {},
   "outputs": [],
   "source": [
    "# Paths to training dataset and test dataset\n",
    "\n",
    "class_nums = [f'c{i}' for i in range(8)]\n",
    "path_combined_dataset = os.path.join('Distracted Driver Dataset', 'Combined')\n",
    "paths_class_train = [os.path.join(path_combined_dataset, 'train', num) for num in class_nums]\n",
    "paths_class_test = [os.path.join(path_combined_dataset, 'test', num) for num in class_nums]"
   ]
  },
  {
   "cell_type": "code",
   "execution_count": 20,
   "id": "ba9ea523",
   "metadata": {},
   "outputs": [
    {
     "data": {
      "text/plain": [
       "{(1080, 1920, 3): 10555, (480, 640, 3): 2000}"
      ]
     },
     "execution_count": 20,
     "metadata": {},
     "output_type": "execute_result"
    }
   ],
   "source": [
    "# Finding out the original sizes of the images\n",
    "\n",
    "num_total_files = []\n",
    "possible_shapes = dict({})\n",
    "for path in paths_class_train:\n",
    "    files = sorted(glob.glob(os.path.join(path,'*')))\n",
    "    for file in files:\n",
    "        img = plt.imread(file)\n",
    "        if img.shape in possible_shapes:\n",
    "            possible_shapes[img.shape] += 1\n",
    "        else:\n",
    "            possible_shapes[img.shape] = 1\n",
    "\n",
    "possible_shapes"
   ]
  },
  {
   "cell_type": "code",
   "execution_count": 8,
   "id": "309df48a",
   "metadata": {},
   "outputs": [],
   "source": [
    "# Getting training data\n",
    "\n",
    "X_train, Y_train = [],[]\n",
    "\n",
    "desired_dim = (60,80) # Change this as desired\n",
    "\n",
    "for path in paths_class_train:\n",
    "    files = glob.glob(os.path.join(path,'*'))\n",
    "    label = path.split(os.path.sep)[-1]\n",
    "\n",
    "    for file in files:\n",
    "        img = cv2.imread(file, cv2.IMREAD_GRAYSCALE)\n",
    "        if img.shape != desired_dim:\n",
    "            img = cv2.resize(img, desired_dim)\n",
    "        X_train.append(img.flatten())\n",
    "        Y_train.append(label)"
   ]
  },
  {
   "cell_type": "code",
   "execution_count": 9,
   "id": "35f854ab",
   "metadata": {},
   "outputs": [
    {
     "name": "stdout",
     "output_type": "stream",
     "text": [
      "Desired dimensions: (60, 80)\n"
     ]
    }
   ],
   "source": [
    "# Getting test data\n",
    "\n",
    "X_names, X_test, Y_test = [],[],[]\n",
    "\n",
    "print(f'Desired dimensions: {desired_dim}') # check if they are the same as X_train and Y_train\n",
    "\n",
    "for path in paths_class_test:\n",
    "    files = glob.glob(os.path.join(path,'*'))\n",
    "    label = path.split(os.path.sep)[-1]\n",
    "\n",
    "    for file in files:\n",
    "        img = cv2.imread(file, cv2.IMREAD_GRAYSCALE)\n",
    "        if img.shape != desired_dim:\n",
    "            img = cv2.resize(img, desired_dim)\n",
    "        X_names.append(os.path.join(label,file.split(os.path.sep)[-1]))\n",
    "        X_test.append(img.flatten())\n",
    "        Y_test.append(label)"
   ]
  },
  {
   "cell_type": "code",
   "execution_count": 10,
   "id": "9fcac620",
   "metadata": {},
   "outputs": [],
   "source": [
    "# Getting binary training data and test data\n",
    "\n",
    "nd_classes = [f'c{i}' for i in [0,3,4,5]]\n",
    "# 0,3,4,5: Safe Driving / Adjusting Radio / Drinking / Reaching Behind\n",
    "# 1,2,6,7: Text / Phone / Hair or Makeup / Talking to Passenger\n",
    "\n",
    "Y_train2 = [(0 if y in nd_classes else 1) for y in Y_train]\n",
    "Y_test2 = [(0 if y in nd_classes else 1) for y in Y_test]"
   ]
  },
  {
   "cell_type": "code",
   "execution_count": 11,
   "id": "acf2aa5e",
   "metadata": {},
   "outputs": [
    {
     "data": {
      "image/png": "[encoded data removed]",
      "text/plain": [
       "<Figure size 800x400 with 2 Axes>"
      ]
     },
     "metadata": {},
     "output_type": "display_data"
    }
   ],
   "source": [
    "# Distribution of classes in Y_train vs Y_test\n",
    "\n",
    "y_train_vals,y_train_counts = np.unique(Y_train, return_counts=True)\n",
    "y_test_vals,y_test_counts = np.unique(Y_test, return_counts=True)\n",
    "\n",
    "# Normalizing\n",
    "y_train_counts = np.array(y_train_counts)/sum(y_train_counts)\n",
    "y_test_counts = np.array(y_test_counts)/sum(y_test_counts)\n",
    "\n",
    "fig,ax=plt.subplots(ncols=2, sharey=True, figsize=(8,4))\n",
    "ax[0].bar(x=y_train_vals, height=y_train_counts)\n",
    "ax[0].set_title('Y_train')\n",
    "ax[0].set_ylabel('Proportion of dataset')\n",
    "\n",
    "ax[1].bar(x=y_test_vals, height=y_test_counts)\n",
    "ax[1].set_title('Y_test')\n",
    "\n",
    "fig.supxlabel('Class')\n",
    "\n",
    "plt.tight_layout()\n",
    "plt.show()"
   ]
  },
  {
   "cell_type": "code",
   "execution_count": 31,
   "id": "f9be1547",
   "metadata": {},
   "outputs": [
    {
     "name": "stdout",
     "output_type": "stream",
     "text": [
      "Sample size: 891\n"
     ]
    }
   ],
   "source": [
    "# Trying out undersampling to balance out classes\n",
    "\n",
    "y_train_vals,y_train_counts = np.unique(Y_train, return_counts=True)\n",
    "sample_size = np.min(y_train_counts)\n",
    "print(f'Sample size: {sample_size}')\n",
    "\n",
    "indices_dict = dict({}) # to store the start and end index for each class in the Y_train array so we can sample\n",
    "\n",
    "start, end = -1, -1\n",
    "curr_label = 0\n",
    "for i in range(len(Y_train)):\n",
    "    if Y_train[i] == f'c{curr_label}':\n",
    "        if start == -1:\n",
    "            start = i\n",
    "        continue\n",
    "    end = i\n",
    "    indices_dict[f'c{curr_label}'] = [start,end]\n",
    "    start, end = i, -1\n",
    "    curr_label += 1\n",
    "indices_dict[f'c{curr_label}'] = [start,i+1]"
   ]
  },
  {
   "cell_type": "code",
   "execution_count": 32,
   "id": "1639c5ed",
   "metadata": {},
   "outputs": [
    {
     "data": {
      "text/plain": [
       "{'c0': [0, 2640],\n",
       " 'c1': [2640, 5089],\n",
       " 'c2': [5089, 7301],\n",
       " 'c3': [7301, 8254],\n",
       " 'c4': [8254, 9187],\n",
       " 'c5': [9187, 10078],\n",
       " 'c6': [10078, 10976],\n",
       " 'c7': [10976, 12555]}"
      ]
     },
     "execution_count": 32,
     "metadata": {},
     "output_type": "execute_result"
    }
   ],
   "source": [
    "indices_dict # end is exclusive"
   ]
  },
  {
   "cell_type": "code",
   "execution_count": 44,
   "id": "57b76b9a",
   "metadata": {},
   "outputs": [
    {
     "name": "stdout",
     "output_type": "stream",
     "text": [
      "Size of sampled dataset: 7128\n"
     ]
    }
   ],
   "source": [
    "# Sampling the indices\n",
    "sample_indices = []\n",
    "\n",
    "for label in indices_dict.keys():\n",
    "    start,end = indices_dict[label]\n",
    "    sample = np.random.choice(list(range(start,end)), size=sample_size, replace=False)\n",
    "    sample_indices = np.concatenate((sample_indices, sample))\n",
    "    \n",
    "print(f'Size of sampled dataset: {len(sample_indices)}')"
   ]
  },
  {
   "cell_type": "code",
   "execution_count": 46,
   "id": "0b9320fd",
   "metadata": {},
   "outputs": [
    {
     "data": {
      "text/plain": [
       "(array(['c0', 'c1', 'c2', 'c3', 'c4', 'c5', 'c6', 'c7'], dtype='<U2'),\n",
       " array([891, 891, 891, 891, 891, 891, 891, 891]))"
      ]
     },
     "execution_count": 46,
     "metadata": {},
     "output_type": "execute_result"
    }
   ],
   "source": [
    "# Generating a sampled dataset using indices\n",
    "sample_indices = sample_indices.astype('int')\n",
    "\n",
    "X_train_s = [X_train[i] for i in sample_indices]\n",
    "Y_train_s = [Y_train[i] for i in sample_indices]\n",
    "\n",
    "np.unique(Y_train_s, return_counts=True)"
   ]
  },
  {
   "cell_type": "markdown",
   "id": "07e89d02",
   "metadata": {},
   "source": [
    "## Model"
   ]
  },
  {
   "cell_type": "code",
   "execution_count": 137,
   "id": "8548bd05",
   "metadata": {},
   "outputs": [],
   "source": [
    "dt = DecisionTreeClassifier(class_weight=None, criterion='entropy', max_depth=35)\n",
    "\n",
    "# Tuned hyperparameters: {'class_weight': None, 'criterion': 'entropy', 'max_depth': 35}"
   ]
  },
  {
   "cell_type": "markdown",
   "id": "19935e96",
   "metadata": {},
   "source": [
    "### For non-binarized data"
   ]
  },
  {
   "cell_type": "code",
   "execution_count": 221,
   "id": "19cbd872",
   "metadata": {},
   "outputs": [
    {
     "data": {
      "text/plain": [
       "0.1809672386895476"
      ]
     },
     "execution_count": 221,
     "metadata": {},
     "output_type": "execute_result"
    }
   ],
   "source": [
    "# Fit model\n",
    "dt.fit(X_train, Y_train)\n",
    "Y_pred = dt.predict(X_test)\n",
    "accuracy_score(Y_test, Y_pred)"
   ]
  },
  {
   "cell_type": "code",
   "execution_count": 222,
   "id": "16531dff",
   "metadata": {},
   "outputs": [],
   "source": [
    "# Saving results\n",
    "df = pd.DataFrame(dict({'File':X_names,'Truth':Y_test,'Predicted':Y_pred}))\n",
    "df.to_csv('{}x{}.csv'.format(desired_dim[0],desired_dim[1]))"
   ]
  },
  {
   "cell_type": "code",
   "execution_count": 223,
   "id": "38566734",
   "metadata": {},
   "outputs": [],
   "source": [
    "# Generate just the truth labels\n",
    "df_truth = df[['File','Truth']]\n",
    "df_truth.to_csv('truth.csv')"
   ]
  },
  {
   "cell_type": "markdown",
   "id": "e123e937",
   "metadata": {},
   "source": [
    "### For binarized data"
   ]
  },
  {
   "cell_type": "code",
   "execution_count": 234,
   "id": "fe82e297",
   "metadata": {},
   "outputs": [
    {
     "data": {
      "text/plain": [
       "0.5491419656786272"
      ]
     },
     "execution_count": 234,
     "metadata": {},
     "output_type": "execute_result"
    }
   ],
   "source": [
    "# Fit model\n",
    "dt.fit(X_train, Y_train2)\n",
    "Y_pred2 = dt.predict(X_test)\n",
    "accuracy_score(Y_test2, Y_pred2)"
   ]
  },
  {
   "cell_type": "code",
   "execution_count": 235,
   "id": "5c494d87",
   "metadata": {},
   "outputs": [],
   "source": [
    "# Saving results\n",
    "df = pd.DataFrame(dict({'File':X_names,'Truth':Y_test2,'Predicted':Y_pred2}))\n",
    "df.to_csv('{}x{}_bin.csv'.format(desired_dim[0],desired_dim[1]))"
   ]
  },
  {
   "cell_type": "code",
   "execution_count": 236,
   "id": "89f7bc2d",
   "metadata": {},
   "outputs": [],
   "source": [
    "# Generate just the truth labels\n",
    "df_truth = df[['File','Truth']]\n",
    "df_truth.to_csv('truth2.csv')"
   ]
  },
  {
   "cell_type": "markdown",
   "id": "1a2b1ee3",
   "metadata": {},
   "source": [
    "### For undersampled data"
   ]
  },
  {
   "cell_type": "code",
   "execution_count": 138,
   "id": "2a7b2368",
   "metadata": {},
   "outputs": [
    {
     "data": {
      "text/plain": [
       "0.20748829953198128"
      ]
     },
     "execution_count": 138,
     "metadata": {},
     "output_type": "execute_result"
    }
   ],
   "source": [
    "# Fit model\n",
    "dt.fit(X_train_s, Y_train_s)\n",
    "Y_pred_s = dt.predict(X_test)\n",
    "accuracy_score(Y_test, Y_pred_s)"
   ]
  },
  {
   "cell_type": "markdown",
   "id": "c4ea982c",
   "metadata": {},
   "source": [
    "### Repeating to see spread of scores for current best-performing size"
   ]
  },
  {
   "cell_type": "code",
   "execution_count": 110,
   "id": "c75f8ce2",
   "metadata": {},
   "outputs": [
    {
     "data": {
      "text/plain": [
       "[0.17888715548621945,\n",
       " 0.18876755070202808,\n",
       " 0.21112844513780551,\n",
       " 0.22152886115444617,\n",
       " 0.1856474258970359]"
      ]
     },
     "execution_count": 110,
     "metadata": {},
     "output_type": "execute_result"
    }
   ],
   "source": [
    "# Repeat 5 times for 60x80\n",
    "acc = []\n",
    "\n",
    "for i in range(5):\n",
    "    dt.fit(X_train, Y_train)\n",
    "    Y_pred = dt.predict(X_test)\n",
    "    acc.append(accuracy_score(Y_test, Y_pred))\n",
    "\n",
    "acc"
   ]
  },
  {
   "cell_type": "code",
   "execution_count": 237,
   "id": "6aa79fe9",
   "metadata": {},
   "outputs": [
    {
     "data": {
      "text/plain": [
       "[0.5803432137285491,\n",
       " 0.6006240249609984,\n",
       " 0.5741029641185648,\n",
       " 0.5512220488819553,\n",
       " 0.5585023400936038]"
      ]
     },
     "execution_count": 237,
     "metadata": {},
     "output_type": "execute_result"
    }
   ],
   "source": [
    "# Repeat 5 times for 60x80 - binary\n",
    "acc2 = []\n",
    "\n",
    "for i in range(5):\n",
    "    dt.fit(X_train, Y_train2)\n",
    "    Y_pred2 = dt.predict(X_test)\n",
    "    acc2.append(accuracy_score(Y_test2, Y_pred2))\n",
    "\n",
    "acc2"
   ]
  },
  {
   "cell_type": "code",
   "execution_count": 140,
   "id": "f0ecdeb1",
   "metadata": {},
   "outputs": [
    {
     "data": {
      "text/plain": [
       "[0.187727509100364,\n",
       " 0.15392615704628185,\n",
       " 0.17264690587623505,\n",
       " 0.2059282371294852,\n",
       " 0.15548621944877794]"
      ]
     },
     "execution_count": 140,
     "metadata": {},
     "output_type": "execute_result"
    }
   ],
   "source": [
    "# Repeat 5 times for 60x80 - undersampled\n",
    "acc_s = []\n",
    "\n",
    "for i in range(5):\n",
    "    dt.fit(X_train_s, Y_train_s)\n",
    "    Y_pred_s = dt.predict(X_test)\n",
    "    acc_s.append(accuracy_score(Y_test, Y_pred_s))\n",
    "\n",
    "acc_s"
   ]
  },
  {
   "cell_type": "markdown",
   "id": "8a2fc92f",
   "metadata": {},
   "source": [
    "## Hyperparameter tuning"
   ]
  },
  {
   "cell_type": "code",
   "execution_count": 211,
   "id": "48391c57",
   "metadata": {},
   "outputs": [
    {
     "name": "stdout",
     "output_type": "stream",
     "text": [
      "Fold 0:\n",
      "Train: [    0     1     2 ... 12551 12552 12554]\n",
      "Validation: [   17    22    24 ... 12543 12546 12553]\n",
      "Size of training dataset: 12555\n",
      "\n",
      "Fold 1:\n",
      "Train: [    0     1     4 ... 12551 12552 12553]\n",
      "Validation: [    2     3     7 ... 12542 12544 12554]\n",
      "Size of training dataset: 12555\n",
      "\n",
      "Fold 2:\n",
      "Train: [    2     3     5 ... 12551 12553 12554]\n",
      "Validation: [    0     1     4 ... 12547 12550 12552]\n",
      "Size of training dataset: 12555\n",
      "\n",
      "Fold 3:\n",
      "Train: [    0     1     2 ... 12552 12553 12554]\n",
      "Validation: [   10    12    16 ... 12538 12540 12548]\n",
      "Size of training dataset: 12555\n",
      "\n",
      "Fold 4:\n",
      "Train: [    0     1     2 ... 12552 12553 12554]\n",
      "Validation: [    5     6     9 ... 12545 12549 12551]\n",
      "Size of training dataset: 12555\n",
      "\n"
     ]
    }
   ],
   "source": [
    "# Splitting training data into 80% training and 20% validation\n",
    "\n",
    "skf = StratifiedKFold(n_splits=5, shuffle=True, random_state=0)\n",
    "\n",
    "for i, (train_indices, validation_indices) in enumerate(skf.split(X_train, Y_train)):\n",
    "    print(f'Fold {i}:')\n",
    "    print(f'Train: {train_indices}')\n",
    "    print(f'Validation: {validation_indices}')\n",
    "    print(f'Size of training dataset: {len(train_indices) + len(validation_indices)}')\n",
    "    print()"
   ]
  },
  {
   "cell_type": "code",
   "execution_count": 81,
   "id": "2135676c",
   "metadata": {},
   "outputs": [
    {
     "name": "stdout",
     "output_type": "stream",
     "text": [
      "n =  20:\tAverage cross-validation score = 0.8601354042214258\n",
      "n =  25:\tAverage cross-validation score = 0.8571087216248507\n",
      "n =  30:\tAverage cross-validation score = 0.8598964555953804\n",
      "n =  35:\tAverage cross-validation score = 0.8608522500995619\n",
      "n =  40:\tAverage cross-validation score = 0.8566308243727597\n",
      "n =  45:\tAverage cross-validation score = 0.8553564317005178\n"
     ]
    }
   ],
   "source": [
    "# Test of various max_depths\n",
    "\n",
    "depth_arr = [i for i in range(20,46,5)]\n",
    "\n",
    "for i in range(len(depth_arr)):\n",
    "    n = depth_arr[i]\n",
    "    dt = DecisionTreeClassifier(max_depth=n, class_weight=None, criterion='entropy')\n",
    "    score = cross_val_score(estimator=dt, X=X_train, y=Y_train, scoring='accuracy', cv=skf)\n",
    "    print(f\"n = {n:>3d}:\\tAverage cross-validation score = {np.mean(score)}\")"
   ]
  },
  {
   "cell_type": "code",
   "execution_count": 83,
   "id": "7c8827a0",
   "metadata": {},
   "outputs": [
    {
     "name": "stdout",
     "output_type": "stream",
     "text": [
      "{'class_weight': None, 'criterion': 'entropy', 'max_depth': 35}\n",
      "0.8641975308641975\n"
     ]
    }
   ],
   "source": [
    "# Grid-search cross-validation\n",
    "\n",
    "dt_param_grid = {'criterion': ['gini','entropy'],\n",
    "                 'max_depth': range(15,41,5), \n",
    "                 'class_weight': ['balanced',None]}\n",
    "dt = DecisionTreeClassifier()\n",
    "dt_search = GridSearchCV(estimator=dt, param_grid=dt_param_grid, scoring='accuracy', cv=skf).fit(X_train, Y_train)\n",
    "\n",
    "print(dt_search.best_params_)\n",
    "print(dt_search.best_score_)"
   ]
  },
  {
   "cell_type": "markdown",
   "id": "380bebd1",
   "metadata": {},
   "source": [
    "## Examining results across different image sizes"
   ]
  },
  {
   "cell_type": "code",
   "execution_count": 47,
   "id": "973be58b",
   "metadata": {},
   "outputs": [
    {
     "name": "stdout",
     "output_type": "stream",
     "text": [
      "100x70.csv\n",
      "120x160.csv\n",
      "240x320.csv\n",
      "30x40.csv\n",
      "54x96.csv\n",
      "60x80.csv\n",
      "60x80_bin.csv\n",
      "70x100.csv\n",
      "72x128.csv\n",
      "72x128_bin.csv\n"
     ]
    }
   ],
   "source": [
    "result_dfs = sorted(glob.glob('*x*.csv'))\n",
    "for file in result_dfs:\n",
    "    print(file)"
   ]
  },
  {
   "cell_type": "code",
   "execution_count": 48,
   "id": "f3659cda",
   "metadata": {},
   "outputs": [
    {
     "data": {
      "text/html": [
       "<div>\n",
       "<style scoped>\n",
       "    .dataframe tbody tr th:only-of-type {\n",
       "        vertical-align: middle;\n",
       "    }\n",
       "\n",
       "    .dataframe tbody tr th {\n",
       "        vertical-align: top;\n",
       "    }\n",
       "\n",
       "    .dataframe thead th {\n",
       "        text-align: right;\n",
       "    }\n",
       "</style>\n",
       "<table border=\"1\" class=\"dataframe\">\n",
       "  <thead>\n",
       "    <tr style=\"text-align: right;\">\n",
       "      <th></th>\n",
       "      <th>Predicted_100x70</th>\n",
       "      <th>Predicted_120x160</th>\n",
       "      <th>Predicted_240x320</th>\n",
       "      <th>Predicted_30x40</th>\n",
       "      <th>Predicted_54x96</th>\n",
       "      <th>Predicted_60x80</th>\n",
       "      <th>Predicted_60x80_bin</th>\n",
       "      <th>Predicted_70x100</th>\n",
       "      <th>Predicted_72x128</th>\n",
       "      <th>Predicted_72x128_bin</th>\n",
       "    </tr>\n",
       "    <tr>\n",
       "      <th>File</th>\n",
       "      <th></th>\n",
       "      <th></th>\n",
       "      <th></th>\n",
       "      <th></th>\n",
       "      <th></th>\n",
       "      <th></th>\n",
       "      <th></th>\n",
       "      <th></th>\n",
       "      <th></th>\n",
       "      <th></th>\n",
       "    </tr>\n",
       "  </thead>\n",
       "  <tbody>\n",
       "    <tr>\n",
       "      <th>c0/0071.jpg</th>\n",
       "      <td>c0</td>\n",
       "      <td>c7</td>\n",
       "      <td>c1</td>\n",
       "      <td>c7</td>\n",
       "      <td>c1</td>\n",
       "      <td>c4</td>\n",
       "      <td>1</td>\n",
       "      <td>c0</td>\n",
       "      <td>c0</td>\n",
       "      <td>0</td>\n",
       "    </tr>\n",
       "    <tr>\n",
       "      <th>c0/00132.jpg</th>\n",
       "      <td>c0</td>\n",
       "      <td>c3</td>\n",
       "      <td>c7</td>\n",
       "      <td>c1</td>\n",
       "      <td>c3</td>\n",
       "      <td>c3</td>\n",
       "      <td>1</td>\n",
       "      <td>c6</td>\n",
       "      <td>c7</td>\n",
       "      <td>0</td>\n",
       "    </tr>\n",
       "    <tr>\n",
       "      <th>c0/00126.jpg</th>\n",
       "      <td>c6</td>\n",
       "      <td>c3</td>\n",
       "      <td>c7</td>\n",
       "      <td>c1</td>\n",
       "      <td>c3</td>\n",
       "      <td>c1</td>\n",
       "      <td>1</td>\n",
       "      <td>c6</td>\n",
       "      <td>c7</td>\n",
       "      <td>0</td>\n",
       "    </tr>\n",
       "    <tr>\n",
       "      <th>c0/0065.jpg</th>\n",
       "      <td>c5</td>\n",
       "      <td>c7</td>\n",
       "      <td>c7</td>\n",
       "      <td>c1</td>\n",
       "      <td>c1</td>\n",
       "      <td>c4</td>\n",
       "      <td>1</td>\n",
       "      <td>c0</td>\n",
       "      <td>c0</td>\n",
       "      <td>1</td>\n",
       "    </tr>\n",
       "    <tr>\n",
       "      <th>c0/107629.jpg</th>\n",
       "      <td>c2</td>\n",
       "      <td>c0</td>\n",
       "      <td>c0</td>\n",
       "      <td>c4</td>\n",
       "      <td>c1</td>\n",
       "      <td>c2</td>\n",
       "      <td>1</td>\n",
       "      <td>c0</td>\n",
       "      <td>c2</td>\n",
       "      <td>0</td>\n",
       "    </tr>\n",
       "  </tbody>\n",
       "</table>\n",
       "</div>"
      ],
      "text/plain": [
       "              Predicted_100x70 Predicted_120x160 Predicted_240x320  \\\n",
       "File                                                                 \n",
       "c0/0071.jpg                 c0                c7                c1   \n",
       "c0/00132.jpg                c0                c3                c7   \n",
       "c0/00126.jpg                c6                c3                c7   \n",
       "c0/0065.jpg                 c5                c7                c7   \n",
       "c0/107629.jpg               c2                c0                c0   \n",
       "\n",
       "              Predicted_30x40 Predicted_54x96 Predicted_60x80  \\\n",
       "File                                                            \n",
       "c0/0071.jpg                c7              c1              c4   \n",
       "c0/00132.jpg               c1              c3              c3   \n",
       "c0/00126.jpg               c1              c3              c1   \n",
       "c0/0065.jpg                c1              c1              c4   \n",
       "c0/107629.jpg              c4              c1              c2   \n",
       "\n",
       "               Predicted_60x80_bin Predicted_70x100 Predicted_72x128  \\\n",
       "File                                                                   \n",
       "c0/0071.jpg                      1               c0               c0   \n",
       "c0/00132.jpg                     1               c6               c7   \n",
       "c0/00126.jpg                     1               c6               c7   \n",
       "c0/0065.jpg                      1               c0               c0   \n",
       "c0/107629.jpg                    1               c0               c2   \n",
       "\n",
       "               Predicted_72x128_bin  \n",
       "File                                 \n",
       "c0/0071.jpg                       0  \n",
       "c0/00132.jpg                      0  \n",
       "c0/00126.jpg                      0  \n",
       "c0/0065.jpg                       1  \n",
       "c0/107629.jpg                     0  "
      ]
     },
     "execution_count": 48,
     "metadata": {},
     "output_type": "execute_result"
    }
   ],
   "source": [
    "# Merging results of experiments\n",
    "\n",
    "dfs = []\n",
    "for file in result_dfs:\n",
    "    df = pd.read_csv(file, index_col='File')\n",
    "    suffix = file.split(\".\")[0]\n",
    "    df.drop(columns=['Unnamed: 0','Truth'],inplace=True)\n",
    "    df.columns = [f'{df.columns[i]}_{suffix}' for i in range(len(df.columns))]\n",
    "    dfs.append(df)\n",
    "    \n",
    "combined = reduce(lambda left, right: pd.merge(left, right, on='File'), dfs)\n",
    "combined.head()"
   ]
  },
  {
   "cell_type": "code",
   "execution_count": 49,
   "id": "d5fcbc67",
   "metadata": {},
   "outputs": [
    {
     "data": {
      "text/html": [
       "<div>\n",
       "<style scoped>\n",
       "    .dataframe tbody tr th:only-of-type {\n",
       "        vertical-align: middle;\n",
       "    }\n",
       "\n",
       "    .dataframe tbody tr th {\n",
       "        vertical-align: top;\n",
       "    }\n",
       "\n",
       "    .dataframe thead th {\n",
       "        text-align: right;\n",
       "    }\n",
       "</style>\n",
       "<table border=\"1\" class=\"dataframe\">\n",
       "  <thead>\n",
       "    <tr style=\"text-align: right;\">\n",
       "      <th></th>\n",
       "      <th>File</th>\n",
       "      <th>Predicted_100x70</th>\n",
       "      <th>Predicted_120x160</th>\n",
       "      <th>Predicted_240x320</th>\n",
       "      <th>Predicted_30x40</th>\n",
       "      <th>Predicted_54x96</th>\n",
       "      <th>Predicted_60x80</th>\n",
       "      <th>Predicted_60x80_bin</th>\n",
       "      <th>Predicted_70x100</th>\n",
       "      <th>Predicted_72x128</th>\n",
       "      <th>Predicted_72x128_bin</th>\n",
       "      <th>Truth</th>\n",
       "      <th>Truth_bin</th>\n",
       "    </tr>\n",
       "  </thead>\n",
       "  <tbody>\n",
       "    <tr>\n",
       "      <th>0</th>\n",
       "      <td>c0/0071.jpg</td>\n",
       "      <td>c0</td>\n",
       "      <td>c7</td>\n",
       "      <td>c1</td>\n",
       "      <td>c7</td>\n",
       "      <td>c1</td>\n",
       "      <td>c4</td>\n",
       "      <td>1</td>\n",
       "      <td>c0</td>\n",
       "      <td>c0</td>\n",
       "      <td>0</td>\n",
       "      <td>c0</td>\n",
       "      <td>0</td>\n",
       "    </tr>\n",
       "    <tr>\n",
       "      <th>1</th>\n",
       "      <td>c0/00132.jpg</td>\n",
       "      <td>c0</td>\n",
       "      <td>c3</td>\n",
       "      <td>c7</td>\n",
       "      <td>c1</td>\n",
       "      <td>c3</td>\n",
       "      <td>c3</td>\n",
       "      <td>1</td>\n",
       "      <td>c6</td>\n",
       "      <td>c7</td>\n",
       "      <td>0</td>\n",
       "      <td>c0</td>\n",
       "      <td>0</td>\n",
       "    </tr>\n",
       "    <tr>\n",
       "      <th>2</th>\n",
       "      <td>c0/00126.jpg</td>\n",
       "      <td>c6</td>\n",
       "      <td>c3</td>\n",
       "      <td>c7</td>\n",
       "      <td>c1</td>\n",
       "      <td>c3</td>\n",
       "      <td>c1</td>\n",
       "      <td>1</td>\n",
       "      <td>c6</td>\n",
       "      <td>c7</td>\n",
       "      <td>0</td>\n",
       "      <td>c0</td>\n",
       "      <td>0</td>\n",
       "    </tr>\n",
       "    <tr>\n",
       "      <th>3</th>\n",
       "      <td>c0/0065.jpg</td>\n",
       "      <td>c5</td>\n",
       "      <td>c7</td>\n",
       "      <td>c7</td>\n",
       "      <td>c1</td>\n",
       "      <td>c1</td>\n",
       "      <td>c4</td>\n",
       "      <td>1</td>\n",
       "      <td>c0</td>\n",
       "      <td>c0</td>\n",
       "      <td>1</td>\n",
       "      <td>c0</td>\n",
       "      <td>0</td>\n",
       "    </tr>\n",
       "    <tr>\n",
       "      <th>4</th>\n",
       "      <td>c0/107629.jpg</td>\n",
       "      <td>c2</td>\n",
       "      <td>c0</td>\n",
       "      <td>c0</td>\n",
       "      <td>c4</td>\n",
       "      <td>c1</td>\n",
       "      <td>c2</td>\n",
       "      <td>1</td>\n",
       "      <td>c0</td>\n",
       "      <td>c2</td>\n",
       "      <td>0</td>\n",
       "      <td>c0</td>\n",
       "      <td>0</td>\n",
       "    </tr>\n",
       "  </tbody>\n",
       "</table>\n",
       "</div>"
      ],
      "text/plain": [
       "            File Predicted_100x70 Predicted_120x160 Predicted_240x320  \\\n",
       "0    c0/0071.jpg               c0                c7                c1   \n",
       "1   c0/00132.jpg               c0                c3                c7   \n",
       "2   c0/00126.jpg               c6                c3                c7   \n",
       "3    c0/0065.jpg               c5                c7                c7   \n",
       "4  c0/107629.jpg               c2                c0                c0   \n",
       "\n",
       "  Predicted_30x40 Predicted_54x96 Predicted_60x80  Predicted_60x80_bin  \\\n",
       "0              c7              c1              c4                    1   \n",
       "1              c1              c3              c3                    1   \n",
       "2              c1              c3              c1                    1   \n",
       "3              c1              c1              c4                    1   \n",
       "4              c4              c1              c2                    1   \n",
       "\n",
       "  Predicted_70x100 Predicted_72x128  Predicted_72x128_bin Truth  Truth_bin  \n",
       "0               c0               c0                     0    c0          0  \n",
       "1               c6               c7                     0    c0          0  \n",
       "2               c6               c7                     0    c0          0  \n",
       "3               c0               c0                     1    c0          0  \n",
       "4               c0               c2                     0    c0          0  "
      ]
     },
     "execution_count": 49,
     "metadata": {},
     "output_type": "execute_result"
    }
   ],
   "source": [
    "# Merging results of experiments with truth labels\n",
    "\n",
    "truth_labels = pd.read_csv('truth.csv')\n",
    "truth_labels_bin = pd.read_csv('truth2.csv')\n",
    "\n",
    "for t in [truth_labels, truth_labels_bin]:\n",
    "    t.drop(columns=['Unnamed: 0'], inplace=True)\n",
    "    \n",
    "truth_labels_bin.columns = ['File','Truth_bin']\n",
    "\n",
    "combined = pd.merge(left=combined, right=truth_labels, on ='File')\n",
    "combined = pd.merge(left=combined, right=truth_labels_bin, on ='File')\n",
    "combined.head()"
   ]
  },
  {
   "cell_type": "code",
   "execution_count": 209,
   "id": "93342135",
   "metadata": {},
   "outputs": [
    {
     "name": "stdout",
     "output_type": "stream",
     "text": [
      "Accuracy for     100x70: 0.18980759230369215\n",
      "Accuracy for    120x160: 0.18408736349453977\n",
      "Accuracy for    240x320: 0.1669266770670827\n",
      "Accuracy for      30x40: 0.2017680707228289\n",
      "Accuracy for      54x96: 0.17628705148205928\n",
      "Accuracy for      60x80: 0.21528861154446177\n",
      "Accuracy for  60x80_bin: 0.578263130525221\n",
      "Accuracy for     70x100: 0.156526261050442\n",
      "Accuracy for     72x128: 0.18876755070202808\n",
      "Accuracy for 72x128_bin: 0.5215808632345293\n"
     ]
    }
   ],
   "source": [
    "# Calculating accuracies\n",
    "\n",
    "results = [col for col in combined.columns if 'Predicted' in col]\n",
    "Y_test = combined['Truth']\n",
    "Y_test_bin = combined['Truth_bin']\n",
    "\n",
    "for res in results:\n",
    "    if 'bin' in res:\n",
    "        print(f'Accuracy for {res.split(\"_\",1)[-1]: >10}: {accuracy_score(Y_test_bin, combined[res])}')\n",
    "    else:\n",
    "        print(f'Accuracy for {res.split(\"_\",1)[-1]: >10}: {accuracy_score(Y_test, combined[res])}')"
   ]
  },
  {
   "cell_type": "markdown",
   "id": "bea64978",
   "metadata": {},
   "source": [
    "Highest accuracy seemes to be achieved with size 60x80\n",
    "* Non-binarized data: 0.21528861154446177\n",
    "* Binarized data: 0.578263130525221"
   ]
  },
  {
   "cell_type": "markdown",
   "id": "c5152cce",
   "metadata": {},
   "source": [
    "## Displaying the confusion matrix for each class"
   ]
  },
  {
   "cell_type": "markdown",
   "id": "b1f9f00f",
   "metadata": {},
   "source": [
    "### Standard representation"
   ]
  },
  {
   "cell_type": "code",
   "execution_count": 60,
   "id": "1191bd7f",
   "metadata": {},
   "outputs": [
    {
     "name": "stdout",
     "output_type": "stream",
     "text": [
      "Confusion matrix (multiclass)\n",
      "[[56 27 98 33 76 11  7 38]\n",
      " [57 47 77 67 43 50 13 39]\n",
      " [28 16 78 44 80 71  7 40]\n",
      " [11  1 15 74  4  7  3 55]\n",
      " [11  9  8 29 15 23  6 42]\n",
      " [12 12  9  6  8 50 11 35]\n",
      " [ 8 11  1 19 23 26  9 49]\n",
      " [28 23  9 35 16 14  8 85]]\n",
      "\n",
      "Confusion matrix (binary)\n",
      "[[403 399]\n",
      " [412 709]]\n"
     ]
    }
   ],
   "source": [
    "Y_test, Y_test_bin = combined['Truth'], combined['Truth_bin']\n",
    "Y_pred, Y_pred_bin = combined['Predicted_60x80'], combined['Predicted_60x80_bin']\n",
    "\n",
    "print(f'Confusion matrix (multiclass)')\n",
    "cm = confusion_matrix(Y_test, Y_pred)\n",
    "print(cm)\n",
    "# Note: Cij = number of observations known to be in group i and predicted to be in group j\n",
    "\n",
    "print()\n",
    "print(f'Confusion matrix (binary)')\n",
    "cm_bin = confusion_matrix(Y_test_bin, Y_pred_bin)\n",
    "print(cm_bin)"
   ]
  },
  {
   "cell_type": "code",
   "execution_count": 170,
   "id": "802cde39",
   "metadata": {},
   "outputs": [
    {
     "name": "stdout",
     "output_type": "stream",
     "text": [
      "c0: TP - 56, FP - 155, FN - 290\n",
      "c1: TP - 47, FP - 99, FN - 346\n",
      "c2: TP - 78, FP - 217, FN - 286\n",
      "c3: TP - 74, FP - 233, FN - 96\n",
      "c4: TP - 15, FP - 250, FN - 128\n",
      "c5: TP - 50, FP - 202, FN - 93\n",
      "c6: TP - 9, FP - 55, FN - 137\n",
      "c7: TP - 85, FP - 298, FN - 133\n"
     ]
    }
   ],
   "source": [
    "labels = np.unique(Y_test)\n",
    "\n",
    "for i in range(len(labels)):\n",
    "    tp,fp,fn = cm[i][i], sum(cm[:,i]) - cm[i][i], sum(cm[i,:]) - cm[i][i]\n",
    "    print(f'c{i}: TP - {tp}, FP - {fp}, FN - {fn}')"
   ]
  },
  {
   "cell_type": "markdown",
   "id": "182932a7",
   "metadata": {},
   "source": [
    "### Using stacked barplots (with normalized data)"
   ]
  },
  {
   "cell_type": "code",
   "execution_count": 122,
   "id": "09422dbe",
   "metadata": {},
   "outputs": [],
   "source": [
    "# Get heights of bars\n",
    "\n",
    "labels = np.unique(Y_test)\n",
    "cm_norm = np.array([cm[i]/sum(cm[i]) for i in range(len(cm))])\n",
    "\n",
    "heights = dict({})\n",
    "\n",
    "for i in range(len(labels)):\n",
    "    heights[labels[i]] = cm_norm[:,i]\n",
    "\n",
    "    \n",
    "# Add in the percentages of classes in training dataset\n",
    "\n",
    "count_dict = dict({})\n",
    "total_count = sum(y_train_counts)\n",
    "\n",
    "for i in range(len(y_train_vals)):\n",
    "    count_dict[y_train_vals[i]] = y_train_counts[i]/total_count\n",
    "\n",
    "for label, height in heights.items():\n",
    "    heights[label] = np.append(height, np.array(count_dict[label]))"
   ]
  },
  {
   "cell_type": "code",
   "execution_count": 133,
   "id": "dd16506f",
   "metadata": {},
   "outputs": [
    {
     "data": {
      "image/png": "[encoded data removed]",
      "text/plain": [
       "<Figure size 640x480 with 1 Axes>"
      ]
     },
     "metadata": {},
     "output_type": "display_data"
    }
   ],
   "source": [
    "labels = np.unique(Y_test)\n",
    "labels = np.append(labels, 'Proportion\\nof data')\n",
    "\n",
    "width = 0.5\n",
    "\n",
    "fig, ax = plt.subplots()\n",
    "bottom = np.zeros(9)\n",
    "\n",
    "for label, height in heights.items():\n",
    "    ax.bar(labels, height, width, label=label, bottom=bottom)\n",
    "    bottom += height\n",
    "\n",
    "ax.set_title('Predictions vs Original Class (normalized)')\n",
    "ax.set_xlabel('Original class')\n",
    "ax.legend(bbox_to_anchor=(1,1))\n",
    "\n",
    "plt.show()"
   ]
  },
  {
   "cell_type": "code",
   "execution_count": 155,
   "id": "1797d802",
   "metadata": {},
   "outputs": [],
   "source": [
    "# Doing the same for undersampled data\n",
    "\n",
    "cm_s = confusion_matrix(Y_test, Y_pred_s)\n",
    "labels_s = np.unique(Y_test)\n",
    "cm_s_norm = np.array([cm_s[i]/sum(cm_s[i]) for i in range(len(cm_s))])\n",
    "\n",
    "heights_s = dict({})\n",
    "\n",
    "for i in range(len(labels_s)):\n",
    "    heights_s[labels_s[i]] = cm_s_norm[:,i]"
   ]
  },
  {
   "cell_type": "code",
   "execution_count": 162,
   "id": "0bc44839",
   "metadata": {},
   "outputs": [
    {
     "data": {
      "image/png": "[encoded data removed]",
      "text/plain": [
       "<Figure size 1000x400 with 2 Axes>"
      ]
     },
     "metadata": {},
     "output_type": "display_data"
    }
   ],
   "source": [
    "# Plotting together\n",
    "\n",
    "fig, ax = plt.subplots(ncols=2, figsize=(10,4))\n",
    "\n",
    "bottom_s = np.zeros(8)\n",
    "bottom = np.zeros(9)\n",
    "\n",
    "for label, height in heights.items():\n",
    "    ax[0].bar(labels, height, width, label=label, bottom=bottom)\n",
    "    bottom += height\n",
    "\n",
    "for label, height in heights_s.items():\n",
    "    ax[1].bar(labels_s, height, width, label=label, bottom=bottom_s)\n",
    "    bottom_s += height\n",
    "\n",
    "ax[0].set_title('Predictions vs Original Class')\n",
    "ax[1].set_title('Predictions vs Original Class (undersampled)')\n",
    "fig.supxlabel('Original class')\n",
    "ax[1].legend(bbox_to_anchor=(1,1))\n",
    "\n",
    "plt.tight_layout()\n",
    "plt.show()"
   ]
  },
  {
   "cell_type": "code",
   "execution_count": 164,
   "id": "48405b31",
   "metadata": {},
   "outputs": [
    {
     "data": {
      "image/png": "[encoded data removed]",
      "text/plain": [
       "<Figure size 1000x400 with 2 Axes>"
      ]
     },
     "metadata": {},
     "output_type": "display_data"
    }
   ],
   "source": [
    "# Non-normalized versions\n",
    "# Answers the question: of images that were originally from c_, what classes were they predicted to be?\n",
    "\n",
    "heights_raw = dict({})\n",
    "heights_s_raw = dict({})\n",
    "\n",
    "for i in range(len(labels_s)):\n",
    "    heights_raw[labels_s[i]] = cm[:,i]\n",
    "\n",
    "for i in range(len(labels_s)):\n",
    "    heights_s_raw[labels_s[i]] = cm_s[:,i]\n",
    "\n",
    "fig, ax = plt.subplots(ncols=2, figsize=(10,4))\n",
    "\n",
    "bottom_s = np.zeros(8)\n",
    "bottom = np.zeros(8)\n",
    "\n",
    "for label, height in heights_raw.items():\n",
    "    ax[0].bar(labels_s, height, width, label=label, bottom=bottom)\n",
    "    bottom += height\n",
    "\n",
    "for label, height in heights_s_raw.items():\n",
    "    ax[1].bar(labels_s, height, width, label=label, bottom=bottom_s)\n",
    "    bottom_s += height\n",
    "\n",
    "ax[0].set_title('Predictions vs Original Class')\n",
    "ax[1].set_title('Predictions vs Original Class (undersampled)')\n",
    "fig.supxlabel('Original class')\n",
    "ax[1].legend(bbox_to_anchor=(1,1))\n",
    "\n",
    "plt.tight_layout()\n",
    "plt.show()"
   ]
  },
  {
   "cell_type": "code",
   "execution_count": 165,
   "id": "f0599348",
   "metadata": {},
   "outputs": [
    {
     "data": {
      "image/png": "[encoded data removed]",
      "text/plain": [
       "<Figure size 1000x400 with 2 Axes>"
      ]
     },
     "metadata": {},
     "output_type": "display_data"
    }
   ],
   "source": [
    "# Original vs Prediction Classes\n",
    "# Non-normalized versions\n",
    "# Answers the question: of images that were predicted to be c_, what classes are they originally from?\n",
    "\n",
    "heights_raw = dict({})\n",
    "heights_s_raw = dict({})\n",
    "\n",
    "for i in range(len(labels_s)):\n",
    "    heights_raw[labels_s[i]] = cm[i,:]\n",
    "\n",
    "for i in range(len(labels_s)):\n",
    "    heights_s_raw[labels_s[i]] = cm_s[i,:]\n",
    "\n",
    "fig, ax = plt.subplots(ncols=2, figsize=(10,4))\n",
    "\n",
    "bottom_s = np.zeros(8)\n",
    "bottom = np.zeros(8)\n",
    "\n",
    "for label, height in heights_raw.items():\n",
    "    ax[0].bar(labels_s, height, width, label=label, bottom=bottom)\n",
    "    bottom += height\n",
    "\n",
    "for label, height in heights_s_raw.items():\n",
    "    ax[1].bar(labels_s, height, width, label=label, bottom=bottom_s)\n",
    "    bottom_s += height\n",
    "\n",
    "ax[0].set_title('Original Class vs Predictions')\n",
    "ax[1].set_title('Original Class vs Predictions (undersampled)')\n",
    "fig.supxlabel('Prediction')\n",
    "ax[1].legend(bbox_to_anchor=(1,1))\n",
    "\n",
    "plt.tight_layout()\n",
    "plt.show()"
   ]
  }
 ],
 "metadata": {
  "kernelspec": {
   "display_name": "Python 3 (ipykernel)",
   "language": "python",
   "name": "python3"
  },
  "language_info": {
   "codemirror_mode": {
    "name": "ipython",
    "version": 3
   },
   "file_extension": ".py",
   "mimetype": "text/x-python",
   "name": "python",
   "nbconvert_exporter": "python",
   "pygments_lexer": "ipython3",
   "version": "3.8.8"
  }
 },
 "nbformat": 4,
 "nbformat_minor": 5
}
