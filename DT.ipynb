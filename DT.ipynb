{
 "cells": [
  {
   "cell_type": "markdown",
   "id": "dbd11ddf",
   "metadata": {},
   "source": [
    "# Description\n",
    "\n",
    "This notebook implements a Decision Tree for classification of the Distracted Driver Dataset.\n",
    "No feature engineering has been conducted."
   ]
  },
  {
   "cell_type": "code",
   "execution_count": 238,
   "id": "37bbd3e5",
   "metadata": {},
   "outputs": [],
   "source": [
    "import glob\n",
    "import os\n",
    "\n",
    "import matplotlib.pyplot as plt\n",
    "import numpy as np\n",
    "import pandas as pd\n",
    "\n",
    "import cv2\n",
    "\n",
    "from functools import reduce\n",
    "\n",
    "from sklearn.tree import DecisionTreeClassifier\n",
    "from sklearn.model_selection import cross_val_score, GridSearchCV, StratifiedKFold\n",
    "from sklearn.metrics import accuracy_score"
   ]
  },
  {
   "cell_type": "markdown",
   "id": "e10b065d",
   "metadata": {},
   "source": [
    "## Consolidating Training Data"
   ]
  },
  {
   "cell_type": "code",
   "execution_count": 2,
   "id": "d7a731b8",
   "metadata": {},
   "outputs": [],
   "source": [
    "# Paths to training dataset and test dataset\n",
    "\n",
    "class_nums = [f'c{i}' for i in range(8)]\n",
    "path_combined_dataset = os.path.join('Distracted Driver Dataset', 'Combined')\n",
    "paths_class_train = [os.path.join(path_combined_dataset, 'train', num) for num in class_nums]\n",
    "paths_class_test = [os.path.join(path_combined_dataset, 'test', num) for num in class_nums]"
   ]
  },
  {
   "cell_type": "code",
   "execution_count": 20,
   "id": "1c66441f",
   "metadata": {},
   "outputs": [
    {
     "data": {
      "text/plain": [
       "{(1080, 1920, 3): 10555, (480, 640, 3): 2000}"
      ]
     },
     "execution_count": 20,
     "metadata": {},
     "output_type": "execute_result"
    }
   ],
   "source": [
    "# Finding out the original sizes of the images\n",
    "\n",
    "num_total_files = []\n",
    "possible_shapes = dict({})\n",
    "for path in paths_class_train:\n",
    "    files = sorted(glob.glob(os.path.join(path,'*')))\n",
    "    for file in files:\n",
    "        img = plt.imread(file)\n",
    "        if img.shape in possible_shapes:\n",
    "            possible_shapes[img.shape] += 1\n",
    "        else:\n",
    "            possible_shapes[img.shape] = 1\n",
    "\n",
    "possible_shapes"
   ]
  },
  {
   "cell_type": "code",
   "execution_count": 213,
   "id": "7528addf",
   "metadata": {},
   "outputs": [],
   "source": [
    "# Getting training data\n",
    "\n",
    "X_train, Y_train = [],[]\n",
    "\n",
    "desired_dim = (60,80) # Change this as desired\n",
    "\n",
    "for path in paths_class_train:\n",
    "    files = glob.glob(os.path.join(path,'*'))\n",
    "    label = path.split(os.path.sep)[-1]\n",
    "\n",
    "    for file in files:\n",
    "        img = cv2.imread(file, cv2.IMREAD_GRAYSCALE)\n",
    "        if img.shape != desired_dim:\n",
    "            img = cv2.resize(img, desired_dim)\n",
    "        X_train.append(img.flatten())\n",
    "        Y_train.append(label)"
   ]
  },
  {
   "cell_type": "code",
   "execution_count": 214,
   "id": "8cb36057",
   "metadata": {},
   "outputs": [
    {
     "name": "stdout",
     "output_type": "stream",
     "text": [
      "Desired dimensions: (60, 80)\n"
     ]
    }
   ],
   "source": [
    "# Getting test data\n",
    "\n",
    "X_names, X_test, Y_test = [],[],[]\n",
    "\n",
    "print(f'Desired dimensions: {desired_dim}') # check if they are the same as X_train and Y_train\n",
    "\n",
    "for path in paths_class_test:\n",
    "    files = glob.glob(os.path.join(path,'*'))\n",
    "    label = path.split(os.path.sep)[-1]\n",
    "\n",
    "    for file in files:\n",
    "        img = cv2.imread(file, cv2.IMREAD_GRAYSCALE)\n",
    "        if img.shape != desired_dim:\n",
    "            img = cv2.resize(img, desired_dim)\n",
    "        X_names.append(os.path.join(label,file.split(os.path.sep)[-1]))\n",
    "        X_test.append(img.flatten())\n",
    "        Y_test.append(label)"
   ]
  },
  {
   "cell_type": "code",
   "execution_count": 232,
   "id": "7db423c8",
   "metadata": {},
   "outputs": [],
   "source": [
    "# Getting binary training data and test data\n",
    "\n",
    "nd_classes = [f'c{i}' for i in [0,3,4,5]]\n",
    "# 0,3,4,5: Safe Driving / Adjusting Radio / Drinking / Reaching Behind\n",
    "# 1,2,6,7: Text / Phone / Hair or Makeup / Talking to Passenger\n",
    "\n",
    "Y_train2 = [(0 if y in nd_classes else 1) for y in Y_train]\n",
    "Y_test2 = [(0 if y in nd_classes else 1) for y in Y_test]"
   ]
  },
  {
   "cell_type": "code",
   "execution_count": 249,
   "id": "b79f7d33",
   "metadata": {},
   "outputs": [
    {
     "data": {
      "image/png": "[encoded data removed]",
      "text/plain": [
       "<Figure size 800x400 with 2 Axes>"
      ]
     },
     "metadata": {},
     "output_type": "display_data"
    }
   ],
   "source": [
    "# Distribution of classes in Y_train vs Y_test\n",
    "\n",
    "y_train_vals,y_train_counts = np.unique(Y_train, return_counts=True)\n",
    "y_test_vals,y_test_counts = np.unique(Y_test, return_counts=True)\n",
    "\n",
    "# Normalizing\n",
    "y_train_counts = np.array(y_train_counts)/sum(y_train_counts)\n",
    "y_test_counts = np.array(y_test_counts)/sum(y_test_counts)\n",
    "\n",
    "fig,ax=plt.subplots(ncols=2, sharey=True, figsize=(8,4))\n",
    "ax[0].bar(x=y_train_vals, height=y_train_counts)\n",
    "ax[0].set_title('Y_train')\n",
    "ax[0].set_ylabel('Proportion of dataset')\n",
    "\n",
    "ax[1].bar(x=y_test_vals, height=y_test_counts)\n",
    "ax[1].set_title('Y_test')\n",
    "\n",
    "fig.supxlabel('Class')\n",
    "\n",
    "plt.tight_layout()\n",
    "plt.show()"
   ]
  },
  {
   "cell_type": "markdown",
   "id": "07e89d02",
   "metadata": {},
   "source": [
    "## Model"
   ]
  },
  {
   "cell_type": "code",
   "execution_count": 216,
   "id": "30a265af",
   "metadata": {},
   "outputs": [],
   "source": [
    "dt = DecisionTreeClassifier(class_weight=None, criterion='entropy', max_depth=35)\n",
    "\n",
    "# Tuned hyperparameters: {'class_weight': None, 'criterion': 'entropy', 'max_depth': 35}"
   ]
  },
  {
   "cell_type": "markdown",
   "id": "848a7b84",
   "metadata": {},
   "source": [
    "### For non-binarized data"
   ]
  },
  {
   "cell_type": "code",
   "execution_count": 221,
   "id": "205b2fc2",
   "metadata": {},
   "outputs": [
    {
     "data": {
      "text/plain": [
       "0.1809672386895476"
      ]
     },
     "execution_count": 221,
     "metadata": {},
     "output_type": "execute_result"
    }
   ],
   "source": [
    "# Fit model\n",
    "dt.fit(X_train, Y_train)\n",
    "Y_pred = dt.predict(X_test)\n",
    "accuracy_score(Y_test, Y_pred)"
   ]
  },
  {
   "cell_type": "code",
   "execution_count": 222,
   "id": "0cf627ae",
   "metadata": {},
   "outputs": [],
   "source": [
    "# Saving results\n",
    "df = pd.DataFrame(dict({'File':X_names,'Truth':Y_test,'Predicted':Y_pred}))\n",
    "df.to_csv('{}x{}.csv'.format(desired_dim[0],desired_dim[1]))"
   ]
  },
  {
   "cell_type": "code",
   "execution_count": 223,
   "id": "f96a20df",
   "metadata": {},
   "outputs": [],
   "source": [
    "# Generate just the truth labels\n",
    "df_truth = df[['File','Truth']]\n",
    "df_truth.to_csv('truth.csv')"
   ]
  },
  {
   "cell_type": "markdown",
   "id": "c34488af",
   "metadata": {},
   "source": [
    "### For binarized data"
   ]
  },
  {
   "cell_type": "code",
   "execution_count": 234,
   "id": "8a29f4b6",
   "metadata": {},
   "outputs": [
    {
     "data": {
      "text/plain": [
       "0.5491419656786272"
      ]
     },
     "execution_count": 234,
     "metadata": {},
     "output_type": "execute_result"
    }
   ],
   "source": [
    "# Fit model\n",
    "dt.fit(X_train, Y_train2)\n",
    "Y_pred2 = dt.predict(X_test)\n",
    "accuracy_score(Y_test2, Y_pred2)"
   ]
  },
  {
   "cell_type": "code",
   "execution_count": 235,
   "id": "026b6c62",
   "metadata": {},
   "outputs": [],
   "source": [
    "# Saving results\n",
    "df = pd.DataFrame(dict({'File':X_names,'Truth':Y_test2,'Predicted':Y_pred2}))\n",
    "df.to_csv('{}x{}_bin.csv'.format(desired_dim[0],desired_dim[1]))"
   ]
  },
  {
   "cell_type": "code",
   "execution_count": 236,
   "id": "0cf10bb0",
   "metadata": {},
   "outputs": [],
   "source": [
    "# Generate just the truth labels\n",
    "df_truth = df[['File','Truth']]\n",
    "df_truth.to_csv('truth2.csv')"
   ]
  },
  {
   "cell_type": "markdown",
   "id": "7815b07c",
   "metadata": {},
   "source": [
    "### Repeating to see spread of scores for current best-performing size"
   ]
  },
  {
   "cell_type": "code",
   "execution_count": 110,
   "id": "ce3f38b4",
   "metadata": {},
   "outputs": [
    {
     "data": {
      "text/plain": [
       "[0.17888715548621945,\n",
       " 0.18876755070202808,\n",
       " 0.21112844513780551,\n",
       " 0.22152886115444617,\n",
       " 0.1856474258970359]"
      ]
     },
     "execution_count": 110,
     "metadata": {},
     "output_type": "execute_result"
    }
   ],
   "source": [
    "# Repeat 5 times for 60x80\n",
    "acc = []\n",
    "\n",
    "for i in range(5):\n",
    "    dt.fit(X_train, Y_train)\n",
    "    Y_pred = dt.predict(X_test)\n",
    "    acc.append(accuracy_score(Y_test, Y_pred))\n",
    "\n",
    "acc"
   ]
  },
  {
   "cell_type": "code",
   "execution_count": 237,
   "id": "a12c83fd",
   "metadata": {},
   "outputs": [
    {
     "data": {
      "text/plain": [
       "[0.5803432137285491,\n",
       " 0.6006240249609984,\n",
       " 0.5741029641185648,\n",
       " 0.5512220488819553,\n",
       " 0.5585023400936038]"
      ]
     },
     "execution_count": 237,
     "metadata": {},
     "output_type": "execute_result"
    }
   ],
   "source": [
    "# Repeat 5 times for 60x80 - binary\n",
    "acc2 = []\n",
    "\n",
    "for i in range(5):\n",
    "    dt.fit(X_train, Y_train2)\n",
    "    Y_pred2 = dt.predict(X_test)\n",
    "    acc2.append(accuracy_score(Y_test2, Y_pred2))\n",
    "\n",
    "acc2"
   ]
  },
  {
   "cell_type": "markdown",
   "id": "4517d266",
   "metadata": {},
   "source": [
    "## Hyperparameter tuning"
   ]
  },
  {
   "cell_type": "code",
   "execution_count": 211,
   "id": "52f626b7",
   "metadata": {},
   "outputs": [
    {
     "name": "stdout",
     "output_type": "stream",
     "text": [
      "Fold 0:\n",
      "Train: [    0     1     2 ... 12551 12552 12554]\n",
      "Validation: [   17    22    24 ... 12543 12546 12553]\n",
      "Size of training dataset: 12555\n",
      "\n",
      "Fold 1:\n",
      "Train: [    0     1     4 ... 12551 12552 12553]\n",
      "Validation: [    2     3     7 ... 12542 12544 12554]\n",
      "Size of training dataset: 12555\n",
      "\n",
      "Fold 2:\n",
      "Train: [    2     3     5 ... 12551 12553 12554]\n",
      "Validation: [    0     1     4 ... 12547 12550 12552]\n",
      "Size of training dataset: 12555\n",
      "\n",
      "Fold 3:\n",
      "Train: [    0     1     2 ... 12552 12553 12554]\n",
      "Validation: [   10    12    16 ... 12538 12540 12548]\n",
      "Size of training dataset: 12555\n",
      "\n",
      "Fold 4:\n",
      "Train: [    0     1     2 ... 12552 12553 12554]\n",
      "Validation: [    5     6     9 ... 12545 12549 12551]\n",
      "Size of training dataset: 12555\n",
      "\n"
     ]
    }
   ],
   "source": [
    "# Splitting training data into 80% training and 20% validation\n",
    "\n",
    "skf = StratifiedKFold(n_splits=5, shuffle=True, random_state=0)\n",
    "\n",
    "for i, (train_indices, validation_indices) in enumerate(skf.split(X_train, Y_train)):\n",
    "    print(f'Fold {i}:')\n",
    "    print(f'Train: {train_indices}')\n",
    "    print(f'Validation: {validation_indices}')\n",
    "    print(f'Size of training dataset: {len(train_indices) + len(validation_indices)}')\n",
    "    print()"
   ]
  },
  {
   "cell_type": "code",
   "execution_count": 81,
   "id": "2135676c",
   "metadata": {},
   "outputs": [
    {
     "name": "stdout",
     "output_type": "stream",
     "text": [
      "n =  20:\tAverage cross-validation score = 0.8601354042214258\n",
      "n =  25:\tAverage cross-validation score = 0.8571087216248507\n",
      "n =  30:\tAverage cross-validation score = 0.8598964555953804\n",
      "n =  35:\tAverage cross-validation score = 0.8608522500995619\n",
      "n =  40:\tAverage cross-validation score = 0.8566308243727597\n",
      "n =  45:\tAverage cross-validation score = 0.8553564317005178\n"
     ]
    }
   ],
   "source": [
    "# Test of various max_depths\n",
    "\n",
    "depth_arr = [i for i in range(20,46,5)]\n",
    "\n",
    "for i in range(len(depth_arr)):\n",
    "    n = depth_arr[i]\n",
    "    dt = DecisionTreeClassifier(max_depth=n, class_weight=None, criterion='entropy')\n",
    "    score = cross_val_score(estimator=dt, X=X_train, y=Y_train, scoring='accuracy', cv=skf)\n",
    "    print(f\"n = {n:>3d}:\\tAverage cross-validation score = {np.mean(score)}\")"
   ]
  },
  {
   "cell_type": "code",
   "execution_count": 83,
   "id": "7c8827a0",
   "metadata": {},
   "outputs": [
    {
     "name": "stdout",
     "output_type": "stream",
     "text": [
      "{'class_weight': None, 'criterion': 'entropy', 'max_depth': 35}\n",
      "0.8641975308641975\n"
     ]
    }
   ],
   "source": [
    "# Grid-search cross-validation\n",
    "\n",
    "dt_param_grid = {'criterion': ['gini','entropy'],\n",
    "                 'max_depth': range(15,41,5), \n",
    "                 'class_weight': ['balanced',None]}\n",
    "dt = DecisionTreeClassifier()\n",
    "dt_search = GridSearchCV(estimator=dt, param_grid=dt_param_grid, scoring='accuracy', cv=skf).fit(X_train, Y_train)\n",
    "\n",
    "print(dt_search.best_params_)\n",
    "print(dt_search.best_score_)"
   ]
  },
  {
   "cell_type": "markdown",
   "id": "74233fa0",
   "metadata": {},
   "source": [
    "## Examining results across different image sizes"
   ]
  },
  {
   "cell_type": "code",
   "execution_count": 206,
   "id": "054cfd8b",
   "metadata": {},
   "outputs": [
    {
     "name": "stdout",
     "output_type": "stream",
     "text": [
      "100x70.csv\n",
      "120x160.csv\n",
      "240x320.csv\n",
      "30x40.csv\n",
      "54x96.csv\n",
      "60x80.csv\n",
      "60x80_bin.csv\n",
      "70x100.csv\n",
      "72x128.csv\n",
      "72x128_bin.csv\n"
     ]
    }
   ],
   "source": [
    "result_dfs = sorted(glob.glob('*x*.csv'))\n",
    "for file in result_dfs:\n",
    "    print(file)"
   ]
  },
  {
   "cell_type": "code",
   "execution_count": 207,
   "id": "18059201",
   "metadata": {},
   "outputs": [
    {
     "data": {
      "text/html": [
       "<div>\n",
       "<style scoped>\n",
       "    .dataframe tbody tr th:only-of-type {\n",
       "        vertical-align: middle;\n",
       "    }\n",
       "\n",
       "    .dataframe tbody tr th {\n",
       "        vertical-align: top;\n",
       "    }\n",
       "\n",
       "    .dataframe thead th {\n",
       "        text-align: right;\n",
       "    }\n",
       "</style>\n",
       "<table border=\"1\" class=\"dataframe\">\n",
       "  <thead>\n",
       "    <tr style=\"text-align: right;\">\n",
       "      <th></th>\n",
       "      <th>Predicted_100x70</th>\n",
       "      <th>Predicted_120x160</th>\n",
       "      <th>Predicted_240x320</th>\n",
       "      <th>Predicted_30x40</th>\n",
       "      <th>Predicted_54x96</th>\n",
       "      <th>Predicted_60x80</th>\n",
       "      <th>Predicted_60x80_bin</th>\n",
       "      <th>Predicted_70x100</th>\n",
       "      <th>Predicted_72x128</th>\n",
       "      <th>Predicted_72x128_bin</th>\n",
       "    </tr>\n",
       "    <tr>\n",
       "      <th>File</th>\n",
       "      <th></th>\n",
       "      <th></th>\n",
       "      <th></th>\n",
       "      <th></th>\n",
       "      <th></th>\n",
       "      <th></th>\n",
       "      <th></th>\n",
       "      <th></th>\n",
       "      <th></th>\n",
       "      <th></th>\n",
       "    </tr>\n",
       "  </thead>\n",
       "  <tbody>\n",
       "    <tr>\n",
       "      <th>c0/0071.jpg</th>\n",
       "      <td>c0</td>\n",
       "      <td>c7</td>\n",
       "      <td>c1</td>\n",
       "      <td>c7</td>\n",
       "      <td>c1</td>\n",
       "      <td>c4</td>\n",
       "      <td>1</td>\n",
       "      <td>c0</td>\n",
       "      <td>c0</td>\n",
       "      <td>0</td>\n",
       "    </tr>\n",
       "    <tr>\n",
       "      <th>c0/00132.jpg</th>\n",
       "      <td>c0</td>\n",
       "      <td>c3</td>\n",
       "      <td>c7</td>\n",
       "      <td>c1</td>\n",
       "      <td>c3</td>\n",
       "      <td>c3</td>\n",
       "      <td>1</td>\n",
       "      <td>c6</td>\n",
       "      <td>c7</td>\n",
       "      <td>0</td>\n",
       "    </tr>\n",
       "    <tr>\n",
       "      <th>c0/00126.jpg</th>\n",
       "      <td>c6</td>\n",
       "      <td>c3</td>\n",
       "      <td>c7</td>\n",
       "      <td>c1</td>\n",
       "      <td>c3</td>\n",
       "      <td>c1</td>\n",
       "      <td>1</td>\n",
       "      <td>c6</td>\n",
       "      <td>c7</td>\n",
       "      <td>0</td>\n",
       "    </tr>\n",
       "    <tr>\n",
       "      <th>c0/0065.jpg</th>\n",
       "      <td>c5</td>\n",
       "      <td>c7</td>\n",
       "      <td>c7</td>\n",
       "      <td>c1</td>\n",
       "      <td>c1</td>\n",
       "      <td>c4</td>\n",
       "      <td>1</td>\n",
       "      <td>c0</td>\n",
       "      <td>c0</td>\n",
       "      <td>1</td>\n",
       "    </tr>\n",
       "    <tr>\n",
       "      <th>c0/107629.jpg</th>\n",
       "      <td>c2</td>\n",
       "      <td>c0</td>\n",
       "      <td>c0</td>\n",
       "      <td>c4</td>\n",
       "      <td>c1</td>\n",
       "      <td>c2</td>\n",
       "      <td>1</td>\n",
       "      <td>c0</td>\n",
       "      <td>c2</td>\n",
       "      <td>0</td>\n",
       "    </tr>\n",
       "  </tbody>\n",
       "</table>\n",
       "</div>"
      ],
      "text/plain": [
       "              Predicted_100x70 Predicted_120x160 Predicted_240x320  \\\n",
       "File                                                                 \n",
       "c0/0071.jpg                 c0                c7                c1   \n",
       "c0/00132.jpg                c0                c3                c7   \n",
       "c0/00126.jpg                c6                c3                c7   \n",
       "c0/0065.jpg                 c5                c7                c7   \n",
       "c0/107629.jpg               c2                c0                c0   \n",
       "\n",
       "              Predicted_30x40 Predicted_54x96 Predicted_60x80  \\\n",
       "File                                                            \n",
       "c0/0071.jpg                c7              c1              c4   \n",
       "c0/00132.jpg               c1              c3              c3   \n",
       "c0/00126.jpg               c1              c3              c1   \n",
       "c0/0065.jpg                c1              c1              c4   \n",
       "c0/107629.jpg              c4              c1              c2   \n",
       "\n",
       "               Predicted_60x80_bin Predicted_70x100 Predicted_72x128  \\\n",
       "File                                                                   \n",
       "c0/0071.jpg                      1               c0               c0   \n",
       "c0/00132.jpg                     1               c6               c7   \n",
       "c0/00126.jpg                     1               c6               c7   \n",
       "c0/0065.jpg                      1               c0               c0   \n",
       "c0/107629.jpg                    1               c0               c2   \n",
       "\n",
       "               Predicted_72x128_bin  \n",
       "File                                 \n",
       "c0/0071.jpg                       0  \n",
       "c0/00132.jpg                      0  \n",
       "c0/00126.jpg                      0  \n",
       "c0/0065.jpg                       1  \n",
       "c0/107629.jpg                     0  "
      ]
     },
     "execution_count": 207,
     "metadata": {},
     "output_type": "execute_result"
    }
   ],
   "source": [
    "# Merging results of experiments\n",
    "\n",
    "dfs = []\n",
    "for file in result_dfs:\n",
    "    df = pd.read_csv(file, index_col='File')\n",
    "    suffix = file.split(\".\")[0]\n",
    "    df.drop(columns=['Unnamed: 0','Truth'],inplace=True)\n",
    "    df.columns = [f'{df.columns[i]}_{suffix}' for i in range(len(df.columns))]\n",
    "    dfs.append(df)\n",
    "    \n",
    "combined = reduce(lambda left, right: pd.merge(left, right, on='File'), dfs)\n",
    "combined.head()"
   ]
  },
  {
   "cell_type": "code",
   "execution_count": 208,
   "id": "06b46bf8",
   "metadata": {},
   "outputs": [
    {
     "data": {
      "text/html": [
       "<div>\n",
       "<style scoped>\n",
       "    .dataframe tbody tr th:only-of-type {\n",
       "        vertical-align: middle;\n",
       "    }\n",
       "\n",
       "    .dataframe tbody tr th {\n",
       "        vertical-align: top;\n",
       "    }\n",
       "\n",
       "    .dataframe thead th {\n",
       "        text-align: right;\n",
       "    }\n",
       "</style>\n",
       "<table border=\"1\" class=\"dataframe\">\n",
       "  <thead>\n",
       "    <tr style=\"text-align: right;\">\n",
       "      <th></th>\n",
       "      <th>File</th>\n",
       "      <th>Predicted_100x70</th>\n",
       "      <th>Predicted_120x160</th>\n",
       "      <th>Predicted_240x320</th>\n",
       "      <th>Predicted_30x40</th>\n",
       "      <th>Predicted_54x96</th>\n",
       "      <th>Predicted_60x80</th>\n",
       "      <th>Predicted_60x80_bin</th>\n",
       "      <th>Predicted_70x100</th>\n",
       "      <th>Predicted_72x128</th>\n",
       "      <th>Predicted_72x128_bin</th>\n",
       "      <th>Truth</th>\n",
       "      <th>Truth_bin</th>\n",
       "    </tr>\n",
       "  </thead>\n",
       "  <tbody>\n",
       "    <tr>\n",
       "      <th>0</th>\n",
       "      <td>c0/0071.jpg</td>\n",
       "      <td>c0</td>\n",
       "      <td>c7</td>\n",
       "      <td>c1</td>\n",
       "      <td>c7</td>\n",
       "      <td>c1</td>\n",
       "      <td>c4</td>\n",
       "      <td>1</td>\n",
       "      <td>c0</td>\n",
       "      <td>c0</td>\n",
       "      <td>0</td>\n",
       "      <td>c0</td>\n",
       "      <td>0</td>\n",
       "    </tr>\n",
       "    <tr>\n",
       "      <th>1</th>\n",
       "      <td>c0/00132.jpg</td>\n",
       "      <td>c0</td>\n",
       "      <td>c3</td>\n",
       "      <td>c7</td>\n",
       "      <td>c1</td>\n",
       "      <td>c3</td>\n",
       "      <td>c3</td>\n",
       "      <td>1</td>\n",
       "      <td>c6</td>\n",
       "      <td>c7</td>\n",
       "      <td>0</td>\n",
       "      <td>c0</td>\n",
       "      <td>0</td>\n",
       "    </tr>\n",
       "    <tr>\n",
       "      <th>2</th>\n",
       "      <td>c0/00126.jpg</td>\n",
       "      <td>c6</td>\n",
       "      <td>c3</td>\n",
       "      <td>c7</td>\n",
       "      <td>c1</td>\n",
       "      <td>c3</td>\n",
       "      <td>c1</td>\n",
       "      <td>1</td>\n",
       "      <td>c6</td>\n",
       "      <td>c7</td>\n",
       "      <td>0</td>\n",
       "      <td>c0</td>\n",
       "      <td>0</td>\n",
       "    </tr>\n",
       "    <tr>\n",
       "      <th>3</th>\n",
       "      <td>c0/0065.jpg</td>\n",
       "      <td>c5</td>\n",
       "      <td>c7</td>\n",
       "      <td>c7</td>\n",
       "      <td>c1</td>\n",
       "      <td>c1</td>\n",
       "      <td>c4</td>\n",
       "      <td>1</td>\n",
       "      <td>c0</td>\n",
       "      <td>c0</td>\n",
       "      <td>1</td>\n",
       "      <td>c0</td>\n",
       "      <td>0</td>\n",
       "    </tr>\n",
       "    <tr>\n",
       "      <th>4</th>\n",
       "      <td>c0/107629.jpg</td>\n",
       "      <td>c2</td>\n",
       "      <td>c0</td>\n",
       "      <td>c0</td>\n",
       "      <td>c4</td>\n",
       "      <td>c1</td>\n",
       "      <td>c2</td>\n",
       "      <td>1</td>\n",
       "      <td>c0</td>\n",
       "      <td>c2</td>\n",
       "      <td>0</td>\n",
       "      <td>c0</td>\n",
       "      <td>0</td>\n",
       "    </tr>\n",
       "  </tbody>\n",
       "</table>\n",
       "</div>"
      ],
      "text/plain": [
       "            File Predicted_100x70 Predicted_120x160 Predicted_240x320  \\\n",
       "0    c0/0071.jpg               c0                c7                c1   \n",
       "1   c0/00132.jpg               c0                c3                c7   \n",
       "2   c0/00126.jpg               c6                c3                c7   \n",
       "3    c0/0065.jpg               c5                c7                c7   \n",
       "4  c0/107629.jpg               c2                c0                c0   \n",
       "\n",
       "  Predicted_30x40 Predicted_54x96 Predicted_60x80  Predicted_60x80_bin  \\\n",
       "0              c7              c1              c4                    1   \n",
       "1              c1              c3              c3                    1   \n",
       "2              c1              c3              c1                    1   \n",
       "3              c1              c1              c4                    1   \n",
       "4              c4              c1              c2                    1   \n",
       "\n",
       "  Predicted_70x100 Predicted_72x128  Predicted_72x128_bin Truth  Truth_bin  \n",
       "0               c0               c0                     0    c0          0  \n",
       "1               c6               c7                     0    c0          0  \n",
       "2               c6               c7                     0    c0          0  \n",
       "3               c0               c0                     1    c0          0  \n",
       "4               c0               c2                     0    c0          0  "
      ]
     },
     "execution_count": 208,
     "metadata": {},
     "output_type": "execute_result"
    }
   ],
   "source": [
    "# Merging results of experiments with truth labels\n",
    "\n",
    "truth_labels = pd.read_csv('truth.csv')\n",
    "truth_labels_bin = pd.read_csv('truth2.csv')\n",
    "\n",
    "for t in [truth_labels, truth_labels_bin]:\n",
    "    t.drop(columns=['Unnamed: 0'], inplace=True)\n",
    "    \n",
    "truth_labels_bin.columns = ['File','Truth_bin']\n",
    "\n",
    "combined = pd.merge(left=combined, right=truth_labels, on ='File')\n",
    "combined = pd.merge(left=combined, right=truth_labels_bin, on ='File')\n",
    "combined.head()"
   ]
  },
  {
   "cell_type": "code",
   "execution_count": 209,
   "id": "9eb8f941",
   "metadata": {},
   "outputs": [
    {
     "name": "stdout",
     "output_type": "stream",
     "text": [
      "Accuracy for     100x70: 0.18980759230369215\n",
      "Accuracy for    120x160: 0.18408736349453977\n",
      "Accuracy for    240x320: 0.1669266770670827\n",
      "Accuracy for      30x40: 0.2017680707228289\n",
      "Accuracy for      54x96: 0.17628705148205928\n",
      "Accuracy for      60x80: 0.21528861154446177\n",
      "Accuracy for  60x80_bin: 0.578263130525221\n",
      "Accuracy for     70x100: 0.156526261050442\n",
      "Accuracy for     72x128: 0.18876755070202808\n",
      "Accuracy for 72x128_bin: 0.5215808632345293\n"
     ]
    }
   ],
   "source": [
    "# Calculating accuracies\n",
    "\n",
    "results = [col for col in combined.columns if 'Predicted' in col]\n",
    "Y_test = combined['Truth']\n",
    "Y_test_bin = combined['Truth_bin']\n",
    "\n",
    "for res in results:\n",
    "    if 'bin' in res:\n",
    "        print(f'Accuracy for {res.split(\"_\",1)[-1]: >10}: {accuracy_score(Y_test_bin, combined[res])}')\n",
    "    else:\n",
    "        print(f'Accuracy for {res.split(\"_\",1)[-1]: >10}: {accuracy_score(Y_test, combined[res])}')"
   ]
  },
  {
   "cell_type": "markdown",
   "id": "d2da73cd",
   "metadata": {},
   "source": [
    "Highest accuracy seemes to be achieved with size 60x80\n",
    "* Non-binarized data: 0.21528861154446177\n",
    "* Binarized data: 0.578263130525221"
   ]
  },
  {
   "cell_type": "code",
   "execution_count": null,
   "id": "1a7e817d",
   "metadata": {},
   "outputs": [],
   "source": []
  }
 ],
 "metadata": {
  "kernelspec": {
   "display_name": "Python 3 (ipykernel)",
   "language": "python",
   "name": "python3"
  },
  "language_info": {
   "codemirror_mode": {
    "name": "ipython",
    "version": 3
   },
   "file_extension": ".py",
   "mimetype": "text/x-python",
   "name": "python",
   "nbconvert_exporter": "python",
   "pygments_lexer": "ipython3",
   "version": "3.8.8"
  }
 },
 "nbformat": 4,
 "nbformat_minor": 5
}
