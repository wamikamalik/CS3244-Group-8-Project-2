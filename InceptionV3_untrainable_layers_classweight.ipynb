{
  "nbformat": 4,
  "nbformat_minor": 0,
  "metadata": {
    "colab": {
      "provenance": []
    },
    "kernelspec": {
      "name": "python3",
      "display_name": "Python 3"
    },
    "language_info": {
      "name": "python"
    },
    "accelerator": "GPU",
    "gpuClass": "standard"
  },
  "cells": [
    {
      "cell_type": "code",
      "source": [
        "# !gdown 1-71hYGVEWoJH3JTtH9CAsSQ6PotpiZBW"
      ],
      "metadata": {
        "id": "DMNxwXT6PxDd"
      },
      "execution_count": 46,
      "outputs": []
    },
    {
      "cell_type": "code",
      "source": [
        "from zipfile import ZipFile\n",
        "password = \"57Rk!F8yUz38\"\n",
        "with ZipFile('drive/MyDrive/CombinedNew.zip') as zipObj:\n",
        "  zipObj.extractall()"
      ],
      "metadata": {
        "id": "tvJf9AAMQ915"
      },
      "execution_count": 47,
      "outputs": []
    },
    {
      "cell_type": "code",
      "execution_count": 48,
      "metadata": {
        "id": "xspn6xRxjm1l"
      },
      "outputs": [],
      "source": [
        "import os\n",
        "import cv2\n",
        "import shutil\n",
        "import secrets\n",
        "import tensorflow as tf\n",
        "from tensorflow.keras.preprocessing.image import ImageDataGenerator\n",
        "from matplotlib import pyplot as plt\n",
        "from keras.layers import Conv2D, MaxPooling2D, GlobalAveragePooling2D\n",
        "from keras.layers import Dropout, Flatten, Dense\n",
        "from keras.models import Sequential\n",
        "from keras.models import Sequential, Model\n",
        "from keras import optimizers\n",
        "import numpy as np\n",
        "import pandas as pd\n",
        "from sklearn.metrics import confusion_matrix\n",
        "from sklearn.utils.class_weight import compute_class_weight\n",
        "from PIL import Image\n",
        "from PIL import ImageFile\n",
        "import seaborn as sns\n",
        "from keras.utils.vis_utils import plot_model\n",
        "from keras.callbacks import ModelCheckpoint\n",
        "from sklearn.metrics import accuracy_score,precision_score,recall_score,f1_score\n",
        "# from tensorflow.keras.applications.vgg16 import VGG16, preprocess_input as pre_in1\n",
        "from tensorflow.keras.applications.inception_v3 import InceptionV3, preprocess_input\n",
        "# from tensorflow.keras.applications.alexnet import AlexNet, preprocess_input"
      ]
    },
    {
      "cell_type": "code",
      "source": [
        "PARENT_PATH = os.getcwd()\n",
        "DATA_PATH = os.path.join(os.getcwd(),\"CombinedNew\", \"Combined New\")\n",
        "TEST_PATH = os.path.join(DATA_PATH, \"test\")\n",
        "TRAIN_PATH = os.path.join(DATA_PATH, \"train\")\n",
        "UNSEEN_PATH = os.path.join(DATA_PATH, \"unseen\")\n",
        "MODEL_PATH = os.path.join(PARENT_PATH, \"models\")\n",
        "NUM_CLASSES = 8"
      ],
      "metadata": {
        "id": "aqu4huPSGQTO"
      },
      "execution_count": 49,
      "outputs": []
    },
    {
      "cell_type": "code",
      "source": [
        "BATCH_SIZE = 64\n",
        "IMAGE_SIZE = 299\n",
        "NUM_EPOCH = 25"
      ],
      "metadata": {
        "id": "rU9rXSZ6GSg6"
      },
      "execution_count": 50,
      "outputs": []
    },
    {
      "cell_type": "code",
      "source": [
        "def create_df(DATA_PATH):\n",
        "  cls_names = os.listdir(DATA_PATH)\n",
        "  data = []\n",
        "  for cls in cls_names: \n",
        "    if cls == \".DS_Store\":\n",
        "      continue\n",
        "    cls_path = os.path.join(DATA_PATH, cls)\n",
        "    print(cls_path)\n",
        "    for file in os.listdir(cls_path):\n",
        "      data.append({\"Filename\": os.path.join(cls, file), \"Class\": cls})\n",
        "  df = pd.DataFrame(data)\n",
        "  return df\n",
        "  \n",
        "train_df = create_df(TRAIN_PATH)\n",
        "test_df = create_df(TEST_PATH)"
      ],
      "metadata": {
        "id": "zLgf0gF_GWDi",
        "colab": {
          "base_uri": "https://localhost:8080/"
        },
        "outputId": "6417a1e3-8542-4dcf-b5f7-1a9bb741b96a"
      },
      "execution_count": 51,
      "outputs": [
        {
          "output_type": "stream",
          "name": "stdout",
          "text": [
            "/content/CombinedNew/Combined New/train/c5\n",
            "/content/CombinedNew/Combined New/train/c1\n",
            "/content/CombinedNew/Combined New/train/c7\n",
            "/content/CombinedNew/Combined New/train/c4\n",
            "/content/CombinedNew/Combined New/train/c0\n",
            "/content/CombinedNew/Combined New/train/c3\n",
            "/content/CombinedNew/Combined New/train/c6\n",
            "/content/CombinedNew/Combined New/train/c2\n",
            "/content/CombinedNew/Combined New/test/c5\n",
            "/content/CombinedNew/Combined New/test/c1\n",
            "/content/CombinedNew/Combined New/test/c7\n",
            "/content/CombinedNew/Combined New/test/c4\n",
            "/content/CombinedNew/Combined New/test/c0\n",
            "/content/CombinedNew/Combined New/test/c3\n",
            "/content/CombinedNew/Combined New/test/c6\n",
            "/content/CombinedNew/Combined New/test/c2\n"
          ]
        }
      ]
    },
    {
      "cell_type": "code",
      "source": [
        "train_df['Class'].value_counts().plot.bar()"
      ],
      "metadata": {
        "id": "R0Uyr8SiGYiM",
        "colab": {
          "base_uri": "https://localhost:8080/",
          "height": 284
        },
        "outputId": "e0a61895-42a1-4187-c2ec-31e089ebcc2b"
      },
      "execution_count": 52,
      "outputs": [
        {
          "output_type": "execute_result",
          "data": {
            "text/plain": [
              "<Axes: >"
            ]
          },
          "metadata": {},
          "execution_count": 52
        },
        {
          "output_type": "display_data",
          "data": {
            "text/plain": [
              "<Figure size 432x288 with 1 Axes>"
            ],
            "image/png": "[encoded data removed]"
          },
          "metadata": {
            "needs_background": "light"
          }
        }
      ]
    },
    {
      "cell_type": "code",
      "source": [
        "test_df['Class'].value_counts().plot.bar()"
      ],
      "metadata": {
        "id": "qRssuOWMGb0b",
        "colab": {
          "base_uri": "https://localhost:8080/",
          "height": 284
        },
        "outputId": "ef09a82d-fbb7-4987-d883-128df4cdd82a"
      },
      "execution_count": 53,
      "outputs": [
        {
          "output_type": "execute_result",
          "data": {
            "text/plain": [
              "<Axes: >"
            ]
          },
          "metadata": {},
          "execution_count": 53
        },
        {
          "output_type": "display_data",
          "data": {
            "text/plain": [
              "<Figure size 432x288 with 1 Axes>"
            ],
            "image/png": "[encoded data removed]"
          },
          "metadata": {
            "needs_background": "light"
          }
        }
      ]
    },
    {
      "cell_type": "code",
      "source": [
        "# PREP_DATA_PATH = os.path.join(os.getcwd(), \"Distracted Driver Dataset\",\"Camera 1 - Prep\")\n",
        "# if os.path.exists(PREP_DATA_PATH):\n",
        "#   shutil.rmtree(PREP_DATA_PATH)\n",
        "# shutil.copytree(DATA_PATH, PREP_DATA_PATH)"
      ],
      "metadata": {
        "id": "RkADIYpgGUEr"
      },
      "execution_count": 54,
      "outputs": []
    },
    {
      "cell_type": "code",
      "source": [
        "# def duplicateImg(file):\n",
        "#   filepath = os.path.join(cls_path, file)\n",
        "#   new_filepath = os.path.join(cls_path, \"new\" + file)\n",
        "#   shutil.copy(filepath, new_filepath)\n",
        "  \n",
        "# PREP_TRAIN_PATH = os.path.join(PREP_DATA_PATH, \"train\")\n",
        "# PREP_TEST_PATH = os.path.join(PREP_DATA_PATH, \"test\")\n",
        "# modify_cls = [ \"c2\", \"c3\", \"c4\", \"c5\", \"c6\" , \"c7\", \"c8\"]\n",
        "# for cls in modify_cls:\n",
        "#   cls_path = os.path.join(PREP_TRAIN_PATH, cls)\n",
        "#   for file in os.listdir(cls_path): \n",
        "#     if (cls != \"c2\" or cls != \"c4\"):\n",
        "#       duplicate = secrets.randbelow(10)\n",
        "#       if duplicate < 8:\n",
        "#         duplicateImg(file)\n",
        "#     else:\n",
        "#       duplicate = secrets.randbelow(4)\n",
        "#       if duplicate < 2:\n",
        "#         duplicateImg(file)"
      ],
      "metadata": {
        "id": "gFWFPezKGcn7"
      },
      "execution_count": 55,
      "outputs": []
    },
    {
      "cell_type": "code",
      "source": [
        "# PREP_TRAIN_PATH = os.path.join(PREP_DATA_PATH, \"train\")\n",
        "# PREP_TEST_PATH = os.path.join(PREP_DATA_PATH, \"test\")\n",
        "# def dropImg(file):\n",
        "#   filepath = os.path.join(cls0_path, file)\n",
        "#   os.remove(filepath)\n",
        "# cls0_path = os.path.join(PREP_TRAIN_PATH, 'c0')\n",
        "# for file in os.listdir(cls0_path): \n",
        "#   duplicate = secrets.randbelow(2)\n",
        "#   if duplicate < 1:\n",
        "#     dropImg(file)"
      ],
      "metadata": {
        "id": "sxyICkeKGgjP"
      },
      "execution_count": 56,
      "outputs": []
    },
    {
      "cell_type": "code",
      "source": [
        "# prep_train_df = create_df(PREP_TRAIN_PATH)\n",
        "# prep_test_df = create_df(PREP_TEST_PATH)"
      ],
      "metadata": {
        "id": "1sIbD8KSGhr5"
      },
      "execution_count": 57,
      "outputs": []
    },
    {
      "cell_type": "code",
      "source": [
        "# prep_train_df['Class'].value_counts().plot.bar()"
      ],
      "metadata": {
        "id": "6hjbHmcRGi-R"
      },
      "execution_count": 58,
      "outputs": []
    },
    {
      "cell_type": "code",
      "source": [
        "# prep_test_df['Class'].value_counts().plot.bar()"
      ],
      "metadata": {
        "id": "oaxaT4QWGkf0"
      },
      "execution_count": 59,
      "outputs": []
    },
    {
      "cell_type": "code",
      "source": [
        "gen_per_image = 1\n",
        "gen_per_class = 200\n",
        "rotation_range = 5\n",
        "width_shift_range = 0.02\n",
        "height_shift_range = 0.02\n",
        "shear_range = 0.01\n",
        "zoom_range = 0.05\n",
        "horizontal_flip = False\n",
        "fill_mode = \"nearest\""
      ],
      "metadata": {
        "id": "5MXI42XJGnB3"
      },
      "execution_count": 60,
      "outputs": []
    },
    {
      "cell_type": "markdown",
      "source": [
        "The preprocess_input function resize the image to 299x299 pixels, which was chosen base on the architecture of the InceptionV3 models, so we do not need to resize it anymore"
      ],
      "metadata": {
        "id": "akM9E5EdJEVv"
      }
    },
    {
      "cell_type": "code",
      "source": [
        "# for inc\n",
        "datagen = ImageDataGenerator(\n",
        "        rescale = 1./255,\n",
        "        rotation_range = rotation_range,\n",
        "        width_shift_range = width_shift_range,\n",
        "        height_shift_range = height_shift_range,\n",
        "        shear_range = shear_range,\n",
        "        zoom_range = zoom_range,\n",
        "        horizontal_flip = horizontal_flip,\n",
        "        fill_mode = fill_mode,\n",
        "        validation_split = 0.2,\n",
        "        preprocessing_function = preprocess_input)\n",
        "\n",
        "unseen_datagen = ImageDataGenerator(\n",
        "        rescale = 1./255,\n",
        ")\n",
        "\n",
        "train_data = datagen.flow_from_directory(TRAIN_PATH,\n",
        "                                        target_size=(IMAGE_SIZE,IMAGE_SIZE),\n",
        "                                        batch_size=BATCH_SIZE,\n",
        "                                        shuffle=True,\n",
        "                                        class_mode='categorical')\n",
        "\n",
        "valid_data = datagen.flow_from_directory(TEST_PATH,\n",
        "                                        target_size=(IMAGE_SIZE,IMAGE_SIZE),\n",
        "                                        batch_size=BATCH_SIZE,\n",
        "                                        shuffle=True)\n",
        "unseen_data = unseen_datagen.flow_from_directory(UNSEEN_PATH,\n",
        "                                        target_size=(IMAGE_SIZE,IMAGE_SIZE),\n",
        "                                        batch_size=BATCH_SIZE,\n",
        "                                        shuffle=False)"
      ],
      "metadata": {
        "id": "ppngvL7HGtFe",
        "colab": {
          "base_uri": "https://localhost:8080/"
        },
        "outputId": "908efe3b-d9fa-42ed-d9e5-6ebb23f6fb48"
      },
      "execution_count": 61,
      "outputs": [
        {
          "output_type": "stream",
          "name": "stdout",
          "text": [
            "Found 10225 images belonging to 8 classes.\n",
            "Found 3414 images belonging to 8 classes.\n",
            "Found 839 images belonging to 8 classes.\n"
          ]
        }
      ]
    },
    {
      "cell_type": "code",
      "source": [
        "classes = [i for i in range(8)]\n",
        "print(classes)\n",
        "class_weights = compute_class_weight(class_weight='balanced', classes=classes, y=train_data.classes)\n",
        "class_weights = dict(enumerate(class_weights.flatten(), 0))\n",
        "print(class_weights)"
      ],
      "metadata": {
        "id": "d1in_X_gLb4R",
        "colab": {
          "base_uri": "https://localhost:8080/"
        },
        "outputId": "22938dda-6a8b-4df8-d33a-0082caaca56b"
      },
      "execution_count": 62,
      "outputs": [
        {
          "output_type": "stream",
          "name": "stdout",
          "text": [
            "[0, 1, 2, 3, 4, 5, 6, 7]\n",
            "{0: 0.5997770999530737, 1: 0.6390625, 2: 0.7081024930747922, 3: 1.615834386852086, 4: 1.6773293963254594, 5: 1.7605027548209367, 6: 1.7678077455048409, 7: 0.9931041181041181}\n"
          ]
        }
      ]
    },
    {
      "cell_type": "code",
      "source": [
        "base_model_inc = InceptionV3(weights='imagenet', include_top=False, input_shape=(IMAGE_SIZE, IMAGE_SIZE, 3))\n",
        "\n",
        "for layer in base_model_inc.layers:\n",
        "    layer.trainable = False"
      ],
      "metadata": {
        "id": "S1yDU4GwGvNW"
      },
      "execution_count": 63,
      "outputs": []
    },
    {
      "cell_type": "code",
      "source": [
        "top_models_inc = Sequential()\n",
        "top_models_inc.add(GlobalAveragePooling2D(input_shape=base_model_inc.output_shape[1:]))\n",
        "top_models_inc.add(Dense(256, activation='relu'))\n",
        "top_models_inc.add(Dropout(0.5))\n",
        "top_models_inc.add(Dense(8, activation='softmax', kernel_initializer='glorot_normal'))\n",
        "top_models_inc = Model(inputs = base_model_inc.input, outputs = top_models_inc(base_model_inc.output))\n",
        "\n",
        "top_models_inc.summary()\n"
      ],
      "metadata": {
        "id": "g6mhv0v1GxG2",
        "colab": {
          "base_uri": "https://localhost:8080/"
        },
        "outputId": "d7da4f16-f7ee-4f78-cfcb-af6ce02e6d94"
      },
      "execution_count": 64,
      "outputs": [
        {
          "output_type": "stream",
          "name": "stdout",
          "text": [
            "Model: \"model_1\"\n",
            "__________________________________________________________________________________________________\n",
            " Layer (type)                   Output Shape         Param #     Connected to                     \n",
            "==================================================================================================\n",
            " input_2 (InputLayer)           [(None, 299, 299, 3  0           []                               \n",
            "                                )]                                                                \n",
            "                                                                                                  \n",
            " conv2d_94 (Conv2D)             (None, 149, 149, 32  864         ['input_2[0][0]']                \n",
            "                                )                                                                 \n",
            "                                                                                                  \n",
            " batch_normalization_94 (BatchN  (None, 149, 149, 32  96         ['conv2d_94[0][0]']              \n",
            " ormalization)                  )                                                                 \n",
            "                                                                                                  \n",
            " activation_94 (Activation)     (None, 149, 149, 32  0           ['batch_normalization_94[0][0]'] \n",
            "                                )                                                                 \n",
            "                                                                                                  \n",
            " conv2d_95 (Conv2D)             (None, 147, 147, 32  9216        ['activation_94[0][0]']          \n",
            "                                )                                                                 \n",
            "                                                                                                  \n",
            " batch_normalization_95 (BatchN  (None, 147, 147, 32  96         ['conv2d_95[0][0]']              \n",
            " ormalization)                  )                                                                 \n",
            "                                                                                                  \n",
            " activation_95 (Activation)     (None, 147, 147, 32  0           ['batch_normalization_95[0][0]'] \n",
            "                                )                                                                 \n",
            "                                                                                                  \n",
            " conv2d_96 (Conv2D)             (None, 147, 147, 64  18432       ['activation_95[0][0]']          \n",
            "                                )                                                                 \n",
            "                                                                                                  \n",
            " batch_normalization_96 (BatchN  (None, 147, 147, 64  192        ['conv2d_96[0][0]']              \n",
            " ormalization)                  )                                                                 \n",
            "                                                                                                  \n",
            " activation_96 (Activation)     (None, 147, 147, 64  0           ['batch_normalization_96[0][0]'] \n",
            "                                )                                                                 \n",
            "                                                                                                  \n",
            " max_pooling2d_4 (MaxPooling2D)  (None, 73, 73, 64)  0           ['activation_96[0][0]']          \n",
            "                                                                                                  \n",
            " conv2d_97 (Conv2D)             (None, 73, 73, 80)   5120        ['max_pooling2d_4[0][0]']        \n",
            "                                                                                                  \n",
            " batch_normalization_97 (BatchN  (None, 73, 73, 80)  240         ['conv2d_97[0][0]']              \n",
            " ormalization)                                                                                    \n",
            "                                                                                                  \n",
            " activation_97 (Activation)     (None, 73, 73, 80)   0           ['batch_normalization_97[0][0]'] \n",
            "                                                                                                  \n",
            " conv2d_98 (Conv2D)             (None, 71, 71, 192)  138240      ['activation_97[0][0]']          \n",
            "                                                                                                  \n",
            " batch_normalization_98 (BatchN  (None, 71, 71, 192)  576        ['conv2d_98[0][0]']              \n",
            " ormalization)                                                                                    \n",
            "                                                                                                  \n",
            " activation_98 (Activation)     (None, 71, 71, 192)  0           ['batch_normalization_98[0][0]'] \n",
            "                                                                                                  \n",
            " max_pooling2d_5 (MaxPooling2D)  (None, 35, 35, 192)  0          ['activation_98[0][0]']          \n",
            "                                                                                                  \n",
            " conv2d_102 (Conv2D)            (None, 35, 35, 64)   12288       ['max_pooling2d_5[0][0]']        \n",
            "                                                                                                  \n",
            " batch_normalization_102 (Batch  (None, 35, 35, 64)  192         ['conv2d_102[0][0]']             \n",
            " Normalization)                                                                                   \n",
            "                                                                                                  \n",
            " activation_102 (Activation)    (None, 35, 35, 64)   0           ['batch_normalization_102[0][0]']\n",
            "                                                                                                  \n",
            " conv2d_100 (Conv2D)            (None, 35, 35, 48)   9216        ['max_pooling2d_5[0][0]']        \n",
            "                                                                                                  \n",
            " conv2d_103 (Conv2D)            (None, 35, 35, 96)   55296       ['activation_102[0][0]']         \n",
            "                                                                                                  \n",
            " batch_normalization_100 (Batch  (None, 35, 35, 48)  144         ['conv2d_100[0][0]']             \n",
            " Normalization)                                                                                   \n",
            "                                                                                                  \n",
            " batch_normalization_103 (Batch  (None, 35, 35, 96)  288         ['conv2d_103[0][0]']             \n",
            " Normalization)                                                                                   \n",
            "                                                                                                  \n",
            " activation_100 (Activation)    (None, 35, 35, 48)   0           ['batch_normalization_100[0][0]']\n",
            "                                                                                                  \n",
            " activation_103 (Activation)    (None, 35, 35, 96)   0           ['batch_normalization_103[0][0]']\n",
            "                                                                                                  \n",
            " average_pooling2d_9 (AveragePo  (None, 35, 35, 192)  0          ['max_pooling2d_5[0][0]']        \n",
            " oling2D)                                                                                         \n",
            "                                                                                                  \n",
            " conv2d_99 (Conv2D)             (None, 35, 35, 64)   12288       ['max_pooling2d_5[0][0]']        \n",
            "                                                                                                  \n",
            " conv2d_101 (Conv2D)            (None, 35, 35, 64)   76800       ['activation_100[0][0]']         \n",
            "                                                                                                  \n",
            " conv2d_104 (Conv2D)            (None, 35, 35, 96)   82944       ['activation_103[0][0]']         \n",
            "                                                                                                  \n",
            " conv2d_105 (Conv2D)            (None, 35, 35, 32)   6144        ['average_pooling2d_9[0][0]']    \n",
            "                                                                                                  \n",
            " batch_normalization_99 (BatchN  (None, 35, 35, 64)  192         ['conv2d_99[0][0]']              \n",
            " ormalization)                                                                                    \n",
            "                                                                                                  \n",
            " batch_normalization_101 (Batch  (None, 35, 35, 64)  192         ['conv2d_101[0][0]']             \n",
            " Normalization)                                                                                   \n",
            "                                                                                                  \n",
            " batch_normalization_104 (Batch  (None, 35, 35, 96)  288         ['conv2d_104[0][0]']             \n",
            " Normalization)                                                                                   \n",
            "                                                                                                  \n",
            " batch_normalization_105 (Batch  (None, 35, 35, 32)  96          ['conv2d_105[0][0]']             \n",
            " Normalization)                                                                                   \n",
            "                                                                                                  \n",
            " activation_99 (Activation)     (None, 35, 35, 64)   0           ['batch_normalization_99[0][0]'] \n",
            "                                                                                                  \n",
            " activation_101 (Activation)    (None, 35, 35, 64)   0           ['batch_normalization_101[0][0]']\n",
            "                                                                                                  \n",
            " activation_104 (Activation)    (None, 35, 35, 96)   0           ['batch_normalization_104[0][0]']\n",
            "                                                                                                  \n",
            " activation_105 (Activation)    (None, 35, 35, 32)   0           ['batch_normalization_105[0][0]']\n",
            "                                                                                                  \n",
            " mixed0 (Concatenate)           (None, 35, 35, 256)  0           ['activation_99[0][0]',          \n",
            "                                                                  'activation_101[0][0]',         \n",
            "                                                                  'activation_104[0][0]',         \n",
            "                                                                  'activation_105[0][0]']         \n",
            "                                                                                                  \n",
            " conv2d_109 (Conv2D)            (None, 35, 35, 64)   16384       ['mixed0[0][0]']                 \n",
            "                                                                                                  \n",
            " batch_normalization_109 (Batch  (None, 35, 35, 64)  192         ['conv2d_109[0][0]']             \n",
            " Normalization)                                                                                   \n",
            "                                                                                                  \n",
            " activation_109 (Activation)    (None, 35, 35, 64)   0           ['batch_normalization_109[0][0]']\n",
            "                                                                                                  \n",
            " conv2d_107 (Conv2D)            (None, 35, 35, 48)   12288       ['mixed0[0][0]']                 \n",
            "                                                                                                  \n",
            " conv2d_110 (Conv2D)            (None, 35, 35, 96)   55296       ['activation_109[0][0]']         \n",
            "                                                                                                  \n",
            " batch_normalization_107 (Batch  (None, 35, 35, 48)  144         ['conv2d_107[0][0]']             \n",
            " Normalization)                                                                                   \n",
            "                                                                                                  \n",
            " batch_normalization_110 (Batch  (None, 35, 35, 96)  288         ['conv2d_110[0][0]']             \n",
            " Normalization)                                                                                   \n",
            "                                                                                                  \n",
            " activation_107 (Activation)    (None, 35, 35, 48)   0           ['batch_normalization_107[0][0]']\n",
            "                                                                                                  \n",
            " activation_110 (Activation)    (None, 35, 35, 96)   0           ['batch_normalization_110[0][0]']\n",
            "                                                                                                  \n",
            " average_pooling2d_10 (AverageP  (None, 35, 35, 256)  0          ['mixed0[0][0]']                 \n",
            " ooling2D)                                                                                        \n",
            "                                                                                                  \n",
            " conv2d_106 (Conv2D)            (None, 35, 35, 64)   16384       ['mixed0[0][0]']                 \n",
            "                                                                                                  \n",
            " conv2d_108 (Conv2D)            (None, 35, 35, 64)   76800       ['activation_107[0][0]']         \n",
            "                                                                                                  \n",
            " conv2d_111 (Conv2D)            (None, 35, 35, 96)   82944       ['activation_110[0][0]']         \n",
            "                                                                                                  \n",
            " conv2d_112 (Conv2D)            (None, 35, 35, 64)   16384       ['average_pooling2d_10[0][0]']   \n",
            "                                                                                                  \n",
            " batch_normalization_106 (Batch  (None, 35, 35, 64)  192         ['conv2d_106[0][0]']             \n",
            " Normalization)                                                                                   \n",
            "                                                                                                  \n",
            " batch_normalization_108 (Batch  (None, 35, 35, 64)  192         ['conv2d_108[0][0]']             \n",
            " Normalization)                                                                                   \n",
            "                                                                                                  \n",
            " batch_normalization_111 (Batch  (None, 35, 35, 96)  288         ['conv2d_111[0][0]']             \n",
            " Normalization)                                                                                   \n",
            "                                                                                                  \n",
            " batch_normalization_112 (Batch  (None, 35, 35, 64)  192         ['conv2d_112[0][0]']             \n",
            " Normalization)                                                                                   \n",
            "                                                                                                  \n",
            " activation_106 (Activation)    (None, 35, 35, 64)   0           ['batch_normalization_106[0][0]']\n",
            "                                                                                                  \n",
            " activation_108 (Activation)    (None, 35, 35, 64)   0           ['batch_normalization_108[0][0]']\n",
            "                                                                                                  \n",
            " activation_111 (Activation)    (None, 35, 35, 96)   0           ['batch_normalization_111[0][0]']\n",
            "                                                                                                  \n",
            " activation_112 (Activation)    (None, 35, 35, 64)   0           ['batch_normalization_112[0][0]']\n",
            "                                                                                                  \n",
            " mixed1 (Concatenate)           (None, 35, 35, 288)  0           ['activation_106[0][0]',         \n",
            "                                                                  'activation_108[0][0]',         \n",
            "                                                                  'activation_111[0][0]',         \n",
            "                                                                  'activation_112[0][0]']         \n",
            "                                                                                                  \n",
            " conv2d_116 (Conv2D)            (None, 35, 35, 64)   18432       ['mixed1[0][0]']                 \n",
            "                                                                                                  \n",
            " batch_normalization_116 (Batch  (None, 35, 35, 64)  192         ['conv2d_116[0][0]']             \n",
            " Normalization)                                                                                   \n",
            "                                                                                                  \n",
            " activation_116 (Activation)    (None, 35, 35, 64)   0           ['batch_normalization_116[0][0]']\n",
            "                                                                                                  \n",
            " conv2d_114 (Conv2D)            (None, 35, 35, 48)   13824       ['mixed1[0][0]']                 \n",
            "                                                                                                  \n",
            " conv2d_117 (Conv2D)            (None, 35, 35, 96)   55296       ['activation_116[0][0]']         \n",
            "                                                                                                  \n",
            " batch_normalization_114 (Batch  (None, 35, 35, 48)  144         ['conv2d_114[0][0]']             \n",
            " Normalization)                                                                                   \n",
            "                                                                                                  \n",
            " batch_normalization_117 (Batch  (None, 35, 35, 96)  288         ['conv2d_117[0][0]']             \n",
            " Normalization)                                                                                   \n",
            "                                                                                                  \n",
            " activation_114 (Activation)    (None, 35, 35, 48)   0           ['batch_normalization_114[0][0]']\n",
            "                                                                                                  \n",
            " activation_117 (Activation)    (None, 35, 35, 96)   0           ['batch_normalization_117[0][0]']\n",
            "                                                                                                  \n",
            " average_pooling2d_11 (AverageP  (None, 35, 35, 288)  0          ['mixed1[0][0]']                 \n",
            " ooling2D)                                                                                        \n",
            "                                                                                                  \n",
            " conv2d_113 (Conv2D)            (None, 35, 35, 64)   18432       ['mixed1[0][0]']                 \n",
            "                                                                                                  \n",
            " conv2d_115 (Conv2D)            (None, 35, 35, 64)   76800       ['activation_114[0][0]']         \n",
            "                                                                                                  \n",
            " conv2d_118 (Conv2D)            (None, 35, 35, 96)   82944       ['activation_117[0][0]']         \n",
            "                                                                                                  \n",
            " conv2d_119 (Conv2D)            (None, 35, 35, 64)   18432       ['average_pooling2d_11[0][0]']   \n",
            "                                                                                                  \n",
            " batch_normalization_113 (Batch  (None, 35, 35, 64)  192         ['conv2d_113[0][0]']             \n",
            " Normalization)                                                                                   \n",
            "                                                                                                  \n",
            " batch_normalization_115 (Batch  (None, 35, 35, 64)  192         ['conv2d_115[0][0]']             \n",
            " Normalization)                                                                                   \n",
            "                                                                                                  \n",
            " batch_normalization_118 (Batch  (None, 35, 35, 96)  288         ['conv2d_118[0][0]']             \n",
            " Normalization)                                                                                   \n",
            "                                                                                                  \n",
            " batch_normalization_119 (Batch  (None, 35, 35, 64)  192         ['conv2d_119[0][0]']             \n",
            " Normalization)                                                                                   \n",
            "                                                                                                  \n",
            " activation_113 (Activation)    (None, 35, 35, 64)   0           ['batch_normalization_113[0][0]']\n",
            "                                                                                                  \n",
            " activation_115 (Activation)    (None, 35, 35, 64)   0           ['batch_normalization_115[0][0]']\n",
            "                                                                                                  \n",
            " activation_118 (Activation)    (None, 35, 35, 96)   0           ['batch_normalization_118[0][0]']\n",
            "                                                                                                  \n",
            " activation_119 (Activation)    (None, 35, 35, 64)   0           ['batch_normalization_119[0][0]']\n",
            "                                                                                                  \n",
            " mixed2 (Concatenate)           (None, 35, 35, 288)  0           ['activation_113[0][0]',         \n",
            "                                                                  'activation_115[0][0]',         \n",
            "                                                                  'activation_118[0][0]',         \n",
            "                                                                  'activation_119[0][0]']         \n",
            "                                                                                                  \n",
            " conv2d_121 (Conv2D)            (None, 35, 35, 64)   18432       ['mixed2[0][0]']                 \n",
            "                                                                                                  \n",
            " batch_normalization_121 (Batch  (None, 35, 35, 64)  192         ['conv2d_121[0][0]']             \n",
            " Normalization)                                                                                   \n",
            "                                                                                                  \n",
            " activation_121 (Activation)    (None, 35, 35, 64)   0           ['batch_normalization_121[0][0]']\n",
            "                                                                                                  \n",
            " conv2d_122 (Conv2D)            (None, 35, 35, 96)   55296       ['activation_121[0][0]']         \n",
            "                                                                                                  \n",
            " batch_normalization_122 (Batch  (None, 35, 35, 96)  288         ['conv2d_122[0][0]']             \n",
            " Normalization)                                                                                   \n",
            "                                                                                                  \n",
            " activation_122 (Activation)    (None, 35, 35, 96)   0           ['batch_normalization_122[0][0]']\n",
            "                                                                                                  \n",
            " conv2d_120 (Conv2D)            (None, 17, 17, 384)  995328      ['mixed2[0][0]']                 \n",
            "                                                                                                  \n",
            " conv2d_123 (Conv2D)            (None, 17, 17, 96)   82944       ['activation_122[0][0]']         \n",
            "                                                                                                  \n",
            " batch_normalization_120 (Batch  (None, 17, 17, 384)  1152       ['conv2d_120[0][0]']             \n",
            " Normalization)                                                                                   \n",
            "                                                                                                  \n",
            " batch_normalization_123 (Batch  (None, 17, 17, 96)  288         ['conv2d_123[0][0]']             \n",
            " Normalization)                                                                                   \n",
            "                                                                                                  \n",
            " activation_120 (Activation)    (None, 17, 17, 384)  0           ['batch_normalization_120[0][0]']\n",
            "                                                                                                  \n",
            " activation_123 (Activation)    (None, 17, 17, 96)   0           ['batch_normalization_123[0][0]']\n",
            "                                                                                                  \n",
            " max_pooling2d_6 (MaxPooling2D)  (None, 17, 17, 288)  0          ['mixed2[0][0]']                 \n",
            "                                                                                                  \n",
            " mixed3 (Concatenate)           (None, 17, 17, 768)  0           ['activation_120[0][0]',         \n",
            "                                                                  'activation_123[0][0]',         \n",
            "                                                                  'max_pooling2d_6[0][0]']        \n",
            "                                                                                                  \n",
            " conv2d_128 (Conv2D)            (None, 17, 17, 128)  98304       ['mixed3[0][0]']                 \n",
            "                                                                                                  \n",
            " batch_normalization_128 (Batch  (None, 17, 17, 128)  384        ['conv2d_128[0][0]']             \n",
            " Normalization)                                                                                   \n",
            "                                                                                                  \n",
            " activation_128 (Activation)    (None, 17, 17, 128)  0           ['batch_normalization_128[0][0]']\n",
            "                                                                                                  \n",
            " conv2d_129 (Conv2D)            (None, 17, 17, 128)  114688      ['activation_128[0][0]']         \n",
            "                                                                                                  \n",
            " batch_normalization_129 (Batch  (None, 17, 17, 128)  384        ['conv2d_129[0][0]']             \n",
            " Normalization)                                                                                   \n",
            "                                                                                                  \n",
            " activation_129 (Activation)    (None, 17, 17, 128)  0           ['batch_normalization_129[0][0]']\n",
            "                                                                                                  \n",
            " conv2d_125 (Conv2D)            (None, 17, 17, 128)  98304       ['mixed3[0][0]']                 \n",
            "                                                                                                  \n",
            " conv2d_130 (Conv2D)            (None, 17, 17, 128)  114688      ['activation_129[0][0]']         \n",
            "                                                                                                  \n",
            " batch_normalization_125 (Batch  (None, 17, 17, 128)  384        ['conv2d_125[0][0]']             \n",
            " Normalization)                                                                                   \n",
            "                                                                                                  \n",
            " batch_normalization_130 (Batch  (None, 17, 17, 128)  384        ['conv2d_130[0][0]']             \n",
            " Normalization)                                                                                   \n",
            "                                                                                                  \n",
            " activation_125 (Activation)    (None, 17, 17, 128)  0           ['batch_normalization_125[0][0]']\n",
            "                                                                                                  \n",
            " activation_130 (Activation)    (None, 17, 17, 128)  0           ['batch_normalization_130[0][0]']\n",
            "                                                                                                  \n",
            " conv2d_126 (Conv2D)            (None, 17, 17, 128)  114688      ['activation_125[0][0]']         \n",
            "                                                                                                  \n",
            " conv2d_131 (Conv2D)            (None, 17, 17, 128)  114688      ['activation_130[0][0]']         \n",
            "                                                                                                  \n",
            " batch_normalization_126 (Batch  (None, 17, 17, 128)  384        ['conv2d_126[0][0]']             \n",
            " Normalization)                                                                                   \n",
            "                                                                                                  \n",
            " batch_normalization_131 (Batch  (None, 17, 17, 128)  384        ['conv2d_131[0][0]']             \n",
            " Normalization)                                                                                   \n",
            "                                                                                                  \n",
            " activation_126 (Activation)    (None, 17, 17, 128)  0           ['batch_normalization_126[0][0]']\n",
            "                                                                                                  \n",
            " activation_131 (Activation)    (None, 17, 17, 128)  0           ['batch_normalization_131[0][0]']\n",
            "                                                                                                  \n",
            " average_pooling2d_12 (AverageP  (None, 17, 17, 768)  0          ['mixed3[0][0]']                 \n",
            " ooling2D)                                                                                        \n",
            "                                                                                                  \n",
            " conv2d_124 (Conv2D)            (None, 17, 17, 192)  147456      ['mixed3[0][0]']                 \n",
            "                                                                                                  \n",
            " conv2d_127 (Conv2D)            (None, 17, 17, 192)  172032      ['activation_126[0][0]']         \n",
            "                                                                                                  \n",
            " conv2d_132 (Conv2D)            (None, 17, 17, 192)  172032      ['activation_131[0][0]']         \n",
            "                                                                                                  \n",
            " conv2d_133 (Conv2D)            (None, 17, 17, 192)  147456      ['average_pooling2d_12[0][0]']   \n",
            "                                                                                                  \n",
            " batch_normalization_124 (Batch  (None, 17, 17, 192)  576        ['conv2d_124[0][0]']             \n",
            " Normalization)                                                                                   \n",
            "                                                                                                  \n",
            " batch_normalization_127 (Batch  (None, 17, 17, 192)  576        ['conv2d_127[0][0]']             \n",
            " Normalization)                                                                                   \n",
            "                                                                                                  \n",
            " batch_normalization_132 (Batch  (None, 17, 17, 192)  576        ['conv2d_132[0][0]']             \n",
            " Normalization)                                                                                   \n",
            "                                                                                                  \n",
            " batch_normalization_133 (Batch  (None, 17, 17, 192)  576        ['conv2d_133[0][0]']             \n",
            " Normalization)                                                                                   \n",
            "                                                                                                  \n",
            " activation_124 (Activation)    (None, 17, 17, 192)  0           ['batch_normalization_124[0][0]']\n",
            "                                                                                                  \n",
            " activation_127 (Activation)    (None, 17, 17, 192)  0           ['batch_normalization_127[0][0]']\n",
            "                                                                                                  \n",
            " activation_132 (Activation)    (None, 17, 17, 192)  0           ['batch_normalization_132[0][0]']\n",
            "                                                                                                  \n",
            " activation_133 (Activation)    (None, 17, 17, 192)  0           ['batch_normalization_133[0][0]']\n",
            "                                                                                                  \n",
            " mixed4 (Concatenate)           (None, 17, 17, 768)  0           ['activation_124[0][0]',         \n",
            "                                                                  'activation_127[0][0]',         \n",
            "                                                                  'activation_132[0][0]',         \n",
            "                                                                  'activation_133[0][0]']         \n",
            "                                                                                                  \n",
            " conv2d_138 (Conv2D)            (None, 17, 17, 160)  122880      ['mixed4[0][0]']                 \n",
            "                                                                                                  \n",
            " batch_normalization_138 (Batch  (None, 17, 17, 160)  480        ['conv2d_138[0][0]']             \n",
            " Normalization)                                                                                   \n",
            "                                                                                                  \n",
            " activation_138 (Activation)    (None, 17, 17, 160)  0           ['batch_normalization_138[0][0]']\n",
            "                                                                                                  \n",
            " conv2d_139 (Conv2D)            (None, 17, 17, 160)  179200      ['activation_138[0][0]']         \n",
            "                                                                                                  \n",
            " batch_normalization_139 (Batch  (None, 17, 17, 160)  480        ['conv2d_139[0][0]']             \n",
            " Normalization)                                                                                   \n",
            "                                                                                                  \n",
            " activation_139 (Activation)    (None, 17, 17, 160)  0           ['batch_normalization_139[0][0]']\n",
            "                                                                                                  \n",
            " conv2d_135 (Conv2D)            (None, 17, 17, 160)  122880      ['mixed4[0][0]']                 \n",
            "                                                                                                  \n",
            " conv2d_140 (Conv2D)            (None, 17, 17, 160)  179200      ['activation_139[0][0]']         \n",
            "                                                                                                  \n",
            " batch_normalization_135 (Batch  (None, 17, 17, 160)  480        ['conv2d_135[0][0]']             \n",
            " Normalization)                                                                                   \n",
            "                                                                                                  \n",
            " batch_normalization_140 (Batch  (None, 17, 17, 160)  480        ['conv2d_140[0][0]']             \n",
            " Normalization)                                                                                   \n",
            "                                                                                                  \n",
            " activation_135 (Activation)    (None, 17, 17, 160)  0           ['batch_normalization_135[0][0]']\n",
            "                                                                                                  \n",
            " activation_140 (Activation)    (None, 17, 17, 160)  0           ['batch_normalization_140[0][0]']\n",
            "                                                                                                  \n",
            " conv2d_136 (Conv2D)            (None, 17, 17, 160)  179200      ['activation_135[0][0]']         \n",
            "                                                                                                  \n",
            " conv2d_141 (Conv2D)            (None, 17, 17, 160)  179200      ['activation_140[0][0]']         \n",
            "                                                                                                  \n",
            " batch_normalization_136 (Batch  (None, 17, 17, 160)  480        ['conv2d_136[0][0]']             \n",
            " Normalization)                                                                                   \n",
            "                                                                                                  \n",
            " batch_normalization_141 (Batch  (None, 17, 17, 160)  480        ['conv2d_141[0][0]']             \n",
            " Normalization)                                                                                   \n",
            "                                                                                                  \n",
            " activation_136 (Activation)    (None, 17, 17, 160)  0           ['batch_normalization_136[0][0]']\n",
            "                                                                                                  \n",
            " activation_141 (Activation)    (None, 17, 17, 160)  0           ['batch_normalization_141[0][0]']\n",
            "                                                                                                  \n",
            " average_pooling2d_13 (AverageP  (None, 17, 17, 768)  0          ['mixed4[0][0]']                 \n",
            " ooling2D)                                                                                        \n",
            "                                                                                                  \n",
            " conv2d_134 (Conv2D)            (None, 17, 17, 192)  147456      ['mixed4[0][0]']                 \n",
            "                                                                                                  \n",
            " conv2d_137 (Conv2D)            (None, 17, 17, 192)  215040      ['activation_136[0][0]']         \n",
            "                                                                                                  \n",
            " conv2d_142 (Conv2D)            (None, 17, 17, 192)  215040      ['activation_141[0][0]']         \n",
            "                                                                                                  \n",
            " conv2d_143 (Conv2D)            (None, 17, 17, 192)  147456      ['average_pooling2d_13[0][0]']   \n",
            "                                                                                                  \n",
            " batch_normalization_134 (Batch  (None, 17, 17, 192)  576        ['conv2d_134[0][0]']             \n",
            " Normalization)                                                                                   \n",
            "                                                                                                  \n",
            " batch_normalization_137 (Batch  (None, 17, 17, 192)  576        ['conv2d_137[0][0]']             \n",
            " Normalization)                                                                                   \n",
            "                                                                                                  \n",
            " batch_normalization_142 (Batch  (None, 17, 17, 192)  576        ['conv2d_142[0][0]']             \n",
            " Normalization)                                                                                   \n",
            "                                                                                                  \n",
            " batch_normalization_143 (Batch  (None, 17, 17, 192)  576        ['conv2d_143[0][0]']             \n",
            " Normalization)                                                                                   \n",
            "                                                                                                  \n",
            " activation_134 (Activation)    (None, 17, 17, 192)  0           ['batch_normalization_134[0][0]']\n",
            "                                                                                                  \n",
            " activation_137 (Activation)    (None, 17, 17, 192)  0           ['batch_normalization_137[0][0]']\n",
            "                                                                                                  \n",
            " activation_142 (Activation)    (None, 17, 17, 192)  0           ['batch_normalization_142[0][0]']\n",
            "                                                                                                  \n",
            " activation_143 (Activation)    (None, 17, 17, 192)  0           ['batch_normalization_143[0][0]']\n",
            "                                                                                                  \n",
            " mixed5 (Concatenate)           (None, 17, 17, 768)  0           ['activation_134[0][0]',         \n",
            "                                                                  'activation_137[0][0]',         \n",
            "                                                                  'activation_142[0][0]',         \n",
            "                                                                  'activation_143[0][0]']         \n",
            "                                                                                                  \n",
            " conv2d_148 (Conv2D)            (None, 17, 17, 160)  122880      ['mixed5[0][0]']                 \n",
            "                                                                                                  \n",
            " batch_normalization_148 (Batch  (None, 17, 17, 160)  480        ['conv2d_148[0][0]']             \n",
            " Normalization)                                                                                   \n",
            "                                                                                                  \n",
            " activation_148 (Activation)    (None, 17, 17, 160)  0           ['batch_normalization_148[0][0]']\n",
            "                                                                                                  \n",
            " conv2d_149 (Conv2D)            (None, 17, 17, 160)  179200      ['activation_148[0][0]']         \n",
            "                                                                                                  \n",
            " batch_normalization_149 (Batch  (None, 17, 17, 160)  480        ['conv2d_149[0][0]']             \n",
            " Normalization)                                                                                   \n",
            "                                                                                                  \n",
            " activation_149 (Activation)    (None, 17, 17, 160)  0           ['batch_normalization_149[0][0]']\n",
            "                                                                                                  \n",
            " conv2d_145 (Conv2D)            (None, 17, 17, 160)  122880      ['mixed5[0][0]']                 \n",
            "                                                                                                  \n",
            " conv2d_150 (Conv2D)            (None, 17, 17, 160)  179200      ['activation_149[0][0]']         \n",
            "                                                                                                  \n",
            " batch_normalization_145 (Batch  (None, 17, 17, 160)  480        ['conv2d_145[0][0]']             \n",
            " Normalization)                                                                                   \n",
            "                                                                                                  \n",
            " batch_normalization_150 (Batch  (None, 17, 17, 160)  480        ['conv2d_150[0][0]']             \n",
            " Normalization)                                                                                   \n",
            "                                                                                                  \n",
            " activation_145 (Activation)    (None, 17, 17, 160)  0           ['batch_normalization_145[0][0]']\n",
            "                                                                                                  \n",
            " activation_150 (Activation)    (None, 17, 17, 160)  0           ['batch_normalization_150[0][0]']\n",
            "                                                                                                  \n",
            " conv2d_146 (Conv2D)            (None, 17, 17, 160)  179200      ['activation_145[0][0]']         \n",
            "                                                                                                  \n",
            " conv2d_151 (Conv2D)            (None, 17, 17, 160)  179200      ['activation_150[0][0]']         \n",
            "                                                                                                  \n",
            " batch_normalization_146 (Batch  (None, 17, 17, 160)  480        ['conv2d_146[0][0]']             \n",
            " Normalization)                                                                                   \n",
            "                                                                                                  \n",
            " batch_normalization_151 (Batch  (None, 17, 17, 160)  480        ['conv2d_151[0][0]']             \n",
            " Normalization)                                                                                   \n",
            "                                                                                                  \n",
            " activation_146 (Activation)    (None, 17, 17, 160)  0           ['batch_normalization_146[0][0]']\n",
            "                                                                                                  \n",
            " activation_151 (Activation)    (None, 17, 17, 160)  0           ['batch_normalization_151[0][0]']\n",
            "                                                                                                  \n",
            " average_pooling2d_14 (AverageP  (None, 17, 17, 768)  0          ['mixed5[0][0]']                 \n",
            " ooling2D)                                                                                        \n",
            "                                                                                                  \n",
            " conv2d_144 (Conv2D)            (None, 17, 17, 192)  147456      ['mixed5[0][0]']                 \n",
            "                                                                                                  \n",
            " conv2d_147 (Conv2D)            (None, 17, 17, 192)  215040      ['activation_146[0][0]']         \n",
            "                                                                                                  \n",
            " conv2d_152 (Conv2D)            (None, 17, 17, 192)  215040      ['activation_151[0][0]']         \n",
            "                                                                                                  \n",
            " conv2d_153 (Conv2D)            (None, 17, 17, 192)  147456      ['average_pooling2d_14[0][0]']   \n",
            "                                                                                                  \n",
            " batch_normalization_144 (Batch  (None, 17, 17, 192)  576        ['conv2d_144[0][0]']             \n",
            " Normalization)                                                                                   \n",
            "                                                                                                  \n",
            " batch_normalization_147 (Batch  (None, 17, 17, 192)  576        ['conv2d_147[0][0]']             \n",
            " Normalization)                                                                                   \n",
            "                                                                                                  \n",
            " batch_normalization_152 (Batch  (None, 17, 17, 192)  576        ['conv2d_152[0][0]']             \n",
            " Normalization)                                                                                   \n",
            "                                                                                                  \n",
            " batch_normalization_153 (Batch  (None, 17, 17, 192)  576        ['conv2d_153[0][0]']             \n",
            " Normalization)                                                                                   \n",
            "                                                                                                  \n",
            " activation_144 (Activation)    (None, 17, 17, 192)  0           ['batch_normalization_144[0][0]']\n",
            "                                                                                                  \n",
            " activation_147 (Activation)    (None, 17, 17, 192)  0           ['batch_normalization_147[0][0]']\n",
            "                                                                                                  \n",
            " activation_152 (Activation)    (None, 17, 17, 192)  0           ['batch_normalization_152[0][0]']\n",
            "                                                                                                  \n",
            " activation_153 (Activation)    (None, 17, 17, 192)  0           ['batch_normalization_153[0][0]']\n",
            "                                                                                                  \n",
            " mixed6 (Concatenate)           (None, 17, 17, 768)  0           ['activation_144[0][0]',         \n",
            "                                                                  'activation_147[0][0]',         \n",
            "                                                                  'activation_152[0][0]',         \n",
            "                                                                  'activation_153[0][0]']         \n",
            "                                                                                                  \n",
            " conv2d_158 (Conv2D)            (None, 17, 17, 192)  147456      ['mixed6[0][0]']                 \n",
            "                                                                                                  \n",
            " batch_normalization_158 (Batch  (None, 17, 17, 192)  576        ['conv2d_158[0][0]']             \n",
            " Normalization)                                                                                   \n",
            "                                                                                                  \n",
            " activation_158 (Activation)    (None, 17, 17, 192)  0           ['batch_normalization_158[0][0]']\n",
            "                                                                                                  \n",
            " conv2d_159 (Conv2D)            (None, 17, 17, 192)  258048      ['activation_158[0][0]']         \n",
            "                                                                                                  \n",
            " batch_normalization_159 (Batch  (None, 17, 17, 192)  576        ['conv2d_159[0][0]']             \n",
            " Normalization)                                                                                   \n",
            "                                                                                                  \n",
            " activation_159 (Activation)    (None, 17, 17, 192)  0           ['batch_normalization_159[0][0]']\n",
            "                                                                                                  \n",
            " conv2d_155 (Conv2D)            (None, 17, 17, 192)  147456      ['mixed6[0][0]']                 \n",
            "                                                                                                  \n",
            " conv2d_160 (Conv2D)            (None, 17, 17, 192)  258048      ['activation_159[0][0]']         \n",
            "                                                                                                  \n",
            " batch_normalization_155 (Batch  (None, 17, 17, 192)  576        ['conv2d_155[0][0]']             \n",
            " Normalization)                                                                                   \n",
            "                                                                                                  \n",
            " batch_normalization_160 (Batch  (None, 17, 17, 192)  576        ['conv2d_160[0][0]']             \n",
            " Normalization)                                                                                   \n",
            "                                                                                                  \n",
            " activation_155 (Activation)    (None, 17, 17, 192)  0           ['batch_normalization_155[0][0]']\n",
            "                                                                                                  \n",
            " activation_160 (Activation)    (None, 17, 17, 192)  0           ['batch_normalization_160[0][0]']\n",
            "                                                                                                  \n",
            " conv2d_156 (Conv2D)            (None, 17, 17, 192)  258048      ['activation_155[0][0]']         \n",
            "                                                                                                  \n",
            " conv2d_161 (Conv2D)            (None, 17, 17, 192)  258048      ['activation_160[0][0]']         \n",
            "                                                                                                  \n",
            " batch_normalization_156 (Batch  (None, 17, 17, 192)  576        ['conv2d_156[0][0]']             \n",
            " Normalization)                                                                                   \n",
            "                                                                                                  \n",
            " batch_normalization_161 (Batch  (None, 17, 17, 192)  576        ['conv2d_161[0][0]']             \n",
            " Normalization)                                                                                   \n",
            "                                                                                                  \n",
            " activation_156 (Activation)    (None, 17, 17, 192)  0           ['batch_normalization_156[0][0]']\n",
            "                                                                                                  \n",
            " activation_161 (Activation)    (None, 17, 17, 192)  0           ['batch_normalization_161[0][0]']\n",
            "                                                                                                  \n",
            " average_pooling2d_15 (AverageP  (None, 17, 17, 768)  0          ['mixed6[0][0]']                 \n",
            " ooling2D)                                                                                        \n",
            "                                                                                                  \n",
            " conv2d_154 (Conv2D)            (None, 17, 17, 192)  147456      ['mixed6[0][0]']                 \n",
            "                                                                                                  \n",
            " conv2d_157 (Conv2D)            (None, 17, 17, 192)  258048      ['activation_156[0][0]']         \n",
            "                                                                                                  \n",
            " conv2d_162 (Conv2D)            (None, 17, 17, 192)  258048      ['activation_161[0][0]']         \n",
            "                                                                                                  \n",
            " conv2d_163 (Conv2D)            (None, 17, 17, 192)  147456      ['average_pooling2d_15[0][0]']   \n",
            "                                                                                                  \n",
            " batch_normalization_154 (Batch  (None, 17, 17, 192)  576        ['conv2d_154[0][0]']             \n",
            " Normalization)                                                                                   \n",
            "                                                                                                  \n",
            " batch_normalization_157 (Batch  (None, 17, 17, 192)  576        ['conv2d_157[0][0]']             \n",
            " Normalization)                                                                                   \n",
            "                                                                                                  \n",
            " batch_normalization_162 (Batch  (None, 17, 17, 192)  576        ['conv2d_162[0][0]']             \n",
            " Normalization)                                                                                   \n",
            "                                                                                                  \n",
            " batch_normalization_163 (Batch  (None, 17, 17, 192)  576        ['conv2d_163[0][0]']             \n",
            " Normalization)                                                                                   \n",
            "                                                                                                  \n",
            " activation_154 (Activation)    (None, 17, 17, 192)  0           ['batch_normalization_154[0][0]']\n",
            "                                                                                                  \n",
            " activation_157 (Activation)    (None, 17, 17, 192)  0           ['batch_normalization_157[0][0]']\n",
            "                                                                                                  \n",
            " activation_162 (Activation)    (None, 17, 17, 192)  0           ['batch_normalization_162[0][0]']\n",
            "                                                                                                  \n",
            " activation_163 (Activation)    (None, 17, 17, 192)  0           ['batch_normalization_163[0][0]']\n",
            "                                                                                                  \n",
            " mixed7 (Concatenate)           (None, 17, 17, 768)  0           ['activation_154[0][0]',         \n",
            "                                                                  'activation_157[0][0]',         \n",
            "                                                                  'activation_162[0][0]',         \n",
            "                                                                  'activation_163[0][0]']         \n",
            "                                                                                                  \n",
            " conv2d_166 (Conv2D)            (None, 17, 17, 192)  147456      ['mixed7[0][0]']                 \n",
            "                                                                                                  \n",
            " batch_normalization_166 (Batch  (None, 17, 17, 192)  576        ['conv2d_166[0][0]']             \n",
            " Normalization)                                                                                   \n",
            "                                                                                                  \n",
            " activation_166 (Activation)    (None, 17, 17, 192)  0           ['batch_normalization_166[0][0]']\n",
            "                                                                                                  \n",
            " conv2d_167 (Conv2D)            (None, 17, 17, 192)  258048      ['activation_166[0][0]']         \n",
            "                                                                                                  \n",
            " batch_normalization_167 (Batch  (None, 17, 17, 192)  576        ['conv2d_167[0][0]']             \n",
            " Normalization)                                                                                   \n",
            "                                                                                                  \n",
            " activation_167 (Activation)    (None, 17, 17, 192)  0           ['batch_normalization_167[0][0]']\n",
            "                                                                                                  \n",
            " conv2d_164 (Conv2D)            (None, 17, 17, 192)  147456      ['mixed7[0][0]']                 \n",
            "                                                                                                  \n",
            " conv2d_168 (Conv2D)            (None, 17, 17, 192)  258048      ['activation_167[0][0]']         \n",
            "                                                                                                  \n",
            " batch_normalization_164 (Batch  (None, 17, 17, 192)  576        ['conv2d_164[0][0]']             \n",
            " Normalization)                                                                                   \n",
            "                                                                                                  \n",
            " batch_normalization_168 (Batch  (None, 17, 17, 192)  576        ['conv2d_168[0][0]']             \n",
            " Normalization)                                                                                   \n",
            "                                                                                                  \n",
            " activation_164 (Activation)    (None, 17, 17, 192)  0           ['batch_normalization_164[0][0]']\n",
            "                                                                                                  \n",
            " activation_168 (Activation)    (None, 17, 17, 192)  0           ['batch_normalization_168[0][0]']\n",
            "                                                                                                  \n",
            " conv2d_165 (Conv2D)            (None, 8, 8, 320)    552960      ['activation_164[0][0]']         \n",
            "                                                                                                  \n",
            " conv2d_169 (Conv2D)            (None, 8, 8, 192)    331776      ['activation_168[0][0]']         \n",
            "                                                                                                  \n",
            " batch_normalization_165 (Batch  (None, 8, 8, 320)   960         ['conv2d_165[0][0]']             \n",
            " Normalization)                                                                                   \n",
            "                                                                                                  \n",
            " batch_normalization_169 (Batch  (None, 8, 8, 192)   576         ['conv2d_169[0][0]']             \n",
            " Normalization)                                                                                   \n",
            "                                                                                                  \n",
            " activation_165 (Activation)    (None, 8, 8, 320)    0           ['batch_normalization_165[0][0]']\n",
            "                                                                                                  \n",
            " activation_169 (Activation)    (None, 8, 8, 192)    0           ['batch_normalization_169[0][0]']\n",
            "                                                                                                  \n",
            " max_pooling2d_7 (MaxPooling2D)  (None, 8, 8, 768)   0           ['mixed7[0][0]']                 \n",
            "                                                                                                  \n",
            " mixed8 (Concatenate)           (None, 8, 8, 1280)   0           ['activation_165[0][0]',         \n",
            "                                                                  'activation_169[0][0]',         \n",
            "                                                                  'max_pooling2d_7[0][0]']        \n",
            "                                                                                                  \n",
            " conv2d_174 (Conv2D)            (None, 8, 8, 448)    573440      ['mixed8[0][0]']                 \n",
            "                                                                                                  \n",
            " batch_normalization_174 (Batch  (None, 8, 8, 448)   1344        ['conv2d_174[0][0]']             \n",
            " Normalization)                                                                                   \n",
            "                                                                                                  \n",
            " activation_174 (Activation)    (None, 8, 8, 448)    0           ['batch_normalization_174[0][0]']\n",
            "                                                                                                  \n",
            " conv2d_171 (Conv2D)            (None, 8, 8, 384)    491520      ['mixed8[0][0]']                 \n",
            "                                                                                                  \n",
            " conv2d_175 (Conv2D)            (None, 8, 8, 384)    1548288     ['activation_174[0][0]']         \n",
            "                                                                                                  \n",
            " batch_normalization_171 (Batch  (None, 8, 8, 384)   1152        ['conv2d_171[0][0]']             \n",
            " Normalization)                                                                                   \n",
            "                                                                                                  \n",
            " batch_normalization_175 (Batch  (None, 8, 8, 384)   1152        ['conv2d_175[0][0]']             \n",
            " Normalization)                                                                                   \n",
            "                                                                                                  \n",
            " activation_171 (Activation)    (None, 8, 8, 384)    0           ['batch_normalization_171[0][0]']\n",
            "                                                                                                  \n",
            " activation_175 (Activation)    (None, 8, 8, 384)    0           ['batch_normalization_175[0][0]']\n",
            "                                                                                                  \n",
            " conv2d_172 (Conv2D)            (None, 8, 8, 384)    442368      ['activation_171[0][0]']         \n",
            "                                                                                                  \n",
            " conv2d_173 (Conv2D)            (None, 8, 8, 384)    442368      ['activation_171[0][0]']         \n",
            "                                                                                                  \n",
            " conv2d_176 (Conv2D)            (None, 8, 8, 384)    442368      ['activation_175[0][0]']         \n",
            "                                                                                                  \n",
            " conv2d_177 (Conv2D)            (None, 8, 8, 384)    442368      ['activation_175[0][0]']         \n",
            "                                                                                                  \n",
            " average_pooling2d_16 (AverageP  (None, 8, 8, 1280)  0           ['mixed8[0][0]']                 \n",
            " ooling2D)                                                                                        \n",
            "                                                                                                  \n",
            " conv2d_170 (Conv2D)            (None, 8, 8, 320)    409600      ['mixed8[0][0]']                 \n",
            "                                                                                                  \n",
            " batch_normalization_172 (Batch  (None, 8, 8, 384)   1152        ['conv2d_172[0][0]']             \n",
            " Normalization)                                                                                   \n",
            "                                                                                                  \n",
            " batch_normalization_173 (Batch  (None, 8, 8, 384)   1152        ['conv2d_173[0][0]']             \n",
            " Normalization)                                                                                   \n",
            "                                                                                                  \n",
            " batch_normalization_176 (Batch  (None, 8, 8, 384)   1152        ['conv2d_176[0][0]']             \n",
            " Normalization)                                                                                   \n",
            "                                                                                                  \n",
            " batch_normalization_177 (Batch  (None, 8, 8, 384)   1152        ['conv2d_177[0][0]']             \n",
            " Normalization)                                                                                   \n",
            "                                                                                                  \n",
            " conv2d_178 (Conv2D)            (None, 8, 8, 192)    245760      ['average_pooling2d_16[0][0]']   \n",
            "                                                                                                  \n",
            " batch_normalization_170 (Batch  (None, 8, 8, 320)   960         ['conv2d_170[0][0]']             \n",
            " Normalization)                                                                                   \n",
            "                                                                                                  \n",
            " activation_172 (Activation)    (None, 8, 8, 384)    0           ['batch_normalization_172[0][0]']\n",
            "                                                                                                  \n",
            " activation_173 (Activation)    (None, 8, 8, 384)    0           ['batch_normalization_173[0][0]']\n",
            "                                                                                                  \n",
            " activation_176 (Activation)    (None, 8, 8, 384)    0           ['batch_normalization_176[0][0]']\n",
            "                                                                                                  \n",
            " activation_177 (Activation)    (None, 8, 8, 384)    0           ['batch_normalization_177[0][0]']\n",
            "                                                                                                  \n",
            " batch_normalization_178 (Batch  (None, 8, 8, 192)   576         ['conv2d_178[0][0]']             \n",
            " Normalization)                                                                                   \n",
            "                                                                                                  \n",
            " activation_170 (Activation)    (None, 8, 8, 320)    0           ['batch_normalization_170[0][0]']\n",
            "                                                                                                  \n",
            " mixed9_0 (Concatenate)         (None, 8, 8, 768)    0           ['activation_172[0][0]',         \n",
            "                                                                  'activation_173[0][0]']         \n",
            "                                                                                                  \n",
            " concatenate_2 (Concatenate)    (None, 8, 8, 768)    0           ['activation_176[0][0]',         \n",
            "                                                                  'activation_177[0][0]']         \n",
            "                                                                                                  \n",
            " activation_178 (Activation)    (None, 8, 8, 192)    0           ['batch_normalization_178[0][0]']\n",
            "                                                                                                  \n",
            " mixed9 (Concatenate)           (None, 8, 8, 2048)   0           ['activation_170[0][0]',         \n",
            "                                                                  'mixed9_0[0][0]',               \n",
            "                                                                  'concatenate_2[0][0]',          \n",
            "                                                                  'activation_178[0][0]']         \n",
            "                                                                                                  \n",
            " conv2d_183 (Conv2D)            (None, 8, 8, 448)    917504      ['mixed9[0][0]']                 \n",
            "                                                                                                  \n",
            " batch_normalization_183 (Batch  (None, 8, 8, 448)   1344        ['conv2d_183[0][0]']             \n",
            " Normalization)                                                                                   \n",
            "                                                                                                  \n",
            " activation_183 (Activation)    (None, 8, 8, 448)    0           ['batch_normalization_183[0][0]']\n",
            "                                                                                                  \n",
            " conv2d_180 (Conv2D)            (None, 8, 8, 384)    786432      ['mixed9[0][0]']                 \n",
            "                                                                                                  \n",
            " conv2d_184 (Conv2D)            (None, 8, 8, 384)    1548288     ['activation_183[0][0]']         \n",
            "                                                                                                  \n",
            " batch_normalization_180 (Batch  (None, 8, 8, 384)   1152        ['conv2d_180[0][0]']             \n",
            " Normalization)                                                                                   \n",
            "                                                                                                  \n",
            " batch_normalization_184 (Batch  (None, 8, 8, 384)   1152        ['conv2d_184[0][0]']             \n",
            " Normalization)                                                                                   \n",
            "                                                                                                  \n",
            " activation_180 (Activation)    (None, 8, 8, 384)    0           ['batch_normalization_180[0][0]']\n",
            "                                                                                                  \n",
            " activation_184 (Activation)    (None, 8, 8, 384)    0           ['batch_normalization_184[0][0]']\n",
            "                                                                                                  \n",
            " conv2d_181 (Conv2D)            (None, 8, 8, 384)    442368      ['activation_180[0][0]']         \n",
            "                                                                                                  \n",
            " conv2d_182 (Conv2D)            (None, 8, 8, 384)    442368      ['activation_180[0][0]']         \n",
            "                                                                                                  \n",
            " conv2d_185 (Conv2D)            (None, 8, 8, 384)    442368      ['activation_184[0][0]']         \n",
            "                                                                                                  \n",
            " conv2d_186 (Conv2D)            (None, 8, 8, 384)    442368      ['activation_184[0][0]']         \n",
            "                                                                                                  \n",
            " average_pooling2d_17 (AverageP  (None, 8, 8, 2048)  0           ['mixed9[0][0]']                 \n",
            " ooling2D)                                                                                        \n",
            "                                                                                                  \n",
            " conv2d_179 (Conv2D)            (None, 8, 8, 320)    655360      ['mixed9[0][0]']                 \n",
            "                                                                                                  \n",
            " batch_normalization_181 (Batch  (None, 8, 8, 384)   1152        ['conv2d_181[0][0]']             \n",
            " Normalization)                                                                                   \n",
            "                                                                                                  \n",
            " batch_normalization_182 (Batch  (None, 8, 8, 384)   1152        ['conv2d_182[0][0]']             \n",
            " Normalization)                                                                                   \n",
            "                                                                                                  \n",
            " batch_normalization_185 (Batch  (None, 8, 8, 384)   1152        ['conv2d_185[0][0]']             \n",
            " Normalization)                                                                                   \n",
            "                                                                                                  \n",
            " batch_normalization_186 (Batch  (None, 8, 8, 384)   1152        ['conv2d_186[0][0]']             \n",
            " Normalization)                                                                                   \n",
            "                                                                                                  \n",
            " conv2d_187 (Conv2D)            (None, 8, 8, 192)    393216      ['average_pooling2d_17[0][0]']   \n",
            "                                                                                                  \n",
            " batch_normalization_179 (Batch  (None, 8, 8, 320)   960         ['conv2d_179[0][0]']             \n",
            " Normalization)                                                                                   \n",
            "                                                                                                  \n",
            " activation_181 (Activation)    (None, 8, 8, 384)    0           ['batch_normalization_181[0][0]']\n",
            "                                                                                                  \n",
            " activation_182 (Activation)    (None, 8, 8, 384)    0           ['batch_normalization_182[0][0]']\n",
            "                                                                                                  \n",
            " activation_185 (Activation)    (None, 8, 8, 384)    0           ['batch_normalization_185[0][0]']\n",
            "                                                                                                  \n",
            " activation_186 (Activation)    (None, 8, 8, 384)    0           ['batch_normalization_186[0][0]']\n",
            "                                                                                                  \n",
            " batch_normalization_187 (Batch  (None, 8, 8, 192)   576         ['conv2d_187[0][0]']             \n",
            " Normalization)                                                                                   \n",
            "                                                                                                  \n",
            " activation_179 (Activation)    (None, 8, 8, 320)    0           ['batch_normalization_179[0][0]']\n",
            "                                                                                                  \n",
            " mixed9_1 (Concatenate)         (None, 8, 8, 768)    0           ['activation_181[0][0]',         \n",
            "                                                                  'activation_182[0][0]']         \n",
            "                                                                                                  \n",
            " concatenate_3 (Concatenate)    (None, 8, 8, 768)    0           ['activation_185[0][0]',         \n",
            "                                                                  'activation_186[0][0]']         \n",
            "                                                                                                  \n",
            " activation_187 (Activation)    (None, 8, 8, 192)    0           ['batch_normalization_187[0][0]']\n",
            "                                                                                                  \n",
            " mixed10 (Concatenate)          (None, 8, 8, 2048)   0           ['activation_179[0][0]',         \n",
            "                                                                  'mixed9_1[0][0]',               \n",
            "                                                                  'concatenate_3[0][0]',          \n",
            "                                                                  'activation_187[0][0]']         \n",
            "                                                                                                  \n",
            " sequential_1 (Sequential)      (None, 8)            526600      ['mixed10[0][0]']                \n",
            "                                                                                                  \n",
            "==================================================================================================\n",
            "Total params: 22,329,384\n",
            "Trainable params: 526,600\n",
            "Non-trainable params: 21,802,784\n",
            "__________________________________________________________________________________________________\n"
          ]
        }
      ]
    },
    {
      "cell_type": "code",
      "source": [
        "optimizer = tf.keras.optimizers.Adam(learning_rate=0.001)\n",
        "top_models_inc.compile(loss='categorical_crossentropy',optimizer=optimizer,metrics=['accuracy'])"
      ],
      "metadata": {
        "id": "wueF_ov9HE45"
      },
      "execution_count": 65,
      "outputs": []
    },
    {
      "cell_type": "code",
      "source": [
        "filepath = os.path.join(MODEL_PATH,\"distracted-inception_untrainable_best.hdf5\")\n",
        "checkpoint = ModelCheckpoint(filepath, monitor='val_accuracy', verbose=1, save_best_only=True,mode='max',period=1)\n",
        "callbacks_list = [checkpoint]"
      ],
      "metadata": {
        "id": "Oq-i42LOHHYI",
        "colab": {
          "base_uri": "https://localhost:8080/"
        },
        "outputId": "732e5621-2d00-4bd9-8f8c-3ae7557d8337"
      },
      "execution_count": 66,
      "outputs": [
        {
          "output_type": "stream",
          "name": "stderr",
          "text": [
            "WARNING:tensorflow:`period` argument is deprecated. Please use `save_freq` to specify the frequency in number of batches seen.\n"
          ]
        }
      ]
    },
    {
      "cell_type": "code",
      "source": [
        "model_history_inc = top_models_inc.fit_generator(train_data,validation_data = valid_data,epochs=NUM_EPOCH, shuffle=True,callbacks=callbacks_list, class_weight=class_weights)\n"
      ],
      "metadata": {
        "id": "5U_F7ZcRHLDF",
        "colab": {
          "base_uri": "https://localhost:8080/"
        },
        "outputId": "54da81d3-3e50-4db4-d4e1-0f3b92190100"
      },
      "execution_count": 67,
      "outputs": [
        {
          "output_type": "stream",
          "name": "stderr",
          "text": [
            "<ipython-input-67-7d869e2dc45f>:1: UserWarning: `Model.fit_generator` is deprecated and will be removed in a future version. Please use `Model.fit`, which supports generators.\n",
            "  model_history_inc = top_models_inc.fit_generator(train_data,validation_data = valid_data,epochs=NUM_EPOCH, shuffle=True,callbacks=callbacks_list, class_weight=class_weights)\n"
          ]
        },
        {
          "output_type": "stream",
          "name": "stdout",
          "text": [
            "Epoch 1/25\n",
            "160/160 [==============================] - ETA: 0s - loss: 2.0555 - accuracy: 0.1776\n",
            "Epoch 1: val_accuracy improved from -inf to 0.23345, saving model to /content/models/distracted-inception_untrainable_best.hdf5\n",
            "160/160 [==============================] - 531s 3s/step - loss: 2.0555 - accuracy: 0.1776 - val_loss: 1.9668 - val_accuracy: 0.2335\n",
            "Epoch 2/25\n",
            "160/160 [==============================] - ETA: 0s - loss: 1.9668 - accuracy: 0.2266\n",
            "Epoch 2: val_accuracy improved from 0.23345 to 0.29701, saving model to /content/models/distracted-inception_untrainable_best.hdf5\n",
            "160/160 [==============================] - 508s 3s/step - loss: 1.9668 - accuracy: 0.2266 - val_loss: 1.8918 - val_accuracy: 0.2970\n",
            "Epoch 3/25\n",
            "160/160 [==============================] - ETA: 0s - loss: 1.8862 - accuracy: 0.2592\n",
            "Epoch 3: val_accuracy did not improve from 0.29701\n",
            "160/160 [==============================] - 581s 4s/step - loss: 1.8862 - accuracy: 0.2592 - val_loss: 1.8570 - val_accuracy: 0.2733\n",
            "Epoch 4/25\n",
            "160/160 [==============================] - ETA: 0s - loss: 1.8199 - accuracy: 0.2862\n",
            "Epoch 4: val_accuracy improved from 0.29701 to 0.33626, saving model to /content/models/distracted-inception_untrainable_best.hdf5\n",
            "160/160 [==============================] - 574s 4s/step - loss: 1.8199 - accuracy: 0.2862 - val_loss: 1.7517 - val_accuracy: 0.3363\n",
            "Epoch 5/25\n",
            "160/160 [==============================] - ETA: 0s - loss: 1.7483 - accuracy: 0.3101\n",
            "Epoch 5: val_accuracy improved from 0.33626 to 0.40305, saving model to /content/models/distracted-inception_untrainable_best.hdf5\n",
            "160/160 [==============================] - 534s 3s/step - loss: 1.7483 - accuracy: 0.3101 - val_loss: 1.6435 - val_accuracy: 0.4030\n",
            "Epoch 6/25\n",
            "160/160 [==============================] - ETA: 0s - loss: 1.7043 - accuracy: 0.3258\n",
            "Epoch 6: val_accuracy improved from 0.40305 to 0.41330, saving model to /content/models/distracted-inception_untrainable_best.hdf5\n",
            "160/160 [==============================] - 520s 3s/step - loss: 1.7043 - accuracy: 0.3258 - val_loss: 1.6121 - val_accuracy: 0.4133\n",
            "Epoch 7/25\n",
            "160/160 [==============================] - ETA: 0s - loss: 1.6655 - accuracy: 0.3403\n",
            "Epoch 7: val_accuracy did not improve from 0.41330\n",
            "160/160 [==============================] - 568s 4s/step - loss: 1.6655 - accuracy: 0.3403 - val_loss: 1.5821 - val_accuracy: 0.4004\n",
            "Epoch 8/25\n",
            "160/160 [==============================] - ETA: 0s - loss: 1.6129 - accuracy: 0.3601\n",
            "Epoch 8: val_accuracy improved from 0.41330 to 0.43322, saving model to /content/models/distracted-inception_untrainable_best.hdf5\n",
            "160/160 [==============================] - 644s 4s/step - loss: 1.6129 - accuracy: 0.3601 - val_loss: 1.5569 - val_accuracy: 0.4332\n",
            "Epoch 9/25\n",
            "160/160 [==============================] - ETA: 0s - loss: 1.5876 - accuracy: 0.3690\n",
            "Epoch 9: val_accuracy improved from 0.43322 to 0.45255, saving model to /content/models/distracted-inception_untrainable_best.hdf5\n",
            "160/160 [==============================] - 655s 4s/step - loss: 1.5876 - accuracy: 0.3690 - val_loss: 1.4905 - val_accuracy: 0.4525\n",
            "Epoch 10/25\n",
            "160/160 [==============================] - ETA: 0s - loss: 1.5526 - accuracy: 0.3808\n",
            "Epoch 10: val_accuracy improved from 0.45255 to 0.45431, saving model to /content/models/distracted-inception_untrainable_best.hdf5\n",
            "160/160 [==============================] - 618s 4s/step - loss: 1.5526 - accuracy: 0.3808 - val_loss: 1.4752 - val_accuracy: 0.4543\n",
            "Epoch 11/25\n",
            "160/160 [==============================] - ETA: 0s - loss: 1.5088 - accuracy: 0.3991\n",
            "Epoch 11: val_accuracy improved from 0.45431 to 0.46895, saving model to /content/models/distracted-inception_untrainable_best.hdf5\n",
            "160/160 [==============================] - 570s 4s/step - loss: 1.5088 - accuracy: 0.3991 - val_loss: 1.4465 - val_accuracy: 0.4690\n",
            "Epoch 12/25\n",
            "160/160 [==============================] - ETA: 0s - loss: 1.4815 - accuracy: 0.4130\n",
            "Epoch 12: val_accuracy improved from 0.46895 to 0.47920, saving model to /content/models/distracted-inception_untrainable_best.hdf5\n",
            "160/160 [==============================] - 589s 4s/step - loss: 1.4815 - accuracy: 0.4130 - val_loss: 1.4353 - val_accuracy: 0.4792\n",
            "Epoch 13/25\n",
            "160/160 [==============================] - ETA: 0s - loss: 1.4550 - accuracy: 0.4178\n",
            "Epoch 13: val_accuracy improved from 0.47920 to 0.50088, saving model to /content/models/distracted-inception_untrainable_best.hdf5\n",
            "160/160 [==============================] - 598s 4s/step - loss: 1.4550 - accuracy: 0.4178 - val_loss: 1.3743 - val_accuracy: 0.5009\n",
            "Epoch 14/25\n",
            "160/160 [==============================] - ETA: 0s - loss: 1.4239 - accuracy: 0.4339\n",
            "Epoch 14: val_accuracy improved from 0.50088 to 0.55185, saving model to /content/models/distracted-inception_untrainable_best.hdf5\n",
            "160/160 [==============================] - 594s 4s/step - loss: 1.4239 - accuracy: 0.4339 - val_loss: 1.3174 - val_accuracy: 0.5518\n",
            "Epoch 15/25\n",
            "160/160 [==============================] - ETA: 0s - loss: 1.4012 - accuracy: 0.4396\n",
            "Epoch 15: val_accuracy did not improve from 0.55185\n",
            "160/160 [==============================] - 595s 4s/step - loss: 1.4012 - accuracy: 0.4396 - val_loss: 1.2910 - val_accuracy: 0.5170\n",
            "Epoch 16/25\n",
            "160/160 [==============================] - ETA: 0s - loss: 1.3702 - accuracy: 0.4558\n",
            "Epoch 16: val_accuracy did not improve from 0.55185\n",
            "160/160 [==============================] - 591s 4s/step - loss: 1.3702 - accuracy: 0.4558 - val_loss: 1.2830 - val_accuracy: 0.5413\n",
            "Epoch 17/25\n",
            "160/160 [==============================] - ETA: 0s - loss: 1.3617 - accuracy: 0.4585\n",
            "Epoch 17: val_accuracy did not improve from 0.55185\n",
            "160/160 [==============================] - 552s 3s/step - loss: 1.3617 - accuracy: 0.4585 - val_loss: 1.2977 - val_accuracy: 0.5223\n",
            "Epoch 18/25\n",
            "160/160 [==============================] - ETA: 0s - loss: 1.3285 - accuracy: 0.4716\n",
            "Epoch 18: val_accuracy improved from 0.55185 to 0.58612, saving model to /content/models/distracted-inception_untrainable_best.hdf5\n",
            "160/160 [==============================] - 571s 4s/step - loss: 1.3285 - accuracy: 0.4716 - val_loss: 1.2331 - val_accuracy: 0.5861\n",
            "Epoch 19/25\n",
            "160/160 [==============================] - ETA: 0s - loss: 1.3131 - accuracy: 0.4716\n",
            "Epoch 19: val_accuracy did not improve from 0.58612\n",
            "160/160 [==============================] - 557s 3s/step - loss: 1.3131 - accuracy: 0.4716 - val_loss: 1.2269 - val_accuracy: 0.5539\n",
            "Epoch 20/25\n",
            "160/160 [==============================] - ETA: 0s - loss: 1.2983 - accuracy: 0.4891\n",
            "Epoch 20: val_accuracy did not improve from 0.58612\n",
            "160/160 [==============================] - 606s 4s/step - loss: 1.2983 - accuracy: 0.4891 - val_loss: 1.2327 - val_accuracy: 0.5858\n",
            "Epoch 21/25\n",
            "160/160 [==============================] - ETA: 0s - loss: 1.2668 - accuracy: 0.4920\n",
            "Epoch 21: val_accuracy improved from 0.58612 to 0.59754, saving model to /content/models/distracted-inception_untrainable_best.hdf5\n",
            "160/160 [==============================] - 551s 3s/step - loss: 1.2668 - accuracy: 0.4920 - val_loss: 1.1766 - val_accuracy: 0.5975\n",
            "Epoch 22/25\n",
            "160/160 [==============================] - ETA: 0s - loss: 1.2762 - accuracy: 0.4900\n",
            "Epoch 22: val_accuracy did not improve from 0.59754\n",
            "160/160 [==============================] - 597s 4s/step - loss: 1.2762 - accuracy: 0.4900 - val_loss: 1.1947 - val_accuracy: 0.5905\n",
            "Epoch 23/25\n",
            "160/160 [==============================] - ETA: 0s - loss: 1.2477 - accuracy: 0.5025\n",
            "Epoch 23: val_accuracy improved from 0.59754 to 0.60750, saving model to /content/models/distracted-inception_untrainable_best.hdf5\n",
            "160/160 [==============================] - 653s 4s/step - loss: 1.2477 - accuracy: 0.5025 - val_loss: 1.1714 - val_accuracy: 0.6075\n",
            "Epoch 24/25\n",
            "160/160 [==============================] - ETA: 0s - loss: 1.2124 - accuracy: 0.5113\n",
            "Epoch 24: val_accuracy improved from 0.60750 to 0.61775, saving model to /content/models/distracted-inception_untrainable_best.hdf5\n",
            "160/160 [==============================] - 641s 4s/step - loss: 1.2124 - accuracy: 0.5113 - val_loss: 1.1242 - val_accuracy: 0.6178\n",
            "Epoch 25/25\n",
            "160/160 [==============================] - ETA: 0s - loss: 1.2021 - accuracy: 0.5252\n",
            "Epoch 25: val_accuracy improved from 0.61775 to 0.62009, saving model to /content/models/distracted-inception_untrainable_best.hdf5\n",
            "160/160 [==============================] - 573s 4s/step - loss: 1.2021 - accuracy: 0.5252 - val_loss: 1.1102 - val_accuracy: 0.6201\n"
          ]
        }
      ]
    },
    {
      "cell_type": "code",
      "source": [
        "fig, (ax1, ax2) = plt.subplots(2, 1, figsize=(12, 12))\n",
        "ax1.plot(model_history_inc.history['loss'], color='b', label=\"Training loss\")\n",
        "ax1.plot(model_history_inc.history['val_loss'], color='r', label=\"validation loss\")\n",
        "ax1.set_xticks(np.arange(1, 25, 1))\n",
        "ax1.set_yticks(np.arange(0, 1, 0.1))\n",
        "\n",
        "ax2.plot(model_history_inc.history['accuracy'], color='b', label=\"Training accuracy\")\n",
        "ax2.plot(model_history_inc.history['val_accuracy'], color='r',label=\"Validation accuracy\")\n",
        "ax2.set_xticks(np.arange(1, 25, 1))\n",
        "\n",
        "legend = plt.legend(loc='best', shadow=True)\n",
        "plt.tight_layout()\n",
        "plt.show()"
      ],
      "metadata": {
        "id": "IwZBhvZkU5OU",
        "colab": {
          "base_uri": "https://localhost:8080/",
          "height": 873
        },
        "outputId": "d2a8842a-83c3-4614-e3eb-63a33d4f9469"
      },
      "execution_count": 68,
      "outputs": [
        {
          "output_type": "display_data",
          "data": {
            "text/plain": [
              "<Figure size 864x864 with 2 Axes>"
            ],
            "image/png": "[encoded data removed]"
          },
          "metadata": {
            "needs_background": "light"
          }
        }
      ]
    },
    {
      "cell_type": "code",
      "source": [
        "top_models_inc.load_weights('models/distracted-inception_untrainable_best.hdf5')"
      ],
      "metadata": {
        "id": "fxUFQ_ZS5t8L"
      },
      "execution_count": 69,
      "outputs": []
    },
    {
      "cell_type": "code",
      "source": [
        "print(top_models_inc)"
      ],
      "metadata": {
        "id": "ewP8ONpLxg_l",
        "colab": {
          "base_uri": "https://localhost:8080/"
        },
        "outputId": "7f3cb1d9-3d49-44d7-cfe9-e49228931d77"
      },
      "execution_count": 70,
      "outputs": [
        {
          "output_type": "stream",
          "name": "stdout",
          "text": [
            "<keras.engine.functional.Functional object at 0x7fc0f3f50ca0>\n"
          ]
        }
      ]
    },
    {
      "cell_type": "code",
      "source": [
        "# evaluate_data = datagen.flow_from_directory(UNSEEN_DATA,\n",
        "#                                         target_size=(IMAGE_SIZE,IMAGE_SIZE),\n",
        "#                                         batch_size=BATCH_SIZE,shuffle=False)"
      ],
      "metadata": {
        "id": "deyC7z9Kxw2j"
      },
      "execution_count": 71,
      "outputs": []
    },
    {
      "cell_type": "code",
      "source": [
        "ypred = top_models_inc.predict(unseen_data)\n",
        "print(ypred)\n",
        "evaluate_list = unseen_data.classes.tolist()\n",
        "ypred_class = np.argmax(ypred,axis=1)\n",
        "print(ypred_class)\n",
        "ytest = evaluate_list"
      ],
      "metadata": {
        "id": "p9c458CCxuLW",
        "colab": {
          "base_uri": "https://localhost:8080/"
        },
        "outputId": "7920fc09-a30e-4f2f-c17b-782781611dad"
      },
      "execution_count": 72,
      "outputs": [
        {
          "output_type": "stream",
          "name": "stdout",
          "text": [
            "14/14 [==============================] - 20s 1s/step\n",
            "[[6.8183726e-01 4.8595059e-31 1.8296937e-32 ... 2.6294869e-10\n",
            "  8.7437197e-30 1.5779868e-02]\n",
            " [4.1421229e-01 1.0151789e-28 2.3632072e-29 ... 2.4439556e-10\n",
            "  1.3819440e-27 6.4757406e-03]\n",
            " [1.9503800e-02 9.0956247e-30 2.9873251e-38 ... 2.7237852e-12\n",
            "  3.3472175e-37 4.0731305e-05]\n",
            " ...\n",
            " [1.6065398e-08 0.0000000e+00 0.0000000e+00 ... 2.3795577e-19\n",
            "  0.0000000e+00 1.0000000e+00]\n",
            " [3.1933169e-07 2.8065046e-38 0.0000000e+00 ... 6.6528563e-14\n",
            "  0.0000000e+00 9.9999964e-01]\n",
            " [5.1975876e-06 0.0000000e+00 0.0000000e+00 ... 2.9538726e-11\n",
            "  0.0000000e+00 9.9999475e-01]]\n",
            "[0 3 3 7 7 7 7 7 7 3 0 0 0 0 0 0 0 0 3 0 0 0 3 3 3 0 0 3 3 3 7 3 0 0 3 0 3\n",
            " 0 3 3 3 3 3 3 3 3 3 3 7 0 0 7 7 7 7 7 7 7 7 7 0 7 7 7 7 7 7 7 7 7 7 0 7 7\n",
            " 7 7 7 7 7 7 0 0 3 0 0 7 7 7 7 7 7 7 7 3 7 7 7 7 7 7 7 7 7 7 7 7 7 7 7 7 7\n",
            " 0 7 7 7 7 7 7 7 0 7 7 7 0 7 7 7 7 7 7 7 7 7 7 7 7 7 7 7 7 7 7 7 7 0 0 0 0\n",
            " 0 0 0 0 0 0 0 0 0 0 7 0 0 0 0 0 0 0 0 0 0 0 0 0 0 0 0 0 0 0 0 0 0 7 7 7 7\n",
            " 7 7 7 7 0 7 7 7 0 0 0 0 7 0 0 0 0 0 0 0 0 0 0 0 0 0 0 0 0 0 0 0 0 0 0 7 0\n",
            " 0 0 0 0 3 3 0 0 0 0 0 0 0 7 0 0 7 7 7 7 7 7 7 7 7 0 7 7 7 7 7 7 7 7 7 7 7\n",
            " 3 7 7 7 7 7 7 7 7 7 7 7 7 7 7 7 7 0 7 7 0 7 0 0 0 0 7 7 7 7 7 7 7 7 7 7 7\n",
            " 7 0 7 7 7 7 7 7 7 7 0 7 7 7 7 7 7 7 7 7 7 7 7 7 0 0 7 0 0 0 0 0 0 0 0 0 0\n",
            " 0 7 7 7 7 7 7 7 7 7 0 0 0 0 0 7 7 0 7 7 7 7 7 0 7 7 7 7 7 0 7 7 0 0 0 7 7\n",
            " 7 7 7 7 7 7 7 7 7 7 7 7 7 7 7 7 7 7 7 7 7 7 7 7 7 7 7 7 7 7 7 7 0 7 5 7 7\n",
            " 7 7 7 7 7 7 7 7 7 7 7 7 7 7 7 7 7 7 7 7 7 7 7 7 7 7 7 7 7 7 7 7 7 5 7 7 7\n",
            " 3 7 7 7 7 7 7 7 7 0 7 7 0 7 7 7 7 7 7 7 0 0 7 7 0 7 0 7 7 7 0 0 0 7 7 0 7\n",
            " 0 7 7 0 7 7 0 7 0 0 0 0 7 7 0 7 7 7 7 0 0 7 0 0 0 0 0 0 0 0 0 0 7 0 0 7 7\n",
            " 7 7 7 7 7 7 0 0 0 7 7 7 7 7 7 7 7 7 7 7 7 7 7 7 7 7 7 7 7 7 7 7 7 7 7 7 7\n",
            " 7 7 7 7 7 7 7 3 0 3 7 7 7 7 0 0 3 0 3 7 7 7 7 7 7 7 7 0 7 7 7 7 7 7 7 7 7\n",
            " 7 7 7 7 7 7 7 7 7 7 7 7 7 7 7 7 7 7 7 7 7 7 7 3 3 0 0 0 0 3 3 0 3 3 0 0 0\n",
            " 3 0 0 0 0 7 0 7 0 3 3 0 0 0 7 7 7 7 7 7 7 7 7 0 7 0 7 7 7 7 0 7 7 7 7 7 7\n",
            " 7 7 7 7 7 7 7 7 7 7 7 7 7 7 0 0 0 0 0 0 0 0 0 0 7 7 5 7 3 3 7 7 7 7 5 5 5\n",
            " 7 7 7 5 7 0 0 5 3 0 3 3 3 3 0 0 7 7 7 7 7 7 0 0 7 7 7 7 7 0 7 7 0 0 0 7 7\n",
            " 7 7 7 7 7 7 7 7 7 7 7 7 7 7 7 7 7 7 0 0 0 0 0 0 0 0 3 3 0 0 0 0 0 0 0 0 0\n",
            " 0 0 3 3 0 3 3 3 0 0 0 0 0 0 3 3 0 0 3 3 3 0 7 7 7 7 7 7 7 7 7 7 7 7 7 7 7\n",
            " 7 7 7 7 7 7 7 7 7 7 7 7 7 7 7 7 7 7 7 7 7 7 7 7 7]\n"
          ]
        }
      ]
    },
    {
      "cell_type": "code",
      "source": [
        "accuracy = accuracy_score(ytest,ypred_class)\n",
        "print('Accuracy: %f' % accuracy)\n",
        "# precision tp / (tp + fp)\n",
        "precision = precision_score(ytest, ypred_class,average='weighted')\n",
        "print('Precision: %f' % precision)\n",
        "# recall: tp / (tp + fn)\n",
        "recall = recall_score(ytest,ypred_class,average='weighted')\n",
        "print('Recall: %f' % recall)\n",
        "# f1: 2 tp / (2 tp + fp + fn)\n",
        "f1 = f1_score(ytest,ypred_class,average='weighted')\n",
        "print('F1 score: %f' % f1)"
      ],
      "metadata": {
        "id": "hbL6rOc7yci2",
        "colab": {
          "base_uri": "https://localhost:8080/"
        },
        "outputId": "4c1b5ef5-928f-4a87-ddda-c5d527072e17"
      },
      "execution_count": 73,
      "outputs": [
        {
          "output_type": "stream",
          "name": "stdout",
          "text": [
            "Accuracy: 0.082241\n",
            "Precision: 0.027244\n",
            "Recall: 0.082241\n",
            "F1 score: 0.037979\n"
          ]
        },
        {
          "output_type": "stream",
          "name": "stderr",
          "text": [
            "/usr/local/lib/python3.9/dist-packages/sklearn/metrics/_classification.py:1344: UndefinedMetricWarning: Precision is ill-defined and being set to 0.0 in labels with no predicted samples. Use `zero_division` parameter to control this behavior.\n",
            "  _warn_prf(average, modifier, msg_start, len(result))\n"
          ]
        }
      ]
    },
    {
      "cell_type": "code",
      "source": [
        "top_models_inc.evaluate(unseen_data)"
      ],
      "metadata": {
        "id": "GWXzTMBiypI1",
        "colab": {
          "base_uri": "https://localhost:8080/"
        },
        "outputId": "b6490b2c-835e-4d61-b97f-585d9d9932cb"
      },
      "execution_count": 74,
      "outputs": [
        {
          "output_type": "stream",
          "name": "stdout",
          "text": [
            "14/14 [==============================] - 19s 1s/step - loss: 61.2587 - accuracy: 0.0822\n"
          ]
        },
        {
          "output_type": "execute_result",
          "data": {
            "text/plain": [
              "[61.25873565673828, 0.0822407603263855]"
            ]
          },
          "metadata": {},
          "execution_count": 74
        }
      ]
    },
    {
      "cell_type": "code",
      "source": [
        "def print_confusion_matrix(confusion_matrix, class_names, figsize = (10,7), fontsize=14):\n",
        "    df_cm = pd.DataFrame(\n",
        "        confusion_matrix, index=class_names, columns=class_names, \n",
        "    )\n",
        "    fig = plt.figure(figsize=figsize)\n",
        "    try:\n",
        "        heatmap = sns.heatmap(df_cm, annot=True, fmt=\"d\")\n",
        "    except ValueError:\n",
        "        raise ValueError(\"Confusion matrix values must be integers.\")\n",
        "    heatmap.yaxis.set_ticklabels(heatmap.yaxis.get_ticklabels(), rotation=0, ha='right', fontsize=fontsize)\n",
        "    heatmap.xaxis.set_ticklabels(heatmap.xaxis.get_ticklabels(), rotation=45, ha='right', fontsize=fontsize)\n",
        "    plt.ylabel('True label')\n",
        "    plt.xlabel('Predicted label')\n",
        "    fig.savefig(os.path.join(MODEL_PATH,\"confusion_matrix.png\"))\n",
        "    return fig\n",
        "def print_heatmap(n_labels, n_predictions, class_names):\n",
        "    labels = n_labels #sess.run(tf.argmax(n_labels, 1))\n",
        "    predictions = n_predictions #sess.run(tf.argmax(n_predictions, 1))\n",
        "\n",
        "#     confusion_matrix = sess.run(tf.contrib.metrics.confusion_matrix(labels, predictions))\n",
        "    matrix = confusion_matrix(labels,predictions.argmax(axis=1))\n",
        "    row_sum = np.sum(matrix, axis = 1)\n",
        "    w, h = matrix.shape\n",
        "\n",
        "    c_m = np.zeros((w, h))\n",
        "\n",
        "    for i in range(h):\n",
        "        c_m[i] = matrix[i] * 100 / row_sum[i]\n",
        "\n",
        "    c = c_m.astype(dtype = np.uint8)\n",
        "\n",
        "    \n",
        "    heatmap = print_confusion_matrix(c, class_names, figsize=(18,10), fontsize=20)"
      ],
      "metadata": {
        "id": "RC1H24sF2kbP"
      },
      "execution_count": 75,
      "outputs": []
    },
    {
      "cell_type": "code",
      "source": [
        "class_names = list()\n",
        "for name,idx in valid_data.class_indices.items():\n",
        "    class_names.append(name)\n",
        "print(class_names)"
      ],
      "metadata": {
        "id": "-ygCKpAq2mpo",
        "colab": {
          "base_uri": "https://localhost:8080/"
        },
        "outputId": "53991e01-f7c0-4636-dc05-66ec4f14f732"
      },
      "execution_count": 76,
      "outputs": [
        {
          "output_type": "stream",
          "name": "stdout",
          "text": [
            "['c0', 'c1', 'c2', 'c3', 'c4', 'c5', 'c6', 'c7']\n"
          ]
        }
      ]
    },
    {
      "cell_type": "code",
      "source": [
        "print_heatmap(ytest,ypred,class_names)"
      ],
      "metadata": {
        "id": "5Asz8vMm2te2",
        "colab": {
          "base_uri": "https://localhost:8080/",
          "height": 626
        },
        "outputId": "9587d189-e2d7-44b9-b0f0-5a474e8715e5"
      },
      "execution_count": 77,
      "outputs": [
        {
          "output_type": "display_data",
          "data": {
            "text/plain": [
              "<Figure size 1296x720 with 2 Axes>"
            ],
            "image/png": "[encoded data removed]"
          },
          "metadata": {
            "needs_background": "light"
          }
        }
      ]
    }
  ]
}